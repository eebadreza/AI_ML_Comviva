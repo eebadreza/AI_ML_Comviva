{
 "cells": [
  {
   "cell_type": "markdown",
   "id": "853dff8a",
   "metadata": {},
   "source": [
    "<h1><center>Python Activity-3</center></h1>\n",
    "<div align=\"right\">\n",
    "<span>Name : Syed Eebad Reza</span><br>\n",
    "<span>Regt : 2041018153</span>\n",
    "</div>"
   ]
  },
  {
   "cell_type": "markdown",
   "id": "92fad5da",
   "metadata": {},
   "source": [
    "## (1) BMI"
   ]
  },
  {
   "cell_type": "markdown",
   "id": "8d63f51a",
   "metadata": {},
   "source": [
    "### The objectives of this research is to explore the relation between body mass index (BMI) and prevalence of Diabetes, Hypertension and Dyslipidemia."
   ]
  },
  {
   "cell_type": "markdown",
   "id": "e8e75e32",
   "metadata": {},
   "source": [
    "### The following results were obtained from the study:\n",
    "* If the average BMI of a group of patients is between 22.0 to 25.6; the prevalence of Diabetes is found among the group.\n",
    "* If the average BMI of a group of patients is between 18.0 to 21.99; the prevalence of Hypertension is found among the group.\n",
    "* If the average BMI of a group of patients is greater than 25.6; prevalence of Dyslipidemia is found among the group."
   ]
  },
  {
   "cell_type": "code",
   "execution_count": 8,
   "id": "18190bb6",
   "metadata": {},
   "outputs": [
    {
     "name": "stdout",
     "output_type": "stream",
     "text": [
      "4\n",
      "1.5 1.75 1.63 1.71\n",
      "56 75 62 75\n",
      "Diabetes\n"
     ]
    }
   ],
   "source": [
    "from collections import Counter\n",
    "num = int(input())\n",
    "height = list(map(float,input().split()))\n",
    "weight = list(map(float,input().split()))\n",
    "assert num == len(height) and num == len(weight)\n",
    "bmi_a = []\n",
    "for h,w in zip(height, weight):\n",
    "    bmi_v = w/(h*h)\n",
    "#     print(bmi_v)\n",
    "    if bmi_v >= 18.0 and bmi_v <= 21.99:\n",
    "        bmi_a.append('Hypertension')\n",
    "    elif bmi_v >= 22.0 and bmi_v <= 25.6:\n",
    "        bmi_a.append('Diabetes')\n",
    "    elif bmi_v > 25.6:\n",
    "        bmi_a.append('Dyslipidemia')\n",
    "print(max(set(bmi_a), key=bmi_a.count))"
   ]
  },
  {
   "cell_type": "markdown",
   "id": "38e2e677",
   "metadata": {},
   "source": [
    "## (2) Series Handling"
   ]
  },
  {
   "cell_type": "markdown",
   "id": "0d55a337",
   "metadata": {},
   "source": [
    "### Finds similar words present in the string and returns the resulting string."
   ]
  },
  {
   "cell_type": "code",
   "execution_count": 32,
   "id": "9b0d2329",
   "metadata": {},
   "outputs": [
    {
     "name": "stdout",
     "output_type": "stream",
     "text": [
      "Similar words: how you? there are hello\n"
     ]
    }
   ],
   "source": [
    "def find_similar_words(str1, str2):\n",
    "    words1 = set(str1.lower().split())\n",
    "    words2 = set(str2.lower().split())\n",
    "    similar_words = set()\n",
    "    \n",
    "    for word1 in words1:\n",
    "        for word2 in words2:\n",
    "            if word1 == word2 or len(word1) == len(word2):\n",
    "                similar_words.add(word1)\n",
    "    \n",
    "    result = ' '.join(similar_words)\n",
    "    return result\n",
    "\n",
    "string1 = \"Hello there how are you?\"\n",
    "string2 = \"Hi there, I'm fine. How about you?\"\n",
    "\n",
    "result = find_similar_words(string1, string2)\n",
    "print(\"Similar words:\", result)"
   ]
  },
  {
   "cell_type": "markdown",
   "id": "fc93987a",
   "metadata": {},
   "source": [
    "## (3) Reverse_List"
   ]
  },
  {
   "cell_type": "markdown",
   "id": "b8244c88",
   "metadata": {},
   "source": [
    "### Create a function to return a new list of numbers which is shown in the sample below.\n",
    "- Sample Input: list - [1,2,3,4,5]\n",
    "- Sample Output: list - [1,2,3,4,5,4,3,2,1]"
   ]
  },
  {
   "cell_type": "code",
   "execution_count": 2,
   "id": "69ef1da6",
   "metadata": {},
   "outputs": [
    {
     "name": "stdout",
     "output_type": "stream",
     "text": [
      "Pattern : [1, 2, 3, 4, 5, 4, 3, 2, 1]\n"
     ]
    }
   ],
   "source": [
    "def make_pattern(li): \n",
    "    rev = li[:-1]\n",
    "    return li + rev[::-1] \n",
    "\n",
    "pattern = make_pattern([1,2,3,4,5])\n",
    "print(\"Pattern :\", pattern)"
   ]
  },
  {
   "cell_type": "markdown",
   "id": "0f8eee89",
   "metadata": {},
   "source": [
    "# (4) UnCommon Words"
   ]
  },
  {
   "cell_type": "markdown",
   "id": "18153a24",
   "metadata": {},
   "source": [
    "### Create a function so that when a string and list are passed as arguments, it removes words present in the list from the string and returns the resulting string."
   ]
  },
  {
   "cell_type": "code",
   "execution_count": 3,
   "id": "2d728e32",
   "metadata": {},
   "outputs": [
    {
     "name": "stdout",
     "output_type": "stream",
     "text": [
      "This is Python Programming language\n",
      "['This', 'is', 'Python']\n",
      "Result: Programming language\n"
     ]
    }
   ],
   "source": [
    "def remove_words_from_string(input_string, words_to_remove):\n",
    "    words = input_string.split()\n",
    "    filtered_words = [word for word in words if word not in words_to_remove]\n",
    "    result_string = ' '.join(filtered_words)\n",
    "    return result_string\n",
    "\n",
    "string = \"This is Python Programming language\"\n",
    "words_to_remove = [\"This\", \"is\", \"Python\"]\n",
    "\n",
    "result = remove_words_from_string(string, words_to_remove)\n",
    "print(string)\n",
    "print(words_to_remove)\n",
    "print(\"Result:\", result)"
   ]
  },
  {
   "cell_type": "markdown",
   "id": "e83d26c8",
   "metadata": {},
   "source": [
    "# (5) Get_Counts"
   ]
  },
  {
   "cell_type": "markdown",
   "id": "f17f64f8",
   "metadata": {},
   "source": [
    "### Function to return a dictionary containing count of digits, letters, uppercase and lowercase characters with type as key and count as value."
   ]
  },
  {
   "cell_type": "code",
   "execution_count": 4,
   "id": "5d14aef6",
   "metadata": {},
   "outputs": [
    {
     "name": "stdout",
     "output_type": "stream",
     "text": [
      "Counts: {'Digits': 3, 'Letters': 5, 'Uppercase': 1, 'Lowercase': 4}\n"
     ]
    }
   ],
   "source": [
    "def getCounts(input_string):\n",
    "    counts = {\n",
    "        'Digits': 0,\n",
    "        'Letters': 0,\n",
    "        'Uppercase': 0,\n",
    "        'Lowercase': 0\n",
    "    }\n",
    "\n",
    "    for char in input_string:\n",
    "        if char.isdigit():\n",
    "            counts['Digits'] += 1\n",
    "        elif char.isalpha():\n",
    "            counts['Letters'] += 1\n",
    "            if char.isupper():\n",
    "                counts['Uppercase'] += 1\n",
    "            elif char.islower():\n",
    "                counts['Lowercase'] += 1\n",
    "    return counts\n",
    "\n",
    "string = \"Hello123\"\n",
    "result = getCounts(string)\n",
    "print(\"Counts:\", result)"
   ]
  },
  {
   "cell_type": "markdown",
   "id": "85f9dbec",
   "metadata": {},
   "source": [
    "# (6) Missing_Elements"
   ]
  },
  {
   "cell_type": "markdown",
   "id": "25f839e9",
   "metadata": {},
   "source": [
    "### Identify the missing elements from a given list where N is the length of the list."
   ]
  },
  {
   "cell_type": "code",
   "execution_count": 5,
   "id": "85858b60",
   "metadata": {},
   "outputs": [
    {
     "name": "stdout",
     "output_type": "stream",
     "text": [
      "{3, 5, 6, 8}\n"
     ]
    }
   ],
   "source": [
    "def find_missing_elements(input_list):\n",
    "    N = max(input_list)\n",
    "    all_elements = set(range(1, N+1))\n",
    "    present_elements = set(input_list)\n",
    "    missing_elements = present_elements.symmetric_difference(all_elements)\n",
    "    return missing_elements\n",
    "\n",
    "input_list = [2, 1, 7, 7, 4, 9]\n",
    "print(find_missing_elements(input_list))"
   ]
  }
 ],
 "metadata": {
  "kernelspec": {
   "display_name": "Python 3 (ipykernel)",
   "language": "python",
   "name": "python3"
  },
  "language_info": {
   "codemirror_mode": {
    "name": "ipython",
    "version": 3
   },
   "file_extension": ".py",
   "mimetype": "text/x-python",
   "name": "python",
   "nbconvert_exporter": "python",
   "pygments_lexer": "ipython3",
   "version": "3.10.9"
  }
 },
 "nbformat": 4,
 "nbformat_minor": 5
}
