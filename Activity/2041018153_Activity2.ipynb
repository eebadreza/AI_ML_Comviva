{
 "cells": [
  {
   "cell_type": "markdown",
   "id": "853dff8a",
   "metadata": {},
   "source": [
    "<h1><center>Python Activity-2</center></h1>\n",
    "<div align=\"right\">\n",
    "<span>Name : Syed Eebad Reza</span><br>\n",
    "<span>Regt : 2041018153</span>\n",
    "</div>"
   ]
  },
  {
   "cell_type": "markdown",
   "id": "92fad5da",
   "metadata": {},
   "source": [
    "## (1) Number Game"
   ]
  },
  {
   "cell_type": "markdown",
   "id": "8d63f51a",
   "metadata": {},
   "source": [
    "### Consider a row of n numbers. We play a game against an opponent by alternative turns. In each turn, a player selects either the first or last number from the row. Now remove it from the row permanently and take the value. Find the maximum possible total value."
   ]
  },
  {
   "cell_type": "code",
   "execution_count": 1,
   "id": "18190bb6",
   "metadata": {},
   "outputs": [
    {
     "name": "stdout",
     "output_type": "stream",
     "text": [
      "52\n"
     ]
    }
   ],
   "source": [
    "def getMaxIL(arr):\n",
    "    value = max(arr[0], arr[-1])\n",
    "    index = 0\n",
    "    if value == arr[-1]:\n",
    "        index = -1\n",
    "    return arr.pop(index)\n",
    "\n",
    "def user(arr):\n",
    "    return getMaxIL(arr)\n",
    "    \n",
    "def opponent(arr):\n",
    "    return getMaxIL(arr)\n",
    "\n",
    "li = [1,2,3,4,21,4,2,1,25]\n",
    "length = len(li)\n",
    "u = []\n",
    "o = []\n",
    "\n",
    "while(len(li)!=0):\n",
    "    u.append(user(li))\n",
    "    if len(li) == 0:\n",
    "        break\n",
    "    o.append(opponent(li))\n",
    "\n",
    "print(max(sum(u),sum(o)))"
   ]
  },
  {
   "cell_type": "markdown",
   "id": "fc93987a",
   "metadata": {},
   "source": [
    "## (2) Coin Game"
   ]
  },
  {
   "cell_type": "markdown",
   "id": "b8244c88",
   "metadata": {},
   "source": [
    "### Raman was playing a game, he starts with x coins. Now in every step, he wins and loses and he has to get the money or pay the money as needed. He came in contact with a psychic who can see the future and the Psychic predicted the outcomes after each step. Now Raman wants to start the game with the minimum wage where he doesn’t run out of money. Help Raman to find what money he should start with. The only rule to keep playing is not going in a credit situation."
   ]
  },
  {
   "cell_type": "code",
   "execution_count": 9,
   "id": "69ef1da6",
   "metadata": {},
   "outputs": [
    {
     "name": "stdout",
     "output_type": "stream",
     "text": [
      "19\n"
     ]
    }
   ],
   "source": [
    "def sumEachStep(arr1):\n",
    "    arr2 = []\n",
    "    for el in arr1:\n",
    "        arr2.append(el + sum(arr2))\n",
    "    return arr2\n",
    "\n",
    "li = [2, -9, 15, 2, -31, 100]\n",
    "\n",
    "eachStep = sumEachStep(li)\n",
    "print(abs(min(eachStep)))"
   ]
  },
  {
   "cell_type": "markdown",
   "id": "0f8eee89",
   "metadata": {},
   "source": [
    "# (3) Mr. Robot’s Password"
   ]
  },
  {
   "cell_type": "markdown",
   "id": "18153a24",
   "metadata": {},
   "source": [
    "### Mr. Robot is making a website, in which there is a tab to create a password. As other websites, there are rules so that the password gets complex and none can predict the password for another. So he gave some rules like:\n",
    "- At least one numeric digit\n",
    "- At Least one Small/Lowercase Letter\n",
    "- At Least one Capital/Uppercase Letter\n",
    "- Must not have space\n",
    "- Must not have slash (/)\n",
    "- At least 6 characters"
   ]
  },
  {
   "cell_type": "code",
   "execution_count": 158,
   "id": "2d728e32",
   "metadata": {},
   "outputs": [
    {
     "name": "stdout",
     "output_type": "stream",
     "text": [
      "1862ijbQZX\n"
     ]
    }
   ],
   "source": [
    "import string\n",
    "import random\n",
    "\n",
    "divisionList = []\n",
    "num = ['0','1','2','3','4','5','6','7','8','9']\n",
    "alphal = list(string.ascii_lowercase)\n",
    "alphau = list(string.ascii_uppercase)\n",
    "length = random.randint(6,10)\n",
    "\n",
    "def getAlpha(li, n):\n",
    "    str = ''\n",
    "    for i in range(n):\n",
    "        str += random.choice(li)\n",
    "    return str\n",
    "\n",
    "def getNumber(n):\n",
    "    str = ''\n",
    "    for i in range(n):\n",
    "        str += random.choice(num)\n",
    "    return str\n",
    "\n",
    "def getAlphabet():\n",
    "    str = ''\n",
    "    str += getAlpha(alphal, divisionList[1])\n",
    "    str += getAlpha(alphau, divisionList[2])\n",
    "    return str\n",
    "\n",
    "def division(n):\n",
    "    n1 = random.randint(1,n-2)\n",
    "    n2 = random.randint(1,n-n1)\n",
    "    n3 = random.randint(1,n-n2)\n",
    "    if n1+n2+n3 == n:\n",
    "        divisionList.append(n1)\n",
    "        divisionList.append(n2)\n",
    "        divisionList.append(n3)\n",
    "        return\n",
    "    else:\n",
    "        division(n)\n",
    "\n",
    "def generatePassword():\n",
    "    str = ''\n",
    "    str += getNumber(divisionList[0])\n",
    "    str += getAlphabet()\n",
    "    return str\n",
    "\n",
    "division(length)\n",
    "print(generatePassword())"
   ]
  },
  {
   "cell_type": "markdown",
   "id": "e83d26c8",
   "metadata": {},
   "source": [
    "# (4) Filter E-mail"
   ]
  },
  {
   "cell_type": "markdown",
   "id": "f17f64f8",
   "metadata": {},
   "source": [
    "### The principal has a problem with repetitions. Every time someone sends the same email twice he becomes angry and starts yelling. His personal assistant filters the mails so that all the unique mails are sent only once, and if there is someone sending the same mail again and again, he deletes them. Write a program which will see the list of roll numbers of the student and find  how many emails are to be deleted."
   ]
  },
  {
   "cell_type": "code",
   "execution_count": 161,
   "id": "5d14aef6",
   "metadata": {},
   "outputs": [
    {
     "name": "stdout",
     "output_type": "stream",
     "text": [
      "Number of emails to be deleted: 3\n"
     ]
    }
   ],
   "source": [
    "def count_deleted_emails(emails):\n",
    "    unique_emails = set()\n",
    "    duplicate_emails = set()\n",
    "    count = 0\n",
    "    for email in emails:\n",
    "        if email in unique_emails:\n",
    "            duplicate_emails.add(email)\n",
    "        else:\n",
    "            unique_emails.add(email)\n",
    "\n",
    "    count = len(duplicate_emails)\n",
    "    return count\n",
    "\n",
    "\n",
    "roll_numbers = [1, 1, 2, 3, 3, 4, 5, 6, 7, 7, 10]\n",
    "deleted_emails = count_deleted_emails(roll_numbers)\n",
    "\n",
    "print(f\"Number of emails to be deleted: {deleted_emails}\")"
   ]
  },
  {
   "cell_type": "markdown",
   "id": "85f9dbec",
   "metadata": {},
   "source": [
    "# (5) Palindrome Destroyer"
   ]
  },
  {
   "cell_type": "markdown",
   "id": "25f839e9",
   "metadata": {},
   "source": [
    "### John asked for a puzzle from one of his friends. He has given a string and he hato decode the given string according to the set of rules : \n",
    "- Reverse each word of the space-separated string.\n",
    "- Eliminate palindrome word.\n",
    "### Palindrome words are those words that can be read the same from either side. For example – “aba” is the same as the reverse of “aba”; Therefore, it is a palindrome.\n",
    "### Input Format\n",
    "- First line contains the value of N, no. of queries(String).\n",
    "- Next N lines contains string."
   ]
  },
  {
   "cell_type": "code",
   "execution_count": 172,
   "id": "85858b60",
   "metadata": {},
   "outputs": [
    {
     "name": "stdout",
     "output_type": "stream",
     "text": [
      "Enter the number of queries: 1\n",
      "Enter the string: racecar level kayak \n",
      "Decoded string: \n"
     ]
    }
   ],
   "source": [
    "def reverse_words_and_eliminate_palindromes(string):\n",
    "    words = string.split()  \n",
    "    decoded_words = [word[::-1] for word in words if word != word[::-1]]\n",
    "    decoded_string = \" \".join(decoded_words)\n",
    "    return decoded_string\n",
    "\n",
    "N = int(input(\"Enter the number of queries: \"))\n",
    "\n",
    "for _ in range(N):\n",
    "    string = input(\"Enter the string: \")\n",
    "    decoded_string = reverse_words_and_eliminate_palindromes(string)\n",
    "    print(\"Decoded string:\", decoded_string)\n",
    "    \n",
    "# Enter the number of queries: 1\n",
    "# Enter the string: racecar level kayak python language\n",
    "# Decoded string: nohtyp egaugnal"
   ]
  },
  {
   "cell_type": "markdown",
   "id": "1bf3491a",
   "metadata": {},
   "source": [
    "# (6) Valid List"
   ]
  },
  {
   "cell_type": "markdown",
   "id": "65879d08",
   "metadata": {},
   "source": [
    "### Henry has to designing a coding problem for a placement drive. But the problem is that he is not good at coding rather he is a good problem analyzer. Analyze the problem and write a code for the same.\n",
    "### Problem Statement : You are given a list of natural numbers and a number k. A valid list has the following properties. \n",
    "- It only contains value < k.\n",
    "- It only contains values whose adjacent digit difference is 0, 1, or -1."
   ]
  },
  {
   "cell_type": "code",
   "execution_count": 167,
   "id": "a17a0ae6",
   "metadata": {},
   "outputs": [
    {
     "name": "stdout",
     "output_type": "stream",
     "text": [
      "The list is valid.\n"
     ]
    }
   ],
   "source": [
    "def is_valid_list(lst, k):\n",
    "    for num in lst:\n",
    "        if num >= k:\n",
    "            return False\n",
    "    for i in range(1, len(lst)):\n",
    "        if abs(lst[i] - lst[i-1]) > 1:\n",
    "            return False\n",
    "\n",
    "    return True\n",
    "\n",
    "numbers = [1, 2, 3, 3, 2, 1]\n",
    "k = 4\n",
    "valid = is_valid_list(numbers, k)\n",
    "\n",
    "if valid:\n",
    "    print(\"The list is valid.\")\n",
    "else:\n",
    "    print(\"The list is not valid.\")"
   ]
  },
  {
   "cell_type": "markdown",
   "id": "07093a40",
   "metadata": {},
   "source": [
    "# (7) Missed it"
   ]
  },
  {
   "cell_type": "markdown",
   "id": "9cf91356",
   "metadata": {},
   "source": [
    "### Identify the missing elements from a given list where N is the length of the list."
   ]
  },
  {
   "cell_type": "code",
   "execution_count": 160,
   "id": "562c1357",
   "metadata": {},
   "outputs": [
    {
     "name": "stdout",
     "output_type": "stream",
     "text": [
      "{3, 5, 6, 8}\n"
     ]
    }
   ],
   "source": [
    "def find_missing_elements(input_list):\n",
    "    N = max(input_list)\n",
    "    all_elements = set(range(1, N+1))\n",
    "    present_elements = set(input_list)\n",
    "    missing_elements = present_elements.symmetric_difference(all_elements)\n",
    "    return missing_elements\n",
    "\n",
    "input_list = [2, 1, 7, 7, 4, 9]\n",
    "print(find_missing_elements(input_list))"
   ]
  },
  {
   "cell_type": "markdown",
   "id": "e082838f",
   "metadata": {},
   "source": [
    "# (8) Histogram"
   ]
  },
  {
   "cell_type": "markdown",
   "id": "478f06aa",
   "metadata": {},
   "source": [
    "### Write a Python function histogram(ls) that takes as input a list of integers with repetitions and returns a list of pairs as follows:\n",
    "- for each number n that appears in ls, there should be exactly one pair (n,r) in the list returned by the function, where r is is the number of repetitions of n in ls.\n",
    "- the final list should be sorted in ascending order by r, the number of repetitions. For numbers that occur with the same number of repetitions, arrange the pairs in ascending order of the value of the number."
   ]
  },
  {
   "cell_type": "code",
   "execution_count": 162,
   "id": "d187031f",
   "metadata": {},
   "outputs": [
    {
     "name": "stdout",
     "output_type": "stream",
     "text": [
      "[(1, 1), (3, 2), (2, 3), (4, 4)]\n"
     ]
    }
   ],
   "source": [
    "def histogram(ls):\n",
    "    frequency = {}\n",
    "    for num in ls:\n",
    "        if num in frequency:\n",
    "            frequency[num] += 1\n",
    "        else:\n",
    "            frequency[num] = 1\n",
    "    pairs = [(num, repetitions) for num, repetitions in frequency.items()]\n",
    "    pairs.sort(key=lambda x: (x[1], x[0]))\n",
    "    return pairs\n",
    "\n",
    "numbers = [4, 2, 3, 4, 1, 2, 3, 4, 4, 2]\n",
    "result = histogram(numbers)\n",
    "print(result)"
   ]
  }
 ],
 "metadata": {
  "kernelspec": {
   "display_name": "Python 3 (ipykernel)",
   "language": "python",
   "name": "python3"
  },
  "language_info": {
   "codemirror_mode": {
    "name": "ipython",
    "version": 3
   },
   "file_extension": ".py",
   "mimetype": "text/x-python",
   "name": "python",
   "nbconvert_exporter": "python",
   "pygments_lexer": "ipython3",
   "version": "3.10.9"
  }
 },
 "nbformat": 4,
 "nbformat_minor": 5
}
