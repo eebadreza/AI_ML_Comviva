{
 "cells": [
  {
   "cell_type": "markdown",
   "id": "bf5374ea",
   "metadata": {},
   "source": [
    "## Problem Statement"
   ]
  },
  {
   "cell_type": "markdown",
   "id": "1f3dc418",
   "metadata": {},
   "source": [
    "A retail company wants to understand the customer purchase behaviour (specifically, purchase amount) against various products of different categories. They have shared purchase summary of various customers for selected high volume products from last month.\n",
    "The data set also contains customer demographics (age, gender, marital status, city_type, stay_in_current_city), product details (product_id and product category) and Total purchase_amount from last month.\n",
    "\n",
    "Now, they want to build a model to predict the purchase amount of customer against various products which will help them to create personalized offer for customers against different products."
   ]
  },
  {
   "cell_type": "markdown",
   "id": "37295a52",
   "metadata": {},
   "source": [
    "## Data Acquisition\n",
    "\n",
    "- User_ID\tUser ID\n",
    "- Product_ID\tProduct ID\n",
    "- Gender\tSex of User\n",
    "- Age\tAge in bins\n",
    "- Occupation\tOccupation (Masked)\n",
    "- City_Category\tCategory of the City (A,B,C)\n",
    "- Stay_In_Current_City_Years\tNumber of years stay in current city\n",
    "- Marital_Status\tMarital Status\n",
    "- Product_Category_1\tProduct Category (Masked)\n",
    "- Product_Category_2\tProduct may belongs to other category also (Masked)\n",
    "- Product_Category_3\tProduct may belongs to other category also (Masked)\n",
    "- Purchase\tPurchase Amount (Target Variable)"
   ]
  },
  {
   "cell_type": "markdown",
   "id": "50c1a7f3",
   "metadata": {},
   "source": [
    "## Importing Libraries and Loading Data"
   ]
  },
  {
   "cell_type": "code",
   "execution_count": null,
   "id": "0ec915de",
   "metadata": {},
   "outputs": [],
   "source": [
    "#Loading Packages\n",
    "import pandas as pd \n",
    "import numpy as np \n",
    "from sklearn.preprocessing import LabelEncoder\n",
    "\n",
    "import seaborn as sns                 \n",
    "import matplotlib.pyplot as plt       \n",
    "%matplotlib inline \n",
    "import plotly.express as px\n",
    "\n",
    "import warnings  \n",
    "warnings.filterwarnings(\"ignore\")"
   ]
  },
  {
   "cell_type": "code",
   "execution_count": null,
   "id": "52c4bb6e",
   "metadata": {},
   "outputs": [],
   "source": [
    "data1 = pd.read_csv('user_demographics.csv')\n",
    "data2 = pd.read_csv('User_product_purchase_details_p2.csv')\n",
    "data = data1.merge(data2, left_on = 'User_ID', right_on = 'User_ID')"
   ]
  },
  {
   "cell_type": "markdown",
   "id": "dbaba98f",
   "metadata": {},
   "source": [
    "## Descriptive Analysis"
   ]
  },
  {
   "cell_type": "code",
   "execution_count": null,
   "id": "7341a7f0",
   "metadata": {},
   "outputs": [],
   "source": [
    "data.head(5)"
   ]
  },
  {
   "cell_type": "code",
   "execution_count": null,
   "id": "ff9fea82",
   "metadata": {},
   "outputs": [],
   "source": [
    "#Checking The Dimension Of the DataSet\n",
    "data.shape"
   ]
  },
  {
   "cell_type": "code",
   "execution_count": null,
   "id": "ebdb8118",
   "metadata": {},
   "outputs": [],
   "source": [
    "#Columns Present in the DataSet\n",
    "data.columns"
   ]
  },
  {
   "cell_type": "markdown",
   "id": "a96f653b",
   "metadata": {},
   "source": [
    "#### Unique elements in each attributes"
   ]
  },
  {
   "cell_type": "code",
   "execution_count": null,
   "id": "466ffa08",
   "metadata": {},
   "outputs": [],
   "source": [
    "data.nunique()"
   ]
  },
  {
   "cell_type": "markdown",
   "id": "5037d11b",
   "metadata": {},
   "source": [
    "#### Frequency & Relative Frequency for Each Column"
   ]
  },
  {
   "cell_type": "code",
   "execution_count": null,
   "id": "30555554",
   "metadata": {},
   "outputs": [],
   "source": [
    "data['Gender'].value_counts()"
   ]
  },
  {
   "cell_type": "code",
   "execution_count": null,
   "id": "828dc4a8",
   "metadata": {},
   "outputs": [],
   "source": [
    "data['Gender'].value_counts(normalize=True)"
   ]
  },
  {
   "cell_type": "code",
   "execution_count": null,
   "id": "4b155a03",
   "metadata": {},
   "outputs": [],
   "source": [
    "data['Age'].value_counts()"
   ]
  },
  {
   "cell_type": "code",
   "execution_count": null,
   "id": "e5af11c8",
   "metadata": {},
   "outputs": [],
   "source": [
    "data['Age'].value_counts(normalize=True)"
   ]
  },
  {
   "cell_type": "code",
   "execution_count": null,
   "id": "995c8e83",
   "metadata": {},
   "outputs": [],
   "source": [
    "data['Occupation'].value_counts()"
   ]
  },
  {
   "cell_type": "code",
   "execution_count": null,
   "id": "7918e262",
   "metadata": {},
   "outputs": [],
   "source": [
    "data['Occupation'].value_counts(normalize=True)"
   ]
  },
  {
   "cell_type": "code",
   "execution_count": null,
   "id": "d61a4889",
   "metadata": {},
   "outputs": [],
   "source": [
    "data['City_Category'].value_counts()"
   ]
  },
  {
   "cell_type": "code",
   "execution_count": null,
   "id": "5ccf4ef6",
   "metadata": {},
   "outputs": [],
   "source": [
    "data['City_Category'].value_counts(normalize=True)"
   ]
  },
  {
   "cell_type": "code",
   "execution_count": null,
   "id": "314ef3b6",
   "metadata": {},
   "outputs": [],
   "source": [
    "data['Stay_In_Current_City_Years'].value_counts()"
   ]
  },
  {
   "cell_type": "code",
   "execution_count": null,
   "id": "ec77ce3c",
   "metadata": {},
   "outputs": [],
   "source": [
    "data['Stay_In_Current_City_Years'].value_counts(normalize=True)"
   ]
  },
  {
   "cell_type": "code",
   "execution_count": null,
   "id": "dfede1f6",
   "metadata": {},
   "outputs": [],
   "source": [
    "data['Marital_Status'].value_counts()"
   ]
  },
  {
   "cell_type": "code",
   "execution_count": null,
   "id": "95ac570c",
   "metadata": {},
   "outputs": [],
   "source": [
    "data['Marital_Status'].value_counts(normalize=True)"
   ]
  },
  {
   "cell_type": "code",
   "execution_count": null,
   "id": "591c058a",
   "metadata": {},
   "outputs": [],
   "source": [
    "data.info()"
   ]
  },
  {
   "cell_type": "code",
   "execution_count": null,
   "id": "68c68e30",
   "metadata": {},
   "outputs": [],
   "source": [
    "data.dtypes"
   ]
  },
  {
   "cell_type": "markdown",
   "id": "9106ee35",
   "metadata": {},
   "source": [
    "#### Summary Of Numeric Data"
   ]
  },
  {
   "cell_type": "code",
   "execution_count": null,
   "id": "e860222a",
   "metadata": {},
   "outputs": [],
   "source": [
    "data.describe()"
   ]
  },
  {
   "cell_type": "markdown",
   "id": "969ae36b",
   "metadata": {},
   "source": [
    "#### Summary Of Object Data"
   ]
  },
  {
   "cell_type": "code",
   "execution_count": null,
   "id": "1f3f12e7",
   "metadata": {},
   "outputs": [],
   "source": [
    "data.describe(include=\"object\")"
   ]
  },
  {
   "cell_type": "markdown",
   "id": "5d9022c3",
   "metadata": {},
   "source": [
    "#### Identifying The Duplicate Data"
   ]
  },
  {
   "cell_type": "code",
   "execution_count": null,
   "id": "82713990",
   "metadata": {},
   "outputs": [],
   "source": [
    "# Identify duplicate data\n",
    "data[data.duplicated()].sum()"
   ]
  },
  {
   "cell_type": "markdown",
   "id": "45994fb3",
   "metadata": {},
   "source": [
    "#### Identifying the Missing Column Under Each Column"
   ]
  },
  {
   "cell_type": "code",
   "execution_count": null,
   "id": "52cc32f9",
   "metadata": {},
   "outputs": [],
   "source": [
    "data.isnull().sum()"
   ]
  },
  {
   "cell_type": "code",
   "execution_count": null,
   "id": "f7d572ef",
   "metadata": {},
   "outputs": [],
   "source": [
    "# Total missing values\n",
    "data.isnull().sum().sum()"
   ]
  },
  {
   "cell_type": "markdown",
   "id": "5bf05180",
   "metadata": {},
   "source": [
    "#### Percentage Of Missing Value in Each Column"
   ]
  },
  {
   "cell_type": "code",
   "execution_count": null,
   "id": "70f5a1e5",
   "metadata": {},
   "outputs": [],
   "source": [
    "def missing_data(data):\n",
    "    total = data.isnull().sum().sort_values(ascending = False)\n",
    "    percent = (data.isnull().sum()/data.isnull().count()*100).sort_values(ascending = False)\n",
    "    return pd.concat([total, percent], axis=1, keys=['Total', 'Percent'])\n",
    "missing_data(data)"
   ]
  },
  {
   "cell_type": "code",
   "execution_count": null,
   "id": "a51d68a6",
   "metadata": {},
   "outputs": [],
   "source": [
    "data.hist(figsize=(8,8))\n",
    "plt.show()"
   ]
  },
  {
   "cell_type": "markdown",
   "id": "5d8ebe43",
   "metadata": {},
   "source": [
    "## Exploratory Data Analysis(EDA)"
   ]
  },
  {
   "cell_type": "code",
   "execution_count": null,
   "id": "32f6f44e",
   "metadata": {},
   "outputs": [],
   "source": [
    "sns.distplot(data[\"Purchase\"],color='b')\n",
    "plt.title(\"Purchase Distribution\")\n",
    "plt.xlabel('Purchase Amount')\n",
    "plt.ylabel('Number of People')\n",
    "plt.show()"
   ]
  },
  {
   "cell_type": "markdown",
   "id": "04eb6369",
   "metadata": {},
   "source": [
    "We can observe that purchase amount is repeating for many customers.This may be because on Black Friday many are buying discounted products in large numbers and kind of follows a Gaussian Distribution."
   ]
  },
  {
   "cell_type": "code",
   "execution_count": null,
   "id": "91da53ab",
   "metadata": {},
   "outputs": [],
   "source": [
    "sns.boxplot(data[\"Purchase\"])\n",
    "plt.title(\"Boxplot of Purchase\")\n",
    "plt.show()"
   ]
  },
  {
   "cell_type": "code",
   "execution_count": null,
   "id": "a8c60e95",
   "metadata": {},
   "outputs": [],
   "source": [
    "data[\"Purchase\"].describe()"
   ]
  },
  {
   "cell_type": "code",
   "execution_count": null,
   "id": "db63ca4a",
   "metadata": {},
   "outputs": [],
   "source": [
    "data[\"Purchase\"].skew()"
   ]
  },
  {
   "cell_type": "code",
   "execution_count": null,
   "id": "a0d01a91",
   "metadata": {},
   "outputs": [],
   "source": [
    "data[\"Purchase\"].kurtosis()"
   ]
  },
  {
   "cell_type": "markdown",
   "id": "5ba1f78f",
   "metadata": {},
   "source": [
    "The purchase is right skewed and we can observe multiple peaks in the distribution we can do a log transformation for the purchase."
   ]
  },
  {
   "cell_type": "code",
   "execution_count": null,
   "id": "8291ca9e",
   "metadata": {},
   "outputs": [],
   "source": [
    "fig=px.histogram(data,x='Purchase')\n",
    "fig.show()"
   ]
  },
  {
   "cell_type": "code",
   "execution_count": null,
   "id": "b015f16b",
   "metadata": {},
   "outputs": [],
   "source": [
    "# Remove the outliers\n",
    "# IQR=Q3-Q1\n",
    "Q1=np.quantile(data['Purchase'],0.25)\n",
    "Q3=np.quantile(data['Purchase'],0.75)\n",
    "IQR=Q3-Q1\n",
    "\n",
    "UB=Q3+3*IQR\n",
    "LB=Q1-3*IQR\n",
    "\n",
    "print(Q1,Q3,LB,UB)\n",
    "\n",
    "outliers=data[(data['Purchase']<=LB) | (data['Purchase']>=UB)]\n",
    "print(len(outliers))"
   ]
  },
  {
   "cell_type": "markdown",
   "id": "bdaebfdf",
   "metadata": {},
   "source": [
    "## Gender"
   ]
  },
  {
   "cell_type": "code",
   "execution_count": null,
   "id": "b9bfa638",
   "metadata": {},
   "outputs": [],
   "source": [
    "sns.countplot(x ='Gender', data = data)\n",
    "plt.ylabel('Number Of Purchase')"
   ]
  },
  {
   "cell_type": "code",
   "execution_count": null,
   "id": "23e5d25c",
   "metadata": {},
   "outputs": [],
   "source": [
    "data.groupby(\"Gender\").mean()[\"Purchase\"].plot(kind='bar')\n",
    "plt.title(\"Gender and Purchase Analysis\")\n",
    "plt.ylabel('Purchase Amount')\n",
    "plt.show()"
   ]
  },
  {
   "cell_type": "markdown",
   "id": "c983c53b",
   "metadata": {},
   "source": [
    "On average the male gender spends more money on purchase contrary to female, and it is possible to also observe this trend by adding the total value of purchase."
   ]
  },
  {
   "cell_type": "markdown",
   "id": "236c5f63",
   "metadata": {},
   "source": [
    "## Occupation"
   ]
  },
  {
   "cell_type": "code",
   "execution_count": null,
   "id": "03ff5318",
   "metadata": {},
   "outputs": [],
   "source": [
    "sns.countplot(x ='Occupation', data = data)\n",
    "plt.ylabel('Number Of Purchase')"
   ]
  },
  {
   "cell_type": "code",
   "execution_count": null,
   "id": "dfab7d2e",
   "metadata": {},
   "outputs": [],
   "source": [
    "data.groupby(\"Occupation\").mean()[\"Purchase\"].plot(kind='bar')\n",
    "plt.title(\"Occupation and Purchase Analysis\")\n",
    "plt.ylabel('Purchase Amount')\n",
    "plt.show()"
   ]
  },
  {
   "cell_type": "markdown",
   "id": "1f5c224c",
   "metadata": {},
   "source": [
    "Although there are some occupations which have higher representations, it seems that the amount each user spends on average is more or less the same for all occupations. Of course, in the end, occupations with the highest representations will have the highest amounts of purchases."
   ]
  },
  {
   "cell_type": "markdown",
   "id": "1b404bbc",
   "metadata": {},
   "source": [
    "## Age"
   ]
  },
  {
   "cell_type": "code",
   "execution_count": null,
   "id": "0bf1bf7a",
   "metadata": {},
   "outputs": [],
   "source": [
    "sns.countplot(x ='Age', data = data)\n",
    "plt.ylabel('Number Of Purchase')"
   ]
  },
  {
   "cell_type": "markdown",
   "id": "f14e68d0",
   "metadata": {},
   "source": [
    "Age 26-35 Age group makes the most no of purchases in the age group."
   ]
  },
  {
   "cell_type": "code",
   "execution_count": null,
   "id": "132d762c",
   "metadata": {},
   "outputs": [],
   "source": [
    "data.groupby(\"Age\").mean()[\"Purchase\"].plot(kind='bar')\n",
    "plt.title(\"Age and Purchase Analysis\")\n",
    "plt.ylabel('Purchase Amount')\n",
    "plt.show()"
   ]
  },
  {
   "cell_type": "markdown",
   "id": "23324ea8",
   "metadata": {},
   "source": [
    "Mean puchase rate between the age groups tends to be the same except that the 51-55 age group has a little higher average purchase amount"
   ]
  },
  {
   "cell_type": "markdown",
   "id": "6c1c03f7",
   "metadata": {},
   "source": [
    "## City_Category"
   ]
  },
  {
   "cell_type": "code",
   "execution_count": null,
   "id": "16c3b3f4",
   "metadata": {},
   "outputs": [],
   "source": [
    "sns.countplot(x ='City_Category', data = data)\n",
    "plt.ylabel('Number Of Purchase')"
   ]
  },
  {
   "cell_type": "markdown",
   "id": "1918e765",
   "metadata": {},
   "source": [
    "Type B Category has the Maximum Number of purchases"
   ]
  },
  {
   "cell_type": "code",
   "execution_count": null,
   "id": "15582b34",
   "metadata": {},
   "outputs": [],
   "source": [
    "data.groupby(\"City_Category\").mean()[\"Purchase\"].plot(kind='bar')\n",
    "plt.title(\"City Category and Purchase Analysis\")\n",
    "plt.ylabel('Purchase Amount')\n",
    "plt.show()"
   ]
  },
  {
   "cell_type": "markdown",
   "id": "684b4fa1",
   "metadata": {},
   "source": [
    "However,Type C Category Spends the Most "
   ]
  },
  {
   "cell_type": "markdown",
   "id": "a9e770eb",
   "metadata": {},
   "source": [
    "## Stay_In_Current_City_Years"
   ]
  },
  {
   "cell_type": "code",
   "execution_count": null,
   "id": "6d7b4b18",
   "metadata": {},
   "outputs": [],
   "source": [
    "sns.countplot(x ='Stay_In_Current_City_Years', data = data)"
   ]
  },
  {
   "cell_type": "markdown",
   "id": "c6457a17",
   "metadata": {},
   "source": [
    "It looks like the longest someone is living in that city the less prone they are to buy new things. Hence, if someone is new in town and needs a great number of new things for their house that they’ll take advantage of the low prices in Black Friday to purchase all the things needed"
   ]
  },
  {
   "cell_type": "code",
   "execution_count": null,
   "id": "421845d8",
   "metadata": {},
   "outputs": [],
   "source": [
    "data.groupby(\"Stay_In_Current_City_Years\").mean()[\"Purchase\"].plot(kind='bar')\n",
    "plt.title(\"Stay_In_Current_City_Years and Purchase Analysis\")\n",
    "plt.show()"
   ]
  },
  {
   "cell_type": "markdown",
   "id": "557e70bd",
   "metadata": {},
   "source": [
    "We see the same pattern seen before which show that on average people tend to spend the same amount on purchases regardeless of their group. People who are new in city are responsible for the higher number of purchase, however looking at it individually they tend to spend the same amount independently of how many years the have lived in their current city."
   ]
  },
  {
   "cell_type": "code",
   "execution_count": null,
   "id": "470010ca",
   "metadata": {},
   "outputs": [],
   "source": [
    "sns.countplot(x ='Marital_Status', data = data)"
   ]
  },
  {
   "cell_type": "code",
   "execution_count": null,
   "id": "b8c51628",
   "metadata": {},
   "outputs": [],
   "source": [
    "data.groupby(\"Marital_Status\").mean()[\"Purchase\"].plot(kind='bar')\n",
    "plt.title(\"Marital_Status and Purchase Analysis\")\n",
    "plt.show()"
   ]
  },
  {
   "cell_type": "markdown",
   "id": "190483e0",
   "metadata": {},
   "source": [
    "Purchasers who married or not, have almost same average of purchase."
   ]
  },
  {
   "cell_type": "markdown",
   "id": "d72b215f",
   "metadata": {},
   "source": [
    "## Product_Category_1"
   ]
  },
  {
   "cell_type": "code",
   "execution_count": null,
   "id": "20a6d6e0",
   "metadata": {},
   "outputs": [],
   "source": [
    "sns.countplot(x ='Product_Category_1', data = data)"
   ]
  },
  {
   "cell_type": "markdown",
   "id": "269a0d38",
   "metadata": {},
   "source": [
    "It is clear that Product_Category_1 numbers 1,5 and 8 stand out. Unfortunately we don't know which product each number represents as it is masked."
   ]
  },
  {
   "cell_type": "code",
   "execution_count": null,
   "id": "e781e5d0",
   "metadata": {},
   "outputs": [],
   "source": [
    "data.groupby('Product_Category_1').mean()['Purchase'].plot(kind='bar',figsize=(18,5))\n",
    "plt.title(\"Product_Category_1 and Purchase Mean Analysis\")\n",
    "plt.show()"
   ]
  },
  {
   "cell_type": "markdown",
   "id": "b807e1dd",
   "metadata": {},
   "source": [
    "If you see the value spent on average for Product_Category_1 you see that although there were more products bought for categories 1,5,8 the average amount spent for those three is not the highest. It is interesting to see other categories appearing with high purchase values despite having low impact on sales number."
   ]
  },
  {
   "cell_type": "markdown",
   "id": "95e7a815",
   "metadata": {},
   "source": [
    "## Product_Category_2"
   ]
  },
  {
   "cell_type": "code",
   "execution_count": null,
   "id": "ff69835d",
   "metadata": {},
   "outputs": [],
   "source": [
    "sns.countplot(x ='Product_Category_2', data = data)"
   ]
  },
  {
   "cell_type": "markdown",
   "id": "7cda48af",
   "metadata": {},
   "source": [
    "It is clear that Product_Category_2 numbers 2.0,8.0 and 14.0 stand out. Unfortunately we don't know which product each number represents as it is masked"
   ]
  },
  {
   "cell_type": "code",
   "execution_count": null,
   "id": "a4b91798",
   "metadata": {},
   "outputs": [],
   "source": [
    "data.groupby('Product_Category_2').mean()['Purchase'].plot(kind='bar',figsize=(18,5))\n",
    "plt.title(\"Product_Category_2 and Purchase Mean Analysis\")\n",
    "plt.show()"
   ]
  },
  {
   "cell_type": "code",
   "execution_count": null,
   "id": "a2e6b9f2",
   "metadata": {},
   "outputs": [],
   "source": [
    "sns.countplot(x ='Product_Category_3', data = data)"
   ]
  },
  {
   "cell_type": "markdown",
   "id": "0f58c809",
   "metadata": {},
   "source": [
    "It is clear that Product_Category_2 numbers 15.0 and 16.0 stand out. Unfortunately we don't know which product each number represents as it is masked"
   ]
  },
  {
   "cell_type": "code",
   "execution_count": null,
   "id": "ac6679fe",
   "metadata": {},
   "outputs": [],
   "source": [
    "data.groupby('Product_Category_3').mean()['Purchase'].plot(kind='bar',figsize=(18,5))\n",
    "plt.title(\"Product_Category_3 and Purchase Mean Analysis\")\n",
    "plt.show()"
   ]
  },
  {
   "cell_type": "code",
   "execution_count": null,
   "id": "d698a74c",
   "metadata": {},
   "outputs": [],
   "source": [
    "#Occupations and City Category\n",
    "\n",
    "plt.figure(figsize=(15,5))\n",
    "sns.countplot(x='Occupation',data=data,hue='City_Category')\n",
    "plt.title('Comparing Occupations and City Category')\n",
    "plt.show()"
   ]
  },
  {
   "cell_type": "markdown",
   "id": "426e5b52",
   "metadata": {},
   "source": [
    "People from Occupation 4,0,7 are buying the most and most of the people from these occupations belong to City_Category B."
   ]
  },
  {
   "cell_type": "markdown",
   "id": "d4a5c32d",
   "metadata": {},
   "source": [
    "### Relation Between the Different Attributes of the Data"
   ]
  },
  {
   "cell_type": "code",
   "execution_count": null,
   "id": "1ed76c6a",
   "metadata": {},
   "outputs": [],
   "source": [
    "data.corr()"
   ]
  },
  {
   "cell_type": "markdown",
   "id": "efd7d3cf",
   "metadata": {},
   "source": [
    "### HeatMap"
   ]
  },
  {
   "cell_type": "code",
   "execution_count": null,
   "id": "1270e55b",
   "metadata": {},
   "outputs": [],
   "source": [
    "sns.heatmap(data.corr(),annot=True)\n",
    "plt.show()"
   ]
  },
  {
   "cell_type": "markdown",
   "id": "5526839f",
   "metadata": {},
   "source": [
    "From the correlation heatmap, we can observe that the dependent feature 'Purchase' is highly correlated with 'Product_Category_1' and 'Product_Category_2'."
   ]
  },
  {
   "cell_type": "code",
   "execution_count": null,
   "id": "53dc719b",
   "metadata": {},
   "outputs": [],
   "source": [
    "df = data.copy()"
   ]
  },
  {
   "cell_type": "markdown",
   "id": "37659ff2",
   "metadata": {},
   "source": [
    "## Data Pre Processing"
   ]
  },
  {
   "cell_type": "markdown",
   "id": "8762ae3e",
   "metadata": {},
   "source": [
    "### Discrepancies / Inconsistencies in data\n",
    "#### Replacing '+' in 'Age' and 'Stay_In_Current_City_Years'"
   ]
  },
  {
   "cell_type": "code",
   "execution_count": null,
   "id": "03fb309d",
   "metadata": {},
   "outputs": [],
   "source": [
    "df['Stay_In_Current_City_Years'] = df['Stay_In_Current_City_Years'].replace(to_replace=\"4+\",value=\"5\")"
   ]
  },
  {
   "cell_type": "code",
   "execution_count": null,
   "id": "e2807cfa",
   "metadata": {},
   "outputs": [],
   "source": [
    "df['Age'] = df['Age'].replace(to_replace='55+',value='55')"
   ]
  },
  {
   "cell_type": "code",
   "execution_count": null,
   "id": "ae19a6cc",
   "metadata": {},
   "outputs": [],
   "source": [
    "df['Age'].value_counts()"
   ]
  },
  {
   "cell_type": "code",
   "execution_count": null,
   "id": "997deb14",
   "metadata": {},
   "outputs": [],
   "source": [
    "data.isnull().sum()"
   ]
  },
  {
   "cell_type": "code",
   "execution_count": null,
   "id": "384b4ff5",
   "metadata": {},
   "outputs": [],
   "source": [
    "data.isnull().sum().sum()"
   ]
  },
  {
   "cell_type": "code",
   "execution_count": null,
   "id": "803b8f7f",
   "metadata": {},
   "outputs": [],
   "source": [
    "def missing_data(data):\n",
    "    total = data.isnull().sum().sort_values(ascending = False)\n",
    "    percent = (data.isnull().sum()/data.isnull().count()*100).sort_values(ascending = False)\n",
    "    return pd.concat([total, percent], axis=1, keys=['Total', 'Percent'])\n",
    "missing_data(data)"
   ]
  },
  {
   "cell_type": "code",
   "execution_count": null,
   "id": "ea9e4a39",
   "metadata": {},
   "outputs": [],
   "source": [
    "df.boxplot(figsize=(10,10))"
   ]
  },
  {
   "cell_type": "markdown",
   "id": "bc0bc7ec",
   "metadata": {},
   "source": [
    "### Dropping Irrelevant Data"
   ]
  },
  {
   "cell_type": "code",
   "execution_count": null,
   "id": "9cf0e9f5",
   "metadata": {},
   "outputs": [],
   "source": [
    "df.drop('Product_Category_3', axis = 1, inplace = True)"
   ]
  },
  {
   "cell_type": "code",
   "execution_count": null,
   "id": "78aa3eac",
   "metadata": {},
   "outputs": [],
   "source": [
    "df.drop([\"User_ID\"],axis=1,inplace=True)"
   ]
  },
  {
   "cell_type": "markdown",
   "id": "f8d6f665",
   "metadata": {},
   "source": [
    "## PreProcess "
   ]
  },
  {
   "cell_type": "code",
   "execution_count": null,
   "id": "14867f5c",
   "metadata": {},
   "outputs": [],
   "source": [
    "# Product_ID preprocess e.g. P00069042 -> 69042\n",
    "\n",
    "df['Product_ID'] = df['Product_ID'].str.replace('P00', '')\n",
    "\n",
    "#object to int\n",
    "df['Product_ID'] = pd.to_numeric(df['Product_ID'],errors='coerce')"
   ]
  },
  {
   "cell_type": "code",
   "execution_count": null,
   "id": "f507d6c8",
   "metadata": {},
   "outputs": [],
   "source": [
    "df.isnull().sum()"
   ]
  },
  {
   "cell_type": "code",
   "execution_count": null,
   "id": "f40ca228",
   "metadata": {},
   "outputs": [],
   "source": [
    "df.head(5)"
   ]
  },
  {
   "cell_type": "markdown",
   "id": "e67682ca",
   "metadata": {},
   "source": [
    "### Fixing null values in 'Product_Category_2'"
   ]
  },
  {
   "cell_type": "code",
   "execution_count": null,
   "id": "f118376e",
   "metadata": {},
   "outputs": [],
   "source": [
    "#imputed missing values with random values in the same probability distribution as given feature already had\n",
    "\n",
    "vc = df.Product_Category_2.value_counts(normalize = True)\n",
    "miss = df.Product_Category_2.isna()\n",
    "df.loc[miss, 'Product_Category_2'] = np.random.choice(vc.index, size = miss.sum(), p = vc.values)"
   ]
  },
  {
   "cell_type": "markdown",
   "id": "eb230a2f",
   "metadata": {},
   "source": [
    "### Feature Encoding"
   ]
  },
  {
   "cell_type": "code",
   "execution_count": null,
   "id": "0eb4ae97",
   "metadata": {},
   "outputs": [],
   "source": [
    "label_encoder_gender = LabelEncoder()\n",
    "df['Gender'] = label_encoder_gender.fit_transform(df['Gender'])"
   ]
  },
  {
   "cell_type": "code",
   "execution_count": null,
   "id": "2fb83636",
   "metadata": {},
   "outputs": [],
   "source": [
    "label_encoder_age = LabelEncoder()\n",
    "df['Age'] = label_encoder_age.fit_transform(df['Age'])"
   ]
  },
  {
   "cell_type": "code",
   "execution_count": null,
   "id": "83badbb3",
   "metadata": {},
   "outputs": [],
   "source": [
    "label_encoder_city = LabelEncoder()\n",
    "df['City_Category'] = label_encoder_city.fit_transform(df['City_Category'])"
   ]
  },
  {
   "cell_type": "markdown",
   "id": "687ae58d",
   "metadata": {},
   "source": [
    "### Convert 'Stay_In_Current_City_Years' and 'Product_Category_2' into numeric data type"
   ]
  },
  {
   "cell_type": "code",
   "execution_count": null,
   "id": "606ec89c",
   "metadata": {},
   "outputs": [],
   "source": [
    "df['Stay_In_Current_City_Years'] = df['Stay_In_Current_City_Years'].astype('int')"
   ]
  },
  {
   "cell_type": "code",
   "execution_count": null,
   "id": "d45f6c40",
   "metadata": {},
   "outputs": [],
   "source": [
    "df['Product_Category_2'] = df['Product_Category_2'].astype('int')"
   ]
  },
  {
   "cell_type": "code",
   "execution_count": null,
   "id": "95fc2459",
   "metadata": {},
   "outputs": [],
   "source": [
    "df.head()"
   ]
  },
  {
   "cell_type": "markdown",
   "id": "aee9e326",
   "metadata": {},
   "source": [
    "###  Creating a train test split"
   ]
  },
  {
   "cell_type": "code",
   "execution_count": null,
   "id": "54167cb5",
   "metadata": {},
   "outputs": [],
   "source": [
    "from sklearn.model_selection import train_test_split"
   ]
  },
  {
   "cell_type": "code",
   "execution_count": null,
   "id": "b60f47fa",
   "metadata": {},
   "outputs": [],
   "source": [
    "# split the data and label\n",
    "X = df.drop(columns=['Purchase'],axis=1)\n",
    "Y = df['Purchase']"
   ]
  },
  {
   "cell_type": "code",
   "execution_count": null,
   "id": "681c001e",
   "metadata": {},
   "outputs": [],
   "source": [
    "X.head()"
   ]
  },
  {
   "cell_type": "code",
   "execution_count": null,
   "id": "7efb4b64",
   "metadata": {},
   "outputs": [],
   "source": [
    "Y.head()"
   ]
  },
  {
   "cell_type": "code",
   "execution_count": null,
   "id": "c62b2dc4",
   "metadata": {},
   "outputs": [],
   "source": [
    "X_train,X_test,Y_train,Y_test=train_test_split(X,Y,test_size=0.2,random_state=42)"
   ]
  },
  {
   "cell_type": "code",
   "execution_count": null,
   "id": "e72c6c53",
   "metadata": {},
   "outputs": [],
   "source": [
    "print(\"X_train shape:\", X_train.shape)\n",
    "print(\"X_test shape:\", X_test.shape)\n",
    "print(\"Y_train shape:\", Y_train.shape)\n",
    "print(\"Y_test shape:\", Y_test.shape)"
   ]
  },
  {
   "cell_type": "markdown",
   "id": "a18b5100",
   "metadata": {},
   "source": [
    "## Data Modelling"
   ]
  },
  {
   "cell_type": "markdown",
   "id": "b331b176",
   "metadata": {},
   "source": [
    "### (1)Linear Regression"
   ]
  },
  {
   "cell_type": "code",
   "execution_count": null,
   "id": "7849c918",
   "metadata": {},
   "outputs": [],
   "source": [
    "from sklearn.linear_model import LinearRegression\n",
    "lin_reg = LinearRegression()"
   ]
  },
  {
   "cell_type": "code",
   "execution_count": null,
   "id": "d915c28a",
   "metadata": {},
   "outputs": [],
   "source": [
    "lin_reg.fit(X_train, Y_train)"
   ]
  },
  {
   "cell_type": "code",
   "execution_count": null,
   "id": "14c98729",
   "metadata": {},
   "outputs": [],
   "source": [
    "Y_pred_lin_reg = lin_reg.predict(X_test)"
   ]
  },
  {
   "cell_type": "code",
   "execution_count": null,
   "id": "7a7f1776",
   "metadata": {},
   "outputs": [],
   "source": [
    "from sklearn.metrics import mean_squared_error\n",
    "from sklearn.metrics import r2_score"
   ]
  },
  {
   "cell_type": "code",
   "execution_count": null,
   "id": "59438655",
   "metadata": {},
   "outputs": [],
   "source": [
    "print(\"RMSE:\",np.sqrt(mean_squared_error(Y_test, Y_pred_lin_reg)))\n",
    "print(\"R2 score:\", r2_score(Y_test, Y_pred_lin_reg))"
   ]
  },
  {
   "cell_type": "markdown",
   "id": "797d36b0",
   "metadata": {},
   "source": [
    "## (2)KNN Regression"
   ]
  },
  {
   "cell_type": "code",
   "execution_count": null,
   "id": "580873bd",
   "metadata": {},
   "outputs": [],
   "source": [
    "from sklearn.neighbors import KNeighborsRegressor\n",
    "knn = KNeighborsRegressor()"
   ]
  },
  {
   "cell_type": "code",
   "execution_count": null,
   "id": "a238efc3",
   "metadata": {},
   "outputs": [],
   "source": [
    "knn.fit(X_train, Y_train)"
   ]
  },
  {
   "cell_type": "code",
   "execution_count": null,
   "id": "02f0cc9a",
   "metadata": {},
   "outputs": [],
   "source": [
    "Y_pred_knn = knn.predict(X_test)"
   ]
  },
  {
   "cell_type": "code",
   "execution_count": null,
   "id": "72367999",
   "metadata": {},
   "outputs": [],
   "source": [
    "print(\"KNN regression: \")\n",
    "print(\"RMSE:\",np.sqrt(mean_squared_error(Y_test, Y_pred_knn)))\n",
    "print(\"R2 score:\", r2_score(Y_test, Y_pred_knn))"
   ]
  },
  {
   "cell_type": "markdown",
   "id": "44c1d01d",
   "metadata": {},
   "source": [
    "## (3)Decision Tree Regression"
   ]
  },
  {
   "cell_type": "code",
   "execution_count": null,
   "id": "2a23e656",
   "metadata": {},
   "outputs": [],
   "source": [
    "from sklearn.tree import DecisionTreeRegressor\n",
    "dec_tree = DecisionTreeRegressor()"
   ]
  },
  {
   "cell_type": "code",
   "execution_count": null,
   "id": "bb7b90b8",
   "metadata": {},
   "outputs": [],
   "source": [
    "dec_tree.fit(X_train, Y_train)"
   ]
  },
  {
   "cell_type": "code",
   "execution_count": null,
   "id": "22c8fe65",
   "metadata": {},
   "outputs": [],
   "source": [
    "Y_pred_dec = dec_tree.predict(X_test)"
   ]
  },
  {
   "cell_type": "code",
   "execution_count": null,
   "id": "ace27d89",
   "metadata": {},
   "outputs": [],
   "source": [
    "print(\"Decision tree regression: \")\n",
    "print(\"RMSE:\",np.sqrt(mean_squared_error(Y_test, Y_pred_dec)))\n",
    "print(\"R2 score:\", r2_score(Y_test, Y_pred_dec))"
   ]
  },
  {
   "cell_type": "code",
   "execution_count": null,
   "id": "98f79ebb",
   "metadata": {},
   "outputs": [],
   "source": [
    "DT2 = DecisionTreeRegressor(max_depth=8, min_samples_leaf=150)\n",
    "\n",
    "DT2.fit(X_train, Y_train)\n",
    "\n",
    "y_pred = DT2.predict(X_test)\n",
    "\n",
    "print('rmse:', np.sqrt(mean_squared_error(Y_test,y_pred)))\n",
    "print('r2_score:',r2_score(Y_test,y_pred)) "
   ]
  },
  {
   "cell_type": "markdown",
   "id": "946557cd",
   "metadata": {},
   "source": [
    "## (4)Random Forest Regressor"
   ]
  },
  {
   "cell_type": "code",
   "execution_count": null,
   "id": "0d322ca4",
   "metadata": {},
   "outputs": [],
   "source": [
    "from sklearn.ensemble import RandomForestRegressor\n",
    "ran_for = RandomForestRegressor()"
   ]
  },
  {
   "cell_type": "code",
   "execution_count": null,
   "id": "ebc7e202",
   "metadata": {},
   "outputs": [],
   "source": [
    "ran_for.fit(X_train, Y_train)"
   ]
  },
  {
   "cell_type": "code",
   "execution_count": null,
   "id": "81a36887",
   "metadata": {},
   "outputs": [],
   "source": [
    "Y_pred_ran_for = ran_for.predict(X_test)"
   ]
  },
  {
   "cell_type": "code",
   "execution_count": null,
   "id": "8b34a690",
   "metadata": {},
   "outputs": [],
   "source": [
    "print(\"Random forest regression: \")\n",
    "print(\"RMSE:\",np.sqrt(mean_squared_error(Y_test, Y_pred_ran_for)))\n",
    "print(\"R2 score:\", r2_score(Y_test, Y_pred_ran_for))"
   ]
  },
  {
   "cell_type": "code",
   "execution_count": null,
   "id": "78290deb",
   "metadata": {},
   "outputs": [],
   "source": [
    "rf = RandomForestRegressor(random_state = 3,max_depth=10,n_estimators=25)\n",
    "\n",
    "rf.fit(X_train,Y_train)\n",
    "\n",
    "y_pred = rf.predict(X_test)"
   ]
  },
  {
   "cell_type": "code",
   "execution_count": null,
   "id": "a73a832e",
   "metadata": {},
   "outputs": [],
   "source": [
    "print('r2_score:',r2_score(Y_test,y_pred)) \n",
    "print('rmse:', np.sqrt(mean_squared_error(Y_test,y_pred)))"
   ]
  },
  {
   "cell_type": "markdown",
   "id": "9df74120",
   "metadata": {},
   "source": [
    "## (5)XGB Regressor"
   ]
  },
  {
   "cell_type": "code",
   "execution_count": null,
   "id": "3972f98c",
   "metadata": {},
   "outputs": [],
   "source": [
    "from xgboost import XGBRegressor\n",
    "xgb = XGBRegressor(random_state = 42)"
   ]
  },
  {
   "cell_type": "code",
   "execution_count": null,
   "id": "59e748a4",
   "metadata": {},
   "outputs": [],
   "source": [
    "xgb.fit(X_train, Y_train)"
   ]
  },
  {
   "cell_type": "code",
   "execution_count": null,
   "id": "e715b279",
   "metadata": {},
   "outputs": [],
   "source": [
    "Y_pred_xgb = xgb.predict(X_test)"
   ]
  },
  {
   "cell_type": "code",
   "execution_count": null,
   "id": "97cb6147",
   "metadata": {},
   "outputs": [],
   "source": [
    "print(\"XGB regression: \")\n",
    "print(\"RMSE:\",np.sqrt(mean_squared_error(Y_test, Y_pred_xgb)))\n",
    "print(\"R2 score:\", r2_score(Y_test, Y_pred_xgb))"
   ]
  },
  {
   "cell_type": "code",
   "execution_count": null,
   "id": "3339d0f5",
   "metadata": {},
   "outputs": [],
   "source": [
    "xgb6 = XGBRegressor(n_estimators=470,max_depth=9,learning_rate=0.06)"
   ]
  },
  {
   "cell_type": "code",
   "execution_count": null,
   "id": "d3e05e14",
   "metadata": {},
   "outputs": [],
   "source": [
    "xgb6.fit(X_train,Y_train)"
   ]
  },
  {
   "cell_type": "code",
   "execution_count": null,
   "id": "d9d9f974",
   "metadata": {},
   "outputs": [],
   "source": [
    "y_pred = xgb6.predict(X_test)"
   ]
  },
  {
   "cell_type": "code",
   "execution_count": null,
   "id": "9ea232d9",
   "metadata": {},
   "outputs": [],
   "source": [
    "print('r2_score:',r2_score(Y_test,y_pred)) \n",
    "print('rmse:', np.sqrt(mean_squared_error(Y_test,y_pred)))"
   ]
  },
  {
   "cell_type": "code",
   "execution_count": null,
   "id": "523b1bbc",
   "metadata": {},
   "outputs": [],
   "source": [
    "#XGBoost Model1\n",
    "from xgboost import XGBRegressor\n",
    "\n",
    "\n",
    "xgb1 = XGBRegressor(n_estimators=1000, learning_rate=0.05)\n",
    "\n",
    "xgb1.fit(X_train,Y_train)\n",
    "\n",
    "y_pred = xgb1.predict(X_test)\n",
    "\n"
   ]
  },
  {
   "cell_type": "code",
   "execution_count": null,
   "id": "ba3c0395",
   "metadata": {},
   "outputs": [],
   "source": [
    "print('r2_score:',r2_score(Y_test,y_pred)) \n",
    "print('rmse:', np.sqrt(mean_squared_error(Y_test,y_pred)))"
   ]
  },
  {
   "cell_type": "code",
   "execution_count": null,
   "id": "8976f050",
   "metadata": {},
   "outputs": [],
   "source": [
    "xgb2 = XGBRegressor(n_estimators=500,max_depth=10,learning_rate=0.05)\n",
    "\n",
    "xgb2.fit(X_train,Y_train)\n",
    "\n",
    "y_pred = xgb2.predict(X_test)\n",
    "\n"
   ]
  },
  {
   "cell_type": "code",
   "execution_count": null,
   "id": "a1a0d028",
   "metadata": {},
   "outputs": [],
   "source": [
    "print('r2_score:',r2_score(Y_test,y_pred)) \n",
    "print('rmse:', np.sqrt(mean_squared_error(Y_test,y_pred)))"
   ]
  },
  {
   "cell_type": "code",
   "execution_count": null,
   "id": "f439c3f2",
   "metadata": {},
   "outputs": [],
   "source": []
  }
 ],
 "metadata": {
  "kernelspec": {
   "display_name": "Python 3 (ipykernel)",
   "language": "python",
   "name": "python3"
  },
  "language_info": {
   "codemirror_mode": {
    "name": "ipython",
    "version": 3
   },
   "file_extension": ".py",
   "mimetype": "text/x-python",
   "name": "python",
   "nbconvert_exporter": "python",
   "pygments_lexer": "ipython3",
   "version": "3.10.9"
  }
 },
 "nbformat": 4,
 "nbformat_minor": 5
}
