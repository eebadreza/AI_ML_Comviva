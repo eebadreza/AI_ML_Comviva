{
 "cells": [
  {
   "cell_type": "markdown",
   "id": "d44d6950",
   "metadata": {},
   "source": [
    "# Data science process\n",
    "- Problem definition\n",
    "- Data acquisition\n",
    "- Data preparation and EDA (Exploratory Data Analysis)\n",
    "- Feature Engineering and Feature extraction\n",
    "- Model planning\n",
    "- Model building\n",
    "- Model Evaluation\n",
    "- Model Deployment\n"
   ]
  },
  {
   "cell_type": "markdown",
   "id": "1e6ccc48",
   "metadata": {},
   "source": [
    "## (1) Problem Definition\n",
    "- Housing Finance company deals with home loans.\n",
    "- The dataset is provided to identify the customer segments that are eligible for loan amount so that they can specifically target these customers."
   ]
  },
  {
   "cell_type": "markdown",
   "id": "23adbede",
   "metadata": {},
   "source": [
    "## (2) Data Acquisition"
   ]
  },
  {
   "cell_type": "markdown",
   "id": "761b26ae",
   "metadata": {},
   "source": [
    "\n",
    "**The dataset contains following 13 features information**\n",
    "\n",
    "* Loan_ID\tUnique Loan ID\n",
    "* Gender\tMale/ Female\n",
    "* Married\tApplicant married (Y/N)\n",
    "* Dependents\tNumber of dependents\n",
    "* Education\tApplicant Education (Graduate/ Under Graduate)\n",
    "* Self_Employed\tSelf employed (Y/N)\n",
    "* ApplicantIncome\tApplicant income\n",
    "* CoapplicantIncome\tCoapplicant income\n",
    "* LoanAmount\tLoan amount in thousands\n",
    "* Loan_Amount_Term\tTerm of loan in months\n",
    "* Credit_History\tcredit history meets guidelines\n",
    "* Property_Area\tUrban/ Semi Urban/ Rural\n",
    "* Loan_Status\t(Target) Loan approved (Y/N)"
   ]
  },
  {
   "cell_type": "markdown",
   "id": "3e8d61ab",
   "metadata": {},
   "source": [
    "## (3) Data Preparation\n",
    "- Data Exploration\n",
    "- Data Cleaning\n",
    "- Missing value treatments\n",
    "- Outlier handling\n",
    "- Data encoding techniques\n",
    "- Feature engineering\n",
    "- Challenges of high dimensionality\n",
    "- Dimension reduction using principal component analysis"
   ]
  },
  {
   "cell_type": "code",
   "execution_count": 2,
   "id": "494bb214",
   "metadata": {},
   "outputs": [],
   "source": [
    "#Loading Packages\n",
    "import pandas as pd \n",
    "import numpy as np      \n",
    "\n",
    "import seaborn as sns                 \n",
    "import matplotlib.pyplot as plt       \n",
    "%matplotlib inline \n",
    "#pip install plotly\n",
    "import plotly.express as px\n",
    "\n",
    "import warnings  \n",
    "warnings.filterwarnings(\"ignore\")"
   ]
  },
  {
   "cell_type": "code",
   "execution_count": 3,
   "id": "b574faeb",
   "metadata": {},
   "outputs": [
    {
     "ename": "FileNotFoundError",
     "evalue": "[Errno 2] No such file or directory: 'loan.csv'",
     "output_type": "error",
     "traceback": [
      "\u001b[0;31m---------------------------------------------------------------------------\u001b[0m",
      "\u001b[0;31mFileNotFoundError\u001b[0m                         Traceback (most recent call last)",
      "Cell \u001b[0;32mIn[3], line 1\u001b[0m\n\u001b[0;32m----> 1\u001b[0m data\u001b[38;5;241m=\u001b[39m\u001b[43mpd\u001b[49m\u001b[38;5;241;43m.\u001b[39;49m\u001b[43mread_csv\u001b[49m\u001b[43m(\u001b[49m\u001b[38;5;124;43m\"\u001b[39;49m\u001b[38;5;124;43mloan.csv\u001b[39;49m\u001b[38;5;124;43m\"\u001b[39;49m\u001b[43m)\u001b[49m\n\u001b[1;32m      2\u001b[0m data\u001b[38;5;241m.\u001b[39mhead(\u001b[38;5;241m3\u001b[39m)\n",
      "File \u001b[0;32m~/anaconda3/lib/python3.10/site-packages/pandas/util/_decorators.py:211\u001b[0m, in \u001b[0;36mdeprecate_kwarg.<locals>._deprecate_kwarg.<locals>.wrapper\u001b[0;34m(*args, **kwargs)\u001b[0m\n\u001b[1;32m    209\u001b[0m     \u001b[38;5;28;01melse\u001b[39;00m:\n\u001b[1;32m    210\u001b[0m         kwargs[new_arg_name] \u001b[38;5;241m=\u001b[39m new_arg_value\n\u001b[0;32m--> 211\u001b[0m \u001b[38;5;28;01mreturn\u001b[39;00m \u001b[43mfunc\u001b[49m\u001b[43m(\u001b[49m\u001b[38;5;241;43m*\u001b[39;49m\u001b[43margs\u001b[49m\u001b[43m,\u001b[49m\u001b[43m \u001b[49m\u001b[38;5;241;43m*\u001b[39;49m\u001b[38;5;241;43m*\u001b[39;49m\u001b[43mkwargs\u001b[49m\u001b[43m)\u001b[49m\n",
      "File \u001b[0;32m~/anaconda3/lib/python3.10/site-packages/pandas/util/_decorators.py:331\u001b[0m, in \u001b[0;36mdeprecate_nonkeyword_arguments.<locals>.decorate.<locals>.wrapper\u001b[0;34m(*args, **kwargs)\u001b[0m\n\u001b[1;32m    325\u001b[0m \u001b[38;5;28;01mif\u001b[39;00m \u001b[38;5;28mlen\u001b[39m(args) \u001b[38;5;241m>\u001b[39m num_allow_args:\n\u001b[1;32m    326\u001b[0m     warnings\u001b[38;5;241m.\u001b[39mwarn(\n\u001b[1;32m    327\u001b[0m         msg\u001b[38;5;241m.\u001b[39mformat(arguments\u001b[38;5;241m=\u001b[39m_format_argument_list(allow_args)),\n\u001b[1;32m    328\u001b[0m         \u001b[38;5;167;01mFutureWarning\u001b[39;00m,\n\u001b[1;32m    329\u001b[0m         stacklevel\u001b[38;5;241m=\u001b[39mfind_stack_level(),\n\u001b[1;32m    330\u001b[0m     )\n\u001b[0;32m--> 331\u001b[0m \u001b[38;5;28;01mreturn\u001b[39;00m \u001b[43mfunc\u001b[49m\u001b[43m(\u001b[49m\u001b[38;5;241;43m*\u001b[39;49m\u001b[43margs\u001b[49m\u001b[43m,\u001b[49m\u001b[43m \u001b[49m\u001b[38;5;241;43m*\u001b[39;49m\u001b[38;5;241;43m*\u001b[39;49m\u001b[43mkwargs\u001b[49m\u001b[43m)\u001b[49m\n",
      "File \u001b[0;32m~/anaconda3/lib/python3.10/site-packages/pandas/io/parsers/readers.py:950\u001b[0m, in \u001b[0;36mread_csv\u001b[0;34m(filepath_or_buffer, sep, delimiter, header, names, index_col, usecols, squeeze, prefix, mangle_dupe_cols, dtype, engine, converters, true_values, false_values, skipinitialspace, skiprows, skipfooter, nrows, na_values, keep_default_na, na_filter, verbose, skip_blank_lines, parse_dates, infer_datetime_format, keep_date_col, date_parser, dayfirst, cache_dates, iterator, chunksize, compression, thousands, decimal, lineterminator, quotechar, quoting, doublequote, escapechar, comment, encoding, encoding_errors, dialect, error_bad_lines, warn_bad_lines, on_bad_lines, delim_whitespace, low_memory, memory_map, float_precision, storage_options)\u001b[0m\n\u001b[1;32m    935\u001b[0m kwds_defaults \u001b[38;5;241m=\u001b[39m _refine_defaults_read(\n\u001b[1;32m    936\u001b[0m     dialect,\n\u001b[1;32m    937\u001b[0m     delimiter,\n\u001b[0;32m   (...)\u001b[0m\n\u001b[1;32m    946\u001b[0m     defaults\u001b[38;5;241m=\u001b[39m{\u001b[38;5;124m\"\u001b[39m\u001b[38;5;124mdelimiter\u001b[39m\u001b[38;5;124m\"\u001b[39m: \u001b[38;5;124m\"\u001b[39m\u001b[38;5;124m,\u001b[39m\u001b[38;5;124m\"\u001b[39m},\n\u001b[1;32m    947\u001b[0m )\n\u001b[1;32m    948\u001b[0m kwds\u001b[38;5;241m.\u001b[39mupdate(kwds_defaults)\n\u001b[0;32m--> 950\u001b[0m \u001b[38;5;28;01mreturn\u001b[39;00m \u001b[43m_read\u001b[49m\u001b[43m(\u001b[49m\u001b[43mfilepath_or_buffer\u001b[49m\u001b[43m,\u001b[49m\u001b[43m \u001b[49m\u001b[43mkwds\u001b[49m\u001b[43m)\u001b[49m\n",
      "File \u001b[0;32m~/anaconda3/lib/python3.10/site-packages/pandas/io/parsers/readers.py:605\u001b[0m, in \u001b[0;36m_read\u001b[0;34m(filepath_or_buffer, kwds)\u001b[0m\n\u001b[1;32m    602\u001b[0m _validate_names(kwds\u001b[38;5;241m.\u001b[39mget(\u001b[38;5;124m\"\u001b[39m\u001b[38;5;124mnames\u001b[39m\u001b[38;5;124m\"\u001b[39m, \u001b[38;5;28;01mNone\u001b[39;00m))\n\u001b[1;32m    604\u001b[0m \u001b[38;5;66;03m# Create the parser.\u001b[39;00m\n\u001b[0;32m--> 605\u001b[0m parser \u001b[38;5;241m=\u001b[39m \u001b[43mTextFileReader\u001b[49m\u001b[43m(\u001b[49m\u001b[43mfilepath_or_buffer\u001b[49m\u001b[43m,\u001b[49m\u001b[43m \u001b[49m\u001b[38;5;241;43m*\u001b[39;49m\u001b[38;5;241;43m*\u001b[39;49m\u001b[43mkwds\u001b[49m\u001b[43m)\u001b[49m\n\u001b[1;32m    607\u001b[0m \u001b[38;5;28;01mif\u001b[39;00m chunksize \u001b[38;5;129;01mor\u001b[39;00m iterator:\n\u001b[1;32m    608\u001b[0m     \u001b[38;5;28;01mreturn\u001b[39;00m parser\n",
      "File \u001b[0;32m~/anaconda3/lib/python3.10/site-packages/pandas/io/parsers/readers.py:1442\u001b[0m, in \u001b[0;36mTextFileReader.__init__\u001b[0;34m(self, f, engine, **kwds)\u001b[0m\n\u001b[1;32m   1439\u001b[0m     \u001b[38;5;28mself\u001b[39m\u001b[38;5;241m.\u001b[39moptions[\u001b[38;5;124m\"\u001b[39m\u001b[38;5;124mhas_index_names\u001b[39m\u001b[38;5;124m\"\u001b[39m] \u001b[38;5;241m=\u001b[39m kwds[\u001b[38;5;124m\"\u001b[39m\u001b[38;5;124mhas_index_names\u001b[39m\u001b[38;5;124m\"\u001b[39m]\n\u001b[1;32m   1441\u001b[0m \u001b[38;5;28mself\u001b[39m\u001b[38;5;241m.\u001b[39mhandles: IOHandles \u001b[38;5;241m|\u001b[39m \u001b[38;5;28;01mNone\u001b[39;00m \u001b[38;5;241m=\u001b[39m \u001b[38;5;28;01mNone\u001b[39;00m\n\u001b[0;32m-> 1442\u001b[0m \u001b[38;5;28mself\u001b[39m\u001b[38;5;241m.\u001b[39m_engine \u001b[38;5;241m=\u001b[39m \u001b[38;5;28;43mself\u001b[39;49m\u001b[38;5;241;43m.\u001b[39;49m\u001b[43m_make_engine\u001b[49m\u001b[43m(\u001b[49m\u001b[43mf\u001b[49m\u001b[43m,\u001b[49m\u001b[43m \u001b[49m\u001b[38;5;28;43mself\u001b[39;49m\u001b[38;5;241;43m.\u001b[39;49m\u001b[43mengine\u001b[49m\u001b[43m)\u001b[49m\n",
      "File \u001b[0;32m~/anaconda3/lib/python3.10/site-packages/pandas/io/parsers/readers.py:1735\u001b[0m, in \u001b[0;36mTextFileReader._make_engine\u001b[0;34m(self, f, engine)\u001b[0m\n\u001b[1;32m   1733\u001b[0m     \u001b[38;5;28;01mif\u001b[39;00m \u001b[38;5;124m\"\u001b[39m\u001b[38;5;124mb\u001b[39m\u001b[38;5;124m\"\u001b[39m \u001b[38;5;129;01mnot\u001b[39;00m \u001b[38;5;129;01min\u001b[39;00m mode:\n\u001b[1;32m   1734\u001b[0m         mode \u001b[38;5;241m+\u001b[39m\u001b[38;5;241m=\u001b[39m \u001b[38;5;124m\"\u001b[39m\u001b[38;5;124mb\u001b[39m\u001b[38;5;124m\"\u001b[39m\n\u001b[0;32m-> 1735\u001b[0m \u001b[38;5;28mself\u001b[39m\u001b[38;5;241m.\u001b[39mhandles \u001b[38;5;241m=\u001b[39m \u001b[43mget_handle\u001b[49m\u001b[43m(\u001b[49m\n\u001b[1;32m   1736\u001b[0m \u001b[43m    \u001b[49m\u001b[43mf\u001b[49m\u001b[43m,\u001b[49m\n\u001b[1;32m   1737\u001b[0m \u001b[43m    \u001b[49m\u001b[43mmode\u001b[49m\u001b[43m,\u001b[49m\n\u001b[1;32m   1738\u001b[0m \u001b[43m    \u001b[49m\u001b[43mencoding\u001b[49m\u001b[38;5;241;43m=\u001b[39;49m\u001b[38;5;28;43mself\u001b[39;49m\u001b[38;5;241;43m.\u001b[39;49m\u001b[43moptions\u001b[49m\u001b[38;5;241;43m.\u001b[39;49m\u001b[43mget\u001b[49m\u001b[43m(\u001b[49m\u001b[38;5;124;43m\"\u001b[39;49m\u001b[38;5;124;43mencoding\u001b[39;49m\u001b[38;5;124;43m\"\u001b[39;49m\u001b[43m,\u001b[49m\u001b[43m \u001b[49m\u001b[38;5;28;43;01mNone\u001b[39;49;00m\u001b[43m)\u001b[49m\u001b[43m,\u001b[49m\n\u001b[1;32m   1739\u001b[0m \u001b[43m    \u001b[49m\u001b[43mcompression\u001b[49m\u001b[38;5;241;43m=\u001b[39;49m\u001b[38;5;28;43mself\u001b[39;49m\u001b[38;5;241;43m.\u001b[39;49m\u001b[43moptions\u001b[49m\u001b[38;5;241;43m.\u001b[39;49m\u001b[43mget\u001b[49m\u001b[43m(\u001b[49m\u001b[38;5;124;43m\"\u001b[39;49m\u001b[38;5;124;43mcompression\u001b[39;49m\u001b[38;5;124;43m\"\u001b[39;49m\u001b[43m,\u001b[49m\u001b[43m \u001b[49m\u001b[38;5;28;43;01mNone\u001b[39;49;00m\u001b[43m)\u001b[49m\u001b[43m,\u001b[49m\n\u001b[1;32m   1740\u001b[0m \u001b[43m    \u001b[49m\u001b[43mmemory_map\u001b[49m\u001b[38;5;241;43m=\u001b[39;49m\u001b[38;5;28;43mself\u001b[39;49m\u001b[38;5;241;43m.\u001b[39;49m\u001b[43moptions\u001b[49m\u001b[38;5;241;43m.\u001b[39;49m\u001b[43mget\u001b[49m\u001b[43m(\u001b[49m\u001b[38;5;124;43m\"\u001b[39;49m\u001b[38;5;124;43mmemory_map\u001b[39;49m\u001b[38;5;124;43m\"\u001b[39;49m\u001b[43m,\u001b[49m\u001b[43m \u001b[49m\u001b[38;5;28;43;01mFalse\u001b[39;49;00m\u001b[43m)\u001b[49m\u001b[43m,\u001b[49m\n\u001b[1;32m   1741\u001b[0m \u001b[43m    \u001b[49m\u001b[43mis_text\u001b[49m\u001b[38;5;241;43m=\u001b[39;49m\u001b[43mis_text\u001b[49m\u001b[43m,\u001b[49m\n\u001b[1;32m   1742\u001b[0m \u001b[43m    \u001b[49m\u001b[43merrors\u001b[49m\u001b[38;5;241;43m=\u001b[39;49m\u001b[38;5;28;43mself\u001b[39;49m\u001b[38;5;241;43m.\u001b[39;49m\u001b[43moptions\u001b[49m\u001b[38;5;241;43m.\u001b[39;49m\u001b[43mget\u001b[49m\u001b[43m(\u001b[49m\u001b[38;5;124;43m\"\u001b[39;49m\u001b[38;5;124;43mencoding_errors\u001b[39;49m\u001b[38;5;124;43m\"\u001b[39;49m\u001b[43m,\u001b[49m\u001b[43m \u001b[49m\u001b[38;5;124;43m\"\u001b[39;49m\u001b[38;5;124;43mstrict\u001b[39;49m\u001b[38;5;124;43m\"\u001b[39;49m\u001b[43m)\u001b[49m\u001b[43m,\u001b[49m\n\u001b[1;32m   1743\u001b[0m \u001b[43m    \u001b[49m\u001b[43mstorage_options\u001b[49m\u001b[38;5;241;43m=\u001b[39;49m\u001b[38;5;28;43mself\u001b[39;49m\u001b[38;5;241;43m.\u001b[39;49m\u001b[43moptions\u001b[49m\u001b[38;5;241;43m.\u001b[39;49m\u001b[43mget\u001b[49m\u001b[43m(\u001b[49m\u001b[38;5;124;43m\"\u001b[39;49m\u001b[38;5;124;43mstorage_options\u001b[39;49m\u001b[38;5;124;43m\"\u001b[39;49m\u001b[43m,\u001b[49m\u001b[43m \u001b[49m\u001b[38;5;28;43;01mNone\u001b[39;49;00m\u001b[43m)\u001b[49m\u001b[43m,\u001b[49m\n\u001b[1;32m   1744\u001b[0m \u001b[43m\u001b[49m\u001b[43m)\u001b[49m\n\u001b[1;32m   1745\u001b[0m \u001b[38;5;28;01massert\u001b[39;00m \u001b[38;5;28mself\u001b[39m\u001b[38;5;241m.\u001b[39mhandles \u001b[38;5;129;01mis\u001b[39;00m \u001b[38;5;129;01mnot\u001b[39;00m \u001b[38;5;28;01mNone\u001b[39;00m\n\u001b[1;32m   1746\u001b[0m f \u001b[38;5;241m=\u001b[39m \u001b[38;5;28mself\u001b[39m\u001b[38;5;241m.\u001b[39mhandles\u001b[38;5;241m.\u001b[39mhandle\n",
      "File \u001b[0;32m~/anaconda3/lib/python3.10/site-packages/pandas/io/common.py:856\u001b[0m, in \u001b[0;36mget_handle\u001b[0;34m(path_or_buf, mode, encoding, compression, memory_map, is_text, errors, storage_options)\u001b[0m\n\u001b[1;32m    851\u001b[0m \u001b[38;5;28;01melif\u001b[39;00m \u001b[38;5;28misinstance\u001b[39m(handle, \u001b[38;5;28mstr\u001b[39m):\n\u001b[1;32m    852\u001b[0m     \u001b[38;5;66;03m# Check whether the filename is to be opened in binary mode.\u001b[39;00m\n\u001b[1;32m    853\u001b[0m     \u001b[38;5;66;03m# Binary mode does not support 'encoding' and 'newline'.\u001b[39;00m\n\u001b[1;32m    854\u001b[0m     \u001b[38;5;28;01mif\u001b[39;00m ioargs\u001b[38;5;241m.\u001b[39mencoding \u001b[38;5;129;01mand\u001b[39;00m \u001b[38;5;124m\"\u001b[39m\u001b[38;5;124mb\u001b[39m\u001b[38;5;124m\"\u001b[39m \u001b[38;5;129;01mnot\u001b[39;00m \u001b[38;5;129;01min\u001b[39;00m ioargs\u001b[38;5;241m.\u001b[39mmode:\n\u001b[1;32m    855\u001b[0m         \u001b[38;5;66;03m# Encoding\u001b[39;00m\n\u001b[0;32m--> 856\u001b[0m         handle \u001b[38;5;241m=\u001b[39m \u001b[38;5;28;43mopen\u001b[39;49m\u001b[43m(\u001b[49m\n\u001b[1;32m    857\u001b[0m \u001b[43m            \u001b[49m\u001b[43mhandle\u001b[49m\u001b[43m,\u001b[49m\n\u001b[1;32m    858\u001b[0m \u001b[43m            \u001b[49m\u001b[43mioargs\u001b[49m\u001b[38;5;241;43m.\u001b[39;49m\u001b[43mmode\u001b[49m\u001b[43m,\u001b[49m\n\u001b[1;32m    859\u001b[0m \u001b[43m            \u001b[49m\u001b[43mencoding\u001b[49m\u001b[38;5;241;43m=\u001b[39;49m\u001b[43mioargs\u001b[49m\u001b[38;5;241;43m.\u001b[39;49m\u001b[43mencoding\u001b[49m\u001b[43m,\u001b[49m\n\u001b[1;32m    860\u001b[0m \u001b[43m            \u001b[49m\u001b[43merrors\u001b[49m\u001b[38;5;241;43m=\u001b[39;49m\u001b[43merrors\u001b[49m\u001b[43m,\u001b[49m\n\u001b[1;32m    861\u001b[0m \u001b[43m            \u001b[49m\u001b[43mnewline\u001b[49m\u001b[38;5;241;43m=\u001b[39;49m\u001b[38;5;124;43m\"\u001b[39;49m\u001b[38;5;124;43m\"\u001b[39;49m\u001b[43m,\u001b[49m\n\u001b[1;32m    862\u001b[0m \u001b[43m        \u001b[49m\u001b[43m)\u001b[49m\n\u001b[1;32m    863\u001b[0m     \u001b[38;5;28;01melse\u001b[39;00m:\n\u001b[1;32m    864\u001b[0m         \u001b[38;5;66;03m# Binary mode\u001b[39;00m\n\u001b[1;32m    865\u001b[0m         handle \u001b[38;5;241m=\u001b[39m \u001b[38;5;28mopen\u001b[39m(handle, ioargs\u001b[38;5;241m.\u001b[39mmode)\n",
      "\u001b[0;31mFileNotFoundError\u001b[0m: [Errno 2] No such file or directory: 'loan.csv'"
     ]
    }
   ],
   "source": [
    "data=pd.read_csv(\"loan.csv\")\n",
    "data.head(3)"
   ]
  },
  {
   "cell_type": "markdown",
   "id": "da628003",
   "metadata": {},
   "source": [
    "## Data Exploration"
   ]
  },
  {
   "cell_type": "code",
   "execution_count": null,
   "id": "b0bd26b1",
   "metadata": {},
   "outputs": [],
   "source": [
    "data.shape"
   ]
  },
  {
   "cell_type": "code",
   "execution_count": null,
   "id": "421cbec7",
   "metadata": {},
   "outputs": [],
   "source": [
    "print('number of rows', data.shape[0])\n",
    "print('number of columns',data.shape[1])"
   ]
  },
  {
   "cell_type": "code",
   "execution_count": null,
   "id": "cc5cba2d",
   "metadata": {},
   "outputs": [],
   "source": [
    "data.columns"
   ]
  },
  {
   "cell_type": "code",
   "execution_count": null,
   "id": "e8132eea",
   "metadata": {},
   "outputs": [],
   "source": [
    "data.info()"
   ]
  },
  {
   "cell_type": "code",
   "execution_count": null,
   "id": "01b7ef05",
   "metadata": {},
   "outputs": [],
   "source": [
    "data.dtypes"
   ]
  },
  {
   "cell_type": "code",
   "execution_count": null,
   "id": "c673d1ff",
   "metadata": {},
   "outputs": [],
   "source": [
    "print('integer type data', data.select_dtypes(include='int64').shape)"
   ]
  },
  {
   "cell_type": "code",
   "execution_count": null,
   "id": "d0fc90fa",
   "metadata": {},
   "outputs": [],
   "source": [
    "# how many columns are of integer type\n",
    "print('number of columns of integer type', data.select_dtypes(include='int64').shape[1])\n",
    "# how many columns are of object type\n",
    "print('number of columns of object type', data.select_dtypes(include='object').shape[1])\n",
    "# how many columns are of float type\n",
    "print('number of columns of float type', data.select_dtypes(include='float64').shape[1])"
   ]
  },
  {
   "cell_type": "code",
   "execution_count": null,
   "id": "af7bc55c",
   "metadata": {},
   "outputs": [],
   "source": [
    "# Summary of numeric (int and float) data\n",
    "\n",
    "data.describe()"
   ]
  },
  {
   "cell_type": "code",
   "execution_count": null,
   "id": "f77e3383",
   "metadata": {},
   "outputs": [],
   "source": [
    "# Summary of object data\n",
    "\n",
    "data.describe(include=\"object\")"
   ]
  },
  {
   "cell_type": "code",
   "execution_count": null,
   "id": "3d908d4d",
   "metadata": {},
   "outputs": [],
   "source": [
    "# Aggregation by grouping\n",
    "# Frequency\n",
    "\n",
    "data['Gender'].value_counts()"
   ]
  },
  {
   "cell_type": "code",
   "execution_count": null,
   "id": "cc969f8d",
   "metadata": {},
   "outputs": [],
   "source": [
    "# Relative Frequency\n",
    "\n",
    "data['Gender'].value_counts(normalize=True)"
   ]
  },
  {
   "cell_type": "code",
   "execution_count": null,
   "id": "fde94218",
   "metadata": {},
   "outputs": [],
   "source": [
    "# Identify duplicate data\n",
    "# data[data.duplicated()==True]\n",
    "data[data.duplicated()].sum()"
   ]
  },
  {
   "cell_type": "markdown",
   "id": "4bab40fe",
   "metadata": {},
   "source": [
    "## Data Visualization"
   ]
  },
  {
   "cell_type": "markdown",
   "id": "a3258aa5",
   "metadata": {},
   "source": [
    "## Univariate Analysis"
   ]
  },
  {
   "cell_type": "markdown",
   "id": "bb9f5a42",
   "metadata": {},
   "source": [
    "## Numerical Attribute Analysis :Histogram"
   ]
  },
  {
   "cell_type": "code",
   "execution_count": null,
   "id": "c668a5b0",
   "metadata": {},
   "outputs": [],
   "source": [
    "data['ApplicantIncome'].hist(bins=50,color='red')\n",
    "plt.show()"
   ]
  },
  {
   "cell_type": "code",
   "execution_count": null,
   "id": "6da49f10",
   "metadata": {},
   "outputs": [],
   "source": [
    "data.hist(figsize=(8,8))\n",
    "plt.show()"
   ]
  },
  {
   "cell_type": "code",
   "execution_count": null,
   "id": "c0497070",
   "metadata": {},
   "outputs": [],
   "source": [
    "sns.boxplot(data=data, x='ApplicantIncome',color=\"red\")"
   ]
  },
  {
   "cell_type": "code",
   "execution_count": null,
   "id": "b3e1827d",
   "metadata": {},
   "outputs": [],
   "source": [
    "px.box(data,x='ApplicantIncome')"
   ]
  },
  {
   "cell_type": "code",
   "execution_count": null,
   "id": "c63f33c6",
   "metadata": {},
   "outputs": [],
   "source": [
    "# identify the unique values\n",
    "data['Gender'].unique()"
   ]
  },
  {
   "cell_type": "code",
   "execution_count": null,
   "id": "c85bc61b",
   "metadata": {},
   "outputs": [],
   "source": [
    "data.drop (['Loan_ID'],inplace=True,axis=1)\n",
    "{column:list(data[column].unique()) for column in data.select_dtypes('object').columns}"
   ]
  },
  {
   "cell_type": "markdown",
   "id": "df05245e",
   "metadata": {},
   "source": [
    "## Bivariate Analysis using visualization"
   ]
  },
  {
   "cell_type": "markdown",
   "id": "27b73793",
   "metadata": {},
   "source": [
    "## Stacked Histogram"
   ]
  },
  {
   "cell_type": "code",
   "execution_count": null,
   "id": "c313f50f",
   "metadata": {},
   "outputs": [],
   "source": [
    "Gdr=pd.crosstab(data['Gender'],data['Loan_Status'])\n",
    "Gdr"
   ]
  },
  {
   "cell_type": "code",
   "execution_count": null,
   "id": "a0981e20",
   "metadata": {},
   "outputs": [],
   "source": [
    "Gdr.div(Gdr.sum(1).astype(float),axis=0).plot(kind=\"bar\",stacked=True)"
   ]
  },
  {
   "cell_type": "code",
   "execution_count": null,
   "id": "091e273b",
   "metadata": {},
   "outputs": [],
   "source": [
    "Edu=pd.crosstab(data['Education'],data['Loan_Status'])\n",
    "Edu"
   ]
  },
  {
   "cell_type": "code",
   "execution_count": null,
   "id": "a855fcd5",
   "metadata": {},
   "outputs": [],
   "source": [
    "140+340"
   ]
  },
  {
   "cell_type": "code",
   "execution_count": null,
   "id": "29fe47a7",
   "metadata": {},
   "outputs": [],
   "source": [
    "140/480"
   ]
  },
  {
   "cell_type": "code",
   "execution_count": null,
   "id": "c29eb905",
   "metadata": {},
   "outputs": [],
   "source": [
    "340/480"
   ]
  },
  {
   "cell_type": "code",
   "execution_count": null,
   "id": "e6587eea",
   "metadata": {},
   "outputs": [],
   "source": [
    "Edu.div(Edu.sum(1).astype(float),axis=0)"
   ]
  },
  {
   "cell_type": "code",
   "execution_count": null,
   "id": "a2c3cb0b",
   "metadata": {},
   "outputs": [],
   "source": [
    "\n",
    "Edu.div(Edu.sum(1).astype(float),axis=0).plot(kind=\"bar\",stacked=True)\n",
    "plt.xlabel(\"Education\")\n",
    "plt.ylabel(\"Rel.Frequency\")"
   ]
  },
  {
   "cell_type": "code",
   "execution_count": null,
   "id": "99080ca4",
   "metadata": {},
   "outputs": [],
   "source": [
    "data.groupby('Gender')['Loan_Status'].count()"
   ]
  },
  {
   "cell_type": "code",
   "execution_count": null,
   "id": "52a8759b",
   "metadata": {},
   "outputs": [],
   "source": [
    "data.groupby('Gender')['Loan_Status'].count().plot(kind='bar')"
   ]
  },
  {
   "cell_type": "markdown",
   "id": "499530f9",
   "metadata": {},
   "source": [
    "## Data Cleaning"
   ]
  },
  {
   "cell_type": "markdown",
   "id": "51a5d67d",
   "metadata": {},
   "source": [
    "## Missing Value \n"
   ]
  },
  {
   "cell_type": "code",
   "execution_count": null,
   "id": "10ac84f8",
   "metadata": {},
   "outputs": [],
   "source": [
    "# Identify the missing values under each column\n",
    "data.isnull().sum()"
   ]
  },
  {
   "cell_type": "code",
   "execution_count": null,
   "id": "ba02b0ee",
   "metadata": {},
   "outputs": [],
   "source": [
    "# Total missing values\n",
    "data.isnull().sum().sum()"
   ]
  },
  {
   "cell_type": "code",
   "execution_count": null,
   "id": "878fa36b",
   "metadata": {},
   "outputs": [],
   "source": [
    "# % missing values\n",
    "(data.isnull().sum().sum()/len(data))*100"
   ]
  },
  {
   "cell_type": "code",
   "execution_count": null,
   "id": "ae78f7e8",
   "metadata": {},
   "outputs": [],
   "source": [
    "def missing_data(data):\n",
    "    total = data.isnull().sum().sort_values(ascending = False)\n",
    "    percent = (data.isnull().sum()/data.isnull().count()*100).sort_values(ascending = False)\n",
    "    return pd.concat([total, percent], axis=1, keys=['Total', 'Percent'])\n",
    "missing_data(data)"
   ]
  },
  {
   "cell_type": "markdown",
   "id": "128981d2",
   "metadata": {},
   "source": [
    "## impute the missing data"
   ]
  },
  {
   "cell_type": "code",
   "execution_count": null,
   "id": "346559e7",
   "metadata": {},
   "outputs": [],
   "source": [
    "# percentage of missing data whandling based on the domain knowledge\n",
    "\n",
    "# <5% - remove the rows which are having missing values (Deletion)\n",
    "\n",
    "# 5% to 10% - impute using mean, median (numeric data) or mode(non-numeric data)\n",
    "# 5% to 10% - forward fill/backward fill (is used for time-series data)\n",
    "\n",
    "# 10% to 20% - regression, KNN imputation, interpolation\n",
    "\n",
    "# >20% - drop that column / attribute based on the relevance \n",
    "# >20% - factorization, random techniques"
   ]
  },
  {
   "cell_type": "code",
   "execution_count": null,
   "id": "6ee968c0",
   "metadata": {},
   "outputs": [],
   "source": [
    "# Impute with mean provided outliers are not there\n",
    "data.boxplot(figsize=(8,8))"
   ]
  },
  {
   "cell_type": "code",
   "execution_count": null,
   "id": "a5cdd957",
   "metadata": {},
   "outputs": [],
   "source": [
    "# use median to impute the missing values for numeric attributes\n",
    "data['LoanAmount'].fillna(data['LoanAmount'].median(),inplace=True)\n",
    "data['Credit_History'].fillna(data['Credit_History'].median(),inplace=True)\n",
    "data['Loan_Amount_Term'].fillna(data['Loan_Amount_Term'].median(),inplace=True)"
   ]
  },
  {
   "cell_type": "code",
   "execution_count": null,
   "id": "8dffeb4c",
   "metadata": {},
   "outputs": [],
   "source": [
    "data.isnull().sum()"
   ]
  },
  {
   "cell_type": "code",
   "execution_count": null,
   "id": "cb592417",
   "metadata": {},
   "outputs": [],
   "source": [
    "data.info()"
   ]
  },
  {
   "cell_type": "code",
   "execution_count": null,
   "id": "1a32860a",
   "metadata": {},
   "outputs": [],
   "source": [
    "# use mode to impute the missing values for object type attributes\n",
    "data['Gender'].fillna(data['Gender'].mode()[0],inplace=True)\n",
    "data['Married'].fillna(data['Married'].mode()[0],inplace=True)\n",
    "data['Dependents'].fillna(data['Dependents'].mode()[0],inplace=True)\n",
    "data['Self_Employed'].fillna(data['Self_Employed'].mode()[0],inplace=True)"
   ]
  },
  {
   "cell_type": "code",
   "execution_count": null,
   "id": "9ecdab25",
   "metadata": {},
   "outputs": [],
   "source": [
    "data.isnull().sum()"
   ]
  },
  {
   "cell_type": "code",
   "execution_count": null,
   "id": "664094b1",
   "metadata": {},
   "outputs": [],
   "source": [
    "d=pd.DataFrame([10,20,30,30,10])\n",
    "d.mode()[0]"
   ]
  },
  {
   "cell_type": "code",
   "execution_count": null,
   "id": "cb105e1c",
   "metadata": {},
   "outputs": [],
   "source": [
    "d=pd.DataFrame([10,20,30,30,10,np.nan,np.nan])\n",
    "d"
   ]
  },
  {
   "cell_type": "code",
   "execution_count": null,
   "id": "58f04c9b",
   "metadata": {},
   "outputs": [],
   "source": [
    "d.fillna(d.mode()[0],inplace=True)\n",
    "d"
   ]
  },
  {
   "cell_type": "code",
   "execution_count": null,
   "id": "d2e244a2",
   "metadata": {},
   "outputs": [],
   "source": [
    "from sklearn.impute import SimpleImputer\n",
    "\n",
    "# Create the array\n",
    "scores = np.array([15, np.nan, 18, 7, 13, 16, 11, 21, 5, 15, 10, 9, np.nan])\n",
    "\n",
    "\n",
    "# Create a SimpleImputer object with the mean strategy\n",
    "imputer = SimpleImputer(strategy='median')\n",
    "\n",
    "# # Fit and transform the imputer on the scores array\n",
    "imputed_scores = imputer.fit_transform(scores.reshape(-1,1))\n",
    "\n",
    "\n",
    "# # Print the imputed scores in one dimension\n",
    "print(imputed_scores.flatten())"
   ]
  },
  {
   "cell_type": "markdown",
   "id": "0951d01e",
   "metadata": {},
   "source": [
    "## Outlier detection ways\n",
    "- box plot or histogram\n",
    "- Z-score\n",
    "- IQR (Inter Quartile Range)"
   ]
  },
  {
   "cell_type": "code",
   "execution_count": null,
   "id": "d6ba37c2",
   "metadata": {},
   "outputs": [],
   "source": [
    "scores=np.array([15, 101, 18, 7, 13, 16, 11, 21, 5, 15, 10, 9,-201])"
   ]
  },
  {
   "cell_type": "code",
   "execution_count": null,
   "id": "9585ad81",
   "metadata": {},
   "outputs": [],
   "source": [
    "scores"
   ]
  },
  {
   "cell_type": "code",
   "execution_count": null,
   "id": "4427b26a",
   "metadata": {},
   "outputs": [],
   "source": [
    "# Box plot\n",
    "sns.boxplot(scores)"
   ]
  },
  {
   "cell_type": "code",
   "execution_count": null,
   "id": "0f7e0388",
   "metadata": {},
   "outputs": [],
   "source": [
    "# histogram\n",
    "sns.histplot(scores)"
   ]
  },
  {
   "cell_type": "code",
   "execution_count": null,
   "id": "ac693adc",
   "metadata": {},
   "outputs": [],
   "source": [
    "# Z-score\n",
    "# Z=(x-mean)/std_dev\n",
    "\n",
    "scores=np.array([15, 101, 18, 7, 13, 16, 11, 21, 5, 15, 10, 9,-201])\n",
    "scores=np.sort(scores)\n",
    "mean=np.mean(scores)\n",
    "std_dev=np.std(scores)\n",
    "z_scores=(scores-mean)/std_dev\n",
    "print(z_scores)\n",
    "\n",
    "outliers=scores[np.abs(z_scores)>=1.5]\n",
    "print(\"outliers\",outliers)\n"
   ]
  },
  {
   "cell_type": "markdown",
   "id": "d939de2b",
   "metadata": {},
   "source": [
    "- if z-score  of a value is less than -3 or greater than +3 then the value associated with the z-score is considered as an outlier"
   ]
  },
  {
   "cell_type": "code",
   "execution_count": null,
   "id": "a285615e",
   "metadata": {},
   "outputs": [],
   "source": [
    "sns.boxplot(scores)"
   ]
  },
  {
   "cell_type": "code",
   "execution_count": null,
   "id": "c3fd1304",
   "metadata": {},
   "outputs": [],
   "source": [
    "# IQR\n",
    "# IQR=Q3-Q1\n",
    "Q1=np.quantile(scores,0.25)\n",
    "Q3=np.quantile(scores,0.75)\n",
    "IQR=Q3-Q1\n",
    "\n",
    "UB=Q3+1.5*IQR\n",
    "LB=Q1-1.5*IQR\n",
    "\n",
    "print(Q1,Q3,LB,UB)\n",
    "\n",
    "outliers=scores[(scores<=LB) | (scores>=UB)]\n",
    "print(outliers)"
   ]
  },
  {
   "cell_type": "code",
   "execution_count": null,
   "id": "aec38903",
   "metadata": {},
   "outputs": [],
   "source": [
    "# Handling Outliers\n",
    "# Remove the outliers considering the data imbalance\n",
    "# Extending the IQR \n",
    "# Mean/Median used for imputation\n",
    "# use percentiles (10th , 90th) for imputing"
   ]
  },
  {
   "cell_type": "code",
   "execution_count": null,
   "id": "d118ea69",
   "metadata": {},
   "outputs": [],
   "source": [
    "sns.boxplot(data=data['LoanAmount'])"
   ]
  },
  {
   "cell_type": "code",
   "execution_count": null,
   "id": "12fd6d4c",
   "metadata": {},
   "outputs": [],
   "source": [
    "# Remove the outliers\n",
    "# IQR=Q3-Q1\n",
    "Q1=np.quantile(data['LoanAmount'],0.25)\n",
    "Q3=np.quantile(data['LoanAmount'],0.75)\n",
    "IQR=Q3-Q1\n",
    "\n",
    "UB=Q3+3*IQR\n",
    "LB=Q1-3*IQR\n",
    "\n",
    "#print(Q1,Q3,LB,UB)\n",
    "\n",
    "outliers=data[(data['LoanAmount']<=LB) | (data['LoanAmount']>=UB)]\n",
    "print(len(outliers))"
   ]
  },
  {
   "cell_type": "code",
   "execution_count": null,
   "id": "1c006a65",
   "metadata": {},
   "outputs": [],
   "source": [
    "not_outliers=data[(data['LoanAmount']>LB) & (data['LoanAmount']<UB)]\n",
    "print(len(not_outliers))"
   ]
  },
  {
   "cell_type": "code",
   "execution_count": null,
   "id": "99819393",
   "metadata": {},
   "outputs": [],
   "source": [
    "sns.boxplot(data=not_outliers['LoanAmount'])"
   ]
  },
  {
   "cell_type": "markdown",
   "id": "a8eacd6e",
   "metadata": {},
   "source": [
    "## How to handle outliers"
   ]
  },
  {
   "cell_type": "code",
   "execution_count": null,
   "id": "2528f87c",
   "metadata": {},
   "outputs": [],
   "source": [
    "# Remove the outliers: if they are due to data entry error or they are not part of the data distribution\n",
    "# Tranformations: log-tranform in case of skewed data use \n",
    "# Binning / discretization: grouping the data into bins"
   ]
  },
  {
   "cell_type": "code",
   "execution_count": null,
   "id": "1bfd8372",
   "metadata": {},
   "outputs": [],
   "source": [
    "# Box plot \n",
    "px.box(data,x='LoanAmount')"
   ]
  },
  {
   "cell_type": "code",
   "execution_count": null,
   "id": "b8cbbce3",
   "metadata": {},
   "outputs": [],
   "source": [
    "fig=px.histogram(data,x='LoanAmount')\n",
    "fig.show()"
   ]
  },
  {
   "cell_type": "code",
   "execution_count": null,
   "id": "cb908927",
   "metadata": {},
   "outputs": [],
   "source": [
    "sns.distplot(data['LoanAmount'])"
   ]
  },
  {
   "cell_type": "code",
   "execution_count": null,
   "id": "f398d7a0",
   "metadata": {},
   "outputs": [],
   "source": [
    "# Handle outliers with log tranform\n",
    "data1=data\n",
    "data1['LoanAmount'].head(3)"
   ]
  },
  {
   "cell_type": "code",
   "execution_count": null,
   "id": "78f2f328",
   "metadata": {},
   "outputs": [],
   "source": [
    "data1['LoanAmount']=np.log(data1['LoanAmount'])\n",
    "data1['LoanAmount'].head(3)"
   ]
  },
  {
   "cell_type": "code",
   "execution_count": null,
   "id": "d3808ff2",
   "metadata": {},
   "outputs": [],
   "source": []
  },
  {
   "cell_type": "code",
   "execution_count": null,
   "id": "ef974ad1",
   "metadata": {},
   "outputs": [],
   "source": [
    "sns.distplot(data1['LoanAmount'])"
   ]
  },
  {
   "cell_type": "code",
   "execution_count": null,
   "id": "41816116",
   "metadata": {},
   "outputs": [],
   "source": [
    "# Remove the outliers\n",
    "# IQR=Q3-Q1\n",
    "Q1=np.quantile(data1['LoanAmount'],0.25)\n",
    "Q3=np.quantile(data1['LoanAmount'],0.75)\n",
    "IQR=Q3-Q1\n",
    "\n",
    "UB=Q3+3*IQR\n",
    "LB=Q1-3*IQR\n",
    "\n",
    "#print(Q1,Q3,LB,UB)\n",
    "\n",
    "outliers=data1[(data1['LoanAmount']<=LB) | (data1['LoanAmount']>=UB)]\n",
    "print(len(outliers))"
   ]
  },
  {
   "cell_type": "markdown",
   "id": "00d4b601",
   "metadata": {},
   "source": [
    "## Discrepancies / Inconsistencies in data"
   ]
  },
  {
   "cell_type": "code",
   "execution_count": null,
   "id": "a09f64ca",
   "metadata": {},
   "outputs": [],
   "source": [
    "# Repalce 3+ with 4\n",
    "data['Dependents'].value_counts()"
   ]
  },
  {
   "cell_type": "code",
   "execution_count": null,
   "id": "1af28a21",
   "metadata": {},
   "outputs": [],
   "source": []
  },
  {
   "cell_type": "code",
   "execution_count": null,
   "id": "4c1c59a5",
   "metadata": {},
   "outputs": [],
   "source": [
    "data=data.replace(to_replace='3+',value=4)"
   ]
  },
  {
   "cell_type": "code",
   "execution_count": null,
   "id": "df263bd7",
   "metadata": {},
   "outputs": [],
   "source": [
    "data.head(3)"
   ]
  },
  {
   "cell_type": "code",
   "execution_count": null,
   "id": "68235f17",
   "metadata": {},
   "outputs": [],
   "source": [
    "data['Dependents'].value_counts()"
   ]
  },
  {
   "cell_type": "markdown",
   "id": "4ee7e31f",
   "metadata": {},
   "source": [
    "# Feature Engineering"
   ]
  },
  {
   "cell_type": "markdown",
   "id": "ede12504",
   "metadata": {},
   "source": [
    "- Create a new feature / attribute\n",
    "- Transform the existing feature \n",
    "- Feature can be numeric, categorical"
   ]
  },
  {
   "cell_type": "markdown",
   "id": "a24b9f61",
   "metadata": {},
   "source": [
    "## Variable Transformation\n",
    "- Categorical Variable Transformations -Encoding Techniques\n",
    "- Numeric Variable Transformation - Standardization and Normalization "
   ]
  },
  {
   "cell_type": "markdown",
   "id": "8e94c5ae",
   "metadata": {},
   "source": [
    "## Categorical Variable Transformations -Encoding Techniques\n",
    "- one-hot encoding\n",
    "- count encoding\n",
    "- label encoding\n",
    "- ordinal encoding"
   ]
  },
  {
   "cell_type": "markdown",
   "id": "412be384",
   "metadata": {},
   "source": [
    "## one-hot encoding \n",
    "- Each category is represented as a binary vector with 0s and a single 1.\n",
    "- One-hot encoding is preferred in situations where there is no ordinal relationship between categories, and each category is treated as independent."
   ]
  },
  {
   "cell_type": "code",
   "execution_count": null,
   "id": "0dffc8aa",
   "metadata": {},
   "outputs": [],
   "source": [
    "#pip install -U scikit-learn"
   ]
  },
  {
   "cell_type": "code",
   "execution_count": null,
   "id": "9365bf48",
   "metadata": {},
   "outputs": [],
   "source": [
    "import pandas as pd\n",
    "from sklearn.preprocessing import OneHotEncoder\n",
    "df=pd.DataFrame({'colors':['red','Green','blue','Green','red']})\n",
    "encd=OneHotEncoder()\n",
    "encoded_data=encd.fit_transform(df[['colors']])\n",
    "encoded_data=pd.DataFrame(encoded_data.toarray(),columns=encd.get_feature_names_out())\n",
    "print(encoded_data)"
   ]
  },
  {
   "cell_type": "code",
   "execution_count": null,
   "id": "4ed17aa9",
   "metadata": {},
   "outputs": [],
   "source": [
    "# blue Green red\n",
    "# 0     0     1\n",
    "# 0     1     0\n",
    "# 1     0     0\n",
    "# 0     1     0\n",
    "# 0     0     1"
   ]
  },
  {
   "cell_type": "code",
   "execution_count": null,
   "id": "0b4370d6",
   "metadata": {},
   "outputs": [],
   "source": [
    "#pip install category_encoders\n"
   ]
  },
  {
   "cell_type": "markdown",
   "id": "8dd6fdbc",
   "metadata": {},
   "source": [
    "## Count Encoding\n",
    "- is used to convert categorical variables into numerical format by assigning the frequency count of each category"
   ]
  },
  {
   "cell_type": "code",
   "execution_count": null,
   "id": "b7bcb954",
   "metadata": {},
   "outputs": [],
   "source": [
    "# Count Encoding\n",
    "import pandas as pd\n",
    "import category_encoders as ce\n",
    "df=pd.DataFrame({'colors':['red','Green','blue','Green','red']})\n",
    "encd = ce.CountEncoder()\n",
    "encoded_data=encd.fit_transform(df['colors'])\n",
    "encoded_data=pd.DataFrame(encoded_data,columns=encd.get_feature_names_out())\n",
    "print(encoded_data)"
   ]
  },
  {
   "cell_type": "code",
   "execution_count": null,
   "id": "3c7a5f18",
   "metadata": {},
   "outputs": [],
   "source": [
    "# color    count\n",
    "# red      2\n",
    "# Green    2\n",
    "# blue     1\n",
    "# Green    2\n",
    "# red      2\n"
   ]
  },
  {
   "cell_type": "markdown",
   "id": "c3a8f87a",
   "metadata": {},
   "source": [
    "## Label Encoding\n",
    "- Label encoding assigns a unique integer label to each category "
   ]
  },
  {
   "cell_type": "code",
   "execution_count": null,
   "id": "b145e9d5",
   "metadata": {},
   "outputs": [],
   "source": [
    "from sklearn.preprocessing import LabelEncoder\n",
    "df=pd.DataFrame({'Size': [\"Small\",\"Medium\",\"Large\",\"ExtraLarge\"]})\n",
    "df"
   ]
  },
  {
   "cell_type": "code",
   "execution_count": null,
   "id": "67df0132",
   "metadata": {},
   "outputs": [],
   "source": [
    "# initialize the encoder\n",
    "encd=LabelEncoder()"
   ]
  },
  {
   "cell_type": "code",
   "execution_count": null,
   "id": "a51d8d9d",
   "metadata": {},
   "outputs": [],
   "source": [
    "# Fit and transform the data\n",
    "encd_data=encd.fit_transform(df['Size'])"
   ]
  },
  {
   "cell_type": "code",
   "execution_count": null,
   "id": "8ea221ba",
   "metadata": {},
   "outputs": [],
   "source": [
    "df['Encd_data']=encd_data\n",
    "print(df)"
   ]
  },
  {
   "cell_type": "markdown",
   "id": "760be630",
   "metadata": {},
   "source": [
    "## Ordinal Encoding\n",
    "- convert categorical into numerical while preserving the ordinal information"
   ]
  },
  {
   "cell_type": "code",
   "execution_count": null,
   "id": "3ce8cb3e",
   "metadata": {},
   "outputs": [],
   "source": [
    "df1=pd.DataFrame({'FeedBack': [\"Average\",\"Good\",\"Average\",\"Poor\",\"Excellent\",\"Good\",\"Verypoor\",\"Good\",\"Average\",\"Poor\",\"Excellent\",\"Verypoor\"]})\n",
    "df1\n",
    "\n",
    "# The scale is : VeryPoor:0, Poor:1,Average:2,Good:3,Excellent:4"
   ]
  },
  {
   "cell_type": "code",
   "execution_count": null,
   "id": "c40c72a0",
   "metadata": {},
   "outputs": [],
   "source": [
    "# Define the order\n",
    "order=[\"Verypoor\",\"Poor\",\"Average\",\"Good\",\"Excellent\"]"
   ]
  },
  {
   "cell_type": "code",
   "execution_count": null,
   "id": "9f5f4f34",
   "metadata": {},
   "outputs": [],
   "source": [
    "# convert the categorical with specified order\n",
    "df1['FeedBack_codes']=pd.Categorical(df1[\"FeedBack\"], categories=order, ordered=True).codes\n",
    "print(df1)"
   ]
  },
  {
   "cell_type": "code",
   "execution_count": null,
   "id": "b923b933",
   "metadata": {},
   "outputs": [],
   "source": []
  },
  {
   "cell_type": "markdown",
   "id": "3df24410",
   "metadata": {},
   "source": [
    "## Apply Encoding techniques on loan dataset \n",
    "- to convert categorical to numerical"
   ]
  },
  {
   "cell_type": "code",
   "execution_count": null,
   "id": "126ad7d6",
   "metadata": {},
   "outputs": [],
   "source": [
    "data.head(5)"
   ]
  },
  {
   "cell_type": "code",
   "execution_count": null,
   "id": "34043eb3",
   "metadata": {},
   "outputs": [],
   "source": [
    "data.dtypes"
   ]
  },
  {
   "cell_type": "code",
   "execution_count": null,
   "id": "0d62056d",
   "metadata": {},
   "outputs": [],
   "source": [
    "# Binary Encoding Technique using map() function\n",
    "data1=data\n",
    "Gender_map={'Male':0,'Female':1}                \n",
    "data1['Gender'] = data1['Gender'].map(Gender_map)    \n",
    "data1['Gender'].head(5)"
   ]
  },
  {
   "cell_type": "code",
   "execution_count": null,
   "id": "95c1a661",
   "metadata": {},
   "outputs": [],
   "source": [
    "data1[\"Property_Area\"].value_counts()"
   ]
  },
  {
   "cell_type": "code",
   "execution_count": null,
   "id": "a2093dd3",
   "metadata": {},
   "outputs": [],
   "source": [
    "Married_map={\"Yes\":1,\"No\":0}               \n",
    "Dependents_map={\"0\":0,\"1\":1,\"2\":2,\"3\":3,\"4\":4}            \n",
    "Education_map={\"Graduate\":1,\"Not Graduate\":0}             \n",
    "Self_Employed_map={\"Yes\":1,\"No\":0}         \n",
    "Property_Area_map={\"Rural\":0,\"Urban\":1,\"Semiurban\":2}         \n",
    "Loan_Status_map={'Y':1,'N':0}   "
   ]
  },
  {
   "cell_type": "code",
   "execution_count": null,
   "id": "095756ad",
   "metadata": {},
   "outputs": [],
   "source": [
    "data1['Married'] = data1['Married'].map(Married_map) \n",
    "data1['Dependents'] = data1['Dependents'].map(Dependents_map) \n",
    "data1['Education'] = data1['Education'].map(Education_map) \n",
    "data1['Self_Employed'] = data1['Self_Employed'].map(Self_Employed_map) \n",
    "data1['Property_Area'] = data1['Property_Area'].map(Property_Area_map) \n",
    "data1['Loan_Status'] = data1['Loan_Status'].map(Loan_Status_map) "
   ]
  },
  {
   "cell_type": "code",
   "execution_count": null,
   "id": "5ebe80fa",
   "metadata": {},
   "outputs": [],
   "source": [
    "data1.head(5)"
   ]
  },
  {
   "cell_type": "code",
   "execution_count": null,
   "id": "302fb69d",
   "metadata": {},
   "outputs": [],
   "source": []
  }
 ],
 "metadata": {
  "kernelspec": {
   "display_name": "Python 3 (ipykernel)",
   "language": "python",
   "name": "python3"
  },
  "language_info": {
   "codemirror_mode": {
    "name": "ipython",
    "version": 3
   },
   "file_extension": ".py",
   "mimetype": "text/x-python",
   "name": "python",
   "nbconvert_exporter": "python",
   "pygments_lexer": "ipython3",
   "version": "3.10.9"
  }
 },
 "nbformat": 4,
 "nbformat_minor": 5
}
