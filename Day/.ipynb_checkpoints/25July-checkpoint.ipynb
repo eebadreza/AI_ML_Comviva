{
 "cells": [
  {
   "cell_type": "markdown",
   "id": "d44d6950",
   "metadata": {},
   "source": [
    "# Data science process\n",
    "- Problem definition\n",
    "- Data acquisition\n",
    "- Data preparation and EDA (Exploratory Data Analysis)\n",
    "- Feature Engineering and Feature extraction\n",
    "- Model planning\n",
    "- Model building\n",
    "- Model Evaluation\n",
    "- Model Deployment\n"
   ]
  },
  {
   "cell_type": "markdown",
   "id": "1e6ccc48",
   "metadata": {},
   "source": [
    "## (1) Problem Definition\n",
    "- Housing Finance company deals with home loans.\n",
    "- The dataset is provided to identify the customer segments that are eligible for loan amount so that they can specifically target these customers."
   ]
  },
  {
   "cell_type": "markdown",
   "id": "23adbede",
   "metadata": {},
   "source": [
    "## (2) Data Acquisition"
   ]
  },
  {
   "cell_type": "markdown",
   "id": "761b26ae",
   "metadata": {},
   "source": [
    "\n",
    "**The dataset contains following 13 features information**\n",
    "\n",
    "* Loan_ID\tUnique Loan ID\n",
    "* Gender\tMale/ Female\n",
    "* Married\tApplicant married (Y/N)\n",
    "* Dependents\tNumber of dependents\n",
    "* Education\tApplicant Education (Graduate/ Under Graduate)\n",
    "* Self_Employed\tSelf employed (Y/N)\n",
    "* ApplicantIncome\tApplicant income\n",
    "* CoapplicantIncome\tCoapplicant income\n",
    "* LoanAmount\tLoan amount in thousands\n",
    "* Loan_Amount_Term\tTerm of loan in months\n",
    "* Credit_History\tcredit history meets guidelines\n",
    "* Property_Area\tUrban/ Semi Urban/ Rural\n",
    "* Loan_Status\t(Target) Loan approved (Y/N)"
   ]
  },
  {
   "cell_type": "markdown",
   "id": "3e8d61ab",
   "metadata": {},
   "source": [
    "## (3) Data Preparation\n",
    "- Data Exploration\n",
    "- Data Cleaning\n",
    "- Missing value treatments\n",
    "- Outlier handling\n",
    "- Data encoding techniques\n",
    "- Feature engineering\n",
    "- Challenges of high dimensionality\n",
    "- Dimension reduction using principal component analysis"
   ]
  },
  {
   "cell_type": "code",
   "execution_count": null,
   "id": "494bb214",
   "metadata": {},
   "outputs": [],
   "source": [
    "#Loading Packages\n",
    "import pandas as pd \n",
    "import numpy as np      \n",
    "\n",
    "import seaborn as sns                 \n",
    "import matplotlib.pyplot as plt       \n",
    "%matplotlib inline \n",
    "#pip install plotly\n",
    "import plotly.express as px\n",
    "\n",
    "import warnings  \n",
    "warnings.filterwarnings(\"ignore\")"
   ]
  },
  {
   "cell_type": "code",
   "execution_count": null,
   "id": "b574faeb",
   "metadata": {},
   "outputs": [],
   "source": [
    "data=pd.read_csv(\"loan.csv\")\n",
    "data.head(3)"
   ]
  },
  {
   "cell_type": "markdown",
   "id": "da628003",
   "metadata": {},
   "source": [
    "## Data Exploration"
   ]
  },
  {
   "cell_type": "code",
   "execution_count": null,
   "id": "b0bd26b1",
   "metadata": {},
   "outputs": [],
   "source": [
    "data.shape"
   ]
  },
  {
   "cell_type": "code",
   "execution_count": null,
   "id": "421cbec7",
   "metadata": {},
   "outputs": [],
   "source": [
    "print('number of rows', data.shape[0])\n",
    "print('number of columns',data.shape[1])"
   ]
  },
  {
   "cell_type": "code",
   "execution_count": null,
   "id": "cc5cba2d",
   "metadata": {},
   "outputs": [],
   "source": [
    "data.columns"
   ]
  },
  {
   "cell_type": "code",
   "execution_count": null,
   "id": "e8132eea",
   "metadata": {},
   "outputs": [],
   "source": [
    "data.info()"
   ]
  },
  {
   "cell_type": "code",
   "execution_count": null,
   "id": "01b7ef05",
   "metadata": {},
   "outputs": [],
   "source": [
    "data.dtypes"
   ]
  },
  {
   "cell_type": "code",
   "execution_count": null,
   "id": "c673d1ff",
   "metadata": {},
   "outputs": [],
   "source": [
    "print('integer type data', data.select_dtypes(include='int64').shape)"
   ]
  },
  {
   "cell_type": "code",
   "execution_count": null,
   "id": "d0fc90fa",
   "metadata": {},
   "outputs": [],
   "source": [
    "# how many columns are of integer type\n",
    "print('number of columns of integer type', data.select_dtypes(include='int64').shape[1])\n",
    "# how many columns are of object type\n",
    "print('number of columns of object type', data.select_dtypes(include='object').shape[1])\n",
    "# how many columns are of float type\n",
    "print('number of columns of float type', data.select_dtypes(include='float64').shape[1])"
   ]
  },
  {
   "cell_type": "code",
   "execution_count": null,
   "id": "af7bc55c",
   "metadata": {},
   "outputs": [],
   "source": [
    "# Summary of numeric (int and float) data\n",
    "\n",
    "data.describe()"
   ]
  },
  {
   "cell_type": "code",
   "execution_count": null,
   "id": "f77e3383",
   "metadata": {},
   "outputs": [],
   "source": [
    "# Summary of object data\n",
    "\n",
    "data.describe(include=\"object\")"
   ]
  },
  {
   "cell_type": "code",
   "execution_count": null,
   "id": "3d908d4d",
   "metadata": {},
   "outputs": [],
   "source": [
    "# Aggregation by grouping\n",
    "# Frequency\n",
    "\n",
    "data['Gender'].value_counts()"
   ]
  },
  {
   "cell_type": "code",
   "execution_count": null,
   "id": "cc969f8d",
   "metadata": {},
   "outputs": [],
   "source": [
    "# Relative Frequency\n",
    "\n",
    "data['Gender'].value_counts(normalize=True)"
   ]
  },
  {
   "cell_type": "code",
   "execution_count": null,
   "id": "fde94218",
   "metadata": {},
   "outputs": [],
   "source": [
    "# Identify duplicate data\n",
    "# data[data.duplicated()==True]\n",
    "data[data.duplicated()].sum()"
   ]
  },
  {
   "cell_type": "markdown",
   "id": "4bab40fe",
   "metadata": {},
   "source": [
    "## Data Visualization"
   ]
  },
  {
   "cell_type": "markdown",
   "id": "a3258aa5",
   "metadata": {},
   "source": [
    "## Univariate Analysis"
   ]
  },
  {
   "cell_type": "markdown",
   "id": "bb9f5a42",
   "metadata": {},
   "source": [
    "## Numerical Attribute Analysis :Histogram"
   ]
  },
  {
   "cell_type": "code",
   "execution_count": null,
   "id": "c668a5b0",
   "metadata": {},
   "outputs": [],
   "source": [
    "data['ApplicantIncome'].hist(bins=50,color='red')\n",
    "plt.show()"
   ]
  },
  {
   "cell_type": "code",
   "execution_count": null,
   "id": "6da49f10",
   "metadata": {},
   "outputs": [],
   "source": [
    "data.hist(figsize=(8,8))\n",
    "plt.show()"
   ]
  },
  {
   "cell_type": "code",
   "execution_count": null,
   "id": "c0497070",
   "metadata": {},
   "outputs": [],
   "source": [
    "sns.boxplot(data=data, x='ApplicantIncome',color=\"red\")"
   ]
  },
  {
   "cell_type": "code",
   "execution_count": null,
   "id": "b3e1827d",
   "metadata": {},
   "outputs": [],
   "source": [
    "px.box(data,x='ApplicantIncome')"
   ]
  },
  {
   "cell_type": "code",
   "execution_count": null,
   "id": "c63f33c6",
   "metadata": {},
   "outputs": [],
   "source": [
    "# identify the unique values\n",
    "data['Gender'].unique()"
   ]
  },
  {
   "cell_type": "code",
   "execution_count": null,
   "id": "c85bc61b",
   "metadata": {},
   "outputs": [],
   "source": [
    "data.drop (['Loan_ID'],inplace=True,axis=1)\n",
    "{column:list(data[column].unique()) for column in data.select_dtypes('object').columns}"
   ]
  },
  {
   "cell_type": "markdown",
   "id": "df05245e",
   "metadata": {},
   "source": [
    "## Bivariate Analysis using visualization"
   ]
  },
  {
   "cell_type": "markdown",
   "id": "27b73793",
   "metadata": {},
   "source": [
    "## Stacked Histogram"
   ]
  },
  {
   "cell_type": "code",
   "execution_count": null,
   "id": "c313f50f",
   "metadata": {},
   "outputs": [],
   "source": [
    "Gdr=pd.crosstab(data['Gender'],data['Loan_Status'])\n",
    "Gdr"
   ]
  },
  {
   "cell_type": "code",
   "execution_count": null,
   "id": "a0981e20",
   "metadata": {},
   "outputs": [],
   "source": [
    "Gdr.div(Gdr.sum(1).astype(float),axis=0).plot(kind=\"bar\",stacked=True)"
   ]
  },
  {
   "cell_type": "code",
   "execution_count": null,
   "id": "091e273b",
   "metadata": {},
   "outputs": [],
   "source": [
    "Edu=pd.crosstab(data['Education'],data['Loan_Status'])\n",
    "Edu"
   ]
  },
  {
   "cell_type": "code",
   "execution_count": null,
   "id": "a855fcd5",
   "metadata": {},
   "outputs": [],
   "source": [
    "140+340"
   ]
  },
  {
   "cell_type": "code",
   "execution_count": null,
   "id": "29fe47a7",
   "metadata": {},
   "outputs": [],
   "source": [
    "140/480"
   ]
  },
  {
   "cell_type": "code",
   "execution_count": null,
   "id": "c29eb905",
   "metadata": {},
   "outputs": [],
   "source": [
    "340/480"
   ]
  },
  {
   "cell_type": "code",
   "execution_count": null,
   "id": "e6587eea",
   "metadata": {},
   "outputs": [],
   "source": [
    "Edu.div(Edu.sum(1).astype(float),axis=0)"
   ]
  },
  {
   "cell_type": "code",
   "execution_count": null,
   "id": "a2c3cb0b",
   "metadata": {},
   "outputs": [],
   "source": [
    "\n",
    "Edu.div(Edu.sum(1).astype(float),axis=0).plot(kind=\"bar\",stacked=True)\n",
    "plt.xlabel(\"Education\")\n",
    "plt.ylabel(\"Rel.Frequency\")"
   ]
  },
  {
   "cell_type": "code",
   "execution_count": null,
   "id": "99080ca4",
   "metadata": {},
   "outputs": [],
   "source": [
    "data.groupby('Gender')['Loan_Status'].count()"
   ]
  },
  {
   "cell_type": "code",
   "execution_count": null,
   "id": "52a8759b",
   "metadata": {},
   "outputs": [],
   "source": [
    "data.groupby('Gender')['Loan_Status'].count().plot(kind='bar')"
   ]
  },
  {
   "cell_type": "markdown",
   "id": "499530f9",
   "metadata": {},
   "source": [
    "## Data Cleaning"
   ]
  },
  {
   "cell_type": "markdown",
   "id": "51a5d67d",
   "metadata": {},
   "source": [
    "## Missing Value \n"
   ]
  },
  {
   "cell_type": "code",
   "execution_count": null,
   "id": "10ac84f8",
   "metadata": {},
   "outputs": [],
   "source": [
    "# Identify the missing values under each column\n",
    "data.isnull().sum()"
   ]
  },
  {
   "cell_type": "code",
   "execution_count": null,
   "id": "ba02b0ee",
   "metadata": {},
   "outputs": [],
   "source": [
    "# Total missing values\n",
    "data.isnull().sum().sum()"
   ]
  },
  {
   "cell_type": "code",
   "execution_count": null,
   "id": "878fa36b",
   "metadata": {},
   "outputs": [],
   "source": [
    "# % missing values\n",
    "(data.isnull().sum().sum()/len(data))*100"
   ]
  },
  {
   "cell_type": "code",
   "execution_count": null,
   "id": "ae78f7e8",
   "metadata": {},
   "outputs": [],
   "source": [
    "def missing_data(data):\n",
    "    total = data.isnull().sum().sort_values(ascending = False)\n",
    "    percent = (data.isnull().sum()/data.isnull().count()*100).sort_values(ascending = False)\n",
    "    return pd.concat([total, percent], axis=1, keys=['Total', 'Percent'])\n",
    "missing_data(data)"
   ]
  },
  {
   "cell_type": "markdown",
   "id": "128981d2",
   "metadata": {},
   "source": [
    "## impute the missing data"
   ]
  },
  {
   "cell_type": "code",
   "execution_count": null,
   "id": "346559e7",
   "metadata": {},
   "outputs": [],
   "source": [
    "# percentage of missing data whandling based on the domain knowledge\n",
    "\n",
    "# <5% - remove the rows which are having missing values (Deletion)\n",
    "\n",
    "# 5% to 10% - impute using mean, median (numeric data) or mode(non-numeric data)\n",
    "# 5% to 10% - forward fill/backward fill (is used for time-series data)\n",
    "\n",
    "# 10% to 20% - regression, KNN imputation, interpolation\n",
    "\n",
    "# >20% - drop that column / attribute based on the relevance \n",
    "# >20% - factorization, random techniques"
   ]
  },
  {
   "cell_type": "code",
   "execution_count": null,
   "id": "6ee968c0",
   "metadata": {},
   "outputs": [],
   "source": [
    "# Impute with mean provided outliers are not there\n",
    "data.boxplot(figsize=(8,8))"
   ]
  },
  {
   "cell_type": "code",
   "execution_count": null,
   "id": "a5cdd957",
   "metadata": {},
   "outputs": [],
   "source": [
    "# use median to impute the missing values for numeric attributes\n",
    "data['LoanAmount'].fillna(data['LoanAmount'].median(),inplace=True)\n",
    "data['Credit_History'].fillna(data['Credit_History'].median(),inplace=True)\n",
    "data['Loan_Amount_Term'].fillna(data['Loan_Amount_Term'].median(),inplace=True)"
   ]
  },
  {
   "cell_type": "code",
   "execution_count": null,
   "id": "8dffeb4c",
   "metadata": {},
   "outputs": [],
   "source": [
    "data.isnull().sum()"
   ]
  },
  {
   "cell_type": "code",
   "execution_count": null,
   "id": "cb592417",
   "metadata": {},
   "outputs": [],
   "source": [
    "data.info()"
   ]
  },
  {
   "cell_type": "code",
   "execution_count": null,
   "id": "1a32860a",
   "metadata": {},
   "outputs": [],
   "source": [
    "# use mode to impute the missing values for object type attributes\n",
    "data['Gender'].fillna(data['Gender'].mode()[0],inplace=True)\n",
    "data['Married'].fillna(data['Married'].mode()[0],inplace=True)\n",
    "data['Dependents'].fillna(data['Dependents'].mode()[0],inplace=True)\n",
    "data['Self_Employed'].fillna(data['Self_Employed'].mode()[0],inplace=True)"
   ]
  },
  {
   "cell_type": "code",
   "execution_count": null,
   "id": "e60efb9f",
   "metadata": {},
   "outputs": [],
   "source": [
    "data['Dependents'].value_counts()"
   ]
  },
  {
   "cell_type": "code",
   "execution_count": null,
   "id": "9ecdab25",
   "metadata": {},
   "outputs": [],
   "source": [
    "data.isnull().sum()"
   ]
  },
  {
   "cell_type": "code",
   "execution_count": null,
   "id": "664094b1",
   "metadata": {},
   "outputs": [],
   "source": [
    "d=pd.DataFrame([10,20,30,30,10])\n",
    "d.mode()[0]"
   ]
  },
  {
   "cell_type": "code",
   "execution_count": null,
   "id": "cb105e1c",
   "metadata": {},
   "outputs": [],
   "source": [
    "d=pd.DataFrame([10,20,30,30,10,np.nan,np.nan])\n",
    "d"
   ]
  },
  {
   "cell_type": "code",
   "execution_count": null,
   "id": "58f04c9b",
   "metadata": {},
   "outputs": [],
   "source": [
    "d.fillna(d.mode()[0],inplace=True)\n",
    "d"
   ]
  },
  {
   "cell_type": "code",
   "execution_count": null,
   "id": "d2e244a2",
   "metadata": {},
   "outputs": [],
   "source": [
    "from sklearn.impute import SimpleImputer\n",
    "\n",
    "# Create the array\n",
    "scores = np.array([15, np.nan, 18, 7, 13, 16, 11, 21, 5, 15, 10, 9, np.nan])\n",
    "\n",
    "\n",
    "# Create a SimpleImputer object with the mean strategy\n",
    "imputer = SimpleImputer(strategy='median')\n",
    "\n",
    "# # Fit and transform the imputer on the scores array\n",
    "imputed_scores = imputer.fit_transform(scores.reshape(-1,1))\n",
    "\n",
    "\n",
    "# # Print the imputed scores in one dimension\n",
    "print(imputed_scores.flatten())"
   ]
  },
  {
   "cell_type": "markdown",
   "id": "0951d01e",
   "metadata": {},
   "source": [
    "## Outlier detection ways\n",
    "- box plot or histogram\n",
    "- Z-score\n",
    "- IQR (Inter Quartile Range)"
   ]
  },
  {
   "cell_type": "code",
   "execution_count": null,
   "id": "d6ba37c2",
   "metadata": {},
   "outputs": [],
   "source": [
    "scores=np.array([15, 101, 18, 7, 13, 16, 11, 21, 5, 15, 10, 9,-201])"
   ]
  },
  {
   "cell_type": "code",
   "execution_count": null,
   "id": "9585ad81",
   "metadata": {},
   "outputs": [],
   "source": [
    "scores"
   ]
  },
  {
   "cell_type": "code",
   "execution_count": null,
   "id": "4427b26a",
   "metadata": {},
   "outputs": [],
   "source": [
    "# Box plot\n",
    "sns.boxplot(scores)"
   ]
  },
  {
   "cell_type": "code",
   "execution_count": null,
   "id": "0f7e0388",
   "metadata": {},
   "outputs": [],
   "source": [
    "# histogram\n",
    "sns.histplot(scores)"
   ]
  },
  {
   "cell_type": "code",
   "execution_count": null,
   "id": "ac693adc",
   "metadata": {},
   "outputs": [],
   "source": [
    "# Z-score\n",
    "# Z=(x-mean)/std_dev\n",
    "\n",
    "scores=np.array([15, 101, 18, 7, 13, 16, 11, 21, 5, 15, 10, 9,-201])\n",
    "scores=np.sort(scores)\n",
    "mean=np.mean(scores)\n",
    "std_dev=np.std(scores)\n",
    "z_scores=(scores-mean)/std_dev\n",
    "print(z_scores)\n",
    "\n",
    "outliers=scores[np.abs(z_scores)>=1.5]\n",
    "print(\"outliers\",outliers)\n"
   ]
  },
  {
   "cell_type": "markdown",
   "id": "d939de2b",
   "metadata": {},
   "source": [
    "- if z-score  of a value is less than -3 or greater than +3 then the value associated with the z-score is considered as an outlier"
   ]
  },
  {
   "cell_type": "code",
   "execution_count": null,
   "id": "a285615e",
   "metadata": {},
   "outputs": [],
   "source": [
    "sns.boxplot(scores)"
   ]
  },
  {
   "cell_type": "code",
   "execution_count": null,
   "id": "c3fd1304",
   "metadata": {},
   "outputs": [],
   "source": [
    "# IQR\n",
    "# IQR=Q3-Q1\n",
    "Q1=np.quantile(scores,0.25)\n",
    "Q3=np.quantile(scores,0.75)\n",
    "IQR=Q3-Q1\n",
    "\n",
    "UB=Q3+1.5*IQR\n",
    "LB=Q1-1.5*IQR\n",
    "\n",
    "print(Q1,Q3,LB,UB)\n",
    "\n",
    "outliers=scores[(scores<=LB) | (scores>=UB)]\n",
    "print(outliers)"
   ]
  },
  {
   "cell_type": "code",
   "execution_count": null,
   "id": "aec38903",
   "metadata": {},
   "outputs": [],
   "source": [
    "# Handling Outliers\n",
    "# Remove the outliers considering the data imbalance\n",
    "# Extending the IQR \n",
    "# Mean/Median used for imputation\n",
    "# use percentiles (10th , 90th) for imputing"
   ]
  },
  {
   "cell_type": "code",
   "execution_count": null,
   "id": "d118ea69",
   "metadata": {},
   "outputs": [],
   "source": [
    "sns.boxplot(data=data['LoanAmount'])"
   ]
  },
  {
   "cell_type": "code",
   "execution_count": null,
   "id": "12fd6d4c",
   "metadata": {},
   "outputs": [],
   "source": [
    "# Remove the outliers\n",
    "# IQR=Q3-Q1\n",
    "Q1=np.quantile(data['LoanAmount'],0.25)\n",
    "Q3=np.quantile(data['LoanAmount'],0.75)\n",
    "IQR=Q3-Q1\n",
    "\n",
    "UB=Q3+3*IQR\n",
    "LB=Q1-3*IQR\n",
    "\n",
    "#print(Q1,Q3,LB,UB)\n",
    "\n",
    "outliers=data[(data['LoanAmount']<=LB) | (data['LoanAmount']>=UB)]\n",
    "print(len(outliers))"
   ]
  },
  {
   "cell_type": "code",
   "execution_count": null,
   "id": "1c006a65",
   "metadata": {},
   "outputs": [],
   "source": [
    "not_outliers=data[(data['LoanAmount']>LB) & (data['LoanAmount']<UB)]\n",
    "print(len(not_outliers))"
   ]
  },
  {
   "cell_type": "code",
   "execution_count": null,
   "id": "99819393",
   "metadata": {},
   "outputs": [],
   "source": [
    "sns.boxplot(data=not_outliers['LoanAmount'])"
   ]
  },
  {
   "cell_type": "markdown",
   "id": "107e3c22",
   "metadata": {},
   "source": [
    "## How to handle outliers"
   ]
  },
  {
   "cell_type": "code",
   "execution_count": null,
   "id": "198470fa",
   "metadata": {},
   "outputs": [],
   "source": [
    "# Remove the outliers: if they are due to data entry error or they are not part of the data distribution\n",
    "# Tranformations: log-tranform in case of skewed data use \n",
    "# Binning / discretization: grouping the data into bins"
   ]
  },
  {
   "cell_type": "code",
   "execution_count": null,
   "id": "b4ebbd7a",
   "metadata": {},
   "outputs": [],
   "source": [
    "# Box plot \n",
    "px.box(data,x='LoanAmount')"
   ]
  },
  {
   "cell_type": "code",
   "execution_count": null,
   "id": "ff7116ab",
   "metadata": {},
   "outputs": [],
   "source": [
    "fig=px.histogram(data,x='LoanAmount')\n",
    "fig.show()"
   ]
  },
  {
   "cell_type": "code",
   "execution_count": null,
   "id": "658c0b6f",
   "metadata": {},
   "outputs": [],
   "source": [
    "sns.distplot(data['LoanAmount'])"
   ]
  },
  {
   "cell_type": "code",
   "execution_count": null,
   "id": "55433cb5",
   "metadata": {},
   "outputs": [],
   "source": [
    "# Handle outliers with log tranform\n",
    "data1=data\n",
    "data1['LoanAmount'].head(3)"
   ]
  },
  {
   "cell_type": "code",
   "execution_count": null,
   "id": "6688616f",
   "metadata": {},
   "outputs": [],
   "source": [
    "data1['LoanAmount']=np.log(data1['LoanAmount'])\n",
    "data1['LoanAmount'].head(3)"
   ]
  },
  {
   "cell_type": "code",
   "execution_count": null,
   "id": "5b74d66e",
   "metadata": {},
   "outputs": [],
   "source": []
  },
  {
   "cell_type": "code",
   "execution_count": null,
   "id": "35dfb826",
   "metadata": {},
   "outputs": [],
   "source": [
    "sns.distplot(data1['LoanAmount'])"
   ]
  },
  {
   "cell_type": "code",
   "execution_count": null,
   "id": "f0562d8c",
   "metadata": {},
   "outputs": [],
   "source": [
    "# Remove the outliers\n",
    "# IQR=Q3-Q1\n",
    "Q1=np.quantile(data1['LoanAmount'],0.25)\n",
    "Q3=np.quantile(data1['LoanAmount'],0.75)\n",
    "IQR=Q3-Q1\n",
    "\n",
    "UB=Q3+3*IQR\n",
    "LB=Q1-3*IQR\n",
    "\n",
    "#print(Q1,Q3,LB,UB)\n",
    "\n",
    "outliers=data1[(data1['LoanAmount']<=LB) | (data1['LoanAmount']>=UB)]\n",
    "print(len(outliers))"
   ]
  },
  {
   "cell_type": "markdown",
   "id": "71ccd6c3",
   "metadata": {},
   "source": [
    "## Discrepancies / Inconsistencies in data"
   ]
  },
  {
   "cell_type": "code",
   "execution_count": null,
   "id": "a09f64ca",
   "metadata": {},
   "outputs": [],
   "source": [
    "# Repalce 3+ with 4\n",
    "data['Dependents'].value_counts()"
   ]
  },
  {
   "cell_type": "code",
   "execution_count": null,
   "id": "8197044c",
   "metadata": {},
   "outputs": [],
   "source": []
  },
  {
   "cell_type": "code",
   "execution_count": null,
   "id": "4c1c59a5",
   "metadata": {},
   "outputs": [],
   "source": [
    "data=data.replace(to_replace='3+',value=4)"
   ]
  },
  {
   "cell_type": "code",
   "execution_count": null,
   "id": "df263bd7",
   "metadata": {},
   "outputs": [],
   "source": [
    "data.head(3)"
   ]
  },
  {
   "cell_type": "code",
   "execution_count": null,
   "id": "68235f17",
   "metadata": {},
   "outputs": [],
   "source": [
    "data['Dependents'].value_counts()"
   ]
  },
  {
   "cell_type": "markdown",
   "id": "53fff370",
   "metadata": {},
   "source": [
    "# Feature Engineering"
   ]
  },
  {
   "cell_type": "markdown",
   "id": "7a5016e6",
   "metadata": {},
   "source": [
    "- Create a new feature / attribute\n",
    "- Transform the existing feature \n",
    "- Feature can be numeric, categorical"
   ]
  },
  {
   "cell_type": "markdown",
   "id": "a24b9f61",
   "metadata": {},
   "source": [
    "## Variable Transformation\n",
    "- Categorical Variable Transformations -Encoding Techniques\n",
    "- Numeric Variable Transformation - Standardization and Normalization "
   ]
  },
  {
   "cell_type": "markdown",
   "id": "8e94c5ae",
   "metadata": {},
   "source": [
    "## Categorical Variable Transformations -Encoding Techniques\n",
    "- one-hot encoding\n",
    "- count encoding\n",
    "- label encoding\n",
    "- ordinal encoding"
   ]
  },
  {
   "cell_type": "markdown",
   "id": "412be384",
   "metadata": {},
   "source": [
    "## one-hot encoding \n",
    "- Each category is represented as a binary vector with 0s and a single 1.\n",
    "- One-hot encoding is preferred in situations where there is no ordinal relationship between categories, and each category is treated as independent."
   ]
  },
  {
   "cell_type": "code",
   "execution_count": null,
   "id": "0dffc8aa",
   "metadata": {},
   "outputs": [],
   "source": [
    "#pip install -U scikit-learn"
   ]
  },
  {
   "cell_type": "code",
   "execution_count": null,
   "id": "9365bf48",
   "metadata": {},
   "outputs": [],
   "source": [
    "import pandas as pd\n",
    "from sklearn.preprocessing import OneHotEncoder\n",
    "df=pd.DataFrame({'colors':['red','Green','blue','Green','red']})\n",
    "encd=OneHotEncoder()\n",
    "encoded_data=encd.fit_transform(df[['colors']])\n",
    "encoded_data=pd.DataFrame(encoded_data.toarray(),columns=encd.get_feature_names_out())\n",
    "print(encoded_data)"
   ]
  },
  {
   "cell_type": "code",
   "execution_count": null,
   "id": "4ed17aa9",
   "metadata": {},
   "outputs": [],
   "source": [
    "# blue Green red\n",
    "# 0     0     1\n",
    "# 0     1     0\n",
    "# 1     0     0\n",
    "# 0     1     0\n",
    "# 0     0     1"
   ]
  },
  {
   "cell_type": "code",
   "execution_count": null,
   "id": "0b4370d6",
   "metadata": {},
   "outputs": [],
   "source": [
    "#pip install category_encoders\n"
   ]
  },
  {
   "cell_type": "markdown",
   "id": "8dd6fdbc",
   "metadata": {},
   "source": [
    "## Count Encoding\n",
    "- is used to convert categorical variables into numerical format by assigning the frequency count of each category"
   ]
  },
  {
   "cell_type": "code",
   "execution_count": null,
   "id": "b7bcb954",
   "metadata": {},
   "outputs": [],
   "source": [
    "# Count Encoding\n",
    "import pandas as pd\n",
    "import category_encoders as ce\n",
    "df=pd.DataFrame({'colors':['red','Green','blue','Green','red']})\n",
    "encd = ce.CountEncoder()\n",
    "encoded_data=encd.fit_transform(df['colors'])\n",
    "encoded_data=pd.DataFrame(encoded_data,columns=encd.get_feature_names_out())\n",
    "print(encoded_data)"
   ]
  },
  {
   "cell_type": "code",
   "execution_count": null,
   "id": "3c7a5f18",
   "metadata": {},
   "outputs": [],
   "source": [
    "# color    count\n",
    "# red      2\n",
    "# Green    2\n",
    "# blue     1\n",
    "# Green    2\n",
    "# red      2\n"
   ]
  },
  {
   "cell_type": "markdown",
   "id": "a27be0e2",
   "metadata": {},
   "source": [
    "## Label Encoding\n",
    "- Label encoding assigns a unique integer label to each category "
   ]
  },
  {
   "cell_type": "code",
   "execution_count": null,
   "id": "b145e9d5",
   "metadata": {},
   "outputs": [],
   "source": [
    "from sklearn.preprocessing import LabelEncoder\n",
    "df=pd.DataFrame({'Size': [\"Small\",\"Medium\",\"Large\",\"ExtraLarge\"]})\n",
    "df"
   ]
  },
  {
   "cell_type": "code",
   "execution_count": null,
   "id": "67df0132",
   "metadata": {},
   "outputs": [],
   "source": [
    "# initialize the encoder\n",
    "encd=LabelEncoder()"
   ]
  },
  {
   "cell_type": "code",
   "execution_count": null,
   "id": "e61af335",
   "metadata": {},
   "outputs": [],
   "source": [
    "# Fit and transform the data\n",
    "encd_data=encd.fit_transform(df['Size'])"
   ]
  },
  {
   "cell_type": "code",
   "execution_count": null,
   "id": "d8ab25bb",
   "metadata": {},
   "outputs": [],
   "source": [
    "df['Encd_data']=encd_data\n",
    "print(df)"
   ]
  },
  {
   "cell_type": "markdown",
   "id": "0b339205",
   "metadata": {},
   "source": [
    "## Ordinal Encoding\n",
    "- convert categorical into numerical while preserving the ordinal information"
   ]
  },
  {
   "cell_type": "code",
   "execution_count": null,
   "id": "7dde4712",
   "metadata": {},
   "outputs": [],
   "source": [
    "df1=pd.DataFrame({'FeedBack': [\"Average\",\"Good\",\"Average\",\"Poor\",\"Excellent\",\"Good\",\"Verypoor\",\"Good\",\"Average\",\"Poor\",\"Excellent\",\"Verypoor\"]})\n",
    "df1\n",
    "\n",
    "# The scale is : VeryPoor:0, Poor:1,Average:2,Good:3,Excellent:4"
   ]
  },
  {
   "cell_type": "code",
   "execution_count": null,
   "id": "3ae1e13d",
   "metadata": {},
   "outputs": [],
   "source": [
    "# Define the order\n",
    "order=[\"Verypoor\",\"Poor\",\"Average\",\"Good\",\"Excellent\"]"
   ]
  },
  {
   "cell_type": "code",
   "execution_count": null,
   "id": "71ad3330",
   "metadata": {},
   "outputs": [],
   "source": [
    "# convert the categorical with specified order\n",
    "df1['FeedBack_codes']=pd.Categorical(df1[\"FeedBack\"], categories=order, ordered=True).codes\n",
    "print(df1)"
   ]
  },
  {
   "cell_type": "code",
   "execution_count": null,
   "id": "1f475688",
   "metadata": {},
   "outputs": [],
   "source": []
  },
  {
   "cell_type": "markdown",
   "id": "ae5fca4e",
   "metadata": {},
   "source": [
    "## Apply Encoding techniques on loan dataset \n",
    "- to convert categorical to numerical"
   ]
  },
  {
   "cell_type": "code",
   "execution_count": null,
   "id": "4a90a70a",
   "metadata": {},
   "outputs": [],
   "source": [
    "data.head(5)"
   ]
  },
  {
   "cell_type": "code",
   "execution_count": null,
   "id": "4dd9c344",
   "metadata": {},
   "outputs": [],
   "source": [
    "data.dtypes"
   ]
  },
  {
   "cell_type": "code",
   "execution_count": null,
   "id": "8c0b97c8",
   "metadata": {},
   "outputs": [],
   "source": [
    "# Binary Encoding Technique using map() function\n",
    "data1=data\n",
    "Gender_map={'Male':0,'Female':1}                \n",
    "data1['Gender'] = data1['Gender'].map(Gender_map)    \n",
    "data1['Gender'].head(5)"
   ]
  },
  {
   "cell_type": "code",
   "execution_count": null,
   "id": "e586002a",
   "metadata": {},
   "outputs": [],
   "source": [
    "data1[\"Property_Area\"].value_counts()"
   ]
  },
  {
   "cell_type": "code",
   "execution_count": null,
   "id": "1bd8ae16",
   "metadata": {},
   "outputs": [],
   "source": [
    "Married_map={\"Yes\":1,\"No\":0}\n",
    "Education_map={\"Graduate\":1,\"Not Graduate\":0}\n",
    "Dependents_map={'0':0,'1':1,'2':2,'4':4}\n",
    "Self_Employed_map={\"Yes\":1,\"No\":0}         \n",
    "Property_Area_map={\"Rural\":0,\"Urban\":1,\"Semiurban\":2}         \n",
    "Loan_Status_map={'Y':1,'N':0}   "
   ]
  },
  {
   "cell_type": "code",
   "execution_count": null,
   "id": "3d0b2d8c",
   "metadata": {},
   "outputs": [],
   "source": [
    "data1['Married'] = data1['Married'].map(Married_map) \n",
    "data1['Education'] = data1['Education'].map(Education_map) \n",
    "data1['Dependents'] = data1['Dependents'].map(Dependents_map) \n",
    "data1['Self_Employed'] = data1['Self_Employed'].map(Self_Employed_map) \n",
    "data1['Property_Area'] = data1['Property_Area'].map(Property_Area_map) \n",
    "data1['Loan_Status'] = data1['Loan_Status'].map(Loan_Status_map) "
   ]
  },
  {
   "cell_type": "code",
   "execution_count": null,
   "id": "69d3e7f5",
   "metadata": {},
   "outputs": [],
   "source": [
    "data1['Dependents'].value_counts()"
   ]
  },
  {
   "cell_type": "code",
   "execution_count": null,
   "id": "ed07ba82",
   "metadata": {},
   "outputs": [],
   "source": [
    "data1.head(5)"
   ]
  },
  {
   "cell_type": "code",
   "execution_count": null,
   "id": "bed8cd46",
   "metadata": {},
   "outputs": [],
   "source": [
    "# Drop the column\n",
    "data1.drop(['Married'],inplace=True, axis=1)\n",
    "data1.head(4)"
   ]
  },
  {
   "cell_type": "markdown",
   "id": "e629679c",
   "metadata": {},
   "source": [
    "## Bivaraite Analysis "
   ]
  },
  {
   "cell_type": "markdown",
   "id": "a1b0ef1a",
   "metadata": {},
   "source": [
    "- Examine the realtionship between two variables in the dataset \n",
    "- The variables are independent and dependent (target Vaiable)"
   ]
  },
  {
   "cell_type": "markdown",
   "id": "5c6f3096",
   "metadata": {},
   "source": [
    "## Correlation"
   ]
  },
  {
   "cell_type": "code",
   "execution_count": null,
   "id": "09729c2f",
   "metadata": {},
   "outputs": [],
   "source": [
    "corrs = data1.corr()\n",
    "corrs"
   ]
  },
  {
   "cell_type": "code",
   "execution_count": null,
   "id": "d6a263a3",
   "metadata": {},
   "outputs": [],
   "source": [
    "# Heatmap is used to provide the association among the variables in the dataset\n",
    "matrix = data1.corr()\n",
    "plt.subplots(figsize=(10,12))\n",
    "sns.heatmap(matrix,vmax=.8,square=True,cmap='RdYlGn', annot = True)\n"
   ]
  },
  {
   "cell_type": "markdown",
   "id": "59ea690b",
   "metadata": {},
   "source": [
    "# Model Planning"
   ]
  },
  {
   "cell_type": "markdown",
   "id": "a341aa3a",
   "metadata": {},
   "source": [
    "### Loan dataset is having a target column hence suprevised learning algorithm can be used.\n",
    "### Regression\n",
    "### Classfication"
   ]
  },
  {
   "cell_type": "markdown",
   "id": "1a5ff0c8",
   "metadata": {},
   "source": [
    "### Regression: target variable is numeric (Linear)\n",
    "### Classification: target variable  is categorical (non linear)    \n"
   ]
  },
  {
   "cell_type": "markdown",
   "id": "5baffa4c",
   "metadata": {},
   "source": [
    "### Regression\n",
    "- Linear : y=mx+c y=beta0+beta1*x\n",
    "    Multiple y=beta0+beta1*x1+beta2*x2\n",
    "- Polynomial y=beta0+beta1*x+beta2*x^2\n",
    "- Lasso\n",
    "- Ridge   "
   ]
  },
  {
   "cell_type": "markdown",
   "id": "9f60c2d8",
   "metadata": {},
   "source": [
    "# Construct the Linear Regression Model \n",
    "- import the libraries\n",
    "- Load the dataset\n",
    "- Pre-Process the data\n",
    "- Split the dataset into train and test\n",
    "- Create the Linear Regression Model\n",
    "- Evaluate the Model"
   ]
  },
  {
   "cell_type": "code",
   "execution_count": null,
   "id": "dd5aeee7",
   "metadata": {},
   "outputs": [],
   "source": [
    "import pandas as pd\n",
    "import numpy as np\n",
    "\n",
    "from sklearn.linear_model import LinearRegression\n",
    "from sklearn.model_selection import train_test_split\n",
    "\n",
    "import matplotlib.pyplot as plt\n",
    "import seaborn as sns\n",
    "\n",
    "import warnings\n",
    "warnings.filterwarnings(\"ignore\")"
   ]
  },
  {
   "cell_type": "code",
   "execution_count": null,
   "id": "1fd8c3b5",
   "metadata": {},
   "outputs": [],
   "source": [
    "# load the dataset\n",
    "data=pd.read_csv(\"loan.csv\")\n",
    "data.head(3)"
   ]
  },
  {
   "cell_type": "code",
   "execution_count": null,
   "id": "2f193184",
   "metadata": {},
   "outputs": [],
   "source": [
    "# Preprocessed data \n",
    "# refer the previous work in the same jupyter notebook to obtain the preprocessed data\n",
    "data1.head(3)"
   ]
  },
  {
   "cell_type": "code",
   "execution_count": null,
   "id": "396e6342",
   "metadata": {},
   "outputs": [],
   "source": [
    "# Create train and test datasets\n",
    "from sklearn.model_selection import train_test_split"
   ]
  },
  {
   "cell_type": "code",
   "execution_count": null,
   "id": "a1bab286",
   "metadata": {},
   "outputs": [],
   "source": [
    "# split the data and label\n",
    "X = data1.drop(columns=['Loan_Status'],axis=1)   # independent variable / predictor variable / input varaible\n",
    "Y = data1['Loan_Status']        # dependent variable / response variable / output variable /target variable"
   ]
  },
  {
   "cell_type": "code",
   "execution_count": null,
   "id": "67f4d562",
   "metadata": {},
   "outputs": [],
   "source": [
    "X.head(3)"
   ]
  },
  {
   "cell_type": "code",
   "execution_count": null,
   "id": "c688a22c",
   "metadata": {},
   "outputs": [],
   "source": [
    "Y.head(3)"
   ]
  },
  {
   "cell_type": "code",
   "execution_count": null,
   "id": "d0cd1c71",
   "metadata": {},
   "outputs": [],
   "source": [
    "# Simple Linear regression Equation (with one dependent variable)\n",
    "# y=b0+b1*x+e\n",
    "# y=c+mx\n",
    "\n",
    "# Multiple Linear regression Equation (with more than one dependent variable)\n",
    "# y  = b0 + (b1*x1) + (b2*x2) + (b3 *x3)+.......+(b10*x10)"
   ]
  },
  {
   "cell_type": "code",
   "execution_count": null,
   "id": "df817af2",
   "metadata": {},
   "outputs": [],
   "source": [
    "X_train,X_test,Y_train,Y_test=train_test_split(X,Y,test_size=0.3,random_state=42,stratify=Y)\n",
    "# X_train: training data set 70% of the original data\n",
    "# Y_train: target variable corresponding to the training data set\n",
    "# X_test: testing data set 30% of the original data\n",
    "# Y_test: target variable corresponding to the test data set \n",
    "# stratify is used with respect to the target variable (loan_status(0,1)) to maintain the proportion of \n",
    "# each value of the target in train as well as test dataset same as the orignal dataset\n",
    "print(data1['Loan_Status'].value_counts(normalize=True))\n",
    "print(Y_train.value_counts(normalize=True))"
   ]
  },
  {
   "cell_type": "code",
   "execution_count": null,
   "id": "885f798f",
   "metadata": {},
   "outputs": [],
   "source": [
    "# # without stratify\n",
    "# X_train,X_test,Y_train,Y_test=train_test_split(X,Y,test_size=0.3,random_state=42)\n",
    "# # stratify is used with respect to the target variable (loan_status(0,1))\n",
    "# print(data1['Loan_Status'].value_counts(normalize=True))\n",
    "# print(Y_train.value_counts(normalize=True))\n",
    "# print(Y_test.value_counts(normalize=True))"
   ]
  },
  {
   "cell_type": "code",
   "execution_count": null,
   "id": "5f7dfd7a",
   "metadata": {},
   "outputs": [],
   "source": [
    "print(X.shape,X_test.shape,X_train.shape)"
   ]
  },
  {
   "cell_type": "code",
   "execution_count": null,
   "id": "1a533243",
   "metadata": {},
   "outputs": [],
   "source": [
    "X_train.head(3)"
   ]
  },
  {
   "cell_type": "code",
   "execution_count": null,
   "id": "2be9d707",
   "metadata": {},
   "outputs": [],
   "source": [
    "data1.isnull().sum()"
   ]
  },
  {
   "cell_type": "code",
   "execution_count": null,
   "id": "9241adc7",
   "metadata": {},
   "outputs": [],
   "source": [
    "model=LinearRegression() # creates an instance \n",
    "model.fit(X_train,Y_train) # fit the model to the data"
   ]
  },
  {
   "cell_type": "code",
   "execution_count": null,
   "id": "1861b317",
   "metadata": {},
   "outputs": [],
   "source": [
    "# model output\n",
    "# obtain the intercept of the regression line equation\n",
    "print(model.intercept_)"
   ]
  },
  {
   "cell_type": "code",
   "execution_count": null,
   "id": "0314961a",
   "metadata": {},
   "outputs": [],
   "source": [
    "# obtain the sploe of the regression line equation\n",
    "print(model.coef_)"
   ]
  },
  {
   "cell_type": "code",
   "execution_count": null,
   "id": "0a6ae0ae",
   "metadata": {},
   "outputs": [],
   "source": [
    "# y  = b0 + (b1*x1) + (b2*x2) + (b3 *x3)+.......+(b10*x10)\n",
    "# Loan_Status = -0.033537750976353586 + (-0.00172)*Gender + (0.0318)*Dependents + ...........+(0.709)*Credit_History + (0.0741)* Property_Area"
   ]
  },
  {
   "cell_type": "code",
   "execution_count": null,
   "id": "411ee1f9",
   "metadata": {},
   "outputs": [],
   "source": [
    "# -1.71879947e-03 = -0.00172\n",
    "# 3.17903986e-02 = 0.0318\n",
    "# .\n",
    "# .\n",
    "# .\n",
    "# .\n",
    "# .\n",
    "# .\n",
    "# 7.09384958e-01 = 0.709\n",
    "# 7.41414849e-02 = 0.0741"
   ]
  },
  {
   "cell_type": "code",
   "execution_count": null,
   "id": "181b6461",
   "metadata": {},
   "outputs": [],
   "source": [
    "# Use the model for prediction\n",
    "# using the test data set for prediction\n",
    "Loan_Status_Predict=model.predict(X_test)\n",
    "Loan_Status_Predict=[round(i,2) for i in Loan_Status_Predict]\n",
    "print(len(Loan_Status_Predict))\n",
    "print(Loan_Status_Predict)"
   ]
  },
  {
   "cell_type": "code",
   "execution_count": null,
   "id": "50c2c768",
   "metadata": {},
   "outputs": [],
   "source": [
    "Act_Pred=pd.DataFrame({'Actual':Y_test,'Predicted':Loan_Status_Predict})\n",
    "Act_Pred"
   ]
  },
  {
   "cell_type": "markdown",
   "id": "8f628fcf",
   "metadata": {},
   "source": [
    "## Model Evaluation Metrics"
   ]
  },
  {
   "cell_type": "code",
   "execution_count": null,
   "id": "e0edb8aa",
   "metadata": {},
   "outputs": [],
   "source": [
    "# Error : difference between the Actual and predicted values\n",
    "    \n",
    "# MSE :Mean Squared Error\n",
    "# Measure the average(mean) squared difference between the predicted and the actual values\n",
    "\n",
    "# MAE: Mean Absolute Error\n",
    "# Measure the average(mean) absolute difference between the predicted and the actual values\n",
    "\n",
    "# RMSE: Root Mean Squred Error\n",
    "# Square root of MSE\n",
    "\n",
    "# MAPE: Mean absolute percentage Error\n",
    "\n",
    "# R-squared (R2): \n",
    "# R-square or the coefficient of determination is a metric used to evaluate the regression model.\n",
    "# it measures the independent variable impact on the depenedent variable\n",
    "# ranges between 0 to 1\n",
    "# R2=0 the model does not explain any of the variance in the dependent variable. Poor fit.\n",
    "# R2=1 Excellent model. All the variance in the dependent variable is explained.\n",
    "# R2=1-[(sum of the squared differences between the actual dependent values and predicted values)/(Sum of squared differences between the actual dependent values and the mean of the dependent values)"
   ]
  },
  {
   "attachments": {
    "R%20square.png": {
     "image/png": "[encoded data removed]"
    }
   },
   "cell_type": "markdown",
   "id": "867dc6ea",
   "metadata": {},
   "source": [
    "![R%20square.png](attachment:R%20square.png)"
   ]
  },
  {
   "cell_type": "code",
   "execution_count": null,
   "id": "77a59634",
   "metadata": {},
   "outputs": [],
   "source": [
    "from sklearn import metrics"
   ]
  },
  {
   "cell_type": "code",
   "execution_count": null,
   "id": "7556cd7d",
   "metadata": {},
   "outputs": [],
   "source": [
    "print(\" The R Squared Score \", model.score(X_test,Y_test))\n",
    "# calculating the R2 score using the model on the X_test and comparing the  predictions with the Y_test"
   ]
  },
  {
   "cell_type": "code",
   "execution_count": null,
   "id": "234d9cec",
   "metadata": {},
   "outputs": [],
   "source": [
    "print(\" The R Squared Score \", model.score(X,Y))"
   ]
  },
  {
   "cell_type": "code",
   "execution_count": null,
   "id": "5904b89d",
   "metadata": {},
   "outputs": [],
   "source": [
    "# MAE\n",
    "MAE=metrics.mean_absolute_error(Y_test,Loan_Status_Predict)\n",
    "print(MAE)"
   ]
  },
  {
   "cell_type": "code",
   "execution_count": null,
   "id": "85379e23",
   "metadata": {},
   "outputs": [],
   "source": [
    "# MSE\n",
    "MSE=metrics.mean_squared_error(Y_test,Loan_Status_Predict)\n",
    "print(MSE)"
   ]
  },
  {
   "cell_type": "code",
   "execution_count": null,
   "id": "1ac33f3f",
   "metadata": {},
   "outputs": [],
   "source": [
    "# RMSE\n",
    "RMSE=np.sqrt(metrics.mean_squared_error(Y_test,Loan_Status_Predict))\n",
    "print(RMSE)"
   ]
  },
  {
   "cell_type": "code",
   "execution_count": null,
   "id": "32a74b84",
   "metadata": {},
   "outputs": [],
   "source": [
    "# Act_Pred['Actual']\n",
    "# Act_Pred['Predicted']\n",
    "# print(abs((Act_Pred['Actual']-Act_Pred['Predicted'])))\n",
    "# print(abs((Act_Pred['Actual']-Act_Pred['Predicted'])/(Act_Pred['Actual'])))\n",
    "# MAPE=abs((Act_Pred['Actual']-Act_Pred['Predicted'])/(Act_Pred['Actual']))*100\n",
    "# MAPE.mean()\n",
    "# MAPE\n",
    "# MAPE=np.mean(abs((Act_Pred['Actual']-Act_Pred['Predicted'])/(Act_Pred['Actual']))*100)\n",
    "# print(MAPE)"
   ]
  },
  {
   "cell_type": "code",
   "execution_count": null,
   "id": "3f3b91e9",
   "metadata": {},
   "outputs": [],
   "source": [
    "# Adjusted R square\n",
    "# R2 value\n",
    "# number of attributes / variables\n",
    "# number of independent variables used in the model"
   ]
  },
  {
   "cell_type": "code",
   "execution_count": null,
   "id": "d762e27e",
   "metadata": {},
   "outputs": [],
   "source": [
    "import statsmodels.formula.api as smf"
   ]
  },
  {
   "cell_type": "code",
   "execution_count": null,
   "id": "63a37651",
   "metadata": {},
   "outputs": [],
   "source": []
  },
  {
   "cell_type": "code",
   "execution_count": null,
   "id": "c3de1c25",
   "metadata": {},
   "outputs": [],
   "source": []
  }
 ],
 "metadata": {
  "kernelspec": {
   "display_name": "Python 3 (ipykernel)",
   "language": "python",
   "name": "python3"
  },
  "language_info": {
   "codemirror_mode": {
    "name": "ipython",
    "version": 3
   },
   "file_extension": ".py",
   "mimetype": "text/x-python",
   "name": "python",
   "nbconvert_exporter": "python",
   "pygments_lexer": "ipython3",
   "version": "3.10.9"
  }
 },
 "nbformat": 4,
 "nbformat_minor": 5
}
