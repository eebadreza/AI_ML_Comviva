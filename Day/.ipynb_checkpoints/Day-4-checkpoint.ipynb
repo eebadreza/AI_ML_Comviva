{
 "cells": [
  {
   "attachments": {
    "python.png": {
     "image/png": "[encoded data removed]"
    }
   },
   "cell_type": "markdown",
   "id": "e702103e",
   "metadata": {},
   "source": [
    "![python.png](attachment:python.png)"
   ]
  },
  {
   "cell_type": "code",
   "execution_count": 1,
   "id": "91e33d9f",
   "metadata": {},
   "outputs": [],
   "source": [
    "### Python Introduction-Day4"
   ]
  },
  {
   "cell_type": "markdown",
   "id": "65715f6c",
   "metadata": {},
   "source": [
    "<center> <h2 style=\"background-color:orange; color:black\"><br> Numpy<br> </h2>"
   ]
  },
  {
   "cell_type": "code",
   "execution_count": 2,
   "id": "4fc0e875",
   "metadata": {},
   "outputs": [],
   "source": [
    "# Numpy\n",
    "# Data manipulation using Pandas: \n",
    "# Filtering, Sorting, Selecting, Working with dates, files, joining data frames, groupby, merge, pivot\n",
    "# Data Visualization: using matplotlib and seaborn "
   ]
  },
  {
   "cell_type": "code",
   "execution_count": 3,
   "id": "38abd466",
   "metadata": {},
   "outputs": [],
   "source": [
    "# Numpy: Numerical Python for supporting multidimensional arrays\n",
    "# pip install numpy"
   ]
  },
  {
   "cell_type": "code",
   "execution_count": 4,
   "id": "3de42dc8",
   "metadata": {},
   "outputs": [],
   "source": [
    "import numpy as np"
   ]
  },
  {
   "cell_type": "code",
   "execution_count": 5,
   "id": "b4d35413",
   "metadata": {},
   "outputs": [
    {
     "data": {
      "text/plain": [
       "array([1, 2, 3])"
      ]
     },
     "execution_count": 5,
     "metadata": {},
     "output_type": "execute_result"
    }
   ],
   "source": [
    "A1=np.array([1,2,3])\n",
    "A1"
   ]
  },
  {
   "cell_type": "code",
   "execution_count": 6,
   "id": "a28f3053",
   "metadata": {},
   "outputs": [
    {
     "name": "stdout",
     "output_type": "stream",
     "text": [
      "[1 2 3]\n"
     ]
    }
   ],
   "source": [
    "print(A1)"
   ]
  },
  {
   "cell_type": "code",
   "execution_count": 7,
   "id": "ecaa576c",
   "metadata": {},
   "outputs": [
    {
     "name": "stdout",
     "output_type": "stream",
     "text": [
      "[5 6 7 8 9]\n"
     ]
    }
   ],
   "source": [
    "A2=np.arange(5,10)\n",
    "print(A2)"
   ]
  },
  {
   "cell_type": "code",
   "execution_count": 8,
   "id": "ac452873",
   "metadata": {},
   "outputs": [
    {
     "data": {
      "text/plain": [
       "array([0., 0., 0., 0., 0.])"
      ]
     },
     "execution_count": 8,
     "metadata": {},
     "output_type": "execute_result"
    }
   ],
   "source": [
    "A3=np.zeros(5)\n",
    "A3"
   ]
  },
  {
   "cell_type": "code",
   "execution_count": 9,
   "id": "d36fddd1",
   "metadata": {},
   "outputs": [
    {
     "data": {
      "text/plain": [
       "array([1., 1., 1., 1., 1.])"
      ]
     },
     "execution_count": 9,
     "metadata": {},
     "output_type": "execute_result"
    }
   ],
   "source": [
    "A4=np.ones(5)\n",
    "A4"
   ]
  },
  {
   "cell_type": "code",
   "execution_count": 10,
   "id": "2e29e2c8",
   "metadata": {},
   "outputs": [
    {
     "name": "stdout",
     "output_type": "stream",
     "text": [
      "[0.   0.25 0.5  0.75 1.  ]\n"
     ]
    }
   ],
   "source": [
    "A5=np.linspace(0,1,5)\n",
    "print(A5)"
   ]
  },
  {
   "cell_type": "code",
   "execution_count": 11,
   "id": "bc6170f9",
   "metadata": {},
   "outputs": [
    {
     "data": {
      "text/plain": [
       "9"
      ]
     },
     "execution_count": 11,
     "metadata": {},
     "output_type": "execute_result"
    }
   ],
   "source": [
    "np.max(A2)"
   ]
  },
  {
   "cell_type": "code",
   "execution_count": 12,
   "id": "8fe1bce6",
   "metadata": {},
   "outputs": [
    {
     "data": {
      "text/plain": [
       "5"
      ]
     },
     "execution_count": 12,
     "metadata": {},
     "output_type": "execute_result"
    }
   ],
   "source": [
    "np.min(A2)"
   ]
  },
  {
   "cell_type": "code",
   "execution_count": 13,
   "id": "f2b3de4f",
   "metadata": {},
   "outputs": [
    {
     "data": {
      "text/plain": [
       "7.0"
      ]
     },
     "execution_count": 13,
     "metadata": {},
     "output_type": "execute_result"
    }
   ],
   "source": [
    "np.mean(A2)"
   ]
  },
  {
   "cell_type": "code",
   "execution_count": 14,
   "id": "f693475a",
   "metadata": {},
   "outputs": [
    {
     "data": {
      "text/plain": [
       "7.0"
      ]
     },
     "execution_count": 14,
     "metadata": {},
     "output_type": "execute_result"
    }
   ],
   "source": [
    "np.median(A2)"
   ]
  },
  {
   "cell_type": "code",
   "execution_count": 15,
   "id": "4bc17093",
   "metadata": {},
   "outputs": [
    {
     "data": {
      "text/plain": [
       "1.4142135623730951"
      ]
     },
     "execution_count": 15,
     "metadata": {},
     "output_type": "execute_result"
    }
   ],
   "source": [
    "np.std(A2)"
   ]
  },
  {
   "cell_type": "code",
   "execution_count": 16,
   "id": "a3cd4b8d",
   "metadata": {},
   "outputs": [
    {
     "data": {
      "text/plain": [
       "2.0"
      ]
     },
     "execution_count": 16,
     "metadata": {},
     "output_type": "execute_result"
    }
   ],
   "source": [
    "np.var(A2)"
   ]
  },
  {
   "cell_type": "code",
   "execution_count": 17,
   "id": "b3a7c67e",
   "metadata": {},
   "outputs": [
    {
     "data": {
      "text/plain": [
       "array([67, 17, 89, 60])"
      ]
     },
     "execution_count": 17,
     "metadata": {},
     "output_type": "execute_result"
    }
   ],
   "source": [
    "np.random.randint(0,100,4)"
   ]
  },
  {
   "cell_type": "code",
   "execution_count": 18,
   "id": "9950d21b",
   "metadata": {},
   "outputs": [
    {
     "data": {
      "text/plain": [
       "array([0.85055215, 0.91405261, 0.48422915, 0.88172835])"
      ]
     },
     "execution_count": 18,
     "metadata": {},
     "output_type": "execute_result"
    }
   ],
   "source": [
    "np.random.rand(4)"
   ]
  },
  {
   "cell_type": "code",
   "execution_count": 19,
   "id": "2f9c8770",
   "metadata": {},
   "outputs": [
    {
     "data": {
      "text/plain": [
       "array([0., 0., 0., 0.])"
      ]
     },
     "execution_count": 19,
     "metadata": {},
     "output_type": "execute_result"
    }
   ],
   "source": [
    "# one dimension\n",
    "np.zeros(4)"
   ]
  },
  {
   "cell_type": "code",
   "execution_count": 20,
   "id": "e00ca7da",
   "metadata": {},
   "outputs": [
    {
     "data": {
      "text/plain": [
       "array([[0., 0.],\n",
       "       [0., 0.]])"
      ]
     },
     "execution_count": 20,
     "metadata": {},
     "output_type": "execute_result"
    }
   ],
   "source": [
    "# Two Dimension square\n",
    "np.zeros((2,2))"
   ]
  },
  {
   "cell_type": "code",
   "execution_count": 21,
   "id": "6f716d28",
   "metadata": {},
   "outputs": [
    {
     "data": {
      "text/plain": [
       "array([[0., 0., 0., 0.],\n",
       "       [0., 0., 0., 0.],\n",
       "       [0., 0., 0., 0.]])"
      ]
     },
     "execution_count": 21,
     "metadata": {},
     "output_type": "execute_result"
    }
   ],
   "source": [
    "# Two Dimension\n",
    "np.zeros((3,4))"
   ]
  },
  {
   "cell_type": "code",
   "execution_count": 22,
   "id": "2cb7f42b",
   "metadata": {},
   "outputs": [
    {
     "data": {
      "text/plain": [
       "array([[[0., 0., 0., 0.],\n",
       "        [0., 0., 0., 0.],\n",
       "        [0., 0., 0., 0.]],\n",
       "\n",
       "       [[0., 0., 0., 0.],\n",
       "        [0., 0., 0., 0.],\n",
       "        [0., 0., 0., 0.]]])"
      ]
     },
     "execution_count": 22,
     "metadata": {},
     "output_type": "execute_result"
    }
   ],
   "source": [
    "# Three dimension\n",
    "np.zeros((2,3,4))"
   ]
  },
  {
   "cell_type": "code",
   "execution_count": 23,
   "id": "09bde211",
   "metadata": {},
   "outputs": [
    {
     "name": "stdout",
     "output_type": "stream",
     "text": [
      "[[1 3 2]\n",
      " [6 5 4]\n",
      " [8 7 9]]\n"
     ]
    }
   ],
   "source": [
    "A7=np.array([[1,3,2],[6,5,4],[8,7,9]])\n",
    "print(A7)"
   ]
  },
  {
   "cell_type": "code",
   "execution_count": 24,
   "id": "c8b9bfbc",
   "metadata": {},
   "outputs": [
    {
     "name": "stdout",
     "output_type": "stream",
     "text": [
      "[3 2 7 1 8 5 2]\n",
      "[1 2 2 3 5 7 8]\n"
     ]
    }
   ],
   "source": [
    "A8=np.array([3,2,7,1,8,5,2])\n",
    "print(A8)\n",
    "# sort the element\n",
    "print(np.sort(A8))"
   ]
  },
  {
   "cell_type": "code",
   "execution_count": 25,
   "id": "c76913e4",
   "metadata": {},
   "outputs": [
    {
     "data": {
      "text/plain": [
       "array([1, 2, 3, 4, 5, 6, 7, 8, 9])"
      ]
     },
     "execution_count": 25,
     "metadata": {},
     "output_type": "execute_result"
    }
   ],
   "source": [
    "# sort the entire array\n",
    "np.sort(A7,axis=None)"
   ]
  },
  {
   "cell_type": "code",
   "execution_count": 26,
   "id": "a058844b",
   "metadata": {},
   "outputs": [
    {
     "data": {
      "text/plain": [
       "array([[1, 2, 3],\n",
       "       [4, 5, 6],\n",
       "       [7, 8, 9]])"
      ]
     },
     "execution_count": 26,
     "metadata": {},
     "output_type": "execute_result"
    }
   ],
   "source": [
    "# sort the array along each row\n",
    "np.sort(A7,axis=1)"
   ]
  },
  {
   "cell_type": "code",
   "execution_count": 27,
   "id": "8a6253b4",
   "metadata": {},
   "outputs": [
    {
     "name": "stdout",
     "output_type": "stream",
     "text": [
      "[[10  3  2]\n",
      " [ 6  5  4]\n",
      " [18  7  9]]\n",
      "\n",
      "[[ 6  3  2]\n",
      " [10  5  4]\n",
      " [18  7  9]]\n",
      "\n",
      "[[1 0 0]\n",
      " [0 1 1]\n",
      " [2 2 2]]\n"
     ]
    }
   ],
   "source": [
    "# sort the array along each column\n",
    "A8=np.array([[10,3,2],[6,5,4],[18,7,9]])\n",
    "print(A8)\n",
    "print()\n",
    "print(np.sort(A8,axis=0))\n",
    "print()\n",
    "print(np.argsort(A8,axis=0))"
   ]
  },
  {
   "cell_type": "code",
   "execution_count": 28,
   "id": "9d8c9d65",
   "metadata": {},
   "outputs": [
    {
     "data": {
      "text/plain": [
       "array([10, 20, 30])"
      ]
     },
     "execution_count": 28,
     "metadata": {},
     "output_type": "execute_result"
    }
   ],
   "source": [
    "# Add rows and columns\n",
    "# Add a row\n",
    "arr = [1,2,3]\n",
    "R4=np.array([10,20,30])\n",
    "R4"
   ]
  },
  {
   "cell_type": "code",
   "execution_count": 29,
   "id": "2bdfba8c",
   "metadata": {},
   "outputs": [
    {
     "name": "stdout",
     "output_type": "stream",
     "text": [
      "[[10  3  2]\n",
      " [ 6  5  4]\n",
      " [18  7  9]\n",
      " [ 1  2  3]]\n"
     ]
    }
   ],
   "source": [
    "A8_New=np.vstack((A8,arr))\n",
    "print(A8_New)\n",
    "# print(type(A8_New), type(arr))"
   ]
  },
  {
   "cell_type": "code",
   "execution_count": 30,
   "id": "d2bfb38e",
   "metadata": {},
   "outputs": [
    {
     "data": {
      "text/plain": [
       "array([100, 100, 100, 100])"
      ]
     },
     "execution_count": 30,
     "metadata": {},
     "output_type": "execute_result"
    }
   ],
   "source": [
    "# Add a column\n",
    "C4=np.array([100,100,100,100])\n",
    "C4"
   ]
  },
  {
   "cell_type": "code",
   "execution_count": 31,
   "id": "90c39963",
   "metadata": {},
   "outputs": [
    {
     "name": "stdout",
     "output_type": "stream",
     "text": [
      "[[ 10   3   2 100]\n",
      " [  6   5   4 100]\n",
      " [ 18   7   9 100]\n",
      " [  1   2   3 100]]\n"
     ]
    }
   ],
   "source": [
    "A8_New=np.column_stack((A8_New,C4))\n",
    "print(A8_New)"
   ]
  },
  {
   "cell_type": "code",
   "execution_count": 32,
   "id": "981a3136",
   "metadata": {},
   "outputs": [
    {
     "data": {
      "text/plain": [
       "array([[ 10,   3,   2, 100],\n",
       "       [  6,   5,   4, 100],\n",
       "       [ 18,   7,   9, 100],\n",
       "       [  1,   2,   3, 100]])"
      ]
     },
     "execution_count": 32,
     "metadata": {},
     "output_type": "execute_result"
    }
   ],
   "source": [
    "A8_New"
   ]
  },
  {
   "cell_type": "code",
   "execution_count": 33,
   "id": "d3419e07",
   "metadata": {},
   "outputs": [
    {
     "name": "stdout",
     "output_type": "stream",
     "text": [
      "[[1 3 2]\n",
      " [6 5 4]\n",
      " [8 7 9]]\n",
      "\n",
      "[[8 7 9]\n",
      " [6 5 4]\n",
      " [1 3 2]]\n",
      "\n",
      "[[2 3 1]\n",
      " [4 5 6]\n",
      " [9 7 8]]\n"
     ]
    }
   ],
   "source": [
    "# reverse\n",
    "print(A7)\n",
    "print()\n",
    "print(np.flipud(A7))\n",
    "print()\n",
    "print(np.fliplr(A7))"
   ]
  },
  {
   "cell_type": "code",
   "execution_count": 34,
   "id": "60b5bd1f",
   "metadata": {},
   "outputs": [
    {
     "name": "stdout",
     "output_type": "stream",
     "text": [
      "[1 2 3 4 5]\n",
      "[5 4 3 2 1]\n"
     ]
    }
   ],
   "source": [
    "# reverse\n",
    "A11=np.array([1,2,3,4,5])\n",
    "print(A11)\n",
    "print(np.flipud(A11))"
   ]
  },
  {
   "cell_type": "code",
   "execution_count": 35,
   "id": "1ae859ea",
   "metadata": {},
   "outputs": [
    {
     "name": "stdout",
     "output_type": "stream",
     "text": [
      "10\n",
      "[[10  7]\n",
      " [ 8  8]]\n"
     ]
    }
   ],
   "source": [
    "# Matrix operations\n",
    "M1=[[1,2],\n",
    "    [2,1]]\n",
    "#print(M1)\n",
    "\n",
    "M2=[[2,3],\n",
    "    [4,2]]\n",
    "#print(M2)\n",
    "\n",
    "# dot for matrix multiplication\n",
    "\n",
    "print((1*2)+(2*4))\n",
    "res=np.dot(M1,M2)  \n",
    "print(res)"
   ]
  },
  {
   "cell_type": "code",
   "execution_count": 36,
   "id": "323d3ecc",
   "metadata": {},
   "outputs": [
    {
     "data": {
      "text/plain": [
       "array([[2, 6],\n",
       "       [8, 2]])"
      ]
     },
     "execution_count": 36,
     "metadata": {},
     "output_type": "execute_result"
    }
   ],
   "source": [
    "# multiplication\n",
    "res1=np.multiply(M1,M2)\n",
    "res1"
   ]
  },
  {
   "cell_type": "code",
   "execution_count": 37,
   "id": "c0be0a54",
   "metadata": {},
   "outputs": [
    {
     "data": {
      "text/plain": [
       "array([[3, 5],\n",
       "       [6, 3]])"
      ]
     },
     "execution_count": 37,
     "metadata": {},
     "output_type": "execute_result"
    }
   ],
   "source": [
    "# add\n",
    "res2=np.add(M1,M2)\n",
    "res2"
   ]
  },
  {
   "cell_type": "code",
   "execution_count": 38,
   "id": "b4e3ee2c",
   "metadata": {},
   "outputs": [
    {
     "data": {
      "text/plain": [
       "array([[1, 2],\n",
       "       [2, 1]])"
      ]
     },
     "execution_count": 38,
     "metadata": {},
     "output_type": "execute_result"
    }
   ],
   "source": [
    "# copy to copy a matrix\n",
    "M3=np.copy(M1)\n",
    "M3"
   ]
  },
  {
   "cell_type": "code",
   "execution_count": 39,
   "id": "306fc2ea",
   "metadata": {},
   "outputs": [
    {
     "data": {
      "text/plain": [
       "array([[1, 2],\n",
       "       [2, 1],\n",
       "       [2, 3],\n",
       "       [4, 2]])"
      ]
     },
     "execution_count": 39,
     "metadata": {},
     "output_type": "execute_result"
    }
   ],
   "source": [
    "# concatenate\n",
    "M4=np.concatenate((M1,M2))\n",
    "M4"
   ]
  },
  {
   "cell_type": "code",
   "execution_count": 40,
   "id": "3099ff77",
   "metadata": {},
   "outputs": [
    {
     "data": {
      "text/plain": [
       "array([1, 2, 2, 1, 2, 3, 4, 2])"
      ]
     },
     "execution_count": 40,
     "metadata": {},
     "output_type": "execute_result"
    }
   ],
   "source": [
    "# concatenate\n",
    "np.concatenate((M1,M2), axis=None)"
   ]
  },
  {
   "cell_type": "code",
   "execution_count": 41,
   "id": "83c6da63",
   "metadata": {},
   "outputs": [
    {
     "name": "stdout",
     "output_type": "stream",
     "text": [
      "[[1 2 2 4]\n",
      " [2 1 3 2]]\n",
      "[[1 2]\n",
      " [2 1]\n",
      " [2 3]\n",
      " [4 2]]\n"
     ]
    }
   ],
   "source": [
    "# transpose \n",
    "a = np.transpose(M4)\n",
    "print(a)\n",
    "print(a.T)"
   ]
  },
  {
   "cell_type": "code",
   "execution_count": 42,
   "id": "6fe2bfd8",
   "metadata": {},
   "outputs": [
    {
     "name": "stdout",
     "output_type": "stream",
     "text": [
      "-2.9999999999999996\n",
      "\n",
      "[[1 2]\n",
      " [2 1]]\n",
      "\n",
      "-0.33333333333333337\n",
      "\n",
      "[[-0.33333333  0.66666667]\n",
      " [ 0.66666667 -0.33333333]]\n"
     ]
    }
   ],
   "source": [
    "# inverse\n",
    "M1\n",
    "print(np.linalg.det(M1))\n",
    "print()\n",
    "print(np.transpose(M1))\n",
    "print()\n",
    "print(1/np.linalg.det(M1))\n",
    "print()\n",
    "print(np.linalg.inv(M1))"
   ]
  },
  {
   "cell_type": "code",
   "execution_count": 43,
   "id": "8a258fa2",
   "metadata": {},
   "outputs": [
    {
     "data": {
      "text/plain": [
       "array([[1, 3, 2],\n",
       "       [6, 5, 4],\n",
       "       [8, 7, 9]])"
      ]
     },
     "execution_count": 43,
     "metadata": {},
     "output_type": "execute_result"
    }
   ],
   "source": [
    "# trace of matrix : sum of the diagonal elements\n",
    "A7"
   ]
  },
  {
   "cell_type": "code",
   "execution_count": 44,
   "id": "5180a99c",
   "metadata": {},
   "outputs": [
    {
     "data": {
      "text/plain": [
       "15"
      ]
     },
     "execution_count": 44,
     "metadata": {},
     "output_type": "execute_result"
    }
   ],
   "source": [
    "np.trace(A7)"
   ]
  },
  {
   "cell_type": "code",
   "execution_count": 45,
   "id": "c410a928",
   "metadata": {},
   "outputs": [
    {
     "data": {
      "text/plain": [
       "[[1, 2], [2, 1]]"
      ]
     },
     "execution_count": 45,
     "metadata": {},
     "output_type": "execute_result"
    }
   ],
   "source": [
    "# exponents \n",
    "M1"
   ]
  },
  {
   "cell_type": "code",
   "execution_count": 46,
   "id": "6991bd58",
   "metadata": {},
   "outputs": [
    {
     "data": {
      "text/plain": [
       "array([[2.71828183, 7.3890561 ],\n",
       "       [7.3890561 , 2.71828183]])"
      ]
     },
     "execution_count": 46,
     "metadata": {},
     "output_type": "execute_result"
    }
   ],
   "source": [
    "np.exp(M1)"
   ]
  },
  {
   "cell_type": "code",
   "execution_count": 47,
   "id": "05cab135",
   "metadata": {},
   "outputs": [
    {
     "data": {
      "text/plain": [
       "array([[1.        , 1.41421356],\n",
       "       [1.41421356, 1.        ]])"
      ]
     },
     "execution_count": 47,
     "metadata": {},
     "output_type": "execute_result"
    }
   ],
   "source": [
    "# square root\n",
    "np.sqrt(M1)"
   ]
  },
  {
   "cell_type": "code",
   "execution_count": 48,
   "id": "f485a387",
   "metadata": {},
   "outputs": [
    {
     "data": {
      "text/plain": [
       "array([ 5,  4,  2,  6, 11,  7,  1,  8,  3,  9])"
      ]
     },
     "execution_count": 48,
     "metadata": {},
     "output_type": "execute_result"
    }
   ],
   "source": [
    "# reshaping the array\n",
    "A9=np.array([5, 4, 2, 6, 11, 7, 1, 8, 3, 9])\n",
    "A9"
   ]
  },
  {
   "cell_type": "code",
   "execution_count": 49,
   "id": "81aacd40",
   "metadata": {},
   "outputs": [
    {
     "data": {
      "text/plain": [
       "array([[ 5,  4,  2,  6, 11],\n",
       "       [ 7,  1,  8,  3,  9]])"
      ]
     },
     "execution_count": 49,
     "metadata": {},
     "output_type": "execute_result"
    }
   ],
   "source": [
    "A9_New=A9.reshape(2,5)\n",
    "A9_New"
   ]
  },
  {
   "cell_type": "code",
   "execution_count": 50,
   "id": "c060b302",
   "metadata": {},
   "outputs": [
    {
     "data": {
      "text/plain": [
       "array([[ 5,  4],\n",
       "       [ 2,  6],\n",
       "       [11,  7],\n",
       "       [ 1,  8],\n",
       "       [ 3,  9]])"
      ]
     },
     "execution_count": 50,
     "metadata": {},
     "output_type": "execute_result"
    }
   ],
   "source": [
    "A9_New=A9.reshape(5,2)\n",
    "A9_New\n"
   ]
  },
  {
   "cell_type": "code",
   "execution_count": 51,
   "id": "2800b28d",
   "metadata": {},
   "outputs": [
    {
     "name": "stdout",
     "output_type": "stream",
     "text": [
      "[[[1 2 3 4]\n",
      "  [5 6 7 8]]\n",
      "\n",
      " [[1 2 3 4]\n",
      "  [5 6 7 8]]]\n",
      "(2, 2, 4)\n"
     ]
    }
   ],
   "source": [
    "# dimension of an array\n",
    "A10=np.array([[[1,2,3,4],\n",
    "               [5,6,7,8]\n",
    "              ],\n",
    "             [[1,2,3,4],\n",
    "              [5,6,7,8]]])\n",
    "\n",
    "print(A10)\n",
    "print(A10.shape)"
   ]
  },
  {
   "cell_type": "code",
   "execution_count": 52,
   "id": "f7b31ec2",
   "metadata": {},
   "outputs": [
    {
     "name": "stdout",
     "output_type": "stream",
     "text": [
      "[[[1, 2, 3, 4], [5, 6, 7, 8]], [[1, 2, 3, 4], [5, 6, 7, 8]]]\n"
     ]
    }
   ],
   "source": [
    "# convert numpy array to list\n",
    "A10_new=A10.tolist()\n",
    "print(A10_new)"
   ]
  },
  {
   "cell_type": "code",
   "execution_count": 53,
   "id": "027a4550",
   "metadata": {},
   "outputs": [
    {
     "name": "stdout",
     "output_type": "stream",
     "text": [
      "[[[1 2 3 4]\n",
      "  [5 6 7 8]]\n",
      "\n",
      " [[1 2 3 4]\n",
      "  [5 6 7 8]]]\n"
     ]
    }
   ],
   "source": [
    "# convert list to array\n",
    "A10_new1=np.array(A10_new)\n",
    "print(A10_new1)"
   ]
  },
  {
   "cell_type": "code",
   "execution_count": 54,
   "id": "e3eab111",
   "metadata": {},
   "outputs": [
    {
     "name": "stdout",
     "output_type": "stream",
     "text": [
      "int64\n"
     ]
    }
   ],
   "source": [
    "# data type\n",
    "print(A10_new1.dtype)"
   ]
  },
  {
   "cell_type": "code",
   "execution_count": 55,
   "id": "9c3f10f4",
   "metadata": {},
   "outputs": [
    {
     "name": "stdout",
     "output_type": "stream",
     "text": [
      "[1. 2. 4.]\n",
      "float64\n"
     ]
    }
   ],
   "source": [
    "A12=np.array([1,2,4],dtype=np.float64)\n",
    "print(A12)\n",
    "print(A12.dtype)"
   ]
  },
  {
   "cell_type": "code",
   "execution_count": 56,
   "id": "0e1493e4",
   "metadata": {},
   "outputs": [
    {
     "data": {
      "text/plain": [
       "array([5, 6, 7])"
      ]
     },
     "execution_count": 56,
     "metadata": {},
     "output_type": "execute_result"
    }
   ],
   "source": [
    "A13=np.array([5,6,7])\n",
    "A13"
   ]
  },
  {
   "cell_type": "code",
   "execution_count": 57,
   "id": "2c95cd81",
   "metadata": {},
   "outputs": [
    {
     "data": {
      "text/plain": [
       "array([1., 2., 4., 5., 6., 7.])"
      ]
     },
     "execution_count": 57,
     "metadata": {},
     "output_type": "execute_result"
    }
   ],
   "source": [
    "A14=np.append(A12,A13)\n",
    "A14"
   ]
  },
  {
   "cell_type": "markdown",
   "id": "e86f9ddb",
   "metadata": {},
   "source": [
    "<center> <h2 style=\"background-color:green; color:black\"><br> Numpy for file handling <br> </h2></center>"
   ]
  },
  {
   "cell_type": "code",
   "execution_count": 58,
   "id": "9997e8f6",
   "metadata": {},
   "outputs": [],
   "source": [
    "import csv"
   ]
  },
  {
   "cell_type": "code",
   "execution_count": 59,
   "id": "21b65118",
   "metadata": {},
   "outputs": [
    {
     "name": "stdout",
     "output_type": "stream",
     "text": [
      "[[ 7.4    0.7    0.    ...  0.56   9.4    5.   ]\n",
      " [ 7.8    0.88   0.    ...  0.68   9.8    5.   ]\n",
      " [ 7.8    0.76   0.04  ...  0.65   9.8    5.   ]\n",
      " ...\n",
      " [ 6.3    0.51   0.13  ...  0.75  11.     6.   ]\n",
      " [ 5.9    0.645  0.12  ...  0.71  10.2    5.   ]\n",
      " [ 6.     0.31   0.47  ...  0.66  11.     6.   ]]\n"
     ]
    }
   ],
   "source": [
    "wine_data=np.genfromtxt('/Users/eebadreza/Downloads/MaT/COMVIVA/Day/wine+quality/winequality-red.csv', delimiter=';',skip_header=1)\n",
    "print(wine_data)"
   ]
  },
  {
   "cell_type": "code",
   "execution_count": 60,
   "id": "e10f60a6",
   "metadata": {},
   "outputs": [],
   "source": [
    "wine_data1=[]\n",
    "with open('/Users/eebadreza/Downloads/MaT/COMVIVA/Day/wine+quality/winequality-red.csv','r') as f:\n",
    "    reader=csv.reader(f,delimiter=';')\n",
    "    wine_data1=list(reader)\n",
    "    \n",
    "# print(wine_data1)    "
   ]
  },
  {
   "cell_type": "code",
   "execution_count": 61,
   "id": "68f1028b",
   "metadata": {},
   "outputs": [
    {
     "name": "stdout",
     "output_type": "stream",
     "text": [
      "[['fixed acidity', 'volatile acidity', 'citric acid', 'residual sugar', 'chlorides', 'free sulfur dioxide', 'total sulfur dioxide', 'density', 'pH', 'sulphates', 'alcohol', 'quality'], ['7.4', '0.7', '0', '1.9', '0.076', '11', '34', '0.9978', '3.51', '0.56', '9.4', '5'], ['7.8', '0.88', '0', '2.6', '0.098', '25', '67', '0.9968', '3.2', '0.68', '9.8', '5']]\n"
     ]
    }
   ],
   "source": [
    "print(wine_data1[:3])"
   ]
  },
  {
   "cell_type": "code",
   "execution_count": 62,
   "id": "5711056d",
   "metadata": {},
   "outputs": [
    {
     "name": "stdout",
     "output_type": "stream",
     "text": [
      "[[ 7.4    0.7    0.    ...  0.56   9.4    5.   ]\n",
      " [ 7.8    0.88   0.    ...  0.68   9.8    5.   ]\n",
      " [ 7.8    0.76   0.04  ...  0.65   9.8    5.   ]\n",
      " ...\n",
      " [ 6.3    0.51   0.13  ...  0.75  11.     6.   ]\n",
      " [ 5.9    0.645  0.12  ...  0.71  10.2    5.   ]\n",
      " [ 6.     0.31   0.47  ...  0.66  11.     6.   ]]\n"
     ]
    }
   ],
   "source": [
    "wine_data2=np.array(wine_data1[1:])\n",
    "print(wine_data)"
   ]
  },
  {
   "cell_type": "code",
   "execution_count": 63,
   "id": "76eb654f",
   "metadata": {},
   "outputs": [
    {
     "data": {
      "text/plain": [
       "(1599, 12)"
      ]
     },
     "execution_count": 63,
     "metadata": {},
     "output_type": "execute_result"
    }
   ],
   "source": [
    "wine_data2.shape"
   ]
  },
  {
   "cell_type": "code",
   "execution_count": 64,
   "id": "38e72a62",
   "metadata": {},
   "outputs": [
    {
     "data": {
      "text/plain": [
       "(12, 1599)"
      ]
     },
     "execution_count": 64,
     "metadata": {},
     "output_type": "execute_result"
    }
   ],
   "source": [
    "np.transpose(wine_data2).shape"
   ]
  },
  {
   "cell_type": "code",
   "execution_count": 65,
   "id": "c11e7396",
   "metadata": {},
   "outputs": [],
   "source": [
    "# wine_data1"
   ]
  },
  {
   "cell_type": "code",
   "execution_count": 66,
   "id": "debd9242",
   "metadata": {},
   "outputs": [
    {
     "data": {
      "text/plain": [
       "array([['7.4', '0.7', '0', ..., '0.56', '9.4', '5'],\n",
       "       ['7.8', '0.88', '0', ..., '0.68', '9.8', '5'],\n",
       "       ['7.8', '0.76', '0.04', ..., '0.65', '9.8', '5'],\n",
       "       ...,\n",
       "       ['6.3', '0.51', '0.13', ..., '0.75', '11', '6'],\n",
       "       ['5.9', '0.645', '0.12', ..., '0.71', '10.2', '5'],\n",
       "       ['6', '0.31', '0.47', ..., '0.66', '11', '6']], dtype='<U16')"
      ]
     },
     "execution_count": 66,
     "metadata": {},
     "output_type": "execute_result"
    }
   ],
   "source": [
    "wine_data2"
   ]
  },
  {
   "cell_type": "markdown",
   "id": "c758a887",
   "metadata": {},
   "source": [
    "<center> <h2 style=\"background-color:red; color:black\"><br> Pandas <br> </h2>"
   ]
  },
  {
   "cell_type": "code",
   "execution_count": 67,
   "id": "28971486",
   "metadata": {},
   "outputs": [],
   "source": [
    "# open source library\n",
    "# working with alpha numeric data\n",
    "# it is having all the functionality of numpy\n",
    "# data structures : series and dataframe\n",
    "import pandas as pd"
   ]
  },
  {
   "cell_type": "code",
   "execution_count": 68,
   "id": "20cd39ad",
   "metadata": {},
   "outputs": [
    {
     "data": {
      "text/plain": [
       "1    50\n",
       "2    45\n",
       "3    35\n",
       "4    48\n",
       "5    50\n",
       "dtype: int64"
      ]
     },
     "execution_count": 68,
     "metadata": {},
     "output_type": "execute_result"
    }
   ],
   "source": [
    "# series is one dimensional array for storing any data type\n",
    "S1=pd.Series([50,45,35,48,50])\n",
    "# S1.index = list(\"ABCDE\")\n",
    "S1.index = list([1,2,3,4,5])\n",
    "S1"
   ]
  },
  {
   "cell_type": "code",
   "execution_count": 69,
   "id": "42ec5a90",
   "metadata": {},
   "outputs": [
    {
     "data": {
      "text/plain": [
       "35"
      ]
     },
     "execution_count": 69,
     "metadata": {},
     "output_type": "execute_result"
    }
   ],
   "source": [
    "S1[3]"
   ]
  },
  {
   "cell_type": "code",
   "execution_count": 70,
   "id": "cb8198a2",
   "metadata": {},
   "outputs": [
    {
     "data": {
      "text/plain": [
       "S1    50\n",
       "S2    45\n",
       "S3    35\n",
       "S4    48\n",
       "S5    50\n",
       "dtype: int64"
      ]
     },
     "execution_count": 70,
     "metadata": {},
     "output_type": "execute_result"
    }
   ],
   "source": [
    "# index can be added\n",
    "from pandas import Series\n",
    "S2=Series([50,45,35,48,50],index=['S1','S2','S3','S4','S5'])\n",
    "S2"
   ]
  },
  {
   "cell_type": "code",
   "execution_count": 71,
   "id": "c212a828",
   "metadata": {},
   "outputs": [
    {
     "data": {
      "text/plain": [
       "35"
      ]
     },
     "execution_count": 71,
     "metadata": {},
     "output_type": "execute_result"
    }
   ],
   "source": [
    "S2['S3']"
   ]
  },
  {
   "cell_type": "code",
   "execution_count": 72,
   "id": "b75ff400",
   "metadata": {},
   "outputs": [
    {
     "data": {
      "text/plain": [
       "S1    50\n",
       "S2    45\n",
       "S3    38\n",
       "S4    48\n",
       "S5    50\n",
       "dtype: int64"
      ]
     },
     "execution_count": 72,
     "metadata": {},
     "output_type": "execute_result"
    }
   ],
   "source": [
    "S2['S3']=38\n",
    "S2"
   ]
  },
  {
   "cell_type": "code",
   "execution_count": 73,
   "id": "551160dc",
   "metadata": {},
   "outputs": [
    {
     "data": {
      "text/plain": [
       "S1    50\n",
       "S2    45\n",
       "S3    38\n",
       "S4    48\n",
       "S5    50\n",
       "S6    30\n",
       "dtype: int64"
      ]
     },
     "execution_count": 73,
     "metadata": {},
     "output_type": "execute_result"
    }
   ],
   "source": [
    "S2['S6']=30\n",
    "S2"
   ]
  },
  {
   "cell_type": "code",
   "execution_count": 74,
   "id": "851020f6",
   "metadata": {},
   "outputs": [
    {
     "data": {
      "text/plain": [
       "array([50, 45, 38, 48, 50, 30])"
      ]
     },
     "execution_count": 74,
     "metadata": {},
     "output_type": "execute_result"
    }
   ],
   "source": [
    "S2.values\n",
    "# S2.keys"
   ]
  },
  {
   "cell_type": "code",
   "execution_count": 75,
   "id": "a61e1439",
   "metadata": {},
   "outputs": [
    {
     "data": {
      "text/plain": [
       "Index(['S1', 'S2', 'S3', 'S4', 'S5', 'S6'], dtype='object')"
      ]
     },
     "execution_count": 75,
     "metadata": {},
     "output_type": "execute_result"
    }
   ],
   "source": [
    "S2.index"
   ]
  },
  {
   "cell_type": "code",
   "execution_count": 76,
   "id": "1d77ee2c",
   "metadata": {},
   "outputs": [],
   "source": [
    "# append is to add an object\n",
    "S3=Series([50, 45, 38],index=['S7', 'S8', 'S9'])"
   ]
  },
  {
   "cell_type": "code",
   "execution_count": 77,
   "id": "5a772ec2",
   "metadata": {},
   "outputs": [
    {
     "data": {
      "text/plain": [
       "S7    50\n",
       "S8    45\n",
       "S9    38\n",
       "dtype: int64"
      ]
     },
     "execution_count": 77,
     "metadata": {},
     "output_type": "execute_result"
    }
   ],
   "source": [
    "S3"
   ]
  },
  {
   "cell_type": "code",
   "execution_count": 78,
   "id": "88a22463",
   "metadata": {},
   "outputs": [
    {
     "data": {
      "text/plain": [
       "S1    50\n",
       "S2    45\n",
       "S3    38\n",
       "S4    48\n",
       "S5    50\n",
       "S6    30\n",
       "dtype: int64"
      ]
     },
     "execution_count": 78,
     "metadata": {},
     "output_type": "execute_result"
    }
   ],
   "source": [
    "S2"
   ]
  },
  {
   "cell_type": "code",
   "execution_count": 79,
   "id": "45051d11",
   "metadata": {},
   "outputs": [
    {
     "data": {
      "text/plain": [
       "S1    50\n",
       "S2    45\n",
       "S3    38\n",
       "S4    48\n",
       "S5    50\n",
       "S6    30\n",
       "S7    50\n",
       "S8    45\n",
       "S9    38\n",
       "dtype: int64"
      ]
     },
     "execution_count": 79,
     "metadata": {},
     "output_type": "execute_result"
    }
   ],
   "source": [
    "# S4=S2.append(S3)\n",
    "S4 = pd.concat([S2, S3])\n",
    "S4"
   ]
  },
  {
   "cell_type": "code",
   "execution_count": 80,
   "id": "bc86bfed",
   "metadata": {},
   "outputs": [
    {
     "name": "stdout",
     "output_type": "stream",
     "text": [
      "0    python\n",
      "1       php\n",
      "2      java\n",
      "dtype: object\n",
      "\n",
      "0      Spark\n",
      "1    PySpark\n",
      "2     Pandas\n",
      "dtype: object\n"
     ]
    }
   ],
   "source": [
    "# import pandas as pd\n",
    "# # Create two Pandas Series from list\n",
    "ser1 = pd.Series(['python', 'php', 'java'])\n",
    "print(ser1)\n",
    "print()\n",
    "ser2 = pd.Series(['Spark', 'PySpark', 'Pandas'])\n",
    "print(ser2)"
   ]
  },
  {
   "cell_type": "code",
   "execution_count": 81,
   "id": "58065f2c",
   "metadata": {},
   "outputs": [
    {
     "name": "stdout",
     "output_type": "stream",
     "text": [
      "0     python\n",
      "1        php\n",
      "2       java\n",
      "0      Spark\n",
      "1    PySpark\n",
      "2     Pandas\n",
      "dtype: object\n"
     ]
    },
    {
     "name": "stderr",
     "output_type": "stream",
     "text": [
      "/var/folders/f8/vn6n_46s32d3lcwy44pz6y880000gn/T/ipykernel_4087/2085751015.py:1: FutureWarning: The series.append method is deprecated and will be removed from pandas in a future version. Use pandas.concat instead.\n",
      "  append_ser = ser1.append(ser2)\n"
     ]
    }
   ],
   "source": [
    "append_ser = ser1.append(ser2)\n",
    "print(append_ser)"
   ]
  },
  {
   "cell_type": "code",
   "execution_count": 82,
   "id": "00417adc",
   "metadata": {},
   "outputs": [
    {
     "data": {
      "text/plain": [
       "0    1\n",
       "1    3\n",
       "2    4\n",
       "3    6\n",
       "dtype: int64"
      ]
     },
     "execution_count": 82,
     "metadata": {},
     "output_type": "execute_result"
    }
   ],
   "source": [
    "L1=[1,3,4,6]\n",
    "L1S=pd.Series(L1)\n",
    "L1S"
   ]
  },
  {
   "cell_type": "code",
   "execution_count": 83,
   "id": "5ec6a6ab",
   "metadata": {},
   "outputs": [],
   "source": [
    "A1=np.array([1,3,4,6])"
   ]
  },
  {
   "cell_type": "code",
   "execution_count": 84,
   "id": "d4cba64f",
   "metadata": {},
   "outputs": [
    {
     "data": {
      "text/plain": [
       "array([1, 3, 4, 6])"
      ]
     },
     "execution_count": 84,
     "metadata": {},
     "output_type": "execute_result"
    }
   ],
   "source": [
    "A1"
   ]
  },
  {
   "cell_type": "code",
   "execution_count": 85,
   "id": "7d1da804",
   "metadata": {},
   "outputs": [
    {
     "data": {
      "text/plain": [
       "0    1\n",
       "1    3\n",
       "2    4\n",
       "3    6\n",
       "dtype: int64"
      ]
     },
     "execution_count": 85,
     "metadata": {},
     "output_type": "execute_result"
    }
   ],
   "source": [
    "A1S=pd.Series(A1)\n",
    "A1S"
   ]
  },
  {
   "cell_type": "code",
   "execution_count": 86,
   "id": "fa151d3b",
   "metadata": {},
   "outputs": [
    {
     "data": {
      "text/plain": [
       "{'name': 'Apple', 'color': 'red', 'qty': 10}"
      ]
     },
     "execution_count": 86,
     "metadata": {},
     "output_type": "execute_result"
    }
   ],
   "source": [
    "D1={\"name\":\"Apple\",\"color\":\"red\",\"qty\":10,}\n",
    "D1"
   ]
  },
  {
   "cell_type": "code",
   "execution_count": 87,
   "id": "f2f6ef93",
   "metadata": {},
   "outputs": [
    {
     "data": {
      "text/plain": [
       "name     Apple\n",
       "color      red\n",
       "qty         10\n",
       "dtype: object"
      ]
     },
     "execution_count": 87,
     "metadata": {},
     "output_type": "execute_result"
    }
   ],
   "source": [
    "D1S=pd.Series(D1)\n",
    "D1S"
   ]
  },
  {
   "cell_type": "code",
   "execution_count": 88,
   "id": "b01e4a8a",
   "metadata": {},
   "outputs": [
    {
     "data": {
      "text/plain": [
       "name     Apple\n",
       "color      red\n",
       "dtype: object"
      ]
     },
     "execution_count": 88,
     "metadata": {},
     "output_type": "execute_result"
    }
   ],
   "source": [
    "D1S.head(2)"
   ]
  },
  {
   "cell_type": "code",
   "execution_count": 89,
   "id": "11a1047a",
   "metadata": {},
   "outputs": [
    {
     "data": {
      "text/plain": [
       "color    red\n",
       "qty       10\n",
       "dtype: object"
      ]
     },
     "execution_count": 89,
     "metadata": {},
     "output_type": "execute_result"
    }
   ],
   "source": [
    "D1S.tail(2)"
   ]
  },
  {
   "cell_type": "code",
   "execution_count": 90,
   "id": "14509bd4",
   "metadata": {},
   "outputs": [
    {
     "data": {
      "text/plain": [
       "0    1\n",
       "1    3\n",
       "2    4\n",
       "3    6\n",
       "dtype: int64"
      ]
     },
     "execution_count": 90,
     "metadata": {},
     "output_type": "execute_result"
    }
   ],
   "source": [
    "A1S"
   ]
  },
  {
   "cell_type": "code",
   "execution_count": 91,
   "id": "8bc9c155",
   "metadata": {},
   "outputs": [
    {
     "data": {
      "text/plain": [
       "4"
      ]
     },
     "execution_count": 91,
     "metadata": {},
     "output_type": "execute_result"
    }
   ],
   "source": [
    "# retrieve using iloc[] and loc[] integer location and location\n",
    "A1S.iloc[2]"
   ]
  },
  {
   "cell_type": "code",
   "execution_count": 92,
   "id": "ce8d6d6f",
   "metadata": {},
   "outputs": [
    {
     "data": {
      "text/plain": [
       "0    1\n",
       "1    3\n",
       "2    4\n",
       "dtype: int64"
      ]
     },
     "execution_count": 92,
     "metadata": {},
     "output_type": "execute_result"
    }
   ],
   "source": [
    "# iloc for slicing the series\n",
    "A1S.iloc[0:3]"
   ]
  },
  {
   "cell_type": "code",
   "execution_count": 93,
   "id": "46e2b98d",
   "metadata": {},
   "outputs": [
    {
     "data": {
      "text/plain": [
       "S1    50\n",
       "S2    45\n",
       "S3    38\n",
       "S4    48\n",
       "S5    50\n",
       "S6    30\n",
       "dtype: int64"
      ]
     },
     "execution_count": 93,
     "metadata": {},
     "output_type": "execute_result"
    }
   ],
   "source": [
    "# loc works with custom indexex.\n",
    "S2"
   ]
  },
  {
   "cell_type": "code",
   "execution_count": 94,
   "id": "4676028b",
   "metadata": {},
   "outputs": [
    {
     "data": {
      "text/plain": [
       "S4    48\n",
       "S2    45\n",
       "dtype: int64"
      ]
     },
     "execution_count": 94,
     "metadata": {},
     "output_type": "execute_result"
    }
   ],
   "source": [
    "S2.loc[[\"S4\",\"S2\"]]"
   ]
  },
  {
   "cell_type": "code",
   "execution_count": 95,
   "id": "ad8f5d39",
   "metadata": {},
   "outputs": [
    {
     "data": {
      "text/plain": [
       "Index(['S1', 'S2', 'S3', 'S4', 'S5', 'S6'], dtype='object')"
      ]
     },
     "execution_count": 95,
     "metadata": {},
     "output_type": "execute_result"
    }
   ],
   "source": [
    "# sort two options sort_index, sort_values\n",
    "S2.index"
   ]
  },
  {
   "cell_type": "code",
   "execution_count": 96,
   "id": "80d87427",
   "metadata": {},
   "outputs": [
    {
     "data": {
      "text/plain": [
       "array([50, 45, 38, 48, 50, 30])"
      ]
     },
     "execution_count": 96,
     "metadata": {},
     "output_type": "execute_result"
    }
   ],
   "source": [
    "S2.values"
   ]
  },
  {
   "cell_type": "code",
   "execution_count": 97,
   "id": "59ac9a93",
   "metadata": {},
   "outputs": [
    {
     "data": {
      "text/plain": [
       "S6    30\n",
       "S3    38\n",
       "S2    45\n",
       "S4    48\n",
       "S1    50\n",
       "S5    50\n",
       "dtype: int64"
      ]
     },
     "execution_count": 97,
     "metadata": {},
     "output_type": "execute_result"
    }
   ],
   "source": [
    "S2.sort_values()"
   ]
  },
  {
   "cell_type": "code",
   "execution_count": 98,
   "id": "169352a3",
   "metadata": {},
   "outputs": [
    {
     "data": {
      "text/plain": [
       "S1    50\n",
       "S2    45\n",
       "S3    38\n",
       "S4    48\n",
       "S5    50\n",
       "S6    30\n",
       "dtype: int64"
      ]
     },
     "execution_count": 98,
     "metadata": {},
     "output_type": "execute_result"
    }
   ],
   "source": [
    "S2"
   ]
  },
  {
   "cell_type": "code",
   "execution_count": 99,
   "id": "9605b1fc",
   "metadata": {},
   "outputs": [],
   "source": [
    "S2.sort_values(inplace=True)"
   ]
  },
  {
   "cell_type": "code",
   "execution_count": 100,
   "id": "0d417d88",
   "metadata": {},
   "outputs": [
    {
     "data": {
      "text/plain": [
       "S6    30\n",
       "S3    38\n",
       "S2    45\n",
       "S4    48\n",
       "S1    50\n",
       "S5    50\n",
       "dtype: int64"
      ]
     },
     "execution_count": 100,
     "metadata": {},
     "output_type": "execute_result"
    }
   ],
   "source": [
    "S2"
   ]
  },
  {
   "cell_type": "code",
   "execution_count": 101,
   "id": "3709cb84",
   "metadata": {},
   "outputs": [
    {
     "data": {
      "text/plain": [
       "S1    50\n",
       "S5    50\n",
       "S4    48\n",
       "S2    45\n",
       "S3    38\n",
       "S6    30\n",
       "dtype: int64"
      ]
     },
     "execution_count": 101,
     "metadata": {},
     "output_type": "execute_result"
    }
   ],
   "source": [
    "S2.sort_values(ascending =False, inplace=True)\n",
    "S2"
   ]
  },
  {
   "cell_type": "code",
   "execution_count": 102,
   "id": "5d2ce5ad",
   "metadata": {},
   "outputs": [
    {
     "data": {
      "text/plain": [
       "43.5"
      ]
     },
     "execution_count": 102,
     "metadata": {},
     "output_type": "execute_result"
    }
   ],
   "source": [
    "# sum, max, min, mean, median\n",
    "# average mark\n",
    "S2.mean()"
   ]
  },
  {
   "cell_type": "code",
   "execution_count": 103,
   "id": "875211f0",
   "metadata": {},
   "outputs": [
    {
     "data": {
      "text/plain": [
       "sum                    228\n",
       "max                     50\n",
       "min                     35\n",
       "mean                  45.6\n",
       "median                48.0\n",
       "unique    [50, 45, 35, 48]\n",
       "count                    5\n",
       "dtype: object"
      ]
     },
     "execution_count": 103,
     "metadata": {},
     "output_type": "execute_result"
    }
   ],
   "source": [
    "# aggregation \n",
    "S1.agg(['sum', 'max', 'min', 'mean', 'median','unique','count'])"
   ]
  },
  {
   "cell_type": "code",
   "execution_count": 104,
   "id": "d847ef4e",
   "metadata": {},
   "outputs": [
    {
     "data": {
      "text/plain": [
       "dtype('int64')"
      ]
     },
     "execution_count": 104,
     "metadata": {},
     "output_type": "execute_result"
    }
   ],
   "source": [
    "S1.dtype"
   ]
  },
  {
   "cell_type": "code",
   "execution_count": 105,
   "id": "1b4c5f1c",
   "metadata": {},
   "outputs": [
    {
     "data": {
      "text/plain": [
       "(5,)"
      ]
     },
     "execution_count": 105,
     "metadata": {},
     "output_type": "execute_result"
    }
   ],
   "source": [
    "S1.shape"
   ]
  },
  {
   "cell_type": "code",
   "execution_count": 106,
   "id": "01563631",
   "metadata": {},
   "outputs": [
    {
     "data": {
      "text/plain": [
       "5"
      ]
     },
     "execution_count": 106,
     "metadata": {},
     "output_type": "execute_result"
    }
   ],
   "source": [
    "S1.size"
   ]
  },
  {
   "cell_type": "code",
   "execution_count": 107,
   "id": "52fa7040",
   "metadata": {},
   "outputs": [
    {
     "data": {
      "text/plain": [
       "count     5.000000\n",
       "mean     45.600000\n",
       "std       6.268971\n",
       "min      35.000000\n",
       "25%      45.000000\n",
       "50%      48.000000\n",
       "75%      50.000000\n",
       "max      50.000000\n",
       "dtype: float64"
      ]
     },
     "execution_count": 107,
     "metadata": {},
     "output_type": "execute_result"
    }
   ],
   "source": [
    "S1.describe()"
   ]
  },
  {
   "cell_type": "code",
   "execution_count": 108,
   "id": "2c89f637",
   "metadata": {},
   "outputs": [
    {
     "data": {
      "text/plain": [
       "1    50\n",
       "2    45\n",
       "3    35\n",
       "4    48\n",
       "5    50\n",
       "dtype: int64"
      ]
     },
     "execution_count": 108,
     "metadata": {},
     "output_type": "execute_result"
    }
   ],
   "source": [
    "S1"
   ]
  },
  {
   "cell_type": "code",
   "execution_count": 109,
   "id": "856ae7c8",
   "metadata": {},
   "outputs": [
    {
     "data": {
      "text/plain": [
       "1    49\n",
       "2    45\n",
       "3    35\n",
       "4    48\n",
       "5    49\n",
       "dtype: int64"
      ]
     },
     "execution_count": 109,
     "metadata": {},
     "output_type": "execute_result"
    }
   ],
   "source": [
    "# replace\n",
    "S1=S1.replace(to_replace=50, value=49)\n",
    "S1"
   ]
  },
  {
   "cell_type": "code",
   "execution_count": 110,
   "id": "640e21a1",
   "metadata": {},
   "outputs": [
    {
     "data": {
      "text/plain": [
       "1      49\n",
       "2      45\n",
       "3    None\n",
       "4      48\n",
       "5      49\n",
       "dtype: object"
      ]
     },
     "execution_count": 110,
     "metadata": {},
     "output_type": "execute_result"
    }
   ],
   "source": [
    "S1=S1.replace({35:None})\n",
    "S1"
   ]
  },
  {
   "cell_type": "code",
   "execution_count": 111,
   "id": "08980087",
   "metadata": {},
   "outputs": [
    {
     "data": {
      "text/plain": [
       "1      49\n",
       "3    None\n",
       "4      48\n",
       "5      49\n",
       "dtype: object"
      ]
     },
     "execution_count": 111,
     "metadata": {},
     "output_type": "execute_result"
    }
   ],
   "source": [
    "S1.drop(S1.index[1], inplace=True)\n",
    "S1"
   ]
  },
  {
   "cell_type": "markdown",
   "id": "16d2dfac",
   "metadata": {},
   "source": [
    "<center> <h2 style=\"background-color:lightgrey; color:black\"><br> DataFrame <br> </h2>"
   ]
  },
  {
   "cell_type": "code",
   "execution_count": 112,
   "id": "bab2b375",
   "metadata": {},
   "outputs": [],
   "source": [
    "import pandas as pd"
   ]
  },
  {
   "cell_type": "code",
   "execution_count": 113,
   "id": "68620956",
   "metadata": {},
   "outputs": [
    {
     "data": {
      "text/plain": [
       "pandas.core.frame.DataFrame"
      ]
     },
     "execution_count": 113,
     "metadata": {},
     "output_type": "execute_result"
    }
   ],
   "source": [
    "DF1=pd.DataFrame()\n",
    "type(DF1)"
   ]
  },
  {
   "cell_type": "code",
   "execution_count": 114,
   "id": "766c909c",
   "metadata": {},
   "outputs": [
    {
     "data": {
      "text/plain": [
       "{'name': ['sk', 'kumar', 'joy'], 'age': [30, 40, 50]}"
      ]
     },
     "execution_count": 114,
     "metadata": {},
     "output_type": "execute_result"
    }
   ],
   "source": [
    "std_data={'name':['sk','kumar','joy'],'age':[30,40,50]}\n",
    "std_data"
   ]
  },
  {
   "cell_type": "code",
   "execution_count": 115,
   "id": "c39890ca",
   "metadata": {},
   "outputs": [
    {
     "data": {
      "text/html": [
       "<div>\n",
       "<style scoped>\n",
       "    .dataframe tbody tr th:only-of-type {\n",
       "        vertical-align: middle;\n",
       "    }\n",
       "\n",
       "    .dataframe tbody tr th {\n",
       "        vertical-align: top;\n",
       "    }\n",
       "\n",
       "    .dataframe thead th {\n",
       "        text-align: right;\n",
       "    }\n",
       "</style>\n",
       "<table border=\"1\" class=\"dataframe\">\n",
       "  <thead>\n",
       "    <tr style=\"text-align: right;\">\n",
       "      <th></th>\n",
       "      <th>name</th>\n",
       "      <th>age</th>\n",
       "    </tr>\n",
       "  </thead>\n",
       "  <tbody>\n",
       "    <tr>\n",
       "      <th>0</th>\n",
       "      <td>sk</td>\n",
       "      <td>30</td>\n",
       "    </tr>\n",
       "    <tr>\n",
       "      <th>1</th>\n",
       "      <td>kumar</td>\n",
       "      <td>40</td>\n",
       "    </tr>\n",
       "    <tr>\n",
       "      <th>2</th>\n",
       "      <td>joy</td>\n",
       "      <td>50</td>\n",
       "    </tr>\n",
       "  </tbody>\n",
       "</table>\n",
       "</div>"
      ],
      "text/plain": [
       "    name  age\n",
       "0     sk   30\n",
       "1  kumar   40\n",
       "2    joy   50"
      ]
     },
     "execution_count": 115,
     "metadata": {},
     "output_type": "execute_result"
    }
   ],
   "source": [
    "DF1=pd.DataFrame(std_data)\n",
    "DF1"
   ]
  },
  {
   "cell_type": "code",
   "execution_count": 116,
   "id": "537c9225",
   "metadata": {},
   "outputs": [
    {
     "data": {
      "text/plain": [
       "{'name': S1       sk\n",
       " S2    kumar\n",
       " S3      joy\n",
       " dtype: object,\n",
       " 'age': S1    30\n",
       " S2    40\n",
       " S3    50\n",
       " dtype: int64}"
      ]
     },
     "execution_count": 116,
     "metadata": {},
     "output_type": "execute_result"
    }
   ],
   "source": [
    "std_data={'name':Series(['sk','kumar','joy'],index=['S1','S2','S3']),'age':Series([30,40,50],index=['S1','S2','S3'])}\n",
    "std_data"
   ]
  },
  {
   "cell_type": "code",
   "execution_count": 117,
   "id": "af5e3000",
   "metadata": {},
   "outputs": [
    {
     "data": {
      "text/html": [
       "<div>\n",
       "<style scoped>\n",
       "    .dataframe tbody tr th:only-of-type {\n",
       "        vertical-align: middle;\n",
       "    }\n",
       "\n",
       "    .dataframe tbody tr th {\n",
       "        vertical-align: top;\n",
       "    }\n",
       "\n",
       "    .dataframe thead th {\n",
       "        text-align: right;\n",
       "    }\n",
       "</style>\n",
       "<table border=\"1\" class=\"dataframe\">\n",
       "  <thead>\n",
       "    <tr style=\"text-align: right;\">\n",
       "      <th></th>\n",
       "      <th>name</th>\n",
       "      <th>age</th>\n",
       "    </tr>\n",
       "  </thead>\n",
       "  <tbody>\n",
       "    <tr>\n",
       "      <th>S1</th>\n",
       "      <td>sk</td>\n",
       "      <td>30</td>\n",
       "    </tr>\n",
       "    <tr>\n",
       "      <th>S2</th>\n",
       "      <td>kumar</td>\n",
       "      <td>40</td>\n",
       "    </tr>\n",
       "    <tr>\n",
       "      <th>S3</th>\n",
       "      <td>joy</td>\n",
       "      <td>50</td>\n",
       "    </tr>\n",
       "  </tbody>\n",
       "</table>\n",
       "</div>"
      ],
      "text/plain": [
       "     name  age\n",
       "S1     sk   30\n",
       "S2  kumar   40\n",
       "S3    joy   50"
      ]
     },
     "execution_count": 117,
     "metadata": {},
     "output_type": "execute_result"
    }
   ],
   "source": [
    "DF1=pd.DataFrame(std_data)\n",
    "DF1"
   ]
  },
  {
   "cell_type": "code",
   "execution_count": 118,
   "id": "ded8fcf7",
   "metadata": {},
   "outputs": [
    {
     "data": {
      "text/plain": [
       "S1       sk\n",
       "S2    kumar\n",
       "S3      joy\n",
       "Name: name, dtype: object"
      ]
     },
     "execution_count": 118,
     "metadata": {},
     "output_type": "execute_result"
    }
   ],
   "source": [
    "DF1['name']"
   ]
  },
  {
   "cell_type": "code",
   "execution_count": 119,
   "id": "4d41cdfc",
   "metadata": {},
   "outputs": [
    {
     "data": {
      "text/html": [
       "<div>\n",
       "<style scoped>\n",
       "    .dataframe tbody tr th:only-of-type {\n",
       "        vertical-align: middle;\n",
       "    }\n",
       "\n",
       "    .dataframe tbody tr th {\n",
       "        vertical-align: top;\n",
       "    }\n",
       "\n",
       "    .dataframe thead th {\n",
       "        text-align: right;\n",
       "    }\n",
       "</style>\n",
       "<table border=\"1\" class=\"dataframe\">\n",
       "  <thead>\n",
       "    <tr style=\"text-align: right;\">\n",
       "      <th></th>\n",
       "      <th>Std_Name</th>\n",
       "      <th>age</th>\n",
       "    </tr>\n",
       "  </thead>\n",
       "  <tbody>\n",
       "    <tr>\n",
       "      <th>S1</th>\n",
       "      <td>sk</td>\n",
       "      <td>30</td>\n",
       "    </tr>\n",
       "    <tr>\n",
       "      <th>S2</th>\n",
       "      <td>kumar</td>\n",
       "      <td>40</td>\n",
       "    </tr>\n",
       "    <tr>\n",
       "      <th>S3</th>\n",
       "      <td>joy</td>\n",
       "      <td>50</td>\n",
       "    </tr>\n",
       "  </tbody>\n",
       "</table>\n",
       "</div>"
      ],
      "text/plain": [
       "   Std_Name  age\n",
       "S1       sk   30\n",
       "S2    kumar   40\n",
       "S3      joy   50"
      ]
     },
     "execution_count": 119,
     "metadata": {},
     "output_type": "execute_result"
    }
   ],
   "source": [
    "# rename a column\n",
    "DF1.rename(columns={'name':'Std_Name'},inplace=True)\n",
    "DF1"
   ]
  },
  {
   "cell_type": "code",
   "execution_count": 120,
   "id": "f4034d98",
   "metadata": {},
   "outputs": [],
   "source": [
    "import os \n",
    "import numpy as np\n",
    "import pandas as pd\n",
    "\n",
    "import warnings\n",
    "warnings.filterwarnings(\"ignore\")"
   ]
  },
  {
   "cell_type": "code",
   "execution_count": 121,
   "id": "e42d9c03",
   "metadata": {},
   "outputs": [],
   "source": [
    "# help pd?\n",
    "# pd?\n",
    "# https://pandas.pydata.org/docs/reference/api/pandas.DataFrame.html"
   ]
  },
  {
   "cell_type": "code",
   "execution_count": 122,
   "id": "8a0e14ca",
   "metadata": {},
   "outputs": [
    {
     "data": {
      "text/plain": [
       "'/Users/eebadreza/Downloads/MaT/COMVIVA/Day'"
      ]
     },
     "execution_count": 122,
     "metadata": {},
     "output_type": "execute_result"
    }
   ],
   "source": [
    "# working directory\n",
    "os.getcwd()"
   ]
  },
  {
   "cell_type": "code",
   "execution_count": 123,
   "id": "c27c28d0",
   "metadata": {},
   "outputs": [],
   "source": [
    "# chnage the directory\n",
    "# os.chdir(\"C:\\\\Users\\\\prabh\\\\COMVIVA_AI_ML\")"
   ]
  },
  {
   "cell_type": "code",
   "execution_count": 124,
   "id": "5eb3b98d",
   "metadata": {},
   "outputs": [],
   "source": [
    "# load the dataset store.csv\n",
    "data = pd.read_csv(\"Store.csv\")"
   ]
  },
  {
   "cell_type": "code",
   "execution_count": 125,
   "id": "3d5d4ff6",
   "metadata": {},
   "outputs": [
    {
     "data": {
      "text/plain": [
       "(9994, 22)"
      ]
     },
     "execution_count": 125,
     "metadata": {},
     "output_type": "execute_result"
    }
   ],
   "source": [
    "# print the data\n",
    "# data\n",
    "# print the dimension\n",
    "data.shape"
   ]
  },
  {
   "cell_type": "code",
   "execution_count": 126,
   "id": "0e1e5fd6",
   "metadata": {},
   "outputs": [
    {
     "data": {
      "text/html": [
       "<div>\n",
       "<style scoped>\n",
       "    .dataframe tbody tr th:only-of-type {\n",
       "        vertical-align: middle;\n",
       "    }\n",
       "\n",
       "    .dataframe tbody tr th {\n",
       "        vertical-align: top;\n",
       "    }\n",
       "\n",
       "    .dataframe thead th {\n",
       "        text-align: right;\n",
       "    }\n",
       "</style>\n",
       "<table border=\"1\" class=\"dataframe\">\n",
       "  <thead>\n",
       "    <tr style=\"text-align: right;\">\n",
       "      <th></th>\n",
       "      <th>Unnamed: 0</th>\n",
       "      <th>Row ID</th>\n",
       "      <th>Order ID</th>\n",
       "      <th>Order Date</th>\n",
       "      <th>Ship Date</th>\n",
       "      <th>Ship Mode</th>\n",
       "      <th>Customer ID</th>\n",
       "      <th>Customer Name</th>\n",
       "      <th>Segment</th>\n",
       "      <th>Country</th>\n",
       "      <th>...</th>\n",
       "      <th>Postal Code</th>\n",
       "      <th>Region</th>\n",
       "      <th>Product ID</th>\n",
       "      <th>Category</th>\n",
       "      <th>Sub-Category</th>\n",
       "      <th>Product Name</th>\n",
       "      <th>Sales</th>\n",
       "      <th>Quantity</th>\n",
       "      <th>Discount</th>\n",
       "      <th>Profit</th>\n",
       "    </tr>\n",
       "  </thead>\n",
       "  <tbody>\n",
       "    <tr>\n",
       "      <th>0</th>\n",
       "      <td>0</td>\n",
       "      <td>1</td>\n",
       "      <td>CA-2013-152156</td>\n",
       "      <td>11-09-2013</td>\n",
       "      <td>11-12-2013</td>\n",
       "      <td>Second Class</td>\n",
       "      <td>CG-12520</td>\n",
       "      <td>Claire Gute</td>\n",
       "      <td>Consumer</td>\n",
       "      <td>United States</td>\n",
       "      <td>...</td>\n",
       "      <td>42420</td>\n",
       "      <td>South</td>\n",
       "      <td>FUR-BO-10001798</td>\n",
       "      <td>Furniture</td>\n",
       "      <td>Bookcases</td>\n",
       "      <td>Bush Somerset Collection Bookcase</td>\n",
       "      <td>261.9600</td>\n",
       "      <td>2</td>\n",
       "      <td>0.00</td>\n",
       "      <td>41.9136</td>\n",
       "    </tr>\n",
       "    <tr>\n",
       "      <th>1</th>\n",
       "      <td>1</td>\n",
       "      <td>2</td>\n",
       "      <td>CA-2013-152156</td>\n",
       "      <td>11-09-2013</td>\n",
       "      <td>11-12-2013</td>\n",
       "      <td>Second Class</td>\n",
       "      <td>CG-12520</td>\n",
       "      <td>Claire Gute</td>\n",
       "      <td>Consumer</td>\n",
       "      <td>United States</td>\n",
       "      <td>...</td>\n",
       "      <td>42420</td>\n",
       "      <td>South</td>\n",
       "      <td>FUR-CH-10000454</td>\n",
       "      <td>Furniture</td>\n",
       "      <td>Chairs</td>\n",
       "      <td>Hon Deluxe Fabric Upholstered Stacking Chairs,...</td>\n",
       "      <td>731.9400</td>\n",
       "      <td>3</td>\n",
       "      <td>0.00</td>\n",
       "      <td>219.5820</td>\n",
       "    </tr>\n",
       "    <tr>\n",
       "      <th>2</th>\n",
       "      <td>2</td>\n",
       "      <td>3</td>\n",
       "      <td>CA-2013-138688</td>\n",
       "      <td>6/13/2013</td>\n",
       "      <td>6/17/2013</td>\n",
       "      <td>Second Class</td>\n",
       "      <td>DV-13045</td>\n",
       "      <td>Darrin Van Huff</td>\n",
       "      <td>Corporate</td>\n",
       "      <td>United States</td>\n",
       "      <td>...</td>\n",
       "      <td>90036</td>\n",
       "      <td>West</td>\n",
       "      <td>OFF-LA-10000240</td>\n",
       "      <td>Office Supplies</td>\n",
       "      <td>Labels</td>\n",
       "      <td>Self-Adhesive Address Labels for Typewriters b...</td>\n",
       "      <td>14.6200</td>\n",
       "      <td>2</td>\n",
       "      <td>0.00</td>\n",
       "      <td>6.8714</td>\n",
       "    </tr>\n",
       "    <tr>\n",
       "      <th>3</th>\n",
       "      <td>3</td>\n",
       "      <td>4</td>\n",
       "      <td>US-2012-108966</td>\n",
       "      <td>10-11-2012</td>\n",
       "      <td>10/18/2012</td>\n",
       "      <td>Standard Class</td>\n",
       "      <td>SO-20335</td>\n",
       "      <td>Sean O'Donnell</td>\n",
       "      <td>Consumer</td>\n",
       "      <td>United States</td>\n",
       "      <td>...</td>\n",
       "      <td>33311</td>\n",
       "      <td>South</td>\n",
       "      <td>FUR-TA-10000577</td>\n",
       "      <td>Furniture</td>\n",
       "      <td>Tables</td>\n",
       "      <td>Bretford CR4500 Series Slim Rectangular Table</td>\n",
       "      <td>957.5775</td>\n",
       "      <td>5</td>\n",
       "      <td>0.45</td>\n",
       "      <td>-383.0310</td>\n",
       "    </tr>\n",
       "    <tr>\n",
       "      <th>4</th>\n",
       "      <td>4</td>\n",
       "      <td>5</td>\n",
       "      <td>US-2012-108966</td>\n",
       "      <td>10-11-2012</td>\n",
       "      <td>10/18/2012</td>\n",
       "      <td>Standard Class</td>\n",
       "      <td>SO-20335</td>\n",
       "      <td>Sean O'Donnell</td>\n",
       "      <td>Consumer</td>\n",
       "      <td>United States</td>\n",
       "      <td>...</td>\n",
       "      <td>33311</td>\n",
       "      <td>South</td>\n",
       "      <td>OFF-ST-10000760</td>\n",
       "      <td>Office Supplies</td>\n",
       "      <td>Storage</td>\n",
       "      <td>Eldon Fold 'N Roll Cart System</td>\n",
       "      <td>22.3680</td>\n",
       "      <td>2</td>\n",
       "      <td>0.20</td>\n",
       "      <td>2.5164</td>\n",
       "    </tr>\n",
       "    <tr>\n",
       "      <th>5</th>\n",
       "      <td>5</td>\n",
       "      <td>6</td>\n",
       "      <td>CA-2011-115812</td>\n",
       "      <td>06-09-2011</td>\n",
       "      <td>6/14/2011</td>\n",
       "      <td>Standard Class</td>\n",
       "      <td>BH-11710</td>\n",
       "      <td>Brosina Hoffman</td>\n",
       "      <td>Consumer</td>\n",
       "      <td>United States</td>\n",
       "      <td>...</td>\n",
       "      <td>90032</td>\n",
       "      <td>West</td>\n",
       "      <td>FUR-FU-10001487</td>\n",
       "      <td>Furniture</td>\n",
       "      <td>Furnishings</td>\n",
       "      <td>Eldon Expressions Wood and Plastic Desk Access...</td>\n",
       "      <td>48.8600</td>\n",
       "      <td>7</td>\n",
       "      <td>0.00</td>\n",
       "      <td>14.1694</td>\n",
       "    </tr>\n",
       "    <tr>\n",
       "      <th>6</th>\n",
       "      <td>6</td>\n",
       "      <td>7</td>\n",
       "      <td>CA-2011-115812</td>\n",
       "      <td>06-09-2011</td>\n",
       "      <td>6/14/2011</td>\n",
       "      <td>Standard Class</td>\n",
       "      <td>BH-11710</td>\n",
       "      <td>Brosina Hoffman</td>\n",
       "      <td>Consumer</td>\n",
       "      <td>United States</td>\n",
       "      <td>...</td>\n",
       "      <td>90032</td>\n",
       "      <td>West</td>\n",
       "      <td>OFF-AR-10002833</td>\n",
       "      <td>Office Supplies</td>\n",
       "      <td>Art</td>\n",
       "      <td>Newell 322</td>\n",
       "      <td>7.2800</td>\n",
       "      <td>4</td>\n",
       "      <td>0.00</td>\n",
       "      <td>1.9656</td>\n",
       "    </tr>\n",
       "    <tr>\n",
       "      <th>7</th>\n",
       "      <td>7</td>\n",
       "      <td>8</td>\n",
       "      <td>CA-2011-115812</td>\n",
       "      <td>06-09-2011</td>\n",
       "      <td>6/14/2011</td>\n",
       "      <td>Standard Class</td>\n",
       "      <td>BH-11710</td>\n",
       "      <td>Brosina Hoffman</td>\n",
       "      <td>Consumer</td>\n",
       "      <td>United States</td>\n",
       "      <td>...</td>\n",
       "      <td>90032</td>\n",
       "      <td>West</td>\n",
       "      <td>TEC-PH-10002275</td>\n",
       "      <td>Technology</td>\n",
       "      <td>Phones</td>\n",
       "      <td>Mitel 5320 IP Phone VoIP phone</td>\n",
       "      <td>907.1520</td>\n",
       "      <td>6</td>\n",
       "      <td>0.20</td>\n",
       "      <td>90.7152</td>\n",
       "    </tr>\n",
       "    <tr>\n",
       "      <th>8</th>\n",
       "      <td>8</td>\n",
       "      <td>9</td>\n",
       "      <td>CA-2011-115812</td>\n",
       "      <td>06-09-2011</td>\n",
       "      <td>6/14/2011</td>\n",
       "      <td>Standard Class</td>\n",
       "      <td>BH-11710</td>\n",
       "      <td>Brosina Hoffman</td>\n",
       "      <td>Consumer</td>\n",
       "      <td>United States</td>\n",
       "      <td>...</td>\n",
       "      <td>90032</td>\n",
       "      <td>West</td>\n",
       "      <td>OFF-BI-10003910</td>\n",
       "      <td>Office Supplies</td>\n",
       "      <td>Binders</td>\n",
       "      <td>DXL Angle-View Binders with Locking Rings by S...</td>\n",
       "      <td>18.5040</td>\n",
       "      <td>3</td>\n",
       "      <td>0.20</td>\n",
       "      <td>5.7825</td>\n",
       "    </tr>\n",
       "    <tr>\n",
       "      <th>9</th>\n",
       "      <td>9</td>\n",
       "      <td>10</td>\n",
       "      <td>CA-2011-115812</td>\n",
       "      <td>06-09-2011</td>\n",
       "      <td>6/14/2011</td>\n",
       "      <td>Standard Class</td>\n",
       "      <td>BH-11710</td>\n",
       "      <td>Brosina Hoffman</td>\n",
       "      <td>Consumer</td>\n",
       "      <td>United States</td>\n",
       "      <td>...</td>\n",
       "      <td>90032</td>\n",
       "      <td>West</td>\n",
       "      <td>OFF-AP-10002892</td>\n",
       "      <td>Office Supplies</td>\n",
       "      <td>Appliances</td>\n",
       "      <td>Belkin F5C206VTEL 6 Outlet Surge</td>\n",
       "      <td>114.9000</td>\n",
       "      <td>5</td>\n",
       "      <td>0.00</td>\n",
       "      <td>34.4700</td>\n",
       "    </tr>\n",
       "  </tbody>\n",
       "</table>\n",
       "<p>10 rows × 22 columns</p>\n",
       "</div>"
      ],
      "text/plain": [
       "   Unnamed: 0  Row ID        Order ID  Order Date   Ship Date       Ship Mode  \\\n",
       "0           0       1  CA-2013-152156  11-09-2013  11-12-2013    Second Class   \n",
       "1           1       2  CA-2013-152156  11-09-2013  11-12-2013    Second Class   \n",
       "2           2       3  CA-2013-138688   6/13/2013   6/17/2013    Second Class   \n",
       "3           3       4  US-2012-108966  10-11-2012  10/18/2012  Standard Class   \n",
       "4           4       5  US-2012-108966  10-11-2012  10/18/2012  Standard Class   \n",
       "5           5       6  CA-2011-115812  06-09-2011   6/14/2011  Standard Class   \n",
       "6           6       7  CA-2011-115812  06-09-2011   6/14/2011  Standard Class   \n",
       "7           7       8  CA-2011-115812  06-09-2011   6/14/2011  Standard Class   \n",
       "8           8       9  CA-2011-115812  06-09-2011   6/14/2011  Standard Class   \n",
       "9           9      10  CA-2011-115812  06-09-2011   6/14/2011  Standard Class   \n",
       "\n",
       "  Customer ID    Customer Name    Segment        Country  ... Postal Code  \\\n",
       "0    CG-12520      Claire Gute   Consumer  United States  ...       42420   \n",
       "1    CG-12520      Claire Gute   Consumer  United States  ...       42420   \n",
       "2    DV-13045  Darrin Van Huff  Corporate  United States  ...       90036   \n",
       "3    SO-20335   Sean O'Donnell   Consumer  United States  ...       33311   \n",
       "4    SO-20335   Sean O'Donnell   Consumer  United States  ...       33311   \n",
       "5    BH-11710  Brosina Hoffman   Consumer  United States  ...       90032   \n",
       "6    BH-11710  Brosina Hoffman   Consumer  United States  ...       90032   \n",
       "7    BH-11710  Brosina Hoffman   Consumer  United States  ...       90032   \n",
       "8    BH-11710  Brosina Hoffman   Consumer  United States  ...       90032   \n",
       "9    BH-11710  Brosina Hoffman   Consumer  United States  ...       90032   \n",
       "\n",
       "  Region       Product ID         Category Sub-Category  \\\n",
       "0  South  FUR-BO-10001798        Furniture    Bookcases   \n",
       "1  South  FUR-CH-10000454        Furniture       Chairs   \n",
       "2   West  OFF-LA-10000240  Office Supplies       Labels   \n",
       "3  South  FUR-TA-10000577        Furniture       Tables   \n",
       "4  South  OFF-ST-10000760  Office Supplies      Storage   \n",
       "5   West  FUR-FU-10001487        Furniture  Furnishings   \n",
       "6   West  OFF-AR-10002833  Office Supplies          Art   \n",
       "7   West  TEC-PH-10002275       Technology       Phones   \n",
       "8   West  OFF-BI-10003910  Office Supplies      Binders   \n",
       "9   West  OFF-AP-10002892  Office Supplies   Appliances   \n",
       "\n",
       "                                        Product Name     Sales Quantity  \\\n",
       "0                  Bush Somerset Collection Bookcase  261.9600        2   \n",
       "1  Hon Deluxe Fabric Upholstered Stacking Chairs,...  731.9400        3   \n",
       "2  Self-Adhesive Address Labels for Typewriters b...   14.6200        2   \n",
       "3      Bretford CR4500 Series Slim Rectangular Table  957.5775        5   \n",
       "4                     Eldon Fold 'N Roll Cart System   22.3680        2   \n",
       "5  Eldon Expressions Wood and Plastic Desk Access...   48.8600        7   \n",
       "6                                         Newell 322    7.2800        4   \n",
       "7                     Mitel 5320 IP Phone VoIP phone  907.1520        6   \n",
       "8  DXL Angle-View Binders with Locking Rings by S...   18.5040        3   \n",
       "9                   Belkin F5C206VTEL 6 Outlet Surge  114.9000        5   \n",
       "\n",
       "   Discount    Profit  \n",
       "0      0.00   41.9136  \n",
       "1      0.00  219.5820  \n",
       "2      0.00    6.8714  \n",
       "3      0.45 -383.0310  \n",
       "4      0.20    2.5164  \n",
       "5      0.00   14.1694  \n",
       "6      0.00    1.9656  \n",
       "7      0.20   90.7152  \n",
       "8      0.20    5.7825  \n",
       "9      0.00   34.4700  \n",
       "\n",
       "[10 rows x 22 columns]"
      ]
     },
     "execution_count": 126,
     "metadata": {},
     "output_type": "execute_result"
    }
   ],
   "source": [
    "# extract the first 10 rows\n",
    "data.head(10)\n",
    "# extract the last 10 rows\n",
    "# data.tail(10)"
   ]
  },
  {
   "cell_type": "code",
   "execution_count": 127,
   "id": "54293be0",
   "metadata": {},
   "outputs": [
    {
     "name": "stdout",
     "output_type": "stream",
     "text": [
      "<class 'pandas.core.frame.DataFrame'>\n",
      "RangeIndex: 9994 entries, 0 to 9993\n",
      "Data columns (total 22 columns):\n",
      " #   Column         Non-Null Count  Dtype  \n",
      "---  ------         --------------  -----  \n",
      " 0   Unnamed: 0     9994 non-null   int64  \n",
      " 1   Row ID         9994 non-null   int64  \n",
      " 2   Order ID       9994 non-null   object \n",
      " 3   Order Date     9994 non-null   object \n",
      " 4   Ship Date      9994 non-null   object \n",
      " 5   Ship Mode      9994 non-null   object \n",
      " 6   Customer ID    9994 non-null   object \n",
      " 7   Customer Name  9994 non-null   object \n",
      " 8   Segment        9994 non-null   object \n",
      " 9   Country        9994 non-null   object \n",
      " 10  City           9994 non-null   object \n",
      " 11  State          9994 non-null   object \n",
      " 12  Postal Code    9994 non-null   int64  \n",
      " 13  Region         9994 non-null   object \n",
      " 14  Product ID     9994 non-null   object \n",
      " 15  Category       9994 non-null   object \n",
      " 16  Sub-Category   9994 non-null   object \n",
      " 17  Product Name   9994 non-null   object \n",
      " 18  Sales          9994 non-null   float64\n",
      " 19  Quantity       9994 non-null   int64  \n",
      " 20  Discount       9994 non-null   float64\n",
      " 21  Profit         9994 non-null   float64\n",
      "dtypes: float64(3), int64(4), object(15)\n",
      "memory usage: 1.7+ MB\n"
     ]
    }
   ],
   "source": [
    "# information about the dataset\n",
    "data.info()"
   ]
  },
  {
   "cell_type": "code",
   "execution_count": 128,
   "id": "7dcc7368",
   "metadata": {},
   "outputs": [
    {
     "data": {
      "text/plain": [
       "0"
      ]
     },
     "execution_count": 128,
     "metadata": {},
     "output_type": "execute_result"
    }
   ],
   "source": [
    "#missing values\n",
    "data.isnull()\n",
    "# count the missing values\n",
    "data.isnull().sum()\n",
    "# overall dataset how many null values\n",
    "data.isnull().sum().sum()"
   ]
  },
  {
   "cell_type": "code",
   "execution_count": 129,
   "id": "92eda434",
   "metadata": {},
   "outputs": [
    {
     "data": {
      "text/html": [
       "<div>\n",
       "<style scoped>\n",
       "    .dataframe tbody tr th:only-of-type {\n",
       "        vertical-align: middle;\n",
       "    }\n",
       "\n",
       "    .dataframe tbody tr th {\n",
       "        vertical-align: top;\n",
       "    }\n",
       "\n",
       "    .dataframe thead th {\n",
       "        text-align: right;\n",
       "    }\n",
       "</style>\n",
       "<table border=\"1\" class=\"dataframe\">\n",
       "  <thead>\n",
       "    <tr style=\"text-align: right;\">\n",
       "      <th></th>\n",
       "      <th>Unnamed: 0</th>\n",
       "      <th>Row ID</th>\n",
       "      <th>Postal Code</th>\n",
       "      <th>Sales</th>\n",
       "      <th>Quantity</th>\n",
       "      <th>Discount</th>\n",
       "      <th>Profit</th>\n",
       "    </tr>\n",
       "  </thead>\n",
       "  <tbody>\n",
       "    <tr>\n",
       "      <th>count</th>\n",
       "      <td>9994.000000</td>\n",
       "      <td>9994.000000</td>\n",
       "      <td>9994.000000</td>\n",
       "      <td>9994.000000</td>\n",
       "      <td>9994.000000</td>\n",
       "      <td>9994.000000</td>\n",
       "      <td>9994.000000</td>\n",
       "    </tr>\n",
       "    <tr>\n",
       "      <th>mean</th>\n",
       "      <td>4996.500000</td>\n",
       "      <td>4997.500000</td>\n",
       "      <td>55190.379428</td>\n",
       "      <td>229.858001</td>\n",
       "      <td>3.789574</td>\n",
       "      <td>0.156203</td>\n",
       "      <td>28.656896</td>\n",
       "    </tr>\n",
       "    <tr>\n",
       "      <th>std</th>\n",
       "      <td>2885.163629</td>\n",
       "      <td>2885.163629</td>\n",
       "      <td>32063.693350</td>\n",
       "      <td>623.245101</td>\n",
       "      <td>2.225110</td>\n",
       "      <td>0.206452</td>\n",
       "      <td>234.260108</td>\n",
       "    </tr>\n",
       "    <tr>\n",
       "      <th>min</th>\n",
       "      <td>0.000000</td>\n",
       "      <td>1.000000</td>\n",
       "      <td>1040.000000</td>\n",
       "      <td>0.444000</td>\n",
       "      <td>1.000000</td>\n",
       "      <td>0.000000</td>\n",
       "      <td>-6599.978000</td>\n",
       "    </tr>\n",
       "    <tr>\n",
       "      <th>25%</th>\n",
       "      <td>2498.250000</td>\n",
       "      <td>2499.250000</td>\n",
       "      <td>23223.000000</td>\n",
       "      <td>17.280000</td>\n",
       "      <td>2.000000</td>\n",
       "      <td>0.000000</td>\n",
       "      <td>1.728750</td>\n",
       "    </tr>\n",
       "    <tr>\n",
       "      <th>50%</th>\n",
       "      <td>4996.500000</td>\n",
       "      <td>4997.500000</td>\n",
       "      <td>56430.500000</td>\n",
       "      <td>54.490000</td>\n",
       "      <td>3.000000</td>\n",
       "      <td>0.200000</td>\n",
       "      <td>8.666500</td>\n",
       "    </tr>\n",
       "    <tr>\n",
       "      <th>75%</th>\n",
       "      <td>7494.750000</td>\n",
       "      <td>7495.750000</td>\n",
       "      <td>90008.000000</td>\n",
       "      <td>209.940000</td>\n",
       "      <td>5.000000</td>\n",
       "      <td>0.200000</td>\n",
       "      <td>29.364000</td>\n",
       "    </tr>\n",
       "    <tr>\n",
       "      <th>max</th>\n",
       "      <td>9993.000000</td>\n",
       "      <td>9994.000000</td>\n",
       "      <td>99301.000000</td>\n",
       "      <td>22638.480000</td>\n",
       "      <td>14.000000</td>\n",
       "      <td>0.800000</td>\n",
       "      <td>8399.976000</td>\n",
       "    </tr>\n",
       "  </tbody>\n",
       "</table>\n",
       "</div>"
      ],
      "text/plain": [
       "        Unnamed: 0       Row ID   Postal Code         Sales     Quantity  \\\n",
       "count  9994.000000  9994.000000   9994.000000   9994.000000  9994.000000   \n",
       "mean   4996.500000  4997.500000  55190.379428    229.858001     3.789574   \n",
       "std    2885.163629  2885.163629  32063.693350    623.245101     2.225110   \n",
       "min       0.000000     1.000000   1040.000000      0.444000     1.000000   \n",
       "25%    2498.250000  2499.250000  23223.000000     17.280000     2.000000   \n",
       "50%    4996.500000  4997.500000  56430.500000     54.490000     3.000000   \n",
       "75%    7494.750000  7495.750000  90008.000000    209.940000     5.000000   \n",
       "max    9993.000000  9994.000000  99301.000000  22638.480000    14.000000   \n",
       "\n",
       "          Discount       Profit  \n",
       "count  9994.000000  9994.000000  \n",
       "mean      0.156203    28.656896  \n",
       "std       0.206452   234.260108  \n",
       "min       0.000000 -6599.978000  \n",
       "25%       0.000000     1.728750  \n",
       "50%       0.200000     8.666500  \n",
       "75%       0.200000    29.364000  \n",
       "max       0.800000  8399.976000  "
      ]
     },
     "execution_count": 129,
     "metadata": {},
     "output_type": "execute_result"
    }
   ],
   "source": [
    "# statistical summary for numeric columns\n",
    "data.describe()"
   ]
  },
  {
   "cell_type": "code",
   "execution_count": 130,
   "id": "5d822a3b",
   "metadata": {},
   "outputs": [
    {
     "data": {
      "text/html": [
       "<div>\n",
       "<style scoped>\n",
       "    .dataframe tbody tr th:only-of-type {\n",
       "        vertical-align: middle;\n",
       "    }\n",
       "\n",
       "    .dataframe tbody tr th {\n",
       "        vertical-align: top;\n",
       "    }\n",
       "\n",
       "    .dataframe thead th {\n",
       "        text-align: right;\n",
       "    }\n",
       "</style>\n",
       "<table border=\"1\" class=\"dataframe\">\n",
       "  <thead>\n",
       "    <tr style=\"text-align: right;\">\n",
       "      <th></th>\n",
       "      <th>Unnamed: 0</th>\n",
       "      <th>Row ID</th>\n",
       "      <th>Order ID</th>\n",
       "      <th>Order Date</th>\n",
       "      <th>Ship Date</th>\n",
       "      <th>Ship Mode</th>\n",
       "      <th>Customer ID</th>\n",
       "      <th>Customer Name</th>\n",
       "      <th>Segment</th>\n",
       "      <th>Country</th>\n",
       "      <th>...</th>\n",
       "      <th>Postal Code</th>\n",
       "      <th>Region</th>\n",
       "      <th>Product ID</th>\n",
       "      <th>Category</th>\n",
       "      <th>Sub-Category</th>\n",
       "      <th>Product Name</th>\n",
       "      <th>Sales</th>\n",
       "      <th>Quantity</th>\n",
       "      <th>Discount</th>\n",
       "      <th>Profit</th>\n",
       "    </tr>\n",
       "  </thead>\n",
       "  <tbody>\n",
       "    <tr>\n",
       "      <th>count</th>\n",
       "      <td>9994.000000</td>\n",
       "      <td>9994.000000</td>\n",
       "      <td>9994</td>\n",
       "      <td>9994</td>\n",
       "      <td>9994</td>\n",
       "      <td>9994</td>\n",
       "      <td>9994</td>\n",
       "      <td>9994</td>\n",
       "      <td>9994</td>\n",
       "      <td>9994</td>\n",
       "      <td>...</td>\n",
       "      <td>9994.000000</td>\n",
       "      <td>9994</td>\n",
       "      <td>9994</td>\n",
       "      <td>9994</td>\n",
       "      <td>9994</td>\n",
       "      <td>9994</td>\n",
       "      <td>9994.000000</td>\n",
       "      <td>9994.000000</td>\n",
       "      <td>9994.000000</td>\n",
       "      <td>9994.000000</td>\n",
       "    </tr>\n",
       "    <tr>\n",
       "      <th>unique</th>\n",
       "      <td>NaN</td>\n",
       "      <td>NaN</td>\n",
       "      <td>5009</td>\n",
       "      <td>1238</td>\n",
       "      <td>1334</td>\n",
       "      <td>4</td>\n",
       "      <td>793</td>\n",
       "      <td>793</td>\n",
       "      <td>3</td>\n",
       "      <td>1</td>\n",
       "      <td>...</td>\n",
       "      <td>NaN</td>\n",
       "      <td>4</td>\n",
       "      <td>1862</td>\n",
       "      <td>3</td>\n",
       "      <td>17</td>\n",
       "      <td>1850</td>\n",
       "      <td>NaN</td>\n",
       "      <td>NaN</td>\n",
       "      <td>NaN</td>\n",
       "      <td>NaN</td>\n",
       "    </tr>\n",
       "    <tr>\n",
       "      <th>top</th>\n",
       "      <td>NaN</td>\n",
       "      <td>NaN</td>\n",
       "      <td>CA-2014-100111</td>\n",
       "      <td>09-06-2013</td>\n",
       "      <td>12/16/2012</td>\n",
       "      <td>Standard Class</td>\n",
       "      <td>WB-21850</td>\n",
       "      <td>William Brown</td>\n",
       "      <td>Consumer</td>\n",
       "      <td>United States</td>\n",
       "      <td>...</td>\n",
       "      <td>NaN</td>\n",
       "      <td>West</td>\n",
       "      <td>OFF-PA-10001970</td>\n",
       "      <td>Office Supplies</td>\n",
       "      <td>Binders</td>\n",
       "      <td>Staple envelope</td>\n",
       "      <td>NaN</td>\n",
       "      <td>NaN</td>\n",
       "      <td>NaN</td>\n",
       "      <td>NaN</td>\n",
       "    </tr>\n",
       "    <tr>\n",
       "      <th>freq</th>\n",
       "      <td>NaN</td>\n",
       "      <td>NaN</td>\n",
       "      <td>14</td>\n",
       "      <td>38</td>\n",
       "      <td>35</td>\n",
       "      <td>5968</td>\n",
       "      <td>37</td>\n",
       "      <td>37</td>\n",
       "      <td>5191</td>\n",
       "      <td>9994</td>\n",
       "      <td>...</td>\n",
       "      <td>NaN</td>\n",
       "      <td>3203</td>\n",
       "      <td>19</td>\n",
       "      <td>6026</td>\n",
       "      <td>1523</td>\n",
       "      <td>48</td>\n",
       "      <td>NaN</td>\n",
       "      <td>NaN</td>\n",
       "      <td>NaN</td>\n",
       "      <td>NaN</td>\n",
       "    </tr>\n",
       "    <tr>\n",
       "      <th>mean</th>\n",
       "      <td>4996.500000</td>\n",
       "      <td>4997.500000</td>\n",
       "      <td>NaN</td>\n",
       "      <td>NaN</td>\n",
       "      <td>NaN</td>\n",
       "      <td>NaN</td>\n",
       "      <td>NaN</td>\n",
       "      <td>NaN</td>\n",
       "      <td>NaN</td>\n",
       "      <td>NaN</td>\n",
       "      <td>...</td>\n",
       "      <td>55190.379428</td>\n",
       "      <td>NaN</td>\n",
       "      <td>NaN</td>\n",
       "      <td>NaN</td>\n",
       "      <td>NaN</td>\n",
       "      <td>NaN</td>\n",
       "      <td>229.858001</td>\n",
       "      <td>3.789574</td>\n",
       "      <td>0.156203</td>\n",
       "      <td>28.656896</td>\n",
       "    </tr>\n",
       "    <tr>\n",
       "      <th>std</th>\n",
       "      <td>2885.163629</td>\n",
       "      <td>2885.163629</td>\n",
       "      <td>NaN</td>\n",
       "      <td>NaN</td>\n",
       "      <td>NaN</td>\n",
       "      <td>NaN</td>\n",
       "      <td>NaN</td>\n",
       "      <td>NaN</td>\n",
       "      <td>NaN</td>\n",
       "      <td>NaN</td>\n",
       "      <td>...</td>\n",
       "      <td>32063.693350</td>\n",
       "      <td>NaN</td>\n",
       "      <td>NaN</td>\n",
       "      <td>NaN</td>\n",
       "      <td>NaN</td>\n",
       "      <td>NaN</td>\n",
       "      <td>623.245101</td>\n",
       "      <td>2.225110</td>\n",
       "      <td>0.206452</td>\n",
       "      <td>234.260108</td>\n",
       "    </tr>\n",
       "    <tr>\n",
       "      <th>min</th>\n",
       "      <td>0.000000</td>\n",
       "      <td>1.000000</td>\n",
       "      <td>NaN</td>\n",
       "      <td>NaN</td>\n",
       "      <td>NaN</td>\n",
       "      <td>NaN</td>\n",
       "      <td>NaN</td>\n",
       "      <td>NaN</td>\n",
       "      <td>NaN</td>\n",
       "      <td>NaN</td>\n",
       "      <td>...</td>\n",
       "      <td>1040.000000</td>\n",
       "      <td>NaN</td>\n",
       "      <td>NaN</td>\n",
       "      <td>NaN</td>\n",
       "      <td>NaN</td>\n",
       "      <td>NaN</td>\n",
       "      <td>0.444000</td>\n",
       "      <td>1.000000</td>\n",
       "      <td>0.000000</td>\n",
       "      <td>-6599.978000</td>\n",
       "    </tr>\n",
       "    <tr>\n",
       "      <th>25%</th>\n",
       "      <td>2498.250000</td>\n",
       "      <td>2499.250000</td>\n",
       "      <td>NaN</td>\n",
       "      <td>NaN</td>\n",
       "      <td>NaN</td>\n",
       "      <td>NaN</td>\n",
       "      <td>NaN</td>\n",
       "      <td>NaN</td>\n",
       "      <td>NaN</td>\n",
       "      <td>NaN</td>\n",
       "      <td>...</td>\n",
       "      <td>23223.000000</td>\n",
       "      <td>NaN</td>\n",
       "      <td>NaN</td>\n",
       "      <td>NaN</td>\n",
       "      <td>NaN</td>\n",
       "      <td>NaN</td>\n",
       "      <td>17.280000</td>\n",
       "      <td>2.000000</td>\n",
       "      <td>0.000000</td>\n",
       "      <td>1.728750</td>\n",
       "    </tr>\n",
       "    <tr>\n",
       "      <th>50%</th>\n",
       "      <td>4996.500000</td>\n",
       "      <td>4997.500000</td>\n",
       "      <td>NaN</td>\n",
       "      <td>NaN</td>\n",
       "      <td>NaN</td>\n",
       "      <td>NaN</td>\n",
       "      <td>NaN</td>\n",
       "      <td>NaN</td>\n",
       "      <td>NaN</td>\n",
       "      <td>NaN</td>\n",
       "      <td>...</td>\n",
       "      <td>56430.500000</td>\n",
       "      <td>NaN</td>\n",
       "      <td>NaN</td>\n",
       "      <td>NaN</td>\n",
       "      <td>NaN</td>\n",
       "      <td>NaN</td>\n",
       "      <td>54.490000</td>\n",
       "      <td>3.000000</td>\n",
       "      <td>0.200000</td>\n",
       "      <td>8.666500</td>\n",
       "    </tr>\n",
       "    <tr>\n",
       "      <th>75%</th>\n",
       "      <td>7494.750000</td>\n",
       "      <td>7495.750000</td>\n",
       "      <td>NaN</td>\n",
       "      <td>NaN</td>\n",
       "      <td>NaN</td>\n",
       "      <td>NaN</td>\n",
       "      <td>NaN</td>\n",
       "      <td>NaN</td>\n",
       "      <td>NaN</td>\n",
       "      <td>NaN</td>\n",
       "      <td>...</td>\n",
       "      <td>90008.000000</td>\n",
       "      <td>NaN</td>\n",
       "      <td>NaN</td>\n",
       "      <td>NaN</td>\n",
       "      <td>NaN</td>\n",
       "      <td>NaN</td>\n",
       "      <td>209.940000</td>\n",
       "      <td>5.000000</td>\n",
       "      <td>0.200000</td>\n",
       "      <td>29.364000</td>\n",
       "    </tr>\n",
       "    <tr>\n",
       "      <th>max</th>\n",
       "      <td>9993.000000</td>\n",
       "      <td>9994.000000</td>\n",
       "      <td>NaN</td>\n",
       "      <td>NaN</td>\n",
       "      <td>NaN</td>\n",
       "      <td>NaN</td>\n",
       "      <td>NaN</td>\n",
       "      <td>NaN</td>\n",
       "      <td>NaN</td>\n",
       "      <td>NaN</td>\n",
       "      <td>...</td>\n",
       "      <td>99301.000000</td>\n",
       "      <td>NaN</td>\n",
       "      <td>NaN</td>\n",
       "      <td>NaN</td>\n",
       "      <td>NaN</td>\n",
       "      <td>NaN</td>\n",
       "      <td>22638.480000</td>\n",
       "      <td>14.000000</td>\n",
       "      <td>0.800000</td>\n",
       "      <td>8399.976000</td>\n",
       "    </tr>\n",
       "  </tbody>\n",
       "</table>\n",
       "<p>11 rows × 22 columns</p>\n",
       "</div>"
      ],
      "text/plain": [
       "         Unnamed: 0       Row ID        Order ID  Order Date   Ship Date  \\\n",
       "count   9994.000000  9994.000000            9994        9994        9994   \n",
       "unique          NaN          NaN            5009        1238        1334   \n",
       "top             NaN          NaN  CA-2014-100111  09-06-2013  12/16/2012   \n",
       "freq            NaN          NaN              14          38          35   \n",
       "mean    4996.500000  4997.500000             NaN         NaN         NaN   \n",
       "std     2885.163629  2885.163629             NaN         NaN         NaN   \n",
       "min        0.000000     1.000000             NaN         NaN         NaN   \n",
       "25%     2498.250000  2499.250000             NaN         NaN         NaN   \n",
       "50%     4996.500000  4997.500000             NaN         NaN         NaN   \n",
       "75%     7494.750000  7495.750000             NaN         NaN         NaN   \n",
       "max     9993.000000  9994.000000             NaN         NaN         NaN   \n",
       "\n",
       "             Ship Mode Customer ID  Customer Name   Segment        Country  \\\n",
       "count             9994        9994           9994      9994           9994   \n",
       "unique               4         793            793         3              1   \n",
       "top     Standard Class    WB-21850  William Brown  Consumer  United States   \n",
       "freq              5968          37             37      5191           9994   \n",
       "mean               NaN         NaN            NaN       NaN            NaN   \n",
       "std                NaN         NaN            NaN       NaN            NaN   \n",
       "min                NaN         NaN            NaN       NaN            NaN   \n",
       "25%                NaN         NaN            NaN       NaN            NaN   \n",
       "50%                NaN         NaN            NaN       NaN            NaN   \n",
       "75%                NaN         NaN            NaN       NaN            NaN   \n",
       "max                NaN         NaN            NaN       NaN            NaN   \n",
       "\n",
       "        ...   Postal Code Region       Product ID         Category  \\\n",
       "count   ...   9994.000000   9994             9994             9994   \n",
       "unique  ...           NaN      4             1862                3   \n",
       "top     ...           NaN   West  OFF-PA-10001970  Office Supplies   \n",
       "freq    ...           NaN   3203               19             6026   \n",
       "mean    ...  55190.379428    NaN              NaN              NaN   \n",
       "std     ...  32063.693350    NaN              NaN              NaN   \n",
       "min     ...   1040.000000    NaN              NaN              NaN   \n",
       "25%     ...  23223.000000    NaN              NaN              NaN   \n",
       "50%     ...  56430.500000    NaN              NaN              NaN   \n",
       "75%     ...  90008.000000    NaN              NaN              NaN   \n",
       "max     ...  99301.000000    NaN              NaN              NaN   \n",
       "\n",
       "       Sub-Category     Product Name         Sales     Quantity     Discount  \\\n",
       "count          9994             9994   9994.000000  9994.000000  9994.000000   \n",
       "unique           17             1850           NaN          NaN          NaN   \n",
       "top         Binders  Staple envelope           NaN          NaN          NaN   \n",
       "freq           1523               48           NaN          NaN          NaN   \n",
       "mean            NaN              NaN    229.858001     3.789574     0.156203   \n",
       "std             NaN              NaN    623.245101     2.225110     0.206452   \n",
       "min             NaN              NaN      0.444000     1.000000     0.000000   \n",
       "25%             NaN              NaN     17.280000     2.000000     0.000000   \n",
       "50%             NaN              NaN     54.490000     3.000000     0.200000   \n",
       "75%             NaN              NaN    209.940000     5.000000     0.200000   \n",
       "max             NaN              NaN  22638.480000    14.000000     0.800000   \n",
       "\n",
       "             Profit  \n",
       "count   9994.000000  \n",
       "unique          NaN  \n",
       "top             NaN  \n",
       "freq            NaN  \n",
       "mean      28.656896  \n",
       "std      234.260108  \n",
       "min    -6599.978000  \n",
       "25%        1.728750  \n",
       "50%        8.666500  \n",
       "75%       29.364000  \n",
       "max     8399.976000  \n",
       "\n",
       "[11 rows x 22 columns]"
      ]
     },
     "execution_count": 130,
     "metadata": {},
     "output_type": "execute_result"
    }
   ],
   "source": [
    "# statistical summary for all columns\n",
    "data.describe(include = \"all\")"
   ]
  },
  {
   "cell_type": "code",
   "execution_count": 131,
   "id": "b126ce34",
   "metadata": {},
   "outputs": [
    {
     "data": {
      "text/html": [
       "<div>\n",
       "<style scoped>\n",
       "    .dataframe tbody tr th:only-of-type {\n",
       "        vertical-align: middle;\n",
       "    }\n",
       "\n",
       "    .dataframe tbody tr th {\n",
       "        vertical-align: top;\n",
       "    }\n",
       "\n",
       "    .dataframe thead th {\n",
       "        text-align: right;\n",
       "    }\n",
       "</style>\n",
       "<table border=\"1\" class=\"dataframe\">\n",
       "  <thead>\n",
       "    <tr style=\"text-align: right;\">\n",
       "      <th></th>\n",
       "      <th>Order ID</th>\n",
       "      <th>Order Date</th>\n",
       "      <th>Ship Date</th>\n",
       "      <th>Ship Mode</th>\n",
       "      <th>Customer ID</th>\n",
       "      <th>Customer Name</th>\n",
       "      <th>Segment</th>\n",
       "      <th>Country</th>\n",
       "      <th>City</th>\n",
       "      <th>State</th>\n",
       "      <th>Region</th>\n",
       "      <th>Product ID</th>\n",
       "      <th>Category</th>\n",
       "      <th>Sub-Category</th>\n",
       "      <th>Product Name</th>\n",
       "    </tr>\n",
       "  </thead>\n",
       "  <tbody>\n",
       "    <tr>\n",
       "      <th>count</th>\n",
       "      <td>9994</td>\n",
       "      <td>9994</td>\n",
       "      <td>9994</td>\n",
       "      <td>9994</td>\n",
       "      <td>9994</td>\n",
       "      <td>9994</td>\n",
       "      <td>9994</td>\n",
       "      <td>9994</td>\n",
       "      <td>9994</td>\n",
       "      <td>9994</td>\n",
       "      <td>9994</td>\n",
       "      <td>9994</td>\n",
       "      <td>9994</td>\n",
       "      <td>9994</td>\n",
       "      <td>9994</td>\n",
       "    </tr>\n",
       "    <tr>\n",
       "      <th>unique</th>\n",
       "      <td>5009</td>\n",
       "      <td>1238</td>\n",
       "      <td>1334</td>\n",
       "      <td>4</td>\n",
       "      <td>793</td>\n",
       "      <td>793</td>\n",
       "      <td>3</td>\n",
       "      <td>1</td>\n",
       "      <td>531</td>\n",
       "      <td>49</td>\n",
       "      <td>4</td>\n",
       "      <td>1862</td>\n",
       "      <td>3</td>\n",
       "      <td>17</td>\n",
       "      <td>1850</td>\n",
       "    </tr>\n",
       "    <tr>\n",
       "      <th>top</th>\n",
       "      <td>CA-2014-100111</td>\n",
       "      <td>09-06-2013</td>\n",
       "      <td>12/16/2012</td>\n",
       "      <td>Standard Class</td>\n",
       "      <td>WB-21850</td>\n",
       "      <td>William Brown</td>\n",
       "      <td>Consumer</td>\n",
       "      <td>United States</td>\n",
       "      <td>New York City</td>\n",
       "      <td>California</td>\n",
       "      <td>West</td>\n",
       "      <td>OFF-PA-10001970</td>\n",
       "      <td>Office Supplies</td>\n",
       "      <td>Binders</td>\n",
       "      <td>Staple envelope</td>\n",
       "    </tr>\n",
       "    <tr>\n",
       "      <th>freq</th>\n",
       "      <td>14</td>\n",
       "      <td>38</td>\n",
       "      <td>35</td>\n",
       "      <td>5968</td>\n",
       "      <td>37</td>\n",
       "      <td>37</td>\n",
       "      <td>5191</td>\n",
       "      <td>9994</td>\n",
       "      <td>915</td>\n",
       "      <td>2001</td>\n",
       "      <td>3203</td>\n",
       "      <td>19</td>\n",
       "      <td>6026</td>\n",
       "      <td>1523</td>\n",
       "      <td>48</td>\n",
       "    </tr>\n",
       "  </tbody>\n",
       "</table>\n",
       "</div>"
      ],
      "text/plain": [
       "              Order ID  Order Date   Ship Date       Ship Mode Customer ID  \\\n",
       "count             9994        9994        9994            9994        9994   \n",
       "unique            5009        1238        1334               4         793   \n",
       "top     CA-2014-100111  09-06-2013  12/16/2012  Standard Class    WB-21850   \n",
       "freq                14          38          35            5968          37   \n",
       "\n",
       "        Customer Name   Segment        Country           City       State  \\\n",
       "count            9994      9994           9994           9994        9994   \n",
       "unique            793         3              1            531          49   \n",
       "top     William Brown  Consumer  United States  New York City  California   \n",
       "freq               37      5191           9994            915        2001   \n",
       "\n",
       "       Region       Product ID         Category Sub-Category     Product Name  \n",
       "count    9994             9994             9994         9994             9994  \n",
       "unique      4             1862                3           17             1850  \n",
       "top      West  OFF-PA-10001970  Office Supplies      Binders  Staple envelope  \n",
       "freq     3203               19             6026         1523               48  "
      ]
     },
     "execution_count": 131,
     "metadata": {},
     "output_type": "execute_result"
    }
   ],
   "source": [
    "# statistical summary for object type all columns\n",
    "data.describe(include = \"object\")"
   ]
  },
  {
   "cell_type": "code",
   "execution_count": 132,
   "id": "8f65f75d",
   "metadata": {},
   "outputs": [
    {
     "data": {
      "text/plain": [
       "0         Second Class\n",
       "1         Second Class\n",
       "2         Second Class\n",
       "3       Standard Class\n",
       "4       Standard Class\n",
       "             ...      \n",
       "9989      Second Class\n",
       "9990    Standard Class\n",
       "9991    Standard Class\n",
       "9992    Standard Class\n",
       "9993      Second Class\n",
       "Name: Ship Mode, Length: 9994, dtype: object"
      ]
     },
     "execution_count": 132,
     "metadata": {},
     "output_type": "execute_result"
    }
   ],
   "source": [
    "data['Ship Mode']"
   ]
  },
  {
   "cell_type": "code",
   "execution_count": 133,
   "id": "82bdd3d2",
   "metadata": {},
   "outputs": [
    {
     "data": {
      "text/plain": [
       "Standard Class    5968\n",
       "Second Class      1945\n",
       "First Class       1538\n",
       "Same Day           543\n",
       "Name: Ship Mode, dtype: int64"
      ]
     },
     "execution_count": 133,
     "metadata": {},
     "output_type": "execute_result"
    }
   ],
   "source": [
    "# counts the frequency of each unique entry in the column\n",
    "data['Ship Mode'].value_counts()"
   ]
  },
  {
   "cell_type": "code",
   "execution_count": 134,
   "id": "fb20bf8c",
   "metadata": {},
   "outputs": [
    {
     "name": "stdout",
     "output_type": "stream",
     "text": [
      "the integer data type columns\n"
     ]
    },
    {
     "data": {
      "text/html": [
       "<div>\n",
       "<style scoped>\n",
       "    .dataframe tbody tr th:only-of-type {\n",
       "        vertical-align: middle;\n",
       "    }\n",
       "\n",
       "    .dataframe tbody tr th {\n",
       "        vertical-align: top;\n",
       "    }\n",
       "\n",
       "    .dataframe thead th {\n",
       "        text-align: right;\n",
       "    }\n",
       "</style>\n",
       "<table border=\"1\" class=\"dataframe\">\n",
       "  <thead>\n",
       "    <tr style=\"text-align: right;\">\n",
       "      <th></th>\n",
       "      <th>Unnamed: 0</th>\n",
       "      <th>Row ID</th>\n",
       "      <th>Postal Code</th>\n",
       "      <th>Quantity</th>\n",
       "    </tr>\n",
       "  </thead>\n",
       "  <tbody>\n",
       "    <tr>\n",
       "      <th>0</th>\n",
       "      <td>0</td>\n",
       "      <td>1</td>\n",
       "      <td>42420</td>\n",
       "      <td>2</td>\n",
       "    </tr>\n",
       "    <tr>\n",
       "      <th>1</th>\n",
       "      <td>1</td>\n",
       "      <td>2</td>\n",
       "      <td>42420</td>\n",
       "      <td>3</td>\n",
       "    </tr>\n",
       "    <tr>\n",
       "      <th>2</th>\n",
       "      <td>2</td>\n",
       "      <td>3</td>\n",
       "      <td>90036</td>\n",
       "      <td>2</td>\n",
       "    </tr>\n",
       "    <tr>\n",
       "      <th>3</th>\n",
       "      <td>3</td>\n",
       "      <td>4</td>\n",
       "      <td>33311</td>\n",
       "      <td>5</td>\n",
       "    </tr>\n",
       "    <tr>\n",
       "      <th>4</th>\n",
       "      <td>4</td>\n",
       "      <td>5</td>\n",
       "      <td>33311</td>\n",
       "      <td>2</td>\n",
       "    </tr>\n",
       "    <tr>\n",
       "      <th>...</th>\n",
       "      <td>...</td>\n",
       "      <td>...</td>\n",
       "      <td>...</td>\n",
       "      <td>...</td>\n",
       "    </tr>\n",
       "    <tr>\n",
       "      <th>9989</th>\n",
       "      <td>9989</td>\n",
       "      <td>9990</td>\n",
       "      <td>33180</td>\n",
       "      <td>3</td>\n",
       "    </tr>\n",
       "    <tr>\n",
       "      <th>9990</th>\n",
       "      <td>9990</td>\n",
       "      <td>9991</td>\n",
       "      <td>92627</td>\n",
       "      <td>2</td>\n",
       "    </tr>\n",
       "    <tr>\n",
       "      <th>9991</th>\n",
       "      <td>9991</td>\n",
       "      <td>9992</td>\n",
       "      <td>92627</td>\n",
       "      <td>2</td>\n",
       "    </tr>\n",
       "    <tr>\n",
       "      <th>9992</th>\n",
       "      <td>9992</td>\n",
       "      <td>9993</td>\n",
       "      <td>92627</td>\n",
       "      <td>4</td>\n",
       "    </tr>\n",
       "    <tr>\n",
       "      <th>9993</th>\n",
       "      <td>9993</td>\n",
       "      <td>9994</td>\n",
       "      <td>92683</td>\n",
       "      <td>2</td>\n",
       "    </tr>\n",
       "  </tbody>\n",
       "</table>\n",
       "<p>9994 rows × 4 columns</p>\n",
       "</div>"
      ],
      "text/plain": [
       "      Unnamed: 0  Row ID  Postal Code  Quantity\n",
       "0              0       1        42420         2\n",
       "1              1       2        42420         3\n",
       "2              2       3        90036         2\n",
       "3              3       4        33311         5\n",
       "4              4       5        33311         2\n",
       "...          ...     ...          ...       ...\n",
       "9989        9989    9990        33180         3\n",
       "9990        9990    9991        92627         2\n",
       "9991        9991    9992        92627         2\n",
       "9992        9992    9993        92627         4\n",
       "9993        9993    9994        92683         2\n",
       "\n",
       "[9994 rows x 4 columns]"
      ]
     },
     "execution_count": 134,
     "metadata": {},
     "output_type": "execute_result"
    }
   ],
   "source": [
    "#retrive the data as per the data type\n",
    "print(\"the integer data type columns\")\n",
    "data.select_dtypes(include = 'int64')"
   ]
  },
  {
   "cell_type": "code",
   "execution_count": 135,
   "id": "1cfd3207",
   "metadata": {},
   "outputs": [
    {
     "name": "stdout",
     "output_type": "stream",
     "text": [
      "the float data type columns\n"
     ]
    },
    {
     "data": {
      "text/html": [
       "<div>\n",
       "<style scoped>\n",
       "    .dataframe tbody tr th:only-of-type {\n",
       "        vertical-align: middle;\n",
       "    }\n",
       "\n",
       "    .dataframe tbody tr th {\n",
       "        vertical-align: top;\n",
       "    }\n",
       "\n",
       "    .dataframe thead th {\n",
       "        text-align: right;\n",
       "    }\n",
       "</style>\n",
       "<table border=\"1\" class=\"dataframe\">\n",
       "  <thead>\n",
       "    <tr style=\"text-align: right;\">\n",
       "      <th></th>\n",
       "      <th>Sales</th>\n",
       "      <th>Discount</th>\n",
       "      <th>Profit</th>\n",
       "    </tr>\n",
       "  </thead>\n",
       "  <tbody>\n",
       "    <tr>\n",
       "      <th>0</th>\n",
       "      <td>261.9600</td>\n",
       "      <td>0.00</td>\n",
       "      <td>41.9136</td>\n",
       "    </tr>\n",
       "    <tr>\n",
       "      <th>1</th>\n",
       "      <td>731.9400</td>\n",
       "      <td>0.00</td>\n",
       "      <td>219.5820</td>\n",
       "    </tr>\n",
       "    <tr>\n",
       "      <th>2</th>\n",
       "      <td>14.6200</td>\n",
       "      <td>0.00</td>\n",
       "      <td>6.8714</td>\n",
       "    </tr>\n",
       "    <tr>\n",
       "      <th>3</th>\n",
       "      <td>957.5775</td>\n",
       "      <td>0.45</td>\n",
       "      <td>-383.0310</td>\n",
       "    </tr>\n",
       "    <tr>\n",
       "      <th>4</th>\n",
       "      <td>22.3680</td>\n",
       "      <td>0.20</td>\n",
       "      <td>2.5164</td>\n",
       "    </tr>\n",
       "    <tr>\n",
       "      <th>...</th>\n",
       "      <td>...</td>\n",
       "      <td>...</td>\n",
       "      <td>...</td>\n",
       "    </tr>\n",
       "    <tr>\n",
       "      <th>9989</th>\n",
       "      <td>25.2480</td>\n",
       "      <td>0.20</td>\n",
       "      <td>4.1028</td>\n",
       "    </tr>\n",
       "    <tr>\n",
       "      <th>9990</th>\n",
       "      <td>91.9600</td>\n",
       "      <td>0.00</td>\n",
       "      <td>15.6332</td>\n",
       "    </tr>\n",
       "    <tr>\n",
       "      <th>9991</th>\n",
       "      <td>258.5760</td>\n",
       "      <td>0.20</td>\n",
       "      <td>19.3932</td>\n",
       "    </tr>\n",
       "    <tr>\n",
       "      <th>9992</th>\n",
       "      <td>29.6000</td>\n",
       "      <td>0.00</td>\n",
       "      <td>13.3200</td>\n",
       "    </tr>\n",
       "    <tr>\n",
       "      <th>9993</th>\n",
       "      <td>243.1600</td>\n",
       "      <td>0.00</td>\n",
       "      <td>72.9480</td>\n",
       "    </tr>\n",
       "  </tbody>\n",
       "</table>\n",
       "<p>9994 rows × 3 columns</p>\n",
       "</div>"
      ],
      "text/plain": [
       "         Sales  Discount    Profit\n",
       "0     261.9600      0.00   41.9136\n",
       "1     731.9400      0.00  219.5820\n",
       "2      14.6200      0.00    6.8714\n",
       "3     957.5775      0.45 -383.0310\n",
       "4      22.3680      0.20    2.5164\n",
       "...        ...       ...       ...\n",
       "9989   25.2480      0.20    4.1028\n",
       "9990   91.9600      0.00   15.6332\n",
       "9991  258.5760      0.20   19.3932\n",
       "9992   29.6000      0.00   13.3200\n",
       "9993  243.1600      0.00   72.9480\n",
       "\n",
       "[9994 rows x 3 columns]"
      ]
     },
     "execution_count": 135,
     "metadata": {},
     "output_type": "execute_result"
    }
   ],
   "source": [
    "#retrive the data as per the data type\n",
    "print(\"the float data type columns\")\n",
    "data.select_dtypes(include = 'float64')"
   ]
  },
  {
   "cell_type": "code",
   "execution_count": 136,
   "id": "01a6a243",
   "metadata": {},
   "outputs": [
    {
     "name": "stdout",
     "output_type": "stream",
     "text": [
      "the object data type columns\n"
     ]
    },
    {
     "data": {
      "text/html": [
       "<div>\n",
       "<style scoped>\n",
       "    .dataframe tbody tr th:only-of-type {\n",
       "        vertical-align: middle;\n",
       "    }\n",
       "\n",
       "    .dataframe tbody tr th {\n",
       "        vertical-align: top;\n",
       "    }\n",
       "\n",
       "    .dataframe thead th {\n",
       "        text-align: right;\n",
       "    }\n",
       "</style>\n",
       "<table border=\"1\" class=\"dataframe\">\n",
       "  <thead>\n",
       "    <tr style=\"text-align: right;\">\n",
       "      <th></th>\n",
       "      <th>Order ID</th>\n",
       "      <th>Order Date</th>\n",
       "      <th>Ship Date</th>\n",
       "      <th>Ship Mode</th>\n",
       "      <th>Customer ID</th>\n",
       "      <th>Customer Name</th>\n",
       "      <th>Segment</th>\n",
       "      <th>Country</th>\n",
       "      <th>City</th>\n",
       "      <th>State</th>\n",
       "      <th>Region</th>\n",
       "      <th>Product ID</th>\n",
       "      <th>Category</th>\n",
       "      <th>Sub-Category</th>\n",
       "      <th>Product Name</th>\n",
       "    </tr>\n",
       "  </thead>\n",
       "  <tbody>\n",
       "    <tr>\n",
       "      <th>0</th>\n",
       "      <td>CA-2013-152156</td>\n",
       "      <td>11-09-2013</td>\n",
       "      <td>11-12-2013</td>\n",
       "      <td>Second Class</td>\n",
       "      <td>CG-12520</td>\n",
       "      <td>Claire Gute</td>\n",
       "      <td>Consumer</td>\n",
       "      <td>United States</td>\n",
       "      <td>Henderson</td>\n",
       "      <td>Kentucky</td>\n",
       "      <td>South</td>\n",
       "      <td>FUR-BO-10001798</td>\n",
       "      <td>Furniture</td>\n",
       "      <td>Bookcases</td>\n",
       "      <td>Bush Somerset Collection Bookcase</td>\n",
       "    </tr>\n",
       "    <tr>\n",
       "      <th>1</th>\n",
       "      <td>CA-2013-152156</td>\n",
       "      <td>11-09-2013</td>\n",
       "      <td>11-12-2013</td>\n",
       "      <td>Second Class</td>\n",
       "      <td>CG-12520</td>\n",
       "      <td>Claire Gute</td>\n",
       "      <td>Consumer</td>\n",
       "      <td>United States</td>\n",
       "      <td>Henderson</td>\n",
       "      <td>Kentucky</td>\n",
       "      <td>South</td>\n",
       "      <td>FUR-CH-10000454</td>\n",
       "      <td>Furniture</td>\n",
       "      <td>Chairs</td>\n",
       "      <td>Hon Deluxe Fabric Upholstered Stacking Chairs,...</td>\n",
       "    </tr>\n",
       "    <tr>\n",
       "      <th>2</th>\n",
       "      <td>CA-2013-138688</td>\n",
       "      <td>6/13/2013</td>\n",
       "      <td>6/17/2013</td>\n",
       "      <td>Second Class</td>\n",
       "      <td>DV-13045</td>\n",
       "      <td>Darrin Van Huff</td>\n",
       "      <td>Corporate</td>\n",
       "      <td>United States</td>\n",
       "      <td>Los Angeles</td>\n",
       "      <td>California</td>\n",
       "      <td>West</td>\n",
       "      <td>OFF-LA-10000240</td>\n",
       "      <td>Office Supplies</td>\n",
       "      <td>Labels</td>\n",
       "      <td>Self-Adhesive Address Labels for Typewriters b...</td>\n",
       "    </tr>\n",
       "    <tr>\n",
       "      <th>3</th>\n",
       "      <td>US-2012-108966</td>\n",
       "      <td>10-11-2012</td>\n",
       "      <td>10/18/2012</td>\n",
       "      <td>Standard Class</td>\n",
       "      <td>SO-20335</td>\n",
       "      <td>Sean O'Donnell</td>\n",
       "      <td>Consumer</td>\n",
       "      <td>United States</td>\n",
       "      <td>Fort Lauderdale</td>\n",
       "      <td>Florida</td>\n",
       "      <td>South</td>\n",
       "      <td>FUR-TA-10000577</td>\n",
       "      <td>Furniture</td>\n",
       "      <td>Tables</td>\n",
       "      <td>Bretford CR4500 Series Slim Rectangular Table</td>\n",
       "    </tr>\n",
       "    <tr>\n",
       "      <th>4</th>\n",
       "      <td>US-2012-108966</td>\n",
       "      <td>10-11-2012</td>\n",
       "      <td>10/18/2012</td>\n",
       "      <td>Standard Class</td>\n",
       "      <td>SO-20335</td>\n",
       "      <td>Sean O'Donnell</td>\n",
       "      <td>Consumer</td>\n",
       "      <td>United States</td>\n",
       "      <td>Fort Lauderdale</td>\n",
       "      <td>Florida</td>\n",
       "      <td>South</td>\n",
       "      <td>OFF-ST-10000760</td>\n",
       "      <td>Office Supplies</td>\n",
       "      <td>Storage</td>\n",
       "      <td>Eldon Fold 'N Roll Cart System</td>\n",
       "    </tr>\n",
       "    <tr>\n",
       "      <th>...</th>\n",
       "      <td>...</td>\n",
       "      <td>...</td>\n",
       "      <td>...</td>\n",
       "      <td>...</td>\n",
       "      <td>...</td>\n",
       "      <td>...</td>\n",
       "      <td>...</td>\n",
       "      <td>...</td>\n",
       "      <td>...</td>\n",
       "      <td>...</td>\n",
       "      <td>...</td>\n",
       "      <td>...</td>\n",
       "      <td>...</td>\n",
       "      <td>...</td>\n",
       "      <td>...</td>\n",
       "    </tr>\n",
       "    <tr>\n",
       "      <th>9989</th>\n",
       "      <td>CA-2011-110422</td>\n",
       "      <td>1/22/2011</td>\n",
       "      <td>1/24/2011</td>\n",
       "      <td>Second Class</td>\n",
       "      <td>TB-21400</td>\n",
       "      <td>Tom Boeckenhauer</td>\n",
       "      <td>Consumer</td>\n",
       "      <td>United States</td>\n",
       "      <td>Miami</td>\n",
       "      <td>Florida</td>\n",
       "      <td>South</td>\n",
       "      <td>FUR-FU-10001889</td>\n",
       "      <td>Furniture</td>\n",
       "      <td>Furnishings</td>\n",
       "      <td>Ultra Door Pull Handle</td>\n",
       "    </tr>\n",
       "    <tr>\n",
       "      <th>9990</th>\n",
       "      <td>CA-2014-121258</td>\n",
       "      <td>2/27/2014</td>\n",
       "      <td>03-04-2014</td>\n",
       "      <td>Standard Class</td>\n",
       "      <td>DB-13060</td>\n",
       "      <td>Dave Brooks</td>\n",
       "      <td>Consumer</td>\n",
       "      <td>United States</td>\n",
       "      <td>Costa Mesa</td>\n",
       "      <td>California</td>\n",
       "      <td>West</td>\n",
       "      <td>FUR-FU-10000747</td>\n",
       "      <td>Furniture</td>\n",
       "      <td>Furnishings</td>\n",
       "      <td>Tenex B1-RE Series Chair Mats for Low Pile Car...</td>\n",
       "    </tr>\n",
       "    <tr>\n",
       "      <th>9991</th>\n",
       "      <td>CA-2014-121258</td>\n",
       "      <td>2/27/2014</td>\n",
       "      <td>03-04-2014</td>\n",
       "      <td>Standard Class</td>\n",
       "      <td>DB-13060</td>\n",
       "      <td>Dave Brooks</td>\n",
       "      <td>Consumer</td>\n",
       "      <td>United States</td>\n",
       "      <td>Costa Mesa</td>\n",
       "      <td>California</td>\n",
       "      <td>West</td>\n",
       "      <td>TEC-PH-10003645</td>\n",
       "      <td>Technology</td>\n",
       "      <td>Phones</td>\n",
       "      <td>Aastra 57i VoIP phone</td>\n",
       "    </tr>\n",
       "    <tr>\n",
       "      <th>9992</th>\n",
       "      <td>CA-2014-121258</td>\n",
       "      <td>2/27/2014</td>\n",
       "      <td>03-04-2014</td>\n",
       "      <td>Standard Class</td>\n",
       "      <td>DB-13060</td>\n",
       "      <td>Dave Brooks</td>\n",
       "      <td>Consumer</td>\n",
       "      <td>United States</td>\n",
       "      <td>Costa Mesa</td>\n",
       "      <td>California</td>\n",
       "      <td>West</td>\n",
       "      <td>OFF-PA-10004041</td>\n",
       "      <td>Office Supplies</td>\n",
       "      <td>Paper</td>\n",
       "      <td>It's Hot Message Books with Stickers, 2 3/4\" x 5\"</td>\n",
       "    </tr>\n",
       "    <tr>\n",
       "      <th>9993</th>\n",
       "      <td>CA-2014-119914</td>\n",
       "      <td>05-05-2014</td>\n",
       "      <td>05-10-2014</td>\n",
       "      <td>Second Class</td>\n",
       "      <td>CC-12220</td>\n",
       "      <td>Chris Cortes</td>\n",
       "      <td>Consumer</td>\n",
       "      <td>United States</td>\n",
       "      <td>Westminster</td>\n",
       "      <td>California</td>\n",
       "      <td>West</td>\n",
       "      <td>OFF-AP-10002684</td>\n",
       "      <td>Office Supplies</td>\n",
       "      <td>Appliances</td>\n",
       "      <td>Acco 7-Outlet Masterpiece Power Center, Wihtou...</td>\n",
       "    </tr>\n",
       "  </tbody>\n",
       "</table>\n",
       "<p>9994 rows × 15 columns</p>\n",
       "</div>"
      ],
      "text/plain": [
       "            Order ID  Order Date   Ship Date       Ship Mode Customer ID  \\\n",
       "0     CA-2013-152156  11-09-2013  11-12-2013    Second Class    CG-12520   \n",
       "1     CA-2013-152156  11-09-2013  11-12-2013    Second Class    CG-12520   \n",
       "2     CA-2013-138688   6/13/2013   6/17/2013    Second Class    DV-13045   \n",
       "3     US-2012-108966  10-11-2012  10/18/2012  Standard Class    SO-20335   \n",
       "4     US-2012-108966  10-11-2012  10/18/2012  Standard Class    SO-20335   \n",
       "...              ...         ...         ...             ...         ...   \n",
       "9989  CA-2011-110422   1/22/2011   1/24/2011    Second Class    TB-21400   \n",
       "9990  CA-2014-121258   2/27/2014  03-04-2014  Standard Class    DB-13060   \n",
       "9991  CA-2014-121258   2/27/2014  03-04-2014  Standard Class    DB-13060   \n",
       "9992  CA-2014-121258   2/27/2014  03-04-2014  Standard Class    DB-13060   \n",
       "9993  CA-2014-119914  05-05-2014  05-10-2014    Second Class    CC-12220   \n",
       "\n",
       "         Customer Name    Segment        Country             City       State  \\\n",
       "0          Claire Gute   Consumer  United States        Henderson    Kentucky   \n",
       "1          Claire Gute   Consumer  United States        Henderson    Kentucky   \n",
       "2      Darrin Van Huff  Corporate  United States      Los Angeles  California   \n",
       "3       Sean O'Donnell   Consumer  United States  Fort Lauderdale     Florida   \n",
       "4       Sean O'Donnell   Consumer  United States  Fort Lauderdale     Florida   \n",
       "...                ...        ...            ...              ...         ...   \n",
       "9989  Tom Boeckenhauer   Consumer  United States            Miami     Florida   \n",
       "9990       Dave Brooks   Consumer  United States       Costa Mesa  California   \n",
       "9991       Dave Brooks   Consumer  United States       Costa Mesa  California   \n",
       "9992       Dave Brooks   Consumer  United States       Costa Mesa  California   \n",
       "9993      Chris Cortes   Consumer  United States      Westminster  California   \n",
       "\n",
       "     Region       Product ID         Category Sub-Category  \\\n",
       "0     South  FUR-BO-10001798        Furniture    Bookcases   \n",
       "1     South  FUR-CH-10000454        Furniture       Chairs   \n",
       "2      West  OFF-LA-10000240  Office Supplies       Labels   \n",
       "3     South  FUR-TA-10000577        Furniture       Tables   \n",
       "4     South  OFF-ST-10000760  Office Supplies      Storage   \n",
       "...     ...              ...              ...          ...   \n",
       "9989  South  FUR-FU-10001889        Furniture  Furnishings   \n",
       "9990   West  FUR-FU-10000747        Furniture  Furnishings   \n",
       "9991   West  TEC-PH-10003645       Technology       Phones   \n",
       "9992   West  OFF-PA-10004041  Office Supplies        Paper   \n",
       "9993   West  OFF-AP-10002684  Office Supplies   Appliances   \n",
       "\n",
       "                                           Product Name  \n",
       "0                     Bush Somerset Collection Bookcase  \n",
       "1     Hon Deluxe Fabric Upholstered Stacking Chairs,...  \n",
       "2     Self-Adhesive Address Labels for Typewriters b...  \n",
       "3         Bretford CR4500 Series Slim Rectangular Table  \n",
       "4                        Eldon Fold 'N Roll Cart System  \n",
       "...                                                 ...  \n",
       "9989                             Ultra Door Pull Handle  \n",
       "9990  Tenex B1-RE Series Chair Mats for Low Pile Car...  \n",
       "9991                              Aastra 57i VoIP phone  \n",
       "9992  It's Hot Message Books with Stickers, 2 3/4\" x 5\"  \n",
       "9993  Acco 7-Outlet Masterpiece Power Center, Wihtou...  \n",
       "\n",
       "[9994 rows x 15 columns]"
      ]
     },
     "execution_count": 136,
     "metadata": {},
     "output_type": "execute_result"
    }
   ],
   "source": [
    "#retrive the data as per the data type\n",
    "print(\"the object data type columns\")\n",
    "data.select_dtypes(include = 'object')"
   ]
  },
  {
   "cell_type": "markdown",
   "id": "3ab55f7f",
   "metadata": {},
   "source": [
    "## Data manipulation tasks\n",
    "- Filtering\n",
    "- Sorting\n",
    "- Aggregations: group by and pivot\n",
    "- Merging\n",
    "- Adding a new Column\n",
    "- Handling Missing Values"
   ]
  },
  {
   "cell_type": "code",
   "execution_count": 137,
   "id": "2de5546d",
   "metadata": {},
   "outputs": [
    {
     "data": {
      "text/html": [
       "<div>\n",
       "<style scoped>\n",
       "    .dataframe tbody tr th:only-of-type {\n",
       "        vertical-align: middle;\n",
       "    }\n",
       "\n",
       "    .dataframe tbody tr th {\n",
       "        vertical-align: top;\n",
       "    }\n",
       "\n",
       "    .dataframe thead th {\n",
       "        text-align: right;\n",
       "    }\n",
       "</style>\n",
       "<table border=\"1\" class=\"dataframe\">\n",
       "  <thead>\n",
       "    <tr style=\"text-align: right;\">\n",
       "      <th></th>\n",
       "      <th>Unnamed: 0</th>\n",
       "      <th>Row ID</th>\n",
       "      <th>Order ID</th>\n",
       "      <th>Order Date</th>\n",
       "      <th>Ship Date</th>\n",
       "      <th>Ship Mode</th>\n",
       "      <th>Customer ID</th>\n",
       "      <th>Customer Name</th>\n",
       "      <th>Segment</th>\n",
       "      <th>Country</th>\n",
       "      <th>...</th>\n",
       "      <th>Postal Code</th>\n",
       "      <th>Region</th>\n",
       "      <th>Product ID</th>\n",
       "      <th>Category</th>\n",
       "      <th>Sub-Category</th>\n",
       "      <th>Product Name</th>\n",
       "      <th>Sales</th>\n",
       "      <th>Quantity</th>\n",
       "      <th>Discount</th>\n",
       "      <th>Profit</th>\n",
       "    </tr>\n",
       "  </thead>\n",
       "  <tbody>\n",
       "    <tr>\n",
       "      <th>0</th>\n",
       "      <td>0</td>\n",
       "      <td>1</td>\n",
       "      <td>CA-2013-152156</td>\n",
       "      <td>11-09-2013</td>\n",
       "      <td>11-12-2013</td>\n",
       "      <td>Second Class</td>\n",
       "      <td>CG-12520</td>\n",
       "      <td>Claire Gute</td>\n",
       "      <td>Consumer</td>\n",
       "      <td>United States</td>\n",
       "      <td>...</td>\n",
       "      <td>42420</td>\n",
       "      <td>South</td>\n",
       "      <td>FUR-BO-10001798</td>\n",
       "      <td>Furniture</td>\n",
       "      <td>Bookcases</td>\n",
       "      <td>Bush Somerset Collection Bookcase</td>\n",
       "      <td>261.9600</td>\n",
       "      <td>2</td>\n",
       "      <td>0.00</td>\n",
       "      <td>41.9136</td>\n",
       "    </tr>\n",
       "    <tr>\n",
       "      <th>1</th>\n",
       "      <td>1</td>\n",
       "      <td>2</td>\n",
       "      <td>CA-2013-152156</td>\n",
       "      <td>11-09-2013</td>\n",
       "      <td>11-12-2013</td>\n",
       "      <td>Second Class</td>\n",
       "      <td>CG-12520</td>\n",
       "      <td>Claire Gute</td>\n",
       "      <td>Consumer</td>\n",
       "      <td>United States</td>\n",
       "      <td>...</td>\n",
       "      <td>42420</td>\n",
       "      <td>South</td>\n",
       "      <td>FUR-CH-10000454</td>\n",
       "      <td>Furniture</td>\n",
       "      <td>Chairs</td>\n",
       "      <td>Hon Deluxe Fabric Upholstered Stacking Chairs,...</td>\n",
       "      <td>731.9400</td>\n",
       "      <td>3</td>\n",
       "      <td>0.00</td>\n",
       "      <td>219.5820</td>\n",
       "    </tr>\n",
       "    <tr>\n",
       "      <th>3</th>\n",
       "      <td>3</td>\n",
       "      <td>4</td>\n",
       "      <td>US-2012-108966</td>\n",
       "      <td>10-11-2012</td>\n",
       "      <td>10/18/2012</td>\n",
       "      <td>Standard Class</td>\n",
       "      <td>SO-20335</td>\n",
       "      <td>Sean O'Donnell</td>\n",
       "      <td>Consumer</td>\n",
       "      <td>United States</td>\n",
       "      <td>...</td>\n",
       "      <td>33311</td>\n",
       "      <td>South</td>\n",
       "      <td>FUR-TA-10000577</td>\n",
       "      <td>Furniture</td>\n",
       "      <td>Tables</td>\n",
       "      <td>Bretford CR4500 Series Slim Rectangular Table</td>\n",
       "      <td>957.5775</td>\n",
       "      <td>5</td>\n",
       "      <td>0.45</td>\n",
       "      <td>-383.0310</td>\n",
       "    </tr>\n",
       "  </tbody>\n",
       "</table>\n",
       "<p>3 rows × 22 columns</p>\n",
       "</div>"
      ],
      "text/plain": [
       "   Unnamed: 0  Row ID        Order ID  Order Date   Ship Date       Ship Mode  \\\n",
       "0           0       1  CA-2013-152156  11-09-2013  11-12-2013    Second Class   \n",
       "1           1       2  CA-2013-152156  11-09-2013  11-12-2013    Second Class   \n",
       "3           3       4  US-2012-108966  10-11-2012  10/18/2012  Standard Class   \n",
       "\n",
       "  Customer ID   Customer Name   Segment        Country  ... Postal Code  \\\n",
       "0    CG-12520     Claire Gute  Consumer  United States  ...       42420   \n",
       "1    CG-12520     Claire Gute  Consumer  United States  ...       42420   \n",
       "3    SO-20335  Sean O'Donnell  Consumer  United States  ...       33311   \n",
       "\n",
       "  Region       Product ID   Category Sub-Category  \\\n",
       "0  South  FUR-BO-10001798  Furniture    Bookcases   \n",
       "1  South  FUR-CH-10000454  Furniture       Chairs   \n",
       "3  South  FUR-TA-10000577  Furniture       Tables   \n",
       "\n",
       "                                        Product Name     Sales Quantity  \\\n",
       "0                  Bush Somerset Collection Bookcase  261.9600        2   \n",
       "1  Hon Deluxe Fabric Upholstered Stacking Chairs,...  731.9400        3   \n",
       "3      Bretford CR4500 Series Slim Rectangular Table  957.5775        5   \n",
       "\n",
       "   Discount    Profit  \n",
       "0      0.00   41.9136  \n",
       "1      0.00  219.5820  \n",
       "3      0.45 -383.0310  \n",
       "\n",
       "[3 rows x 22 columns]"
      ]
     },
     "execution_count": 137,
     "metadata": {},
     "output_type": "execute_result"
    }
   ],
   "source": [
    "# filter the data\n",
    "# filter the data by segment = consumer\n",
    "seg_Cons = data[data['Segment'] == 'Consumer']\n",
    "seg_Cons.shape\n",
    "seg_Cons.head(3)"
   ]
  },
  {
   "cell_type": "markdown",
   "id": "bc498721",
   "metadata": {},
   "source": [
    "# Filter"
   ]
  },
  {
   "cell_type": "code",
   "execution_count": 138,
   "id": "b06c3492",
   "metadata": {},
   "outputs": [
    {
     "data": {
      "text/html": [
       "<div>\n",
       "<style scoped>\n",
       "    .dataframe tbody tr th:only-of-type {\n",
       "        vertical-align: middle;\n",
       "    }\n",
       "\n",
       "    .dataframe tbody tr th {\n",
       "        vertical-align: top;\n",
       "    }\n",
       "\n",
       "    .dataframe thead th {\n",
       "        text-align: right;\n",
       "    }\n",
       "</style>\n",
       "<table border=\"1\" class=\"dataframe\">\n",
       "  <thead>\n",
       "    <tr style=\"text-align: right;\">\n",
       "      <th></th>\n",
       "      <th>Unnamed: 0</th>\n",
       "      <th>Row ID</th>\n",
       "      <th>Order ID</th>\n",
       "      <th>Order Date</th>\n",
       "      <th>Ship Date</th>\n",
       "      <th>Ship Mode</th>\n",
       "      <th>Customer ID</th>\n",
       "      <th>Customer Name</th>\n",
       "      <th>Segment</th>\n",
       "      <th>Country</th>\n",
       "      <th>...</th>\n",
       "      <th>Postal Code</th>\n",
       "      <th>Region</th>\n",
       "      <th>Product ID</th>\n",
       "      <th>Category</th>\n",
       "      <th>Sub-Category</th>\n",
       "      <th>Product Name</th>\n",
       "      <th>Sales</th>\n",
       "      <th>Quantity</th>\n",
       "      <th>Discount</th>\n",
       "      <th>Profit</th>\n",
       "    </tr>\n",
       "  </thead>\n",
       "  <tbody>\n",
       "    <tr>\n",
       "      <th>0</th>\n",
       "      <td>0</td>\n",
       "      <td>1</td>\n",
       "      <td>CA-2013-152156</td>\n",
       "      <td>11-09-2013</td>\n",
       "      <td>11-12-2013</td>\n",
       "      <td>Second Class</td>\n",
       "      <td>CG-12520</td>\n",
       "      <td>Claire Gute</td>\n",
       "      <td>Consumer</td>\n",
       "      <td>United States</td>\n",
       "      <td>...</td>\n",
       "      <td>42420</td>\n",
       "      <td>South</td>\n",
       "      <td>FUR-BO-10001798</td>\n",
       "      <td>Furniture</td>\n",
       "      <td>Bookcases</td>\n",
       "      <td>Bush Somerset Collection Bookcase</td>\n",
       "      <td>261.9600</td>\n",
       "      <td>2</td>\n",
       "      <td>0.00</td>\n",
       "      <td>41.9136</td>\n",
       "    </tr>\n",
       "    <tr>\n",
       "      <th>1</th>\n",
       "      <td>1</td>\n",
       "      <td>2</td>\n",
       "      <td>CA-2013-152156</td>\n",
       "      <td>11-09-2013</td>\n",
       "      <td>11-12-2013</td>\n",
       "      <td>Second Class</td>\n",
       "      <td>CG-12520</td>\n",
       "      <td>Claire Gute</td>\n",
       "      <td>Consumer</td>\n",
       "      <td>United States</td>\n",
       "      <td>...</td>\n",
       "      <td>42420</td>\n",
       "      <td>South</td>\n",
       "      <td>FUR-CH-10000454</td>\n",
       "      <td>Furniture</td>\n",
       "      <td>Chairs</td>\n",
       "      <td>Hon Deluxe Fabric Upholstered Stacking Chairs,...</td>\n",
       "      <td>731.9400</td>\n",
       "      <td>3</td>\n",
       "      <td>0.00</td>\n",
       "      <td>219.5820</td>\n",
       "    </tr>\n",
       "    <tr>\n",
       "      <th>3</th>\n",
       "      <td>3</td>\n",
       "      <td>4</td>\n",
       "      <td>US-2012-108966</td>\n",
       "      <td>10-11-2012</td>\n",
       "      <td>10/18/2012</td>\n",
       "      <td>Standard Class</td>\n",
       "      <td>SO-20335</td>\n",
       "      <td>Sean O'Donnell</td>\n",
       "      <td>Consumer</td>\n",
       "      <td>United States</td>\n",
       "      <td>...</td>\n",
       "      <td>33311</td>\n",
       "      <td>South</td>\n",
       "      <td>FUR-TA-10000577</td>\n",
       "      <td>Furniture</td>\n",
       "      <td>Tables</td>\n",
       "      <td>Bretford CR4500 Series Slim Rectangular Table</td>\n",
       "      <td>957.5775</td>\n",
       "      <td>5</td>\n",
       "      <td>0.45</td>\n",
       "      <td>-383.0310</td>\n",
       "    </tr>\n",
       "  </tbody>\n",
       "</table>\n",
       "<p>3 rows × 22 columns</p>\n",
       "</div>"
      ],
      "text/plain": [
       "   Unnamed: 0  Row ID        Order ID  Order Date   Ship Date       Ship Mode  \\\n",
       "0           0       1  CA-2013-152156  11-09-2013  11-12-2013    Second Class   \n",
       "1           1       2  CA-2013-152156  11-09-2013  11-12-2013    Second Class   \n",
       "3           3       4  US-2012-108966  10-11-2012  10/18/2012  Standard Class   \n",
       "\n",
       "  Customer ID   Customer Name   Segment        Country  ... Postal Code  \\\n",
       "0    CG-12520     Claire Gute  Consumer  United States  ...       42420   \n",
       "1    CG-12520     Claire Gute  Consumer  United States  ...       42420   \n",
       "3    SO-20335  Sean O'Donnell  Consumer  United States  ...       33311   \n",
       "\n",
       "  Region       Product ID   Category Sub-Category  \\\n",
       "0  South  FUR-BO-10001798  Furniture    Bookcases   \n",
       "1  South  FUR-CH-10000454  Furniture       Chairs   \n",
       "3  South  FUR-TA-10000577  Furniture       Tables   \n",
       "\n",
       "                                        Product Name     Sales Quantity  \\\n",
       "0                  Bush Somerset Collection Bookcase  261.9600        2   \n",
       "1  Hon Deluxe Fabric Upholstered Stacking Chairs,...  731.9400        3   \n",
       "3      Bretford CR4500 Series Slim Rectangular Table  957.5775        5   \n",
       "\n",
       "   Discount    Profit  \n",
       "0      0.00   41.9136  \n",
       "1      0.00  219.5820  \n",
       "3      0.45 -383.0310  \n",
       "\n",
       "[3 rows x 22 columns]"
      ]
     },
     "execution_count": 138,
     "metadata": {},
     "output_type": "execute_result"
    }
   ],
   "source": [
    "# Query t filter the data \n",
    "# filter the data by segments = consumer\n",
    "data.query('Segment==\"Consumer\"').head(3)"
   ]
  },
  {
   "cell_type": "code",
   "execution_count": 139,
   "id": "de455563",
   "metadata": {},
   "outputs": [
    {
     "data": {
      "text/plain": [
       "(838, 22)"
      ]
     },
     "execution_count": 139,
     "metadata": {},
     "output_type": "execute_result"
    }
   ],
   "source": [
    "count=data[(data['Region']=='South') & (data['Segment']=='Consumer')]\n",
    "count.shape\n",
    "# count=data[(data['Region']=='South') & (data['Segment']=='Consumer')]\n",
    "# count=data[(data['Region']=='South') & (data[ 'Segment ']=='Consumer')].shape [0]\n",
    "# print (\"the orders placed for the Region South and for the Segment Consumer are\", count)\n",
    "# count"
   ]
  },
  {
   "cell_type": "code",
   "execution_count": 140,
   "id": "e2bd6c0a",
   "metadata": {},
   "outputs": [
    {
     "data": {
      "text/plain": [
       "838"
      ]
     },
     "execution_count": 140,
     "metadata": {},
     "output_type": "execute_result"
    }
   ],
   "source": [
    "# Using Query for multiple conditions\n",
    "data.query('Region==\"South\" & Segment==\"Consumer\"').shape[0]"
   ]
  },
  {
   "cell_type": "markdown",
   "id": "a79530a9",
   "metadata": {},
   "source": [
    "# Sort"
   ]
  },
  {
   "cell_type": "code",
   "execution_count": 174,
   "id": "8f0d9cc5",
   "metadata": {},
   "outputs": [
    {
     "data": {
      "text/html": [
       "<div>\n",
       "<style scoped>\n",
       "    .dataframe tbody tr th:only-of-type {\n",
       "        vertical-align: middle;\n",
       "    }\n",
       "\n",
       "    .dataframe tbody tr th {\n",
       "        vertical-align: top;\n",
       "    }\n",
       "\n",
       "    .dataframe thead th {\n",
       "        text-align: right;\n",
       "    }\n",
       "</style>\n",
       "<table border=\"1\" class=\"dataframe\">\n",
       "  <thead>\n",
       "    <tr style=\"text-align: right;\">\n",
       "      <th></th>\n",
       "      <th>Unnamed: 0</th>\n",
       "      <th>Row ID</th>\n",
       "      <th>Order ID</th>\n",
       "      <th>Order Date</th>\n",
       "      <th>Ship Date</th>\n",
       "      <th>Ship Mode</th>\n",
       "      <th>Customer ID</th>\n",
       "      <th>Customer Name</th>\n",
       "      <th>Segment</th>\n",
       "      <th>Country</th>\n",
       "      <th>...</th>\n",
       "      <th>Postal Code</th>\n",
       "      <th>Region</th>\n",
       "      <th>Product ID</th>\n",
       "      <th>Category</th>\n",
       "      <th>Sub-Category</th>\n",
       "      <th>Product Name</th>\n",
       "      <th>Sales</th>\n",
       "      <th>Quantity</th>\n",
       "      <th>Discount</th>\n",
       "      <th>Profit</th>\n",
       "    </tr>\n",
       "  </thead>\n",
       "  <tbody>\n",
       "    <tr>\n",
       "      <th>1</th>\n",
       "      <td>1</td>\n",
       "      <td>2</td>\n",
       "      <td>CA-2013-152156</td>\n",
       "      <td>11-09-2013</td>\n",
       "      <td>11-12-2013</td>\n",
       "      <td>Second Class</td>\n",
       "      <td>CG-12520</td>\n",
       "      <td>Claire Gute</td>\n",
       "      <td>Consumer</td>\n",
       "      <td>United States</td>\n",
       "      <td>...</td>\n",
       "      <td>42420</td>\n",
       "      <td>South</td>\n",
       "      <td>FUR-CH-10000454</td>\n",
       "      <td>Furniture</td>\n",
       "      <td>Chairs</td>\n",
       "      <td>Hon Deluxe Fabric Upholstered Stacking Chairs,...</td>\n",
       "      <td>731.940</td>\n",
       "      <td>3</td>\n",
       "      <td>0.0</td>\n",
       "      <td>219.5820</td>\n",
       "    </tr>\n",
       "    <tr>\n",
       "      <th>7</th>\n",
       "      <td>7</td>\n",
       "      <td>8</td>\n",
       "      <td>CA-2011-115812</td>\n",
       "      <td>06-09-2011</td>\n",
       "      <td>6/14/2011</td>\n",
       "      <td>Standard Class</td>\n",
       "      <td>BH-11710</td>\n",
       "      <td>Brosina Hoffman</td>\n",
       "      <td>Consumer</td>\n",
       "      <td>United States</td>\n",
       "      <td>...</td>\n",
       "      <td>90032</td>\n",
       "      <td>West</td>\n",
       "      <td>TEC-PH-10002275</td>\n",
       "      <td>Technology</td>\n",
       "      <td>Phones</td>\n",
       "      <td>Mitel 5320 IP Phone VoIP phone</td>\n",
       "      <td>907.152</td>\n",
       "      <td>6</td>\n",
       "      <td>0.2</td>\n",
       "      <td>90.7152</td>\n",
       "    </tr>\n",
       "    <tr>\n",
       "      <th>10</th>\n",
       "      <td>10</td>\n",
       "      <td>11</td>\n",
       "      <td>CA-2011-115812</td>\n",
       "      <td>06-09-2011</td>\n",
       "      <td>6/14/2011</td>\n",
       "      <td>Standard Class</td>\n",
       "      <td>BH-11710</td>\n",
       "      <td>Brosina Hoffman</td>\n",
       "      <td>Consumer</td>\n",
       "      <td>United States</td>\n",
       "      <td>...</td>\n",
       "      <td>90032</td>\n",
       "      <td>West</td>\n",
       "      <td>FUR-TA-10001539</td>\n",
       "      <td>Furniture</td>\n",
       "      <td>Tables</td>\n",
       "      <td>Chromcraft Rectangular Conference Tables</td>\n",
       "      <td>1706.184</td>\n",
       "      <td>9</td>\n",
       "      <td>0.2</td>\n",
       "      <td>85.3092</td>\n",
       "    </tr>\n",
       "    <tr>\n",
       "      <th>11</th>\n",
       "      <td>11</td>\n",
       "      <td>12</td>\n",
       "      <td>CA-2011-115812</td>\n",
       "      <td>06-09-2011</td>\n",
       "      <td>6/14/2011</td>\n",
       "      <td>Standard Class</td>\n",
       "      <td>BH-11710</td>\n",
       "      <td>Brosina Hoffman</td>\n",
       "      <td>Consumer</td>\n",
       "      <td>United States</td>\n",
       "      <td>...</td>\n",
       "      <td>90032</td>\n",
       "      <td>West</td>\n",
       "      <td>TEC-PH-10002033</td>\n",
       "      <td>Technology</td>\n",
       "      <td>Phones</td>\n",
       "      <td>Konftel 250 Conference phone - Charcoal black</td>\n",
       "      <td>911.424</td>\n",
       "      <td>4</td>\n",
       "      <td>0.2</td>\n",
       "      <td>68.3568</td>\n",
       "    </tr>\n",
       "    <tr>\n",
       "      <th>13</th>\n",
       "      <td>13</td>\n",
       "      <td>14</td>\n",
       "      <td>CA-2013-161389</td>\n",
       "      <td>12-06-2013</td>\n",
       "      <td>12-11-2013</td>\n",
       "      <td>Standard Class</td>\n",
       "      <td>IM-15070</td>\n",
       "      <td>Irene Maddox</td>\n",
       "      <td>Consumer</td>\n",
       "      <td>United States</td>\n",
       "      <td>...</td>\n",
       "      <td>98103</td>\n",
       "      <td>West</td>\n",
       "      <td>OFF-BI-10003656</td>\n",
       "      <td>Office Supplies</td>\n",
       "      <td>Binders</td>\n",
       "      <td>Fellowes PB200 Plastic Comb Binding Machine</td>\n",
       "      <td>407.976</td>\n",
       "      <td>3</td>\n",
       "      <td>0.2</td>\n",
       "      <td>132.5922</td>\n",
       "    </tr>\n",
       "    <tr>\n",
       "      <th>24</th>\n",
       "      <td>24</td>\n",
       "      <td>25</td>\n",
       "      <td>CA-2012-106320</td>\n",
       "      <td>9/25/2012</td>\n",
       "      <td>9/30/2012</td>\n",
       "      <td>Standard Class</td>\n",
       "      <td>EB-13870</td>\n",
       "      <td>Emily Burns</td>\n",
       "      <td>Consumer</td>\n",
       "      <td>United States</td>\n",
       "      <td>...</td>\n",
       "      <td>84057</td>\n",
       "      <td>West</td>\n",
       "      <td>FUR-TA-10000577</td>\n",
       "      <td>Furniture</td>\n",
       "      <td>Tables</td>\n",
       "      <td>Bretford CR4500 Series Slim Rectangular Table</td>\n",
       "      <td>1044.630</td>\n",
       "      <td>3</td>\n",
       "      <td>0.0</td>\n",
       "      <td>240.2649</td>\n",
       "    </tr>\n",
       "    <tr>\n",
       "      <th>35</th>\n",
       "      <td>35</td>\n",
       "      <td>36</td>\n",
       "      <td>CA-2013-117590</td>\n",
       "      <td>12-09-2013</td>\n",
       "      <td>12-11-2013</td>\n",
       "      <td>First Class</td>\n",
       "      <td>GH-14485</td>\n",
       "      <td>Gene Hale</td>\n",
       "      <td>Corporate</td>\n",
       "      <td>United States</td>\n",
       "      <td>...</td>\n",
       "      <td>75080</td>\n",
       "      <td>Central</td>\n",
       "      <td>TEC-PH-10004977</td>\n",
       "      <td>Technology</td>\n",
       "      <td>Phones</td>\n",
       "      <td>GE 30524EE4</td>\n",
       "      <td>1097.544</td>\n",
       "      <td>7</td>\n",
       "      <td>0.2</td>\n",
       "      <td>123.4737</td>\n",
       "    </tr>\n",
       "    <tr>\n",
       "      <th>54</th>\n",
       "      <td>54</td>\n",
       "      <td>55</td>\n",
       "      <td>CA-2013-105816</td>\n",
       "      <td>12-12-2013</td>\n",
       "      <td>12/18/2013</td>\n",
       "      <td>Standard Class</td>\n",
       "      <td>JM-15265</td>\n",
       "      <td>Janet Molinari</td>\n",
       "      <td>Corporate</td>\n",
       "      <td>United States</td>\n",
       "      <td>...</td>\n",
       "      <td>10024</td>\n",
       "      <td>East</td>\n",
       "      <td>TEC-PH-10002447</td>\n",
       "      <td>Technology</td>\n",
       "      <td>Phones</td>\n",
       "      <td>AT&amp;T CL83451 4-Handset Telephone</td>\n",
       "      <td>1029.950</td>\n",
       "      <td>5</td>\n",
       "      <td>0.0</td>\n",
       "      <td>298.6855</td>\n",
       "    </tr>\n",
       "    <tr>\n",
       "      <th>55</th>\n",
       "      <td>55</td>\n",
       "      <td>56</td>\n",
       "      <td>CA-2013-111682</td>\n",
       "      <td>6/18/2013</td>\n",
       "      <td>6/19/2013</td>\n",
       "      <td>First Class</td>\n",
       "      <td>TB-21055</td>\n",
       "      <td>Ted Butterfield</td>\n",
       "      <td>Consumer</td>\n",
       "      <td>United States</td>\n",
       "      <td>...</td>\n",
       "      <td>12180</td>\n",
       "      <td>East</td>\n",
       "      <td>OFF-ST-10000604</td>\n",
       "      <td>Office Supplies</td>\n",
       "      <td>Storage</td>\n",
       "      <td>Home/Office Personal File Carts</td>\n",
       "      <td>208.560</td>\n",
       "      <td>6</td>\n",
       "      <td>0.0</td>\n",
       "      <td>52.1400</td>\n",
       "    </tr>\n",
       "    <tr>\n",
       "      <th>64</th>\n",
       "      <td>64</td>\n",
       "      <td>65</td>\n",
       "      <td>CA-2012-135545</td>\n",
       "      <td>11/24/2012</td>\n",
       "      <td>11/30/2012</td>\n",
       "      <td>Standard Class</td>\n",
       "      <td>KM-16720</td>\n",
       "      <td>Kunst Miller</td>\n",
       "      <td>Consumer</td>\n",
       "      <td>United States</td>\n",
       "      <td>...</td>\n",
       "      <td>90004</td>\n",
       "      <td>West</td>\n",
       "      <td>OFF-PA-10003892</td>\n",
       "      <td>Office Supplies</td>\n",
       "      <td>Paper</td>\n",
       "      <td>Xerox 1943</td>\n",
       "      <td>146.730</td>\n",
       "      <td>3</td>\n",
       "      <td>0.0</td>\n",
       "      <td>68.9631</td>\n",
       "    </tr>\n",
       "  </tbody>\n",
       "</table>\n",
       "<p>10 rows × 22 columns</p>\n",
       "</div>"
      ],
      "text/plain": [
       "    Unnamed: 0  Row ID        Order ID  Order Date   Ship Date  \\\n",
       "1            1       2  CA-2013-152156  11-09-2013  11-12-2013   \n",
       "7            7       8  CA-2011-115812  06-09-2011   6/14/2011   \n",
       "10          10      11  CA-2011-115812  06-09-2011   6/14/2011   \n",
       "11          11      12  CA-2011-115812  06-09-2011   6/14/2011   \n",
       "13          13      14  CA-2013-161389  12-06-2013  12-11-2013   \n",
       "24          24      25  CA-2012-106320   9/25/2012   9/30/2012   \n",
       "35          35      36  CA-2013-117590  12-09-2013  12-11-2013   \n",
       "54          54      55  CA-2013-105816  12-12-2013  12/18/2013   \n",
       "55          55      56  CA-2013-111682   6/18/2013   6/19/2013   \n",
       "64          64      65  CA-2012-135545  11/24/2012  11/30/2012   \n",
       "\n",
       "         Ship Mode Customer ID    Customer Name    Segment        Country  \\\n",
       "1     Second Class    CG-12520      Claire Gute   Consumer  United States   \n",
       "7   Standard Class    BH-11710  Brosina Hoffman   Consumer  United States   \n",
       "10  Standard Class    BH-11710  Brosina Hoffman   Consumer  United States   \n",
       "11  Standard Class    BH-11710  Brosina Hoffman   Consumer  United States   \n",
       "13  Standard Class    IM-15070     Irene Maddox   Consumer  United States   \n",
       "24  Standard Class    EB-13870      Emily Burns   Consumer  United States   \n",
       "35     First Class    GH-14485        Gene Hale  Corporate  United States   \n",
       "54  Standard Class    JM-15265   Janet Molinari  Corporate  United States   \n",
       "55     First Class    TB-21055  Ted Butterfield   Consumer  United States   \n",
       "64  Standard Class    KM-16720     Kunst Miller   Consumer  United States   \n",
       "\n",
       "    ... Postal Code   Region       Product ID         Category Sub-Category  \\\n",
       "1   ...       42420    South  FUR-CH-10000454        Furniture       Chairs   \n",
       "7   ...       90032     West  TEC-PH-10002275       Technology       Phones   \n",
       "10  ...       90032     West  FUR-TA-10001539        Furniture       Tables   \n",
       "11  ...       90032     West  TEC-PH-10002033       Technology       Phones   \n",
       "13  ...       98103     West  OFF-BI-10003656  Office Supplies      Binders   \n",
       "24  ...       84057     West  FUR-TA-10000577        Furniture       Tables   \n",
       "35  ...       75080  Central  TEC-PH-10004977       Technology       Phones   \n",
       "54  ...       10024     East  TEC-PH-10002447       Technology       Phones   \n",
       "55  ...       12180     East  OFF-ST-10000604  Office Supplies      Storage   \n",
       "64  ...       90004     West  OFF-PA-10003892  Office Supplies        Paper   \n",
       "\n",
       "                                         Product Name     Sales Quantity  \\\n",
       "1   Hon Deluxe Fabric Upholstered Stacking Chairs,...   731.940        3   \n",
       "7                      Mitel 5320 IP Phone VoIP phone   907.152        6   \n",
       "10           Chromcraft Rectangular Conference Tables  1706.184        9   \n",
       "11      Konftel 250 Conference phone - Charcoal black   911.424        4   \n",
       "13        Fellowes PB200 Plastic Comb Binding Machine   407.976        3   \n",
       "24      Bretford CR4500 Series Slim Rectangular Table  1044.630        3   \n",
       "35                                        GE 30524EE4  1097.544        7   \n",
       "54                   AT&T CL83451 4-Handset Telephone  1029.950        5   \n",
       "55                    Home/Office Personal File Carts   208.560        6   \n",
       "64                                         Xerox 1943   146.730        3   \n",
       "\n",
       "    Discount    Profit  \n",
       "1        0.0  219.5820  \n",
       "7        0.2   90.7152  \n",
       "10       0.2   85.3092  \n",
       "11       0.2   68.3568  \n",
       "13       0.2  132.5922  \n",
       "24       0.0  240.2649  \n",
       "35       0.2  123.4737  \n",
       "54       0.0  298.6855  \n",
       "55       0.0   52.1400  \n",
       "64       0.0   68.9631  \n",
       "\n",
       "[10 rows x 22 columns]"
      ]
     },
     "execution_count": 174,
     "metadata": {},
     "output_type": "execute_result"
    }
   ],
   "source": [
    "# data.query('Profit>50.0').shape[0]\n",
    "data.query('Profit > 50.0').head(10)"
   ]
  },
  {
   "cell_type": "code",
   "execution_count": 142,
   "id": "6c6f6ef9",
   "metadata": {},
   "outputs": [
    {
     "data": {
      "text/html": [
       "<div>\n",
       "<style scoped>\n",
       "    .dataframe tbody tr th:only-of-type {\n",
       "        vertical-align: middle;\n",
       "    }\n",
       "\n",
       "    .dataframe tbody tr th {\n",
       "        vertical-align: top;\n",
       "    }\n",
       "\n",
       "    .dataframe thead th {\n",
       "        text-align: right;\n",
       "    }\n",
       "</style>\n",
       "<table border=\"1\" class=\"dataframe\">\n",
       "  <thead>\n",
       "    <tr style=\"text-align: right;\">\n",
       "      <th></th>\n",
       "      <th>Unnamed: 0</th>\n",
       "      <th>Row ID</th>\n",
       "      <th>Order ID</th>\n",
       "      <th>Order Date</th>\n",
       "      <th>Ship Date</th>\n",
       "      <th>Ship Mode</th>\n",
       "      <th>Customer ID</th>\n",
       "      <th>Customer Name</th>\n",
       "      <th>Segment</th>\n",
       "      <th>Country</th>\n",
       "      <th>...</th>\n",
       "      <th>Postal Code</th>\n",
       "      <th>Region</th>\n",
       "      <th>Product ID</th>\n",
       "      <th>Category</th>\n",
       "      <th>Sub-Category</th>\n",
       "      <th>Product Name</th>\n",
       "      <th>Sales</th>\n",
       "      <th>Quantity</th>\n",
       "      <th>Discount</th>\n",
       "      <th>Profit</th>\n",
       "    </tr>\n",
       "  </thead>\n",
       "  <tbody>\n",
       "    <tr>\n",
       "      <th>6826</th>\n",
       "      <td>6826</td>\n",
       "      <td>6827</td>\n",
       "      <td>CA-2013-118689</td>\n",
       "      <td>10-03-2013</td>\n",
       "      <td>10-10-2013</td>\n",
       "      <td>Standard Class</td>\n",
       "      <td>TC-20980</td>\n",
       "      <td>Tamara Chand</td>\n",
       "      <td>Corporate</td>\n",
       "      <td>United States</td>\n",
       "      <td>...</td>\n",
       "      <td>47905</td>\n",
       "      <td>Central</td>\n",
       "      <td>TEC-CO-10004722</td>\n",
       "      <td>Technology</td>\n",
       "      <td>Copiers</td>\n",
       "      <td>Canon imageCLASS 2200 Advanced Copier</td>\n",
       "      <td>17499.95</td>\n",
       "      <td>5</td>\n",
       "      <td>0.0</td>\n",
       "      <td>8399.9760</td>\n",
       "    </tr>\n",
       "    <tr>\n",
       "      <th>8153</th>\n",
       "      <td>8153</td>\n",
       "      <td>8154</td>\n",
       "      <td>CA-2014-140151</td>\n",
       "      <td>3/24/2014</td>\n",
       "      <td>3/26/2014</td>\n",
       "      <td>First Class</td>\n",
       "      <td>RB-19360</td>\n",
       "      <td>Raymond Buch</td>\n",
       "      <td>Consumer</td>\n",
       "      <td>United States</td>\n",
       "      <td>...</td>\n",
       "      <td>98115</td>\n",
       "      <td>West</td>\n",
       "      <td>TEC-CO-10004722</td>\n",
       "      <td>Technology</td>\n",
       "      <td>Copiers</td>\n",
       "      <td>Canon imageCLASS 2200 Advanced Copier</td>\n",
       "      <td>13999.96</td>\n",
       "      <td>4</td>\n",
       "      <td>0.0</td>\n",
       "      <td>6719.9808</td>\n",
       "    </tr>\n",
       "    <tr>\n",
       "      <th>4190</th>\n",
       "      <td>4190</td>\n",
       "      <td>4191</td>\n",
       "      <td>CA-2014-166709</td>\n",
       "      <td>11/18/2014</td>\n",
       "      <td>11/23/2014</td>\n",
       "      <td>Standard Class</td>\n",
       "      <td>HL-15040</td>\n",
       "      <td>Hunter Lopez</td>\n",
       "      <td>Consumer</td>\n",
       "      <td>United States</td>\n",
       "      <td>...</td>\n",
       "      <td>19711</td>\n",
       "      <td>East</td>\n",
       "      <td>TEC-CO-10004722</td>\n",
       "      <td>Technology</td>\n",
       "      <td>Copiers</td>\n",
       "      <td>Canon imageCLASS 2200 Advanced Copier</td>\n",
       "      <td>10499.97</td>\n",
       "      <td>3</td>\n",
       "      <td>0.0</td>\n",
       "      <td>5039.9856</td>\n",
       "    </tr>\n",
       "  </tbody>\n",
       "</table>\n",
       "<p>3 rows × 22 columns</p>\n",
       "</div>"
      ],
      "text/plain": [
       "      Unnamed: 0  Row ID        Order ID  Order Date   Ship Date  \\\n",
       "6826        6826    6827  CA-2013-118689  10-03-2013  10-10-2013   \n",
       "8153        8153    8154  CA-2014-140151   3/24/2014   3/26/2014   \n",
       "4190        4190    4191  CA-2014-166709  11/18/2014  11/23/2014   \n",
       "\n",
       "           Ship Mode Customer ID Customer Name    Segment        Country  ...  \\\n",
       "6826  Standard Class    TC-20980  Tamara Chand  Corporate  United States  ...   \n",
       "8153     First Class    RB-19360  Raymond Buch   Consumer  United States  ...   \n",
       "4190  Standard Class    HL-15040  Hunter Lopez   Consumer  United States  ...   \n",
       "\n",
       "     Postal Code   Region       Product ID    Category Sub-Category  \\\n",
       "6826       47905  Central  TEC-CO-10004722  Technology      Copiers   \n",
       "8153       98115     West  TEC-CO-10004722  Technology      Copiers   \n",
       "4190       19711     East  TEC-CO-10004722  Technology      Copiers   \n",
       "\n",
       "                               Product Name     Sales Quantity  Discount  \\\n",
       "6826  Canon imageCLASS 2200 Advanced Copier  17499.95        5       0.0   \n",
       "8153  Canon imageCLASS 2200 Advanced Copier  13999.96        4       0.0   \n",
       "4190  Canon imageCLASS 2200 Advanced Copier  10499.97        3       0.0   \n",
       "\n",
       "         Profit  \n",
       "6826  8399.9760  \n",
       "8153  6719.9808  \n",
       "4190  5039.9856  \n",
       "\n",
       "[3 rows x 22 columns]"
      ]
     },
     "execution_count": 142,
     "metadata": {},
     "output_type": "execute_result"
    }
   ],
   "source": [
    "# Sort the profit\n",
    "# data.sort_values (\"Profit\").head(3)\n",
    "data.sort_values (\"Profit\", ascending=False).head(3)"
   ]
  },
  {
   "cell_type": "code",
   "execution_count": 143,
   "id": "ea6daa42",
   "metadata": {},
   "outputs": [
    {
     "data": {
      "text/html": [
       "<div>\n",
       "<style scoped>\n",
       "    .dataframe tbody tr th:only-of-type {\n",
       "        vertical-align: middle;\n",
       "    }\n",
       "\n",
       "    .dataframe tbody tr th {\n",
       "        vertical-align: top;\n",
       "    }\n",
       "\n",
       "    .dataframe thead th {\n",
       "        text-align: right;\n",
       "    }\n",
       "</style>\n",
       "<table border=\"1\" class=\"dataframe\">\n",
       "  <thead>\n",
       "    <tr style=\"text-align: right;\">\n",
       "      <th></th>\n",
       "      <th>Unnamed: 0</th>\n",
       "      <th>Row ID</th>\n",
       "      <th>Order ID</th>\n",
       "      <th>Order Date</th>\n",
       "      <th>Ship Date</th>\n",
       "      <th>Ship Mode</th>\n",
       "      <th>Customer ID</th>\n",
       "      <th>Customer Name</th>\n",
       "      <th>Segment</th>\n",
       "      <th>Country</th>\n",
       "      <th>...</th>\n",
       "      <th>Postal Code</th>\n",
       "      <th>Region</th>\n",
       "      <th>Product ID</th>\n",
       "      <th>Category</th>\n",
       "      <th>Sub-Category</th>\n",
       "      <th>Product Name</th>\n",
       "      <th>Sales</th>\n",
       "      <th>Quantity</th>\n",
       "      <th>Discount</th>\n",
       "      <th>Profit</th>\n",
       "    </tr>\n",
       "  </thead>\n",
       "  <tbody>\n",
       "    <tr>\n",
       "      <th>2697</th>\n",
       "      <td>2697</td>\n",
       "      <td>2698</td>\n",
       "      <td>CA-2011-145317</td>\n",
       "      <td>3/18/2011</td>\n",
       "      <td>3/23/2011</td>\n",
       "      <td>Standard Class</td>\n",
       "      <td>SM-20320</td>\n",
       "      <td>Sean Miller</td>\n",
       "      <td>Home Office</td>\n",
       "      <td>United States</td>\n",
       "      <td>...</td>\n",
       "      <td>32216</td>\n",
       "      <td>South</td>\n",
       "      <td>TEC-MA-10002412</td>\n",
       "      <td>Technology</td>\n",
       "      <td>Machines</td>\n",
       "      <td>Cisco TelePresence System EX90 Videoconferenci...</td>\n",
       "      <td>22638.48</td>\n",
       "      <td>6</td>\n",
       "      <td>0.5</td>\n",
       "      <td>-1811.0784</td>\n",
       "    </tr>\n",
       "    <tr>\n",
       "      <th>8488</th>\n",
       "      <td>8488</td>\n",
       "      <td>8489</td>\n",
       "      <td>CA-2013-158841</td>\n",
       "      <td>02-02-2013</td>\n",
       "      <td>02-04-2013</td>\n",
       "      <td>Second Class</td>\n",
       "      <td>SE-20110</td>\n",
       "      <td>Sanjit Engle</td>\n",
       "      <td>Consumer</td>\n",
       "      <td>United States</td>\n",
       "      <td>...</td>\n",
       "      <td>22204</td>\n",
       "      <td>South</td>\n",
       "      <td>TEC-MA-10001127</td>\n",
       "      <td>Technology</td>\n",
       "      <td>Machines</td>\n",
       "      <td>HP Designjet T520 Inkjet Large Format Printer ...</td>\n",
       "      <td>8749.95</td>\n",
       "      <td>5</td>\n",
       "      <td>0.0</td>\n",
       "      <td>2799.9840</td>\n",
       "    </tr>\n",
       "    <tr>\n",
       "      <th>683</th>\n",
       "      <td>683</td>\n",
       "      <td>684</td>\n",
       "      <td>US-2014-168116</td>\n",
       "      <td>11-05-2014</td>\n",
       "      <td>11-05-2014</td>\n",
       "      <td>Same Day</td>\n",
       "      <td>GT-14635</td>\n",
       "      <td>Grant Thornton</td>\n",
       "      <td>Corporate</td>\n",
       "      <td>United States</td>\n",
       "      <td>...</td>\n",
       "      <td>27217</td>\n",
       "      <td>South</td>\n",
       "      <td>TEC-MA-10004125</td>\n",
       "      <td>Technology</td>\n",
       "      <td>Machines</td>\n",
       "      <td>Cubify CubeX 3D Printer Triple Head Print</td>\n",
       "      <td>7999.98</td>\n",
       "      <td>4</td>\n",
       "      <td>0.5</td>\n",
       "      <td>-3839.9904</td>\n",
       "    </tr>\n",
       "  </tbody>\n",
       "</table>\n",
       "<p>3 rows × 22 columns</p>\n",
       "</div>"
      ],
      "text/plain": [
       "      Unnamed: 0  Row ID        Order ID  Order Date   Ship Date  \\\n",
       "2697        2697    2698  CA-2011-145317   3/18/2011   3/23/2011   \n",
       "8488        8488    8489  CA-2013-158841  02-02-2013  02-04-2013   \n",
       "683          683     684  US-2014-168116  11-05-2014  11-05-2014   \n",
       "\n",
       "           Ship Mode Customer ID   Customer Name      Segment        Country  \\\n",
       "2697  Standard Class    SM-20320     Sean Miller  Home Office  United States   \n",
       "8488    Second Class    SE-20110    Sanjit Engle     Consumer  United States   \n",
       "683         Same Day    GT-14635  Grant Thornton    Corporate  United States   \n",
       "\n",
       "      ... Postal Code Region       Product ID    Category Sub-Category  \\\n",
       "2697  ...       32216  South  TEC-MA-10002412  Technology     Machines   \n",
       "8488  ...       22204  South  TEC-MA-10001127  Technology     Machines   \n",
       "683   ...       27217  South  TEC-MA-10004125  Technology     Machines   \n",
       "\n",
       "                                           Product Name     Sales Quantity  \\\n",
       "2697  Cisco TelePresence System EX90 Videoconferenci...  22638.48        6   \n",
       "8488  HP Designjet T520 Inkjet Large Format Printer ...   8749.95        5   \n",
       "683           Cubify CubeX 3D Printer Triple Head Print   7999.98        4   \n",
       "\n",
       "      Discount     Profit  \n",
       "2697       0.5 -1811.0784  \n",
       "8488       0.0  2799.9840  \n",
       "683        0.5 -3839.9904  \n",
       "\n",
       "[3 rows x 22 columns]"
      ]
     },
     "execution_count": 143,
     "metadata": {},
     "output_type": "execute_result"
    }
   ],
   "source": [
    "# List the most valuable customers in the South Region by Sales\n",
    "# d1 = data.query('Region==\"South\"')\n",
    "# d1.sort_values(\"Sales\", ascending=False).head(3)\n",
    "data.query(\"Region=='South'\").sort_values(\"Sales\", ascending=False).head(3)\n",
    "# d1.sort_values(\"Sales\", ascending=False).head(3)"
   ]
  },
  {
   "cell_type": "code",
   "execution_count": 145,
   "id": "5f857f4a",
   "metadata": {},
   "outputs": [
    {
     "data": {
      "text/html": [
       "<div>\n",
       "<style scoped>\n",
       "    .dataframe tbody tr th:only-of-type {\n",
       "        vertical-align: middle;\n",
       "    }\n",
       "\n",
       "    .dataframe tbody tr th {\n",
       "        vertical-align: top;\n",
       "    }\n",
       "\n",
       "    .dataframe thead th {\n",
       "        text-align: right;\n",
       "    }\n",
       "</style>\n",
       "<table border=\"1\" class=\"dataframe\">\n",
       "  <thead>\n",
       "    <tr style=\"text-align: right;\">\n",
       "      <th></th>\n",
       "      <th>Unnamed: 0</th>\n",
       "      <th>Row ID</th>\n",
       "      <th>Order ID</th>\n",
       "      <th>Order Date</th>\n",
       "      <th>Ship Date</th>\n",
       "      <th>Ship Mode</th>\n",
       "      <th>Customer ID</th>\n",
       "      <th>Customer Name</th>\n",
       "      <th>Segment</th>\n",
       "      <th>Country</th>\n",
       "      <th>...</th>\n",
       "      <th>Postal Code</th>\n",
       "      <th>Region</th>\n",
       "      <th>Product ID</th>\n",
       "      <th>Category</th>\n",
       "      <th>Sub-Category</th>\n",
       "      <th>Product Name</th>\n",
       "      <th>Sales</th>\n",
       "      <th>Quantity</th>\n",
       "      <th>Discount</th>\n",
       "      <th>Profit</th>\n",
       "    </tr>\n",
       "  </thead>\n",
       "  <tbody>\n",
       "    <tr>\n",
       "      <th>7772</th>\n",
       "      <td>7772</td>\n",
       "      <td>7773</td>\n",
       "      <td>CA-2013-108196</td>\n",
       "      <td>11/26/2013</td>\n",
       "      <td>12-03-2013</td>\n",
       "      <td>Standard Class</td>\n",
       "      <td>CS-12505</td>\n",
       "      <td>Cindy Stewart</td>\n",
       "      <td>Consumer</td>\n",
       "      <td>United States</td>\n",
       "      <td>...</td>\n",
       "      <td>43130</td>\n",
       "      <td>East</td>\n",
       "      <td>TEC-MA-10000418</td>\n",
       "      <td>Technology</td>\n",
       "      <td>Machines</td>\n",
       "      <td>Cubify CubeX 3D Printer Double Head Print</td>\n",
       "      <td>4499.985</td>\n",
       "      <td>5</td>\n",
       "      <td>0.7</td>\n",
       "      <td>-6599.9780</td>\n",
       "    </tr>\n",
       "    <tr>\n",
       "      <th>683</th>\n",
       "      <td>683</td>\n",
       "      <td>684</td>\n",
       "      <td>US-2014-168116</td>\n",
       "      <td>11-05-2014</td>\n",
       "      <td>11-05-2014</td>\n",
       "      <td>Same Day</td>\n",
       "      <td>GT-14635</td>\n",
       "      <td>Grant Thornton</td>\n",
       "      <td>Corporate</td>\n",
       "      <td>United States</td>\n",
       "      <td>...</td>\n",
       "      <td>27217</td>\n",
       "      <td>South</td>\n",
       "      <td>TEC-MA-10004125</td>\n",
       "      <td>Technology</td>\n",
       "      <td>Machines</td>\n",
       "      <td>Cubify CubeX 3D Printer Triple Head Print</td>\n",
       "      <td>7999.980</td>\n",
       "      <td>4</td>\n",
       "      <td>0.5</td>\n",
       "      <td>-3839.9904</td>\n",
       "    </tr>\n",
       "    <tr>\n",
       "      <th>9774</th>\n",
       "      <td>9774</td>\n",
       "      <td>9775</td>\n",
       "      <td>CA-2011-169019</td>\n",
       "      <td>7/26/2011</td>\n",
       "      <td>7/30/2011</td>\n",
       "      <td>Standard Class</td>\n",
       "      <td>LF-17185</td>\n",
       "      <td>Luke Foster</td>\n",
       "      <td>Consumer</td>\n",
       "      <td>United States</td>\n",
       "      <td>...</td>\n",
       "      <td>78207</td>\n",
       "      <td>Central</td>\n",
       "      <td>OFF-BI-10004995</td>\n",
       "      <td>Office Supplies</td>\n",
       "      <td>Binders</td>\n",
       "      <td>GBC DocuBind P400 Electric Binding System</td>\n",
       "      <td>2177.584</td>\n",
       "      <td>8</td>\n",
       "      <td>0.8</td>\n",
       "      <td>-3701.8928</td>\n",
       "    </tr>\n",
       "  </tbody>\n",
       "</table>\n",
       "<p>3 rows × 22 columns</p>\n",
       "</div>"
      ],
      "text/plain": [
       "      Unnamed: 0  Row ID        Order ID  Order Date   Ship Date  \\\n",
       "7772        7772    7773  CA-2013-108196  11/26/2013  12-03-2013   \n",
       "683          683     684  US-2014-168116  11-05-2014  11-05-2014   \n",
       "9774        9774    9775  CA-2011-169019   7/26/2011   7/30/2011   \n",
       "\n",
       "           Ship Mode Customer ID   Customer Name    Segment        Country  \\\n",
       "7772  Standard Class    CS-12505   Cindy Stewart   Consumer  United States   \n",
       "683         Same Day    GT-14635  Grant Thornton  Corporate  United States   \n",
       "9774  Standard Class    LF-17185     Luke Foster   Consumer  United States   \n",
       "\n",
       "      ... Postal Code   Region       Product ID         Category Sub-Category  \\\n",
       "7772  ...       43130     East  TEC-MA-10000418       Technology     Machines   \n",
       "683   ...       27217    South  TEC-MA-10004125       Technology     Machines   \n",
       "9774  ...       78207  Central  OFF-BI-10004995  Office Supplies      Binders   \n",
       "\n",
       "                                   Product Name     Sales Quantity  Discount  \\\n",
       "7772  Cubify CubeX 3D Printer Double Head Print  4499.985        5       0.7   \n",
       "683   Cubify CubeX 3D Printer Triple Head Print  7999.980        4       0.5   \n",
       "9774  GBC DocuBind P400 Electric Binding System  2177.584        8       0.8   \n",
       "\n",
       "         Profit  \n",
       "7772 -6599.9780  \n",
       "683  -3839.9904  \n",
       "9774 -3701.8928  \n",
       "\n",
       "[3 rows x 22 columns]"
      ]
     },
     "execution_count": 145,
     "metadata": {},
     "output_type": "execute_result"
    }
   ],
   "source": [
    "# Sort by two attribute/variables/columns (sales , profit) \n",
    "data.sort_values([\"Profit\", \"Sales\"]). head (3)"
   ]
  },
  {
   "cell_type": "code",
   "execution_count": 146,
   "id": "e6efa105",
   "metadata": {},
   "outputs": [
    {
     "data": {
      "text/html": [
       "<div>\n",
       "<style scoped>\n",
       "    .dataframe tbody tr th:only-of-type {\n",
       "        vertical-align: middle;\n",
       "    }\n",
       "\n",
       "    .dataframe tbody tr th {\n",
       "        vertical-align: top;\n",
       "    }\n",
       "\n",
       "    .dataframe thead th {\n",
       "        text-align: right;\n",
       "    }\n",
       "</style>\n",
       "<table border=\"1\" class=\"dataframe\">\n",
       "  <thead>\n",
       "    <tr style=\"text-align: right;\">\n",
       "      <th></th>\n",
       "      <th>Unnamed: 0</th>\n",
       "      <th>Row ID</th>\n",
       "      <th>Order ID</th>\n",
       "      <th>Order Date</th>\n",
       "      <th>Ship Date</th>\n",
       "      <th>Ship Mode</th>\n",
       "      <th>Customer ID</th>\n",
       "      <th>Customer Name</th>\n",
       "      <th>Segment</th>\n",
       "      <th>Country</th>\n",
       "      <th>...</th>\n",
       "      <th>Postal Code</th>\n",
       "      <th>Region</th>\n",
       "      <th>Product ID</th>\n",
       "      <th>Category</th>\n",
       "      <th>Sub-Category</th>\n",
       "      <th>Product Name</th>\n",
       "      <th>Sales</th>\n",
       "      <th>Quantity</th>\n",
       "      <th>Discount</th>\n",
       "      <th>Profit</th>\n",
       "    </tr>\n",
       "  </thead>\n",
       "  <tbody>\n",
       "    <tr>\n",
       "      <th>6826</th>\n",
       "      <td>6826</td>\n",
       "      <td>6827</td>\n",
       "      <td>CA-2013-118689</td>\n",
       "      <td>10-03-2013</td>\n",
       "      <td>10-10-2013</td>\n",
       "      <td>Standard Class</td>\n",
       "      <td>TC-20980</td>\n",
       "      <td>Tamara Chand</td>\n",
       "      <td>Corporate</td>\n",
       "      <td>United States</td>\n",
       "      <td>...</td>\n",
       "      <td>47905</td>\n",
       "      <td>Central</td>\n",
       "      <td>TEC-CO-10004722</td>\n",
       "      <td>Technology</td>\n",
       "      <td>Copiers</td>\n",
       "      <td>Canon imageCLASS 2200 Advanced Copier</td>\n",
       "      <td>17499.95</td>\n",
       "      <td>5</td>\n",
       "      <td>0.0</td>\n",
       "      <td>8399.9760</td>\n",
       "    </tr>\n",
       "    <tr>\n",
       "      <th>8153</th>\n",
       "      <td>8153</td>\n",
       "      <td>8154</td>\n",
       "      <td>CA-2014-140151</td>\n",
       "      <td>3/24/2014</td>\n",
       "      <td>3/26/2014</td>\n",
       "      <td>First Class</td>\n",
       "      <td>RB-19360</td>\n",
       "      <td>Raymond Buch</td>\n",
       "      <td>Consumer</td>\n",
       "      <td>United States</td>\n",
       "      <td>...</td>\n",
       "      <td>98115</td>\n",
       "      <td>West</td>\n",
       "      <td>TEC-CO-10004722</td>\n",
       "      <td>Technology</td>\n",
       "      <td>Copiers</td>\n",
       "      <td>Canon imageCLASS 2200 Advanced Copier</td>\n",
       "      <td>13999.96</td>\n",
       "      <td>4</td>\n",
       "      <td>0.0</td>\n",
       "      <td>6719.9808</td>\n",
       "    </tr>\n",
       "    <tr>\n",
       "      <th>4190</th>\n",
       "      <td>4190</td>\n",
       "      <td>4191</td>\n",
       "      <td>CA-2014-166709</td>\n",
       "      <td>11/18/2014</td>\n",
       "      <td>11/23/2014</td>\n",
       "      <td>Standard Class</td>\n",
       "      <td>HL-15040</td>\n",
       "      <td>Hunter Lopez</td>\n",
       "      <td>Consumer</td>\n",
       "      <td>United States</td>\n",
       "      <td>...</td>\n",
       "      <td>19711</td>\n",
       "      <td>East</td>\n",
       "      <td>TEC-CO-10004722</td>\n",
       "      <td>Technology</td>\n",
       "      <td>Copiers</td>\n",
       "      <td>Canon imageCLASS 2200 Advanced Copier</td>\n",
       "      <td>10499.97</td>\n",
       "      <td>3</td>\n",
       "      <td>0.0</td>\n",
       "      <td>5039.9856</td>\n",
       "    </tr>\n",
       "  </tbody>\n",
       "</table>\n",
       "<p>3 rows × 22 columns</p>\n",
       "</div>"
      ],
      "text/plain": [
       "      Unnamed: 0  Row ID        Order ID  Order Date   Ship Date  \\\n",
       "6826        6826    6827  CA-2013-118689  10-03-2013  10-10-2013   \n",
       "8153        8153    8154  CA-2014-140151   3/24/2014   3/26/2014   \n",
       "4190        4190    4191  CA-2014-166709  11/18/2014  11/23/2014   \n",
       "\n",
       "           Ship Mode Customer ID Customer Name    Segment        Country  ...  \\\n",
       "6826  Standard Class    TC-20980  Tamara Chand  Corporate  United States  ...   \n",
       "8153     First Class    RB-19360  Raymond Buch   Consumer  United States  ...   \n",
       "4190  Standard Class    HL-15040  Hunter Lopez   Consumer  United States  ...   \n",
       "\n",
       "     Postal Code   Region       Product ID    Category Sub-Category  \\\n",
       "6826       47905  Central  TEC-CO-10004722  Technology      Copiers   \n",
       "8153       98115     West  TEC-CO-10004722  Technology      Copiers   \n",
       "4190       19711     East  TEC-CO-10004722  Technology      Copiers   \n",
       "\n",
       "                               Product Name     Sales Quantity  Discount  \\\n",
       "6826  Canon imageCLASS 2200 Advanced Copier  17499.95        5       0.0   \n",
       "8153  Canon imageCLASS 2200 Advanced Copier  13999.96        4       0.0   \n",
       "4190  Canon imageCLASS 2200 Advanced Copier  10499.97        3       0.0   \n",
       "\n",
       "         Profit  \n",
       "6826  8399.9760  \n",
       "8153  6719.9808  \n",
       "4190  5039.9856  \n",
       "\n",
       "[3 rows x 22 columns]"
      ]
     },
     "execution_count": 146,
     "metadata": {},
     "output_type": "execute_result"
    }
   ],
   "source": [
    "# Sort by two attribute/variables/columns (sales, profit)\n",
    "data.sort_values ([\"Profit\", \"Sales\"],ascending= [False, True]).head(3)"
   ]
  },
  {
   "cell_type": "code",
   "execution_count": 161,
   "id": "2f3a7381",
   "metadata": {},
   "outputs": [
    {
     "data": {
      "text/plain": [
       "count              9994\n",
       "unique                1\n",
       "top       United States\n",
       "freq               9994\n",
       "Name: Country, dtype: object"
      ]
     },
     "execution_count": 161,
     "metadata": {},
     "output_type": "execute_result"
    }
   ],
   "source": [
    "data[\"Country\"].describe()"
   ]
  },
  {
   "cell_type": "code",
   "execution_count": 152,
   "id": "12df0c39",
   "metadata": {},
   "outputs": [
    {
     "name": "stdout",
     "output_type": "stream",
     "text": [
      "Region wise maximum sales Region\n",
      "Central    17499.950\n",
      "East       11199.968\n",
      "South      22638.480\n",
      "West       13999.960\n",
      "Name: Sales, dtype: float64\n",
      "Region wise average sales Region\n",
      "Central    215.772661\n",
      "East       238.336110\n",
      "South      241.803645\n",
      "West       226.493233\n",
      "Name: Sales, dtype: float64\n"
     ]
    }
   ],
   "source": [
    "# Aggregation : groupby an Pivot\n",
    "# summarize, group, condense\n",
    "# groupby () function :split the data into groups\n",
    "# aggregation functions\n",
    "# Region wise Maximum Sales\n",
    "datal=data.groupby('Region')['Sales'].max()\n",
    "print (\"Region wise maximum sales\", datal) \n",
    "data2=data.groupby('Region')['Sales'].mean() \n",
    "print (\"Region wise average sales\", data2)"
   ]
  },
  {
   "cell_type": "code",
   "execution_count": 154,
   "id": "f1c55610",
   "metadata": {},
   "outputs": [
    {
     "data": {
      "text/plain": [
       "Country        Region \n",
       "United States  Central    17499.950\n",
       "               East       11199.968\n",
       "               South      22638.480\n",
       "               West       13999.960\n",
       "Name: Sales, dtype: float64"
      ]
     },
     "execution_count": 154,
     "metadata": {},
     "output_type": "execute_result"
    }
   ],
   "source": [
    "# Multiple columns in group by\n",
    "data3=data.groupby([\"Country\", \"Region\"])['Sales'].max ()\n",
    "data3"
   ]
  },
  {
   "cell_type": "code",
   "execution_count": 158,
   "id": "e3186e48",
   "metadata": {},
   "outputs": [
    {
     "data": {
      "text/plain": [
       "Country        Region   Segment    \n",
       "United States  Central  Consumer        9892.740\n",
       "                        Corporate      17499.950\n",
       "                        Home Office     3812.970\n",
       "               East     Consumer       10499.970\n",
       "                        Corporate       9099.930\n",
       "                        Home Office    11199.968\n",
       "               South    Consumer        8749.950\n",
       "                        Corporate       7999.980\n",
       "                        Home Office    22638.480\n",
       "               West     Consumer       13999.960\n",
       "                        Corporate       5083.960\n",
       "                        Home Office     4535.976\n",
       "Name: Sales, dtype: float64"
      ]
     },
     "execution_count": 158,
     "metadata": {},
     "output_type": "execute_result"
    }
   ],
   "source": [
    "# Multiple columns in group by\n",
    "data3=data.groupby([\"Country\",\"Region\", \"Segment\"])['Sales'].max ()\n",
    "data3"
   ]
  },
  {
   "cell_type": "code",
   "execution_count": 165,
   "id": "063ae19d",
   "metadata": {},
   "outputs": [
    {
     "data": {
      "text/html": [
       "<div>\n",
       "<style scoped>\n",
       "    .dataframe tbody tr th:only-of-type {\n",
       "        vertical-align: middle;\n",
       "    }\n",
       "\n",
       "    .dataframe tbody tr th {\n",
       "        vertical-align: top;\n",
       "    }\n",
       "\n",
       "    .dataframe thead th {\n",
       "        text-align: right;\n",
       "    }\n",
       "</style>\n",
       "<table border=\"1\" class=\"dataframe\">\n",
       "  <thead>\n",
       "    <tr style=\"text-align: right;\">\n",
       "      <th></th>\n",
       "      <th></th>\n",
       "      <th>max</th>\n",
       "      <th>min</th>\n",
       "      <th>mean</th>\n",
       "      <th>sum</th>\n",
       "      <th>count</th>\n",
       "    </tr>\n",
       "    <tr>\n",
       "      <th>Region</th>\n",
       "      <th>Segment</th>\n",
       "      <th></th>\n",
       "      <th></th>\n",
       "      <th></th>\n",
       "      <th></th>\n",
       "      <th></th>\n",
       "    </tr>\n",
       "  </thead>\n",
       "  <tbody>\n",
       "    <tr>\n",
       "      <th rowspan=\"3\" valign=\"top\">Central</th>\n",
       "      <th>Consumer</th>\n",
       "      <td>9892.740</td>\n",
       "      <td>0.444</td>\n",
       "      <td>207.946728</td>\n",
       "      <td>252031.4340</td>\n",
       "      <td>1212</td>\n",
       "    </tr>\n",
       "    <tr>\n",
       "      <th>Corporate</th>\n",
       "      <td>17499.950</td>\n",
       "      <td>0.556</td>\n",
       "      <td>234.763466</td>\n",
       "      <td>157995.8128</td>\n",
       "      <td>673</td>\n",
       "    </tr>\n",
       "    <tr>\n",
       "      <th>Home Office</th>\n",
       "      <td>3812.970</td>\n",
       "      <td>1.408</td>\n",
       "      <td>208.248046</td>\n",
       "      <td>91212.6440</td>\n",
       "      <td>438</td>\n",
       "    </tr>\n",
       "    <tr>\n",
       "      <th rowspan=\"3\" valign=\"top\">East</th>\n",
       "      <th>Consumer</th>\n",
       "      <td>10499.970</td>\n",
       "      <td>0.852</td>\n",
       "      <td>238.875539</td>\n",
       "      <td>350908.1670</td>\n",
       "      <td>1469</td>\n",
       "    </tr>\n",
       "    <tr>\n",
       "      <th>Corporate</th>\n",
       "      <td>9099.930</td>\n",
       "      <td>1.188</td>\n",
       "      <td>228.516929</td>\n",
       "      <td>200409.3470</td>\n",
       "      <td>877</td>\n",
       "    </tr>\n",
       "    <tr>\n",
       "      <th>Home Office</th>\n",
       "      <td>11199.968</td>\n",
       "      <td>1.640</td>\n",
       "      <td>253.911805</td>\n",
       "      <td>127463.7260</td>\n",
       "      <td>502</td>\n",
       "    </tr>\n",
       "    <tr>\n",
       "      <th rowspan=\"3\" valign=\"top\">South</th>\n",
       "      <th>Consumer</th>\n",
       "      <td>8749.950</td>\n",
       "      <td>1.344</td>\n",
       "      <td>233.390180</td>\n",
       "      <td>195580.9710</td>\n",
       "      <td>838</td>\n",
       "    </tr>\n",
       "    <tr>\n",
       "      <th>Corporate</th>\n",
       "      <td>7999.980</td>\n",
       "      <td>1.167</td>\n",
       "      <td>238.992025</td>\n",
       "      <td>121885.9325</td>\n",
       "      <td>510</td>\n",
       "    </tr>\n",
       "    <tr>\n",
       "      <th>Home Office</th>\n",
       "      <td>22638.480</td>\n",
       "      <td>2.816</td>\n",
       "      <td>272.996329</td>\n",
       "      <td>74255.0015</td>\n",
       "      <td>272</td>\n",
       "    </tr>\n",
       "    <tr>\n",
       "      <th rowspan=\"3\" valign=\"top\">West</th>\n",
       "      <th>Consumer</th>\n",
       "      <td>13999.960</td>\n",
       "      <td>1.080</td>\n",
       "      <td>217.033955</td>\n",
       "      <td>362880.7730</td>\n",
       "      <td>1672</td>\n",
       "    </tr>\n",
       "    <tr>\n",
       "      <th>Corporate</th>\n",
       "      <td>5083.960</td>\n",
       "      <td>1.188</td>\n",
       "      <td>235.265911</td>\n",
       "      <td>225855.2745</td>\n",
       "      <td>960</td>\n",
       "    </tr>\n",
       "    <tr>\n",
       "      <th>Home Office</th>\n",
       "      <td>4535.976</td>\n",
       "      <td>0.990</td>\n",
       "      <td>239.442692</td>\n",
       "      <td>136721.7770</td>\n",
       "      <td>571</td>\n",
       "    </tr>\n",
       "  </tbody>\n",
       "</table>\n",
       "</div>"
      ],
      "text/plain": [
       "                           max    min        mean          sum  count\n",
       "Region  Segment                                                      \n",
       "Central Consumer      9892.740  0.444  207.946728  252031.4340   1212\n",
       "        Corporate    17499.950  0.556  234.763466  157995.8128    673\n",
       "        Home Office   3812.970  1.408  208.248046   91212.6440    438\n",
       "East    Consumer     10499.970  0.852  238.875539  350908.1670   1469\n",
       "        Corporate     9099.930  1.188  228.516929  200409.3470    877\n",
       "        Home Office  11199.968  1.640  253.911805  127463.7260    502\n",
       "South   Consumer      8749.950  1.344  233.390180  195580.9710    838\n",
       "        Corporate     7999.980  1.167  238.992025  121885.9325    510\n",
       "        Home Office  22638.480  2.816  272.996329   74255.0015    272\n",
       "West    Consumer     13999.960  1.080  217.033955  362880.7730   1672\n",
       "        Corporate     5083.960  1.188  235.265911  225855.2745    960\n",
       "        Home Office   4535.976  0.990  239.442692  136721.7770    571"
      ]
     },
     "execution_count": 165,
     "metadata": {},
     "output_type": "execute_result"
    }
   ],
   "source": [
    "# Multiple Aggregate functions\n",
    "data5=data.groupby([\"Region\", \"Segment\"]) ['Sales'].agg (['max', 'min', 'mean', 'sum', 'count'])\n",
    "data5"
   ]
  },
  {
   "cell_type": "code",
   "execution_count": 173,
   "id": "36c9d8b5",
   "metadata": {},
   "outputs": [
    {
     "data": {
      "text/plain": [
       "Region\n",
       "Central    3.779595\n",
       "East       3.728230\n",
       "South      3.832716\n",
       "West       3.829535\n",
       "Name: Quantity, dtype: float64"
      ]
     },
     "execution_count": 173,
     "metadata": {},
     "output_type": "execute_result"
    }
   ],
   "source": [
    "# What is the average quantity sold by the regiond\n",
    "data6 = data.groupby(\"Region\")['Quantity'].mean()\n",
    "# data.columns\n",
    "data6"
   ]
  },
  {
   "cell_type": "markdown",
   "id": "c5f36930",
   "metadata": {},
   "source": [
    "# Pivot"
   ]
  },
  {
   "cell_type": "code",
   "execution_count": 181,
   "id": "9817fd74",
   "metadata": {},
   "outputs": [
    {
     "data": {
      "text/html": [
       "<div>\n",
       "<style scoped>\n",
       "    .dataframe tbody tr th:only-of-type {\n",
       "        vertical-align: middle;\n",
       "    }\n",
       "\n",
       "    .dataframe tbody tr th {\n",
       "        vertical-align: top;\n",
       "    }\n",
       "\n",
       "    .dataframe thead tr th {\n",
       "        text-align: left;\n",
       "    }\n",
       "\n",
       "    .dataframe thead tr:last-of-type th {\n",
       "        text-align: right;\n",
       "    }\n",
       "</style>\n",
       "<table border=\"1\" class=\"dataframe\">\n",
       "  <thead>\n",
       "    <tr>\n",
       "      <th></th>\n",
       "      <th>mean</th>\n",
       "    </tr>\n",
       "    <tr>\n",
       "      <th></th>\n",
       "      <th>Sales</th>\n",
       "    </tr>\n",
       "    <tr>\n",
       "      <th>Ship Date</th>\n",
       "      <th></th>\n",
       "    </tr>\n",
       "  </thead>\n",
       "  <tbody>\n",
       "    <tr>\n",
       "      <th>01-01-2012</th>\n",
       "      <td>269.856714</td>\n",
       "    </tr>\n",
       "    <tr>\n",
       "      <th>01-01-2013</th>\n",
       "      <td>48.844667</td>\n",
       "    </tr>\n",
       "    <tr>\n",
       "      <th>01-01-2014</th>\n",
       "      <td>387.715077</td>\n",
       "    </tr>\n",
       "    <tr>\n",
       "      <th>01-01-2015</th>\n",
       "      <td>367.077000</td>\n",
       "    </tr>\n",
       "    <tr>\n",
       "      <th>01-02-2012</th>\n",
       "      <td>146.820500</td>\n",
       "    </tr>\n",
       "    <tr>\n",
       "      <th>...</th>\n",
       "      <td>...</td>\n",
       "    </tr>\n",
       "    <tr>\n",
       "      <th>9/29/2014</th>\n",
       "      <td>155.635250</td>\n",
       "    </tr>\n",
       "    <tr>\n",
       "      <th>9/30/2011</th>\n",
       "      <td>114.297343</td>\n",
       "    </tr>\n",
       "    <tr>\n",
       "      <th>9/30/2012</th>\n",
       "      <td>211.882733</td>\n",
       "    </tr>\n",
       "    <tr>\n",
       "      <th>9/30/2013</th>\n",
       "      <td>86.014800</td>\n",
       "    </tr>\n",
       "    <tr>\n",
       "      <th>9/30/2014</th>\n",
       "      <td>211.465333</td>\n",
       "    </tr>\n",
       "  </tbody>\n",
       "</table>\n",
       "<p>1334 rows × 1 columns</p>\n",
       "</div>"
      ],
      "text/plain": [
       "                  mean\n",
       "                 Sales\n",
       "Ship Date             \n",
       "01-01-2012  269.856714\n",
       "01-01-2013   48.844667\n",
       "01-01-2014  387.715077\n",
       "01-01-2015  367.077000\n",
       "01-02-2012  146.820500\n",
       "...                ...\n",
       "9/29/2014   155.635250\n",
       "9/30/2011   114.297343\n",
       "9/30/2012   211.882733\n",
       "9/30/2013    86.014800\n",
       "9/30/2014   211.465333\n",
       "\n",
       "[1334 rows x 1 columns]"
      ]
     },
     "execution_count": 181,
     "metadata": {},
     "output_type": "execute_result"
    }
   ],
   "source": [
    "# pivot table ()\n",
    "# Single column using pivot\n",
    "# Average Sales data wise\n",
    "Ptable=data.pivot_table(index=['Ship Date'],values= ['Sales'], aggfunc= ['mean'])\n",
    "Ptable"
   ]
  },
  {
   "cell_type": "code",
   "execution_count": 184,
   "id": "16425e63",
   "metadata": {},
   "outputs": [
    {
     "data": {
      "text/html": [
       "<div>\n",
       "<style scoped>\n",
       "    .dataframe tbody tr th:only-of-type {\n",
       "        vertical-align: middle;\n",
       "    }\n",
       "\n",
       "    .dataframe tbody tr th {\n",
       "        vertical-align: top;\n",
       "    }\n",
       "\n",
       "    .dataframe thead tr th {\n",
       "        text-align: left;\n",
       "    }\n",
       "\n",
       "    .dataframe thead tr:last-of-type th {\n",
       "        text-align: right;\n",
       "    }\n",
       "</style>\n",
       "<table border=\"1\" class=\"dataframe\">\n",
       "  <thead>\n",
       "    <tr>\n",
       "      <th></th>\n",
       "      <th>min</th>\n",
       "      <th>max</th>\n",
       "      <th>mean</th>\n",
       "    </tr>\n",
       "    <tr>\n",
       "      <th></th>\n",
       "      <th>Sales</th>\n",
       "      <th>Sales</th>\n",
       "      <th>Sales</th>\n",
       "    </tr>\n",
       "    <tr>\n",
       "      <th>Ship Date</th>\n",
       "      <th></th>\n",
       "      <th></th>\n",
       "      <th></th>\n",
       "    </tr>\n",
       "  </thead>\n",
       "  <tbody>\n",
       "    <tr>\n",
       "      <th>01-01-2012</th>\n",
       "      <td>2.286</td>\n",
       "      <td>1737.180</td>\n",
       "      <td>269.856714</td>\n",
       "    </tr>\n",
       "    <tr>\n",
       "      <th>01-01-2013</th>\n",
       "      <td>3.280</td>\n",
       "      <td>160.980</td>\n",
       "      <td>48.844667</td>\n",
       "    </tr>\n",
       "    <tr>\n",
       "      <th>01-01-2014</th>\n",
       "      <td>7.900</td>\n",
       "      <td>2563.056</td>\n",
       "      <td>387.715077</td>\n",
       "    </tr>\n",
       "    <tr>\n",
       "      <th>01-01-2015</th>\n",
       "      <td>1.188</td>\n",
       "      <td>1003.620</td>\n",
       "      <td>367.077000</td>\n",
       "    </tr>\n",
       "    <tr>\n",
       "      <th>01-02-2012</th>\n",
       "      <td>8.736</td>\n",
       "      <td>767.952</td>\n",
       "      <td>146.820500</td>\n",
       "    </tr>\n",
       "    <tr>\n",
       "      <th>...</th>\n",
       "      <td>...</td>\n",
       "      <td>...</td>\n",
       "      <td>...</td>\n",
       "    </tr>\n",
       "    <tr>\n",
       "      <th>9/29/2014</th>\n",
       "      <td>2.224</td>\n",
       "      <td>1169.694</td>\n",
       "      <td>155.635250</td>\n",
       "    </tr>\n",
       "    <tr>\n",
       "      <th>9/30/2011</th>\n",
       "      <td>2.724</td>\n",
       "      <td>795.408</td>\n",
       "      <td>114.297343</td>\n",
       "    </tr>\n",
       "    <tr>\n",
       "      <th>9/30/2012</th>\n",
       "      <td>12.600</td>\n",
       "      <td>1044.630</td>\n",
       "      <td>211.882733</td>\n",
       "    </tr>\n",
       "    <tr>\n",
       "      <th>9/30/2013</th>\n",
       "      <td>5.022</td>\n",
       "      <td>331.536</td>\n",
       "      <td>86.014800</td>\n",
       "    </tr>\n",
       "    <tr>\n",
       "      <th>9/30/2014</th>\n",
       "      <td>8.260</td>\n",
       "      <td>859.200</td>\n",
       "      <td>211.465333</td>\n",
       "    </tr>\n",
       "  </tbody>\n",
       "</table>\n",
       "<p>1334 rows × 3 columns</p>\n",
       "</div>"
      ],
      "text/plain": [
       "               min       max        mean\n",
       "             Sales     Sales       Sales\n",
       "Ship Date                               \n",
       "01-01-2012   2.286  1737.180  269.856714\n",
       "01-01-2013   3.280   160.980   48.844667\n",
       "01-01-2014   7.900  2563.056  387.715077\n",
       "01-01-2015   1.188  1003.620  367.077000\n",
       "01-02-2012   8.736   767.952  146.820500\n",
       "...            ...       ...         ...\n",
       "9/29/2014    2.224  1169.694  155.635250\n",
       "9/30/2011    2.724   795.408  114.297343\n",
       "9/30/2012   12.600  1044.630  211.882733\n",
       "9/30/2013    5.022   331.536   86.014800\n",
       "9/30/2014    8.260   859.200  211.465333\n",
       "\n",
       "[1334 rows x 3 columns]"
      ]
     },
     "execution_count": 184,
     "metadata": {},
     "output_type": "execute_result"
    }
   ],
   "source": [
    "# pivot table ()\n",
    "# Single column using pivot\n",
    "# Average Sales data wise\n",
    "Ptable1=data.pivot_table(index=['Ship Date'],values= ['Sales'], aggfunc= ['min','max','mean'])\n",
    "Ptable1"
   ]
  },
  {
   "cell_type": "code",
   "execution_count": 187,
   "id": "5eafaf0f",
   "metadata": {},
   "outputs": [
    {
     "name": "stdout",
     "output_type": "stream",
     "text": [
      "                              sum       min       max\n",
      "                            Sales     Sales     Sales\n",
      "Ship Date  Sub-Category                              \n",
      "01-01-2012 Accessories     82.754    34.770    47.984\n",
      "           Appliances    1737.180  1737.180  1737.180\n",
      "           Binders          2.286     2.286     2.286\n",
      "           Envelopes       12.984    12.984    12.984\n",
      "           Furnishings    182.352   182.352   182.352\n",
      "...                           ...       ...       ...\n",
      "9/30/2014  Machines       506.280   506.280   506.280\n",
      "           Paper          235.040     8.448   211.040\n",
      "           Phones        1243.160   383.960   859.200\n",
      "           Storage        177.550   177.550   177.550\n",
      "           Tables         344.220   344.220   344.220\n",
      "\n",
      "[6854 rows x 3 columns]\n"
     ]
    }
   ],
   "source": [
    "# pivot table ()\n",
    "# Single column using pivot\n",
    "# Average Sales data wise\n",
    "# Ptable2=data.pivot_table(index=['Ship Date','Region'],values= ['Sales'], aggfunc= ['min','max','mean'])\n",
    "Ptable2=data.pivot_table(index=['Ship Date','Sub-Category'],values= ['Sales'], aggfunc= ['sum','min','max'])\n",
    "print(Ptable2)"
   ]
  },
  {
   "cell_type": "code",
   "execution_count": 191,
   "id": "763916c6",
   "metadata": {
    "scrolled": true
   },
   "outputs": [
    {
     "name": "stdout",
     "output_type": "stream",
     "text": [
      "                sum                                min                        \\\n",
      "              Sales                              Sales                         \n",
      "Segment    Consumer    Corporate  Home Office Consumer Corporate Home Office   \n",
      "Region                                                                         \n",
      "Central  252031.434  157995.8128   91212.6440    0.444     0.556       1.408   \n",
      "East     350908.167  200409.3470  127463.7260    0.852     1.188       1.640   \n",
      "South    195580.971  121885.9325   74255.0015    1.344     1.167       2.816   \n",
      "West     362880.773  225855.2745  136721.7770    1.080     1.188       0.990   \n",
      "\n",
      "              max                        \n",
      "            Sales                        \n",
      "Segment  Consumer Corporate Home Office  \n",
      "Region                                   \n",
      "Central   9892.74  17499.95    3812.970  \n",
      "East     10499.97   9099.93   11199.968  \n",
      "South     8749.95   7999.98   22638.480  \n",
      "West     13999.96   5083.96    4535.976  \n"
     ]
    }
   ],
   "source": [
    "Ptable=pd.pivot_table(data=data, index= ['Region'], columns= ['Segment'],values= ['Sales'], aggfunc= ['sum', 'min', 'max'])\n",
    "print (Ptable)"
   ]
  },
  {
   "cell_type": "code",
   "execution_count": null,
   "id": "2d7b21a7",
   "metadata": {},
   "outputs": [],
   "source": []
  }
 ],
 "metadata": {
  "kernelspec": {
   "display_name": "Python 3 (ipykernel)",
   "language": "python",
   "name": "python3"
  },
  "language_info": {
   "codemirror_mode": {
    "name": "ipython",
    "version": 3
   },
   "file_extension": ".py",
   "mimetype": "text/x-python",
   "name": "python",
   "nbconvert_exporter": "python",
   "pygments_lexer": "ipython3",
   "version": "3.10.9"
  }
 },
 "nbformat": 4,
 "nbformat_minor": 5
}
