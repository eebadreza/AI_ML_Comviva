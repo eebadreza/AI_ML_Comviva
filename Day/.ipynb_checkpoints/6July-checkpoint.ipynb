{
 "cells": [
  {
   "attachments": {
    "python.png": {
     "image/png": "[encoded data removed]"
    }
   },
   "cell_type": "markdown",
   "id": "e702103e",
   "metadata": {},
   "source": [
    "![python.png](attachment:python.png)"
   ]
  },
  {
   "cell_type": "markdown",
   "id": "20fb4252",
   "metadata": {},
   "source": [
    "### Python Introduction-Day3"
   ]
  },
  {
   "cell_type": "markdown",
   "id": "f8ac373f",
   "metadata": {},
   "source": [
    "#### Lambda expressions, Map, Filter, Reduce Exception Handling in Python"
   ]
  },
  {
   "cell_type": "markdown",
   "id": "3c5e6c41",
   "metadata": {},
   "source": [
    "<a class='anchor' id=\"0.1\"></a>\n",
    "## Python Module\n",
    " ### [1.Day-3 Functional Programming:](#1)\n",
    "* #### [1.1 Lambda Expressions:](#1.1)\n",
    "* #### [1.2 Map:](#1.2)\n",
    "* #### [1.3 Filter:](#1.3)\n",
    "* #### [1.4 Reduce:](#1.4)\n",
    "* #### [1.5 Exception Handling in Python:](#1.5)"
   ]
  },
  {
   "cell_type": "markdown",
   "id": "485d31ea",
   "metadata": {},
   "source": [
    "## 1.1 Lambda Expressions <a class=\"anchor\" id=\"1.1\"></a>\n",
    "[Back to Day-3](#0.1)"
   ]
  },
  {
   "cell_type": "code",
   "execution_count": null,
   "id": "a2039b9a",
   "metadata": {},
   "outputs": [],
   "source": [
    " # What,Why,How to,When- Lambda Expressions"
   ]
  },
  {
   "cell_type": "code",
   "execution_count": null,
   "id": "6c994b06",
   "metadata": {},
   "outputs": [],
   "source": [
    "# User defined Funcions"
   ]
  },
  {
   "cell_type": "code",
   "execution_count": 1,
   "id": "4a3bb68c",
   "metadata": {},
   "outputs": [],
   "source": [
    "def Hi():\n",
    "    print(\"good morning\")"
   ]
  },
  {
   "cell_type": "code",
   "execution_count": 2,
   "id": "3c0a1b0c",
   "metadata": {},
   "outputs": [
    {
     "name": "stdout",
     "output_type": "stream",
     "text": [
      "good morning\n"
     ]
    }
   ],
   "source": [
    "Hi()"
   ]
  },
  {
   "cell_type": "code",
   "execution_count": 33,
   "id": "6f6987b3",
   "metadata": {},
   "outputs": [
    {
     "data": {
      "text/plain": [
       "6"
      ]
     },
     "execution_count": 33,
     "metadata": {},
     "output_type": "execute_result"
    }
   ],
   "source": [
    "#  Functional programming\n",
    "def inc(i):\n",
    "    return i+2\n",
    "def dec(i):\n",
    "    return i-2\n",
    "def apply(f_name,n):\n",
    "    return f_name(n)\n",
    "i=4\n",
    "apply(inc,i)"
   ]
  },
  {
   "cell_type": "code",
   "execution_count": 34,
   "id": "e1970c7d",
   "metadata": {},
   "outputs": [
    {
     "data": {
      "text/plain": [
       "2"
      ]
     },
     "execution_count": 34,
     "metadata": {},
     "output_type": "execute_result"
    }
   ],
   "source": [
    "apply(dec,i)"
   ]
  },
  {
   "cell_type": "code",
   "execution_count": null,
   "id": "cd4d5316",
   "metadata": {},
   "outputs": [],
   "source": [
    "# Anonymous function : lambda (keyword)"
   ]
  },
  {
   "cell_type": "code",
   "execution_count": null,
   "id": "5a6da66c",
   "metadata": {},
   "outputs": [],
   "source": [
    "# lambda arguments: expression"
   ]
  },
  {
   "cell_type": "code",
   "execution_count": 3,
   "id": "e4d9b8ee",
   "metadata": {},
   "outputs": [],
   "source": [
    "# square of a number\n",
    "def f1(n):\n",
    "    return (n*n)    "
   ]
  },
  {
   "cell_type": "code",
   "execution_count": 4,
   "id": "f11b4c6b",
   "metadata": {},
   "outputs": [
    {
     "data": {
      "text/plain": [
       "16"
      ]
     },
     "execution_count": 4,
     "metadata": {},
     "output_type": "execute_result"
    }
   ],
   "source": [
    "f1(4)"
   ]
  },
  {
   "cell_type": "code",
   "execution_count": 5,
   "id": "54257701",
   "metadata": {},
   "outputs": [],
   "source": [
    "res=lambda n:n*n"
   ]
  },
  {
   "cell_type": "code",
   "execution_count": 6,
   "id": "c5bae1f9",
   "metadata": {},
   "outputs": [
    {
     "data": {
      "text/plain": [
       "16"
      ]
     },
     "execution_count": 6,
     "metadata": {},
     "output_type": "execute_result"
    }
   ],
   "source": [
    "res(4)"
   ]
  },
  {
   "cell_type": "code",
   "execution_count": 7,
   "id": "e568cadb",
   "metadata": {},
   "outputs": [
    {
     "data": {
      "text/plain": [
       "30"
      ]
     },
     "execution_count": 7,
     "metadata": {},
     "output_type": "execute_result"
    }
   ],
   "source": [
    "# add two numbers\n",
    "res1=lambda a,b:a+b\n",
    "res1(10,20)"
   ]
  },
  {
   "cell_type": "code",
   "execution_count": 10,
   "id": "71a224b3",
   "metadata": {},
   "outputs": [
    {
     "data": {
      "text/plain": [
       "'skkumar'"
      ]
     },
     "execution_count": 10,
     "metadata": {},
     "output_type": "execute_result"
    }
   ],
   "source": [
    "full_name=lambda fname,lname:fname+lname\n",
    "full_name(\"sk\",\"kumar\")"
   ]
  },
  {
   "cell_type": "code",
   "execution_count": 12,
   "id": "d52ecd9c",
   "metadata": {},
   "outputs": [
    {
     "name": "stdout",
     "output_type": "stream",
     "text": [
      "6\n",
      "34\n"
     ]
    }
   ],
   "source": [
    "res3=lambda *args: sum(args)\n",
    "print(res3(1,2,3))\n",
    "print(res3(4,6,7,8,9))"
   ]
  },
  {
   "cell_type": "code",
   "execution_count": null,
   "id": "3358dbae",
   "metadata": {},
   "outputs": [],
   "source": [
    "# find the square of list of numbers using lambda\n"
   ]
  },
  {
   "cell_type": "code",
   "execution_count": 19,
   "id": "f6d27811",
   "metadata": {},
   "outputs": [
    {
     "name": "stdout",
     "output_type": "stream",
     "text": [
      "[4, 16, 36, 64]\n"
     ]
    }
   ],
   "source": [
    "res=[]\n",
    "for i in range(2,10,2):\n",
    "    res.append(i*i)\n",
    "print(res)    "
   ]
  },
  {
   "cell_type": "code",
   "execution_count": 21,
   "id": "e664fdbb",
   "metadata": {},
   "outputs": [
    {
     "data": {
      "text/plain": [
       "[1, 4, 9]"
      ]
     },
     "execution_count": 21,
     "metadata": {},
     "output_type": "execute_result"
    }
   ],
   "source": [
    "res4=lambda *args: [n*n for n in args]\n",
    "res4(1,2,3)"
   ]
  },
  {
   "cell_type": "markdown",
   "id": "193c3adb",
   "metadata": {},
   "source": [
    "## 1.2 Map<a class=\"anchor\" id=\"1.2\"></a>\n",
    "[Back to Day-3](#0.1)"
   ]
  },
  {
   "cell_type": "code",
   "execution_count": 22,
   "id": "94352d8e",
   "metadata": {},
   "outputs": [],
   "source": [
    "# map(function,iter_items)\n"
   ]
  },
  {
   "cell_type": "code",
   "execution_count": 23,
   "id": "17e80100",
   "metadata": {},
   "outputs": [],
   "source": [
    "# function to find the square of a number\n",
    "def sq(n):\n",
    "    return (n*n)"
   ]
  },
  {
   "cell_type": "code",
   "execution_count": 24,
   "id": "2f890be5",
   "metadata": {},
   "outputs": [
    {
     "data": {
      "text/plain": [
       "16"
      ]
     },
     "execution_count": 24,
     "metadata": {},
     "output_type": "execute_result"
    }
   ],
   "source": [
    "sq(4)"
   ]
  },
  {
   "cell_type": "code",
   "execution_count": 25,
   "id": "ae634cd9",
   "metadata": {},
   "outputs": [
    {
     "data": {
      "text/plain": [
       "<map at 0x23618452610>"
      ]
     },
     "execution_count": 25,
     "metadata": {},
     "output_type": "execute_result"
    }
   ],
   "source": [
    "map(sq,range(2,10,2))"
   ]
  },
  {
   "cell_type": "code",
   "execution_count": 26,
   "id": "189061fe",
   "metadata": {},
   "outputs": [
    {
     "data": {
      "text/plain": [
       "[4, 16, 36, 64]"
      ]
     },
     "execution_count": 26,
     "metadata": {},
     "output_type": "execute_result"
    }
   ],
   "source": [
    "# map will return an iterable object\n",
    "list(map(sq,range(2,10,2)))"
   ]
  },
  {
   "cell_type": "code",
   "execution_count": 27,
   "id": "a9182844",
   "metadata": {},
   "outputs": [
    {
     "data": {
      "text/plain": [
       "[4, 16, 36, 64]"
      ]
     },
     "execution_count": 27,
     "metadata": {},
     "output_type": "execute_result"
    }
   ],
   "source": [
    "res5=map(sq,range(2,10,2))\n",
    "list(res5)"
   ]
  },
  {
   "cell_type": "code",
   "execution_count": 28,
   "id": "3790624e",
   "metadata": {},
   "outputs": [
    {
     "data": {
      "text/plain": [
       "[6, 8, 10]"
      ]
     },
     "execution_count": 28,
     "metadata": {},
     "output_type": "execute_result"
    }
   ],
   "source": [
    "l1=[1,2,3]\n",
    "l2=[5,6,7]\n",
    "# res=[1+5,2+6,3+7]=[6,8,10]\n",
    "list(map(lambda n1,n2:n1+n2, l1,l2))\n"
   ]
  },
  {
   "cell_type": "markdown",
   "id": "7c1e5dfc",
   "metadata": {},
   "source": [
    "## 1.3 Filter<a class=\"anchor\" id=\"1.3\"></a>\n",
    "[Back to Day-3](#0.1)"
   ]
  },
  {
   "cell_type": "code",
   "execution_count": 44,
   "id": "a917f285",
   "metadata": {},
   "outputs": [],
   "source": [
    "# filter (function,iterable)"
   ]
  },
  {
   "cell_type": "code",
   "execution_count": 37,
   "id": "8d6b0630",
   "metadata": {},
   "outputs": [
    {
     "data": {
      "text/plain": [
       "[0, 2, 4, 6, 8]"
      ]
     },
     "execution_count": 37,
     "metadata": {},
     "output_type": "execute_result"
    }
   ],
   "source": [
    "L1=[]\n",
    "for i in range(10):\n",
    "    if i%2==0:\n",
    "        L1.append(i)\n",
    "L1    "
   ]
  },
  {
   "cell_type": "code",
   "execution_count": 39,
   "id": "54439f20",
   "metadata": {},
   "outputs": [
    {
     "data": {
      "text/plain": [
       "[2, 5, 8, 11, 14, 17, 20, 23, 26, 29, 32, 35, 38, 41, 44, 47]"
      ]
     },
     "execution_count": 39,
     "metadata": {},
     "output_type": "execute_result"
    }
   ],
   "source": [
    "L2=[]\n",
    "for i in range(2,50,3):\n",
    "    L2.append(i)\n",
    "L2    "
   ]
  },
  {
   "cell_type": "code",
   "execution_count": 40,
   "id": "ca52a0e9",
   "metadata": {},
   "outputs": [],
   "source": [
    "def even(n):\n",
    "    if n%2==0:\n",
    "        return n    "
   ]
  },
  {
   "cell_type": "code",
   "execution_count": 41,
   "id": "fb51d231",
   "metadata": {},
   "outputs": [
    {
     "data": {
      "text/plain": [
       "[2, 8, 14, 20, 26, 32, 38, 44]"
      ]
     },
     "execution_count": 41,
     "metadata": {},
     "output_type": "execute_result"
    }
   ],
   "source": [
    "[i for i in L2 if i%2==0]"
   ]
  },
  {
   "cell_type": "code",
   "execution_count": 42,
   "id": "601de92d",
   "metadata": {},
   "outputs": [
    {
     "data": {
      "text/plain": [
       "[2, 8, 14, 20, 26, 32, 38, 44]"
      ]
     },
     "execution_count": 42,
     "metadata": {},
     "output_type": "execute_result"
    }
   ],
   "source": [
    "list(filter(even,L2))"
   ]
  },
  {
   "cell_type": "code",
   "execution_count": 43,
   "id": "4b22f185",
   "metadata": {},
   "outputs": [
    {
     "data": {
      "text/plain": [
       "[2, 8, 14, 20, 26, 32, 38, 44]"
      ]
     },
     "execution_count": 43,
     "metadata": {},
     "output_type": "execute_result"
    }
   ],
   "source": [
    "list(filter(lambda n: n%2==0,L2))"
   ]
  },
  {
   "cell_type": "markdown",
   "id": "596d7691",
   "metadata": {},
   "source": [
    "# 1.4 Reduce<a class=\"anchor\" id=\"1.4\"></a>\n",
    "[Back to Day-3](#0.1)"
   ]
  },
  {
   "cell_type": "code",
   "execution_count": null,
   "id": "02444fd1",
   "metadata": {},
   "outputs": [],
   "source": [
    "# reduce(function, iter_items) return a single value"
   ]
  },
  {
   "cell_type": "code",
   "execution_count": 45,
   "id": "4c94704c",
   "metadata": {},
   "outputs": [
    {
     "data": {
      "text/plain": [
       "15"
      ]
     },
     "execution_count": 45,
     "metadata": {},
     "output_type": "execute_result"
    }
   ],
   "source": [
    "res=0\n",
    "for i in range(6):\n",
    "    res=res+i\n",
    "res    "
   ]
  },
  {
   "cell_type": "code",
   "execution_count": 46,
   "id": "6177b0fc",
   "metadata": {},
   "outputs": [
    {
     "data": {
      "text/plain": [
       "15"
      ]
     },
     "execution_count": 46,
     "metadata": {},
     "output_type": "execute_result"
    }
   ],
   "source": [
    "1+2+3+4+5"
   ]
  },
  {
   "cell_type": "code",
   "execution_count": 47,
   "id": "bcf7f560",
   "metadata": {},
   "outputs": [],
   "source": [
    "from functools import reduce\n",
    "# wraps()\n",
    "# cache() "
   ]
  },
  {
   "cell_type": "code",
   "execution_count": 48,
   "id": "64fb73a9",
   "metadata": {},
   "outputs": [
    {
     "data": {
      "text/plain": [
       "15"
      ]
     },
     "execution_count": 48,
     "metadata": {},
     "output_type": "execute_result"
    }
   ],
   "source": [
    "L2=[1,2,3,4,5]\n",
    "reduce(lambda n1,n2:n1+n2,L2)   # ((((1+2)+3)+4)+5)"
   ]
  },
  {
   "cell_type": "markdown",
   "id": "f88c9fef",
   "metadata": {},
   "source": [
    "## 1.5 Exception Handling in Python<a class=\"anchor\" id=\"1.5\"></a>\n",
    "[Back to Day-3](#0.1)"
   ]
  },
  {
   "cell_type": "code",
   "execution_count": null,
   "id": "890e4e7b",
   "metadata": {},
   "outputs": [],
   "source": [
    "# try except\n",
    "# try:\n",
    "    # statements which may generate exception\n",
    "# except:\n",
    "    # statements to handle the exception\n",
    "# finally:\n",
    "    # statements which will end the program"
   ]
  },
  {
   "cell_type": "code",
   "execution_count": 49,
   "id": "c50e98d9",
   "metadata": {},
   "outputs": [
    {
     "ename": "ZeroDivisionError",
     "evalue": "division by zero",
     "output_type": "error",
     "traceback": [
      "\u001b[1;31m---------------------------------------------------------------------------\u001b[0m",
      "\u001b[1;31mZeroDivisionError\u001b[0m                         Traceback (most recent call last)",
      "\u001b[1;32m~\\AppData\\Local\\Temp\\ipykernel_101896\\1881249285.py\u001b[0m in \u001b[0;36m<module>\u001b[1;34m\u001b[0m\n\u001b[0;32m      1\u001b[0m \u001b[0mnem\u001b[0m\u001b[1;33m=\u001b[0m\u001b[1;36m10\u001b[0m\u001b[1;33m\u001b[0m\u001b[1;33m\u001b[0m\u001b[0m\n\u001b[0;32m      2\u001b[0m \u001b[0mden\u001b[0m\u001b[1;33m=\u001b[0m\u001b[1;36m0\u001b[0m\u001b[1;33m\u001b[0m\u001b[1;33m\u001b[0m\u001b[0m\n\u001b[1;32m----> 3\u001b[1;33m \u001b[0mdiv\u001b[0m\u001b[1;33m=\u001b[0m\u001b[0mnem\u001b[0m\u001b[1;33m/\u001b[0m\u001b[0mden\u001b[0m\u001b[1;33m\u001b[0m\u001b[1;33m\u001b[0m\u001b[0m\n\u001b[0m\u001b[0;32m      4\u001b[0m \u001b[0mprint\u001b[0m\u001b[1;33m(\u001b[0m\u001b[0mdiv\u001b[0m\u001b[1;33m)\u001b[0m\u001b[1;33m\u001b[0m\u001b[1;33m\u001b[0m\u001b[0m\n",
      "\u001b[1;31mZeroDivisionError\u001b[0m: division by zero"
     ]
    }
   ],
   "source": [
    "nem=10\n",
    "den=0\n",
    "div=nem/den\n",
    "print(div)"
   ]
  },
  {
   "cell_type": "code",
   "execution_count": 51,
   "id": "8a84037f",
   "metadata": {},
   "outputs": [
    {
     "name": "stdout",
     "output_type": "stream",
     "text": [
      "Division not possibe since denominator is zero\n"
     ]
    }
   ],
   "source": [
    "try:\n",
    "    nem=10\n",
    "    den=0\n",
    "    div=nem/den\n",
    "    print(div)\n",
    "except:\n",
    "    print(\"Division not possibe since denominator is zero\")"
   ]
  },
  {
   "cell_type": "code",
   "execution_count": 53,
   "id": "6e344247",
   "metadata": {},
   "outputs": [
    {
     "name": "stdout",
     "output_type": "stream",
     "text": [
      "enter the denominator 0\n",
      "Division not possibe since denominator is zero\n"
     ]
    }
   ],
   "source": [
    "n=int(input(\"enter the denominator \"))\n",
    "try:\n",
    "    nem=10\n",
    "    den=n\n",
    "    div=nem/den\n",
    "    print(div)\n",
    "except:\n",
    "    print(\"Division not possibe since denominator is zero\")\n",
    "else:\n",
    "    nem=10\n",
    "    den=n\n",
    "    div=nem/den\n",
    "    print(div)"
   ]
  },
  {
   "cell_type": "code",
   "execution_count": 54,
   "id": "a4cd3655",
   "metadata": {},
   "outputs": [
    {
     "data": {
      "text/plain": [
       "10"
      ]
     },
     "execution_count": 54,
     "metadata": {},
     "output_type": "execute_result"
    }
   ],
   "source": [
    "n=10\n",
    "n"
   ]
  },
  {
   "cell_type": "code",
   "execution_count": 55,
   "id": "547cd3c8",
   "metadata": {},
   "outputs": [],
   "source": [
    "del n"
   ]
  },
  {
   "cell_type": "code",
   "execution_count": 56,
   "id": "45693dde",
   "metadata": {},
   "outputs": [
    {
     "ename": "NameError",
     "evalue": "name 'n' is not defined",
     "output_type": "error",
     "traceback": [
      "\u001b[1;31m---------------------------------------------------------------------------\u001b[0m",
      "\u001b[1;31mNameError\u001b[0m                                 Traceback (most recent call last)",
      "\u001b[1;32m~\\AppData\\Local\\Temp\\ipykernel_101896\\1249512285.py\u001b[0m in \u001b[0;36m<module>\u001b[1;34m\u001b[0m\n\u001b[1;32m----> 1\u001b[1;33m \u001b[0mn\u001b[0m\u001b[1;33m\u001b[0m\u001b[1;33m\u001b[0m\u001b[0m\n\u001b[0m",
      "\u001b[1;31mNameError\u001b[0m: name 'n' is not defined"
     ]
    }
   ],
   "source": [
    "n"
   ]
  },
  {
   "cell_type": "code",
   "execution_count": 59,
   "id": "57f67d2e",
   "metadata": {},
   "outputs": [
    {
     "name": "stdout",
     "output_type": "stream",
     "text": [
      "Division not possibe since denominator is zero\n",
      "denominator is deleted\n"
     ]
    }
   ],
   "source": [
    "try:\n",
    "    nem=10\n",
    "    den=0\n",
    "    div=nem/den\n",
    "    print(div)\n",
    "except:\n",
    "    print(\"Division not possibe since denominator is zero\")\n",
    "    \n",
    "finally:\n",
    "    del den\n",
    "    print(\"denominator is deleted\")"
   ]
  },
  {
   "cell_type": "code",
   "execution_count": null,
   "id": "f80b2cef",
   "metadata": {},
   "outputs": [],
   "source": []
  }
 ],
 "metadata": {
  "kernelspec": {
   "display_name": "Python 3 (ipykernel)",
   "language": "python",
   "name": "python3"
  },
  "language_info": {
   "codemirror_mode": {
    "name": "ipython",
    "version": 3
   },
   "file_extension": ".py",
   "mimetype": "text/x-python",
   "name": "python",
   "nbconvert_exporter": "python",
   "pygments_lexer": "ipython3",
   "version": "3.10.9"
  }
 },
 "nbformat": 4,
 "nbformat_minor": 5
}
