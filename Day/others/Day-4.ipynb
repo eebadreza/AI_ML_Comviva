{
 "cells": [
  {
   "attachments": {
    "python.png": {
     "image/png": "[encoded data removed]"
    }
   },
   "cell_type": "markdown",
   "id": "e702103e",
   "metadata": {},
   "source": [
    "![python.png](attachment:python.png)"
   ]
  },
  {
   "cell_type": "code",
   "execution_count": 1,
   "id": "91e33d9f",
   "metadata": {},
   "outputs": [],
   "source": [
    "### Python Introduction-Day4"
   ]
  },
  {
   "cell_type": "markdown",
   "id": "65715f6c",
   "metadata": {},
   "source": [
    "<center> <h2 style=\"background-color:orange; color:black\"><br> Numpy<br> </h2>"
   ]
  },
  {
   "cell_type": "code",
   "execution_count": 2,
   "id": "4fc0e875",
   "metadata": {},
   "outputs": [],
   "source": [
    "# Numpy\n",
    "# Data manipulation using Pandas: \n",
    "# Filtering, Sorting, Selecting, Working with dates, files, joining data frames, groupby, merge, pivot\n",
    "# Data Visualization: using matplotlib and seaborn "
   ]
  },
  {
   "cell_type": "code",
   "execution_count": 3,
   "id": "38abd466",
   "metadata": {},
   "outputs": [],
   "source": [
    "# Numpy: Numerical Python for supporting multidimensional arrays\n",
    "# pip install numpy"
   ]
  },
  {
   "cell_type": "code",
   "execution_count": 4,
   "id": "3de42dc8",
   "metadata": {},
   "outputs": [],
   "source": [
    "import numpy as np"
   ]
  },
  {
   "cell_type": "code",
   "execution_count": 5,
   "id": "b4d35413",
   "metadata": {},
   "outputs": [
    {
     "data": {
      "text/plain": [
       "array([1, 2, 3])"
      ]
     },
     "execution_count": 5,
     "metadata": {},
     "output_type": "execute_result"
    }
   ],
   "source": [
    "A1=np.array([1,2,3])\n",
    "A1"
   ]
  },
  {
   "cell_type": "code",
   "execution_count": 6,
   "id": "a28f3053",
   "metadata": {},
   "outputs": [
    {
     "name": "stdout",
     "output_type": "stream",
     "text": [
      "[1 2 3]\n"
     ]
    }
   ],
   "source": [
    "print(A1)"
   ]
  },
  {
   "cell_type": "code",
   "execution_count": 7,
   "id": "ecaa576c",
   "metadata": {},
   "outputs": [
    {
     "name": "stdout",
     "output_type": "stream",
     "text": [
      "[5 6 7 8 9]\n"
     ]
    }
   ],
   "source": [
    "A2=np.arange(5,10)\n",
    "print(A2)"
   ]
  },
  {
   "cell_type": "code",
   "execution_count": 8,
   "id": "ac452873",
   "metadata": {},
   "outputs": [
    {
     "data": {
      "text/plain": [
       "array([0., 0., 0., 0., 0.])"
      ]
     },
     "execution_count": 8,
     "metadata": {},
     "output_type": "execute_result"
    }
   ],
   "source": [
    "A3=np.zeros(5)\n",
    "A3"
   ]
  },
  {
   "cell_type": "code",
   "execution_count": 9,
   "id": "d36fddd1",
   "metadata": {},
   "outputs": [
    {
     "data": {
      "text/plain": [
       "array([1., 1., 1., 1., 1.])"
      ]
     },
     "execution_count": 9,
     "metadata": {},
     "output_type": "execute_result"
    }
   ],
   "source": [
    "A4=np.ones(5)\n",
    "A4"
   ]
  },
  {
   "cell_type": "code",
   "execution_count": 10,
   "id": "2e29e2c8",
   "metadata": {},
   "outputs": [
    {
     "name": "stdout",
     "output_type": "stream",
     "text": [
      "[0.   0.25 0.5  0.75 1.  ]\n"
     ]
    }
   ],
   "source": [
    "A5=np.linspace(0,1,5)\n",
    "print(A5)"
   ]
  },
  {
   "cell_type": "code",
   "execution_count": 11,
   "id": "bc6170f9",
   "metadata": {},
   "outputs": [
    {
     "data": {
      "text/plain": [
       "9"
      ]
     },
     "execution_count": 11,
     "metadata": {},
     "output_type": "execute_result"
    }
   ],
   "source": [
    "np.max(A2)"
   ]
  },
  {
   "cell_type": "code",
   "execution_count": 12,
   "id": "8fe1bce6",
   "metadata": {},
   "outputs": [
    {
     "data": {
      "text/plain": [
       "5"
      ]
     },
     "execution_count": 12,
     "metadata": {},
     "output_type": "execute_result"
    }
   ],
   "source": [
    "np.min(A2)"
   ]
  },
  {
   "cell_type": "code",
   "execution_count": 13,
   "id": "f2b3de4f",
   "metadata": {},
   "outputs": [
    {
     "data": {
      "text/plain": [
       "7.0"
      ]
     },
     "execution_count": 13,
     "metadata": {},
     "output_type": "execute_result"
    }
   ],
   "source": [
    "np.mean(A2)"
   ]
  },
  {
   "cell_type": "code",
   "execution_count": 14,
   "id": "f693475a",
   "metadata": {},
   "outputs": [
    {
     "data": {
      "text/plain": [
       "7.0"
      ]
     },
     "execution_count": 14,
     "metadata": {},
     "output_type": "execute_result"
    }
   ],
   "source": [
    "np.median(A2)"
   ]
  },
  {
   "cell_type": "code",
   "execution_count": 15,
   "id": "4bc17093",
   "metadata": {},
   "outputs": [
    {
     "data": {
      "text/plain": [
       "1.4142135623730951"
      ]
     },
     "execution_count": 15,
     "metadata": {},
     "output_type": "execute_result"
    }
   ],
   "source": [
    "np.std(A2)"
   ]
  },
  {
   "cell_type": "code",
   "execution_count": 16,
   "id": "a3cd4b8d",
   "metadata": {},
   "outputs": [
    {
     "data": {
      "text/plain": [
       "2.0"
      ]
     },
     "execution_count": 16,
     "metadata": {},
     "output_type": "execute_result"
    }
   ],
   "source": [
    "np.var(A2)"
   ]
  },
  {
   "cell_type": "code",
   "execution_count": 17,
   "id": "b3a7c67e",
   "metadata": {},
   "outputs": [
    {
     "data": {
      "text/plain": [
       "array([88,  7, 92, 14])"
      ]
     },
     "execution_count": 17,
     "metadata": {},
     "output_type": "execute_result"
    }
   ],
   "source": [
    "np.random.randint(0,100,4)"
   ]
  },
  {
   "cell_type": "code",
   "execution_count": 18,
   "id": "9950d21b",
   "metadata": {},
   "outputs": [
    {
     "data": {
      "text/plain": [
       "array([0.10442874, 0.33468017, 0.63052344, 0.68716826])"
      ]
     },
     "execution_count": 18,
     "metadata": {},
     "output_type": "execute_result"
    }
   ],
   "source": [
    "np.random.rand(4)"
   ]
  },
  {
   "cell_type": "code",
   "execution_count": 19,
   "id": "2f9c8770",
   "metadata": {},
   "outputs": [
    {
     "data": {
      "text/plain": [
       "array([0., 0., 0., 0.])"
      ]
     },
     "execution_count": 19,
     "metadata": {},
     "output_type": "execute_result"
    }
   ],
   "source": [
    "# one dimension\n",
    "np.zeros(4)"
   ]
  },
  {
   "cell_type": "code",
   "execution_count": 20,
   "id": "e00ca7da",
   "metadata": {},
   "outputs": [
    {
     "data": {
      "text/plain": [
       "array([[0., 0.],\n",
       "       [0., 0.]])"
      ]
     },
     "execution_count": 20,
     "metadata": {},
     "output_type": "execute_result"
    }
   ],
   "source": [
    "# Two Dimension square\n",
    "np.zeros((2,2))"
   ]
  },
  {
   "cell_type": "code",
   "execution_count": 21,
   "id": "6f716d28",
   "metadata": {},
   "outputs": [
    {
     "data": {
      "text/plain": [
       "array([[0., 0., 0., 0.],\n",
       "       [0., 0., 0., 0.],\n",
       "       [0., 0., 0., 0.]])"
      ]
     },
     "execution_count": 21,
     "metadata": {},
     "output_type": "execute_result"
    }
   ],
   "source": [
    "# Two Dimension\n",
    "np.zeros((3,4))"
   ]
  },
  {
   "cell_type": "code",
   "execution_count": 22,
   "id": "2cb7f42b",
   "metadata": {},
   "outputs": [
    {
     "data": {
      "text/plain": [
       "array([[[0., 0., 0., 0.],\n",
       "        [0., 0., 0., 0.],\n",
       "        [0., 0., 0., 0.]],\n",
       "\n",
       "       [[0., 0., 0., 0.],\n",
       "        [0., 0., 0., 0.],\n",
       "        [0., 0., 0., 0.]]])"
      ]
     },
     "execution_count": 22,
     "metadata": {},
     "output_type": "execute_result"
    }
   ],
   "source": [
    "# Three dimension\n",
    "np.zeros((2,3,4))"
   ]
  },
  {
   "cell_type": "code",
   "execution_count": 23,
   "id": "09bde211",
   "metadata": {},
   "outputs": [
    {
     "name": "stdout",
     "output_type": "stream",
     "text": [
      "[[1 3 2]\n",
      " [6 5 4]\n",
      " [8 7 9]]\n"
     ]
    }
   ],
   "source": [
    "A7=np.array([[1,3,2],[6,5,4],[8,7,9]])\n",
    "print(A7)"
   ]
  },
  {
   "cell_type": "code",
   "execution_count": 24,
   "id": "c8b9bfbc",
   "metadata": {},
   "outputs": [
    {
     "name": "stdout",
     "output_type": "stream",
     "text": [
      "[3 2 7 1 8 5 2]\n",
      "[1 2 2 3 5 7 8]\n"
     ]
    }
   ],
   "source": [
    "A8=np.array([3,2,7,1,8,5,2])\n",
    "print(A8)\n",
    "# sort the element\n",
    "print(np.sort(A8))"
   ]
  },
  {
   "cell_type": "code",
   "execution_count": 25,
   "id": "c76913e4",
   "metadata": {},
   "outputs": [
    {
     "data": {
      "text/plain": [
       "array([1, 2, 3, 4, 5, 6, 7, 8, 9])"
      ]
     },
     "execution_count": 25,
     "metadata": {},
     "output_type": "execute_result"
    }
   ],
   "source": [
    "# sort the entire array\n",
    "np.sort(A7,axis=None)"
   ]
  },
  {
   "cell_type": "code",
   "execution_count": 26,
   "id": "a058844b",
   "metadata": {},
   "outputs": [
    {
     "data": {
      "text/plain": [
       "array([[1, 2, 3],\n",
       "       [4, 5, 6],\n",
       "       [7, 8, 9]])"
      ]
     },
     "execution_count": 26,
     "metadata": {},
     "output_type": "execute_result"
    }
   ],
   "source": [
    "# sort the array along each row\n",
    "np.sort(A7,axis=1)"
   ]
  },
  {
   "cell_type": "code",
   "execution_count": 27,
   "id": "8a6253b4",
   "metadata": {},
   "outputs": [
    {
     "name": "stdout",
     "output_type": "stream",
     "text": [
      "[[10  3  2]\n",
      " [ 6  5  4]\n",
      " [18  7  9]]\n",
      "\n",
      "[[ 6  3  2]\n",
      " [10  5  4]\n",
      " [18  7  9]]\n"
     ]
    }
   ],
   "source": [
    "# sort the array along each column\n",
    "A8=np.array([[10,3,2],[6,5,4],[18,7,9]])\n",
    "print(A8)\n",
    "print()\n",
    "print(np.sort(A8,axis=0))"
   ]
  },
  {
   "cell_type": "code",
   "execution_count": 28,
   "id": "9d8c9d65",
   "metadata": {},
   "outputs": [
    {
     "data": {
      "text/plain": [
       "array([10, 20, 30])"
      ]
     },
     "execution_count": 28,
     "metadata": {},
     "output_type": "execute_result"
    }
   ],
   "source": [
    "# Add rows and columns\n",
    "# Add a row\n",
    "R4=np.array([10,20,30])\n",
    "R4"
   ]
  },
  {
   "cell_type": "code",
   "execution_count": 29,
   "id": "2bdfba8c",
   "metadata": {},
   "outputs": [
    {
     "name": "stdout",
     "output_type": "stream",
     "text": [
      "[[10  3  2]\n",
      " [ 6  5  4]\n",
      " [18  7  9]\n",
      " [10 20 30]]\n"
     ]
    }
   ],
   "source": [
    "A8_New=np.vstack((A8,R4))\n",
    "print(A8_New)"
   ]
  },
  {
   "cell_type": "code",
   "execution_count": 30,
   "id": "d2bfb38e",
   "metadata": {},
   "outputs": [
    {
     "data": {
      "text/plain": [
       "array([100, 100, 100, 100])"
      ]
     },
     "execution_count": 30,
     "metadata": {},
     "output_type": "execute_result"
    }
   ],
   "source": [
    "# Add a column\n",
    "C4=np.array([100,100,100,100])\n",
    "C4"
   ]
  },
  {
   "cell_type": "code",
   "execution_count": 31,
   "id": "90c39963",
   "metadata": {},
   "outputs": [
    {
     "name": "stdout",
     "output_type": "stream",
     "text": [
      "[[ 10   3   2 100]\n",
      " [  6   5   4 100]\n",
      " [ 18   7   9 100]\n",
      " [ 10  20  30 100]]\n"
     ]
    }
   ],
   "source": [
    "A8_New=np.column_stack((A8_New,C4))\n",
    "print(A8_New)"
   ]
  },
  {
   "cell_type": "code",
   "execution_count": 32,
   "id": "981a3136",
   "metadata": {},
   "outputs": [
    {
     "data": {
      "text/plain": [
       "array([[ 10,   3,   2, 100],\n",
       "       [  6,   5,   4, 100],\n",
       "       [ 18,   7,   9, 100],\n",
       "       [ 10,  20,  30, 100]])"
      ]
     },
     "execution_count": 32,
     "metadata": {},
     "output_type": "execute_result"
    }
   ],
   "source": [
    "A8_New"
   ]
  },
  {
   "cell_type": "code",
   "execution_count": 33,
   "id": "d3419e07",
   "metadata": {},
   "outputs": [
    {
     "name": "stdout",
     "output_type": "stream",
     "text": [
      "[[1 3 2]\n",
      " [6 5 4]\n",
      " [8 7 9]]\n",
      "[[8 7 9]\n",
      " [6 5 4]\n",
      " [1 3 2]]\n"
     ]
    }
   ],
   "source": [
    "# reverse\n",
    "print(A7)\n",
    "print(np.flipud(A7))"
   ]
  },
  {
   "cell_type": "code",
   "execution_count": 34,
   "id": "60b5bd1f",
   "metadata": {},
   "outputs": [
    {
     "name": "stdout",
     "output_type": "stream",
     "text": [
      "[1 2 3 4 5]\n",
      "[5 4 3 2 1]\n"
     ]
    }
   ],
   "source": [
    "# reverse\n",
    "A11=np.array([1,2,3,4,5])\n",
    "print(A11)\n",
    "print(np.flipud(A11))"
   ]
  },
  {
   "cell_type": "code",
   "execution_count": 35,
   "id": "1ae859ea",
   "metadata": {},
   "outputs": [
    {
     "name": "stdout",
     "output_type": "stream",
     "text": [
      "10\n",
      "[[10  7]\n",
      " [ 8  8]]\n"
     ]
    }
   ],
   "source": [
    "# Matrix operations\n",
    "M1=[[1,2],\n",
    "    [2,1]]\n",
    "#print(M1)\n",
    "\n",
    "M2=[[2,3],\n",
    "    [4,2]]\n",
    "#print(M2)\n",
    "\n",
    "# dot for matrix multiplication\n",
    "\n",
    "print((1*2)+(2*4))\n",
    "res=np.dot(M1,M2)  \n",
    "print(res)"
   ]
  },
  {
   "cell_type": "code",
   "execution_count": 36,
   "id": "323d3ecc",
   "metadata": {},
   "outputs": [
    {
     "data": {
      "text/plain": [
       "array([[2, 6],\n",
       "       [8, 2]])"
      ]
     },
     "execution_count": 36,
     "metadata": {},
     "output_type": "execute_result"
    }
   ],
   "source": [
    "# multiplication\n",
    "res1=np.multiply(M1,M2)\n",
    "res1"
   ]
  },
  {
   "cell_type": "code",
   "execution_count": 37,
   "id": "c0be0a54",
   "metadata": {},
   "outputs": [
    {
     "data": {
      "text/plain": [
       "array([[3, 5],\n",
       "       [6, 3]])"
      ]
     },
     "execution_count": 37,
     "metadata": {},
     "output_type": "execute_result"
    }
   ],
   "source": [
    "# add\n",
    "res2=np.add(M1,M2)\n",
    "res2"
   ]
  },
  {
   "cell_type": "code",
   "execution_count": 38,
   "id": "b4e3ee2c",
   "metadata": {},
   "outputs": [
    {
     "data": {
      "text/plain": [
       "array([[1, 2],\n",
       "       [2, 1]])"
      ]
     },
     "execution_count": 38,
     "metadata": {},
     "output_type": "execute_result"
    }
   ],
   "source": [
    "# copy to copy a matrix\n",
    "M3=np.copy(M1)\n",
    "M3"
   ]
  },
  {
   "cell_type": "code",
   "execution_count": 39,
   "id": "306fc2ea",
   "metadata": {},
   "outputs": [
    {
     "data": {
      "text/plain": [
       "array([[1, 2],\n",
       "       [2, 1],\n",
       "       [2, 3],\n",
       "       [4, 2]])"
      ]
     },
     "execution_count": 39,
     "metadata": {},
     "output_type": "execute_result"
    }
   ],
   "source": [
    "# concatenate\n",
    "M4=np.concatenate((M1,M2))\n",
    "M4"
   ]
  },
  {
   "cell_type": "code",
   "execution_count": 40,
   "id": "3099ff77",
   "metadata": {},
   "outputs": [
    {
     "data": {
      "text/plain": [
       "array([1, 2, 2, 1, 2, 3, 4, 2])"
      ]
     },
     "execution_count": 40,
     "metadata": {},
     "output_type": "execute_result"
    }
   ],
   "source": [
    "# concatenate\n",
    "np.concatenate((M1,M2), axis=None)"
   ]
  },
  {
   "cell_type": "code",
   "execution_count": 41,
   "id": "83c6da63",
   "metadata": {},
   "outputs": [
    {
     "data": {
      "text/plain": [
       "array([[1, 2, 2, 4],\n",
       "       [2, 1, 3, 2]])"
      ]
     },
     "execution_count": 41,
     "metadata": {},
     "output_type": "execute_result"
    }
   ],
   "source": [
    "# transpose \n",
    "np.transpose(M4)"
   ]
  },
  {
   "cell_type": "code",
   "execution_count": 42,
   "id": "6fe2bfd8",
   "metadata": {},
   "outputs": [
    {
     "name": "stdout",
     "output_type": "stream",
     "text": [
      "-2.9999999999999996\n",
      "[[1 2]\n",
      " [2 1]]\n",
      "-0.33333333333333337\n",
      "[[-0.33333333  0.66666667]\n",
      " [ 0.66666667 -0.33333333]]\n"
     ]
    }
   ],
   "source": [
    "# inverse\n",
    "M1\n",
    "print(np.linalg.det(M1))\n",
    "print(np.transpose(M1))\n",
    "print(1/np.linalg.det(M1))\n",
    "print(np.linalg.inv(M1))"
   ]
  },
  {
   "cell_type": "code",
   "execution_count": 43,
   "id": "8a258fa2",
   "metadata": {},
   "outputs": [
    {
     "data": {
      "text/plain": [
       "array([[1, 3, 2],\n",
       "       [6, 5, 4],\n",
       "       [8, 7, 9]])"
      ]
     },
     "execution_count": 43,
     "metadata": {},
     "output_type": "execute_result"
    }
   ],
   "source": [
    "# trace of matrix : sum of the diagonal elements\n",
    "A7"
   ]
  },
  {
   "cell_type": "code",
   "execution_count": 44,
   "id": "5180a99c",
   "metadata": {},
   "outputs": [
    {
     "data": {
      "text/plain": [
       "15"
      ]
     },
     "execution_count": 44,
     "metadata": {},
     "output_type": "execute_result"
    }
   ],
   "source": [
    "np.trace(A7)"
   ]
  },
  {
   "cell_type": "code",
   "execution_count": 45,
   "id": "c410a928",
   "metadata": {},
   "outputs": [
    {
     "data": {
      "text/plain": [
       "[[1, 2], [2, 1]]"
      ]
     },
     "execution_count": 45,
     "metadata": {},
     "output_type": "execute_result"
    }
   ],
   "source": [
    "# exponents \n",
    "M1"
   ]
  },
  {
   "cell_type": "code",
   "execution_count": 46,
   "id": "6991bd58",
   "metadata": {},
   "outputs": [
    {
     "data": {
      "text/plain": [
       "array([[2.71828183, 7.3890561 ],\n",
       "       [7.3890561 , 2.71828183]])"
      ]
     },
     "execution_count": 46,
     "metadata": {},
     "output_type": "execute_result"
    }
   ],
   "source": [
    "np.exp(M1)"
   ]
  },
  {
   "cell_type": "code",
   "execution_count": 47,
   "id": "05cab135",
   "metadata": {},
   "outputs": [
    {
     "data": {
      "text/plain": [
       "array([[1.        , 1.41421356],\n",
       "       [1.41421356, 1.        ]])"
      ]
     },
     "execution_count": 47,
     "metadata": {},
     "output_type": "execute_result"
    }
   ],
   "source": [
    "# square root\n",
    "np.sqrt(M1)"
   ]
  },
  {
   "cell_type": "code",
   "execution_count": 48,
   "id": "f485a387",
   "metadata": {},
   "outputs": [
    {
     "data": {
      "text/plain": [
       "array([ 5,  4,  2,  6, 11,  7,  1,  8,  3,  9])"
      ]
     },
     "execution_count": 48,
     "metadata": {},
     "output_type": "execute_result"
    }
   ],
   "source": [
    "# reshaping the array\n",
    "A9=np.array([5, 4, 2, 6, 11, 7, 1, 8, 3, 9])\n",
    "A9"
   ]
  },
  {
   "cell_type": "code",
   "execution_count": 49,
   "id": "81aacd40",
   "metadata": {},
   "outputs": [
    {
     "data": {
      "text/plain": [
       "array([[ 5,  4,  2,  6, 11],\n",
       "       [ 7,  1,  8,  3,  9]])"
      ]
     },
     "execution_count": 49,
     "metadata": {},
     "output_type": "execute_result"
    }
   ],
   "source": [
    "A9_New=A9.reshape(2,5)\n",
    "A9_New"
   ]
  },
  {
   "cell_type": "code",
   "execution_count": 50,
   "id": "c060b302",
   "metadata": {},
   "outputs": [
    {
     "data": {
      "text/plain": [
       "array([[ 5,  4],\n",
       "       [ 2,  6],\n",
       "       [11,  7],\n",
       "       [ 1,  8],\n",
       "       [ 3,  9]])"
      ]
     },
     "execution_count": 50,
     "metadata": {},
     "output_type": "execute_result"
    }
   ],
   "source": [
    "A9_New=A9.reshape(5,2)\n",
    "A9_New\n"
   ]
  },
  {
   "cell_type": "code",
   "execution_count": 51,
   "id": "2800b28d",
   "metadata": {},
   "outputs": [
    {
     "name": "stdout",
     "output_type": "stream",
     "text": [
      "[[[1 2 3 4]\n",
      "  [5 6 7 8]]\n",
      "\n",
      " [[1 2 3 4]\n",
      "  [5 6 7 8]]]\n",
      "(2, 2, 4)\n"
     ]
    }
   ],
   "source": [
    "# dimension of an array\n",
    "A10=np.array([[[1,2,3,4],\n",
    "               [5,6,7,8]\n",
    "              ],\n",
    "             [[1,2,3,4],\n",
    "              [5,6,7,8]]])\n",
    "\n",
    "print(A10)\n",
    "print(A10.shape)"
   ]
  },
  {
   "cell_type": "code",
   "execution_count": 52,
   "id": "f7b31ec2",
   "metadata": {},
   "outputs": [
    {
     "name": "stdout",
     "output_type": "stream",
     "text": [
      "[[[1, 2, 3, 4], [5, 6, 7, 8]], [[1, 2, 3, 4], [5, 6, 7, 8]]]\n"
     ]
    }
   ],
   "source": [
    "# convert numpy array to list\n",
    "A10_new=A10.tolist()\n",
    "print(A10_new)"
   ]
  },
  {
   "cell_type": "code",
   "execution_count": 53,
   "id": "027a4550",
   "metadata": {},
   "outputs": [
    {
     "name": "stdout",
     "output_type": "stream",
     "text": [
      "[[[1 2 3 4]\n",
      "  [5 6 7 8]]\n",
      "\n",
      " [[1 2 3 4]\n",
      "  [5 6 7 8]]]\n"
     ]
    }
   ],
   "source": [
    "# convert list to array\n",
    "A10_new1=np.array(A10_new)\n",
    "print(A10_new1)"
   ]
  },
  {
   "cell_type": "code",
   "execution_count": 54,
   "id": "e3eab111",
   "metadata": {},
   "outputs": [
    {
     "name": "stdout",
     "output_type": "stream",
     "text": [
      "int32\n"
     ]
    }
   ],
   "source": [
    "# data type\n",
    "print(A10_new1.dtype)"
   ]
  },
  {
   "cell_type": "code",
   "execution_count": 55,
   "id": "9c3f10f4",
   "metadata": {},
   "outputs": [
    {
     "name": "stdout",
     "output_type": "stream",
     "text": [
      "[1. 2. 4.]\n",
      "float64\n"
     ]
    }
   ],
   "source": [
    "A12=np.array([1,2,4],dtype=np.float64)\n",
    "print(A12)\n",
    "print(A12.dtype)"
   ]
  },
  {
   "cell_type": "code",
   "execution_count": 56,
   "id": "0e1493e4",
   "metadata": {},
   "outputs": [
    {
     "data": {
      "text/plain": [
       "array([5, 6, 7])"
      ]
     },
     "execution_count": 56,
     "metadata": {},
     "output_type": "execute_result"
    }
   ],
   "source": [
    "A13=np.array([5,6,7])\n",
    "A13"
   ]
  },
  {
   "cell_type": "code",
   "execution_count": 57,
   "id": "2c95cd81",
   "metadata": {},
   "outputs": [
    {
     "data": {
      "text/plain": [
       "array([1., 2., 4., 5., 6., 7.])"
      ]
     },
     "execution_count": 57,
     "metadata": {},
     "output_type": "execute_result"
    }
   ],
   "source": [
    "A14=np.append(A12,A13)\n",
    "A14"
   ]
  },
  {
   "cell_type": "code",
   "execution_count": 58,
   "id": "6da60fb5",
   "metadata": {},
   "outputs": [
    {
     "ename": "SyntaxError",
     "evalue": "invalid syntax (3110819264.py, line 1)",
     "output_type": "error",
     "traceback": [
      "\u001b[1;36m  File \u001b[1;32m\"C:\\Users\\sailajak\\AppData\\Local\\Temp\\ipykernel_39940\\3110819264.py\"\u001b[1;36m, line \u001b[1;32m1\u001b[0m\n\u001b[1;33m    <center> <h2 style=\"background-color:green; color:black\"><br> Numpy for file handling <br> </h2>\u001b[0m\n\u001b[1;37m    ^\u001b[0m\n\u001b[1;31mSyntaxError\u001b[0m\u001b[1;31m:\u001b[0m invalid syntax\n"
     ]
    }
   ],
   "source": [
    "<center> <h2 style=\"background-color:green; color:black\"><br> Numpy for file handling <br> </h2>"
   ]
  },
  {
   "cell_type": "code",
   "execution_count": null,
   "id": "9997e8f6",
   "metadata": {},
   "outputs": [],
   "source": [
    "import csv"
   ]
  },
  {
   "cell_type": "code",
   "execution_count": null,
   "id": "21b65118",
   "metadata": {},
   "outputs": [],
   "source": [
    "wine_data=np.genfromtxt('D:/AI_ML/winequality-red.csv', delimiter=';',skip_header=1)\n",
    "print(wine_data)"
   ]
  },
  {
   "cell_type": "code",
   "execution_count": null,
   "id": "e10f60a6",
   "metadata": {},
   "outputs": [],
   "source": [
    "wine_data1=[]\n",
    "with open('winequality-red.csv','r') as f:\n",
    "    reader=csv.reader(f,delimiter=';')\n",
    "    wine_data1=list(reader)\n",
    "    \n",
    "#print(wine_data1)    "
   ]
  },
  {
   "cell_type": "code",
   "execution_count": null,
   "id": "68f1028b",
   "metadata": {},
   "outputs": [],
   "source": [
    "print(wine_data1[:3])"
   ]
  },
  {
   "cell_type": "code",
   "execution_count": null,
   "id": "5711056d",
   "metadata": {},
   "outputs": [],
   "source": [
    "wine_data2=np.array(wine_data1[1:])"
   ]
  },
  {
   "cell_type": "code",
   "execution_count": null,
   "id": "76eb654f",
   "metadata": {},
   "outputs": [],
   "source": [
    "wine_data2.shape"
   ]
  },
  {
   "cell_type": "code",
   "execution_count": null,
   "id": "38e72a62",
   "metadata": {},
   "outputs": [],
   "source": [
    "np.transpose(wine_data2).shape"
   ]
  },
  {
   "cell_type": "markdown",
   "id": "c758a887",
   "metadata": {},
   "source": [
    "<center> <h2 style=\"background-color:red; color:black\"><br> Pandas <br> </h2>"
   ]
  },
  {
   "cell_type": "code",
   "execution_count": 60,
   "id": "28971486",
   "metadata": {},
   "outputs": [],
   "source": [
    "# open source library\n",
    "# working with alpha numeric data\n",
    "# it is having all the functionality of numpy\n",
    "# data structures : series and dataframe\n",
    "import pandas as pd"
   ]
  },
  {
   "cell_type": "code",
   "execution_count": 75,
   "id": "20cd39ad",
   "metadata": {},
   "outputs": [
    {
     "data": {
      "text/plain": [
       "0    50\n",
       "1    45\n",
       "2    35\n",
       "3    48\n",
       "4    50\n",
       "dtype: int64"
      ]
     },
     "execution_count": 75,
     "metadata": {},
     "output_type": "execute_result"
    }
   ],
   "source": [
    "# series is one dimensional array for storing any data type\n",
    "S1=pd.Series([50,45,35,48,50])\n",
    "S1"
   ]
  },
  {
   "cell_type": "code",
   "execution_count": 76,
   "id": "42ec5a90",
   "metadata": {},
   "outputs": [
    {
     "data": {
      "text/plain": [
       "48"
      ]
     },
     "execution_count": 76,
     "metadata": {},
     "output_type": "execute_result"
    }
   ],
   "source": [
    "S1[3]"
   ]
  },
  {
   "cell_type": "code",
   "execution_count": 77,
   "id": "e1811879",
   "metadata": {},
   "outputs": [
    {
     "data": {
      "text/plain": [
       "S1    50\n",
       "S2    45\n",
       "S3    35\n",
       "S4    48\n",
       "S5    50\n",
       "dtype: int64"
      ]
     },
     "execution_count": 77,
     "metadata": {},
     "output_type": "execute_result"
    }
   ],
   "source": [
    "# index can be added\n",
    "from pandas import Series\n",
    "S2=Series([50,45,35,48,50],index=['S1','S2','S3','S4','S5'])\n",
    "S2"
   ]
  },
  {
   "cell_type": "code",
   "execution_count": 78,
   "id": "c212a828",
   "metadata": {},
   "outputs": [
    {
     "data": {
      "text/plain": [
       "35"
      ]
     },
     "execution_count": 78,
     "metadata": {},
     "output_type": "execute_result"
    }
   ],
   "source": [
    "S2['S3']"
   ]
  },
  {
   "cell_type": "code",
   "execution_count": null,
   "id": "b75ff400",
   "metadata": {},
   "outputs": [],
   "source": [
    "S2['S3']=38\n",
    "S2"
   ]
  },
  {
   "cell_type": "code",
   "execution_count": null,
   "id": "551160dc",
   "metadata": {},
   "outputs": [],
   "source": [
    "S2['S6']=30\n",
    "S2"
   ]
  },
  {
   "cell_type": "code",
   "execution_count": null,
   "id": "851020f6",
   "metadata": {},
   "outputs": [],
   "source": [
    "S2.values"
   ]
  },
  {
   "cell_type": "code",
   "execution_count": null,
   "id": "a61e1439",
   "metadata": {},
   "outputs": [],
   "source": [
    "S2.index"
   ]
  },
  {
   "cell_type": "code",
   "execution_count": 79,
   "id": "1d77ee2c",
   "metadata": {},
   "outputs": [],
   "source": [
    "# append is to add an object\n",
    "S3=Series([50, 45, 38],index=['S7', 'S8', 'S9'])"
   ]
  },
  {
   "cell_type": "code",
   "execution_count": 80,
   "id": "5a772ec2",
   "metadata": {},
   "outputs": [
    {
     "data": {
      "text/plain": [
       "S7    50\n",
       "S8    45\n",
       "S9    38\n",
       "dtype: int64"
      ]
     },
     "execution_count": 80,
     "metadata": {},
     "output_type": "execute_result"
    }
   ],
   "source": [
    "S3"
   ]
  },
  {
   "cell_type": "code",
   "execution_count": 81,
   "id": "88a22463",
   "metadata": {},
   "outputs": [
    {
     "data": {
      "text/plain": [
       "S1    50\n",
       "S2    45\n",
       "S3    35\n",
       "S4    48\n",
       "S5    50\n",
       "dtype: int64"
      ]
     },
     "execution_count": 81,
     "metadata": {},
     "output_type": "execute_result"
    }
   ],
   "source": [
    "S2"
   ]
  },
  {
   "cell_type": "code",
   "execution_count": null,
   "id": "45051d11",
   "metadata": {},
   "outputs": [],
   "source": [
    "# S4=S2.append(S3)\n",
    "# S4"
   ]
  },
  {
   "cell_type": "code",
   "execution_count": null,
   "id": "bc86bfed",
   "metadata": {},
   "outputs": [],
   "source": [
    "# import pandas as pd\n",
    "# # Create two Pandas Series from list\n",
    "# ser1 = pd.Series(['python', 'php', 'java'])\n",
    "# print(ser1)\n",
    "# ser2 = pd.Series(['Spark', 'PySpark', 'Pandas'])\n",
    "# print(ser2)"
   ]
  },
  {
   "cell_type": "code",
   "execution_count": null,
   "id": "58065f2c",
   "metadata": {},
   "outputs": [],
   "source": [
    "# append_ser = ser1.append(ser2)\n",
    "# print(append_ser)"
   ]
  },
  {
   "cell_type": "code",
   "execution_count": 65,
   "id": "00417adc",
   "metadata": {},
   "outputs": [
    {
     "data": {
      "text/plain": [
       "0    1\n",
       "1    3\n",
       "2    4\n",
       "3    6\n",
       "dtype: int64"
      ]
     },
     "execution_count": 65,
     "metadata": {},
     "output_type": "execute_result"
    }
   ],
   "source": [
    "L1=[1,3,4,6]\n",
    "L1S=pd.Series(L1)\n",
    "L1S"
   ]
  },
  {
   "cell_type": "code",
   "execution_count": 63,
   "id": "5ec6a6ab",
   "metadata": {},
   "outputs": [],
   "source": [
    "A1=np.array([1,3,4,6])"
   ]
  },
  {
   "cell_type": "code",
   "execution_count": 64,
   "id": "d4cba64f",
   "metadata": {},
   "outputs": [
    {
     "data": {
      "text/plain": [
       "array([1, 3, 4, 6])"
      ]
     },
     "execution_count": 64,
     "metadata": {},
     "output_type": "execute_result"
    }
   ],
   "source": [
    "A1"
   ]
  },
  {
   "cell_type": "code",
   "execution_count": 66,
   "id": "7d1da804",
   "metadata": {},
   "outputs": [
    {
     "data": {
      "text/plain": [
       "0    1\n",
       "1    3\n",
       "2    4\n",
       "3    6\n",
       "dtype: int32"
      ]
     },
     "execution_count": 66,
     "metadata": {},
     "output_type": "execute_result"
    }
   ],
   "source": [
    "A1S=pd.Series(A1)\n",
    "A1S"
   ]
  },
  {
   "cell_type": "code",
   "execution_count": 67,
   "id": "fa151d3b",
   "metadata": {},
   "outputs": [
    {
     "data": {
      "text/plain": [
       "{'name': 'Apple', 'color': 'red', 'qty': 10}"
      ]
     },
     "execution_count": 67,
     "metadata": {},
     "output_type": "execute_result"
    }
   ],
   "source": [
    "D1={\"name\":\"Apple\",\"color\":\"red\",\"qty\":10,}\n",
    "D1"
   ]
  },
  {
   "cell_type": "code",
   "execution_count": 68,
   "id": "f2f6ef93",
   "metadata": {},
   "outputs": [
    {
     "data": {
      "text/plain": [
       "name     Apple\n",
       "color      red\n",
       "qty         10\n",
       "dtype: object"
      ]
     },
     "execution_count": 68,
     "metadata": {},
     "output_type": "execute_result"
    }
   ],
   "source": [
    "D1S=pd.Series(D1)\n",
    "D1S"
   ]
  },
  {
   "cell_type": "code",
   "execution_count": 69,
   "id": "b01e4a8a",
   "metadata": {},
   "outputs": [
    {
     "data": {
      "text/plain": [
       "name     Apple\n",
       "color      red\n",
       "dtype: object"
      ]
     },
     "execution_count": 69,
     "metadata": {},
     "output_type": "execute_result"
    }
   ],
   "source": [
    "D1S.head(2)"
   ]
  },
  {
   "cell_type": "code",
   "execution_count": 70,
   "id": "11a1047a",
   "metadata": {},
   "outputs": [
    {
     "data": {
      "text/plain": [
       "color    red\n",
       "qty       10\n",
       "dtype: object"
      ]
     },
     "execution_count": 70,
     "metadata": {},
     "output_type": "execute_result"
    }
   ],
   "source": [
    "D1S.tail(2)"
   ]
  },
  {
   "cell_type": "code",
   "execution_count": 71,
   "id": "14509bd4",
   "metadata": {},
   "outputs": [
    {
     "data": {
      "text/plain": [
       "0    1\n",
       "1    3\n",
       "2    4\n",
       "3    6\n",
       "dtype: int32"
      ]
     },
     "execution_count": 71,
     "metadata": {},
     "output_type": "execute_result"
    }
   ],
   "source": [
    "A1S"
   ]
  },
  {
   "cell_type": "code",
   "execution_count": 72,
   "id": "8bc9c155",
   "metadata": {},
   "outputs": [
    {
     "data": {
      "text/plain": [
       "4"
      ]
     },
     "execution_count": 72,
     "metadata": {},
     "output_type": "execute_result"
    }
   ],
   "source": [
    "# retrieve using iloc[] and loc[] integer location and location\n",
    "A1S.iloc[2]"
   ]
  },
  {
   "cell_type": "code",
   "execution_count": 73,
   "id": "ce8d6d6f",
   "metadata": {},
   "outputs": [
    {
     "data": {
      "text/plain": [
       "0    1\n",
       "1    3\n",
       "2    4\n",
       "dtype: int32"
      ]
     },
     "execution_count": 73,
     "metadata": {},
     "output_type": "execute_result"
    }
   ],
   "source": [
    "# iloc for slicing the series\n",
    "A1S.iloc[0:3]"
   ]
  },
  {
   "cell_type": "code",
   "execution_count": 82,
   "id": "46e2b98d",
   "metadata": {},
   "outputs": [
    {
     "data": {
      "text/plain": [
       "S1    50\n",
       "S2    45\n",
       "S3    35\n",
       "S4    48\n",
       "S5    50\n",
       "dtype: int64"
      ]
     },
     "execution_count": 82,
     "metadata": {},
     "output_type": "execute_result"
    }
   ],
   "source": [
    "# loc works with custom indexex.\n",
    "S2"
   ]
  },
  {
   "cell_type": "code",
   "execution_count": 84,
   "id": "4676028b",
   "metadata": {},
   "outputs": [
    {
     "data": {
      "text/plain": [
       "S4    48\n",
       "S2    45\n",
       "dtype: int64"
      ]
     },
     "execution_count": 84,
     "metadata": {},
     "output_type": "execute_result"
    }
   ],
   "source": [
    "S2.loc[[\"S4\",\"S2\"]]"
   ]
  },
  {
   "cell_type": "code",
   "execution_count": 85,
   "id": "ad8f5d39",
   "metadata": {},
   "outputs": [
    {
     "data": {
      "text/plain": [
       "Index(['S1', 'S2', 'S3', 'S4', 'S5'], dtype='object')"
      ]
     },
     "execution_count": 85,
     "metadata": {},
     "output_type": "execute_result"
    }
   ],
   "source": [
    "# sort two options sort_index, sort_values\n",
    "S2.index"
   ]
  },
  {
   "cell_type": "code",
   "execution_count": 86,
   "id": "80d87427",
   "metadata": {},
   "outputs": [
    {
     "data": {
      "text/plain": [
       "array([50, 45, 35, 48, 50], dtype=int64)"
      ]
     },
     "execution_count": 86,
     "metadata": {},
     "output_type": "execute_result"
    }
   ],
   "source": [
    "S2.values"
   ]
  },
  {
   "cell_type": "code",
   "execution_count": 87,
   "id": "59ac9a93",
   "metadata": {},
   "outputs": [
    {
     "data": {
      "text/plain": [
       "S3    35\n",
       "S2    45\n",
       "S4    48\n",
       "S1    50\n",
       "S5    50\n",
       "dtype: int64"
      ]
     },
     "execution_count": 87,
     "metadata": {},
     "output_type": "execute_result"
    }
   ],
   "source": [
    "S2.sort_values()"
   ]
  },
  {
   "cell_type": "code",
   "execution_count": 88,
   "id": "169352a3",
   "metadata": {},
   "outputs": [
    {
     "data": {
      "text/plain": [
       "S1    50\n",
       "S2    45\n",
       "S3    35\n",
       "S4    48\n",
       "S5    50\n",
       "dtype: int64"
      ]
     },
     "execution_count": 88,
     "metadata": {},
     "output_type": "execute_result"
    }
   ],
   "source": [
    "S2"
   ]
  },
  {
   "cell_type": "code",
   "execution_count": 89,
   "id": "9605b1fc",
   "metadata": {},
   "outputs": [],
   "source": [
    "S2.sort_values(inplace=True)"
   ]
  },
  {
   "cell_type": "code",
   "execution_count": 90,
   "id": "0d417d88",
   "metadata": {},
   "outputs": [
    {
     "data": {
      "text/plain": [
       "S3    35\n",
       "S2    45\n",
       "S4    48\n",
       "S1    50\n",
       "S5    50\n",
       "dtype: int64"
      ]
     },
     "execution_count": 90,
     "metadata": {},
     "output_type": "execute_result"
    }
   ],
   "source": [
    "S2"
   ]
  },
  {
   "cell_type": "code",
   "execution_count": 91,
   "id": "3709cb84",
   "metadata": {},
   "outputs": [
    {
     "data": {
      "text/plain": [
       "S1    50\n",
       "S5    50\n",
       "S4    48\n",
       "S2    45\n",
       "S3    35\n",
       "dtype: int64"
      ]
     },
     "execution_count": 91,
     "metadata": {},
     "output_type": "execute_result"
    }
   ],
   "source": [
    "S2.sort_values(ascending =False, inplace=True)\n",
    "S2"
   ]
  },
  {
   "cell_type": "code",
   "execution_count": 93,
   "id": "5d2ce5ad",
   "metadata": {},
   "outputs": [
    {
     "data": {
      "text/plain": [
       "45.6"
      ]
     },
     "execution_count": 93,
     "metadata": {},
     "output_type": "execute_result"
    }
   ],
   "source": [
    "# sum, max, min, mean, median\n",
    "# average mark\n",
    "S2.mean()"
   ]
  },
  {
   "cell_type": "code",
   "execution_count": 96,
   "id": "875211f0",
   "metadata": {},
   "outputs": [
    {
     "data": {
      "text/plain": [
       "sum                    228\n",
       "max                     50\n",
       "min                     35\n",
       "mean                  45.6\n",
       "median                48.0\n",
       "unique    [50, 45, 35, 48]\n",
       "count                    5\n",
       "dtype: object"
      ]
     },
     "execution_count": 96,
     "metadata": {},
     "output_type": "execute_result"
    }
   ],
   "source": [
    "# aggregation \n",
    "S1.agg(['sum', 'max', 'min', 'mean', 'median','unique','count'])"
   ]
  },
  {
   "cell_type": "code",
   "execution_count": 97,
   "id": "d847ef4e",
   "metadata": {},
   "outputs": [
    {
     "data": {
      "text/plain": [
       "dtype('int64')"
      ]
     },
     "execution_count": 97,
     "metadata": {},
     "output_type": "execute_result"
    }
   ],
   "source": [
    "S1.dtype"
   ]
  },
  {
   "cell_type": "code",
   "execution_count": 98,
   "id": "1b4c5f1c",
   "metadata": {},
   "outputs": [
    {
     "data": {
      "text/plain": [
       "(5,)"
      ]
     },
     "execution_count": 98,
     "metadata": {},
     "output_type": "execute_result"
    }
   ],
   "source": [
    "S1.shape"
   ]
  },
  {
   "cell_type": "code",
   "execution_count": 99,
   "id": "01563631",
   "metadata": {},
   "outputs": [
    {
     "data": {
      "text/plain": [
       "5"
      ]
     },
     "execution_count": 99,
     "metadata": {},
     "output_type": "execute_result"
    }
   ],
   "source": [
    "S1.size"
   ]
  },
  {
   "cell_type": "code",
   "execution_count": 100,
   "id": "52fa7040",
   "metadata": {},
   "outputs": [
    {
     "data": {
      "text/plain": [
       "count     5.000000\n",
       "mean     45.600000\n",
       "std       6.268971\n",
       "min      35.000000\n",
       "25%      45.000000\n",
       "50%      48.000000\n",
       "75%      50.000000\n",
       "max      50.000000\n",
       "dtype: float64"
      ]
     },
     "execution_count": 100,
     "metadata": {},
     "output_type": "execute_result"
    }
   ],
   "source": [
    "S1.describe()"
   ]
  },
  {
   "cell_type": "code",
   "execution_count": 101,
   "id": "856ae7c8",
   "metadata": {},
   "outputs": [
    {
     "data": {
      "text/plain": [
       "0    49\n",
       "1    45\n",
       "2    35\n",
       "3    48\n",
       "4    49\n",
       "dtype: int64"
      ]
     },
     "execution_count": 101,
     "metadata": {},
     "output_type": "execute_result"
    }
   ],
   "source": [
    "# replace\n",
    "S1=S1.replace(to_replace=50, value=49)\n",
    "S1"
   ]
  },
  {
   "cell_type": "code",
   "execution_count": 103,
   "id": "640e21a1",
   "metadata": {},
   "outputs": [
    {
     "data": {
      "text/plain": [
       "0      49\n",
       "1      45\n",
       "2    None\n",
       "3      48\n",
       "4      49\n",
       "dtype: object"
      ]
     },
     "execution_count": 103,
     "metadata": {},
     "output_type": "execute_result"
    }
   ],
   "source": [
    "S1=S1.replace({35:None})\n",
    "S1"
   ]
  },
  {
   "cell_type": "code",
   "execution_count": 104,
   "id": "08980087",
   "metadata": {},
   "outputs": [
    {
     "data": {
      "text/plain": [
       "0    49\n",
       "1    45\n",
       "3    48\n",
       "4    49\n",
       "dtype: object"
      ]
     },
     "execution_count": 104,
     "metadata": {},
     "output_type": "execute_result"
    }
   ],
   "source": [
    "S1=S1.drop(S1.index[2]\n",
    "S1"
   ]
  },
  {
   "cell_type": "markdown",
   "id": "16d2dfac",
   "metadata": {},
   "source": [
    "<center> <H1> DataFrame </H1>"
   ]
  },
  {
   "cell_type": "code",
   "execution_count": 105,
   "id": "bab2b375",
   "metadata": {},
   "outputs": [],
   "source": [
    "import pandas as pd"
   ]
  },
  {
   "cell_type": "code",
   "execution_count": 107,
   "id": "68620956",
   "metadata": {},
   "outputs": [
    {
     "data": {
      "text/plain": [
       "pandas.core.frame.DataFrame"
      ]
     },
     "execution_count": 107,
     "metadata": {},
     "output_type": "execute_result"
    }
   ],
   "source": [
    "DF1=pd.DataFrame()\n",
    "type(DF1)"
   ]
  },
  {
   "cell_type": "code",
   "execution_count": 108,
   "id": "766c909c",
   "metadata": {},
   "outputs": [
    {
     "data": {
      "text/plain": [
       "{'name': ['sk', 'kumar', 'joy'], 'age': [30, 40, 50]}"
      ]
     },
     "execution_count": 108,
     "metadata": {},
     "output_type": "execute_result"
    }
   ],
   "source": [
    "std_data={'name':['sk','kumar','joy'],'age':[30,40,50]}\n",
    "std_data"
   ]
  },
  {
   "cell_type": "code",
   "execution_count": 112,
   "id": "c39890ca",
   "metadata": {},
   "outputs": [
    {
     "data": {
      "text/html": [
       "<div>\n",
       "<style scoped>\n",
       "    .dataframe tbody tr th:only-of-type {\n",
       "        vertical-align: middle;\n",
       "    }\n",
       "\n",
       "    .dataframe tbody tr th {\n",
       "        vertical-align: top;\n",
       "    }\n",
       "\n",
       "    .dataframe thead th {\n",
       "        text-align: right;\n",
       "    }\n",
       "</style>\n",
       "<table border=\"1\" class=\"dataframe\">\n",
       "  <thead>\n",
       "    <tr style=\"text-align: right;\">\n",
       "      <th></th>\n",
       "      <th>name</th>\n",
       "      <th>age</th>\n",
       "    </tr>\n",
       "  </thead>\n",
       "  <tbody>\n",
       "    <tr>\n",
       "      <th>0</th>\n",
       "      <td>sk</td>\n",
       "      <td>30</td>\n",
       "    </tr>\n",
       "    <tr>\n",
       "      <th>1</th>\n",
       "      <td>kumar</td>\n",
       "      <td>40</td>\n",
       "    </tr>\n",
       "    <tr>\n",
       "      <th>2</th>\n",
       "      <td>joy</td>\n",
       "      <td>50</td>\n",
       "    </tr>\n",
       "  </tbody>\n",
       "</table>\n",
       "</div>"
      ],
      "text/plain": [
       "    name  age\n",
       "0     sk   30\n",
       "1  kumar   40\n",
       "2    joy   50"
      ]
     },
     "execution_count": 112,
     "metadata": {},
     "output_type": "execute_result"
    }
   ],
   "source": [
    "DF1=pd.DataFrame(std_data)\n",
    "DF1"
   ]
  },
  {
   "cell_type": "code",
   "execution_count": 113,
   "id": "537c9225",
   "metadata": {},
   "outputs": [
    {
     "data": {
      "text/plain": [
       "{'name': S1       sk\n",
       " S2    kumar\n",
       " S3      joy\n",
       " dtype: object,\n",
       " 'age': S1    30\n",
       " S2    40\n",
       " S3    50\n",
       " dtype: int64}"
      ]
     },
     "execution_count": 113,
     "metadata": {},
     "output_type": "execute_result"
    }
   ],
   "source": [
    "std_data={'name':Series(['sk','kumar','joy'],index=['S1','S2','S3']),'age':Series([30,40,50],index=['S1','S2','S3'])}\n",
    "std_data"
   ]
  },
  {
   "cell_type": "code",
   "execution_count": 114,
   "id": "af5e3000",
   "metadata": {},
   "outputs": [
    {
     "data": {
      "text/html": [
       "<div>\n",
       "<style scoped>\n",
       "    .dataframe tbody tr th:only-of-type {\n",
       "        vertical-align: middle;\n",
       "    }\n",
       "\n",
       "    .dataframe tbody tr th {\n",
       "        vertical-align: top;\n",
       "    }\n",
       "\n",
       "    .dataframe thead th {\n",
       "        text-align: right;\n",
       "    }\n",
       "</style>\n",
       "<table border=\"1\" class=\"dataframe\">\n",
       "  <thead>\n",
       "    <tr style=\"text-align: right;\">\n",
       "      <th></th>\n",
       "      <th>name</th>\n",
       "      <th>age</th>\n",
       "    </tr>\n",
       "  </thead>\n",
       "  <tbody>\n",
       "    <tr>\n",
       "      <th>S1</th>\n",
       "      <td>sk</td>\n",
       "      <td>30</td>\n",
       "    </tr>\n",
       "    <tr>\n",
       "      <th>S2</th>\n",
       "      <td>kumar</td>\n",
       "      <td>40</td>\n",
       "    </tr>\n",
       "    <tr>\n",
       "      <th>S3</th>\n",
       "      <td>joy</td>\n",
       "      <td>50</td>\n",
       "    </tr>\n",
       "  </tbody>\n",
       "</table>\n",
       "</div>"
      ],
      "text/plain": [
       "     name  age\n",
       "S1     sk   30\n",
       "S2  kumar   40\n",
       "S3    joy   50"
      ]
     },
     "execution_count": 114,
     "metadata": {},
     "output_type": "execute_result"
    }
   ],
   "source": [
    "DF1=pd.DataFrame(std_data)\n",
    "DF1"
   ]
  },
  {
   "cell_type": "code",
   "execution_count": 115,
   "id": "ded8fcf7",
   "metadata": {},
   "outputs": [
    {
     "data": {
      "text/plain": [
       "S1       sk\n",
       "S2    kumar\n",
       "S3      joy\n",
       "Name: name, dtype: object"
      ]
     },
     "execution_count": 115,
     "metadata": {},
     "output_type": "execute_result"
    }
   ],
   "source": [
    "DF1['name']"
   ]
  },
  {
   "cell_type": "code",
   "execution_count": 117,
   "id": "4d41cdfc",
   "metadata": {},
   "outputs": [
    {
     "data": {
      "text/html": [
       "<div>\n",
       "<style scoped>\n",
       "    .dataframe tbody tr th:only-of-type {\n",
       "        vertical-align: middle;\n",
       "    }\n",
       "\n",
       "    .dataframe tbody tr th {\n",
       "        vertical-align: top;\n",
       "    }\n",
       "\n",
       "    .dataframe thead th {\n",
       "        text-align: right;\n",
       "    }\n",
       "</style>\n",
       "<table border=\"1\" class=\"dataframe\">\n",
       "  <thead>\n",
       "    <tr style=\"text-align: right;\">\n",
       "      <th></th>\n",
       "      <th>Std_Name</th>\n",
       "      <th>age</th>\n",
       "    </tr>\n",
       "  </thead>\n",
       "  <tbody>\n",
       "    <tr>\n",
       "      <th>S1</th>\n",
       "      <td>sk</td>\n",
       "      <td>30</td>\n",
       "    </tr>\n",
       "    <tr>\n",
       "      <th>S2</th>\n",
       "      <td>kumar</td>\n",
       "      <td>40</td>\n",
       "    </tr>\n",
       "    <tr>\n",
       "      <th>S3</th>\n",
       "      <td>joy</td>\n",
       "      <td>50</td>\n",
       "    </tr>\n",
       "  </tbody>\n",
       "</table>\n",
       "</div>"
      ],
      "text/plain": [
       "   Std_Name  age\n",
       "S1       sk   30\n",
       "S2    kumar   40\n",
       "S3      joy   50"
      ]
     },
     "execution_count": 117,
     "metadata": {},
     "output_type": "execute_result"
    }
   ],
   "source": [
    "# rename a column\n",
    "DF1.rename(columns={'name':'Std_Name'},inplace=True)\n",
    "DF1"
   ]
  },
  {
   "cell_type": "code",
   "execution_count": null,
   "id": "8134064e",
   "metadata": {},
   "outputs": [],
   "source": []
  }
 ],
 "metadata": {
  "kernelspec": {
   "display_name": "Python 3 (ipykernel)",
   "language": "python",
   "name": "python3"
  },
  "language_info": {
   "codemirror_mode": {
    "name": "ipython",
    "version": 3
   },
   "file_extension": ".py",
   "mimetype": "text/x-python",
   "name": "python",
   "nbconvert_exporter": "python",
   "pygments_lexer": "ipython3",
   "version": "3.10.9"
  }
 },
 "nbformat": 4,
 "nbformat_minor": 5
}
