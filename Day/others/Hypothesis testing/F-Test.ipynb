{
 "cells": [
  {
   "cell_type": "code",
   "execution_count": null,
   "id": "3340c0cb",
   "metadata": {},
   "outputs": [],
   "source": [
    "df_anova = pd.read_csv('PlantGrowth.csv')\n",
    "df_anova = df_anova[['weight','group']]\n",
    "grps = pd.unique(df_anova.group.values)\n",
    "d_data = {grp:df_anova['weight'][df_anova.group == grp] for grp in grps}\n",
    " \n",
    "F, p = stats.f_oneway(d_data['ctrl'], d_data['trt1'], d_data['trt2'])\n",
    "print(\"p-value for significance is: \", p)\n",
    "if p<0.05:\n",
    "    print(\"reject null hypothesis\")\n",
    "else:\n",
    "    print(\"accept null hypothesis\")"
   ]
  }
 ],
 "metadata": {
  "kernelspec": {
   "display_name": "Python 3 (ipykernel)",
   "language": "python",
   "name": "python3"
  },
  "language_info": {
   "codemirror_mode": {
    "name": "ipython",
    "version": 3
   },
   "file_extension": ".py",
   "mimetype": "text/x-python",
   "name": "python",
   "nbconvert_exporter": "python",
   "pygments_lexer": "ipython3",
   "version": "3.9.13"
  }
 },
 "nbformat": 4,
 "nbformat_minor": 5
}
