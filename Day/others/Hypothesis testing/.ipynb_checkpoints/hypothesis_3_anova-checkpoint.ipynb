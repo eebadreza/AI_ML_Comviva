{
 "cells": [
  {
   "cell_type": "markdown",
   "metadata": {},
   "source": [
    "## Part 3 - Anova Testing for Multiple Data Sets ##\n",
    "In the `hypothesis_2` Python notebook, we saw that the probability of making a Type I error got dangerously high as we performed more t-tests.  \n",
    "\n",
    "When comparing more than two numerical datasets, the best way to preserve a Type I error probability of 0.05 is to use *ANOVA*. ANOVA (Analysis of Variance) tests the null hypothesis that all of the datasets have the same mean. If we reject the null hypothesis with ANOVA, we're saying that at least one of the sets has a different mean (from a Statiscal Significance perspective); however, it does not tell us which datasets are different."
   ]
  },
  {
   "cell_type": "markdown",
   "metadata": {},
   "source": [
    "Use the SciPy function `f_oneway` to perform ANOVA on multiple datasets. It takes in each dataset as a different input and returns the t-statistic and the p-value.  \n",
    "EG:  \n",
    "`fstat, pval = f_oneway(scores_mathematicians, scores_writers, scores_psychologists)`  \n",
    "returns the pval of *at least one of* the data-sets being statistically different.  \n",
    "However, after using only ANOVA, we can't make any conclusions on *which* two populations have a significant difference.\n",
    "\n",
    "\n",
    "*\"The one-way ANOVA tests the null hypothesis that two or more groups have the same population mean.\"*\n",
    "\n",
    "A *one-way* test identifies if at least two groups are differen from each other, but doesn't identify which groups.  Used when there is one independant variable and one dependant variable.\n",
    "\n",
    "A *two-way* test can be used when there are *two* independant variables - i.e. Store and Hour-of-Day (factors)\n",
    "\n",
    "Anova Test Assumpotions\n",
    "+ The samples are independent.\n",
    "+ Each sample is from a normally distributed population.\n",
    "+ The population standard deviations of the groups are all equal. This property is known as homoscedasticity.  \n",
    "\n",
    "Consider \"Kruskal-Wallis H-test\" if these assumptions are not valid."
   ]
  },
  {
   "cell_type": "markdown",
   "metadata": {},
   "source": [
    "#### Example - One Way Anova Test ####\n",
    "Perform an ANOVA test for Daily Sales on Stores a, b, and c and store the p-value in a variable called pval.\n",
    "\n",
    "First, lets load some test data-sets for three different stores and visualise them"
   ]
  },
  {
   "cell_type": "code",
   "execution_count": 41,
   "metadata": {
    "scrolled": false
   },
   "outputs": [
    {
     "data": {
      "text/plain": [
       "<matplotlib.axes._subplots.AxesSubplot at 0x1f6d80d4160>"
      ]
     },
     "execution_count": 41,
     "metadata": {},
     "output_type": "execute_result"
    },
    {
     "data": {
      "image/png": "[encoded data removed]",
      "text/plain": [
       "<matplotlib.figure.Figure at 0x1f6d7fde3c8>"
      ]
     },
     "metadata": {},
     "output_type": "display_data"
    }
   ],
   "source": [
    "import numpy as np\n",
    "import seaborn as sns # Seaborn has some nice looking plot characteristics\n",
    "import pandas as pd\n",
    "storeA = np.genfromtxt(\"storeA.csv\",  delimiter=\",\")\n",
    "storeB = np.genfromtxt(\"storeB.csv\",  delimiter=\",\")\n",
    "storeC = np.genfromtxt(\"storeC.csv\",  delimiter=\",\")\n",
    "\n",
    "# Create a Pandas Data Frame with Store A,B,C as the columns\n",
    "df = pd.DataFrame({'StoreA':storeA, 'StoreB':storeB, 'StoreC':storeC})\n",
    "#type(storeA)\n",
    "#print(storeA.shape)\n",
    "\n",
    "# Have to \"melt\" the data-frame for Seaborn\n",
    "sns.boxplot(x=\"variable\", y=\"value\", data=pd.melt(df))\n"
   ]
  },
  {
   "cell_type": "code",
   "execution_count": 46,
   "metadata": {},
   "outputs": [
    {
     "name": "stdout",
     "output_type": "stream",
     "text": [
      "Store A Mean: 58.35\n",
      "Store B Mean: 55.754\n",
      "Store C Mean: 56.767\n"
     ]
    }
   ],
   "source": [
    "print(\"Store A Mean:\", storeA.mean().round(3))\n",
    "print(\"Store B Mean:\", storeB.mean().round(3))\n",
    "print(\"Store C Mean:\", storeC.mean().round(3))"
   ]
  },
  {
   "cell_type": "markdown",
   "metadata": {},
   "source": [
    "Next, run a one-way ANOVA test and get the p-value:"
   ]
  },
  {
   "cell_type": "code",
   "execution_count": 48,
   "metadata": {},
   "outputs": [
    {
     "name": "stdout",
     "output_type": "stream",
     "text": [
      "0.32132\n"
     ]
    }
   ],
   "source": [
    "from scipy.stats import ttest_ind\n",
    "from scipy.stats import f_oneway\n",
    "\n",
    "pval = f_oneway(storeA,storeB,storeC)[1]\n",
    "print(pval.round(5))"
   ]
  },
  {
   "cell_type": "markdown",
   "metadata": {},
   "source": [
    "As the p-value is greater than 0.05 we *reject the Null Hypothesis* and assume there is no significant difference in sales between stores, even though the mean values are slightly different.  \n",
    "  \n",
    "Although visually on the box-plot it looks like there is a difference, this is probably just natrual random variation.  \n",
    "\n",
    "Now - **load some new data** after a Sales Campaign is run for Store C."
   ]
  },
  {
   "cell_type": "code",
   "execution_count": 49,
   "metadata": {},
   "outputs": [
    {
     "data": {
      "text/plain": [
       "<matplotlib.axes._subplots.AxesSubplot at 0x1f6d8062278>"
      ]
     },
     "execution_count": 49,
     "metadata": {},
     "output_type": "execute_result"
    },
    {
     "data": {
      "image/png": "[encoded data removed]",
      "text/plain": [
       "<matplotlib.figure.Figure at 0x1f6d80ee208>"
      ]
     },
     "metadata": {},
     "output_type": "display_data"
    }
   ],
   "source": [
    "storeC = np.genfromtxt(\"storeC_NEW.csv\",  delimiter=\",\")\n",
    "# Create a Pandas Data Frame with Store A,B,C as the columns\n",
    "df = pd.DataFrame({'StoreA':storeA, 'StoreB':storeB, 'StoreC':storeC})\n",
    "\n",
    "#plot\n",
    "sns.boxplot(x=\"variable\", y=\"value\", data=pd.melt(df))"
   ]
  },
  {
   "cell_type": "code",
   "execution_count": 51,
   "metadata": {},
   "outputs": [
    {
     "name": "stdout",
     "output_type": "stream",
     "text": [
      "0.01859\n"
     ]
    }
   ],
   "source": [
    "from scipy.stats import ttest_ind\n",
    "from scipy.stats import f_oneway\n",
    "\n",
    "pval = f_oneway(storeA,storeB,storeC)[1]\n",
    "\n",
    "print(pval.round(5))"
   ]
  },
  {
   "cell_type": "markdown",
   "metadata": {},
   "source": [
    "So, if our $\\alpha$ is 0.05 then we Reject the Null Hypothesis and say that it is unlikely this variation in the mean has occurred by chance as 0.0185 is less than 0.05. \n",
    "  \n",
    "If, however, we had chosen our $\\alpha$ threshold to be 0.01 (1%) then we would still accept the null hypothesis and say there is still a reasonable statistical likelihood that this variation in the mean has occured by chance.   This is becuase 0.01859 is great than 0.01\n",
    "\n",
    "This illustrates the limitation of using the p-value test to determine statistical siginificance.  \n"
   ]
  },
  {
   "cell_type": "markdown",
   "metadata": {},
   "source": [
    "### Sample Size Effect for Determining Significant Variation ###\n",
    "\n",
    "Broadly, the more samples we have from a population, the more accurately we can determine the true mean.\n",
    "\n",
    "This is because the *Sample* Mean $\\bar{X}$ is an approximation to the *Actual* Mean, $\\mu$ given by the following formula:  \n",
    "  \n",
    "  $\\mu = \\bar{X} \\pm  \\frac { 2\\sigma } {\\sqrt{n}}   $\n",
    "    \n",
    "- which means as $n$, the sample size increases, the $\\pm$ variation size decreases and we are closer to the actual mean - which intuitively makes sense. \n",
    "  \n",
    "This can be demonstrated with a simple simulation from our existing data-set. In the example below we *decrease* $n$ to 50 by taking a random sample of 50 items from each of the store data sets."
   ]
  },
  {
   "cell_type": "code",
   "execution_count": 66,
   "metadata": {},
   "outputs": [],
   "source": [
    "np.random.seed(1)\n",
    "storeAsample = np.random.choice(storeA, size=50, replace=False)\n",
    "storeBsample = np.random.choice(storeB, size=50, replace=False)\n",
    "storeCsample = np.random.choice(storeC, size=50, replace=False)"
   ]
  },
  {
   "cell_type": "markdown",
   "metadata": {},
   "source": [
    "Visually compare the distribution of the original StoreA sales and the random sample of 50 sales from the StoreA data-set:"
   ]
  },
  {
   "cell_type": "code",
   "execution_count": 74,
   "metadata": {},
   "outputs": [
    {
     "data": {
      "image/png": "[encoded data removed]",
      "text/plain": [
       "<matplotlib.figure.Figure at 0x1f6d9806eb8>"
      ]
     },
     "metadata": {},
     "output_type": "display_data"
    }
   ],
   "source": [
    "import matplotlib.pyplot as plt\n",
    "plt.hist(storeA, bins=20, alpha=0.5, color='b')\n",
    "plt.hist(storeAsample, bins=20,alpha=0.5, color='r')\n",
    "leg = ['StoreA', 'StoreA Sample']\n",
    "plt.legend(leg)\n",
    "plt.show()"
   ]
  },
  {
   "cell_type": "code",
   "execution_count": 75,
   "metadata": {},
   "outputs": [
    {
     "data": {
      "text/plain": [
       "<matplotlib.axes._subplots.AxesSubplot at 0x1f6d99362e8>"
      ]
     },
     "execution_count": 75,
     "metadata": {},
     "output_type": "execute_result"
    },
    {
     "data": {
      "image/png": "[encoded data removed]",
      "text/plain": [
       "<matplotlib.figure.Figure at 0x1f6d97a7080>"
      ]
     },
     "metadata": {},
     "output_type": "display_data"
    }
   ],
   "source": [
    "# Create a Pandas Data Frame with Store A,B,C as the columns and plot\n",
    "df = pd.DataFrame({'StoreAsample':storeAsample, 'StoreBsample':storeBsample, 'StoreCsample':storeCsample})\n",
    "sns.boxplot(x=\"variable\", y=\"value\", data=pd.melt(df))"
   ]
  },
  {
   "cell_type": "code",
   "execution_count": 76,
   "metadata": {},
   "outputs": [
    {
     "name": "stdout",
     "output_type": "stream",
     "text": [
      "0.47443\n"
     ]
    }
   ],
   "source": [
    "pval = f_oneway(storeAsample,storeBsample,storeCsample)[1]\n",
    "print(pval.round(5))"
   ]
  },
  {
   "cell_type": "markdown",
   "metadata": {},
   "source": [
    "#### Conclusion ####\n",
    "With the smaller sample of data, although we can see that StoreC still has the highest mean sales, we can no longer detect any statistical difference (the p-value is greater than 0.05)"
   ]
  },
  {
   "cell_type": "code",
   "execution_count": null,
   "metadata": {},
   "outputs": [],
   "source": []
  }
 ],
 "metadata": {
  "kernelspec": {
   "display_name": "Python 3 (ipykernel)",
   "language": "python",
   "name": "python3"
  },
  "language_info": {
   "codemirror_mode": {
    "name": "ipython",
    "version": 3
   },
   "file_extension": ".py",
   "mimetype": "text/x-python",
   "name": "python",
   "nbconvert_exporter": "python",
   "pygments_lexer": "ipython3",
   "version": "3.9.13"
  }
 },
 "nbformat": 4,
 "nbformat_minor": 2
}
