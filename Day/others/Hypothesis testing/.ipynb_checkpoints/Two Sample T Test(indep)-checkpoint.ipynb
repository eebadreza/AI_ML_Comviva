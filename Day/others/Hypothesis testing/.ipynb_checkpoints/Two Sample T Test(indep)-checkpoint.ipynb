{
 "cells": [
  {
   "cell_type": "markdown",
   "metadata": {},
   "source": [
    "Use a **2 Sample T-Test**  \n",
    "A 2 Sample T-Test compares two independant sets of data, which are both approximately normally distributed.  \n",
    "The null hypothesis, in this case, is that the two distributions have the same mean  \n",
    "   \n",
    "ributed, often a visual inspection is enough, as shown in the chart below.  Alternatively the Sapiro-Wilk test can be used"
   ]
  },
  {
   "cell_type": "code",
   "execution_count": 4,
   "metadata": {},
   "outputs": [],
   "source": [
    "import numpy as np\n",
    "import matplotlib.pyplot as plt"
   ]
  },
  {
   "cell_type": "markdown",
   "metadata": {},
   "source": [
    "use SciPy's `ttest_ind` to obtain the p-value for two independant sets of data and determine the likelihood of them having the same mean."
   ]
  },
  {
   "cell_type": "code",
   "execution_count": 5,
   "metadata": {},
   "outputs": [
    {
     "name": "stdout",
     "output_type": "stream",
     "text": [
      "Week 1 Sample Mean: 25.4480593952\n",
      "Week 2 Sample Mean: 29.0215681076\n",
      "Ttest_indResult(statistic=-3.510875818698744, pvalue=0.000676767690454633)\n"
     ]
    }
   ],
   "source": [
    "from scipy.stats import ttest_ind\n",
    "import numpy as np\n",
    "\n",
    "week1 = np.genfromtxt(\"week1.csv\",  delimiter=\",\")\n",
    "week2 = np.genfromtxt(\"week2.csv\",  delimiter=\",\")\n",
    "\n",
    "week1_mean = week1.mean()\n",
    "week2_mean = week2.mean()\n",
    "\n",
    "print(\"Week 1 Sample Mean:\", week1_mean)\n",
    "print(\"Week 2 Sample Mean:\", week2_mean)\n",
    "\n",
    "pval = ttest_ind(week1,week2)\n",
    "print(pval)"
   ]
  },
  {
   "cell_type": "markdown",
   "metadata": {},
   "source": [
    "If we assume $\\alpha$ is 0.005 and we get a `pvalue=0.0006767...` means we reject the null-hypothesis and say this is a different distribution and the mean is significantly different.\n",
    "\n"
   ]
  },
  {
   "cell_type": "code",
   "execution_count": 6,
   "metadata": {},
   "outputs": [
    {
     "name": "stdout",
     "output_type": "stream",
     "text": [
      "pval is  0.000676767690454633 Null Hypothesis Rejected - samples are statistically different\n"
     ]
    }
   ],
   "source": [
    "if pval[1] < 0.05:\n",
    "    print(\"pval is \", pval[1], \"Null Hypothesis Rejected - samples are statistically different\")\n",
    "else:\n",
    "    print(\"pval is \", pval[1], \"Null Hypothesis Accepted - samples are NOT statistically different\")"
   ]
  },
  {
   "cell_type": "code",
   "execution_count": 7,
   "metadata": {},
   "outputs": [
    {
     "data": {
      "image/png": "[encoded data removed]",
      "text/plain": [
       "<Figure size 640x480 with 1 Axes>"
      ]
     },
     "metadata": {},
     "output_type": "display_data"
    }
   ],
   "source": [
    "plt.hist(week1, bins=20, color='b', alpha=0.5)\n",
    "plt.hist(week2, bins=20, color='r', alpha=0.5)\n",
    "plt.show()"
   ]
  },
  {
   "cell_type": "code",
   "execution_count": null,
   "metadata": {},
   "outputs": [],
   "source": []
  }
 ],
 "metadata": {
  "kernelspec": {
   "display_name": "Python 3 (ipykernel)",
   "language": "python",
   "name": "python3"
  },
  "language_info": {
   "codemirror_mode": {
    "name": "ipython",
    "version": 3
   },
   "file_extension": ".py",
   "mimetype": "text/x-python",
   "name": "python",
   "nbconvert_exporter": "python",
   "pygments_lexer": "ipython3",
   "version": "3.9.13"
  }
 },
 "nbformat": 4,
 "nbformat_minor": 2
}
