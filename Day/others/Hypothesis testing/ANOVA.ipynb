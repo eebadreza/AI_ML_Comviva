{
 "cells": [
  {
   "cell_type": "code",
   "execution_count": 1,
   "metadata": {},
   "outputs": [],
   "source": [
    "import pandas as pd\n",
    "from scipy import stats\n",
    "from statsmodels.stats import weightstats as stests"
   ]
  },
  {
   "cell_type": "code",
   "execution_count": 2,
   "metadata": {},
   "outputs": [
    {
     "name": "stdout",
     "output_type": "stream",
     "text": [
      "['ctrl' 'trt1' 'trt2']\n",
      "{'ctrl': 0    4.17\n",
      "1    5.58\n",
      "2    5.18\n",
      "3    6.11\n",
      "4    4.50\n",
      "5    4.61\n",
      "6    5.17\n",
      "7    4.53\n",
      "8    5.33\n",
      "9    5.14\n",
      "Name: weight, dtype: float64, 'trt1': 10    4.81\n",
      "11    4.17\n",
      "12    4.41\n",
      "13    3.59\n",
      "14    5.87\n",
      "15    3.83\n",
      "16    6.03\n",
      "17    4.89\n",
      "18    4.32\n",
      "19    4.69\n",
      "Name: weight, dtype: float64, 'trt2': 20    6.31\n",
      "21    5.12\n",
      "22    5.54\n",
      "23    5.50\n",
      "24    5.37\n",
      "25    5.29\n",
      "26    4.92\n",
      "27    6.15\n",
      "28    5.80\n",
      "29    5.26\n",
      "Name: weight, dtype: float64}\n",
      "p-value for significance is:  0.0159099583256229\n",
      "reject null hypothesis\n"
     ]
    }
   ],
   "source": [
    "df_anova = pd.read_csv('PlantGrowth.csv')\n",
    "df_anova = df_anova[['weight','group']]\n",
    "\n",
    "grps = pd.unique(df_anova.group.values)\n",
    "print(grps)\n",
    "\n",
    "d_data = {grp:df_anova['weight'][df_anova.group == grp] for grp in grps}\n",
    "print(d_data)\n",
    " \n",
    "F, p = stats.f_oneway(d_data['ctrl'], d_data['trt1'], d_data['trt2'])\n",
    "\n",
    "print(\"p-value for significance is: \", p)\n",
    "\n",
    "if p<0.05:\n",
    "    print(\"reject null hypothesis\")\n",
    "else:\n",
    "    print(\"accept null hypothesis\")"
   ]
  },
  {
   "cell_type": "code",
   "execution_count": null,
   "metadata": {},
   "outputs": [],
   "source": []
  }
 ],
 "metadata": {
  "kernelspec": {
   "display_name": "Python 3 (ipykernel)",
   "language": "python",
   "name": "python3"
  },
  "language_info": {
   "codemirror_mode": {
    "name": "ipython",
    "version": 3
   },
   "file_extension": ".py",
   "mimetype": "text/x-python",
   "name": "python",
   "nbconvert_exporter": "python",
   "pygments_lexer": "ipython3",
   "version": "3.9.13"
  }
 },
 "nbformat": 4,
 "nbformat_minor": 2
}
