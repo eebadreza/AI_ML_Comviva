{
 "cells": [
  {
   "cell_type": "code",
   "execution_count": null,
   "id": "b5923d84",
   "metadata": {},
   "outputs": [],
   "source": [
    "Two-sample Z test.\n",
    "\n",
    "2.What the test is checking?  Two independent data groups and deciding whether the sample mean of two groups is equal or not. H0 : mean of two group is 0, H1 : mean of two group is not 0\n",
    "\n",
    "3.The key assumptions of the test? Your sample size is greater than 30. Otherwise, use a t test.Data points should be independent from each other. In other words, one data point isn’t related or doesn’t affect another data point. Your data should be normally distributed. However, for large sample sizes (over 30) this doesn’t always matter. Your data should be randomly selected from a population, where each item has an equal chance of being selected. Sample sizes should be equal if at all possible.\n",
    "\n",
    "4.How the test result is interpreted. – p-value and test statistics are given the output. IF pval<0.05: we are rejecting H0 (Null hypothesis), Else we are accepting H0 (Null hypothesis).\n",
    "\n",
    " \n",
    "\n",
    "5.Python Package for using the test. – from statsmodels.stats.weightstats import ztest"
   ]
  }
 ],
 "metadata": {
  "kernelspec": {
   "display_name": "Python 3 (ipykernel)",
   "language": "python",
   "name": "python3"
  },
  "language_info": {
   "codemirror_mode": {
    "name": "ipython",
    "version": 3
   },
   "file_extension": ".py",
   "mimetype": "text/x-python",
   "name": "python",
   "nbconvert_exporter": "python",
   "pygments_lexer": "ipython3",
   "version": "3.9.13"
  }
 },
 "nbformat": 4,
 "nbformat_minor": 5
}
