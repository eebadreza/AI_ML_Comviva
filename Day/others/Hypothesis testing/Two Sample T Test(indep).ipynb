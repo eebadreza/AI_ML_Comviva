{
 "cells": [
  {
   "cell_type": "markdown",
   "metadata": {},
   "source": [
    "Use a **2 Sample T-Test**  \n",
    "A 2 Sample T-Test compares two independant sets of data, which are both approximately normally distributed.  \n",
    "The null hypothesis, in this case, is that the two distributions have the same mean  \n",
    "   \n"
   ]
  },
  {
   "cell_type": "code",
   "execution_count": 4,
   "metadata": {},
   "outputs": [],
   "source": [
    "import numpy as np\n",
    "import matplotlib.pyplot as plt"
   ]
  },
  {
   "cell_type": "code",
   "execution_count": 9,
   "metadata": {},
   "outputs": [],
   "source": [
    "from scipy.stats import ttest_ind\n",
    "import numpy as np\n",
    "\n",
    "week1 = np.genfromtxt(\"week1.csv\",  delimiter=\",\")\n",
    "week2 = np.genfromtxt(\"week2.csv\",  delimiter=\",\")"
   ]
  },
  {
   "cell_type": "code",
   "execution_count": 12,
   "metadata": {},
   "outputs": [
    {
     "name": "stdout",
     "output_type": "stream",
     "text": [
      "[23.90506824 26.67631982 27.27433886 24.25757125 32.40423483 39.56919357\n",
      " 23.07010059 29.82068109 27.59433809 28.05639569 27.06757262 30.41192979\n",
      " 25.71358554 24.94294823 28.23123807 24.95337555 18.51231639 27.46234762\n",
      " 28.38016611 13.91205901 29.02615866 26.90746774 22.8677726  24.8938289\n",
      " 25.96947935 26.86869621 20.72676456 27.35988314 20.68408581 21.19846143\n",
      " 16.25800931 23.92517681 24.47923229 29.47050863 27.28425372 26.93339272\n",
      " 28.61026924 18.88377042 33.65468651 25.69470077 20.98291356 22.69700387\n",
      " 28.60278855 21.36000443 30.77685156 20.83415999 23.79367158 19.7556718\n",
      " 29.54421084 20.1433138 ]\n",
      "[18.63431907 31.28788036 34.96797943 21.81678117 28.21619974 39.39313736\n",
      " 35.52223207 27.54222109 33.64395433 25.31673581 28.81392191 30.7358016\n",
      " 26.37241881 26.0945555  26.34073477 19.42196017 32.58797652 24.84001926\n",
      " 28.93348335 20.43667584 22.72495967 32.31728012 35.384306   29.66709637\n",
      " 24.53512973 30.91406007 19.56117513 24.90816833 30.13163726 31.47466199\n",
      " 27.77683598 16.51307462 35.0770162  31.74818107 36.36053496 27.70500593\n",
      " 29.49869936 27.65575346 37.18504075 25.16055104 29.26553553 38.22163057\n",
      " 28.92102091 24.8215439  38.30155495 34.76020645 22.26869162 28.82593733\n",
      " 32.00975127 36.46437665]\n"
     ]
    }
   ],
   "source": [
    "print(week1)\n",
    "print(week2)"
   ]
  },
  {
   "cell_type": "code",
   "execution_count": null,
   "metadata": {},
   "outputs": [],
   "source": [
    "# state the hypothesis\n",
    "Ho: Mean of sample1 = Mean of sample2\n",
    "H1: Mean of sample1 != Mean of Sample2"
   ]
  },
  {
   "cell_type": "markdown",
   "metadata": {},
   "source": [
    "use SciPy's `ttest_ind` to obtain the p-value for two independant sets of data and determine the likelihood of them having the same mean."
   ]
  },
  {
   "cell_type": "code",
   "execution_count": 14,
   "metadata": {},
   "outputs": [
    {
     "name": "stdout",
     "output_type": "stream",
     "text": [
      "-3.510875818698744 0.000676767690454633\n"
     ]
    }
   ],
   "source": [
    "tval,pval = ttest_ind(week1,week2)\n",
    "print(tval,pval)"
   ]
  },
  {
   "cell_type": "code",
   "execution_count": 16,
   "metadata": {},
   "outputs": [
    {
     "name": "stdout",
     "output_type": "stream",
     "text": [
      "Null Hypothesis Rejected - samples are statistically different\n"
     ]
    }
   ],
   "source": [
    "if pval < 0.05:\n",
    "    print(\"Null Hypothesis Rejected - samples are statistically different\")\n",
    "else:\n",
    "    print(\"Null Hypothesis Accepted - samples are NOT statistically different\")"
   ]
  },
  {
   "cell_type": "code",
   "execution_count": 17,
   "metadata": {},
   "outputs": [
    {
     "name": "stdout",
     "output_type": "stream",
     "text": [
      "Week 1 Sample Mean: 25.4480593952\n",
      "Week 2 Sample Mean: 29.0215681076\n"
     ]
    }
   ],
   "source": [
    "week1_mean = week1.mean()\n",
    "week2_mean = week2.mean()\n",
    "\n",
    "print(\"Week 1 Sample Mean:\", week1_mean)\n",
    "print(\"Week 2 Sample Mean:\", week2_mean)\n"
   ]
  },
  {
   "cell_type": "markdown",
   "metadata": {},
   "source": [
    "If we assume $\\alpha$ is 0.005 and we get a `pvalue=0.0006767...` means we reject the null-hypothesis and say this is a different distribution and the mean is significantly different.\n",
    "\n"
   ]
  },
  {
   "cell_type": "code",
   "execution_count": null,
   "metadata": {},
   "outputs": [],
   "source": []
  },
  {
   "cell_type": "code",
   "execution_count": 7,
   "metadata": {},
   "outputs": [
    {
     "data": {
      "image/png": "[encoded data removed]",
      "text/plain": [
       "<Figure size 640x480 with 1 Axes>"
      ]
     },
     "metadata": {},
     "output_type": "display_data"
    }
   ],
   "source": [
    "plt.hist(week1, bins=20, color='b', alpha=0.5)\n",
    "plt.hist(week2, bins=20, color='r', alpha=0.5)\n",
    "plt.show()"
   ]
  },
  {
   "cell_type": "code",
   "execution_count": null,
   "metadata": {},
   "outputs": [],
   "source": []
  }
 ],
 "metadata": {
  "kernelspec": {
   "display_name": "Python 3 (ipykernel)",
   "language": "python",
   "name": "python3"
  },
  "language_info": {
   "codemirror_mode": {
    "name": "ipython",
    "version": 3
   },
   "file_extension": ".py",
   "mimetype": "text/x-python",
   "name": "python",
   "nbconvert_exporter": "python",
   "pygments_lexer": "ipython3",
   "version": "3.9.13"
  }
 },
 "nbformat": 4,
 "nbformat_minor": 2
}
