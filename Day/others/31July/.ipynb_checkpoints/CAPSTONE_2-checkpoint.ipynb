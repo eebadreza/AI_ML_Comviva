{
 "cells": [
  {
   "cell_type": "markdown",
   "id": "4f1045e3",
   "metadata": {},
   "source": [
    "CAPSTONE PROJECT 2 "
   ]
  },
  {
   "cell_type": "markdown",
   "id": "12d2253a",
   "metadata": {},
   "source": [
    "INTRODUCTION : "
   ]
  },
  {
   "cell_type": "markdown",
   "id": "4e5195ea",
   "metadata": {},
   "source": [
    "Nearly 30% of medical appointments eventually end up canceling or not showing up.\n",
    "\n",
    "This, in turn, incurs a sizeable loss to the Hospitals / Clinics that employ specialists paid per hour. \n",
    "\n",
    "This model tries to predict the chances that the appointment would land up being a no-show to mitigate that additional cost"
   ]
  },
  {
   "cell_type": "markdown",
   "id": "36e2d89f",
   "metadata": {},
   "source": [
    "From the given list of parameters, such as Gender, Scheduled and Appointment Date difference, Age, Neighbourhood, sms_alert\n",
    "\n",
    "and certain conditions of a given patient, the model will predict, based on a studied dataset, \n",
    "\n",
    "whether the given appointment is likely to be a No-Show"
   ]
  },
  {
   "cell_type": "code",
   "execution_count": null,
   "id": "1417eff2",
   "metadata": {},
   "outputs": [],
   "source": []
  },
  {
   "cell_type": "code",
   "execution_count": 1,
   "id": "faea6151",
   "metadata": {},
   "outputs": [],
   "source": [
    "import random\n",
    "import numpy as np\n",
    "import pandas as pd\n",
    "import matplotlib.pyplot as plt\n",
    "import seaborn as sns\n",
    "\n",
    "from sklearn.model_selection import train_test_split, cross_validate, RandomizedSearchCV\n",
    "from sklearn.preprocessing import LabelEncoder\n",
    "from sklearn.tree import DecisionTreeClassifier\n",
    "from sklearn.ensemble import RandomForestClassifier\n",
    "from sklearn.metrics import  make_scorer, accuracy_score, roc_auc_score, mean_squared_error,confusion_matrix,classification_report\n",
    "\n",
    "random.seed(100)"
   ]
  },
  {
   "cell_type": "markdown",
   "id": "8a285972",
   "metadata": {},
   "source": [
    "(A) Data Loading and Eyeballing "
   ]
  },
  {
   "cell_type": "code",
   "execution_count": 2,
   "id": "804f075a",
   "metadata": {},
   "outputs": [
    {
     "data": {
      "text/html": [
       "<div>\n",
       "<style scoped>\n",
       "    .dataframe tbody tr th:only-of-type {\n",
       "        vertical-align: middle;\n",
       "    }\n",
       "\n",
       "    .dataframe tbody tr th {\n",
       "        vertical-align: top;\n",
       "    }\n",
       "\n",
       "    .dataframe thead th {\n",
       "        text-align: right;\n",
       "    }\n",
       "</style>\n",
       "<table border=\"1\" class=\"dataframe\">\n",
       "  <thead>\n",
       "    <tr style=\"text-align: right;\">\n",
       "      <th></th>\n",
       "      <th>PatientId</th>\n",
       "      <th>AppointmentID</th>\n",
       "      <th>Gender</th>\n",
       "      <th>ScheduledDay</th>\n",
       "      <th>AppointmentDay</th>\n",
       "      <th>Age</th>\n",
       "      <th>Neighbourhood</th>\n",
       "      <th>Scholarship</th>\n",
       "      <th>Hipertension</th>\n",
       "      <th>Diabetes</th>\n",
       "      <th>Alcoholism</th>\n",
       "      <th>Handcap</th>\n",
       "      <th>SMS_received</th>\n",
       "      <th>No-show</th>\n",
       "    </tr>\n",
       "  </thead>\n",
       "  <tbody>\n",
       "    <tr>\n",
       "      <th>0</th>\n",
       "      <td>2.987250e+13</td>\n",
       "      <td>5642903</td>\n",
       "      <td>F</td>\n",
       "      <td>2016-04-29T18:38:08Z</td>\n",
       "      <td>2016-04-29T00:00:00Z</td>\n",
       "      <td>62</td>\n",
       "      <td>JARDIM DA PENHA</td>\n",
       "      <td>0</td>\n",
       "      <td>1</td>\n",
       "      <td>0</td>\n",
       "      <td>0</td>\n",
       "      <td>0</td>\n",
       "      <td>0</td>\n",
       "      <td>No</td>\n",
       "    </tr>\n",
       "    <tr>\n",
       "      <th>1</th>\n",
       "      <td>5.589980e+14</td>\n",
       "      <td>5642503</td>\n",
       "      <td>M</td>\n",
       "      <td>2016-04-29T16:08:27Z</td>\n",
       "      <td>2016-04-29T00:00:00Z</td>\n",
       "      <td>56</td>\n",
       "      <td>JARDIM DA PENHA</td>\n",
       "      <td>0</td>\n",
       "      <td>0</td>\n",
       "      <td>0</td>\n",
       "      <td>0</td>\n",
       "      <td>0</td>\n",
       "      <td>0</td>\n",
       "      <td>No</td>\n",
       "    </tr>\n",
       "    <tr>\n",
       "      <th>2</th>\n",
       "      <td>4.262960e+12</td>\n",
       "      <td>5642549</td>\n",
       "      <td>F</td>\n",
       "      <td>2016-04-29T16:19:04Z</td>\n",
       "      <td>2016-04-29T00:00:00Z</td>\n",
       "      <td>62</td>\n",
       "      <td>MATA DA PRAIA</td>\n",
       "      <td>0</td>\n",
       "      <td>0</td>\n",
       "      <td>0</td>\n",
       "      <td>0</td>\n",
       "      <td>0</td>\n",
       "      <td>0</td>\n",
       "      <td>No</td>\n",
       "    </tr>\n",
       "    <tr>\n",
       "      <th>3</th>\n",
       "      <td>8.679510e+11</td>\n",
       "      <td>5642828</td>\n",
       "      <td>F</td>\n",
       "      <td>2016-04-29T17:29:31Z</td>\n",
       "      <td>2016-04-29T00:00:00Z</td>\n",
       "      <td>8</td>\n",
       "      <td>PONTAL DE CAMBURI</td>\n",
       "      <td>0</td>\n",
       "      <td>0</td>\n",
       "      <td>0</td>\n",
       "      <td>0</td>\n",
       "      <td>0</td>\n",
       "      <td>0</td>\n",
       "      <td>No</td>\n",
       "    </tr>\n",
       "    <tr>\n",
       "      <th>4</th>\n",
       "      <td>8.841190e+12</td>\n",
       "      <td>5642494</td>\n",
       "      <td>F</td>\n",
       "      <td>2016-04-29T16:07:23Z</td>\n",
       "      <td>2016-04-29T00:00:00Z</td>\n",
       "      <td>56</td>\n",
       "      <td>JARDIM DA PENHA</td>\n",
       "      <td>0</td>\n",
       "      <td>1</td>\n",
       "      <td>1</td>\n",
       "      <td>0</td>\n",
       "      <td>0</td>\n",
       "      <td>0</td>\n",
       "      <td>No</td>\n",
       "    </tr>\n",
       "  </tbody>\n",
       "</table>\n",
       "</div>"
      ],
      "text/plain": [
       "      PatientId  AppointmentID Gender          ScheduledDay  \\\n",
       "0  2.987250e+13        5642903      F  2016-04-29T18:38:08Z   \n",
       "1  5.589980e+14        5642503      M  2016-04-29T16:08:27Z   \n",
       "2  4.262960e+12        5642549      F  2016-04-29T16:19:04Z   \n",
       "3  8.679510e+11        5642828      F  2016-04-29T17:29:31Z   \n",
       "4  8.841190e+12        5642494      F  2016-04-29T16:07:23Z   \n",
       "\n",
       "         AppointmentDay  Age      Neighbourhood  Scholarship  Hipertension  \\\n",
       "0  2016-04-29T00:00:00Z   62    JARDIM DA PENHA            0             1   \n",
       "1  2016-04-29T00:00:00Z   56    JARDIM DA PENHA            0             0   \n",
       "2  2016-04-29T00:00:00Z   62      MATA DA PRAIA            0             0   \n",
       "3  2016-04-29T00:00:00Z    8  PONTAL DE CAMBURI            0             0   \n",
       "4  2016-04-29T00:00:00Z   56    JARDIM DA PENHA            0             1   \n",
       "\n",
       "   Diabetes  Alcoholism  Handcap  SMS_received No-show  \n",
       "0         0           0        0             0      No  \n",
       "1         0           0        0             0      No  \n",
       "2         0           0        0             0      No  \n",
       "3         0           0        0             0      No  \n",
       "4         1           0        0             0      No  "
      ]
     },
     "execution_count": 2,
     "metadata": {},
     "output_type": "execute_result"
    }
   ],
   "source": [
    "df=pd.read_csv(\"Ohio_clinic.csv\")\n",
    "df.head()"
   ]
  },
  {
   "cell_type": "code",
   "execution_count": 3,
   "id": "84b4736b",
   "metadata": {},
   "outputs": [
    {
     "name": "stdout",
     "output_type": "stream",
     "text": [
      "<class 'pandas.core.frame.DataFrame'>\n",
      "RangeIndex: 110527 entries, 0 to 110526\n",
      "Data columns (total 14 columns):\n",
      " #   Column          Non-Null Count   Dtype  \n",
      "---  ------          --------------   -----  \n",
      " 0   PatientId       110527 non-null  float64\n",
      " 1   AppointmentID   110527 non-null  int64  \n",
      " 2   Gender          110527 non-null  object \n",
      " 3   ScheduledDay    110527 non-null  object \n",
      " 4   AppointmentDay  110527 non-null  object \n",
      " 5   Age             110527 non-null  int64  \n",
      " 6   Neighbourhood   110527 non-null  object \n",
      " 7   Scholarship     110527 non-null  int64  \n",
      " 8   Hipertension    110527 non-null  int64  \n",
      " 9   Diabetes        110527 non-null  int64  \n",
      " 10  Alcoholism      110527 non-null  int64  \n",
      " 11  Handcap         110527 non-null  int64  \n",
      " 12  SMS_received    110527 non-null  int64  \n",
      " 13  No-show         110527 non-null  object \n",
      "dtypes: float64(1), int64(8), object(5)\n",
      "memory usage: 11.8+ MB\n"
     ]
    },
    {
     "data": {
      "text/plain": [
       "0"
      ]
     },
     "execution_count": 3,
     "metadata": {},
     "output_type": "execute_result"
    }
   ],
   "source": [
    "#The output of df.info()/df.shape shows that the dataset contains 110527 entries and 14 columns. All columns have no missing values.\n",
    "df.shape\n",
    "df.info()\n",
    "df.isnull().sum()\n",
    "df.duplicated().sum()"
   ]
  },
  {
   "cell_type": "code",
   "execution_count": 4,
   "id": "c10b89d8",
   "metadata": {},
   "outputs": [
    {
     "data": {
      "text/html": [
       "<div>\n",
       "<style scoped>\n",
       "    .dataframe tbody tr th:only-of-type {\n",
       "        vertical-align: middle;\n",
       "    }\n",
       "\n",
       "    .dataframe tbody tr th {\n",
       "        vertical-align: top;\n",
       "    }\n",
       "\n",
       "    .dataframe thead th {\n",
       "        text-align: right;\n",
       "    }\n",
       "</style>\n",
       "<table border=\"1\" class=\"dataframe\">\n",
       "  <thead>\n",
       "    <tr style=\"text-align: right;\">\n",
       "      <th></th>\n",
       "      <th>PatientId</th>\n",
       "      <th>AppointmentID</th>\n",
       "      <th>Age</th>\n",
       "      <th>Scholarship</th>\n",
       "      <th>Hipertension</th>\n",
       "      <th>Diabetes</th>\n",
       "      <th>Alcoholism</th>\n",
       "      <th>Handcap</th>\n",
       "      <th>SMS_received</th>\n",
       "    </tr>\n",
       "  </thead>\n",
       "  <tbody>\n",
       "    <tr>\n",
       "      <th>count</th>\n",
       "      <td>1.105270e+05</td>\n",
       "      <td>1.105270e+05</td>\n",
       "      <td>110527.000000</td>\n",
       "      <td>110527.000000</td>\n",
       "      <td>110527.000000</td>\n",
       "      <td>110527.000000</td>\n",
       "      <td>110527.000000</td>\n",
       "      <td>110527.000000</td>\n",
       "      <td>110527.000000</td>\n",
       "    </tr>\n",
       "    <tr>\n",
       "      <th>mean</th>\n",
       "      <td>1.474963e+14</td>\n",
       "      <td>5.675305e+06</td>\n",
       "      <td>37.088874</td>\n",
       "      <td>0.098266</td>\n",
       "      <td>0.197246</td>\n",
       "      <td>0.071865</td>\n",
       "      <td>0.030400</td>\n",
       "      <td>0.022248</td>\n",
       "      <td>0.321026</td>\n",
       "    </tr>\n",
       "    <tr>\n",
       "      <th>std</th>\n",
       "      <td>2.560949e+14</td>\n",
       "      <td>7.129575e+04</td>\n",
       "      <td>23.110205</td>\n",
       "      <td>0.297675</td>\n",
       "      <td>0.397921</td>\n",
       "      <td>0.258265</td>\n",
       "      <td>0.171686</td>\n",
       "      <td>0.161543</td>\n",
       "      <td>0.466873</td>\n",
       "    </tr>\n",
       "    <tr>\n",
       "      <th>min</th>\n",
       "      <td>3.920000e+04</td>\n",
       "      <td>5.030230e+06</td>\n",
       "      <td>-1.000000</td>\n",
       "      <td>0.000000</td>\n",
       "      <td>0.000000</td>\n",
       "      <td>0.000000</td>\n",
       "      <td>0.000000</td>\n",
       "      <td>0.000000</td>\n",
       "      <td>0.000000</td>\n",
       "    </tr>\n",
       "    <tr>\n",
       "      <th>25%</th>\n",
       "      <td>4.172615e+12</td>\n",
       "      <td>5.640286e+06</td>\n",
       "      <td>18.000000</td>\n",
       "      <td>0.000000</td>\n",
       "      <td>0.000000</td>\n",
       "      <td>0.000000</td>\n",
       "      <td>0.000000</td>\n",
       "      <td>0.000000</td>\n",
       "      <td>0.000000</td>\n",
       "    </tr>\n",
       "    <tr>\n",
       "      <th>50%</th>\n",
       "      <td>3.173180e+13</td>\n",
       "      <td>5.680573e+06</td>\n",
       "      <td>37.000000</td>\n",
       "      <td>0.000000</td>\n",
       "      <td>0.000000</td>\n",
       "      <td>0.000000</td>\n",
       "      <td>0.000000</td>\n",
       "      <td>0.000000</td>\n",
       "      <td>0.000000</td>\n",
       "    </tr>\n",
       "    <tr>\n",
       "      <th>75%</th>\n",
       "      <td>9.439170e+13</td>\n",
       "      <td>5.725524e+06</td>\n",
       "      <td>55.000000</td>\n",
       "      <td>0.000000</td>\n",
       "      <td>0.000000</td>\n",
       "      <td>0.000000</td>\n",
       "      <td>0.000000</td>\n",
       "      <td>0.000000</td>\n",
       "      <td>1.000000</td>\n",
       "    </tr>\n",
       "    <tr>\n",
       "      <th>max</th>\n",
       "      <td>9.999820e+14</td>\n",
       "      <td>5.790484e+06</td>\n",
       "      <td>115.000000</td>\n",
       "      <td>1.000000</td>\n",
       "      <td>1.000000</td>\n",
       "      <td>1.000000</td>\n",
       "      <td>1.000000</td>\n",
       "      <td>4.000000</td>\n",
       "      <td>1.000000</td>\n",
       "    </tr>\n",
       "  </tbody>\n",
       "</table>\n",
       "</div>"
      ],
      "text/plain": [
       "          PatientId  AppointmentID            Age    Scholarship  \\\n",
       "count  1.105270e+05   1.105270e+05  110527.000000  110527.000000   \n",
       "mean   1.474963e+14   5.675305e+06      37.088874       0.098266   \n",
       "std    2.560949e+14   7.129575e+04      23.110205       0.297675   \n",
       "min    3.920000e+04   5.030230e+06      -1.000000       0.000000   \n",
       "25%    4.172615e+12   5.640286e+06      18.000000       0.000000   \n",
       "50%    3.173180e+13   5.680573e+06      37.000000       0.000000   \n",
       "75%    9.439170e+13   5.725524e+06      55.000000       0.000000   \n",
       "max    9.999820e+14   5.790484e+06     115.000000       1.000000   \n",
       "\n",
       "        Hipertension       Diabetes     Alcoholism        Handcap  \\\n",
       "count  110527.000000  110527.000000  110527.000000  110527.000000   \n",
       "mean        0.197246       0.071865       0.030400       0.022248   \n",
       "std         0.397921       0.258265       0.171686       0.161543   \n",
       "min         0.000000       0.000000       0.000000       0.000000   \n",
       "25%         0.000000       0.000000       0.000000       0.000000   \n",
       "50%         0.000000       0.000000       0.000000       0.000000   \n",
       "75%         0.000000       0.000000       0.000000       0.000000   \n",
       "max         1.000000       1.000000       1.000000       4.000000   \n",
       "\n",
       "        SMS_received  \n",
       "count  110527.000000  \n",
       "mean        0.321026  \n",
       "std         0.466873  \n",
       "min         0.000000  \n",
       "25%         0.000000  \n",
       "50%         0.000000  \n",
       "75%         1.000000  \n",
       "max         1.000000  "
      ]
     },
     "execution_count": 4,
     "metadata": {},
     "output_type": "execute_result"
    }
   ],
   "source": [
    "df.describe()\n",
    "#The df.describe() shows some insight:\n",
    "\n",
    "#The Age ranges from -1 and 115.  -1 age doesn't make sense\n",
    "#The mean Age is about 37 years\n",
    "#The painent who have Handcap are small amount of all dataset\n",
    "\n",
    "#About 32 % patients got SMS reminder"
   ]
  },
  {
   "cell_type": "code",
   "execution_count": 5,
   "id": "662b1fff",
   "metadata": {},
   "outputs": [
    {
     "data": {
      "text/plain": [
       "No     88208\n",
       "Yes    22319\n",
       "Name: No-show, dtype: int64"
      ]
     },
     "execution_count": 5,
     "metadata": {},
     "output_type": "execute_result"
    }
   ],
   "source": [
    "pd.value_counts(df[\"No-show\"]) ## The data set is imbalanced ..SMOTE CAN BE USED ... but we will see the preformance without SMOTE "
   ]
  },
  {
   "cell_type": "code",
   "execution_count": 6,
   "id": "2b0a50f4",
   "metadata": {},
   "outputs": [
    {
     "name": "stdout",
     "output_type": "stream",
     "text": [
      "PatientId          61744\n",
      "AppointmentID     110527\n",
      "Gender                 2\n",
      "ScheduledDay      103549\n",
      "AppointmentDay        27\n",
      "Age                  104\n",
      "Neighbourhood         81\n",
      "Scholarship            2\n",
      "Hipertension           2\n",
      "Diabetes               2\n",
      "Alcoholism             2\n",
      "Handcap                5\n",
      "SMS_received           2\n",
      "No-show                2\n",
      "dtype: int64\n",
      "Gender :  ['F' 'M']\n",
      "ScheduledDay :  ['2016-04-29T18:38:08Z' '2016-04-29T16:08:27Z' '2016-04-29T16:19:04Z' ...\n",
      " '2016-04-27T16:03:52Z' '2016-04-27T15:09:23Z' '2016-04-27T13:30:56Z']\n",
      "AppointmentDay :  ['2016-04-29T00:00:00Z' '2016-05-03T00:00:00Z' '2016-05-10T00:00:00Z'\n",
      " '2016-05-17T00:00:00Z' '2016-05-24T00:00:00Z' '2016-05-31T00:00:00Z'\n",
      " '2016-05-02T00:00:00Z' '2016-05-30T00:00:00Z' '2016-05-16T00:00:00Z'\n",
      " '2016-05-04T00:00:00Z' '2016-05-19T00:00:00Z' '2016-05-12T00:00:00Z'\n",
      " '2016-05-06T00:00:00Z' '2016-05-20T00:00:00Z' '2016-05-05T00:00:00Z'\n",
      " '2016-05-13T00:00:00Z' '2016-05-09T00:00:00Z' '2016-05-25T00:00:00Z'\n",
      " '2016-05-11T00:00:00Z' '2016-05-18T00:00:00Z' '2016-05-14T00:00:00Z'\n",
      " '2016-06-02T00:00:00Z' '2016-06-03T00:00:00Z' '2016-06-06T00:00:00Z'\n",
      " '2016-06-07T00:00:00Z' '2016-06-01T00:00:00Z' '2016-06-08T00:00:00Z']\n",
      "Age :  [ 62  56   8  76  23  39  21  19  30  29  22  28  54  15  50  40  46   4\n",
      "  13  65  45  51  32  12  61  38  79  18  63  64  85  59  55  71  49  78\n",
      "  31  58  27   6   2  11   7   0   3   1  69  68  60  67  36  10  35  20\n",
      "  26  34  33  16  42   5  47  17  41  44  37  24  66  77  81  70  53  75\n",
      "  73  52  74  43  89  57  14   9  48  83  72  25  80  87  88  84  82  90\n",
      "  94  86  91  98  92  96  93  95  97 102 115 100  99  -1]\n",
      "Neighbourhood :  ['JARDIM DA PENHA' 'MATA DA PRAIA' 'PONTAL DE CAMBURI' 'REPÚBLICA'\n",
      " 'GOIABEIRAS' 'ANDORINHAS' 'CONQUISTA' 'NOVA PALESTINA' 'DA PENHA'\n",
      " 'TABUAZEIRO' 'BENTO FERREIRA' 'SÃO PEDRO' 'SANTA MARTHA' 'SÃO CRISTÓVÃO'\n",
      " 'MARUÍPE' 'GRANDE VITÓRIA' 'SÃO BENEDITO' 'ILHA DAS CAIEIRAS'\n",
      " 'SANTO ANDRÉ' 'SOLON BORGES' 'BONFIM' 'JARDIM CAMBURI' 'MARIA ORTIZ'\n",
      " 'JABOUR' 'ANTÔNIO HONÓRIO' 'RESISTÊNCIA' 'ILHA DE SANTA MARIA'\n",
      " 'JUCUTUQUARA' 'MONTE BELO' 'MÁRIO CYPRESTE' 'SANTO ANTÔNIO' 'BELA VISTA'\n",
      " 'PRAIA DO SUÁ' 'SANTA HELENA' 'ITARARÉ' 'INHANGUETÁ' 'UNIVERSITÁRIO'\n",
      " 'SÃO JOSÉ' 'REDENÇÃO' 'SANTA CLARA' 'CENTRO' 'PARQUE MOSCOSO'\n",
      " 'DO MOSCOSO' 'SANTOS DUMONT' 'CARATOÍRA' 'ARIOVALDO FAVALESSA'\n",
      " 'ILHA DO FRADE' 'GURIGICA' 'JOANA D´ARC' 'CONSOLAÇÃO' 'PRAIA DO CANTO'\n",
      " 'BOA VISTA' 'MORADA DE CAMBURI' 'SANTA LUÍZA' 'SANTA LÚCIA'\n",
      " 'BARRO VERMELHO' 'ESTRELINHA' 'FORTE SÃO JOÃO' 'FONTE GRANDE'\n",
      " 'ENSEADA DO SUÁ' 'SANTOS REIS' 'PIEDADE' 'JESUS DE NAZARETH'\n",
      " 'SANTA TEREZA' 'CRUZAMENTO' 'ILHA DO PRÍNCIPE' 'ROMÃO' 'COMDUSA'\n",
      " 'SANTA CECÍLIA' 'VILA RUBIM' 'DE LOURDES' 'DO QUADRO' 'DO CABRAL' 'HORTO'\n",
      " 'SEGURANÇA DO LAR' 'ILHA DO BOI' 'FRADINHOS' 'NAZARETH' 'AEROPORTO'\n",
      " 'ILHAS OCEÂNICAS DE TRINDADE' 'PARQUE INDUSTRIAL']\n",
      "Scholarship :  [0 1]\n",
      "Hipertension :  [1 0]\n",
      "Diabetes :  [0 1]\n",
      "Alcoholism :  [0 1]\n",
      "Handcap :  [0 1 2 3 4]\n",
      "SMS_received :  [0 1]\n",
      "No-show :  ['No' 'Yes']\n"
     ]
    }
   ],
   "source": [
    "#Below  is the all unique number and variable each column contains. \n",
    "#One interesting point is patientId uqnique number is less than that of AppointmentID. \n",
    "#It's possible that a patient may have scheduled multiple appointments, but didn't show up for some of them.\n",
    "\n",
    "print(df.nunique())\n",
    "for col in df.columns[2:]:\n",
    "    print(col, \": \", df[col].unique())"
   ]
  },
  {
   "cell_type": "code",
   "execution_count": 7,
   "id": "b72ca078",
   "metadata": {},
   "outputs": [],
   "source": [
    "# Initialize Function to plot all Features within the dataset "
   ]
  },
  {
   "cell_type": "code",
   "execution_count": 8,
   "id": "0e5d793b",
   "metadata": {},
   "outputs": [],
   "source": [
    "discrete_vars=[\"Gender\",\"No-show\",\"Neighbourhood\",\"Scholarship\",\"Hipertension\",\"Diabetes\",\"Alcoholism\",\"Handcap\",\"SMS_received\"]"
   ]
  },
  {
   "cell_type": "code",
   "execution_count": 9,
   "id": "ceb5a6a9",
   "metadata": {},
   "outputs": [],
   "source": [
    "def features_plots(discrete_vars):\n",
    "    plt.figure(figsize=(15,25))\n",
    "    for i, dv in enumerate(discrete_vars):\n",
    "        plt.subplot(10,2,i+3)\n",
    "        data[dv].value_counts().plot(kind=\"bar\",title=dv)\n",
    "        plt.ylabel(\"frequency\")"
   ]
  },
  {
   "cell_type": "code",
   "execution_count": 10,
   "id": "cd869b8f",
   "metadata": {},
   "outputs": [
    {
     "ename": "NameError",
     "evalue": "name 'data' is not defined",
     "output_type": "error",
     "traceback": [
      "\u001b[0;31m---------------------------------------------------------------------------\u001b[0m",
      "\u001b[0;31mNameError\u001b[0m                                 Traceback (most recent call last)",
      "Cell \u001b[0;32mIn[10], line 1\u001b[0m\n\u001b[0;32m----> 1\u001b[0m \u001b[43mfeatures_plots\u001b[49m\u001b[43m(\u001b[49m\u001b[43mdiscrete_vars\u001b[49m\u001b[43m)\u001b[49m\n",
      "Cell \u001b[0;32mIn[9], line 5\u001b[0m, in \u001b[0;36mfeatures_plots\u001b[0;34m(discrete_vars)\u001b[0m\n\u001b[1;32m      3\u001b[0m \u001b[38;5;28;01mfor\u001b[39;00m i, dv \u001b[38;5;129;01min\u001b[39;00m \u001b[38;5;28menumerate\u001b[39m(discrete_vars):\n\u001b[1;32m      4\u001b[0m     plt\u001b[38;5;241m.\u001b[39msubplot(\u001b[38;5;241m10\u001b[39m,\u001b[38;5;241m2\u001b[39m,i\u001b[38;5;241m+\u001b[39m\u001b[38;5;241m3\u001b[39m)\n\u001b[0;32m----> 5\u001b[0m     \u001b[43mdata\u001b[49m[dv]\u001b[38;5;241m.\u001b[39mvalue_counts()\u001b[38;5;241m.\u001b[39mplot(kind\u001b[38;5;241m=\u001b[39m\u001b[38;5;124m\"\u001b[39m\u001b[38;5;124mbar\u001b[39m\u001b[38;5;124m\"\u001b[39m,title\u001b[38;5;241m=\u001b[39mdv)\n\u001b[1;32m      6\u001b[0m     plt\u001b[38;5;241m.\u001b[39mylabel(\u001b[38;5;124m\"\u001b[39m\u001b[38;5;124mfrequency\u001b[39m\u001b[38;5;124m\"\u001b[39m)\n",
      "\u001b[0;31mNameError\u001b[0m: name 'data' is not defined"
     ]
    },
    {
     "data": {
      "image/png": "[encoded data removed]",
      "text/plain": [
       "<Figure size 1500x2500 with 1 Axes>"
      ]
     },
     "metadata": {},
     "output_type": "display_data"
    }
   ],
   "source": [
    "features_plots(discrete_vars)"
   ]
  },
  {
   "cell_type": "code",
   "execution_count": null,
   "id": "26fd9d3e",
   "metadata": {},
   "outputs": [],
   "source": [
    "#No need to patient id or appointment id for analysis, so we will drop them\n",
    "df.drop(['PatientId', 'AppointmentID'], axis=1, inplace=True)\n",
    "\n",
    "# confirm changes\n",
    "df.head(1)"
   ]
  },
  {
   "cell_type": "markdown",
   "id": "d799879d",
   "metadata": {},
   "source": [
    "RENAMING COLUMNS \n"
   ]
  },
  {
   "cell_type": "code",
   "execution_count": null,
   "id": "a74fa30e",
   "metadata": {},
   "outputs": [],
   "source": [
    "df.rename(columns=lambda x: x.strip().lower().replace(\"-\", \"_\"), inplace=True)\n",
    "\n",
    "# confirm changes\n",
    "df.head(1)"
   ]
  },
  {
   "cell_type": "code",
   "execution_count": null,
   "id": "1af26204",
   "metadata": {},
   "outputs": [],
   "source": [
    "df.age.value_counts()"
   ]
  },
  {
   "cell_type": "code",
   "execution_count": null,
   "id": "0a8a7939",
   "metadata": {},
   "outputs": [],
   "source": [
    "#removing negative age\n",
    "df = df[df['age'] >= 0]\n",
    "df.age.value_counts()"
   ]
  },
  {
   "cell_type": "code",
   "execution_count": null,
   "id": "9f24d2e3",
   "metadata": {},
   "outputs": [],
   "source": [
    "# change scheduled day and appointment day to datetime \n",
    "df['scheduledday'] = pd.to_datetime(df.scheduledday)\n",
    "df['appointmentday'] = pd.to_datetime(df.appointmentday)"
   ]
  },
  {
   "cell_type": "code",
   "execution_count": null,
   "id": "bb633a00",
   "metadata": {},
   "outputs": [],
   "source": [
    "df.info()"
   ]
  },
  {
   "cell_type": "code",
   "execution_count": null,
   "id": "7057e643",
   "metadata": {},
   "outputs": [],
   "source": [
    "df.hist(figsize=(10,8));"
   ]
  },
  {
   "cell_type": "markdown",
   "id": "151f850f",
   "metadata": {},
   "source": [
    "B) INITIAL INSIGHTS "
   ]
  },
  {
   "cell_type": "markdown",
   "id": "f0dcefe6",
   "metadata": {},
   "source": [
    "Qs 1 : Does the gender of the patient has any  relation with the absence ?"
   ]
  },
  {
   "cell_type": "code",
   "execution_count": null,
   "id": "6b9ec346",
   "metadata": {},
   "outputs": [],
   "source": [
    "df.groupby('gender').no_show.value_counts(normalize=True)"
   ]
  },
  {
   "cell_type": "code",
   "execution_count": null,
   "id": "790ae27b",
   "metadata": {},
   "outputs": [],
   "source": [
    "sns.countplot(x=df['gender'], hue=df['no_show']);\n",
    "plt.title('Male vs Female absence');\n"
   ]
  },
  {
   "cell_type": "code",
   "execution_count": null,
   "id": "347d8aa4",
   "metadata": {},
   "outputs": [],
   "source": [
    "# The number of Female absence is greater than Male "
   ]
  },
  {
   "cell_type": "markdown",
   "id": "1f3ce020",
   "metadata": {},
   "source": [
    "Qs 2  Does the age of the patient has a realation with the absence?"
   ]
  },
  {
   "cell_type": "code",
   "execution_count": null,
   "id": "c08a6a5d",
   "metadata": {},
   "outputs": [],
   "source": [
    "df.groupby('age').no_show.value_counts(normalize=True)"
   ]
  },
  {
   "cell_type": "code",
   "execution_count": null,
   "id": "ceb5d0ec",
   "metadata": {},
   "outputs": [],
   "source": [
    "plt.figure(figsize=(20,5))\n",
    "sns.countplot(x=df['age'], hue=df['no_show']);\n",
    "plt.xticks(rotation=60);"
   ]
  },
  {
   "cell_type": "code",
   "execution_count": null,
   "id": "c924c98d",
   "metadata": {},
   "outputs": [],
   "source": [
    "# Old people don't show up to appointmens more than young people."
   ]
  },
  {
   "cell_type": "markdown",
   "id": "02fd0cbc",
   "metadata": {},
   "source": [
    "Qs 3 Does the neighborhood of the patient has a realation with the absence?"
   ]
  },
  {
   "cell_type": "code",
   "execution_count": null,
   "id": "7bf1ed1a",
   "metadata": {},
   "outputs": [],
   "source": [
    "df.groupby('neighbourhood').no_show.value_counts(normalize=True)"
   ]
  },
  {
   "cell_type": "code",
   "execution_count": null,
   "id": "4dac1e50",
   "metadata": {},
   "outputs": [],
   "source": [
    "plt.figure(figsize=(20,10))\n",
    "sns.countplot(x=df.neighbourhood, hue=df['no_show']);\n",
    "plt.title('Atendance by Neighborhood')\n",
    "plt.xticks(rotation=80);"
   ]
  },
  {
   "cell_type": "code",
   "execution_count": null,
   "id": "9041b259",
   "metadata": {},
   "outputs": [],
   "source": [
    "#Some neighborhood have more people absent for their appointment than others."
   ]
  },
  {
   "cell_type": "markdown",
   "id": "d8bab825",
   "metadata": {},
   "source": [
    "Qs 4 Does the scholarship affect the patient atendance?"
   ]
  },
  {
   "cell_type": "code",
   "execution_count": null,
   "id": "47da9a6a",
   "metadata": {},
   "outputs": [],
   "source": [
    "df.groupby('scholarship').no_show.value_counts(normalize=True)"
   ]
  },
  {
   "cell_type": "code",
   "execution_count": null,
   "id": "af6a6bd7",
   "metadata": {},
   "outputs": [],
   "source": [
    "sns.countplot(x=df['scholarship'], hue=df['no_show']);\n",
    "plt.title('Patient scholarship vs not attendence');"
   ]
  },
  {
   "cell_type": "code",
   "execution_count": null,
   "id": "14165b77",
   "metadata": {},
   "outputs": [],
   "source": [
    "#Group whith scholarship have more absent patients"
   ]
  },
  {
   "cell_type": "code",
   "execution_count": null,
   "id": "2afbf657",
   "metadata": {},
   "outputs": [],
   "source": [
    "#Qs 5  Does the disease type affect the patient attendance?"
   ]
  },
  {
   "cell_type": "code",
   "execution_count": null,
   "id": "d67f97ac",
   "metadata": {},
   "outputs": [],
   "source": [
    "df.groupby('hipertension').no_show.value_counts(normalize=True)"
   ]
  },
  {
   "cell_type": "code",
   "execution_count": null,
   "id": "f0118086",
   "metadata": {},
   "outputs": [],
   "source": [
    "df.groupby('diabetes').no_show.value_counts(normalize=True)"
   ]
  },
  {
   "cell_type": "code",
   "execution_count": null,
   "id": "ae5d48a5",
   "metadata": {},
   "outputs": [],
   "source": [
    "df.groupby('alcoholism').no_show.value_counts(normalize=True)"
   ]
  },
  {
   "cell_type": "code",
   "execution_count": null,
   "id": "cc5ffb27",
   "metadata": {},
   "outputs": [],
   "source": [
    "df.groupby('handcap').no_show.value_counts(normalize=True)"
   ]
  },
  {
   "cell_type": "code",
   "execution_count": null,
   "id": "424c985b",
   "metadata": {},
   "outputs": [],
   "source": [
    "plt.figure(figsize=(20,10));\n",
    "plt.subplot(2,2,1)\n",
    "sns.countplot(df['hipertension'],hue=df['no_show'])\n",
    "plt.subplot(2,2,2)\n",
    "sns.countplot(df['diabetes'],hue=df['no_show'])\n",
    "plt.subplot(2,2,3)\n",
    "sns.countplot(df['alcoholism'],hue=df['no_show'])\n",
    "plt.subplot(2,2,4)\n",
    "sns.countplot(df['handcap'],hue=df['no_show']);"
   ]
  },
  {
   "cell_type": "code",
   "execution_count": null,
   "id": "45538ffa",
   "metadata": {},
   "outputs": [],
   "source": [
    "# Patients with diseases have less absents"
   ]
  },
  {
   "cell_type": "markdown",
   "id": "944717ae",
   "metadata": {},
   "source": [
    "Qs 6 Does receiving message affect the patient atendance?"
   ]
  },
  {
   "cell_type": "code",
   "execution_count": null,
   "id": "016b26b7",
   "metadata": {},
   "outputs": [],
   "source": [
    "df.groupby('sms_received').no_show.value_counts(normalize=True)"
   ]
  },
  {
   "cell_type": "code",
   "execution_count": null,
   "id": "94f190e6",
   "metadata": {},
   "outputs": [],
   "source": [
    "sns.countplot(x=df['sms_received'], hue=df['no_show']);\n",
    "plt.title('Receiving vs Not Receiving message attendence');"
   ]
  },
  {
   "cell_type": "code",
   "execution_count": null,
   "id": "d92affe0",
   "metadata": {},
   "outputs": [],
   "source": [
    "# The group received sms has less absent patients"
   ]
  },
  {
   "cell_type": "markdown",
   "id": "1a83a8ad",
   "metadata": {},
   "source": [
    "C) CONCLUSIONS "
   ]
  },
  {
   "cell_type": "markdown",
   "id": "8b7a686a",
   "metadata": {},
   "source": [
    "The gender factor affects the no-show-up as females have more absents than males. \n",
    "\n",
    "The age factor affects the no-show-up as old patients have more absents than young patients. \n",
    "\n",
    "The neighborhood factor affects the no-show-up as \n",
    "\n",
    "Some neighborhoods have more people absent for their appointment than others. \n",
    "\n",
    "The gender factor affects the no-show-up as the group whith scholearship have more absent patients. \n",
    "\n",
    "The diseases factor affects the no-show-up as the patient with diseases\n",
    "\n",
    "like hipertension, diabetes and handcap have less absents. \n",
    "\n",
    "The sms-recieving factor affects the no-show-up as the group received sms has less absent patients."
   ]
  },
  {
   "cell_type": "markdown",
   "id": "056d0524",
   "metadata": {},
   "source": [
    "D) FEATURE ENGINEERING "
   ]
  },
  {
   "cell_type": "code",
   "execution_count": null,
   "id": "447f694a",
   "metadata": {},
   "outputs": [],
   "source": [
    "print(df.nunique())\n",
    "for col in df.columns[2:]:\n",
    "    print(col, \": \", df[col].unique())"
   ]
  },
  {
   "cell_type": "code",
   "execution_count": null,
   "id": "a371f6dc",
   "metadata": {},
   "outputs": [],
   "source": [
    "ordered_neigbours = ['JARDIM DA PENHA', 'MATA DA PRAIA', 'PONTAL DE CAMBURI', 'REPÚBLICA','GOIABEIRAS', 'ANDORINHAS', 'CONQUISTA', 'NOVA PALESTINA', 'DA PENHA',         'TABUAZEIRO', 'BENTO FERREIRA', 'SÃO PEDRO', 'SANTA MARTHA', 'SÃO CRISTÓVÃO',         'MARUÍPE', 'GRANDE VITÓRIA', 'SÃO BENEDITO', 'ILHA DAS CAIEIRAS',         'SANTO ANDRÉ', 'SOLON BORGES', 'BONFIM', 'JARDIM CAMBURI', 'MARIA ORTIZ',         'JABOUR', 'ANTÔNIO HONÓRIO', 'RESISTÊNCIA', 'ILHA DE SANTA MARIA',         'JUCUTUQUARA', 'MONTE BELO', 'MÁRIO CYPRESTE', 'SANTO ANTÔNIO', 'BELA VISTA',         'PRAIA DO SUÁ', 'SANTA HELENA', 'ITARARÉ', 'INHANGUETÁ', 'UNIVERSITÁRIO',         'SÃO JOSÉ', 'REDENÇÃO', 'SANTA CLARA', 'CENTRO', 'PARQUE MOSCOSO',         'DO MOSCOSO', 'SANTOS DUMONT', 'CARATOÍRA', 'ARIOVALDO FAVALESSA',         'ILHA DO FRADE', 'GURIGICA', 'JOANA D´ARC', 'CONSOLAÇÃO', 'PRAIA DO CANTO',         'BOA VISTA', 'MORADA DE CAMBURI', 'SANTA LUÍZA', 'SANTA LÚCIA',         'BARRO VERMELHO', 'ESTRELINHA', 'FORTE SÃO JOÃO', 'FONTE GRANDE',         'ENSEADA DO SUÁ', 'SANTOS REIS', 'PIEDADE', 'JESUS DE NAZARETH',         'SANTA TEREZA', 'CRUZAMENTO', 'ILHA DO PRÍNCIPE', 'ROMÃO', 'COMDUSA',         'SANTA CECÍLIA', 'VILA RUBIM', 'DE LOURDES', 'DO QUADRO', 'DO CABRAL', 'HORTO',         'SEGURANÇA DO LAR', 'ILHA DO BOI', 'FRADINHOS', 'NAZARETH', 'AEROPORTO', 'ILHAS OCEÂNICAS DE TRINDADE', 'PARQUE INDUSTRIAL']\n",
    "neibours_to_int = {are: i for i, are in enumerate(ordered_neigbours)}"
   ]
  },
  {
   "cell_type": "code",
   "execution_count": null,
   "id": "0f12f3b8",
   "metadata": {},
   "outputs": [],
   "source": [
    "def get_region(n):\n",
    "    for key, val in neibours_to_int.items():\n",
    "        if key == n:\n",
    "            return val\n",
    "    return None"
   ]
  },
  {
   "cell_type": "code",
   "execution_count": null,
   "id": "fc187f61",
   "metadata": {},
   "outputs": [],
   "source": [
    "# Feature Engineering-Appropriate encoding of features --Date time  & Label Encoding "
   ]
  },
  {
   "cell_type": "raw",
   "id": "39b41949",
   "metadata": {},
   "source": [
    "#This is a common technique used to transform non-numerical data into a format for later model training step."
   ]
  },
  {
   "cell_type": "code",
   "execution_count": null,
   "id": "3a4d166e",
   "metadata": {},
   "outputs": [],
   "source": []
  },
  {
   "cell_type": "code",
   "execution_count": null,
   "id": "a61c2c92",
   "metadata": {},
   "outputs": [],
   "source": [
    "df[\"AppointmentDay\"] = pd.to_datetime(df[\"appointmentday\"])\n",
    "df[\"ScheduledDay\"] = pd.to_datetime(df[\"scheduledday\"])\n",
    "df[\"WaitingDay\"] = df[\"appointmentday\"] - df[\"scheduledday\"]\n",
    "df[\"WaitingDay\"] = df[\"WaitingDay\"].dt.days + 1\n",
    "\n",
    "df[\"ScheduledDay_year\"] = df[\"ScheduledDay\"].dt.year\n",
    "df[\"ScheduledDay_month\"] = df[\"ScheduledDay\"].dt.month\n",
    "df[\"ScheduledDay_weekday\"] = df[\"ScheduledDay\"].dt.day_name()\n",
    "df[\"ScheduledDay_day\"] = df[\"ScheduledDay\"].dt.day\n",
    "\n",
    "df[\"AppointmentDay_year\"] = df[\"AppointmentDay\"].dt.year\n",
    "df[\"AppointmentDay_month\"] = df[\"AppointmentDay\"].dt.month\n",
    "df[\"AppointmentDay_weekday\"] = df[\"AppointmentDay\"].dt.day_name()\n",
    "df[\"AppointmentDay_day\"] = df[\"AppointmentDay\"].dt.day\n",
    "\n",
    "df[\"Neighbourhood\"] = df[\"neighbourhood\"].apply(get_region)\n",
    "\n",
    "le = LabelEncoder()\n",
    "for col in [\"gender\", \"no_show\", \"AppointmentDay_weekday\", \"ScheduledDay_weekday\"]:\n",
    "    df[col] = le.fit_transform(df[col])"
   ]
  },
  {
   "cell_type": "code",
   "execution_count": null,
   "id": "ce34f460",
   "metadata": {},
   "outputs": [],
   "source": [
    "#df.info()"
   ]
  },
  {
   "cell_type": "markdown",
   "id": "5e3f2c50",
   "metadata": {},
   "source": [
    "E)  Handling -Waiting Period and Age "
   ]
  },
  {
   "cell_type": "code",
   "execution_count": null,
   "id": "aba85e92",
   "metadata": {},
   "outputs": [],
   "source": []
  },
  {
   "cell_type": "code",
   "execution_count": null,
   "id": "a1edad7a",
   "metadata": {},
   "outputs": [],
   "source": [
    "#Appointment day can't be before scheduling day\n",
    "#Negative age  is not a valid entry "
   ]
  },
  {
   "cell_type": "code",
   "execution_count": null,
   "id": "003be450",
   "metadata": {},
   "outputs": [],
   "source": [
    "df.drop(df[df[\"WaitingDay\"] < 0].index, inplace=True)\n",
    "df[df[\"WaitingDay\"] < 0]"
   ]
  },
  {
   "cell_type": "code",
   "execution_count": null,
   "id": "7f290f64",
   "metadata": {},
   "outputs": [],
   "source": [
    "df.drop(df[df[\"age\"] < 0].index, inplace=True)\n",
    "df[df[\"age\"] < 0]"
   ]
  },
  {
   "cell_type": "code",
   "execution_count": null,
   "id": "3631d9b6",
   "metadata": {},
   "outputs": [],
   "source": []
  },
  {
   "cell_type": "markdown",
   "id": "fe1f04ce",
   "metadata": {},
   "source": [
    "F) EXPLORATORY DATA ANALYSIS "
   ]
  },
  {
   "cell_type": "markdown",
   "id": "9bf61477",
   "metadata": {},
   "source": [
    "The following 4 EDA plots shows:\n",
    "\n",
    "The first pie chart indicates show vs noshow ration. 79.8% patients show, while 20.2% ones don't. If we predict all patients show, it will give roughly 80% accuracy.\n",
    "\n",
    "The second table indicates patients who show or no show have some distinct features. There's no obious difference between show or noshow patients, but younder patients tend to noshow.\n",
    "\n",
    "The third headmap shows no obious correlation among all of 2 features.\n",
    "\n",
    "The 4th pairplot shows, patient show received SMS tend to no show, and 0 waiting day patient are likely to show."
   ]
  },
  {
   "cell_type": "code",
   "execution_count": null,
   "id": "893d8ec9",
   "metadata": {},
   "outputs": [],
   "source": [
    "plt.pie(df[\"no_show\"].value_counts(), labels=[\"show\", \"no_show\"], autopct=\"%.01f%%\")\n",
    "plt.show()"
   ]
  },
  {
   "cell_type": "code",
   "execution_count": null,
   "id": "621e3277",
   "metadata": {},
   "outputs": [],
   "source": [
    "df.groupby(\"no_show\")[\"age\", \"scholarship\", \"sms_received\"].mean()"
   ]
  },
  {
   "cell_type": "code",
   "execution_count": null,
   "id": "9517f361",
   "metadata": {},
   "outputs": [],
   "source": [
    "sns.heatmap(df.corr(), cmap=\"coolwarm\")"
   ]
  },
  {
   "cell_type": "code",
   "execution_count": null,
   "id": "19747f77",
   "metadata": {},
   "outputs": [],
   "source": [
    "cols = [\"gender\", \"age\", \"sms_received\", \"WaitingDay\"]\n",
    "sns.pairplot(df.sample(10000), vars=cols, hue=\"no_show\")\n",
    "plt.show()"
   ]
  },
  {
   "cell_type": "markdown",
   "id": "ce7c06ac",
   "metadata": {},
   "source": [
    "G) MODELLING"
   ]
  },
  {
   "cell_type": "markdown",
   "id": "4acb3d04",
   "metadata": {},
   "source": [
    "Prepare dataset\n",
    "\n",
    "We don't need \"ScheduledDay\" and \"AppointmentDay\" since those 2 data are already\n",
    "\n",
    "included in another column, like \"AppointmentDay_year\", \"AppointmentDay_month\", and so forth. \n",
    "\n"
   ]
  },
  {
   "cell_type": "code",
   "execution_count": null,
   "id": "3d6c6cb2",
   "metadata": {},
   "outputs": [],
   "source": [
    "#df.columns"
   ]
  },
  {
   "cell_type": "code",
   "execution_count": null,
   "id": "e89f5c3b",
   "metadata": {},
   "outputs": [],
   "source": [
    "X=df[['gender','age','scholarship','ScheduledDay_year', 'ScheduledDay_month','ScheduledDay_weekday','ScheduledDay_day','hipertension', 'diabetes', 'alcoholism','AppointmentDay_month','AppointmentDay_weekday', 'handcap','sms_received','AppointmentDay_day','WaitingDay','Neighbourhood']]"
   ]
  },
  {
   "cell_type": "code",
   "execution_count": null,
   "id": "bd02f76c",
   "metadata": {},
   "outputs": [],
   "source": [
    "y = df[\"no_show\"]\n",
    "random_state = 124\n",
    "test_size = 0.2\n",
    "X_train, X_test, y_train, y_test = train_test_split(X, y, test_size=test_size)\n",
    "print(len(X_train), len(X_test))"
   ]
  },
  {
   "cell_type": "markdown",
   "id": "aab688d0",
   "metadata": {},
   "source": [
    "Model Training and Evaluation"
   ]
  },
  {
   "cell_type": "markdown",
   "id": "26bba46f",
   "metadata": {},
   "source": [
    "An iterative process to train the model. \n",
    "\n",
    "where 3metrics for evaluation were considered , accuracy, ROC_AUC , Classification report \n",
    "\n",
    "This project is binary classification problem so accuracy is  important but it doesn't give us good feedback for how well model trains. \n",
    "\n",
    "\n",
    "The iteratve process as follows:\n",
    "\n",
    "1.Prepare dataset\n",
    "\n",
    "2. Make the model\n",
    "\n",
    "3. Evaluate its accuracy, ROC_AUC, Classification Report \n",
    "\n",
    "Get feature importance\n",
    "\n"
   ]
  },
  {
   "cell_type": "code",
   "execution_count": null,
   "id": "27f7c858",
   "metadata": {},
   "outputs": [],
   "source": [
    "random_state = 124\n",
    "test_size = 0.2\n",
    "min_samples_leaf = 25\n",
    "scoring = {\"accuracy\": make_scorer(accuracy_score),\n",
    "           \"ROC_AUC\": make_scorer(roc_auc_score)}\n",
    "ordered_neigbours = ['JARDIM DA PENHA', 'MATA DA PRAIA', 'PONTAL DE CAMBURI', 'REPÚBLICA',         'GOIABEIRAS', 'ANDORINHAS', 'CONQUISTA', 'NOVA PALESTINA', 'DA PENHA',         'TABUAZEIRO', 'BENTO FERREIRA', 'SÃO PEDRO', 'SANTA MARTHA', 'SÃO CRISTÓVÃO',         'MARUÍPE', 'GRANDE VITÓRIA', 'SÃO BENEDITO', 'ILHA DAS CAIEIRAS',         'SANTO ANDRÉ', 'SOLON BORGES', 'BONFIM', 'JARDIM CAMBURI', 'MARIA ORTIZ',         'JABOUR', 'ANTÔNIO HONÓRIO', 'RESISTÊNCIA', 'ILHA DE SANTA MARIA',         'JUCUTUQUARA', 'MONTE BELO', 'MÁRIO CYPRESTE', 'SANTO ANTÔNIO', 'BELA VISTA',         'PRAIA DO SUÁ', 'SANTA HELENA', 'ITARARÉ', 'INHANGUETÁ', 'UNIVERSITÁRIO',         'SÃO JOSÉ', 'REDENÇÃO', 'SANTA CLARA', 'CENTRO', 'PARQUE MOSCOSO',         'DO MOSCOSO', 'SANTOS DUMONT', 'CARATOÍRA', 'ARIOVALDO FAVALESSA',         'ILHA DO FRADE', 'GURIGICA', 'JOANA D´ARC', 'CONSOLAÇÃO', 'PRAIA DO CANTO',         'BOA VISTA', 'MORADA DE CAMBURI', 'SANTA LUÍZA', 'SANTA LÚCIA',         'BARRO VERMELHO', 'ESTRELINHA', 'FORTE SÃO JOÃO', 'FONTE GRANDE',         'ENSEADA DO SUÁ', 'SANTOS REIS', 'PIEDADE', 'JESUS DE NAZARETH',         'SANTA TEREZA', 'CRUZAMENTO', 'ILHA DO PRÍNCIPE', 'ROMÃO', 'COMDUSA',         'SANTA CECÍLIA', 'VILA RUBIM', 'DE LOURDES', 'DO QUADRO', 'DO CABRAL', 'HORTO',         'SEGURANÇA DO LAR', 'ILHA DO BOI', 'FRADINHOS', 'NAZARETH', 'AEROPORTO', 'ILHAS OCEÂNICAS DE TRINDADE', 'PARQUE INDUSTRIAL']\n",
    "neibours_to_int = {are: i for i, are in enumerate(ordered_neigbours)}"
   ]
  },
  {
   "cell_type": "code",
   "execution_count": null,
   "id": "cd6f774b",
   "metadata": {},
   "outputs": [],
   "source": [
    "# HELPER FUNCTIONS :"
   ]
  },
  {
   "cell_type": "code",
   "execution_count": null,
   "id": "a7d13181",
   "metadata": {},
   "outputs": [],
   "source": [
    "# helper functions\n",
    "def get_scores(model, X_test, y_test, cv=5, scoring=scoring):\n",
    "    scores = cross_validate(model, X_test, y_test, cv=cv, scoring=scoring)\n",
    "    print(\"Accuracy: %.3f\" % np.mean(scores[\"test_accuracy\"]))\n",
    "    print(\"ROC_AUC: %.3f\" % np.mean(scores[\"test_ROC_AUC\"]))\n",
    "    \n",
    "\n",
    "def get_importance_plot(model, X_train):\n",
    "    imps = pd.Series(model.feature_importances_, index=X_train.columns)\n",
    "    imps = imps.sort_values(ascending=True)\n",
    "\n",
    "    sns.barplot(x=imps, y=imps.index)\n",
    "    plt.title(\"Feature Importance\")\n",
    "    plt.xlabel(\"Importance\")\n",
    "    plt.ylabel(\"Feature\")\n",
    "\n",
    "def get_region(n):\n",
    "    for key, val in neibours_to_int.items():\n",
    "        if key == n:\n",
    "            return val\n",
    "    return None\n",
    "\n"
   ]
  },
  {
   "cell_type": "code",
   "execution_count": null,
   "id": "039faafc",
   "metadata": {},
   "outputs": [],
   "source": [
    "\n"
   ]
  },
  {
   "cell_type": "markdown",
   "id": "a1ddbf97",
   "metadata": {},
   "source": [
    "FIRST ITERATION :"
   ]
  },
  {
   "cell_type": "code",
   "execution_count": null,
   "id": "0bd0cecf",
   "metadata": {},
   "outputs": [],
   "source": [
    "model_1 = DecisionTreeClassifier(random_state=random_state, min_samples_leaf=min_samples_leaf)\n",
    "model_1.fit(X_train, y_train)\n",
    "get_importance_plot(model_1, X_train)"
   ]
  },
  {
   "cell_type": "code",
   "execution_count": null,
   "id": "ec18946b",
   "metadata": {},
   "outputs": [],
   "source": [
    "model_1 = DecisionTreeClassifier(random_state=random_state, min_samples_leaf=min_samples_leaf)\n",
    "model_1.fit(X_train, y_train)\n",
    "model_1.score(X_test, y_test)\n",
    "get_scores(model_1, X_test, y_test)\n",
    "get_importance_plot(model_1, X_train)"
   ]
  },
  {
   "cell_type": "markdown",
   "id": "bac199f1",
   "metadata": {},
   "source": [
    "SECOND ITERATION--RANDOM FOREST "
   ]
  },
  {
   "cell_type": "code",
   "execution_count": null,
   "id": "b04c6c10",
   "metadata": {},
   "outputs": [],
   "source": [
    "rf_params = { \"n_estimators\": [100, 150, 200],\"criterion\": [\"gini\", \"entropy\"],\"max_depth\": [None, 5, 10, 15],\"min_samples_leaf\": [5, 10, 20, 40],\n",
    "   \"max_features\": [\"auto\", \"sqrt\", \"log2\"]}\n",
    "\n",
    "rf_model_3 = RandomForestClassifier(random_state=random_state)\n",
    "rf_random_search = RandomizedSearchCV(rf_model_3, rf_params, cv=5, n_iter=20, random_state=random_state, scoring=\"accuracy\")\n",
    "rf_random_search.fit(X_train, y_train)\n",
    "\n",
    "print(\"Best Hyper params for random forest classifier: \")\n",
    "print(rf_random_search.best_params_)\n",
    "\n",
    "rf_model_tuned = RandomForestClassifier(**rf_random_search.best_params_, random_state=random_state)\n",
    "\n",
    "rf_model_tuned.fit(X_train, y_train)\n",
    "get_scores(rf_model_tuned, X_test, y_test)"
   ]
  },
  {
   "cell_type": "markdown",
   "id": "ae01a10f",
   "metadata": {},
   "source": [
    "3RD ITERATION --GRADIENT BOOSTING CLASSIFIER"
   ]
  },
  {
   "cell_type": "markdown",
   "id": "0e3cf9d9",
   "metadata": {},
   "source": [
    "BOOSTING --GRADIENT BOOSTING CLASSIFIER "
   ]
  },
  {
   "cell_type": "code",
   "execution_count": null,
   "id": "42d1be9d",
   "metadata": {},
   "outputs": [],
   "source": [
    "from sklearn.ensemble import RandomForestClassifier,GradientBoostingClassifier,AdaBoostClassifier"
   ]
  },
  {
   "cell_type": "code",
   "execution_count": null,
   "id": "e6f9e1a1",
   "metadata": {},
   "outputs": [],
   "source": [
    "Model_boosting=GradientBoostingClassifier(random_state=10,learning_rate=.1,n_estimators=200,max_depth=6,max_features=15)"
   ]
  },
  {
   "cell_type": "code",
   "execution_count": null,
   "id": "bcf1e6d7",
   "metadata": {},
   "outputs": [],
   "source": [
    "Model_boosting.fit(X_train,y_train)\n",
    "\n",
    "y_pred=Model_boosting.predict(X_test)\n",
    "\n",
    "get_scores(Model_boosting, X_test, y_test)"
   ]
  },
  {
   "cell_type": "markdown",
   "id": "a15b216c",
   "metadata": {},
   "source": [
    "4th ITERATION --ADA BOOST CLASSIFIER"
   ]
  },
  {
   "cell_type": "code",
   "execution_count": null,
   "id": "d71ef8e4",
   "metadata": {},
   "outputs": [],
   "source": []
  },
  {
   "cell_type": "code",
   "execution_count": null,
   "id": "0f4c3346",
   "metadata": {},
   "outputs": [],
   "source": [
    "Adaboost=AdaBoostClassifier()\n",
    "Adaboost.fit(X_train,y_train)\n",
    "\n",
    "get_scores(Adaboost, X_test, y_test)"
   ]
  },
  {
   "cell_type": "code",
   "execution_count": null,
   "id": "e0ffa180",
   "metadata": {},
   "outputs": [],
   "source": [
    "y_pred=Adaboost.predict(X_test)"
   ]
  },
  {
   "cell_type": "code",
   "execution_count": null,
   "id": "15c1ea3c",
   "metadata": {},
   "outputs": [],
   "source": [
    "confusion_matrix(y_test,y_pred)"
   ]
  },
  {
   "cell_type": "code",
   "execution_count": null,
   "id": "abf9ab4b",
   "metadata": {},
   "outputs": [],
   "source": [
    "from yellowbrick.classifier import ROCAUC"
   ]
  },
  {
   "cell_type": "code",
   "execution_count": null,
   "id": "e3e4a029",
   "metadata": {},
   "outputs": [],
   "source": [
    "visualizer = ROCAUC(Model_boosting, classes=[\"Yes\", \"No\"])\n",
    "\n",
    "visualizer.fit(X_train, y_train)        # Fit the training data to the visualizer\n",
    "visualizer.score(X_test, y_test)        # Evaluate the model on the test data\n",
    "visualizer.show()                 "
   ]
  },
  {
   "cell_type": "code",
   "execution_count": null,
   "id": "c2fd05d6",
   "metadata": {},
   "outputs": [],
   "source": [
    "print(classification_report(y_test,y_pred))"
   ]
  },
  {
   "cell_type": "markdown",
   "id": "fc34c293",
   "metadata": {},
   "source": [
    "WAY FORWARD --\n",
    "\n",
    "1. Improve model performance using other techniques like feature reduction /PCA \n",
    "\n",
    "2. Addressing class imbalance through SMOTE \n",
    "\n",
    "3. Creating new features through Feature Engineering \n",
    "\n",
    "4. Combination of above \n",
    "\n"
   ]
  },
  {
   "cell_type": "code",
   "execution_count": null,
   "id": "b611654c",
   "metadata": {},
   "outputs": [],
   "source": [
    "import imblearn\n",
    "print(imblearn.__version__)\n",
    "from imblearn.over_sampling import SMOTE\n",
    "\n"
   ]
  },
  {
   "cell_type": "markdown",
   "id": "074f5c7f",
   "metadata": {},
   "source": [
    "REDO THE DATASET USING SMOTE TO CORRECT THE CLASS IMBALANCE "
   ]
  },
  {
   "cell_type": "code",
   "execution_count": null,
   "id": "f6a42522",
   "metadata": {},
   "outputs": [],
   "source": []
  }
 ],
 "metadata": {
  "kernelspec": {
   "display_name": "Python 3 (ipykernel)",
   "language": "python",
   "name": "python3"
  },
  "language_info": {
   "codemirror_mode": {
    "name": "ipython",
    "version": 3
   },
   "file_extension": ".py",
   "mimetype": "text/x-python",
   "name": "python",
   "nbconvert_exporter": "python",
   "pygments_lexer": "ipython3",
   "version": "3.10.9"
  }
 },
 "nbformat": 4,
 "nbformat_minor": 5
}
