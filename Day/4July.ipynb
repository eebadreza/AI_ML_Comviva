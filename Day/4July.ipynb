{
 "cells": [
  {
   "attachments": {
    "python.png": {
     "image/png": "[encoded data removed]"
    }
   },
   "cell_type": "markdown",
   "id": "e702103e",
   "metadata": {},
   "source": [
    "![python.png](attachment:python.png)"
   ]
  },
  {
   "cell_type": "markdown",
   "id": "220b500d",
   "metadata": {},
   "source": [
    "### Python Introduction-Day2"
   ]
  },
  {
   "cell_type": "markdown",
   "id": "48a5bce5",
   "metadata": {},
   "source": [
    "#### Python Data Types\n",
    "* Basic Types:integer,float,boolean, string, complex\n",
    "* Container Types: list, tuple, set, dictionary"
   ]
  },
  {
   "cell_type": "markdown",
   "id": "607d2cad",
   "metadata": {},
   "source": [
    "#### Python data structures\n",
    "#### Container Types: list, tuple, set, dictionary\n",
    "#### Mutable and Immutable\n",
    "#### Mutable: list,set,dictionary\n",
    "#### Immutable: Tuple"
   ]
  },
  {
   "cell_type": "markdown",
   "id": "913b6be6",
   "metadata": {},
   "source": [
    "# list : contain heterogeneous data types"
   ]
  },
  {
   "cell_type": "code",
   "execution_count": null,
   "id": "0b027aa9",
   "metadata": {},
   "outputs": [],
   "source": [
    "a=6\n",
    "print(\"the memory address of variable a\", id(a))\n",
    "\n",
    "a=10\n",
    "print(\"the memory address of variable a\", id(a))\n",
    "\n",
    "# sum=a+10\n",
    "# print()"
   ]
  },
  {
   "cell_type": "code",
   "execution_count": null,
   "id": "7d9db304",
   "metadata": {},
   "outputs": [],
   "source": [
    "# create an empty list \n",
    "l1=[]\n",
    "l1\n",
    "type(l1)"
   ]
  },
  {
   "cell_type": "code",
   "execution_count": null,
   "id": "00c66743",
   "metadata": {},
   "outputs": [],
   "source": [
    "# create a list with the following details\n",
    "# name, reg.no, contact, cgpa, status\n",
    "data=[\"kumar\",2041016108,9900495605,9.45,True]\n",
    "data"
   ]
  },
  {
   "cell_type": "code",
   "execution_count": null,
   "id": "46e6c63e",
   "metadata": {},
   "outputs": [],
   "source": [
    "# create a list by using list() constructor\n",
    "l1=list()"
   ]
  },
  {
   "cell_type": "code",
   "execution_count": null,
   "id": "54d05485",
   "metadata": {},
   "outputs": [],
   "source": [
    "data=list((\"kumar\",2041016108,9900495605,9.45,True))\n",
    "data"
   ]
  },
  {
   "cell_type": "code",
   "execution_count": null,
   "id": "15de963f",
   "metadata": {},
   "outputs": [],
   "source": [
    "data[0]"
   ]
  },
  {
   "cell_type": "code",
   "execution_count": null,
   "id": "65b061be",
   "metadata": {},
   "outputs": [],
   "source": [
    "data1=[\"kumar\",2041016108,9900495605,9.45,True,['d1','d2','d3']]\n",
    "data1"
   ]
  },
  {
   "cell_type": "code",
   "execution_count": null,
   "id": "9fa0f400",
   "metadata": {},
   "outputs": [],
   "source": [
    "data1[5]"
   ]
  },
  {
   "cell_type": "markdown",
   "id": "112bbd3c",
   "metadata": {},
   "source": [
    "* positive index and negative index"
   ]
  },
  {
   "cell_type": "code",
   "execution_count": null,
   "id": "0698a5b2",
   "metadata": {},
   "outputs": [],
   "source": [
    "# Postiive index 0---->1---->2\n",
    "# negative index -2\n",
    "data1[-1]"
   ]
  },
  {
   "cell_type": "markdown",
   "id": "88c6d048",
   "metadata": {},
   "source": [
    "* slicing :[first_index:last_index index:step]"
   ]
  },
  {
   "cell_type": "code",
   "execution_count": null,
   "id": "a4507017",
   "metadata": {},
   "outputs": [],
   "source": [
    "data1[:]"
   ]
  },
  {
   "cell_type": "code",
   "execution_count": null,
   "id": "dd4a21bd",
   "metadata": {},
   "outputs": [],
   "source": [
    "data1[2:]"
   ]
  },
  {
   "cell_type": "code",
   "execution_count": null,
   "id": "f6749c28",
   "metadata": {},
   "outputs": [],
   "source": [
    "data1[:2]"
   ]
  },
  {
   "cell_type": "code",
   "execution_count": null,
   "id": "57dbf75f",
   "metadata": {},
   "outputs": [],
   "source": [
    "data1[2:4]"
   ]
  },
  {
   "cell_type": "code",
   "execution_count": null,
   "id": "5b319381",
   "metadata": {},
   "outputs": [],
   "source": [
    "data1[::1]"
   ]
  },
  {
   "cell_type": "code",
   "execution_count": null,
   "id": "19ff5918",
   "metadata": {},
   "outputs": [],
   "source": [
    "data1[::2]"
   ]
  },
  {
   "cell_type": "code",
   "execution_count": null,
   "id": "fc0e87c4",
   "metadata": {},
   "outputs": [],
   "source": [
    "data1[2:-1] # index 2 to index -2"
   ]
  },
  {
   "cell_type": "markdown",
   "id": "f0d51d55",
   "metadata": {},
   "source": [
    "### list methods"
   ]
  },
  {
   "cell_type": "markdown",
   "id": "c77250b0",
   "metadata": {},
   "source": [
    "* append()\n",
    "* extend()\n",
    "* index()\n",
    "* insert()\n",
    "* remove()\n",
    "* count()\n",
    "* pop()\n",
    "* sort()\n",
    "* reverse()\n",
    "* copy()\n",
    "* sum()\n",
    "* clear()\n",
    "* min()\n",
    "* max()\n",
    "* len()"
   ]
  },
  {
   "cell_type": "code",
   "execution_count": null,
   "id": "674c9de8",
   "metadata": {},
   "outputs": [],
   "source": [
    "L2=[1,2,3]\n",
    "L2"
   ]
  },
  {
   "cell_type": "code",
   "execution_count": null,
   "id": "0a95df73",
   "metadata": {},
   "outputs": [],
   "source": [
    "L2.append(4)"
   ]
  },
  {
   "cell_type": "code",
   "execution_count": null,
   "id": "33ac6937",
   "metadata": {},
   "outputs": [],
   "source": [
    "L2"
   ]
  },
  {
   "cell_type": "code",
   "execution_count": null,
   "id": "995c07ae",
   "metadata": {},
   "outputs": [],
   "source": [
    "L2=[1,2,3]"
   ]
  },
  {
   "cell_type": "code",
   "execution_count": null,
   "id": "5832f916",
   "metadata": {},
   "outputs": [],
   "source": [
    "L2"
   ]
  },
  {
   "cell_type": "code",
   "execution_count": null,
   "id": "0d9a9f9a",
   "metadata": {},
   "outputs": [],
   "source": [
    "L2.extend([4])"
   ]
  },
  {
   "cell_type": "code",
   "execution_count": null,
   "id": "d6e532ff",
   "metadata": {},
   "outputs": [],
   "source": [
    "L2"
   ]
  },
  {
   "cell_type": "code",
   "execution_count": null,
   "id": "56ae11ea",
   "metadata": {},
   "outputs": [],
   "source": [
    "L2=[1,2,3]"
   ]
  },
  {
   "cell_type": "code",
   "execution_count": null,
   "id": "afe4aa7d",
   "metadata": {},
   "outputs": [],
   "source": [
    "L2.append([4])"
   ]
  },
  {
   "cell_type": "code",
   "execution_count": null,
   "id": "f164cff0",
   "metadata": {},
   "outputs": [],
   "source": [
    "L2"
   ]
  },
  {
   "cell_type": "code",
   "execution_count": null,
   "id": "889b2172",
   "metadata": {},
   "outputs": [],
   "source": [
    "L2=[1,2,3]\n",
    "L2.extend([4,5])\n",
    "L2"
   ]
  },
  {
   "cell_type": "code",
   "execution_count": null,
   "id": "b4706e89",
   "metadata": {},
   "outputs": [],
   "source": [
    "L2=[1,2,3]"
   ]
  },
  {
   "cell_type": "code",
   "execution_count": null,
   "id": "c7e4c57d",
   "metadata": {},
   "outputs": [],
   "source": [
    "L2.append([4,5])\n",
    "L2"
   ]
  },
  {
   "cell_type": "code",
   "execution_count": null,
   "id": "bb47a194",
   "metadata": {},
   "outputs": [],
   "source": [
    "L2.append([6,7,8])\n",
    "L2"
   ]
  },
  {
   "cell_type": "code",
   "execution_count": null,
   "id": "51b0e4cf",
   "metadata": {},
   "outputs": [],
   "source": [
    "L2=[]"
   ]
  },
  {
   "cell_type": "code",
   "execution_count": null,
   "id": "52b7b535",
   "metadata": {},
   "outputs": [],
   "source": [
    "L2.append([1,2,3])"
   ]
  },
  {
   "cell_type": "code",
   "execution_count": null,
   "id": "9d58a424",
   "metadata": {},
   "outputs": [],
   "source": [
    "L2"
   ]
  },
  {
   "cell_type": "code",
   "execution_count": null,
   "id": "c1196f31",
   "metadata": {},
   "outputs": [],
   "source": [
    "L2.append([4,5])\n",
    "L2.append([6,7,8])\n",
    "L2"
   ]
  },
  {
   "cell_type": "code",
   "execution_count": null,
   "id": "b3baff90",
   "metadata": {},
   "outputs": [],
   "source": [
    "L2.index([4,5])"
   ]
  },
  {
   "cell_type": "code",
   "execution_count": null,
   "id": "f2838c6a",
   "metadata": {},
   "outputs": [],
   "source": [
    "L3=['a','b','d']\n",
    "L3"
   ]
  },
  {
   "cell_type": "code",
   "execution_count": null,
   "id": "8b298764",
   "metadata": {},
   "outputs": [],
   "source": [
    "L3.insert(2,'c')\n",
    "L3"
   ]
  },
  {
   "cell_type": "code",
   "execution_count": null,
   "id": "98a80fb3",
   "metadata": {},
   "outputs": [],
   "source": [
    "L3.remove('c')\n",
    "L3"
   ]
  },
  {
   "cell_type": "code",
   "execution_count": null,
   "id": "96158501",
   "metadata": {},
   "outputs": [],
   "source": [
    "L3.count('a')"
   ]
  },
  {
   "cell_type": "code",
   "execution_count": null,
   "id": "57b028fb",
   "metadata": {},
   "outputs": [],
   "source": [
    "L3.insert(2,'a')\n",
    "L3"
   ]
  },
  {
   "cell_type": "code",
   "execution_count": null,
   "id": "0c5c6d5c",
   "metadata": {},
   "outputs": [],
   "source": [
    "L3.count('a')"
   ]
  },
  {
   "cell_type": "code",
   "execution_count": null,
   "id": "fe6eef51",
   "metadata": {},
   "outputs": [],
   "source": [
    "L3.pop()\n",
    "L3"
   ]
  },
  {
   "cell_type": "code",
   "execution_count": null,
   "id": "3717d0c0",
   "metadata": {},
   "outputs": [],
   "source": [
    "L3.sort()\n",
    "L3"
   ]
  },
  {
   "cell_type": "code",
   "execution_count": null,
   "id": "b0c67f5d",
   "metadata": {},
   "outputs": [],
   "source": [
    "L3.sort(reverse=True)\n",
    "L3"
   ]
  },
  {
   "cell_type": "code",
   "execution_count": null,
   "id": "62227fa0",
   "metadata": {},
   "outputs": [],
   "source": [
    "L3.reverse()\n",
    "L3"
   ]
  },
  {
   "cell_type": "code",
   "execution_count": null,
   "id": "213a92cd",
   "metadata": {},
   "outputs": [],
   "source": [
    "L2=[1,2,3]\n",
    "min(L2)"
   ]
  },
  {
   "cell_type": "code",
   "execution_count": null,
   "id": "3d170654",
   "metadata": {},
   "outputs": [],
   "source": [
    "sum(L2)"
   ]
  },
  {
   "cell_type": "markdown",
   "id": "d47abf2b",
   "metadata": {},
   "source": [
    "### List comprehension"
   ]
  },
  {
   "cell_type": "markdown",
   "id": "69242e63",
   "metadata": {},
   "source": [
    "### Loop constructs : execute the steps repeatedly for a given period (number of times)\n",
    "### For loop, While loop, nested loop"
   ]
  },
  {
   "cell_type": "code",
   "execution_count": null,
   "id": "c1ea9a3e",
   "metadata": {},
   "outputs": [],
   "source": [
    "### For Loop Syntax\n",
    "for iter_var in sequence:\n",
    "    # logic (steps inside the for loop)\n",
    "# using index and range\n",
    "for "
   ]
  },
  {
   "cell_type": "code",
   "execution_count": null,
   "id": "9524d56a",
   "metadata": {},
   "outputs": [],
   "source": [
    "L4=[\"sk\",\"kumar\",\"Alok\",\"Joy\"]"
   ]
  },
  {
   "cell_type": "code",
   "execution_count": null,
   "id": "7d175f4b",
   "metadata": {},
   "outputs": [],
   "source": [
    "L4"
   ]
  },
  {
   "cell_type": "code",
   "execution_count": null,
   "id": "54dd3be2",
   "metadata": {},
   "outputs": [],
   "source": [
    "print(\"the students in the class are\")\n"
   ]
  },
  {
   "cell_type": "code",
   "execution_count": null,
   "id": "cf09d12e",
   "metadata": {},
   "outputs": [],
   "source": [
    "for i in L4:\n",
    "    print(i)\n",
    "    "
   ]
  },
  {
   "cell_type": "code",
   "execution_count": null,
   "id": "163af1d9",
   "metadata": {},
   "outputs": [],
   "source": [
    "for i in \"good morning\":\n",
    "    print(i)\n",
    "    \n",
    "print(\"stop\")    "
   ]
  },
  {
   "cell_type": "code",
   "execution_count": null,
   "id": "5b8c1345",
   "metadata": {},
   "outputs": [],
   "source": [
    "for i in [1,2,3,4,5]:\n",
    "    print(i)"
   ]
  },
  {
   "cell_type": "code",
   "execution_count": null,
   "id": "8355e13a",
   "metadata": {},
   "outputs": [],
   "source": [
    "for i in range(len(L4)):  # range takes value from 0 to len(L4)-1 ---> 0,1,2,3\n",
    "    print(L4[i])"
   ]
  },
  {
   "cell_type": "code",
   "execution_count": null,
   "id": "1c7e1d52",
   "metadata": {},
   "outputs": [],
   "source": [
    "len(L4)"
   ]
  },
  {
   "cell_type": "code",
   "execution_count": null,
   "id": "3fcfe0d2",
   "metadata": {},
   "outputs": [],
   "source": [
    "var=range(3)\n",
    "for i in var:\n",
    "    print(i)"
   ]
  },
  {
   "cell_type": "code",
   "execution_count": null,
   "id": "112d7134",
   "metadata": {},
   "outputs": [],
   "source": [
    "var1=range(2,6)\n",
    "for i in var1:\n",
    "    print(i)"
   ]
  },
  {
   "cell_type": "code",
   "execution_count": null,
   "id": "27a389a0",
   "metadata": {},
   "outputs": [],
   "source": [
    "for _ in \"good morning\":  # _ (under score is for ignoring)\n",
    "    print('Hi')\n",
    "    \n",
    "print(\"stop\")   "
   ]
  },
  {
   "cell_type": "code",
   "execution_count": null,
   "id": "628edab7",
   "metadata": {},
   "outputs": [],
   "source": [
    "for _ in range(3):\n",
    "    print(_)"
   ]
  },
  {
   "cell_type": "code",
   "execution_count": null,
   "id": "5bd4c141",
   "metadata": {},
   "outputs": [],
   "source": [
    "for _ in \"good morning\":  # _ (under score is for ignoring)\n",
    "    print('Hi')\n",
    "else:   \n",
    "    print(\"Loop exhausted\")  "
   ]
  },
  {
   "cell_type": "markdown",
   "id": "d1a7b2bf",
   "metadata": {},
   "source": [
    "### While loop"
   ]
  },
  {
   "cell_type": "code",
   "execution_count": null,
   "id": "312b893a",
   "metadata": {},
   "outputs": [],
   "source": [
    "while condition:\n",
    "    # logic (steps inside the for loop)"
   ]
  },
  {
   "cell_type": "code",
   "execution_count": 2,
   "id": "216ca6c2",
   "metadata": {},
   "outputs": [
    {
     "name": "stdout",
     "output_type": "stream",
     "text": [
      "Hi\n",
      "Hi\n",
      "Hi\n",
      "joined late\n"
     ]
    }
   ],
   "source": [
    "cnt=0\n",
    "while cnt < 3: # cnt=0, cnt=1, cnt=2; if cnt=3 it will execute the else part\n",
    "    print(\"Hi\")\n",
    "    cnt=cnt+1\n",
    "else:\n",
    "    print(\"joined late\")"
   ]
  },
  {
   "cell_type": "code",
   "execution_count": 4,
   "id": "305a1faa",
   "metadata": {},
   "outputs": [
    {
     "name": "stdout",
     "output_type": "stream",
     "text": [
      "Hi\n",
      "Hi\n",
      "Hi\n",
      "joined late\n"
     ]
    }
   ],
   "source": [
    "cnt=1\n",
    "while cnt <= 3: # cnt=1, cnt=2 cnt=3, if cnt=4 it will execute the else part\n",
    "    print(\"Hi\")\n",
    "    cnt=cnt+1\n",
    "else:\n",
    "    print(\"joined late\")"
   ]
  },
  {
   "cell_type": "markdown",
   "id": "298a9395",
   "metadata": {},
   "source": [
    "## Nested loop"
   ]
  },
  {
   "cell_type": "code",
   "execution_count": 9,
   "id": "b4296f50",
   "metadata": {},
   "outputs": [],
   "source": [
    "Day=[\"Day1\",\"Day2\"]\n",
    "name=[\"sk\",\"kumar\",\"Alok\",\"Joy\"]\n",
    "\n",
    "#gender=[\"female\",\"male\",\"male\",\"male\"]"
   ]
  },
  {
   "cell_type": "code",
   "execution_count": 6,
   "id": "6c418e7d",
   "metadata": {},
   "outputs": [
    {
     "data": {
      "text/plain": [
       "['sk', 'kumar', 'Alok', 'Joy']"
      ]
     },
     "execution_count": 6,
     "metadata": {},
     "output_type": "execute_result"
    }
   ],
   "source": [
    "name"
   ]
  },
  {
   "cell_type": "code",
   "execution_count": 10,
   "id": "815c95e3",
   "metadata": {},
   "outputs": [
    {
     "data": {
      "text/plain": [
       "['Day1', 'Day2']"
      ]
     },
     "execution_count": 10,
     "metadata": {},
     "output_type": "execute_result"
    }
   ],
   "source": [
    "Day"
   ]
  },
  {
   "cell_type": "code",
   "execution_count": 13,
   "id": "48355c18",
   "metadata": {},
   "outputs": [
    {
     "name": "stdout",
     "output_type": "stream",
     "text": [
      "Day1 sk\n",
      "Day1 kumar\n",
      "Day1 Alok\n",
      "Day1 Joy\n",
      "Day2 sk\n",
      "Day2 kumar\n",
      "Day2 Alok\n",
      "Day2 Joy\n",
      "Notes is Distributed\n"
     ]
    }
   ],
   "source": [
    "for d in Day: \n",
    "    for n in name:\n",
    "        print(d,n)\n",
    "else:\n",
    "    print(\"Notes is Distributed\")"
   ]
  },
  {
   "cell_type": "markdown",
   "id": "e37f40f2",
   "metadata": {},
   "source": [
    "## List comprehension"
   ]
  },
  {
   "cell_type": "code",
   "execution_count": null,
   "id": "3fc1a6d1",
   "metadata": {},
   "outputs": [],
   "source": [
    "# creatin a new list\n",
    "# short logic/syntax\n",
    "# improve the peformance\n",
    "# [expression for ite_var in list]"
   ]
  },
  {
   "cell_type": "code",
   "execution_count": 15,
   "id": "22f12fd0",
   "metadata": {},
   "outputs": [
    {
     "data": {
      "text/plain": [
       "[0, 2, 4, 6, 8]"
      ]
     },
     "execution_count": 15,
     "metadata": {},
     "output_type": "execute_result"
    }
   ],
   "source": [
    "# generate even numbers list\n",
    "even_list=[]\n",
    "for i in range(10):\n",
    "    if i%2==0:\n",
    "        even_list.append(i)\n",
    "even_list    "
   ]
  },
  {
   "cell_type": "code",
   "execution_count": 16,
   "id": "6d72f6de",
   "metadata": {},
   "outputs": [
    {
     "data": {
      "text/plain": [
       "[0, 2, 4, 6, 8]"
      ]
     },
     "execution_count": 16,
     "metadata": {},
     "output_type": "execute_result"
    }
   ],
   "source": [
    "[i for i in range(10) if i%2==0]"
   ]
  },
  {
   "cell_type": "code",
   "execution_count": 17,
   "id": "60560b6a",
   "metadata": {},
   "outputs": [
    {
     "data": {
      "text/plain": [
       "[0, 1, 2, 3, 4, 5, 6, 7, 8, 9]"
      ]
     },
     "execution_count": 17,
     "metadata": {},
     "output_type": "execute_result"
    }
   ],
   "source": [
    "[i for i in range(10)]"
   ]
  },
  {
   "cell_type": "code",
   "execution_count": 19,
   "id": "f1968c6b",
   "metadata": {},
   "outputs": [
    {
     "data": {
      "text/plain": [
       "['even', 'odd', 'even', 'odd', 'even', 'odd', 'even', 'odd', 'even', 'odd']"
      ]
     },
     "execution_count": 19,
     "metadata": {},
     "output_type": "execute_result"
    }
   ],
   "source": [
    "[\"even\" if i%2==0 else \"odd\" for i in range(10)]"
   ]
  },
  {
   "cell_type": "code",
   "execution_count": 22,
   "id": "a5716863",
   "metadata": {},
   "outputs": [
    {
     "name": "stdout",
     "output_type": "stream",
     "text": [
      "[[1, 2], [3, 4], [5, 6], [7, 8]]\n"
     ]
    }
   ],
   "source": [
    "mat1=[[1,2],[3,4],[5,6],[7,8]]  # the dimension is 4 X 2\n",
    "print(mat1)"
   ]
  },
  {
   "cell_type": "code",
   "execution_count": 24,
   "id": "561c77da",
   "metadata": {},
   "outputs": [
    {
     "data": {
      "text/plain": [
       "[[1, 3, 5, 7], [2, 4, 6, 8]]"
      ]
     },
     "execution_count": 24,
     "metadata": {},
     "output_type": "execute_result"
    }
   ],
   "source": [
    "# Transpose of 4 X 2 is 2 X 4\n",
    "mat2=[[r[c] for r in mat1] for c in range(2)]\n",
    "mat2"
   ]
  },
  {
   "cell_type": "code",
   "execution_count": 25,
   "id": "66b32abb",
   "metadata": {},
   "outputs": [
    {
     "data": {
      "text/plain": [
       "[[1, 2], [3, 4], [5, 6], [7, 8]]"
      ]
     },
     "execution_count": 25,
     "metadata": {},
     "output_type": "execute_result"
    }
   ],
   "source": [
    "mat3=[[r[c] for r in mat2] for c in range(4)]\n",
    "mat3"
   ]
  },
  {
   "cell_type": "code",
   "execution_count": 27,
   "id": "f284ee68",
   "metadata": {},
   "outputs": [
    {
     "data": {
      "text/plain": [
       "[1, 4, 9, 16]"
      ]
     },
     "execution_count": 27,
     "metadata": {},
     "output_type": "execute_result"
    }
   ],
   "source": [
    "# square of each number in the list\n",
    "L1=[1,2,3,4]\n",
    "# output as L1=[1,4,9,16]\n",
    "#[e**2 for e in L1]\n",
    "[e*e for e in L1]"
   ]
  },
  {
   "cell_type": "markdown",
   "id": "2d94a997",
   "metadata": {},
   "source": [
    "## Set "
   ]
  },
  {
   "cell_type": "code",
   "execution_count": 28,
   "id": "7d114b44",
   "metadata": {},
   "outputs": [],
   "source": [
    "# creating unique elements, duplication not possible\n",
    "S1=set([1,2,3])\n",
    "S2=set([2,3,4])"
   ]
  },
  {
   "cell_type": "code",
   "execution_count": 29,
   "id": "26961b69",
   "metadata": {},
   "outputs": [
    {
     "data": {
      "text/plain": [
       "{1, 2, 3}"
      ]
     },
     "execution_count": 29,
     "metadata": {},
     "output_type": "execute_result"
    }
   ],
   "source": [
    "S1"
   ]
  },
  {
   "cell_type": "code",
   "execution_count": 30,
   "id": "e2dd7813",
   "metadata": {},
   "outputs": [
    {
     "data": {
      "text/plain": [
       "{2, 3, 4}"
      ]
     },
     "execution_count": 30,
     "metadata": {},
     "output_type": "execute_result"
    }
   ],
   "source": [
    "S2"
   ]
  },
  {
   "cell_type": "code",
   "execution_count": 31,
   "id": "58543bea",
   "metadata": {},
   "outputs": [
    {
     "data": {
      "text/plain": [
       "set"
      ]
     },
     "execution_count": 31,
     "metadata": {},
     "output_type": "execute_result"
    }
   ],
   "source": [
    "type(S1)"
   ]
  },
  {
   "cell_type": "code",
   "execution_count": null,
   "id": "335b58ed",
   "metadata": {},
   "outputs": [],
   "source": [
    "# Operations on sets\n",
    "# union / or\n",
    "# intersection / and\n",
    "# difference\n",
    "# symmetric difference\n",
    "# subset\n",
    "# superset\n"
   ]
  },
  {
   "cell_type": "code",
   "execution_count": 32,
   "id": "755aa1d1",
   "metadata": {},
   "outputs": [
    {
     "data": {
      "text/plain": [
       "{1, 2, 3, 4}"
      ]
     },
     "execution_count": 32,
     "metadata": {},
     "output_type": "execute_result"
    }
   ],
   "source": [
    "# union (eleminates duplicates)\n",
    "S1 | S2"
   ]
  },
  {
   "cell_type": "code",
   "execution_count": 33,
   "id": "45032dbc",
   "metadata": {},
   "outputs": [
    {
     "data": {
      "text/plain": [
       "{2, 3}"
      ]
     },
     "execution_count": 33,
     "metadata": {},
     "output_type": "execute_result"
    }
   ],
   "source": [
    "# intersection\n",
    "S1 & S2"
   ]
  },
  {
   "cell_type": "code",
   "execution_count": 34,
   "id": "eee5a4f5",
   "metadata": {},
   "outputs": [
    {
     "data": {
      "text/plain": [
       "{1}"
      ]
     },
     "execution_count": 34,
     "metadata": {},
     "output_type": "execute_result"
    }
   ],
   "source": [
    "# difference is not commutative\n",
    "S1-S2"
   ]
  },
  {
   "cell_type": "code",
   "execution_count": 35,
   "id": "1311fa89",
   "metadata": {},
   "outputs": [
    {
     "data": {
      "text/plain": [
       "{4}"
      ]
     },
     "execution_count": 35,
     "metadata": {},
     "output_type": "execute_result"
    }
   ],
   "source": [
    "S2-S1"
   ]
  },
  {
   "cell_type": "code",
   "execution_count": 36,
   "id": "88bee36e",
   "metadata": {},
   "outputs": [
    {
     "data": {
      "text/plain": [
       "{1, 4}"
      ]
     },
     "execution_count": 36,
     "metadata": {},
     "output_type": "execute_result"
    }
   ],
   "source": [
    "# symmetric difference (a-b union b-a)\n",
    "S1 ^ S2"
   ]
  },
  {
   "cell_type": "code",
   "execution_count": 37,
   "id": "60b9eb6d",
   "metadata": {},
   "outputs": [
    {
     "data": {
      "text/plain": [
       "False"
      ]
     },
     "execution_count": 37,
     "metadata": {},
     "output_type": "execute_result"
    }
   ],
   "source": [
    "# subset\n",
    "S1 < S2\n"
   ]
  },
  {
   "cell_type": "code",
   "execution_count": 38,
   "id": "e9bead29",
   "metadata": {},
   "outputs": [
    {
     "data": {
      "text/plain": [
       "{1}"
      ]
     },
     "execution_count": 38,
     "metadata": {},
     "output_type": "execute_result"
    }
   ],
   "source": [
    "# operators\n",
    "S1.difference(S2)"
   ]
  },
  {
   "cell_type": "code",
   "execution_count": 40,
   "id": "0b851fd5",
   "metadata": {},
   "outputs": [
    {
     "data": {
      "text/plain": [
       "False"
      ]
     },
     "execution_count": 40,
     "metadata": {},
     "output_type": "execute_result"
    }
   ],
   "source": [
    "S1.issuperset(S2)"
   ]
  },
  {
   "cell_type": "markdown",
   "id": "ad188be1",
   "metadata": {},
   "source": [
    "## Dictionary"
   ]
  },
  {
   "cell_type": "code",
   "execution_count": null,
   "id": "fe5632ea",
   "metadata": {},
   "outputs": [],
   "source": [
    "# creating Key and value pairs\n",
    "# no duplicate keys\n",
    "# no order"
   ]
  },
  {
   "cell_type": "code",
   "execution_count": 41,
   "id": "27ee3b0d",
   "metadata": {},
   "outputs": [],
   "source": [
    "D1={'name':'kumar','course':'AI_ML','scores':[40,80]}"
   ]
  },
  {
   "cell_type": "code",
   "execution_count": 42,
   "id": "fd70ef8c",
   "metadata": {},
   "outputs": [
    {
     "data": {
      "text/plain": [
       "{'name': 'kumar', 'course': 'AI_ML', 'scores': [40, 80]}"
      ]
     },
     "execution_count": 42,
     "metadata": {},
     "output_type": "execute_result"
    }
   ],
   "source": [
    "D1"
   ]
  },
  {
   "cell_type": "code",
   "execution_count": 43,
   "id": "4187c29a",
   "metadata": {},
   "outputs": [
    {
     "data": {
      "text/plain": [
       "dict_keys(['name', 'course', 'scores'])"
      ]
     },
     "execution_count": 43,
     "metadata": {},
     "output_type": "execute_result"
    }
   ],
   "source": [
    "D1.keys()"
   ]
  },
  {
   "cell_type": "code",
   "execution_count": 44,
   "id": "0b4eef43",
   "metadata": {},
   "outputs": [
    {
     "data": {
      "text/plain": [
       "dict_values(['kumar', 'AI_ML', [40, 80]])"
      ]
     },
     "execution_count": 44,
     "metadata": {},
     "output_type": "execute_result"
    }
   ],
   "source": [
    "D1.values()"
   ]
  },
  {
   "cell_type": "code",
   "execution_count": 45,
   "id": "1c2b916a",
   "metadata": {},
   "outputs": [
    {
     "data": {
      "text/plain": [
       "'kumar'"
      ]
     },
     "execution_count": 45,
     "metadata": {},
     "output_type": "execute_result"
    }
   ],
   "source": [
    "D1['name']"
   ]
  },
  {
   "cell_type": "code",
   "execution_count": 46,
   "id": "171c6002",
   "metadata": {},
   "outputs": [
    {
     "data": {
      "text/plain": [
       "dict_items([('name', 'kumar'), ('course', 'AI_ML'), ('scores', [40, 80])])"
      ]
     },
     "execution_count": 46,
     "metadata": {},
     "output_type": "execute_result"
    }
   ],
   "source": [
    "D1.items()"
   ]
  },
  {
   "cell_type": "code",
   "execution_count": 47,
   "id": "68bb4a99",
   "metadata": {},
   "outputs": [
    {
     "data": {
      "text/plain": [
       "'AI_ML'"
      ]
     },
     "execution_count": 47,
     "metadata": {},
     "output_type": "execute_result"
    }
   ],
   "source": [
    "D1.get('course')"
   ]
  },
  {
   "cell_type": "code",
   "execution_count": 48,
   "id": "86c1025b",
   "metadata": {},
   "outputs": [
    {
     "data": {
      "text/plain": [
       "{'name': 'kumar', 'course': 'MLOps', 'scores': [40, 80]}"
      ]
     },
     "execution_count": 48,
     "metadata": {},
     "output_type": "execute_result"
    }
   ],
   "source": [
    "D1['course']='MLOps'\n",
    "D1"
   ]
  },
  {
   "cell_type": "code",
   "execution_count": 49,
   "id": "cb5c3438",
   "metadata": {},
   "outputs": [],
   "source": [
    "D2=D1.copy()"
   ]
  },
  {
   "cell_type": "code",
   "execution_count": 50,
   "id": "ead93db4",
   "metadata": {},
   "outputs": [
    {
     "data": {
      "text/plain": [
       "{'name': 'kumar', 'course': 'MLOps', 'scores': [40, 80]}"
      ]
     },
     "execution_count": 50,
     "metadata": {},
     "output_type": "execute_result"
    }
   ],
   "source": [
    "D2"
   ]
  },
  {
   "cell_type": "code",
   "execution_count": 51,
   "id": "a1cda06c",
   "metadata": {},
   "outputs": [
    {
     "data": {
      "text/plain": [
       "{'name': 'kumar', 'course': 'MLOps', 'scores': [40, 80]}"
      ]
     },
     "execution_count": 51,
     "metadata": {},
     "output_type": "execute_result"
    }
   ],
   "source": [
    "D1"
   ]
  },
  {
   "cell_type": "code",
   "execution_count": 52,
   "id": "c10b6d07",
   "metadata": {},
   "outputs": [],
   "source": [
    "D1.clear()"
   ]
  },
  {
   "cell_type": "code",
   "execution_count": 53,
   "id": "30e59fa4",
   "metadata": {},
   "outputs": [
    {
     "data": {
      "text/plain": [
       "{}"
      ]
     },
     "execution_count": 53,
     "metadata": {},
     "output_type": "execute_result"
    }
   ],
   "source": [
    "D1"
   ]
  },
  {
   "cell_type": "code",
   "execution_count": 55,
   "id": "18f0bac7",
   "metadata": {},
   "outputs": [],
   "source": [
    "del D1"
   ]
  },
  {
   "cell_type": "code",
   "execution_count": 56,
   "id": "dea9a404",
   "metadata": {},
   "outputs": [
    {
     "ename": "NameError",
     "evalue": "name 'D1' is not defined",
     "output_type": "error",
     "traceback": [
      "\u001b[1;31m---------------------------------------------------------------------------\u001b[0m",
      "\u001b[1;31mNameError\u001b[0m                                 Traceback (most recent call last)",
      "\u001b[1;32m~\\AppData\\Local\\Temp\\ipykernel_14364\\1706430904.py\u001b[0m in \u001b[0;36m<module>\u001b[1;34m\u001b[0m\n\u001b[1;32m----> 1\u001b[1;33m \u001b[0mD1\u001b[0m\u001b[1;33m\u001b[0m\u001b[1;33m\u001b[0m\u001b[0m\n\u001b[0m",
      "\u001b[1;31mNameError\u001b[0m: name 'D1' is not defined"
     ]
    }
   ],
   "source": [
    "D1"
   ]
  },
  {
   "cell_type": "code",
   "execution_count": 57,
   "id": "5f02c400",
   "metadata": {},
   "outputs": [
    {
     "data": {
      "text/plain": [
       "{'name': 'kumar', 'course': 'MLOps', 'scores': [40, 80]}"
      ]
     },
     "execution_count": 57,
     "metadata": {},
     "output_type": "execute_result"
    }
   ],
   "source": [
    "D2"
   ]
  },
  {
   "cell_type": "code",
   "execution_count": 59,
   "id": "2a671e88",
   "metadata": {},
   "outputs": [],
   "source": [
    "L2=[]"
   ]
  },
  {
   "cell_type": "code",
   "execution_count": 60,
   "id": "643bf409",
   "metadata": {},
   "outputs": [
    {
     "data": {
      "text/plain": [
       "[]"
      ]
     },
     "execution_count": 60,
     "metadata": {},
     "output_type": "execute_result"
    }
   ],
   "source": [
    "L2"
   ]
  },
  {
   "cell_type": "code",
   "execution_count": 61,
   "id": "32d4539b",
   "metadata": {},
   "outputs": [],
   "source": [
    "L2.append(D2)"
   ]
  },
  {
   "cell_type": "code",
   "execution_count": 62,
   "id": "2ad5fde7",
   "metadata": {},
   "outputs": [
    {
     "data": {
      "text/plain": [
       "[{'name': 'kumar', 'course': 'MLOps', 'scores': [40, 80]}]"
      ]
     },
     "execution_count": 62,
     "metadata": {},
     "output_type": "execute_result"
    }
   ],
   "source": [
    "L2"
   ]
  },
  {
   "cell_type": "code",
   "execution_count": 63,
   "id": "7d67db46",
   "metadata": {},
   "outputs": [],
   "source": [
    "L2.extend([\"Student1\"])"
   ]
  },
  {
   "cell_type": "code",
   "execution_count": 64,
   "id": "2994ca4f",
   "metadata": {},
   "outputs": [
    {
     "data": {
      "text/plain": [
       "[{'name': 'kumar', 'course': 'MLOps', 'scores': [40, 80]}, 'Student1']"
      ]
     },
     "execution_count": 64,
     "metadata": {},
     "output_type": "execute_result"
    }
   ],
   "source": [
    "L2"
   ]
  },
  {
   "cell_type": "markdown",
   "id": "4a8d7f17",
   "metadata": {},
   "source": [
    "## Tuple"
   ]
  },
  {
   "cell_type": "code",
   "execution_count": 65,
   "id": "f2e9e229",
   "metadata": {},
   "outputs": [],
   "source": [
    "# immutable\n",
    "# creating : it s similar to list but with braces\n",
    "T1=(1,2,3)"
   ]
  },
  {
   "cell_type": "code",
   "execution_count": 66,
   "id": "f3f3b784",
   "metadata": {},
   "outputs": [
    {
     "data": {
      "text/plain": [
       "(1, 2, 3)"
      ]
     },
     "execution_count": 66,
     "metadata": {},
     "output_type": "execute_result"
    }
   ],
   "source": [
    "T1"
   ]
  },
  {
   "cell_type": "code",
   "execution_count": 70,
   "id": "fe11fdc7",
   "metadata": {},
   "outputs": [
    {
     "data": {
      "text/plain": [
       "1"
      ]
     },
     "execution_count": 70,
     "metadata": {},
     "output_type": "execute_result"
    }
   ],
   "source": [
    "T1[0]"
   ]
  },
  {
   "cell_type": "code",
   "execution_count": 71,
   "id": "f3d213c4",
   "metadata": {},
   "outputs": [],
   "source": [
    "T2=1,2,3,4"
   ]
  },
  {
   "cell_type": "code",
   "execution_count": 72,
   "id": "5ca00754",
   "metadata": {},
   "outputs": [
    {
     "data": {
      "text/plain": [
       "(1, 2, 3, 4)"
      ]
     },
     "execution_count": 72,
     "metadata": {},
     "output_type": "execute_result"
    }
   ],
   "source": [
    "T2"
   ]
  },
  {
   "cell_type": "code",
   "execution_count": 73,
   "id": "5f91020a",
   "metadata": {},
   "outputs": [
    {
     "ename": "TypeError",
     "evalue": "'tuple' object does not support item assignment",
     "output_type": "error",
     "traceback": [
      "\u001b[1;31m---------------------------------------------------------------------------\u001b[0m",
      "\u001b[1;31mTypeError\u001b[0m                                 Traceback (most recent call last)",
      "\u001b[1;32m~\\AppData\\Local\\Temp\\ipykernel_14364\\2455652367.py\u001b[0m in \u001b[0;36m<module>\u001b[1;34m\u001b[0m\n\u001b[1;32m----> 1\u001b[1;33m \u001b[0mT1\u001b[0m\u001b[1;33m[\u001b[0m\u001b[1;36m0\u001b[0m\u001b[1;33m]\u001b[0m\u001b[1;33m=\u001b[0m\u001b[1;36m10\u001b[0m\u001b[1;33m\u001b[0m\u001b[1;33m\u001b[0m\u001b[0m\n\u001b[0m\u001b[0;32m      2\u001b[0m \u001b[0mT1\u001b[0m\u001b[1;33m\u001b[0m\u001b[1;33m\u001b[0m\u001b[0m\n",
      "\u001b[1;31mTypeError\u001b[0m: 'tuple' object does not support item assignment"
     ]
    }
   ],
   "source": [
    "T1[0]=10\n",
    "T1"
   ]
  },
  {
   "cell_type": "code",
   "execution_count": 74,
   "id": "95d7b984",
   "metadata": {},
   "outputs": [
    {
     "data": {
      "text/plain": [
       "3"
      ]
     },
     "execution_count": 74,
     "metadata": {},
     "output_type": "execute_result"
    }
   ],
   "source": [
    "len(T1)"
   ]
  },
  {
   "cell_type": "code",
   "execution_count": 75,
   "id": "cee85898",
   "metadata": {},
   "outputs": [],
   "source": [
    "T3=(1,2,[3,4])"
   ]
  },
  {
   "cell_type": "code",
   "execution_count": 76,
   "id": "fb9c90ad",
   "metadata": {},
   "outputs": [
    {
     "data": {
      "text/plain": [
       "(1, 2, [3, 4])"
      ]
     },
     "execution_count": 76,
     "metadata": {},
     "output_type": "execute_result"
    }
   ],
   "source": [
    "T3"
   ]
  },
  {
   "cell_type": "code",
   "execution_count": 78,
   "id": "921d736d",
   "metadata": {},
   "outputs": [
    {
     "data": {
      "text/plain": [
       "3"
      ]
     },
     "execution_count": 78,
     "metadata": {},
     "output_type": "execute_result"
    }
   ],
   "source": [
    "# tuple is partially immutable\n",
    "T3[2][0]"
   ]
  },
  {
   "cell_type": "code",
   "execution_count": 79,
   "id": "b6946a3b",
   "metadata": {},
   "outputs": [
    {
     "data": {
      "text/plain": [
       "(1, 2, [30, 4])"
      ]
     },
     "execution_count": 79,
     "metadata": {},
     "output_type": "execute_result"
    }
   ],
   "source": [
    "T3[2][0]=30\n",
    "T3"
   ]
  },
  {
   "cell_type": "code",
   "execution_count": 81,
   "id": "c6aab0e5",
   "metadata": {},
   "outputs": [],
   "source": [
    "# dictionary operator is to create a dictionary where the elements (key, vlue) as tuples \n",
    "T4=dict([('AI_ML','CSE01'),('MLOps','CSE02')])"
   ]
  },
  {
   "cell_type": "code",
   "execution_count": 82,
   "id": "e1a1be0e",
   "metadata": {},
   "outputs": [
    {
     "data": {
      "text/plain": [
       "{'AI_ML': 'CSE01', 'MLOps': 'CSE02'}"
      ]
     },
     "execution_count": 82,
     "metadata": {},
     "output_type": "execute_result"
    }
   ],
   "source": [
    "T4"
   ]
  },
  {
   "cell_type": "markdown",
   "id": "84fb48fe",
   "metadata": {},
   "source": [
    "# user defined functions"
   ]
  },
  {
   "cell_type": "code",
   "execution_count": null,
   "id": "bc8345d1",
   "metadata": {},
   "outputs": [],
   "source": [
    "#def function_name(arguments/parameters):\n",
    "    # function_body/logic"
   ]
  },
  {
   "cell_type": "code",
   "execution_count": 83,
   "id": "12fa736f",
   "metadata": {},
   "outputs": [],
   "source": [
    "def hi():\n",
    "    print(\"Hi students\")\n"
   ]
  },
  {
   "cell_type": "code",
   "execution_count": 84,
   "id": "336951c2",
   "metadata": {},
   "outputs": [
    {
     "name": "stdout",
     "output_type": "stream",
     "text": [
      "Hi students\n"
     ]
    }
   ],
   "source": [
    "hi()"
   ]
  },
  {
   "cell_type": "code",
   "execution_count": 85,
   "id": "19c9fd20",
   "metadata": {},
   "outputs": [],
   "source": [
    "def hi1(name):\n",
    "    print(\"hi\",name)"
   ]
  },
  {
   "cell_type": "code",
   "execution_count": 86,
   "id": "44b92cb5",
   "metadata": {},
   "outputs": [
    {
     "name": "stdout",
     "output_type": "stream",
     "text": [
      "hi kumar\n"
     ]
    }
   ],
   "source": [
    "hi1('kumar')"
   ]
  },
  {
   "cell_type": "code",
   "execution_count": 87,
   "id": "c2ac658e",
   "metadata": {},
   "outputs": [],
   "source": [
    "def f1(name):\n",
    "    return len(name)"
   ]
  },
  {
   "cell_type": "code",
   "execution_count": 88,
   "id": "5d9df04d",
   "metadata": {},
   "outputs": [
    {
     "data": {
      "text/plain": [
       "5"
      ]
     },
     "execution_count": 88,
     "metadata": {},
     "output_type": "execute_result"
    }
   ],
   "source": [
    "f1('kumar')"
   ]
  },
  {
   "cell_type": "code",
   "execution_count": 89,
   "id": "94fd7220",
   "metadata": {},
   "outputs": [
    {
     "name": "stdout",
     "output_type": "stream",
     "text": [
      "the length of the string is  5\n"
     ]
    }
   ],
   "source": [
    "print(\"the length of the string is \", f1('kumar'))"
   ]
  },
  {
   "cell_type": "code",
   "execution_count": 90,
   "id": "31a1bfbe",
   "metadata": {},
   "outputs": [],
   "source": [
    "def add(n1,n2):\n",
    "    return (n1+n2)"
   ]
  },
  {
   "cell_type": "code",
   "execution_count": 91,
   "id": "730020f9",
   "metadata": {},
   "outputs": [
    {
     "data": {
      "text/plain": [
       "30"
      ]
     },
     "execution_count": 91,
     "metadata": {},
     "output_type": "execute_result"
    }
   ],
   "source": [
    "add(10,20)"
   ]
  },
  {
   "cell_type": "code",
   "execution_count": 92,
   "id": "da544f22",
   "metadata": {},
   "outputs": [],
   "source": [
    "# default argument\n",
    "def add(n1,n2=20):\n",
    "    return (n1+n2)"
   ]
  },
  {
   "cell_type": "code",
   "execution_count": 93,
   "id": "c17d0870",
   "metadata": {},
   "outputs": [
    {
     "data": {
      "text/plain": [
       "40"
      ]
     },
     "execution_count": 93,
     "metadata": {},
     "output_type": "execute_result"
    }
   ],
   "source": [
    "add(10,30)"
   ]
  },
  {
   "cell_type": "code",
   "execution_count": 94,
   "id": "9b725e9c",
   "metadata": {},
   "outputs": [
    {
     "data": {
      "text/plain": [
       "30"
      ]
     },
     "execution_count": 94,
     "metadata": {},
     "output_type": "execute_result"
    }
   ],
   "source": [
    "add(10)"
   ]
  },
  {
   "cell_type": "code",
   "execution_count": 96,
   "id": "cf8814ea",
   "metadata": {},
   "outputs": [],
   "source": [
    "# variable length argument\n",
    "# *args\n",
    "def add(*args):\n",
    "    res=0\n",
    "    for i in args:\n",
    "        res=res+i\n",
    "    return res"
   ]
  },
  {
   "cell_type": "code",
   "execution_count": 97,
   "id": "030316df",
   "metadata": {},
   "outputs": [
    {
     "data": {
      "text/plain": [
       "30"
      ]
     },
     "execution_count": 97,
     "metadata": {},
     "output_type": "execute_result"
    }
   ],
   "source": [
    "add(10,20)"
   ]
  },
  {
   "cell_type": "code",
   "execution_count": 98,
   "id": "6540fbd2",
   "metadata": {},
   "outputs": [
    {
     "data": {
      "text/plain": [
       "70"
      ]
     },
     "execution_count": 98,
     "metadata": {},
     "output_type": "execute_result"
    }
   ],
   "source": [
    "add(10,20,40)"
   ]
  },
  {
   "cell_type": "code",
   "execution_count": null,
   "id": "ba07699c",
   "metadata": {},
   "outputs": [],
   "source": [
    "# Key word variable length argument\n",
    "# **kwargs"
   ]
  }
 ],
 "metadata": {
  "kernelspec": {
   "display_name": "Python 3 (ipykernel)",
   "language": "python",
   "name": "python3"
  },
  "language_info": {
   "codemirror_mode": {
    "name": "ipython",
    "version": 3
   },
   "file_extension": ".py",
   "mimetype": "text/x-python",
   "name": "python",
   "nbconvert_exporter": "python",
   "pygments_lexer": "ipython3",
   "version": "3.9.13"
  }
 },
 "nbformat": 4,
 "nbformat_minor": 5
}
