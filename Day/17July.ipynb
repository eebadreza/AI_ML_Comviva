{
 "cells": [
  {
   "cell_type": "code",
   "execution_count": 1,
   "id": "d4e5de49",
   "metadata": {},
   "outputs": [],
   "source": [
    "# import the required libraries\n",
    "\n",
    "import pandas as pd\n",
    "import numpy as np\n",
    "\n",
    "import seaborn as sns"
   ]
  },
  {
   "cell_type": "code",
   "execution_count": 2,
   "id": "9925f2f0",
   "metadata": {},
   "outputs": [
    {
     "name": "stdout",
     "output_type": "stream",
     "text": [
      "['anagrams', 'anscombe', 'attention', 'brain_networks', 'car_crashes', 'diamonds', 'dots', 'dowjones', 'exercise', 'flights', 'fmri', 'geyser', 'glue', 'healthexp', 'iris', 'mpg', 'penguins', 'planets', 'seaice', 'taxis', 'tips', 'titanic']\n"
     ]
    }
   ],
   "source": [
    "# view all the available datasets in the seaborn library\n",
    "print(sns.get_dataset_names())"
   ]
  },
  {
   "cell_type": "code",
   "execution_count": 3,
   "id": "325b59fc",
   "metadata": {},
   "outputs": [
    {
     "data": {
      "text/html": [
       "<div>\n",
       "<style scoped>\n",
       "    .dataframe tbody tr th:only-of-type {\n",
       "        vertical-align: middle;\n",
       "    }\n",
       "\n",
       "    .dataframe tbody tr th {\n",
       "        vertical-align: top;\n",
       "    }\n",
       "\n",
       "    .dataframe thead th {\n",
       "        text-align: right;\n",
       "    }\n",
       "</style>\n",
       "<table border=\"1\" class=\"dataframe\">\n",
       "  <thead>\n",
       "    <tr style=\"text-align: right;\">\n",
       "      <th></th>\n",
       "      <th>survived</th>\n",
       "      <th>pclass</th>\n",
       "      <th>sex</th>\n",
       "      <th>age</th>\n",
       "      <th>sibsp</th>\n",
       "      <th>parch</th>\n",
       "      <th>fare</th>\n",
       "      <th>embarked</th>\n",
       "      <th>class</th>\n",
       "      <th>who</th>\n",
       "      <th>adult_male</th>\n",
       "      <th>deck</th>\n",
       "      <th>embark_town</th>\n",
       "      <th>alive</th>\n",
       "      <th>alone</th>\n",
       "    </tr>\n",
       "  </thead>\n",
       "  <tbody>\n",
       "    <tr>\n",
       "      <th>0</th>\n",
       "      <td>0</td>\n",
       "      <td>3</td>\n",
       "      <td>male</td>\n",
       "      <td>22.0</td>\n",
       "      <td>1</td>\n",
       "      <td>0</td>\n",
       "      <td>7.2500</td>\n",
       "      <td>S</td>\n",
       "      <td>Third</td>\n",
       "      <td>man</td>\n",
       "      <td>True</td>\n",
       "      <td>NaN</td>\n",
       "      <td>Southampton</td>\n",
       "      <td>no</td>\n",
       "      <td>False</td>\n",
       "    </tr>\n",
       "    <tr>\n",
       "      <th>1</th>\n",
       "      <td>1</td>\n",
       "      <td>1</td>\n",
       "      <td>female</td>\n",
       "      <td>38.0</td>\n",
       "      <td>1</td>\n",
       "      <td>0</td>\n",
       "      <td>71.2833</td>\n",
       "      <td>C</td>\n",
       "      <td>First</td>\n",
       "      <td>woman</td>\n",
       "      <td>False</td>\n",
       "      <td>C</td>\n",
       "      <td>Cherbourg</td>\n",
       "      <td>yes</td>\n",
       "      <td>False</td>\n",
       "    </tr>\n",
       "    <tr>\n",
       "      <th>2</th>\n",
       "      <td>1</td>\n",
       "      <td>3</td>\n",
       "      <td>female</td>\n",
       "      <td>26.0</td>\n",
       "      <td>0</td>\n",
       "      <td>0</td>\n",
       "      <td>7.9250</td>\n",
       "      <td>S</td>\n",
       "      <td>Third</td>\n",
       "      <td>woman</td>\n",
       "      <td>False</td>\n",
       "      <td>NaN</td>\n",
       "      <td>Southampton</td>\n",
       "      <td>yes</td>\n",
       "      <td>True</td>\n",
       "    </tr>\n",
       "    <tr>\n",
       "      <th>3</th>\n",
       "      <td>1</td>\n",
       "      <td>1</td>\n",
       "      <td>female</td>\n",
       "      <td>35.0</td>\n",
       "      <td>1</td>\n",
       "      <td>0</td>\n",
       "      <td>53.1000</td>\n",
       "      <td>S</td>\n",
       "      <td>First</td>\n",
       "      <td>woman</td>\n",
       "      <td>False</td>\n",
       "      <td>C</td>\n",
       "      <td>Southampton</td>\n",
       "      <td>yes</td>\n",
       "      <td>False</td>\n",
       "    </tr>\n",
       "  </tbody>\n",
       "</table>\n",
       "</div>"
      ],
      "text/plain": [
       "   survived  pclass     sex   age  sibsp  parch     fare embarked  class  \\\n",
       "0         0       3    male  22.0      1      0   7.2500        S  Third   \n",
       "1         1       1  female  38.0      1      0  71.2833        C  First   \n",
       "2         1       3  female  26.0      0      0   7.9250        S  Third   \n",
       "3         1       1  female  35.0      1      0  53.1000        S  First   \n",
       "\n",
       "     who  adult_male deck  embark_town alive  alone  \n",
       "0    man        True  NaN  Southampton    no  False  \n",
       "1  woman       False    C    Cherbourg   yes  False  \n",
       "2  woman       False  NaN  Southampton   yes   True  \n",
       "3  woman       False    C  Southampton   yes  False  "
      ]
     },
     "execution_count": 3,
     "metadata": {},
     "output_type": "execute_result"
    }
   ],
   "source": [
    "# load the titanic dataset\n",
    "data=sns.load_dataset('titanic')\n",
    "data.head(4)"
   ]
  },
  {
   "cell_type": "code",
   "execution_count": 4,
   "id": "25582dc5",
   "metadata": {},
   "outputs": [
    {
     "data": {
      "text/html": [
       "<div>\n",
       "<style scoped>\n",
       "    .dataframe tbody tr th:only-of-type {\n",
       "        vertical-align: middle;\n",
       "    }\n",
       "\n",
       "    .dataframe tbody tr th {\n",
       "        vertical-align: top;\n",
       "    }\n",
       "\n",
       "    .dataframe thead th {\n",
       "        text-align: right;\n",
       "    }\n",
       "</style>\n",
       "<table border=\"1\" class=\"dataframe\">\n",
       "  <thead>\n",
       "    <tr style=\"text-align: right;\">\n",
       "      <th></th>\n",
       "      <th>survived</th>\n",
       "      <th>pclass</th>\n",
       "      <th>sex</th>\n",
       "      <th>age</th>\n",
       "      <th>sibsp</th>\n",
       "      <th>parch</th>\n",
       "      <th>fare</th>\n",
       "      <th>embarked</th>\n",
       "      <th>class</th>\n",
       "      <th>who</th>\n",
       "      <th>adult_male</th>\n",
       "      <th>deck</th>\n",
       "      <th>embark_town</th>\n",
       "      <th>alive</th>\n",
       "      <th>alone</th>\n",
       "    </tr>\n",
       "  </thead>\n",
       "  <tbody>\n",
       "    <tr>\n",
       "      <th>0</th>\n",
       "      <td>0</td>\n",
       "      <td>3</td>\n",
       "      <td>male</td>\n",
       "      <td>22.0</td>\n",
       "      <td>1</td>\n",
       "      <td>0</td>\n",
       "      <td>7.2500</td>\n",
       "      <td>S</td>\n",
       "      <td>Third</td>\n",
       "      <td>man</td>\n",
       "      <td>True</td>\n",
       "      <td>NaN</td>\n",
       "      <td>Southampton</td>\n",
       "      <td>no</td>\n",
       "      <td>False</td>\n",
       "    </tr>\n",
       "    <tr>\n",
       "      <th>1</th>\n",
       "      <td>1</td>\n",
       "      <td>1</td>\n",
       "      <td>female</td>\n",
       "      <td>38.0</td>\n",
       "      <td>1</td>\n",
       "      <td>0</td>\n",
       "      <td>71.2833</td>\n",
       "      <td>C</td>\n",
       "      <td>First</td>\n",
       "      <td>woman</td>\n",
       "      <td>False</td>\n",
       "      <td>C</td>\n",
       "      <td>Cherbourg</td>\n",
       "      <td>yes</td>\n",
       "      <td>False</td>\n",
       "    </tr>\n",
       "    <tr>\n",
       "      <th>2</th>\n",
       "      <td>1</td>\n",
       "      <td>3</td>\n",
       "      <td>female</td>\n",
       "      <td>26.0</td>\n",
       "      <td>0</td>\n",
       "      <td>0</td>\n",
       "      <td>7.9250</td>\n",
       "      <td>S</td>\n",
       "      <td>Third</td>\n",
       "      <td>woman</td>\n",
       "      <td>False</td>\n",
       "      <td>NaN</td>\n",
       "      <td>Southampton</td>\n",
       "      <td>yes</td>\n",
       "      <td>True</td>\n",
       "    </tr>\n",
       "    <tr>\n",
       "      <th>3</th>\n",
       "      <td>1</td>\n",
       "      <td>1</td>\n",
       "      <td>female</td>\n",
       "      <td>35.0</td>\n",
       "      <td>1</td>\n",
       "      <td>0</td>\n",
       "      <td>53.1000</td>\n",
       "      <td>S</td>\n",
       "      <td>First</td>\n",
       "      <td>woman</td>\n",
       "      <td>False</td>\n",
       "      <td>C</td>\n",
       "      <td>Southampton</td>\n",
       "      <td>yes</td>\n",
       "      <td>False</td>\n",
       "    </tr>\n",
       "  </tbody>\n",
       "</table>\n",
       "</div>"
      ],
      "text/plain": [
       "   survived  pclass     sex   age  sibsp  parch     fare embarked  class  \\\n",
       "0         0       3    male  22.0      1      0   7.2500        S  Third   \n",
       "1         1       1  female  38.0      1      0  71.2833        C  First   \n",
       "2         1       3  female  26.0      0      0   7.9250        S  Third   \n",
       "3         1       1  female  35.0      1      0  53.1000        S  First   \n",
       "\n",
       "     who  adult_male deck  embark_town alive  alone  \n",
       "0    man        True  NaN  Southampton    no  False  \n",
       "1  woman       False    C    Cherbourg   yes  False  \n",
       "2  woman       False  NaN  Southampton   yes   True  \n",
       "3  woman       False    C  Southampton   yes  False  "
      ]
     },
     "execution_count": 4,
     "metadata": {},
     "output_type": "execute_result"
    }
   ],
   "source": [
    "data1=sns.load_dataset('tips')\n",
    "data.head(4)"
   ]
  },
  {
   "cell_type": "code",
   "execution_count": 5,
   "id": "a70a0e91",
   "metadata": {
    "scrolled": true
   },
   "outputs": [
    {
     "data": {
      "text/plain": [
       "'/Users/eebadreza/Downloads/MaT/COMVIVA/Day'"
      ]
     },
     "execution_count": 5,
     "metadata": {},
     "output_type": "execute_result"
    }
   ],
   "source": [
    "import os\n",
    "os.getcwd()"
   ]
  },
  {
   "cell_type": "code",
   "execution_count": 6,
   "id": "45aa8ab8",
   "metadata": {},
   "outputs": [],
   "source": [
    "# write data frame to the csv file\n",
    "data.to_csv('titanic.csv')"
   ]
  },
  {
   "cell_type": "code",
   "execution_count": 7,
   "id": "0dc68a6f",
   "metadata": {},
   "outputs": [],
   "source": [
    "# ls"
   ]
  },
  {
   "cell_type": "code",
   "execution_count": 8,
   "id": "39532300",
   "metadata": {
    "scrolled": true
   },
   "outputs": [
    {
     "data": {
      "text/plain": [
       "'/Users/eebadreza/Downloads/MaT/COMVIVA/Day'"
      ]
     },
     "execution_count": 8,
     "metadata": {},
     "output_type": "execute_result"
    }
   ],
   "source": [
    "pwd"
   ]
  },
  {
   "cell_type": "code",
   "execution_count": 9,
   "id": "ef5222af",
   "metadata": {},
   "outputs": [
    {
     "data": {
      "text/plain": [
       "Index(['survived', 'pclass', 'sex', 'age', 'sibsp', 'parch', 'fare',\n",
       "       'embarked', 'class', 'who', 'adult_male', 'deck', 'embark_town',\n",
       "       'alive', 'alone'],\n",
       "      dtype='object')"
      ]
     },
     "execution_count": 9,
     "metadata": {},
     "output_type": "execute_result"
    }
   ],
   "source": [
    "data.columns"
   ]
  },
  {
   "cell_type": "code",
   "execution_count": 10,
   "id": "1b9aa123",
   "metadata": {
    "scrolled": true
   },
   "outputs": [
    {
     "data": {
      "text/plain": [
       "0      22.0\n",
       "1      38.0\n",
       "2      26.0\n",
       "3      35.0\n",
       "4      35.0\n",
       "       ... \n",
       "886    27.0\n",
       "887    19.0\n",
       "888     NaN\n",
       "889    26.0\n",
       "890    32.0\n",
       "Name: age, Length: 891, dtype: float64"
      ]
     },
     "execution_count": 10,
     "metadata": {},
     "output_type": "execute_result"
    }
   ],
   "source": [
    "data['age']"
   ]
  },
  {
   "cell_type": "code",
   "execution_count": 11,
   "id": "74aab88d",
   "metadata": {},
   "outputs": [
    {
     "data": {
      "text/plain": [
       "80.0"
      ]
     },
     "execution_count": 11,
     "metadata": {},
     "output_type": "execute_result"
    }
   ],
   "source": [
    "data['age'].max()"
   ]
  },
  {
   "cell_type": "code",
   "execution_count": 12,
   "id": "82f5d4e8",
   "metadata": {},
   "outputs": [
    {
     "data": {
      "text/plain": [
       "0.42"
      ]
     },
     "execution_count": 12,
     "metadata": {},
     "output_type": "execute_result"
    }
   ],
   "source": [
    "data['age'].min()"
   ]
  },
  {
   "cell_type": "code",
   "execution_count": 13,
   "id": "24b71b17",
   "metadata": {},
   "outputs": [
    {
     "data": {
      "text/plain": [
       "29.69911764705882"
      ]
     },
     "execution_count": 13,
     "metadata": {},
     "output_type": "execute_result"
    }
   ],
   "source": [
    "# What is the average age of the Titanic passengers?\n",
    "data['age'].mean()"
   ]
  },
  {
   "cell_type": "code",
   "execution_count": 14,
   "id": "bb3e9c07",
   "metadata": {},
   "outputs": [
    {
     "data": {
      "text/plain": [
       "(891, 15)"
      ]
     },
     "execution_count": 14,
     "metadata": {},
     "output_type": "execute_result"
    }
   ],
   "source": [
    "# Dimension\n",
    "data.shape"
   ]
  },
  {
   "cell_type": "code",
   "execution_count": 15,
   "id": "b529f71c",
   "metadata": {},
   "outputs": [
    {
     "data": {
      "text/plain": [
       "0    549\n",
       "1    342\n",
       "Name: survived, dtype: int64"
      ]
     },
     "execution_count": 15,
     "metadata": {},
     "output_type": "execute_result"
    }
   ],
   "source": [
    "# How many passengers survived the Titanic collision?\n",
    "data['survived'].dtype\n",
    "data['survived'].value_counts() # frequency"
   ]
  },
  {
   "cell_type": "code",
   "execution_count": 16,
   "id": "05efc907",
   "metadata": {},
   "outputs": [
    {
     "data": {
      "text/plain": [
       "0    0.616162\n",
       "1    0.383838\n",
       "Name: survived, dtype: float64"
      ]
     },
     "execution_count": 16,
     "metadata": {},
     "output_type": "execute_result"
    }
   ],
   "source": [
    "# What is the passenger survival rate (probability) \n",
    "data['survived'].value_counts(normalize=True) #Relative Frequnecy"
   ]
  },
  {
   "cell_type": "code",
   "execution_count": 17,
   "id": "63e648cf",
   "metadata": {},
   "outputs": [
    {
     "data": {
      "text/plain": [
       "0.3838383838383838"
      ]
     },
     "execution_count": 17,
     "metadata": {},
     "output_type": "execute_result"
    }
   ],
   "source": [
    "#Relative Frequnecy\n",
    "# Freq/total count\n",
    "Survial_frq=342\n",
    "total_count=891\n",
    "rel_frq=Survial_frq/total_count\n",
    "rel_frq"
   ]
  },
  {
   "cell_type": "markdown",
   "id": "919d3d68",
   "metadata": {},
   "source": [
    "- Inference: 38% chances of survial "
   ]
  },
  {
   "cell_type": "code",
   "execution_count": 18,
   "id": "53f56d64",
   "metadata": {},
   "outputs": [
    {
     "name": "stdout",
     "output_type": "stream",
     "text": [
      "0.3838383838383838\n"
     ]
    }
   ],
   "source": [
    "# What is the probability that a randomly selected passenger survived the Titanic disaster?\n",
    "# Event: passenger survived\n",
    "survived=342\n",
    "total_passengers=891\n",
    "prob_survived= survived/total_passengers\n",
    "print(prob_survived)\n",
    "# P(E)\n",
    "# What is the probability that a randomly selected passenger survived the Titanic disaster?"
   ]
  },
  {
   "cell_type": "markdown",
   "id": "ec1bc102",
   "metadata": {},
   "source": [
    "## Complement probability"
   ]
  },
  {
   "cell_type": "code",
   "execution_count": 19,
   "id": "6221f71e",
   "metadata": {},
   "outputs": [
    {
     "data": {
      "text/plain": [
       "0.6161616161616161"
      ]
     },
     "execution_count": 19,
     "metadata": {},
     "output_type": "execute_result"
    }
   ],
   "source": [
    "# What is the probability that a randomly selected passenger did not survived the Titanic disaster?\n",
    "# 1-survived=notsurvived\n",
    "# P(E')=1-P(E) hence p(E')+P(E)=1\n",
    "prob_not_survied=1-prob_survived\n",
    "prob_not_survied"
   ]
  },
  {
   "cell_type": "code",
   "execution_count": 20,
   "id": "aff81360",
   "metadata": {},
   "outputs": [
    {
     "data": {
      "text/plain": [
       "1.0"
      ]
     },
     "execution_count": 20,
     "metadata": {},
     "output_type": "execute_result"
    }
   ],
   "source": [
    "# total probability is always 1\n",
    "Total_prob=prob_not_survied+prob_survived\n",
    "Total_prob"
   ]
  },
  {
   "cell_type": "markdown",
   "id": "9c94f1b4",
   "metadata": {},
   "source": [
    "## Conditional Probability"
   ]
  },
  {
   "cell_type": "code",
   "execution_count": 21,
   "id": "a887f306",
   "metadata": {},
   "outputs": [
    {
     "data": {
      "text/plain": [
       "male      577\n",
       "female    314\n",
       "Name: sex, dtype: int64"
      ]
     },
     "execution_count": 21,
     "metadata": {},
     "output_type": "execute_result"
    }
   ],
   "source": [
    "# Given that a passenger is female, what is the probability that she survived?\n",
    "# data.columns\n",
    "data['sex'].value_counts()"
   ]
  },
  {
   "cell_type": "code",
   "execution_count": 22,
   "id": "98c1a85d",
   "metadata": {},
   "outputs": [
    {
     "data": {
      "text/plain": [
       "314"
      ]
     },
     "execution_count": 22,
     "metadata": {},
     "output_type": "execute_result"
    }
   ],
   "source": [
    "# A: A passenger is female\n",
    "fem_count=data[data['sex']=='female']\n",
    "len(fem_count)"
   ]
  },
  {
   "cell_type": "code",
   "execution_count": 23,
   "id": "c1a57b8d",
   "metadata": {},
   "outputs": [
    {
     "data": {
      "text/plain": [
       "233"
      ]
     },
     "execution_count": 23,
     "metadata": {},
     "output_type": "execute_result"
    }
   ],
   "source": [
    "# B: Female Passenger survived\n",
    "fem_survied=data[(data['sex']=='female') & (data['survived']==1)]\n",
    "len(fem_survied)"
   ]
  },
  {
   "cell_type": "code",
   "execution_count": 24,
   "id": "9d96549e",
   "metadata": {},
   "outputs": [
    {
     "data": {
      "text/plain": [
       "0.7420382165605095"
      ]
     },
     "execution_count": 24,
     "metadata": {},
     "output_type": "execute_result"
    }
   ],
   "source": [
    "# A: A passenger is female\n",
    "# B: Female Passenger survived\n",
    "# P(B|A) \n",
    "\n",
    "prob_female_survived=len(fem_survied)/len(fem_count)\n",
    "prob_female_survived"
   ]
  },
  {
   "cell_type": "code",
   "execution_count": 25,
   "id": "cc9ceb89",
   "metadata": {},
   "outputs": [
    {
     "data": {
      "text/plain": [
       "0.35241301907968575"
      ]
     },
     "execution_count": 25,
     "metadata": {},
     "output_type": "execute_result"
    }
   ],
   "source": [
    "# Survival of female\n",
    "prob_female_survived=314/891\n",
    "prob_female_survived"
   ]
  },
  {
   "cell_type": "code",
   "execution_count": 26,
   "id": "81980d06",
   "metadata": {},
   "outputs": [
    {
     "data": {
      "text/plain": [
       "Index(['survived', 'pclass', 'sex', 'age', 'sibsp', 'parch', 'fare',\n",
       "       'embarked', 'class', 'who', 'adult_male', 'deck', 'embark_town',\n",
       "       'alive', 'alone'],\n",
       "      dtype='object')"
      ]
     },
     "execution_count": 26,
     "metadata": {},
     "output_type": "execute_result"
    }
   ],
   "source": [
    "## What is the probability that a passenger survived given that they were in first class?\n",
    "data.columns"
   ]
  },
  {
   "cell_type": "code",
   "execution_count": 27,
   "id": "06dc0073",
   "metadata": {},
   "outputs": [
    {
     "data": {
      "text/plain": [
       "3    491\n",
       "1    216\n",
       "2    184\n",
       "Name: pclass, dtype: int64"
      ]
     },
     "execution_count": 27,
     "metadata": {},
     "output_type": "execute_result"
    }
   ],
   "source": [
    "data['pclass'].value_counts()"
   ]
  },
  {
   "cell_type": "code",
   "execution_count": 28,
   "id": "5bdbb958",
   "metadata": {
    "scrolled": false
   },
   "outputs": [
    {
     "data": {
      "text/plain": [
       "Third     491\n",
       "First     216\n",
       "Second    184\n",
       "Name: class, dtype: int64"
      ]
     },
     "execution_count": 28,
     "metadata": {},
     "output_type": "execute_result"
    }
   ],
   "source": [
    "data['class'].value_counts()"
   ]
  },
  {
   "cell_type": "code",
   "execution_count": 29,
   "id": "5261e3a2",
   "metadata": {},
   "outputs": [
    {
     "data": {
      "text/plain": [
       "0.6296296296296297"
      ]
     },
     "execution_count": 29,
     "metadata": {},
     "output_type": "execute_result"
    }
   ],
   "source": [
    "# A: A passenger is in First class\n",
    "fclass_count=data[data['class']=='First']\n",
    "len(fclass_count)\n",
    "\n",
    "# B: First class Passenger survived\n",
    "fclass_survied=data[(data['class']=='First') & (data['survived']==1)]\n",
    "len(fclass_survied)\n",
    "\n",
    "# A: A passenger is in First class\n",
    "# B: First class Passenger survived\n",
    "# P(B|A) = P(B∩A)/P(A)\n",
    "\n",
    "prob_fclass_survived=len(fclass_survied)/len(fclass_count)\n",
    "prob_fclass_survived"
   ]
  },
  {
   "cell_type": "code",
   "execution_count": 30,
   "id": "8e0ea984",
   "metadata": {
    "scrolled": true
   },
   "outputs": [
    {
     "data": {
      "text/plain": [
       "Index(['survived', 'pclass', 'sex', 'age', 'sibsp', 'parch', 'fare',\n",
       "       'embarked', 'class', 'who', 'adult_male', 'deck', 'embark_town',\n",
       "       'alive', 'alone'],\n",
       "      dtype='object')"
      ]
     },
     "execution_count": 30,
     "metadata": {},
     "output_type": "execute_result"
    }
   ],
   "source": [
    "data.columns"
   ]
  },
  {
   "cell_type": "markdown",
   "id": "0a70bc4f",
   "metadata": {},
   "source": [
    "## Bayes Theorem\n",
    "* P(A|B) = (P(B|A) * P(A)) / P(B)\n",
    "* P(A|B) = (P(B|A) * P(A)) / [(P(B|A)*P(A))+(P(B|A')*P(A'))]\n",
    "* where:\n",
    "* P(A|B) is the probability of event A given event B (the posterior probability).\n",
    "* P(B|A) is the probability of event B given event A (the likelihood).\n",
    "* P(A) is the probability of event A (the prior probability).\n",
    "* P(B) is the probability of event B."
   ]
  },
  {
   "cell_type": "markdown",
   "id": "c46c0b2c",
   "metadata": {},
   "source": [
    " There is a certain disease that affects 2% of the population (prevalence). \n",
    " A medical test is available to detect this disease, which has an accuracy rate of 95% \n",
    " (it correctly identifies the disease in 95% of cases) and a false positive rate of 3% \n",
    " (it incorrectly indicates the presence of the disease in 3% of cases where it's not actually present).\n",
    " An individual takes the test, and the result comes back positive. \n",
    " Determine the probability that this person actually has the disease (posterior probability)."
   ]
  },
  {
   "cell_type": "markdown",
   "id": "6f54f277",
   "metadata": {},
   "source": [
    " Calculate the probability of having the disease given a positive test result P(Disease|Positive).\n",
    "* P(Disease|Positive)= (P(Positive|Disease) ∗ P(Disease)) / [(P(Positive|Disease) ∗ P(Disease)) + (P(Positive|No Disease) ∗ P(No Disease))] \n",
    "* Given that\n",
    "* Prevalence of the disease (prior probability): P(Disease) = 0.02 (2%) \n",
    "* P(No Disease) = 1 - P(Disease) = 1 - 0.02 = 0.98 (98%)\n",
    "* Accuracy of the test (likelihood): P(Positive|Disease) = 0.95 (95%)\n",
    "* False positive rate of the test: P(Positive|No Disease) = 0.03 (3%)"
   ]
  },
  {
   "cell_type": "markdown",
   "id": "8b047d15",
   "metadata": {},
   "source": [
    " Step 1: Calculate the probability of testing positive, regardless of disease status (marginal likelihood):\n",
    "* P(Positive) = P(Positive|Disease) * P(Disease) + P(Positive|No Disease) * P(No Disease)\n",
    "* P(Positive) = (0.95 * 0.02) + (0.03 * 0.98) = 0.019 + 0.0294  = 0.0484"
   ]
  },
  {
   "cell_type": "markdown",
   "id": "001a0cde",
   "metadata": {},
   "source": [
    " Step 2: Apply Bayes' theorem to calculate the probability of having the disease given a positive test result:\n",
    "* P(Disease|Positive) = (P(Positive|Disease) * P(Disease)) / P(Positive)\n",
    "* P(Disease|Positive) = (0.95 * 0.02) / 0.0484 ≈ 0.0391 or 3.91%\n",
    "* Therefore, if an individual tests positive for the disease, the probability of them actually having the disease is approximately 3.91%. \n",
    "* This result indicates that even with a positive test, there is a relatively low probability of the person having the disease.\n",
    "* Further evaluations or tests may be necessary to confirm the diagnosis."
   ]
  },
  {
   "cell_type": "markdown",
   "id": "017c3e65",
   "metadata": {},
   "source": [
    " Assume that the word ‘offer’ occurs in 80% of the spam e-mail in your account. \n",
    " Also, let’s assume ‘offer’ occurs in 10% of the non-spam e-mails. \n",
    " 30% of the received e-mails are considered as a spam.\n",
    " when a new e-mail received contains ‘offer’, what is the probability that it is spam?"
   ]
  },
  {
   "cell_type": "markdown",
   "id": "df214b42",
   "metadata": {},
   "source": [
    "* Apply Bayes' theorem to calculate the probability that the message is spam:\n",
    "* P(Spam|Offer) = (P(Offer|Spam) ∗P(Spam)) / [(P(Offer|Spam) * P(Spam)) + (P(Offer|Spam') * P(Spam'))]"
   ]
  },
  {
   "cell_type": "markdown",
   "id": "4e089107",
   "metadata": {},
   "source": [
    " Step 1: Calculate the marginal likelihood of receiving a message containing the word 'offer’:\n",
    "* P(Offer) = P(Offer|Spam) * P(Spam) + P(Offer|Not Spam) * P(Not Spam)\n",
    "* P(Offer|Spam) = 80% = 0.80 \n",
    "* P(Offer|Not Spam) = 10% = 0.10 \n",
    "* P(Spam) = 30% = 0.30 \n",
    "* P(Not Spam) = 70% = 0.70 (complement of spam)\n",
    "* P(Offer) = (0.80 * 0.30) + (0.10 * 0.70) = 0.24 + 0.07 = 0.31"
   ]
  },
  {
   "cell_type": "markdown",
   "id": "607b7260",
   "metadata": {},
   "source": [
    " Step 2: Apply Bayes' theorem to calculate the probability that the message is spam:\n",
    "* P(Spam|Offer) = (P(Offer|Spam) * P(Spam)) / P(Offer)\n",
    "* P(Spam|Offer) = (0.80 * 0.30) / 0.31 = 0.24 / 0.31  ≈ 0.774 or 77.4%\n",
    "* Therefore, the probability that a new message containing the word 'offer' is spam is approximately 77.4%.\n",
    "* This result suggests that there is a high likelihood that a message with the word 'offer' is spam. "
   ]
  },
  {
   "cell_type": "markdown",
   "id": "cb1b8e6b",
   "metadata": {},
   "source": [
    "# Probability Distribution"
   ]
  },
  {
   "cell_type": "markdown",
   "id": "d2105861",
   "metadata": {},
   "source": [
    "# Binomial distribution"
   ]
  },
  {
   "cell_type": "markdown",
   "id": "e42373af",
   "metadata": {},
   "source": [
    "* Microfracture knee surgery has a 75% chance of success on patients with degenerative knees.\n",
    "* The surgery is performed on three patients. \n",
    "* Find the probability of the surgery being successful on exactly two patients. "
   ]
  },
  {
   "cell_type": "code",
   "execution_count": 31,
   "id": "53007ae2",
   "metadata": {},
   "outputs": [],
   "source": [
    "import scipy.stats as st"
   ]
  },
  {
   "cell_type": "code",
   "execution_count": 32,
   "id": "dbc2b8ae",
   "metadata": {},
   "outputs": [
    {
     "data": {
      "text/plain": [
       "0.4218750000000002"
      ]
     },
     "execution_count": 32,
     "metadata": {},
     "output_type": "execute_result"
    }
   ],
   "source": [
    "# binomial distirbution we use binom function\n",
    "\n",
    "p = 0.75  # knee surgery success rate 75%\n",
    "n = 3 # no. of patients (trails)\n",
    "x = 2 # exactly two patients\n",
    "\n",
    "prob=st.binom.pmf(x,n,p)\n",
    "prob"
   ]
  },
  {
   "cell_type": "markdown",
   "id": "ebbb3d63",
   "metadata": {},
   "source": [
    "A survey indicates that 41% of women in the United States consider reading their favorite leisure-time activity. \n",
    "You randomly select four U.S. women and ask them if reading is their favorite leisure-time activity. \n",
    "Find the probability that \n",
    "- (1) exactly two of them respond yes, \n",
    "- (2) at least two of them respond yes,\n",
    "and (3) fewer than two of them respond yes."
   ]
  },
  {
   "cell_type": "code",
   "execution_count": 33,
   "id": "a10b519d",
   "metadata": {},
   "outputs": [
    {
     "data": {
      "text/plain": [
       "0.35109366000000025"
      ]
     },
     "execution_count": 33,
     "metadata": {},
     "output_type": "execute_result"
    }
   ],
   "source": [
    "# (1) exactly two of them respond yes, \n",
    "\n",
    "p = 0.41 #41%\n",
    "n = 4\n",
    "x = 2\n",
    "prob1=st.binom.pmf(x,n,p)\n",
    "prob1"
   ]
  },
  {
   "cell_type": "code",
   "execution_count": 34,
   "id": "ba8f9d76",
   "metadata": {},
   "outputs": [
    {
     "data": {
      "text/plain": [
       "0.5420048300000002"
      ]
     },
     "execution_count": 34,
     "metadata": {},
     "output_type": "execute_result"
    }
   ],
   "source": [
    "# (2) at least two of them respond yes,\n",
    "\n",
    "# x=0 x=1 x=2 x=3 x=4  total probability is 1\n",
    "\n",
    "p = 0.41 #41%\n",
    "n = 4\n",
    "x>=2 # that is x=2 or x=3 or x=4 or x<2 that is x=0 or x=1\n",
    "\n",
    "prob2=st.binom.pmf(2,n,p)+st.binom.pmf(3,n,p)+st.binom.pmf(4,n,p)\n",
    "prob2"
   ]
  },
  {
   "cell_type": "code",
   "execution_count": 35,
   "id": "443f34db",
   "metadata": {},
   "outputs": [
    {
     "data": {
      "text/plain": [
       "0.5420048299999998"
      ]
     },
     "execution_count": 35,
     "metadata": {},
     "output_type": "execute_result"
    }
   ],
   "source": [
    "prob2=1-st.binom.cdf(1,n,p)  # cdf will give the prob of x=0 + x=1\n",
    "prob2"
   ]
  },
  {
   "cell_type": "code",
   "execution_count": 36,
   "id": "c2b94083",
   "metadata": {},
   "outputs": [
    {
     "data": {
      "text/plain": [
       "0.45799517000000023"
      ]
     },
     "execution_count": 36,
     "metadata": {},
     "output_type": "execute_result"
    }
   ],
   "source": [
    "# (3) fewer than two of them respond yes.\n",
    "p = 0.41\n",
    "n = 4\n",
    "x<2 # x=0 or x=1\n",
    "prob3=st.binom.cdf(1,n,p)  # cdf will give the prob of x=0 + x=1\n",
    "prob3"
   ]
  },
  {
   "cell_type": "markdown",
   "id": "7645b5c2",
   "metadata": {},
   "source": [
    "# Poisson distribution\n"
   ]
  },
  {
   "cell_type": "code",
   "execution_count": 37,
   "id": "cf894e2f",
   "metadata": {},
   "outputs": [],
   "source": [
    "# The mean number of accidents per month at a certain intersection is three. \n",
    "# What is the probability that in any given month four accidents will occur at this intersection?"
   ]
  },
  {
   "cell_type": "code",
   "execution_count": 38,
   "id": "19b3f817",
   "metadata": {},
   "outputs": [
    {
     "data": {
      "text/plain": [
       "0.16803135574154085"
      ]
     },
     "execution_count": 38,
     "metadata": {},
     "output_type": "execute_result"
    }
   ],
   "source": [
    "mean = 3 # lambda\n",
    "x = 4\n",
    "prob=st.poisson.pmf(x,mean)\n",
    "prob"
   ]
  },
  {
   "cell_type": "code",
   "execution_count": 39,
   "id": "690400b7",
   "metadata": {},
   "outputs": [
    {
     "data": {
      "text/plain": [
       "0.35276811121776874"
      ]
     },
     "execution_count": 39,
     "metadata": {},
     "output_type": "execute_result"
    }
   ],
   "source": [
    "# What is the probability that in any given month atleast four accidents will occur at this intersection?\n",
    "\n",
    "mean = 3 # lambda\n",
    "#x >=4 that is x=4 or x=5 or x=6 or x=7 ......\n",
    "\n",
    "prob=1-st.poisson.cdf(3,mean) # x=0,x=1,x=2,x=3\n",
    "prob"
   ]
  },
  {
   "cell_type": "code",
   "execution_count": null,
   "id": "8efa3e7a",
   "metadata": {},
   "outputs": [],
   "source": []
  }
 ],
 "metadata": {
  "kernelspec": {
   "display_name": "Python 3 (ipykernel)",
   "language": "python",
   "name": "python3"
  },
  "language_info": {
   "codemirror_mode": {
    "name": "ipython",
    "version": 3
   },
   "file_extension": ".py",
   "mimetype": "text/x-python",
   "name": "python",
   "nbconvert_exporter": "python",
   "pygments_lexer": "ipython3",
   "version": "3.10.9"
  }
 },
 "nbformat": 4,
 "nbformat_minor": 5
}
