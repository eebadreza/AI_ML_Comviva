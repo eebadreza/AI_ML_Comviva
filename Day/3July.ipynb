{
 "cells": [
  {
   "cell_type": "markdown",
   "id": "22a54dc7",
   "metadata": {},
   "source": [
    "# Python Introduction Day1"
   ]
  },
  {
   "cell_type": "markdown",
   "id": "35b1f0f5",
   "metadata": {},
   "source": [
    "* Explore print()"
   ]
  },
  {
   "cell_type": "code",
   "execution_count": 1,
   "id": "b7367aa8",
   "metadata": {},
   "outputs": [
    {
     "name": "stdout",
     "output_type": "stream",
     "text": [
      "Hello World\n"
     ]
    }
   ],
   "source": [
    "#Display Hello World\n",
    "print(\"Hello World\")"
   ]
  },
  {
   "cell_type": "code",
   "execution_count": 1,
   "id": "bcb4037c",
   "metadata": {},
   "outputs": [
    {
     "data": {
      "text/plain": [
       "'Hello World'"
      ]
     },
     "metadata": {},
     "output_type": "display_data"
    }
   ],
   "source": [
    "display(\"Hello World\")"
   ]
  },
  {
   "cell_type": "code",
   "execution_count": 2,
   "id": "8da53921",
   "metadata": {},
   "outputs": [
    {
     "data": {
      "text/plain": [
       "5"
      ]
     },
     "execution_count": 2,
     "metadata": {},
     "output_type": "execute_result"
    }
   ],
   "source": [
    "a = 5\n",
    "a\n",
    "#print(a)"
   ]
  },
  {
   "cell_type": "code",
   "execution_count": 4,
   "id": "0e9105ee",
   "metadata": {},
   "outputs": [
    {
     "name": "stdout",
     "output_type": "stream",
     "text": [
      "the value of is 5\n"
     ]
    }
   ],
   "source": [
    "print(\"the value of is\", a)"
   ]
  },
  {
   "cell_type": "code",
   "execution_count": 5,
   "id": "29aae3ef",
   "metadata": {},
   "outputs": [
    {
     "name": "stdout",
     "output_type": "stream",
     "text": [
      "AI ML\n"
     ]
    }
   ],
   "source": [
    "print(\"AI\",\"ML\")"
   ]
  },
  {
   "cell_type": "code",
   "execution_count": 6,
   "id": "4c3cc3e6",
   "metadata": {},
   "outputs": [
    {
     "name": "stdout",
     "output_type": "stream",
     "text": [
      "AI/ML\n",
      "AI-ML\n"
     ]
    }
   ],
   "source": [
    "print(\"AI\",\"ML\", sep='/')\n",
    "print(\"AI\",\"ML\", sep='-')"
   ]
  },
  {
   "cell_type": "code",
   "execution_count": 7,
   "id": "6816f7b6",
   "metadata": {},
   "outputs": [
    {
     "name": "stdout",
     "output_type": "stream",
     "text": [
      "AI/ML course\n"
     ]
    }
   ],
   "source": [
    "print(\"AI\",\"ML\", sep='/',end = \" \")\n",
    "print(\"course\")"
   ]
  },
  {
   "cell_type": "markdown",
   "id": "830bf296",
   "metadata": {},
   "source": [
    "* Platform exploring"
   ]
  },
  {
   "cell_type": "code",
   "execution_count": 4,
   "id": "52c896ec",
   "metadata": {},
   "outputs": [
    {
     "name": "stdout",
     "output_type": "stream",
     "text": [
      "The python version is: 3.10.9\n"
     ]
    }
   ],
   "source": [
    "import platform as pt\n",
    "version=pt.python_version()\n",
    "print(\"The python version is:\", version)"
   ]
  },
  {
   "cell_type": "code",
   "execution_count": 5,
   "id": "7226efca",
   "metadata": {},
   "outputs": [
    {
     "data": {
      "text/plain": [
       "'Darwin'"
      ]
     },
     "execution_count": 5,
     "metadata": {},
     "output_type": "execute_result"
    }
   ],
   "source": [
    "pt.system()"
   ]
  },
  {
   "cell_type": "code",
   "execution_count": 6,
   "id": "e2890866",
   "metadata": {},
   "outputs": [
    {
     "data": {
      "text/plain": [
       "'22.5.0'"
      ]
     },
     "execution_count": 6,
     "metadata": {},
     "output_type": "execute_result"
    }
   ],
   "source": [
    "pt.release()"
   ]
  },
  {
   "cell_type": "code",
   "execution_count": 7,
   "id": "1eac0bcc",
   "metadata": {},
   "outputs": [
    {
     "data": {
      "text/plain": [
       "'arm64'"
      ]
     },
     "execution_count": 7,
     "metadata": {},
     "output_type": "execute_result"
    }
   ],
   "source": [
    "pt.machine()"
   ]
  },
  {
   "cell_type": "code",
   "execution_count": 8,
   "id": "291f08c0",
   "metadata": {},
   "outputs": [
    {
     "data": {
      "text/plain": [
       "'arm'"
      ]
     },
     "execution_count": 8,
     "metadata": {},
     "output_type": "execute_result"
    }
   ],
   "source": [
    "pt.processor()"
   ]
  },
  {
   "cell_type": "code",
   "execution_count": 9,
   "id": "6caab10c",
   "metadata": {},
   "outputs": [
    {
     "data": {
      "text/plain": [
       "('64bit', '')"
      ]
     },
     "execution_count": 9,
     "metadata": {},
     "output_type": "execute_result"
    }
   ],
   "source": [
    "pt.architecture()"
   ]
  },
  {
   "cell_type": "markdown",
   "id": "b9adea35",
   "metadata": {},
   "source": [
    "#### Python Data Types\n",
    "* Basic Types: integer,float, boolean, string, complex\n",
    "* Container Types: list, tuple, set, dictionary"
   ]
  },
  {
   "cell_type": "code",
   "execution_count": 14,
   "id": "bd42f055",
   "metadata": {},
   "outputs": [
    {
     "name": "stdout",
     "output_type": "stream",
     "text": [
      "6\n",
      "6\n"
     ]
    }
   ],
   "source": [
    "a = 6\n",
    "print(a)\n",
    "print(6)"
   ]
  },
  {
   "cell_type": "code",
   "execution_count": 15,
   "id": "f3e61ed4",
   "metadata": {},
   "outputs": [
    {
     "name": "stdout",
     "output_type": "stream",
     "text": [
      "6.6\n",
      "6.6\n"
     ]
    }
   ],
   "source": [
    "a = 6.6\n",
    "print(a)\n",
    "print(6.6)"
   ]
  },
  {
   "cell_type": "code",
   "execution_count": 16,
   "id": "edda5f60",
   "metadata": {},
   "outputs": [
    {
     "name": "stdout",
     "output_type": "stream",
     "text": [
      "True\n",
      "False\n"
     ]
    }
   ],
   "source": [
    "print(True)\n",
    "print(False)"
   ]
  },
  {
   "cell_type": "code",
   "execution_count": 17,
   "id": "90b06289",
   "metadata": {},
   "outputs": [
    {
     "name": "stdout",
     "output_type": "stream",
     "text": [
      "AI/ML\n",
      "AI/ML\n",
      "AI/ML\n"
     ]
    }
   ],
   "source": [
    "a= \"AI/ML\"\n",
    "print(a)\n",
    "print('AI/ML')\n",
    "print(\"AI/ML\")"
   ]
  },
  {
   "cell_type": "code",
   "execution_count": 18,
   "id": "286b3c98",
   "metadata": {},
   "outputs": [
    {
     "name": "stdout",
     "output_type": "stream",
     "text": [
      "(4+6j)\n",
      "(4+6j)\n"
     ]
    }
   ],
   "source": [
    "print(4+6j)\n",
    "a = 4+6j\n",
    "print(a)"
   ]
  },
  {
   "cell_type": "code",
   "execution_count": 19,
   "id": "d2638f5d",
   "metadata": {},
   "outputs": [
    {
     "data": {
      "text/plain": [
       "int"
      ]
     },
     "execution_count": 19,
     "metadata": {},
     "output_type": "execute_result"
    }
   ],
   "source": [
    "type(6)"
   ]
  },
  {
   "cell_type": "code",
   "execution_count": 20,
   "id": "025116bb",
   "metadata": {},
   "outputs": [
    {
     "data": {
      "text/plain": [
       "float"
      ]
     },
     "execution_count": 20,
     "metadata": {},
     "output_type": "execute_result"
    }
   ],
   "source": [
    "type(6.6)\n"
   ]
  },
  {
   "cell_type": "code",
   "execution_count": 21,
   "id": "9138c127",
   "metadata": {},
   "outputs": [
    {
     "data": {
      "text/plain": [
       "complex"
      ]
     },
     "execution_count": 21,
     "metadata": {},
     "output_type": "execute_result"
    }
   ],
   "source": [
    "type(a)"
   ]
  },
  {
   "cell_type": "code",
   "execution_count": 11,
   "id": "82b7c183",
   "metadata": {},
   "outputs": [
    {
     "data": {
      "text/plain": [
       "(6+3j)"
      ]
     },
     "execution_count": 11,
     "metadata": {},
     "output_type": "execute_result"
    }
   ],
   "source": [
    "complex(6,3)"
   ]
  },
  {
   "cell_type": "code",
   "execution_count": 12,
   "id": "a9e79a50",
   "metadata": {},
   "outputs": [
    {
     "data": {
      "text/plain": [
       "(11+3j)"
      ]
     },
     "execution_count": 12,
     "metadata": {},
     "output_type": "execute_result"
    }
   ],
   "source": [
    "complex(6,3) + complex(5)"
   ]
  },
  {
   "cell_type": "markdown",
   "id": "43a38479",
   "metadata": {},
   "source": [
    "* implicit ans explicit conversion"
   ]
  },
  {
   "cell_type": "code",
   "execution_count": 14,
   "id": "a485e1dd",
   "metadata": {},
   "outputs": [
    {
     "data": {
      "text/plain": [
       "(13+7j)"
      ]
     },
     "execution_count": 14,
     "metadata": {},
     "output_type": "execute_result"
    }
   ],
   "source": [
    "a = complex(7,5)\n",
    "# a + ib\n",
    "b = 6 + 2j\n",
    "a+b"
   ]
  },
  {
   "cell_type": "code",
   "execution_count": 25,
   "id": "27bcd7ba",
   "metadata": {},
   "outputs": [
    {
     "data": {
      "text/plain": [
       "4.0"
      ]
     },
     "execution_count": 25,
     "metadata": {},
     "output_type": "execute_result"
    }
   ],
   "source": [
    "float(4)"
   ]
  },
  {
   "cell_type": "code",
   "execution_count": 15,
   "id": "9e2e5d1a",
   "metadata": {},
   "outputs": [
    {
     "data": {
      "text/plain": [
       "float"
      ]
     },
     "execution_count": 15,
     "metadata": {},
     "output_type": "execute_result"
    }
   ],
   "source": [
    "type(6 + 6.6)"
   ]
  },
  {
   "cell_type": "code",
   "execution_count": 28,
   "id": "19341946",
   "metadata": {},
   "outputs": [
    {
     "data": {
      "text/plain": [
       "True"
      ]
     },
     "execution_count": 28,
     "metadata": {},
     "output_type": "execute_result"
    }
   ],
   "source": [
    "bool(a)"
   ]
  },
  {
   "cell_type": "code",
   "execution_count": 29,
   "id": "4fcc8736",
   "metadata": {},
   "outputs": [
    {
     "data": {
      "text/plain": [
       "int"
      ]
     },
     "execution_count": 29,
     "metadata": {},
     "output_type": "execute_result"
    }
   ],
   "source": [
    "type(a)"
   ]
  },
  {
   "cell_type": "markdown",
   "id": "6d6e857c",
   "metadata": {},
   "source": [
    "#### How to accept the input from user\n",
    "* input()"
   ]
  },
  {
   "cell_type": "code",
   "execution_count": 16,
   "id": "8d0e8a96",
   "metadata": {},
   "outputs": [
    {
     "name": "stdout",
     "output_type": "stream",
     "text": [
      "Enter your name qwwq\n",
      "Enter your cgpa 0.9\n"
     ]
    }
   ],
   "source": [
    "std_name = input(\"Enter your name \")\n",
    "cgpa = float(input(\"Enter your cgpa \"))"
   ]
  },
  {
   "cell_type": "code",
   "execution_count": 17,
   "id": "bd15178d",
   "metadata": {},
   "outputs": [
    {
     "name": "stdout",
     "output_type": "stream",
     "text": [
      "['False', 'None', 'True', 'and', 'as', 'assert', 'async', 'await', 'break', 'class', 'continue', 'def', 'del', 'elif', 'else', 'except', 'finally', 'for', 'from', 'global', 'if', 'import', 'in', 'is', 'lambda', 'nonlocal', 'not', 'or', 'pass', 'raise', 'return', 'try', 'while', 'with', 'yield']\n"
     ]
    }
   ],
   "source": [
    "import keyword\n",
    "print(keyword.kwlist)"
   ]
  },
  {
   "cell_type": "markdown",
   "id": "6c604b7d",
   "metadata": {},
   "source": [
    "# Python Introduction DAY- 2"
   ]
  },
  {
   "cell_type": "markdown",
   "id": "6ef9dc65",
   "metadata": {},
   "source": [
    "### Python Data Structures\n",
    "#### Container Types : list, tuple, set, dictionary\n",
    "#### Mutable and Immutable\n",
    "#### Mutable : list, set, dictionary\n",
    "#### Immutable : tuple\n",
    "## list: contain heterogeneous data types"
   ]
  },
  {
   "cell_type": "code",
   "execution_count": 2,
   "id": "dea4dfe5",
   "metadata": {},
   "outputs": [
    {
     "name": "stdout",
     "output_type": "stream",
     "text": [
      "The address of variable a 1911538647440\n",
      "The address of variable a 1911538647568\n"
     ]
    }
   ],
   "source": [
    "a = 6\n",
    "print(\"The address of variable a\", id(a))\n",
    "a = 10\n",
    "print(\"The address of variable a\", id(a))\n",
    "# sum = a + 10\n",
    "# print()"
   ]
  },
  {
   "cell_type": "code",
   "execution_count": 31,
   "id": "9e1a1abd",
   "metadata": {},
   "outputs": [
    {
     "data": {
      "text/plain": [
       "list"
      ]
     },
     "execution_count": 31,
     "metadata": {},
     "output_type": "execute_result"
    }
   ],
   "source": [
    "# create an empty list\n",
    "l1 = []\n",
    "l1\n",
    "type(l1)"
   ]
  },
  {
   "cell_type": "code",
   "execution_count": 32,
   "id": "11c6ec2b",
   "metadata": {},
   "outputs": [
    {
     "data": {
      "text/plain": [
       "['Prabhu', 204103178, 7205152014, 7.18, True]"
      ]
     },
     "execution_count": 32,
     "metadata": {},
     "output_type": "execute_result"
    }
   ],
   "source": [
    "# Create a list with the following deatils\n",
    "# name, reg.no, contact, cgpa, status\n",
    "data = [\"Prabhu\",204103178, 7205152014,7.18, True]\n",
    "data"
   ]
  },
  {
   "cell_type": "code",
   "execution_count": 33,
   "id": "4d7380fb",
   "metadata": {},
   "outputs": [],
   "source": [
    "# create a list by using list() constructor\n",
    "l1 = list()"
   ]
  },
  {
   "cell_type": "code",
   "execution_count": 34,
   "id": "a4b79638",
   "metadata": {},
   "outputs": [
    {
     "data": {
      "text/plain": [
       "['Prabhu', 204103178, 7205152014, 7.18, True]"
      ]
     },
     "execution_count": 34,
     "metadata": {},
     "output_type": "execute_result"
    }
   ],
   "source": [
    "data = list((\"Prabhu\",204103178, 7205152014,7.18, True))\n",
    "data"
   ]
  },
  {
   "cell_type": "code",
   "execution_count": 35,
   "id": "1e22ac7a",
   "metadata": {},
   "outputs": [
    {
     "data": {
      "text/plain": [
       "'Prabhu'"
      ]
     },
     "execution_count": 35,
     "metadata": {},
     "output_type": "execute_result"
    }
   ],
   "source": [
    "data[0]"
   ]
  },
  {
   "cell_type": "code",
   "execution_count": 36,
   "id": "09634d4c",
   "metadata": {},
   "outputs": [
    {
     "data": {
      "text/plain": [
       "['Prabhu', 204103178, 7205152014, 7.18, True, ['d1', 'd2', 'd3']]"
      ]
     },
     "execution_count": 36,
     "metadata": {},
     "output_type": "execute_result"
    }
   ],
   "source": [
    "data1 = [\"Prabhu\",204103178, 7205152014,7.18, True,[\"d1\",\"d2\",\"d3\"]]\n",
    "data1"
   ]
  },
  {
   "cell_type": "code",
   "execution_count": 37,
   "id": "b883079d",
   "metadata": {},
   "outputs": [
    {
     "data": {
      "text/plain": [
       "['d1', 'd2', 'd3']"
      ]
     },
     "execution_count": 37,
     "metadata": {},
     "output_type": "execute_result"
    }
   ],
   "source": [
    "data1[5]"
   ]
  },
  {
   "cell_type": "markdown",
   "id": "3e50910e",
   "metadata": {},
   "source": [
    "* positive index and negetive index"
   ]
  },
  {
   "cell_type": "code",
   "execution_count": 39,
   "id": "2c09b8fd",
   "metadata": {},
   "outputs": [
    {
     "data": {
      "text/plain": [
       "['d1', 'd2', 'd3']"
      ]
     },
     "execution_count": 39,
     "metadata": {},
     "output_type": "execute_result"
    }
   ],
   "source": [
    "#positive index 0-->1-->2\n",
    "#negetive index (-2)<--(-1) (count from right side)\n",
    "data1[-1]"
   ]
  },
  {
   "cell_type": "markdown",
   "id": "f5fbe3a5",
   "metadata": {},
   "source": [
    "* slicing : [first_index : last_index : step]\n",
    "* first_index : inclusive and last_index : exclusive"
   ]
  },
  {
   "cell_type": "code",
   "execution_count": 40,
   "id": "ac6aef1d",
   "metadata": {},
   "outputs": [
    {
     "data": {
      "text/plain": [
       "['Prabhu', 204103178, 7205152014, 7.18, True, ['d1', 'd2', 'd3']]"
      ]
     },
     "execution_count": 40,
     "metadata": {},
     "output_type": "execute_result"
    }
   ],
   "source": [
    "data1[:]"
   ]
  },
  {
   "cell_type": "code",
   "execution_count": 41,
   "id": "79b184f5",
   "metadata": {},
   "outputs": [
    {
     "data": {
      "text/plain": [
       "[7205152014, 7.18, True, ['d1', 'd2', 'd3']]"
      ]
     },
     "execution_count": 41,
     "metadata": {},
     "output_type": "execute_result"
    }
   ],
   "source": [
    "data1[2:]"
   ]
  },
  {
   "cell_type": "code",
   "execution_count": 42,
   "id": "fdfa943f",
   "metadata": {},
   "outputs": [
    {
     "data": {
      "text/plain": [
       "['Prabhu', 204103178]"
      ]
     },
     "execution_count": 42,
     "metadata": {},
     "output_type": "execute_result"
    }
   ],
   "source": [
    "data1[:2]"
   ]
  },
  {
   "cell_type": "code",
   "execution_count": 43,
   "id": "ee36e1bc",
   "metadata": {},
   "outputs": [
    {
     "data": {
      "text/plain": [
       "[7205152014, 7.18]"
      ]
     },
     "execution_count": 43,
     "metadata": {},
     "output_type": "execute_result"
    }
   ],
   "source": [
    "data1[2:4]"
   ]
  },
  {
   "cell_type": "code",
   "execution_count": 44,
   "id": "3b91ed9e",
   "metadata": {},
   "outputs": [
    {
     "data": {
      "text/plain": [
       "['Prabhu', 204103178, 7205152014, 7.18, True, ['d1', 'd2', 'd3']]"
      ]
     },
     "execution_count": 44,
     "metadata": {},
     "output_type": "execute_result"
    }
   ],
   "source": [
    "data1[::1]"
   ]
  },
  {
   "cell_type": "code",
   "execution_count": 45,
   "id": "92d23ffb",
   "metadata": {},
   "outputs": [
    {
     "data": {
      "text/plain": [
       "[['d1', 'd2', 'd3'], True, 7.18, 7205152014, 204103178, 'Prabhu']"
      ]
     },
     "execution_count": 45,
     "metadata": {},
     "output_type": "execute_result"
    }
   ],
   "source": [
    "data1[::-1]"
   ]
  },
  {
   "cell_type": "code",
   "execution_count": 46,
   "id": "886fb5cc",
   "metadata": {},
   "outputs": [
    {
     "data": {
      "text/plain": [
       "['Prabhu', 7205152014, True]"
      ]
     },
     "execution_count": 46,
     "metadata": {},
     "output_type": "execute_result"
    }
   ],
   "source": [
    "data1[::2]"
   ]
  },
  {
   "cell_type": "code",
   "execution_count": 47,
   "id": "60041cd9",
   "metadata": {},
   "outputs": [
    {
     "data": {
      "text/plain": [
       "[7205152014, 7.18, True]"
      ]
     },
     "execution_count": 47,
     "metadata": {},
     "output_type": "execute_result"
    }
   ],
   "source": [
    "data1[2:-1]"
   ]
  },
  {
   "cell_type": "markdown",
   "id": "999176b4",
   "metadata": {},
   "source": [
    "### list methods"
   ]
  },
  {
   "cell_type": "markdown",
   "id": "f33114eb",
   "metadata": {},
   "source": [
    "* append()\n",
    "* extend()\n",
    "* index()\n",
    "* insert()\n",
    "* remove()\n",
    "* count()\n",
    "* pop()\n",
    "* sort()\n",
    "* reverse()\n",
    "* copy()\n",
    "* sum()\n",
    "* clear()\n",
    "* min()\n",
    "* max()\n",
    "* len()"
   ]
  },
  {
   "cell_type": "code",
   "execution_count": 9,
   "id": "6b691013",
   "metadata": {},
   "outputs": [
    {
     "data": {
      "text/plain": [
       "[1, 2, 3]"
      ]
     },
     "execution_count": 9,
     "metadata": {},
     "output_type": "execute_result"
    }
   ],
   "source": [
    "L2 = [1,2,3]\n",
    "L2"
   ]
  },
  {
   "cell_type": "code",
   "execution_count": 11,
   "id": "5ce8c22d",
   "metadata": {},
   "outputs": [],
   "source": [
    "L2.append(4)"
   ]
  },
  {
   "cell_type": "code",
   "execution_count": 12,
   "id": "07c6da37",
   "metadata": {},
   "outputs": [
    {
     "data": {
      "text/plain": [
       "[1, 2, 3, 4]"
      ]
     },
     "execution_count": 12,
     "metadata": {},
     "output_type": "execute_result"
    }
   ],
   "source": [
    "L2"
   ]
  },
  {
   "cell_type": "code",
   "execution_count": 23,
   "id": "3ef1236a",
   "metadata": {},
   "outputs": [],
   "source": []
  },
  {
   "cell_type": "code",
   "execution_count": 30,
   "id": "6053a0e8",
   "metadata": {},
   "outputs": [
    {
     "data": {
      "text/plain": [
       "[1, 2, 3, 4]"
      ]
     },
     "execution_count": 30,
     "metadata": {},
     "output_type": "execute_result"
    }
   ],
   "source": [
    "list2 = [1,2,3]\n",
    "list2.extend([4])\n",
    "list2"
   ]
  },
  {
   "cell_type": "code",
   "execution_count": 20,
   "id": "6b4edc7f",
   "metadata": {},
   "outputs": [],
   "source": [
    "L2 = [1,2,3]"
   ]
  },
  {
   "cell_type": "code",
   "execution_count": 21,
   "id": "1b2b160c",
   "metadata": {},
   "outputs": [],
   "source": [
    "L2.append([4])"
   ]
  },
  {
   "cell_type": "code",
   "execution_count": 22,
   "id": "5ec6a933",
   "metadata": {},
   "outputs": [
    {
     "data": {
      "text/plain": [
       "[1, 2, 3, [4]]"
      ]
     },
     "execution_count": 22,
     "metadata": {},
     "output_type": "execute_result"
    }
   ],
   "source": [
    "L2"
   ]
  },
  {
   "cell_type": "code",
   "execution_count": 27,
   "id": "f415418f",
   "metadata": {},
   "outputs": [
    {
     "data": {
      "text/plain": [
       "[1, 2, 3, 4, 5]"
      ]
     },
     "execution_count": 27,
     "metadata": {},
     "output_type": "execute_result"
    }
   ],
   "source": [
    "L2 = [1,2,3]\n",
    "L2.extend([4,5])\n",
    "L2"
   ]
  },
  {
   "cell_type": "code",
   "execution_count": 31,
   "id": "70e670fb",
   "metadata": {},
   "outputs": [],
   "source": [
    "L2 = [1,2,3]"
   ]
  },
  {
   "cell_type": "code",
   "execution_count": 32,
   "id": "e6fb80df",
   "metadata": {},
   "outputs": [
    {
     "data": {
      "text/plain": [
       "[1, 2, 3, [4, 5]]"
      ]
     },
     "execution_count": 32,
     "metadata": {},
     "output_type": "execute_result"
    }
   ],
   "source": [
    "L2.append([4,5])\n",
    "L2"
   ]
  },
  {
   "cell_type": "code",
   "execution_count": 33,
   "id": "39f91481",
   "metadata": {},
   "outputs": [
    {
     "data": {
      "text/plain": [
       "[1, 2, 3, [4, 5], [6, 7, 8]]"
      ]
     },
     "execution_count": 33,
     "metadata": {},
     "output_type": "execute_result"
    }
   ],
   "source": [
    "L2.append([6,7,8])\n",
    "L2"
   ]
  },
  {
   "cell_type": "code",
   "execution_count": 34,
   "id": "e000b27c",
   "metadata": {},
   "outputs": [],
   "source": [
    "L2 = []"
   ]
  },
  {
   "cell_type": "code",
   "execution_count": 35,
   "id": "a1a3d0ad",
   "metadata": {},
   "outputs": [],
   "source": [
    "L2.append([1,2,3])"
   ]
  },
  {
   "cell_type": "code",
   "execution_count": 36,
   "id": "e2982c1c",
   "metadata": {},
   "outputs": [
    {
     "data": {
      "text/plain": [
       "[[1, 2, 3]]"
      ]
     },
     "execution_count": 36,
     "metadata": {},
     "output_type": "execute_result"
    }
   ],
   "source": [
    "L2"
   ]
  },
  {
   "cell_type": "code",
   "execution_count": 37,
   "id": "64fca645",
   "metadata": {},
   "outputs": [
    {
     "data": {
      "text/plain": [
       "[[1, 2, 3], [4, 5], [6, 7, 8]]"
      ]
     },
     "execution_count": 37,
     "metadata": {},
     "output_type": "execute_result"
    }
   ],
   "source": [
    "L2.append([4,5])\n",
    "L2.append([6,7,8])\n",
    "L2"
   ]
  },
  {
   "cell_type": "code",
   "execution_count": 38,
   "id": "09a546c1",
   "metadata": {},
   "outputs": [
    {
     "data": {
      "text/plain": [
       "1"
      ]
     },
     "execution_count": 38,
     "metadata": {},
     "output_type": "execute_result"
    }
   ],
   "source": [
    "L2.index([4,5])"
   ]
  },
  {
   "cell_type": "code",
   "execution_count": 40,
   "id": "c33263a5",
   "metadata": {},
   "outputs": [],
   "source": [
    "L3 = ['a','b', 'd']"
   ]
  },
  {
   "cell_type": "code",
   "execution_count": 41,
   "id": "a2e3c74b",
   "metadata": {},
   "outputs": [
    {
     "data": {
      "text/plain": [
       "['a', 'b', 'c', 'd']"
      ]
     },
     "execution_count": 41,
     "metadata": {},
     "output_type": "execute_result"
    }
   ],
   "source": [
    "L3.insert(2, 'c')\n",
    "L3"
   ]
  },
  {
   "cell_type": "code",
   "execution_count": 42,
   "id": "e82d75c3",
   "metadata": {},
   "outputs": [
    {
     "data": {
      "text/plain": [
       "['a', 'b', 'd']"
      ]
     },
     "execution_count": 42,
     "metadata": {},
     "output_type": "execute_result"
    }
   ],
   "source": [
    "L3.remove('c')\n",
    "L3"
   ]
  },
  {
   "cell_type": "code",
   "execution_count": 43,
   "id": "18b8053f",
   "metadata": {},
   "outputs": [
    {
     "data": {
      "text/plain": [
       "1"
      ]
     },
     "execution_count": 43,
     "metadata": {},
     "output_type": "execute_result"
    }
   ],
   "source": [
    "L3.count('a')\n"
   ]
  },
  {
   "cell_type": "code",
   "execution_count": 44,
   "id": "1866956c",
   "metadata": {},
   "outputs": [
    {
     "data": {
      "text/plain": [
       "['a', 'b', 'a', 'd']"
      ]
     },
     "execution_count": 44,
     "metadata": {},
     "output_type": "execute_result"
    }
   ],
   "source": [
    "L3.insert(2, 'a')\n",
    "L3"
   ]
  },
  {
   "cell_type": "code",
   "execution_count": 45,
   "id": "a2721ff0",
   "metadata": {},
   "outputs": [
    {
     "data": {
      "text/plain": [
       "2"
      ]
     },
     "execution_count": 45,
     "metadata": {},
     "output_type": "execute_result"
    }
   ],
   "source": [
    "L3.count('a')"
   ]
  },
  {
   "cell_type": "code",
   "execution_count": 46,
   "id": "10f1b7d9",
   "metadata": {},
   "outputs": [
    {
     "data": {
      "text/plain": [
       "['a', 'b', 'a']"
      ]
     },
     "execution_count": 46,
     "metadata": {},
     "output_type": "execute_result"
    }
   ],
   "source": [
    "L3.pop()\n",
    "L3"
   ]
  },
  {
   "cell_type": "code",
   "execution_count": 47,
   "id": "99913b31",
   "metadata": {},
   "outputs": [
    {
     "data": {
      "text/plain": [
       "['a', 'a', 'b']"
      ]
     },
     "execution_count": 47,
     "metadata": {},
     "output_type": "execute_result"
    }
   ],
   "source": [
    "L3.sort()\n",
    "L3"
   ]
  },
  {
   "cell_type": "code",
   "execution_count": 48,
   "id": "589e230e",
   "metadata": {},
   "outputs": [
    {
     "data": {
      "text/plain": [
       "['b', 'a', 'a']"
      ]
     },
     "execution_count": 48,
     "metadata": {},
     "output_type": "execute_result"
    }
   ],
   "source": [
    "L3.sort(reverse = True)\n",
    "L3"
   ]
  },
  {
   "cell_type": "code",
   "execution_count": 49,
   "id": "a938c5ab",
   "metadata": {},
   "outputs": [
    {
     "data": {
      "text/plain": [
       "['a', 'a', 'b']"
      ]
     },
     "execution_count": 49,
     "metadata": {},
     "output_type": "execute_result"
    }
   ],
   "source": [
    "L3.reverse()\n",
    "L3"
   ]
  },
  {
   "cell_type": "code",
   "execution_count": 50,
   "id": "43e2e0c3",
   "metadata": {},
   "outputs": [
    {
     "data": {
      "text/plain": [
       "1"
      ]
     },
     "execution_count": 50,
     "metadata": {},
     "output_type": "execute_result"
    }
   ],
   "source": [
    "L2 = [1,2,3]\n",
    "min(L2)\n"
   ]
  },
  {
   "cell_type": "code",
   "execution_count": 51,
   "id": "d737c96a",
   "metadata": {},
   "outputs": [
    {
     "data": {
      "text/plain": [
       "6"
      ]
     },
     "execution_count": 51,
     "metadata": {},
     "output_type": "execute_result"
    }
   ],
   "source": [
    "sum(L2)"
   ]
  },
  {
   "cell_type": "markdown",
   "id": "3568dfe5",
   "metadata": {},
   "source": [
    "### list comprehension"
   ]
  },
  {
   "cell_type": "markdown",
   "id": "d59780fa",
   "metadata": {},
   "source": [
    "#### loop constructs : execute the steps repeatedly for a given period(number of times)\n",
    "#### for loop, while loop, nested loop"
   ]
  },
  {
   "cell_type": "code",
   "execution_count": null,
   "id": "c080f4fe",
   "metadata": {},
   "outputs": [],
   "source": [
    "### for loop syntax\n",
    "for iter_var in sequence:\n",
    "    # logic(steps inside the for loop)\n",
    "# using index and range\n",
    "for i in range(len(sequence)):\n",
    "    print(sequence[i])"
   ]
  },
  {
   "cell_type": "code",
   "execution_count": 54,
   "id": "7d8c7485",
   "metadata": {},
   "outputs": [
    {
     "data": {
      "text/plain": [
       "['sk', 'kumar', 'Alok', 'Joy']"
      ]
     },
     "execution_count": 54,
     "metadata": {},
     "output_type": "execute_result"
    }
   ],
   "source": [
    "L4 = [\"sk\", \"kumar\", \"Alok\", \"Joy\"]\n",
    "L4"
   ]
  },
  {
   "cell_type": "code",
   "execution_count": 55,
   "id": "3ea2a66c",
   "metadata": {},
   "outputs": [
    {
     "name": "stdout",
     "output_type": "stream",
     "text": [
      "the students in the class are\n"
     ]
    }
   ],
   "source": [
    "print(\"the students in the class are\")"
   ]
  },
  {
   "cell_type": "code",
   "execution_count": 56,
   "id": "7727d0b9",
   "metadata": {},
   "outputs": [
    {
     "name": "stdout",
     "output_type": "stream",
     "text": [
      "sk\n",
      "kumar\n",
      "Alok\n",
      "Joy\n"
     ]
    }
   ],
   "source": [
    "for i in L4:\n",
    "    print(i)"
   ]
  },
  {
   "cell_type": "code",
   "execution_count": 22,
   "id": "c106b85b",
   "metadata": {},
   "outputs": [
    {
     "name": "stdout",
     "output_type": "stream",
     "text": [
      "g o o d   m o r n i n g "
     ]
    }
   ],
   "source": [
    "for i in \"good morning\":\n",
    "    print(i, end=\" \")"
   ]
  },
  {
   "cell_type": "code",
   "execution_count": 23,
   "id": "b5a1b650",
   "metadata": {},
   "outputs": [
    {
     "name": "stdout",
     "output_type": "stream",
     "text": [
      "1 2 3 4 5 "
     ]
    }
   ],
   "source": [
    "for i in [1,2,3,4,5]:\n",
    "    print(i, end=\" \")"
   ]
  },
  {
   "cell_type": "code",
   "execution_count": 59,
   "id": "3aac15b8",
   "metadata": {},
   "outputs": [
    {
     "name": "stdout",
     "output_type": "stream",
     "text": [
      "sk\n",
      "kumar\n",
      "Alok\n",
      "Joy\n"
     ]
    }
   ],
   "source": [
    "for index in range(len(L4)):   # range takes value from 0 to len(L4)-1 ---> 0,1,2,3\n",
    "    print(L4[index])"
   ]
  },
  {
   "cell_type": "code",
   "execution_count": 60,
   "id": "4e3c7075",
   "metadata": {},
   "outputs": [
    {
     "data": {
      "text/plain": [
       "4"
      ]
     },
     "execution_count": 60,
     "metadata": {},
     "output_type": "execute_result"
    }
   ],
   "source": [
    "len(L4)"
   ]
  },
  {
   "cell_type": "code",
   "execution_count": 61,
   "id": "e92ba215",
   "metadata": {},
   "outputs": [
    {
     "name": "stdout",
     "output_type": "stream",
     "text": [
      "0\n",
      "1\n",
      "2\n"
     ]
    }
   ],
   "source": [
    "var = range(3)\n",
    "for i in var:\n",
    "    print(i)"
   ]
  },
  {
   "cell_type": "code",
   "execution_count": 64,
   "id": "00e437de",
   "metadata": {},
   "outputs": [
    {
     "name": "stdout",
     "output_type": "stream",
     "text": [
      "2\n",
      "3\n",
      "4\n",
      "5\n"
     ]
    }
   ],
   "source": [
    "var1 = range(2,6)\n",
    "for i in var1:\n",
    "    print(i)"
   ]
  },
  {
   "cell_type": "code",
   "execution_count": 24,
   "id": "87ea405c",
   "metadata": {},
   "outputs": [
    {
     "name": "stdout",
     "output_type": "stream",
     "text": [
      "Hi Hi Hi Hi Hi Hi Hi Hi Hi Hi Hi Hi stop\n"
     ]
    }
   ],
   "source": [
    "for _ in \"good morning\": # _ (under score is for ignoring)\n",
    "    print('Hi', end=\" \")\n",
    "print(\"stop\")\n"
   ]
  },
  {
   "cell_type": "code",
   "execution_count": 66,
   "id": "f7ccc967",
   "metadata": {},
   "outputs": [
    {
     "name": "stdout",
     "output_type": "stream",
     "text": [
      "0\n",
      "1\n",
      "2\n"
     ]
    }
   ],
   "source": [
    "for _ in range(3):\n",
    "    print(_)"
   ]
  },
  {
   "cell_type": "markdown",
   "id": "e58cf3dc",
   "metadata": {},
   "source": [
    "#### while loop"
   ]
  },
  {
   "cell_type": "code",
   "execution_count": 68,
   "id": "13afecf1",
   "metadata": {},
   "outputs": [],
   "source": [
    "while condition:\n",
    "    # logic (steps inside the for loop)"
   ]
  },
  {
   "cell_type": "code",
   "execution_count": 25,
   "id": "9bfa035a",
   "metadata": {},
   "outputs": [
    {
     "name": "stdout",
     "output_type": "stream",
     "text": [
      "Hi\n",
      "Hi\n",
      "Hi\n",
      "joining late\n"
     ]
    },
    {
     "data": {
      "text/plain": [
       "3"
      ]
     },
     "execution_count": 25,
     "metadata": {},
     "output_type": "execute_result"
    }
   ],
   "source": [
    "cnt = 0 \n",
    "while cnt < 3: # cnt=0, cnt = 1, cnt=3 it will move outside the loop\n",
    "    print(\"Hi\")\n",
    "    cnt += 1\n",
    "print(\"joining late\")\n",
    "cnt"
   ]
  },
  {
   "cell_type": "code",
   "execution_count": 71,
   "id": "649274f1",
   "metadata": {},
   "outputs": [
    {
     "name": "stdout",
     "output_type": "stream",
     "text": [
      "Hi\n",
      "Hi\n",
      "Hi\n",
      "joining late\n"
     ]
    }
   ],
   "source": [
    "cnt = 1 \n",
    "while cnt <= 3: # cnt=1, cnt = 2, cnt=3, if cnt = 4 it will move outside the loop\n",
    "    print(\"Hi\")\n",
    "    cnt += 1\n",
    "print(\"joining late\")\n"
   ]
  },
  {
   "cell_type": "markdown",
   "id": "1ad0211a",
   "metadata": {},
   "source": [
    "#### Nested loop"
   ]
  },
  {
   "cell_type": "code",
   "execution_count": 72,
   "id": "028ef1a1",
   "metadata": {},
   "outputs": [],
   "source": [
    "Day = [\"Day1\", \"Day2\"]\n",
    "name = [\"sk\", \"kumar\", \"Alok\", \"Joy\"]\n"
   ]
  },
  {
   "cell_type": "code",
   "execution_count": 73,
   "id": "5a8a7d78",
   "metadata": {},
   "outputs": [
    {
     "data": {
      "text/plain": [
       "['sk', 'kumar', 'Alok', 'Joy']"
      ]
     },
     "execution_count": 73,
     "metadata": {},
     "output_type": "execute_result"
    }
   ],
   "source": [
    "name"
   ]
  },
  {
   "cell_type": "code",
   "execution_count": 74,
   "id": "1b691c33",
   "metadata": {},
   "outputs": [
    {
     "data": {
      "text/plain": [
       "['Day1', 'Day2']"
      ]
     },
     "execution_count": 74,
     "metadata": {},
     "output_type": "execute_result"
    }
   ],
   "source": [
    "Day"
   ]
  },
  {
   "cell_type": "code",
   "execution_count": 76,
   "id": "c75df6dc",
   "metadata": {},
   "outputs": [
    {
     "name": "stdout",
     "output_type": "stream",
     "text": [
      "Day1 sk\n",
      "Day1 kumar\n",
      "Day1 Alok\n",
      "Day1 Joy\n",
      "Day2 sk\n",
      "Day2 kumar\n",
      "Day2 Alok\n",
      "Day2 Joy\n",
      "notes distributed\n"
     ]
    }
   ],
   "source": [
    "for d in Day:\n",
    "    for n in name:\n",
    "        print(d, n)\n",
    "else:\n",
    "    print(\"notes distributed\")"
   ]
  },
  {
   "cell_type": "markdown",
   "id": "3b56d509",
   "metadata": {},
   "source": [
    "#### list comprehension"
   ]
  },
  {
   "cell_type": "code",
   "execution_count": null,
   "id": "8b06090d",
   "metadata": {},
   "outputs": [],
   "source": [
    "# creating a new list\n",
    "# short logic/ syntax\n",
    "# improve the performance "
   ]
  },
  {
   "cell_type": "code",
   "execution_count": 78,
   "id": "23687812",
   "metadata": {},
   "outputs": [
    {
     "data": {
      "text/plain": [
       "[0, 2, 4, 6, 8]"
      ]
     },
     "execution_count": 78,
     "metadata": {},
     "output_type": "execute_result"
    }
   ],
   "source": [
    "# generates even number list\n",
    "even_list = []\n",
    "for i in range(10):\n",
    "    if i % 2 == 0:\n",
    "        even_list.append(i)\n",
    "even_list"
   ]
  },
  {
   "cell_type": "code",
   "execution_count": 80,
   "id": "97d78a7d",
   "metadata": {},
   "outputs": [
    {
     "data": {
      "text/plain": [
       "[0, 2, 4, 6, 8, 10]"
      ]
     },
     "execution_count": 80,
     "metadata": {},
     "output_type": "execute_result"
    }
   ],
   "source": [
    "[i for i in range(11) if i % 2 == 0]\n"
   ]
  },
  {
   "cell_type": "code",
   "execution_count": 81,
   "id": "455b2b96",
   "metadata": {},
   "outputs": [
    {
     "data": {
      "text/plain": [
       "[0, 1, 2, 3, 4, 5, 6, 7, 8, 9]"
      ]
     },
     "execution_count": 81,
     "metadata": {},
     "output_type": "execute_result"
    }
   ],
   "source": [
    "[i for i in range(10)]"
   ]
  },
  {
   "cell_type": "code",
   "execution_count": 83,
   "id": "1a3e944b",
   "metadata": {},
   "outputs": [
    {
     "data": {
      "text/plain": [
       "['even', 'odd', 'even', 'odd', 'even', 'odd', 'even', 'odd', 'even', 'odd']"
      ]
     },
     "execution_count": 83,
     "metadata": {},
     "output_type": "execute_result"
    }
   ],
   "source": [
    "[\"even\" if i % 2 == 0 else \"odd\" for i in range(10)]"
   ]
  },
  {
   "cell_type": "code",
   "execution_count": 85,
   "id": "9bb0ec61",
   "metadata": {},
   "outputs": [
    {
     "name": "stdout",
     "output_type": "stream",
     "text": [
      "[[1, 2], [3, 4], [5, 6], [7, 8]]\n"
     ]
    }
   ],
   "source": [
    "mat1 = [[1,2], [3,4], [5,6], [7,8]] # the dimension is 2 X 4\n",
    "print(mat1)"
   ]
  },
  {
   "cell_type": "code",
   "execution_count": 88,
   "id": "20708c83",
   "metadata": {},
   "outputs": [
    {
     "data": {
      "text/plain": [
       "[[1, 3, 5, 7], [2, 4, 6, 8]]"
      ]
     },
     "execution_count": 88,
     "metadata": {},
     "output_type": "execute_result"
    }
   ],
   "source": [
    "# Transpose of 2 X 4 is 4 X 2\n",
    "mat2 = [[r[c] for r in mat1] for c in range(2)]\n",
    "mat2"
   ]
  },
  {
   "cell_type": "code",
   "execution_count": 90,
   "id": "571f3f49",
   "metadata": {},
   "outputs": [
    {
     "data": {
      "text/plain": [
       "[[1, 2], [3, 4], [5, 6], [7, 8]]"
      ]
     },
     "execution_count": 90,
     "metadata": {},
     "output_type": "execute_result"
    }
   ],
   "source": [
    "mat3 = [[r[c] for r in mat2] for c in range(4)]\n",
    "mat3"
   ]
  },
  {
   "cell_type": "code",
   "execution_count": 93,
   "id": "1ab808e0",
   "metadata": {},
   "outputs": [
    {
     "data": {
      "text/plain": [
       "[1, 4, 9, 16]"
      ]
     },
     "execution_count": 93,
     "metadata": {},
     "output_type": "execute_result"
    }
   ],
   "source": [
    "# squre of each number in the list\n",
    "l1 = [1,2,3,4]\n",
    "# output as l1 = [1,4,9,16]\n",
    "[i * i for i in l1]\n"
   ]
  },
  {
   "cell_type": "markdown",
   "id": "9f98bf56",
   "metadata": {},
   "source": [
    "## Set"
   ]
  },
  {
   "cell_type": "code",
   "execution_count": 27,
   "id": "74db2741",
   "metadata": {},
   "outputs": [],
   "source": [
    "# creating unique elements, duplication not possible\n",
    "s1 = set([1,2,3])\n",
    "s2 = set([2,3,4])"
   ]
  },
  {
   "cell_type": "code",
   "execution_count": 95,
   "id": "0eea7f69",
   "metadata": {},
   "outputs": [
    {
     "data": {
      "text/plain": [
       "{1, 2, 3}"
      ]
     },
     "execution_count": 95,
     "metadata": {},
     "output_type": "execute_result"
    }
   ],
   "source": [
    "s1"
   ]
  },
  {
   "cell_type": "code",
   "execution_count": 96,
   "id": "9453c9d9",
   "metadata": {},
   "outputs": [
    {
     "data": {
      "text/plain": [
       "{2, 3, 4}"
      ]
     },
     "execution_count": 96,
     "metadata": {},
     "output_type": "execute_result"
    }
   ],
   "source": [
    "s2"
   ]
  },
  {
   "cell_type": "code",
   "execution_count": 97,
   "id": "3d115d64",
   "metadata": {},
   "outputs": [
    {
     "data": {
      "text/plain": [
       "set"
      ]
     },
     "execution_count": 97,
     "metadata": {},
     "output_type": "execute_result"
    }
   ],
   "source": [
    "type(s1)"
   ]
  },
  {
   "cell_type": "code",
   "execution_count": 98,
   "id": "b0e7ea08",
   "metadata": {},
   "outputs": [],
   "source": [
    "# Operation on sets\n",
    "# union\n",
    "# intersection\n",
    "# difference\n",
    "# symmetric difference\n",
    "# subset\n",
    "# superset"
   ]
  },
  {
   "cell_type": "code",
   "execution_count": 99,
   "id": "a4e32266",
   "metadata": {},
   "outputs": [
    {
     "data": {
      "text/plain": [
       "{1, 2, 3, 4}"
      ]
     },
     "execution_count": 99,
     "metadata": {},
     "output_type": "execute_result"
    }
   ],
   "source": [
    "# union (or operation)\n",
    "s1 | s2"
   ]
  },
  {
   "cell_type": "code",
   "execution_count": 100,
   "id": "a2582a09",
   "metadata": {},
   "outputs": [
    {
     "data": {
      "text/plain": [
       "{2, 3}"
      ]
     },
     "execution_count": 100,
     "metadata": {},
     "output_type": "execute_result"
    }
   ],
   "source": [
    "# intersection (and operation)\n",
    "s1 & s2\n"
   ]
  },
  {
   "cell_type": "code",
   "execution_count": 101,
   "id": "24181055",
   "metadata": {},
   "outputs": [
    {
     "data": {
      "text/plain": [
       "{1}"
      ]
     },
     "execution_count": 101,
     "metadata": {},
     "output_type": "execute_result"
    }
   ],
   "source": [
    "# difference\n",
    "s1 - s2"
   ]
  },
  {
   "cell_type": "code",
   "execution_count": 102,
   "id": "94197212",
   "metadata": {},
   "outputs": [
    {
     "data": {
      "text/plain": [
       "{1, 4}"
      ]
     },
     "execution_count": 102,
     "metadata": {},
     "output_type": "execute_result"
    }
   ],
   "source": [
    "# symmertic difference (a-b union b-a)\n",
    "s1 ^ s2"
   ]
  },
  {
   "cell_type": "code",
   "execution_count": 103,
   "id": "d03e5181",
   "metadata": {},
   "outputs": [
    {
     "data": {
      "text/plain": [
       "False"
      ]
     },
     "execution_count": 103,
     "metadata": {},
     "output_type": "execute_result"
    }
   ],
   "source": [
    "# subset\n",
    "s1 < s2"
   ]
  },
  {
   "cell_type": "code",
   "execution_count": 28,
   "id": "ff9eea50",
   "metadata": {},
   "outputs": [
    {
     "data": {
      "text/plain": [
       "{1}"
      ]
     },
     "execution_count": 28,
     "metadata": {},
     "output_type": "execute_result"
    }
   ],
   "source": [
    "# operators\n",
    "s1.difference(s2)"
   ]
  },
  {
   "cell_type": "code",
   "execution_count": 105,
   "id": "864e7b60",
   "metadata": {},
   "outputs": [
    {
     "data": {
      "text/plain": [
       "False"
      ]
     },
     "execution_count": 105,
     "metadata": {},
     "output_type": "execute_result"
    }
   ],
   "source": [
    "s1.issuperset(s2)"
   ]
  },
  {
   "cell_type": "code",
   "execution_count": 106,
   "id": "daa6f3e2",
   "metadata": {},
   "outputs": [
    {
     "data": {
      "text/plain": [
       "False"
      ]
     },
     "execution_count": 106,
     "metadata": {},
     "output_type": "execute_result"
    }
   ],
   "source": [
    "s1.issubset(s2)"
   ]
  },
  {
   "cell_type": "markdown",
   "id": "fbadf2bf",
   "metadata": {},
   "source": [
    "## Dictionary"
   ]
  },
  {
   "cell_type": "code",
   "execution_count": 107,
   "id": "1e202ca5",
   "metadata": {},
   "outputs": [],
   "source": [
    "# creating key and value pairs\n",
    "# no duplicate keys\n",
    "# no order"
   ]
  },
  {
   "cell_type": "code",
   "execution_count": 108,
   "id": "757384d3",
   "metadata": {},
   "outputs": [],
   "source": [
    "D1 = {'name':'kumar','course':'AI_ML','scores':[40,80]}"
   ]
  },
  {
   "cell_type": "code",
   "execution_count": 109,
   "id": "667ef30b",
   "metadata": {},
   "outputs": [
    {
     "data": {
      "text/plain": [
       "dict_keys(['name', 'course', 'scores'])"
      ]
     },
     "execution_count": 109,
     "metadata": {},
     "output_type": "execute_result"
    }
   ],
   "source": [
    "D1.keys()"
   ]
  },
  {
   "cell_type": "code",
   "execution_count": 110,
   "id": "16c68b2b",
   "metadata": {},
   "outputs": [
    {
     "data": {
      "text/plain": [
       "dict_values(['kumar', 'AI_ML', [40, 80]])"
      ]
     },
     "execution_count": 110,
     "metadata": {},
     "output_type": "execute_result"
    }
   ],
   "source": [
    "D1.values()"
   ]
  },
  {
   "cell_type": "code",
   "execution_count": 111,
   "id": "e3ccf311",
   "metadata": {},
   "outputs": [
    {
     "data": {
      "text/plain": [
       "'kumar'"
      ]
     },
     "execution_count": 111,
     "metadata": {},
     "output_type": "execute_result"
    }
   ],
   "source": [
    "D1['name']"
   ]
  },
  {
   "cell_type": "code",
   "execution_count": 112,
   "id": "db138829",
   "metadata": {},
   "outputs": [
    {
     "data": {
      "text/plain": [
       "dict_items([('name', 'kumar'), ('course', 'AI_ML'), ('scores', [40, 80])])"
      ]
     },
     "execution_count": 112,
     "metadata": {},
     "output_type": "execute_result"
    }
   ],
   "source": [
    "D1.items()"
   ]
  },
  {
   "cell_type": "code",
   "execution_count": 115,
   "id": "d21abc3f",
   "metadata": {},
   "outputs": [
    {
     "data": {
      "text/plain": [
       "{'name': 'kumar', 'course': 'AI_ML', 'scores': [40, 80]}"
      ]
     },
     "execution_count": 115,
     "metadata": {},
     "output_type": "execute_result"
    }
   ],
   "source": [
    "D1"
   ]
  },
  {
   "cell_type": "code",
   "execution_count": 116,
   "id": "ae0015d9",
   "metadata": {},
   "outputs": [
    {
     "data": {
      "text/plain": [
       "'AI_ML'"
      ]
     },
     "execution_count": 116,
     "metadata": {},
     "output_type": "execute_result"
    }
   ],
   "source": [
    "D1.get('course')"
   ]
  },
  {
   "cell_type": "code",
   "execution_count": 118,
   "id": "a553104c",
   "metadata": {},
   "outputs": [
    {
     "data": {
      "text/plain": [
       "{'name': 'kumar', 'course': 'MLOps', 'scores': [40, 80]}"
      ]
     },
     "execution_count": 118,
     "metadata": {},
     "output_type": "execute_result"
    }
   ],
   "source": [
    "D1['course'] = 'MLOps'\n",
    "D1"
   ]
  },
  {
   "cell_type": "code",
   "execution_count": 119,
   "id": "cbb2fd59",
   "metadata": {},
   "outputs": [],
   "source": [
    "D2 = D1.copy()"
   ]
  },
  {
   "cell_type": "code",
   "execution_count": 120,
   "id": "2bcba547",
   "metadata": {},
   "outputs": [
    {
     "data": {
      "text/plain": [
       "{'name': 'kumar', 'course': 'MLOps', 'scores': [40, 80]}"
      ]
     },
     "execution_count": 120,
     "metadata": {},
     "output_type": "execute_result"
    }
   ],
   "source": [
    "D2"
   ]
  },
  {
   "cell_type": "code",
   "execution_count": 121,
   "id": "dbb5c3de",
   "metadata": {},
   "outputs": [
    {
     "data": {
      "text/plain": [
       "{'name': 'kumar', 'course': 'MLOps', 'scores': [40, 80]}"
      ]
     },
     "execution_count": 121,
     "metadata": {},
     "output_type": "execute_result"
    }
   ],
   "source": [
    "D1"
   ]
  },
  {
   "cell_type": "code",
   "execution_count": 122,
   "id": "6e59df6f",
   "metadata": {},
   "outputs": [],
   "source": [
    "D1.clear()"
   ]
  },
  {
   "cell_type": "code",
   "execution_count": 123,
   "id": "28160835",
   "metadata": {},
   "outputs": [
    {
     "data": {
      "text/plain": [
       "{}"
      ]
     },
     "execution_count": 123,
     "metadata": {},
     "output_type": "execute_result"
    }
   ],
   "source": [
    "D1"
   ]
  },
  {
   "cell_type": "code",
   "execution_count": 124,
   "id": "07a4da30",
   "metadata": {},
   "outputs": [],
   "source": [
    "del(D1)"
   ]
  },
  {
   "cell_type": "code",
   "execution_count": 125,
   "id": "dc99d446",
   "metadata": {},
   "outputs": [
    {
     "ename": "NameError",
     "evalue": "name 'D1' is not defined",
     "output_type": "error",
     "traceback": [
      "\u001b[1;31m---------------------------------------------------------------------------\u001b[0m",
      "\u001b[1;31mNameError\u001b[0m                                 Traceback (most recent call last)",
      "Cell \u001b[1;32mIn[125], line 1\u001b[0m\n\u001b[1;32m----> 1\u001b[0m \u001b[43mD1\u001b[49m\n",
      "\u001b[1;31mNameError\u001b[0m: name 'D1' is not defined"
     ]
    }
   ],
   "source": [
    "D1"
   ]
  },
  {
   "cell_type": "code",
   "execution_count": 126,
   "id": "f5c561e0",
   "metadata": {},
   "outputs": [
    {
     "data": {
      "text/plain": [
       "{'name': 'kumar', 'course': 'MLOps', 'scores': [40, 80]}"
      ]
     },
     "execution_count": 126,
     "metadata": {},
     "output_type": "execute_result"
    }
   ],
   "source": [
    "D2"
   ]
  },
  {
   "cell_type": "code",
   "execution_count": 127,
   "id": "e268ffdb",
   "metadata": {},
   "outputs": [],
   "source": [
    "L2 = []"
   ]
  },
  {
   "cell_type": "code",
   "execution_count": 128,
   "id": "f5e56e58",
   "metadata": {},
   "outputs": [
    {
     "data": {
      "text/plain": [
       "[]"
      ]
     },
     "execution_count": 128,
     "metadata": {},
     "output_type": "execute_result"
    }
   ],
   "source": [
    "L2"
   ]
  },
  {
   "cell_type": "code",
   "execution_count": 129,
   "id": "40b51b61",
   "metadata": {},
   "outputs": [],
   "source": [
    "L2.append(D2)"
   ]
  },
  {
   "cell_type": "code",
   "execution_count": 130,
   "id": "5fd85285",
   "metadata": {},
   "outputs": [
    {
     "data": {
      "text/plain": [
       "[{'name': 'kumar', 'course': 'MLOps', 'scores': [40, 80]}]"
      ]
     },
     "execution_count": 130,
     "metadata": {},
     "output_type": "execute_result"
    }
   ],
   "source": [
    "L2"
   ]
  },
  {
   "cell_type": "code",
   "execution_count": 131,
   "id": "07a5fc0d",
   "metadata": {},
   "outputs": [],
   "source": [
    "L2.extend([\"Student1\"])"
   ]
  },
  {
   "cell_type": "code",
   "execution_count": 132,
   "id": "2d9703fc",
   "metadata": {},
   "outputs": [
    {
     "data": {
      "text/plain": [
       "[{'name': 'kumar', 'course': 'MLOps', 'scores': [40, 80]}, 'Student1']"
      ]
     },
     "execution_count": 132,
     "metadata": {},
     "output_type": "execute_result"
    }
   ],
   "source": [
    "L2"
   ]
  },
  {
   "cell_type": "markdown",
   "id": "8bf11cc0",
   "metadata": {},
   "source": [
    "## Tuple"
   ]
  },
  {
   "cell_type": "code",
   "execution_count": 134,
   "id": "8f1c1167",
   "metadata": {},
   "outputs": [],
   "source": [
    "# immuatble\n",
    "# creating : it is similar to list but with braces\n",
    "T1 = (1,2,3)"
   ]
  },
  {
   "cell_type": "code",
   "execution_count": 135,
   "id": "5485ee3d",
   "metadata": {},
   "outputs": [
    {
     "data": {
      "text/plain": [
       "(1, 2, 3)"
      ]
     },
     "execution_count": 135,
     "metadata": {},
     "output_type": "execute_result"
    }
   ],
   "source": [
    "T1"
   ]
  },
  {
   "cell_type": "markdown",
   "id": "b05de360",
   "metadata": {},
   "source": [
    "## Set"
   ]
  },
  {
   "cell_type": "code",
   "execution_count": 137,
   "id": "b58d9c96",
   "metadata": {},
   "outputs": [
    {
     "data": {
      "text/plain": [
       "{1, 2, 3}"
      ]
     },
     "execution_count": 137,
     "metadata": {},
     "output_type": "execute_result"
    }
   ],
   "source": [
    "T1 = set((1,2,3))\n",
    "T1"
   ]
  },
  {
   "cell_type": "code",
   "execution_count": 138,
   "id": "d2213bc0",
   "metadata": {},
   "outputs": [
    {
     "data": {
      "text/plain": [
       "(1, 2, 3)"
      ]
     },
     "execution_count": 138,
     "metadata": {},
     "output_type": "execute_result"
    }
   ],
   "source": [
    "T1  = (1,2,3)\n",
    "T1"
   ]
  },
  {
   "cell_type": "code",
   "execution_count": 139,
   "id": "012ecffe",
   "metadata": {},
   "outputs": [
    {
     "data": {
      "text/plain": [
       "1"
      ]
     },
     "execution_count": 139,
     "metadata": {},
     "output_type": "execute_result"
    }
   ],
   "source": [
    "T1[0]"
   ]
  },
  {
   "cell_type": "code",
   "execution_count": 140,
   "id": "b65112dc",
   "metadata": {},
   "outputs": [
    {
     "data": {
      "text/plain": [
       "(1, 2, 3, 4)"
      ]
     },
     "execution_count": 140,
     "metadata": {},
     "output_type": "execute_result"
    }
   ],
   "source": [
    "T2 = 1,2,3,4\n",
    "T2"
   ]
  },
  {
   "cell_type": "code",
   "execution_count": 141,
   "id": "70535eb3",
   "metadata": {},
   "outputs": [
    {
     "data": {
      "text/plain": [
       "3"
      ]
     },
     "execution_count": 141,
     "metadata": {},
     "output_type": "execute_result"
    }
   ],
   "source": [
    "len(T1)"
   ]
  },
  {
   "cell_type": "code",
   "execution_count": 142,
   "id": "867703a1",
   "metadata": {},
   "outputs": [
    {
     "data": {
      "text/plain": [
       "(1, 2, [3, 4])"
      ]
     },
     "execution_count": 142,
     "metadata": {},
     "output_type": "execute_result"
    }
   ],
   "source": [
    "T3 = (1,2,[3,4])\n",
    "T3"
   ]
  },
  {
   "cell_type": "code",
   "execution_count": 146,
   "id": "567bf2ae",
   "metadata": {},
   "outputs": [
    {
     "data": {
      "text/plain": [
       "(1, 2, [30, 4])"
      ]
     },
     "execution_count": 146,
     "metadata": {},
     "output_type": "execute_result"
    }
   ],
   "source": [
    "# tuple is  partially immutable\n",
    "T3[2][0] = 30\n",
    "T3"
   ]
  },
  {
   "cell_type": "code",
   "execution_count": 147,
   "id": "5f623c68",
   "metadata": {},
   "outputs": [],
   "source": [
    "# dictionary operator is to create a dictionary where the elements (key, value) as tuples\n",
    "T4 = dict([('AI_ML','CSE01'), ('MLOps','CSE02')])"
   ]
  },
  {
   "cell_type": "code",
   "execution_count": 148,
   "id": "da3ec74f",
   "metadata": {},
   "outputs": [
    {
     "data": {
      "text/plain": [
       "{'AI_ML': 'CSE01', 'MLOps': 'CSE02'}"
      ]
     },
     "execution_count": 148,
     "metadata": {},
     "output_type": "execute_result"
    }
   ],
   "source": [
    "T4"
   ]
  },
  {
   "cell_type": "markdown",
   "id": "d9e1f5b5",
   "metadata": {},
   "source": [
    "## User defined functions"
   ]
  },
  {
   "cell_type": "code",
   "execution_count": 149,
   "id": "d12ad2c0",
   "metadata": {},
   "outputs": [],
   "source": [
    "#def function_name(arguments/parameters):\n",
    "    # function_body/logic"
   ]
  },
  {
   "cell_type": "code",
   "execution_count": 150,
   "id": "24f9b3c6",
   "metadata": {},
   "outputs": [
    {
     "name": "stdout",
     "output_type": "stream",
     "text": [
      "Hi students\n"
     ]
    }
   ],
   "source": [
    "def hi():\n",
    "    print(\"Hi students\")\n",
    "hi()"
   ]
  },
  {
   "cell_type": "code",
   "execution_count": 152,
   "id": "936bd0d1",
   "metadata": {},
   "outputs": [],
   "source": [
    "def hi1(name):\n",
    "    print(\"hi\", name)\n",
    "    "
   ]
  },
  {
   "cell_type": "code",
   "execution_count": 153,
   "id": "9ff8ba7f",
   "metadata": {},
   "outputs": [
    {
     "name": "stdout",
     "output_type": "stream",
     "text": [
      "hi kumar\n"
     ]
    }
   ],
   "source": [
    "hi1('kumar')"
   ]
  },
  {
   "cell_type": "code",
   "execution_count": 154,
   "id": "41cfaacf",
   "metadata": {},
   "outputs": [],
   "source": [
    "def f1(name):\n",
    "    return len(name)"
   ]
  },
  {
   "cell_type": "code",
   "execution_count": 155,
   "id": "7c945f51",
   "metadata": {},
   "outputs": [
    {
     "data": {
      "text/plain": [
       "5"
      ]
     },
     "execution_count": 155,
     "metadata": {},
     "output_type": "execute_result"
    }
   ],
   "source": [
    "f1('kumar')"
   ]
  },
  {
   "cell_type": "code",
   "execution_count": 156,
   "id": "11cebc57",
   "metadata": {},
   "outputs": [
    {
     "name": "stdout",
     "output_type": "stream",
     "text": [
      "the length of the string is 5\n"
     ]
    }
   ],
   "source": [
    "print(\"the length of the string is\", f1('kumar'))"
   ]
  },
  {
   "cell_type": "code",
   "execution_count": 157,
   "id": "ac0099f1",
   "metadata": {},
   "outputs": [],
   "source": [
    "def add(n1,n2):\n",
    "    return (n1+n2)\n"
   ]
  },
  {
   "cell_type": "code",
   "execution_count": 158,
   "id": "269d322a",
   "metadata": {},
   "outputs": [
    {
     "data": {
      "text/plain": [
       "30"
      ]
     },
     "execution_count": 158,
     "metadata": {},
     "output_type": "execute_result"
    }
   ],
   "source": [
    "add(10,20)"
   ]
  },
  {
   "cell_type": "code",
   "execution_count": 159,
   "id": "48fb136d",
   "metadata": {},
   "outputs": [],
   "source": [
    "# default argument\n",
    "def add(n1,n2 = 20):\n",
    "    return (n1+n2)\n"
   ]
  },
  {
   "cell_type": "code",
   "execution_count": 160,
   "id": "9d957198",
   "metadata": {},
   "outputs": [
    {
     "data": {
      "text/plain": [
       "40"
      ]
     },
     "execution_count": 160,
     "metadata": {},
     "output_type": "execute_result"
    }
   ],
   "source": [
    "add(10,30)"
   ]
  },
  {
   "cell_type": "code",
   "execution_count": 161,
   "id": "a142d157",
   "metadata": {},
   "outputs": [
    {
     "data": {
      "text/plain": [
       "30"
      ]
     },
     "execution_count": 161,
     "metadata": {},
     "output_type": "execute_result"
    }
   ],
   "source": [
    "add(10)"
   ]
  },
  {
   "cell_type": "code",
   "execution_count": 162,
   "id": "bac2fcd2",
   "metadata": {},
   "outputs": [],
   "source": [
    "# variable length argument\n",
    "# *args\n",
    "def add(*args):\n",
    "    res = 0\n",
    "    for i in args:\n",
    "        res = res+i\n",
    "    return res\n"
   ]
  },
  {
   "cell_type": "code",
   "execution_count": 163,
   "id": "29e72eff",
   "metadata": {},
   "outputs": [
    {
     "data": {
      "text/plain": [
       "30"
      ]
     },
     "execution_count": 163,
     "metadata": {},
     "output_type": "execute_result"
    }
   ],
   "source": [
    "add(10,20)"
   ]
  },
  {
   "cell_type": "code",
   "execution_count": 164,
   "id": "f17d3897",
   "metadata": {},
   "outputs": [
    {
     "data": {
      "text/plain": [
       "60"
      ]
     },
     "execution_count": 164,
     "metadata": {},
     "output_type": "execute_result"
    }
   ],
   "source": [
    "add(10,20,30)"
   ]
  },
  {
   "cell_type": "code",
   "execution_count": null,
   "id": "5983d8d8",
   "metadata": {},
   "outputs": [],
   "source": [
    "# keyword variable length argument\n",
    "# **kwargs\n"
   ]
  },
  {
   "cell_type": "markdown",
   "id": "942273b3",
   "metadata": {},
   "source": [
    "# Python Introduction -DAY3"
   ]
  },
  {
   "cell_type": "markdown",
   "id": "f2b80778",
   "metadata": {},
   "source": [
    "#### Lambda expressions, Map, Filter,Reduce Exception Handling in python"
   ]
  },
  {
   "cell_type": "markdown",
   "id": "be1bfab0",
   "metadata": {},
   "source": [
    "<a class='anchor' id=\"0.1\"></a>\n",
    "## Python Module\n",
    "  ### [1.Day-3 Functional Programming:](#1)\n",
    "* #### [1.1 Lambda Expression:](#1.1)\n",
    "* #### [1.2 Map:](#1.2)\n",
    "* #### [1.3 Filter:](#1.3)\n",
    "* #### [1.4 Reduce:](#1.4)\n",
    "* #### [1.5 Exception Handling:](#1.5)"
   ]
  },
  {
   "cell_type": "markdown",
   "id": "711b93fc",
   "metadata": {},
   "source": [
    "## 1.1 Lambda Expressions <a class='anchor' id=\"1.1\"></a>\n",
    "[Back to Day-3](#0.1)"
   ]
  },
  {
   "cell_type": "code",
   "execution_count": 1,
   "id": "930a256e",
   "metadata": {},
   "outputs": [],
   "source": [
    "# what,why,How to,when to use- Lambda Expression"
   ]
  },
  {
   "cell_type": "code",
   "execution_count": 2,
   "id": "b45467ee",
   "metadata": {},
   "outputs": [],
   "source": [
    "# User defined Function"
   ]
  },
  {
   "cell_type": "code",
   "execution_count": 3,
   "id": "47638b11",
   "metadata": {},
   "outputs": [
    {
     "name": "stdout",
     "output_type": "stream",
     "text": [
      "good morning\n"
     ]
    }
   ],
   "source": [
    "def hi():\n",
    "    print('good morning')\n",
    "hi()"
   ]
  },
  {
   "cell_type": "code",
   "execution_count": 25,
   "id": "bb2d32e0",
   "metadata": {},
   "outputs": [
    {
     "name": "stdout",
     "output_type": "stream",
     "text": [
      "6\n",
      "4\n"
     ]
    }
   ],
   "source": [
    "# Function Programming\n",
    "def inc(i):\n",
    "    return i+2\n",
    "def dec(i):\n",
    "    return i-2\n",
    "def apply(f_name,n):\n",
    "    return f_name(n)\n",
    "print(apply(inc,4))\n",
    "print(apply(dec,6))"
   ]
  },
  {
   "cell_type": "code",
   "execution_count": 4,
   "id": "cbb1cb0c",
   "metadata": {},
   "outputs": [],
   "source": [
    "# Anonymous function : lambda (keyword)"
   ]
  },
  {
   "cell_type": "code",
   "execution_count": 5,
   "id": "f39a7432",
   "metadata": {},
   "outputs": [],
   "source": [
    "# syntax ::\n",
    "# variable = lambda arguments: expression"
   ]
  },
  {
   "cell_type": "code",
   "execution_count": 6,
   "id": "699a9b81",
   "metadata": {},
   "outputs": [
    {
     "data": {
      "text/plain": [
       "16"
      ]
     },
     "execution_count": 6,
     "metadata": {},
     "output_type": "execute_result"
    }
   ],
   "source": [
    "# square of a number\n",
    "def f1(n):\n",
    "    return n * n\n",
    "f1(4)\n",
    "    "
   ]
  },
  {
   "cell_type": "code",
   "execution_count": 7,
   "id": "8d4edbf6",
   "metadata": {},
   "outputs": [],
   "source": [
    "res = lambda n : n * n"
   ]
  },
  {
   "cell_type": "code",
   "execution_count": 8,
   "id": "8044e2a9",
   "metadata": {},
   "outputs": [
    {
     "data": {
      "text/plain": [
       "16"
      ]
     },
     "execution_count": 8,
     "metadata": {},
     "output_type": "execute_result"
    }
   ],
   "source": [
    "res(4)"
   ]
  },
  {
   "cell_type": "code",
   "execution_count": 9,
   "id": "156262b3",
   "metadata": {},
   "outputs": [
    {
     "data": {
      "text/plain": [
       "30"
      ]
     },
     "execution_count": 9,
     "metadata": {},
     "output_type": "execute_result"
    }
   ],
   "source": [
    "# add two numbers\n",
    "res1 = lambda a,b : a+b\n",
    "res1(10,20)"
   ]
  },
  {
   "cell_type": "code",
   "execution_count": 10,
   "id": "d39db308",
   "metadata": {},
   "outputs": [
    {
     "data": {
      "text/plain": [
       "'skkumar'"
      ]
     },
     "execution_count": 10,
     "metadata": {},
     "output_type": "execute_result"
    }
   ],
   "source": [
    "full_name = lambda fname,lname : fname+lname\n",
    "full_name(\"sk\",\"kumar\")"
   ]
  },
  {
   "cell_type": "code",
   "execution_count": 12,
   "id": "e589fb50",
   "metadata": {},
   "outputs": [
    {
     "name": "stdout",
     "output_type": "stream",
     "text": [
      "60\n",
      "27\n"
     ]
    }
   ],
   "source": [
    "res2 = lambda *args:sum(args)\n",
    "print(res2(10,20,30))\n",
    "print(res2(1,4,5,8,9))"
   ]
  },
  {
   "cell_type": "code",
   "execution_count": 15,
   "id": "a4f9af19",
   "metadata": {},
   "outputs": [],
   "source": [
    "# find the squre of list of number using lambda\n",
    "    "
   ]
  },
  {
   "cell_type": "code",
   "execution_count": 16,
   "id": "c1e03d5c",
   "metadata": {},
   "outputs": [
    {
     "name": "stdout",
     "output_type": "stream",
     "text": [
      "[1, 4, 9, 16]\n"
     ]
    }
   ],
   "source": [
    "res = []\n",
    "for i in range(1,5):\n",
    "    res.append(i*i)\n",
    "print(res)"
   ]
  },
  {
   "cell_type": "code",
   "execution_count": 17,
   "id": "d0dd7bf6",
   "metadata": {},
   "outputs": [
    {
     "data": {
      "text/plain": [
       "[4, 9, 16, 25, 36]"
      ]
     },
     "execution_count": 17,
     "metadata": {},
     "output_type": "execute_result"
    }
   ],
   "source": [
    "res3 = lambda *args:[i*i for i in args]\n",
    "res3(2,3,4,5,6)"
   ]
  },
  {
   "cell_type": "markdown",
   "id": "c8f8fbff",
   "metadata": {},
   "source": [
    "## 1.2 Map <a class='anchor' id=\"1.2\"></a>\n",
    "[Back to Day-3](#0.1)"
   ]
  },
  {
   "cell_type": "code",
   "execution_count": 18,
   "id": "502bdaf2",
   "metadata": {},
   "outputs": [],
   "source": [
    "# syntax ::\n",
    "# map(function,iter_items)"
   ]
  },
  {
   "cell_type": "code",
   "execution_count": 19,
   "id": "991504bb",
   "metadata": {},
   "outputs": [
    {
     "data": {
      "text/plain": [
       "25"
      ]
     },
     "execution_count": 19,
     "metadata": {},
     "output_type": "execute_result"
    }
   ],
   "source": [
    "# function to find the square of a number\n",
    "def sq(n):\n",
    "    return n * n\n",
    "sq(5)"
   ]
  },
  {
   "cell_type": "code",
   "execution_count": 20,
   "id": "3f08f3de",
   "metadata": {},
   "outputs": [
    {
     "data": {
      "text/plain": [
       "<map at 0x27755ca6020>"
      ]
     },
     "execution_count": 20,
     "metadata": {},
     "output_type": "execute_result"
    }
   ],
   "source": [
    "map(sq,range(2,10,2))"
   ]
  },
  {
   "cell_type": "code",
   "execution_count": 21,
   "id": "da6cbb09",
   "metadata": {},
   "outputs": [
    {
     "data": {
      "text/plain": [
       "[4, 16, 36, 64]"
      ]
     },
     "execution_count": 21,
     "metadata": {},
     "output_type": "execute_result"
    }
   ],
   "source": [
    "# map will return an iterable object\n",
    "list(map(sq,range(2,10,2)))"
   ]
  },
  {
   "cell_type": "code",
   "execution_count": 22,
   "id": "d17ae42e",
   "metadata": {},
   "outputs": [
    {
     "data": {
      "text/plain": [
       "[4, 16, 36, 64]"
      ]
     },
     "execution_count": 22,
     "metadata": {},
     "output_type": "execute_result"
    }
   ],
   "source": [
    "res5 = map(sq,range(2,10,2))\n",
    "list(res5)"
   ]
  },
  {
   "cell_type": "code",
   "execution_count": 23,
   "id": "d651a8b5",
   "metadata": {},
   "outputs": [
    {
     "data": {
      "text/plain": [
       "[6, 8, 10]"
      ]
     },
     "execution_count": 23,
     "metadata": {},
     "output_type": "execute_result"
    }
   ],
   "source": [
    "l1 = [1,2,3]\n",
    "l2 = [5,6,7]\n",
    "# result = [1+5,2+6,3+7] = [6,8,10]\n",
    "list(map(lambda n1,n2 : n1 + n2, l1,l2))"
   ]
  },
  {
   "cell_type": "markdown",
   "id": "85cdf390",
   "metadata": {},
   "source": [
    "## 1.3 Filter <a class='anchor' id=\"1.3\"></a>\n",
    "[Back to Day-3](#0.1)"
   ]
  },
  {
   "cell_type": "code",
   "execution_count": null,
   "id": "30a86d3b",
   "metadata": {},
   "outputs": [],
   "source": [
    "# syntax\n",
    "# filter(function, iterable)"
   ]
  },
  {
   "cell_type": "code",
   "execution_count": 29,
   "id": "9761b10e",
   "metadata": {},
   "outputs": [
    {
     "data": {
      "text/plain": [
       "[0, 2, 4, 6, 8]"
      ]
     },
     "execution_count": 29,
     "metadata": {},
     "output_type": "execute_result"
    }
   ],
   "source": [
    "# l1 = [i for i in range(50) if i % 2 == 0]\n",
    "l1 = []\n",
    "for i in range(50):\n",
    "    if i % 2 == 0:\n",
    "        l1.append(i)\n",
    "l1"
   ]
  },
  {
   "cell_type": "code",
   "execution_count": 31,
   "id": "e473dd75",
   "metadata": {},
   "outputs": [
    {
     "data": {
      "text/plain": [
       "[2, 5, 8, 11, 14, 17, 20, 23, 26, 29, 32, 35, 38, 41, 44, 47]"
      ]
     },
     "execution_count": 31,
     "metadata": {},
     "output_type": "execute_result"
    }
   ],
   "source": [
    "l2 = []\n",
    "for i in range(2,50,3):\n",
    "        l2.append(i)\n",
    "l2"
   ]
  },
  {
   "cell_type": "code",
   "execution_count": 32,
   "id": "badd70fc",
   "metadata": {},
   "outputs": [],
   "source": [
    "def even(n):\n",
    "    if n%2 == 0:\n",
    "        return n"
   ]
  },
  {
   "cell_type": "code",
   "execution_count": 35,
   "id": "a9d46a82",
   "metadata": {},
   "outputs": [
    {
     "data": {
      "text/plain": [
       "[2, 8, 14, 20, 26, 32, 38, 44]"
      ]
     },
     "execution_count": 35,
     "metadata": {},
     "output_type": "execute_result"
    }
   ],
   "source": [
    "list(filter(even,l2))"
   ]
  },
  {
   "cell_type": "code",
   "execution_count": 36,
   "id": "9e6ff253",
   "metadata": {},
   "outputs": [
    {
     "data": {
      "text/plain": [
       "[2, 8, 14, 20, 26, 32, 38, 44]"
      ]
     },
     "execution_count": 36,
     "metadata": {},
     "output_type": "execute_result"
    }
   ],
   "source": [
    "list(filter(lambda n: n%2 == 0,l2))"
   ]
  },
  {
   "cell_type": "markdown",
   "id": "132f2046",
   "metadata": {},
   "source": [
    "## 1.4 Reduce <a class='anchor' id=\"1.4\"></a>\n",
    "[Back to Day-3](#0.1)"
   ]
  },
  {
   "cell_type": "code",
   "execution_count": 38,
   "id": "b1d388c5",
   "metadata": {},
   "outputs": [],
   "source": [
    "# syntax\n",
    "# reduce(function, iter_items)"
   ]
  },
  {
   "cell_type": "code",
   "execution_count": 39,
   "id": "9d3b09f7",
   "metadata": {},
   "outputs": [
    {
     "data": {
      "text/plain": [
       "15"
      ]
     },
     "execution_count": 39,
     "metadata": {},
     "output_type": "execute_result"
    }
   ],
   "source": [
    "res = 0\n",
    "for i in range(6):\n",
    "    res += i\n",
    "res"
   ]
  },
  {
   "cell_type": "code",
   "execution_count": 40,
   "id": "c2b4ccb4",
   "metadata": {},
   "outputs": [
    {
     "data": {
      "text/plain": [
       "15"
      ]
     },
     "execution_count": 40,
     "metadata": {},
     "output_type": "execute_result"
    }
   ],
   "source": [
    "1+2+3+4+5"
   ]
  },
  {
   "cell_type": "code",
   "execution_count": 41,
   "id": "330c13db",
   "metadata": {},
   "outputs": [
    {
     "data": {
      "text/plain": [
       "15"
      ]
     },
     "execution_count": 41,
     "metadata": {},
     "output_type": "execute_result"
    }
   ],
   "source": [
    "from functools import reduce\n",
    "l2 = [1,2,3,4,5]\n",
    "reduce(lambda n1,n2 : n1+n2,l2) # ((((1+2)+3)+4)+5)"
   ]
  },
  {
   "cell_type": "markdown",
   "id": "9298ea9d",
   "metadata": {},
   "source": [
    "## 1.5 Exception Handling in python <a class='anchor' id=\"1.5\"></a>\n",
    "[Back to Day-3](#0.1)"
   ]
  },
  {
   "cell_type": "code",
   "execution_count": 42,
   "id": "0cc17dee",
   "metadata": {},
   "outputs": [],
   "source": [
    "# syntax\n",
    "# try:\n",
    "    # satements which may generate exceptions\n",
    "# except:\n",
    "    # statements to handle the exception\n",
    "    \n",
    "# finally:\n",
    "    # statements which wiil end the program\n",
    "    "
   ]
  },
  {
   "cell_type": "code",
   "execution_count": 43,
   "id": "b2c6910c",
   "metadata": {},
   "outputs": [
    {
     "ename": "ZeroDivisionError",
     "evalue": "division by zero",
     "output_type": "error",
     "traceback": [
      "\u001b[1;31m---------------------------------------------------------------------------\u001b[0m",
      "\u001b[1;31mZeroDivisionError\u001b[0m                         Traceback (most recent call last)",
      "Cell \u001b[1;32mIn[43], line 3\u001b[0m\n\u001b[0;32m      1\u001b[0m nem \u001b[38;5;241m=\u001b[39m \u001b[38;5;241m10\u001b[39m\n\u001b[0;32m      2\u001b[0m dem \u001b[38;5;241m=\u001b[39m \u001b[38;5;241m0\u001b[39m\n\u001b[1;32m----> 3\u001b[0m div \u001b[38;5;241m=\u001b[39m \u001b[43mnem\u001b[49m\u001b[43m \u001b[49m\u001b[38;5;241;43m/\u001b[39;49m\u001b[43m \u001b[49m\u001b[43mdem\u001b[49m\n\u001b[0;32m      4\u001b[0m \u001b[38;5;28mprint\u001b[39m(div)\n",
      "\u001b[1;31mZeroDivisionError\u001b[0m: division by zero"
     ]
    }
   ],
   "source": [
    "nem = 10\n",
    "dem = 0\n",
    "div = nem / dem\n",
    "print(div)"
   ]
  },
  {
   "cell_type": "code",
   "execution_count": 29,
   "id": "0bcc260b",
   "metadata": {},
   "outputs": [
    {
     "name": "stdout",
     "output_type": "stream",
     "text": [
      "Division not possible since Denominater is zero\n"
     ]
    }
   ],
   "source": [
    "try:\n",
    "    nem = 10\n",
    "    dem = 0\n",
    "    div = nem / dem\n",
    "    print(div)\n",
    "except:\n",
    "    print(\"Division not possible since Denominater is zero\")\n",
    "    "
   ]
  },
  {
   "cell_type": "code",
   "execution_count": 46,
   "id": "8050ec02",
   "metadata": {},
   "outputs": [
    {
     "name": "stdout",
     "output_type": "stream",
     "text": [
      "enter the denominator 0\n",
      "Division not possible since denominater is zero\n"
     ]
    }
   ],
   "source": [
    "n = int(input(\"enter the denominator \"))\n",
    "try:\n",
    "    nem = 10\n",
    "    div = nem / n\n",
    "    print(div)\n",
    "except:\n",
    "    print(\"Division not possible since denominater is zero\")\n"
   ]
  },
  {
   "cell_type": "code",
   "execution_count": 47,
   "id": "48394e40",
   "metadata": {},
   "outputs": [
    {
     "data": {
      "text/plain": [
       "10"
      ]
     },
     "execution_count": 47,
     "metadata": {},
     "output_type": "execute_result"
    }
   ],
   "source": [
    "n = 10\n",
    "n"
   ]
  },
  {
   "cell_type": "code",
   "execution_count": 48,
   "id": "49d64680",
   "metadata": {},
   "outputs": [],
   "source": [
    "del n"
   ]
  },
  {
   "cell_type": "code",
   "execution_count": 49,
   "id": "6339001d",
   "metadata": {},
   "outputs": [
    {
     "ename": "NameError",
     "evalue": "name 'n' is not defined",
     "output_type": "error",
     "traceback": [
      "\u001b[1;31m---------------------------------------------------------------------------\u001b[0m",
      "\u001b[1;31mNameError\u001b[0m                                 Traceback (most recent call last)",
      "Cell \u001b[1;32mIn[49], line 1\u001b[0m\n\u001b[1;32m----> 1\u001b[0m \u001b[43mn\u001b[49m\n",
      "\u001b[1;31mNameError\u001b[0m: name 'n' is not defined"
     ]
    }
   ],
   "source": [
    "n"
   ]
  },
  {
   "cell_type": "code",
   "execution_count": 52,
   "id": "7f409961",
   "metadata": {},
   "outputs": [
    {
     "name": "stdout",
     "output_type": "stream",
     "text": [
      "Division not possible since denominater is zero\n",
      "denominator is deleted\n"
     ]
    }
   ],
   "source": [
    "try:\n",
    "    nem = 10\n",
    "    dem = 0\n",
    "    div = nem / dem\n",
    "    print(div)\n",
    "except:\n",
    "    print(\"Division not possible since denominater is zero\")\n",
    "finally:\n",
    "    del dem\n",
    "    print(\"denominator is deleted\")"
   ]
  },
  {
   "cell_type": "code",
   "execution_count": null,
   "id": "0cbf94cf",
   "metadata": {},
   "outputs": [],
   "source": []
  }
 ],
 "metadata": {
  "kernelspec": {
   "display_name": "Python 3 (ipykernel)",
   "language": "python",
   "name": "python3"
  },
  "language_info": {
   "codemirror_mode": {
    "name": "ipython",
    "version": 3
   },
   "file_extension": ".py",
   "mimetype": "text/x-python",
   "name": "python",
   "nbconvert_exporter": "python",
   "pygments_lexer": "ipython3",
   "version": "3.10.9"
  }
 },
 "nbformat": 4,
 "nbformat_minor": 5
}
