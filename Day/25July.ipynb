{
 "cells": [
  {
   "cell_type": "markdown",
   "id": "d44d6950",
   "metadata": {},
   "source": [
    "# Data science process\n",
    "- Problem definition\n",
    "- Data acquisition\n",
    "- Data preparation and EDA (Exploratory Data Analysis)\n",
    "- Feature Engineering and Feature extraction\n",
    "- Model planning\n",
    "- Model building\n",
    "- Model Evaluation\n",
    "- Model Deployment\n"
   ]
  },
  {
   "cell_type": "markdown",
   "id": "1e6ccc48",
   "metadata": {},
   "source": [
    "## (1) Problem Definition\n",
    "- Housing Finance company deals with home loans.\n",
    "- The dataset is provided to identify the customer segments that are eligible for loan amount so that they can specifically target these customers."
   ]
  },
  {
   "cell_type": "markdown",
   "id": "23adbede",
   "metadata": {},
   "source": [
    "## (2) Data Acquisition"
   ]
  },
  {
   "cell_type": "markdown",
   "id": "761b26ae",
   "metadata": {},
   "source": [
    "\n",
    "**The dataset contains following 13 features information**\n",
    "\n",
    "* Loan_ID\tUnique Loan ID\n",
    "* Gender\tMale/ Female\n",
    "* Married\tApplicant married (Y/N)\n",
    "* Dependents\tNumber of dependents\n",
    "* Education\tApplicant Education (Graduate/ Under Graduate)\n",
    "* Self_Employed\tSelf employed (Y/N)\n",
    "* ApplicantIncome\tApplicant income\n",
    "* CoapplicantIncome\tCoapplicant income\n",
    "* LoanAmount\tLoan amount in thousands\n",
    "* Loan_Amount_Term\tTerm of loan in months\n",
    "* Credit_History\tcredit history meets guidelines\n",
    "* Property_Area\tUrban/ Semi Urban/ Rural\n",
    "* Loan_Status\t(Target) Loan approved (Y/N)"
   ]
  },
  {
   "cell_type": "markdown",
   "id": "3e8d61ab",
   "metadata": {},
   "source": [
    "## (3) Data Preparation\n",
    "- Data Exploration\n",
    "- Data Cleaning\n",
    "- Missing value treatments\n",
    "- Outlier handling\n",
    "- Data encoding techniques\n",
    "- Feature engineering\n",
    "- Challenges of high dimensionality\n",
    "- Dimension reduction using principal component analysis"
   ]
  },
  {
   "cell_type": "code",
   "execution_count": 709,
   "id": "494bb214",
   "metadata": {},
   "outputs": [],
   "source": [
    "#Loading Packages\n",
    "import pandas as pd \n",
    "import numpy as np      \n",
    "\n",
    "import seaborn as sns                 \n",
    "import matplotlib.pyplot as plt       \n",
    "%matplotlib inline \n",
    "#pip install plotly\n",
    "import plotly.express as px\n",
    "\n",
    "import warnings  \n",
    "warnings.filterwarnings(\"ignore\")"
   ]
  },
  {
   "cell_type": "code",
   "execution_count": 710,
   "id": "b574faeb",
   "metadata": {},
   "outputs": [
    {
     "data": {
      "text/html": [
       "<div>\n",
       "<style scoped>\n",
       "    .dataframe tbody tr th:only-of-type {\n",
       "        vertical-align: middle;\n",
       "    }\n",
       "\n",
       "    .dataframe tbody tr th {\n",
       "        vertical-align: top;\n",
       "    }\n",
       "\n",
       "    .dataframe thead th {\n",
       "        text-align: right;\n",
       "    }\n",
       "</style>\n",
       "<table border=\"1\" class=\"dataframe\">\n",
       "  <thead>\n",
       "    <tr style=\"text-align: right;\">\n",
       "      <th></th>\n",
       "      <th>Loan_ID</th>\n",
       "      <th>Gender</th>\n",
       "      <th>Married</th>\n",
       "      <th>Dependents</th>\n",
       "      <th>Education</th>\n",
       "      <th>Self_Employed</th>\n",
       "      <th>ApplicantIncome</th>\n",
       "      <th>CoapplicantIncome</th>\n",
       "      <th>LoanAmount</th>\n",
       "      <th>Loan_Amount_Term</th>\n",
       "      <th>Credit_History</th>\n",
       "      <th>Property_Area</th>\n",
       "      <th>Loan_Status</th>\n",
       "    </tr>\n",
       "  </thead>\n",
       "  <tbody>\n",
       "    <tr>\n",
       "      <th>0</th>\n",
       "      <td>LP001002</td>\n",
       "      <td>Male</td>\n",
       "      <td>No</td>\n",
       "      <td>0</td>\n",
       "      <td>Graduate</td>\n",
       "      <td>No</td>\n",
       "      <td>5849</td>\n",
       "      <td>0.0</td>\n",
       "      <td>NaN</td>\n",
       "      <td>360.0</td>\n",
       "      <td>1.0</td>\n",
       "      <td>Urban</td>\n",
       "      <td>Y</td>\n",
       "    </tr>\n",
       "    <tr>\n",
       "      <th>1</th>\n",
       "      <td>LP001003</td>\n",
       "      <td>Male</td>\n",
       "      <td>Yes</td>\n",
       "      <td>1</td>\n",
       "      <td>Graduate</td>\n",
       "      <td>No</td>\n",
       "      <td>4583</td>\n",
       "      <td>1508.0</td>\n",
       "      <td>128.0</td>\n",
       "      <td>360.0</td>\n",
       "      <td>1.0</td>\n",
       "      <td>Rural</td>\n",
       "      <td>N</td>\n",
       "    </tr>\n",
       "    <tr>\n",
       "      <th>2</th>\n",
       "      <td>LP001005</td>\n",
       "      <td>Male</td>\n",
       "      <td>Yes</td>\n",
       "      <td>0</td>\n",
       "      <td>Graduate</td>\n",
       "      <td>Yes</td>\n",
       "      <td>3000</td>\n",
       "      <td>0.0</td>\n",
       "      <td>66.0</td>\n",
       "      <td>360.0</td>\n",
       "      <td>1.0</td>\n",
       "      <td>Urban</td>\n",
       "      <td>Y</td>\n",
       "    </tr>\n",
       "  </tbody>\n",
       "</table>\n",
       "</div>"
      ],
      "text/plain": [
       "    Loan_ID Gender Married Dependents Education Self_Employed  \\\n",
       "0  LP001002   Male      No          0  Graduate            No   \n",
       "1  LP001003   Male     Yes          1  Graduate            No   \n",
       "2  LP001005   Male     Yes          0  Graduate           Yes   \n",
       "\n",
       "   ApplicantIncome  CoapplicantIncome  LoanAmount  Loan_Amount_Term  \\\n",
       "0             5849                0.0         NaN             360.0   \n",
       "1             4583             1508.0       128.0             360.0   \n",
       "2             3000                0.0        66.0             360.0   \n",
       "\n",
       "   Credit_History Property_Area Loan_Status  \n",
       "0             1.0         Urban           Y  \n",
       "1             1.0         Rural           N  \n",
       "2             1.0         Urban           Y  "
      ]
     },
     "execution_count": 710,
     "metadata": {},
     "output_type": "execute_result"
    }
   ],
   "source": [
    "data=pd.read_csv(\"data/loan.csv\")\n",
    "data.head(3)"
   ]
  },
  {
   "cell_type": "markdown",
   "id": "da628003",
   "metadata": {},
   "source": [
    "## Data Exploration"
   ]
  },
  {
   "cell_type": "code",
   "execution_count": 711,
   "id": "b0bd26b1",
   "metadata": {},
   "outputs": [
    {
     "data": {
      "text/plain": [
       "(614, 13)"
      ]
     },
     "execution_count": 711,
     "metadata": {},
     "output_type": "execute_result"
    }
   ],
   "source": [
    "data.shape"
   ]
  },
  {
   "cell_type": "code",
   "execution_count": 712,
   "id": "421cbec7",
   "metadata": {},
   "outputs": [
    {
     "name": "stdout",
     "output_type": "stream",
     "text": [
      "number of rows 614\n",
      "number of columns 13\n"
     ]
    }
   ],
   "source": [
    "print('number of rows', data.shape[0])\n",
    "print('number of columns',data.shape[1])"
   ]
  },
  {
   "cell_type": "code",
   "execution_count": 713,
   "id": "cc5cba2d",
   "metadata": {},
   "outputs": [
    {
     "data": {
      "text/plain": [
       "Index(['Loan_ID', 'Gender', 'Married', 'Dependents', 'Education',\n",
       "       'Self_Employed', 'ApplicantIncome', 'CoapplicantIncome', 'LoanAmount',\n",
       "       'Loan_Amount_Term', 'Credit_History', 'Property_Area', 'Loan_Status'],\n",
       "      dtype='object')"
      ]
     },
     "execution_count": 713,
     "metadata": {},
     "output_type": "execute_result"
    }
   ],
   "source": [
    "data.columns"
   ]
  },
  {
   "cell_type": "code",
   "execution_count": 714,
   "id": "e8132eea",
   "metadata": {},
   "outputs": [
    {
     "name": "stdout",
     "output_type": "stream",
     "text": [
      "<class 'pandas.core.frame.DataFrame'>\n",
      "RangeIndex: 614 entries, 0 to 613\n",
      "Data columns (total 13 columns):\n",
      " #   Column             Non-Null Count  Dtype  \n",
      "---  ------             --------------  -----  \n",
      " 0   Loan_ID            614 non-null    object \n",
      " 1   Gender             601 non-null    object \n",
      " 2   Married            611 non-null    object \n",
      " 3   Dependents         599 non-null    object \n",
      " 4   Education          614 non-null    object \n",
      " 5   Self_Employed      582 non-null    object \n",
      " 6   ApplicantIncome    614 non-null    int64  \n",
      " 7   CoapplicantIncome  614 non-null    float64\n",
      " 8   LoanAmount         592 non-null    float64\n",
      " 9   Loan_Amount_Term   600 non-null    float64\n",
      " 10  Credit_History     564 non-null    float64\n",
      " 11  Property_Area      614 non-null    object \n",
      " 12  Loan_Status        614 non-null    object \n",
      "dtypes: float64(4), int64(1), object(8)\n",
      "memory usage: 62.5+ KB\n"
     ]
    }
   ],
   "source": [
    "data.info()"
   ]
  },
  {
   "cell_type": "code",
   "execution_count": 715,
   "id": "01b7ef05",
   "metadata": {},
   "outputs": [
    {
     "data": {
      "text/plain": [
       "Loan_ID               object\n",
       "Gender                object\n",
       "Married               object\n",
       "Dependents            object\n",
       "Education             object\n",
       "Self_Employed         object\n",
       "ApplicantIncome        int64\n",
       "CoapplicantIncome    float64\n",
       "LoanAmount           float64\n",
       "Loan_Amount_Term     float64\n",
       "Credit_History       float64\n",
       "Property_Area         object\n",
       "Loan_Status           object\n",
       "dtype: object"
      ]
     },
     "execution_count": 715,
     "metadata": {},
     "output_type": "execute_result"
    }
   ],
   "source": [
    "data.dtypes"
   ]
  },
  {
   "cell_type": "code",
   "execution_count": 716,
   "id": "c673d1ff",
   "metadata": {},
   "outputs": [
    {
     "name": "stdout",
     "output_type": "stream",
     "text": [
      "integer type data (614, 1)\n"
     ]
    }
   ],
   "source": [
    "print('integer type data', data.select_dtypes(include='int64').shape)"
   ]
  },
  {
   "cell_type": "code",
   "execution_count": 717,
   "id": "d0fc90fa",
   "metadata": {},
   "outputs": [
    {
     "name": "stdout",
     "output_type": "stream",
     "text": [
      "number of columns of integer type 1\n",
      "number of columns of object type 8\n",
      "number of columns of float type 4\n"
     ]
    }
   ],
   "source": [
    "# how many columns are of integer type\n",
    "print('number of columns of integer type', data.select_dtypes(include='int64').shape[1])\n",
    "# how many columns are of object type\n",
    "print('number of columns of object type', data.select_dtypes(include='object').shape[1])\n",
    "# how many columns are of float type\n",
    "print('number of columns of float type', data.select_dtypes(include='float64').shape[1])"
   ]
  },
  {
   "cell_type": "code",
   "execution_count": 718,
   "id": "af7bc55c",
   "metadata": {},
   "outputs": [
    {
     "data": {
      "text/html": [
       "<div>\n",
       "<style scoped>\n",
       "    .dataframe tbody tr th:only-of-type {\n",
       "        vertical-align: middle;\n",
       "    }\n",
       "\n",
       "    .dataframe tbody tr th {\n",
       "        vertical-align: top;\n",
       "    }\n",
       "\n",
       "    .dataframe thead th {\n",
       "        text-align: right;\n",
       "    }\n",
       "</style>\n",
       "<table border=\"1\" class=\"dataframe\">\n",
       "  <thead>\n",
       "    <tr style=\"text-align: right;\">\n",
       "      <th></th>\n",
       "      <th>ApplicantIncome</th>\n",
       "      <th>CoapplicantIncome</th>\n",
       "      <th>LoanAmount</th>\n",
       "      <th>Loan_Amount_Term</th>\n",
       "      <th>Credit_History</th>\n",
       "    </tr>\n",
       "  </thead>\n",
       "  <tbody>\n",
       "    <tr>\n",
       "      <th>count</th>\n",
       "      <td>614.000000</td>\n",
       "      <td>614.000000</td>\n",
       "      <td>592.000000</td>\n",
       "      <td>600.00000</td>\n",
       "      <td>564.000000</td>\n",
       "    </tr>\n",
       "    <tr>\n",
       "      <th>mean</th>\n",
       "      <td>5403.459283</td>\n",
       "      <td>1621.245798</td>\n",
       "      <td>146.412162</td>\n",
       "      <td>342.00000</td>\n",
       "      <td>0.842199</td>\n",
       "    </tr>\n",
       "    <tr>\n",
       "      <th>std</th>\n",
       "      <td>6109.041673</td>\n",
       "      <td>2926.248369</td>\n",
       "      <td>85.587325</td>\n",
       "      <td>65.12041</td>\n",
       "      <td>0.364878</td>\n",
       "    </tr>\n",
       "    <tr>\n",
       "      <th>min</th>\n",
       "      <td>150.000000</td>\n",
       "      <td>0.000000</td>\n",
       "      <td>9.000000</td>\n",
       "      <td>12.00000</td>\n",
       "      <td>0.000000</td>\n",
       "    </tr>\n",
       "    <tr>\n",
       "      <th>25%</th>\n",
       "      <td>2877.500000</td>\n",
       "      <td>0.000000</td>\n",
       "      <td>100.000000</td>\n",
       "      <td>360.00000</td>\n",
       "      <td>1.000000</td>\n",
       "    </tr>\n",
       "    <tr>\n",
       "      <th>50%</th>\n",
       "      <td>3812.500000</td>\n",
       "      <td>1188.500000</td>\n",
       "      <td>128.000000</td>\n",
       "      <td>360.00000</td>\n",
       "      <td>1.000000</td>\n",
       "    </tr>\n",
       "    <tr>\n",
       "      <th>75%</th>\n",
       "      <td>5795.000000</td>\n",
       "      <td>2297.250000</td>\n",
       "      <td>168.000000</td>\n",
       "      <td>360.00000</td>\n",
       "      <td>1.000000</td>\n",
       "    </tr>\n",
       "    <tr>\n",
       "      <th>max</th>\n",
       "      <td>81000.000000</td>\n",
       "      <td>41667.000000</td>\n",
       "      <td>700.000000</td>\n",
       "      <td>480.00000</td>\n",
       "      <td>1.000000</td>\n",
       "    </tr>\n",
       "  </tbody>\n",
       "</table>\n",
       "</div>"
      ],
      "text/plain": [
       "       ApplicantIncome  CoapplicantIncome  LoanAmount  Loan_Amount_Term  \\\n",
       "count       614.000000         614.000000  592.000000         600.00000   \n",
       "mean       5403.459283        1621.245798  146.412162         342.00000   \n",
       "std        6109.041673        2926.248369   85.587325          65.12041   \n",
       "min         150.000000           0.000000    9.000000          12.00000   \n",
       "25%        2877.500000           0.000000  100.000000         360.00000   \n",
       "50%        3812.500000        1188.500000  128.000000         360.00000   \n",
       "75%        5795.000000        2297.250000  168.000000         360.00000   \n",
       "max       81000.000000       41667.000000  700.000000         480.00000   \n",
       "\n",
       "       Credit_History  \n",
       "count      564.000000  \n",
       "mean         0.842199  \n",
       "std          0.364878  \n",
       "min          0.000000  \n",
       "25%          1.000000  \n",
       "50%          1.000000  \n",
       "75%          1.000000  \n",
       "max          1.000000  "
      ]
     },
     "execution_count": 718,
     "metadata": {},
     "output_type": "execute_result"
    }
   ],
   "source": [
    "# Summary of numeric (int and float) data\n",
    "\n",
    "data.describe()"
   ]
  },
  {
   "cell_type": "code",
   "execution_count": 719,
   "id": "f77e3383",
   "metadata": {},
   "outputs": [
    {
     "data": {
      "text/html": [
       "<div>\n",
       "<style scoped>\n",
       "    .dataframe tbody tr th:only-of-type {\n",
       "        vertical-align: middle;\n",
       "    }\n",
       "\n",
       "    .dataframe tbody tr th {\n",
       "        vertical-align: top;\n",
       "    }\n",
       "\n",
       "    .dataframe thead th {\n",
       "        text-align: right;\n",
       "    }\n",
       "</style>\n",
       "<table border=\"1\" class=\"dataframe\">\n",
       "  <thead>\n",
       "    <tr style=\"text-align: right;\">\n",
       "      <th></th>\n",
       "      <th>Loan_ID</th>\n",
       "      <th>Gender</th>\n",
       "      <th>Married</th>\n",
       "      <th>Dependents</th>\n",
       "      <th>Education</th>\n",
       "      <th>Self_Employed</th>\n",
       "      <th>Property_Area</th>\n",
       "      <th>Loan_Status</th>\n",
       "    </tr>\n",
       "  </thead>\n",
       "  <tbody>\n",
       "    <tr>\n",
       "      <th>count</th>\n",
       "      <td>614</td>\n",
       "      <td>601</td>\n",
       "      <td>611</td>\n",
       "      <td>599</td>\n",
       "      <td>614</td>\n",
       "      <td>582</td>\n",
       "      <td>614</td>\n",
       "      <td>614</td>\n",
       "    </tr>\n",
       "    <tr>\n",
       "      <th>unique</th>\n",
       "      <td>614</td>\n",
       "      <td>2</td>\n",
       "      <td>2</td>\n",
       "      <td>4</td>\n",
       "      <td>2</td>\n",
       "      <td>2</td>\n",
       "      <td>3</td>\n",
       "      <td>2</td>\n",
       "    </tr>\n",
       "    <tr>\n",
       "      <th>top</th>\n",
       "      <td>LP001002</td>\n",
       "      <td>Male</td>\n",
       "      <td>Yes</td>\n",
       "      <td>0</td>\n",
       "      <td>Graduate</td>\n",
       "      <td>No</td>\n",
       "      <td>Semiurban</td>\n",
       "      <td>Y</td>\n",
       "    </tr>\n",
       "    <tr>\n",
       "      <th>freq</th>\n",
       "      <td>1</td>\n",
       "      <td>489</td>\n",
       "      <td>398</td>\n",
       "      <td>345</td>\n",
       "      <td>480</td>\n",
       "      <td>500</td>\n",
       "      <td>233</td>\n",
       "      <td>422</td>\n",
       "    </tr>\n",
       "  </tbody>\n",
       "</table>\n",
       "</div>"
      ],
      "text/plain": [
       "         Loan_ID Gender Married Dependents Education Self_Employed  \\\n",
       "count        614    601     611        599       614           582   \n",
       "unique       614      2       2          4         2             2   \n",
       "top     LP001002   Male     Yes          0  Graduate            No   \n",
       "freq           1    489     398        345       480           500   \n",
       "\n",
       "       Property_Area Loan_Status  \n",
       "count            614         614  \n",
       "unique             3           2  \n",
       "top        Semiurban           Y  \n",
       "freq             233         422  "
      ]
     },
     "execution_count": 719,
     "metadata": {},
     "output_type": "execute_result"
    }
   ],
   "source": [
    "# Summary of object data\n",
    "\n",
    "data.describe(include=\"object\")"
   ]
  },
  {
   "cell_type": "code",
   "execution_count": 720,
   "id": "3d908d4d",
   "metadata": {},
   "outputs": [
    {
     "data": {
      "text/plain": [
       "Male      489\n",
       "Female    112\n",
       "Name: Gender, dtype: int64"
      ]
     },
     "execution_count": 720,
     "metadata": {},
     "output_type": "execute_result"
    }
   ],
   "source": [
    "# Aggregation by grouping\n",
    "# Frequency\n",
    "\n",
    "data['Gender'].value_counts()"
   ]
  },
  {
   "cell_type": "code",
   "execution_count": 721,
   "id": "cc969f8d",
   "metadata": {},
   "outputs": [
    {
     "data": {
      "text/plain": [
       "Male      0.813644\n",
       "Female    0.186356\n",
       "Name: Gender, dtype: float64"
      ]
     },
     "execution_count": 721,
     "metadata": {},
     "output_type": "execute_result"
    }
   ],
   "source": [
    "# Relative Frequency\n",
    "\n",
    "data['Gender'].value_counts(normalize=True)"
   ]
  },
  {
   "cell_type": "code",
   "execution_count": 722,
   "id": "fde94218",
   "metadata": {},
   "outputs": [
    {
     "data": {
      "text/plain": [
       "Loan_ID              0.0\n",
       "Gender               0.0\n",
       "Married              0.0\n",
       "Dependents           0.0\n",
       "Education            0.0\n",
       "Self_Employed        0.0\n",
       "ApplicantIncome      0.0\n",
       "CoapplicantIncome    0.0\n",
       "LoanAmount           0.0\n",
       "Loan_Amount_Term     0.0\n",
       "Credit_History       0.0\n",
       "Property_Area        0.0\n",
       "Loan_Status          0.0\n",
       "dtype: float64"
      ]
     },
     "execution_count": 722,
     "metadata": {},
     "output_type": "execute_result"
    }
   ],
   "source": [
    "# Identify duplicate data\n",
    "# data[data.duplicated()==True]\n",
    "data[data.duplicated()].sum()"
   ]
  },
  {
   "cell_type": "markdown",
   "id": "4bab40fe",
   "metadata": {},
   "source": [
    "## Data Visualization"
   ]
  },
  {
   "cell_type": "markdown",
   "id": "a3258aa5",
   "metadata": {},
   "source": [
    "## Univariate Analysis"
   ]
  },
  {
   "cell_type": "markdown",
   "id": "bb9f5a42",
   "metadata": {},
   "source": [
    "## Numerical Attribute Analysis :Histogram"
   ]
  },
  {
   "cell_type": "code",
   "execution_count": 723,
   "id": "c668a5b0",
   "metadata": {},
   "outputs": [
    {
     "data": {
      "image/png": "[encoded data removed]",
      "text/plain": [
       "<Figure size 640x480 with 1 Axes>"
      ]
     },
     "metadata": {},
     "output_type": "display_data"
    }
   ],
   "source": [
    "data['ApplicantIncome'].hist(bins=50,color='red')\n",
    "plt.show()"
   ]
  },
  {
   "cell_type": "code",
   "execution_count": 724,
   "id": "6da49f10",
   "metadata": {},
   "outputs": [
    {
     "data": {
      "image/png": "[encoded data removed]",
      "text/plain": [
       "<Figure size 800x800 with 6 Axes>"
      ]
     },
     "metadata": {},
     "output_type": "display_data"
    }
   ],
   "source": [
    "data.hist(figsize=(8,8))\n",
    "plt.show()"
   ]
  },
  {
   "cell_type": "code",
   "execution_count": 725,
   "id": "c0497070",
   "metadata": {},
   "outputs": [
    {
     "data": {
      "text/plain": [
       "<Axes: xlabel='ApplicantIncome'>"
      ]
     },
     "execution_count": 725,
     "metadata": {},
     "output_type": "execute_result"
    },
    {
     "data": {
      "image/png": "[encoded data removed]",
      "text/plain": [
       "<Figure size 640x480 with 1 Axes>"
      ]
     },
     "metadata": {},
     "output_type": "display_data"
    }
   ],
   "source": [
    "sns.boxplot(data=data, x='ApplicantIncome',color=\"red\")"
   ]
  },
  {
   "cell_type": "code",
   "execution_count": 726,
   "id": "b3e1827d",
   "metadata": {},
   "outputs": [
    {
     "data": {
      "application/vnd.plotly.v1+json": {
       "config": {
        "plotlyServerURL": "https://plot.ly"
       },
       "data": [
        {
         "alignmentgroup": "True",
         "hovertemplate": "ApplicantIncome=%{x}<extra></extra>",
         "legendgroup": "",
         "marker": {
          "color": "#636efa"
         },
         "name": "",
         "notched": false,
         "offsetgroup": "",
         "orientation": "h",
         "showlegend": false,
         "type": "box",
         "x": [
          5849,
          4583,
          3000,
          2583,
          6000,
          5417,
          2333,
          3036,
          4006,
          12841,
          3200,
          2500,
          3073,
          1853,
          1299,
          4950,
          3596,
          3510,
          4887,
          2600,
          7660,
          5955,
          2600,
          3365,
          3717,
          9560,
          2799,
          4226,
          1442,
          3750,
          4166,
          3167,
          4692,
          3500,
          12500,
          2275,
          1828,
          3667,
          4166,
          3748,
          3600,
          1800,
          2400,
          3941,
          4695,
          3410,
          5649,
          5821,
          2645,
          4000,
          1928,
          3086,
          4230,
          4616,
          11500,
          2708,
          2132,
          3366,
          8080,
          3357,
          2500,
          3029,
          2609,
          4945,
          4166,
          5726,
          3200,
          10750,
          7100,
          4300,
          3208,
          1875,
          3500,
          4755,
          5266,
          3750,
          3750,
          1000,
          3167,
          3333,
          3846,
          2395,
          1378,
          6000,
          3988,
          2366,
          3333,
          2500,
          8566,
          5695,
          2958,
          6250,
          3273,
          4133,
          3620,
          6782,
          2484,
          1977,
          4188,
          1759,
          4288,
          4843,
          13650,
          4652,
          3816,
          3052,
          11417,
          7333,
          3800,
          2071,
          5316,
          2929,
          3572,
          7451,
          5050,
          14583,
          3167,
          2214,
          5568,
          10408,
          5667,
          4166,
          2137,
          2957,
          4300,
          3692,
          23803,
          3865,
          10513,
          6080,
          20166,
          2014,
          2718,
          3459,
          4895,
          4000,
          4583,
          3316,
          14999,
          4200,
          5042,
          5417,
          6950,
          2698,
          11757,
          2330,
          14866,
          1538,
          10000,
          4860,
          6277,
          2577,
          9166,
          2281,
          3254,
          39999,
          6000,
          9538,
          2980,
          4583,
          1863,
          7933,
          3089,
          4167,
          9323,
          3707,
          4583,
          2439,
          2237,
          8000,
          1820,
          51763,
          3522,
          5708,
          4344,
          3497,
          2045,
          5516,
          3750,
          2333,
          6400,
          1916,
          4600,
          33846,
          3625,
          39147,
          2178,
          2383,
          674,
          9328,
          4885,
          12000,
          6033,
          3858,
          4191,
          3125,
          8333,
          1907,
          3416,
          11000,
          2600,
          4923,
          3992,
          3500,
          3917,
          4408,
          3244,
          3975,
          2479,
          3418,
          10000,
          3430,
          7787,
          5703,
          3173,
          3850,
          150,
          3727,
          5000,
          4283,
          2221,
          4009,
          2971,
          7578,
          6250,
          3250,
          4735,
          6250,
          4758,
          6400,
          2491,
          3716,
          3189,
          8333,
          3155,
          5500,
          5746,
          3463,
          3812,
          3315,
          5819,
          2510,
          2965,
          6250,
          3406,
          6050,
          9703,
          6608,
          2882,
          1809,
          1668,
          3427,
          2583,
          2661,
          16250,
          3083,
          6045,
          5250,
          14683,
          4931,
          6083,
          2060,
          3481,
          7200,
          5166,
          4095,
          4708,
          4333,
          3418,
          2876,
          3237,
          11146,
          2833,
          2620,
          3900,
          2750,
          3993,
          3103,
          14583,
          4100,
          4053,
          3927,
          2301,
          1811,
          20667,
          3158,
          2600,
          3704,
          4124,
          9508,
          3075,
          4400,
          3153,
          5417,
          2383,
          4416,
          6875,
          4666,
          5000,
          2014,
          1800,
          2875,
          5000,
          1625,
          4000,
          2000,
          3762,
          2400,
          20233,
          7667,
          2917,
          2927,
          2507,
          5746,
          2473,
          3399,
          3717,
          2058,
          3541,
          10000,
          2400,
          4342,
          3601,
          3166,
          15000,
          8666,
          4917,
          5818,
          4333,
          2500,
          4384,
          2935,
          2833,
          63337,
          9833,
          5503,
          5250,
          2500,
          1830,
          4160,
          2647,
          2378,
          4554,
          3173,
          2583,
          2499,
          3523,
          3083,
          6333,
          2625,
          9083,
          8750,
          2666,
          5500,
          2423,
          3813,
          8333,
          3875,
          3000,
          5167,
          4723,
          5000,
          4750,
          3013,
          6822,
          6216,
          2500,
          5124,
          6325,
          19730,
          15759,
          5185,
          9323,
          3062,
          2764,
          4817,
          8750,
          4310,
          3069,
          5391,
          3333,
          5941,
          6000,
          7167,
          4566,
          3667,
          2346,
          3010,
          2333,
          5488,
          9167,
          9504,
          2583,
          1993,
          3100,
          3276,
          3180,
          3033,
          3902,
          1500,
          2889,
          2755,
          2500,
          1963,
          7441,
          4547,
          2167,
          2213,
          8300,
          81000,
          3867,
          6256,
          6096,
          2253,
          2149,
          2995,
          2600,
          1600,
          1025,
          3246,
          5829,
          2720,
          1820,
          7250,
          14880,
          2666,
          4606,
          5935,
          2920,
          2717,
          8624,
          6500,
          12876,
          2425,
          3750,
          10047,
          1926,
          2213,
          10416,
          7142,
          3660,
          7901,
          4707,
          37719,
          7333,
          3466,
          4652,
          3539,
          3340,
          2769,
          2309,
          1958,
          3948,
          2483,
          7085,
          3859,
          4301,
          3708,
          4354,
          8334,
          2083,
          7740,
          3015,
          5191,
          4166,
          6000,
          2947,
          16692,
          210,
          4333,
          3450,
          2653,
          4691,
          2500,
          5532,
          16525,
          6700,
          2873,
          16667,
          2947,
          4350,
          3095,
          2083,
          10833,
          8333,
          1958,
          3547,
          18333,
          4583,
          2435,
          2699,
          5333,
          3691,
          17263,
          3597,
          3326,
          2600,
          4625,
          2895,
          6283,
          645,
          3159,
          4865,
          4050,
          3814,
          3510,
          20833,
          3583,
          2479,
          13262,
          3598,
          6065,
          3283,
          2130,
          5815,
          3466,
          2031,
          3074,
          4683,
          3400,
          2192,
          2500,
          5677,
          7948,
          4680,
          17500,
          3775,
          5285,
          2679,
          6783,
          1025,
          4281,
          3588,
          11250,
          18165,
          2550,
          6133,
          3617,
          2917,
          6417,
          4608,
          2138,
          3652,
          2239,
          3017,
          2768,
          3358,
          2526,
          5000,
          2785,
          6633,
          2492,
          3333,
          2454,
          3593,
          5468,
          2667,
          10139,
          3887,
          4180,
          3675,
          19484,
          5923,
          5800,
          8799,
          4467,
          3333,
          3400,
          2378,
          3166,
          3417,
          5116,
          16666,
          6125,
          6406,
          3159,
          3087,
          3229,
          1782,
          3182,
          6540,
          1836,
          3166,
          1880,
          2787,
          4283,
          2297,
          2165,
          4750,
          2726,
          3000,
          6000,
          9357,
          3859,
          16120,
          3833,
          6383,
          2987,
          9963,
          5780,
          416,
          2894,
          5703,
          3676,
          12000,
          2400,
          3400,
          3987,
          3232,
          2900,
          4106,
          8072,
          7583,
          4583
         ],
         "x0": " ",
         "xaxis": "x",
         "y0": " ",
         "yaxis": "y"
        }
       ],
       "layout": {
        "boxmode": "group",
        "legend": {
         "tracegroupgap": 0
        },
        "margin": {
         "t": 60
        },
        "template": {
         "data": {
          "bar": [
           {
            "error_x": {
             "color": "#2a3f5f"
            },
            "error_y": {
             "color": "#2a3f5f"
            },
            "marker": {
             "line": {
              "color": "#E5ECF6",
              "width": 0.5
             },
             "pattern": {
              "fillmode": "overlay",
              "size": 10,
              "solidity": 0.2
             }
            },
            "type": "bar"
           }
          ],
          "barpolar": [
           {
            "marker": {
             "line": {
              "color": "#E5ECF6",
              "width": 0.5
             },
             "pattern": {
              "fillmode": "overlay",
              "size": 10,
              "solidity": 0.2
             }
            },
            "type": "barpolar"
           }
          ],
          "carpet": [
           {
            "aaxis": {
             "endlinecolor": "#2a3f5f",
             "gridcolor": "white",
             "linecolor": "white",
             "minorgridcolor": "white",
             "startlinecolor": "#2a3f5f"
            },
            "baxis": {
             "endlinecolor": "#2a3f5f",
             "gridcolor": "white",
             "linecolor": "white",
             "minorgridcolor": "white",
             "startlinecolor": "#2a3f5f"
            },
            "type": "carpet"
           }
          ],
          "choropleth": [
           {
            "colorbar": {
             "outlinewidth": 0,
             "ticks": ""
            },
            "type": "choropleth"
           }
          ],
          "contour": [
           {
            "colorbar": {
             "outlinewidth": 0,
             "ticks": ""
            },
            "colorscale": [
             [
              0,
              "#0d0887"
             ],
             [
              0.1111111111111111,
              "#46039f"
             ],
             [
              0.2222222222222222,
              "#7201a8"
             ],
             [
              0.3333333333333333,
              "#9c179e"
             ],
             [
              0.4444444444444444,
              "#bd3786"
             ],
             [
              0.5555555555555556,
              "#d8576b"
             ],
             [
              0.6666666666666666,
              "#ed7953"
             ],
             [
              0.7777777777777778,
              "#fb9f3a"
             ],
             [
              0.8888888888888888,
              "#fdca26"
             ],
             [
              1,
              "#f0f921"
             ]
            ],
            "type": "contour"
           }
          ],
          "contourcarpet": [
           {
            "colorbar": {
             "outlinewidth": 0,
             "ticks": ""
            },
            "type": "contourcarpet"
           }
          ],
          "heatmap": [
           {
            "colorbar": {
             "outlinewidth": 0,
             "ticks": ""
            },
            "colorscale": [
             [
              0,
              "#0d0887"
             ],
             [
              0.1111111111111111,
              "#46039f"
             ],
             [
              0.2222222222222222,
              "#7201a8"
             ],
             [
              0.3333333333333333,
              "#9c179e"
             ],
             [
              0.4444444444444444,
              "#bd3786"
             ],
             [
              0.5555555555555556,
              "#d8576b"
             ],
             [
              0.6666666666666666,
              "#ed7953"
             ],
             [
              0.7777777777777778,
              "#fb9f3a"
             ],
             [
              0.8888888888888888,
              "#fdca26"
             ],
             [
              1,
              "#f0f921"
             ]
            ],
            "type": "heatmap"
           }
          ],
          "heatmapgl": [
           {
            "colorbar": {
             "outlinewidth": 0,
             "ticks": ""
            },
            "colorscale": [
             [
              0,
              "#0d0887"
             ],
             [
              0.1111111111111111,
              "#46039f"
             ],
             [
              0.2222222222222222,
              "#7201a8"
             ],
             [
              0.3333333333333333,
              "#9c179e"
             ],
             [
              0.4444444444444444,
              "#bd3786"
             ],
             [
              0.5555555555555556,
              "#d8576b"
             ],
             [
              0.6666666666666666,
              "#ed7953"
             ],
             [
              0.7777777777777778,
              "#fb9f3a"
             ],
             [
              0.8888888888888888,
              "#fdca26"
             ],
             [
              1,
              "#f0f921"
             ]
            ],
            "type": "heatmapgl"
           }
          ],
          "histogram": [
           {
            "marker": {
             "pattern": {
              "fillmode": "overlay",
              "size": 10,
              "solidity": 0.2
             }
            },
            "type": "histogram"
           }
          ],
          "histogram2d": [
           {
            "colorbar": {
             "outlinewidth": 0,
             "ticks": ""
            },
            "colorscale": [
             [
              0,
              "#0d0887"
             ],
             [
              0.1111111111111111,
              "#46039f"
             ],
             [
              0.2222222222222222,
              "#7201a8"
             ],
             [
              0.3333333333333333,
              "#9c179e"
             ],
             [
              0.4444444444444444,
              "#bd3786"
             ],
             [
              0.5555555555555556,
              "#d8576b"
             ],
             [
              0.6666666666666666,
              "#ed7953"
             ],
             [
              0.7777777777777778,
              "#fb9f3a"
             ],
             [
              0.8888888888888888,
              "#fdca26"
             ],
             [
              1,
              "#f0f921"
             ]
            ],
            "type": "histogram2d"
           }
          ],
          "histogram2dcontour": [
           {
            "colorbar": {
             "outlinewidth": 0,
             "ticks": ""
            },
            "colorscale": [
             [
              0,
              "#0d0887"
             ],
             [
              0.1111111111111111,
              "#46039f"
             ],
             [
              0.2222222222222222,
              "#7201a8"
             ],
             [
              0.3333333333333333,
              "#9c179e"
             ],
             [
              0.4444444444444444,
              "#bd3786"
             ],
             [
              0.5555555555555556,
              "#d8576b"
             ],
             [
              0.6666666666666666,
              "#ed7953"
             ],
             [
              0.7777777777777778,
              "#fb9f3a"
             ],
             [
              0.8888888888888888,
              "#fdca26"
             ],
             [
              1,
              "#f0f921"
             ]
            ],
            "type": "histogram2dcontour"
           }
          ],
          "mesh3d": [
           {
            "colorbar": {
             "outlinewidth": 0,
             "ticks": ""
            },
            "type": "mesh3d"
           }
          ],
          "parcoords": [
           {
            "line": {
             "colorbar": {
              "outlinewidth": 0,
              "ticks": ""
             }
            },
            "type": "parcoords"
           }
          ],
          "pie": [
           {
            "automargin": true,
            "type": "pie"
           }
          ],
          "scatter": [
           {
            "fillpattern": {
             "fillmode": "overlay",
             "size": 10,
             "solidity": 0.2
            },
            "type": "scatter"
           }
          ],
          "scatter3d": [
           {
            "line": {
             "colorbar": {
              "outlinewidth": 0,
              "ticks": ""
             }
            },
            "marker": {
             "colorbar": {
              "outlinewidth": 0,
              "ticks": ""
             }
            },
            "type": "scatter3d"
           }
          ],
          "scattercarpet": [
           {
            "marker": {
             "colorbar": {
              "outlinewidth": 0,
              "ticks": ""
             }
            },
            "type": "scattercarpet"
           }
          ],
          "scattergeo": [
           {
            "marker": {
             "colorbar": {
              "outlinewidth": 0,
              "ticks": ""
             }
            },
            "type": "scattergeo"
           }
          ],
          "scattergl": [
           {
            "marker": {
             "colorbar": {
              "outlinewidth": 0,
              "ticks": ""
             }
            },
            "type": "scattergl"
           }
          ],
          "scattermapbox": [
           {
            "marker": {
             "colorbar": {
              "outlinewidth": 0,
              "ticks": ""
             }
            },
            "type": "scattermapbox"
           }
          ],
          "scatterpolar": [
           {
            "marker": {
             "colorbar": {
              "outlinewidth": 0,
              "ticks": ""
             }
            },
            "type": "scatterpolar"
           }
          ],
          "scatterpolargl": [
           {
            "marker": {
             "colorbar": {
              "outlinewidth": 0,
              "ticks": ""
             }
            },
            "type": "scatterpolargl"
           }
          ],
          "scatterternary": [
           {
            "marker": {
             "colorbar": {
              "outlinewidth": 0,
              "ticks": ""
             }
            },
            "type": "scatterternary"
           }
          ],
          "surface": [
           {
            "colorbar": {
             "outlinewidth": 0,
             "ticks": ""
            },
            "colorscale": [
             [
              0,
              "#0d0887"
             ],
             [
              0.1111111111111111,
              "#46039f"
             ],
             [
              0.2222222222222222,
              "#7201a8"
             ],
             [
              0.3333333333333333,
              "#9c179e"
             ],
             [
              0.4444444444444444,
              "#bd3786"
             ],
             [
              0.5555555555555556,
              "#d8576b"
             ],
             [
              0.6666666666666666,
              "#ed7953"
             ],
             [
              0.7777777777777778,
              "#fb9f3a"
             ],
             [
              0.8888888888888888,
              "#fdca26"
             ],
             [
              1,
              "#f0f921"
             ]
            ],
            "type": "surface"
           }
          ],
          "table": [
           {
            "cells": {
             "fill": {
              "color": "#EBF0F8"
             },
             "line": {
              "color": "white"
             }
            },
            "header": {
             "fill": {
              "color": "#C8D4E3"
             },
             "line": {
              "color": "white"
             }
            },
            "type": "table"
           }
          ]
         },
         "layout": {
          "annotationdefaults": {
           "arrowcolor": "#2a3f5f",
           "arrowhead": 0,
           "arrowwidth": 1
          },
          "autotypenumbers": "strict",
          "coloraxis": {
           "colorbar": {
            "outlinewidth": 0,
            "ticks": ""
           }
          },
          "colorscale": {
           "diverging": [
            [
             0,
             "#8e0152"
            ],
            [
             0.1,
             "#c51b7d"
            ],
            [
             0.2,
             "#de77ae"
            ],
            [
             0.3,
             "#f1b6da"
            ],
            [
             0.4,
             "#fde0ef"
            ],
            [
             0.5,
             "#f7f7f7"
            ],
            [
             0.6,
             "#e6f5d0"
            ],
            [
             0.7,
             "#b8e186"
            ],
            [
             0.8,
             "#7fbc41"
            ],
            [
             0.9,
             "#4d9221"
            ],
            [
             1,
             "#276419"
            ]
           ],
           "sequential": [
            [
             0,
             "#0d0887"
            ],
            [
             0.1111111111111111,
             "#46039f"
            ],
            [
             0.2222222222222222,
             "#7201a8"
            ],
            [
             0.3333333333333333,
             "#9c179e"
            ],
            [
             0.4444444444444444,
             "#bd3786"
            ],
            [
             0.5555555555555556,
             "#d8576b"
            ],
            [
             0.6666666666666666,
             "#ed7953"
            ],
            [
             0.7777777777777778,
             "#fb9f3a"
            ],
            [
             0.8888888888888888,
             "#fdca26"
            ],
            [
             1,
             "#f0f921"
            ]
           ],
           "sequentialminus": [
            [
             0,
             "#0d0887"
            ],
            [
             0.1111111111111111,
             "#46039f"
            ],
            [
             0.2222222222222222,
             "#7201a8"
            ],
            [
             0.3333333333333333,
             "#9c179e"
            ],
            [
             0.4444444444444444,
             "#bd3786"
            ],
            [
             0.5555555555555556,
             "#d8576b"
            ],
            [
             0.6666666666666666,
             "#ed7953"
            ],
            [
             0.7777777777777778,
             "#fb9f3a"
            ],
            [
             0.8888888888888888,
             "#fdca26"
            ],
            [
             1,
             "#f0f921"
            ]
           ]
          },
          "colorway": [
           "#636efa",
           "#EF553B",
           "#00cc96",
           "#ab63fa",
           "#FFA15A",
           "#19d3f3",
           "#FF6692",
           "#B6E880",
           "#FF97FF",
           "#FECB52"
          ],
          "font": {
           "color": "#2a3f5f"
          },
          "geo": {
           "bgcolor": "white",
           "lakecolor": "white",
           "landcolor": "#E5ECF6",
           "showlakes": true,
           "showland": true,
           "subunitcolor": "white"
          },
          "hoverlabel": {
           "align": "left"
          },
          "hovermode": "closest",
          "mapbox": {
           "style": "light"
          },
          "paper_bgcolor": "white",
          "plot_bgcolor": "#E5ECF6",
          "polar": {
           "angularaxis": {
            "gridcolor": "white",
            "linecolor": "white",
            "ticks": ""
           },
           "bgcolor": "#E5ECF6",
           "radialaxis": {
            "gridcolor": "white",
            "linecolor": "white",
            "ticks": ""
           }
          },
          "scene": {
           "xaxis": {
            "backgroundcolor": "#E5ECF6",
            "gridcolor": "white",
            "gridwidth": 2,
            "linecolor": "white",
            "showbackground": true,
            "ticks": "",
            "zerolinecolor": "white"
           },
           "yaxis": {
            "backgroundcolor": "#E5ECF6",
            "gridcolor": "white",
            "gridwidth": 2,
            "linecolor": "white",
            "showbackground": true,
            "ticks": "",
            "zerolinecolor": "white"
           },
           "zaxis": {
            "backgroundcolor": "#E5ECF6",
            "gridcolor": "white",
            "gridwidth": 2,
            "linecolor": "white",
            "showbackground": true,
            "ticks": "",
            "zerolinecolor": "white"
           }
          },
          "shapedefaults": {
           "line": {
            "color": "#2a3f5f"
           }
          },
          "ternary": {
           "aaxis": {
            "gridcolor": "white",
            "linecolor": "white",
            "ticks": ""
           },
           "baxis": {
            "gridcolor": "white",
            "linecolor": "white",
            "ticks": ""
           },
           "bgcolor": "#E5ECF6",
           "caxis": {
            "gridcolor": "white",
            "linecolor": "white",
            "ticks": ""
           }
          },
          "title": {
           "x": 0.05
          },
          "xaxis": {
           "automargin": true,
           "gridcolor": "white",
           "linecolor": "white",
           "ticks": "",
           "title": {
            "standoff": 15
           },
           "zerolinecolor": "white",
           "zerolinewidth": 2
          },
          "yaxis": {
           "automargin": true,
           "gridcolor": "white",
           "linecolor": "white",
           "ticks": "",
           "title": {
            "standoff": 15
           },
           "zerolinecolor": "white",
           "zerolinewidth": 2
          }
         }
        },
        "xaxis": {
         "anchor": "y",
         "domain": [
          0,
          1
         ],
         "title": {
          "text": "ApplicantIncome"
         }
        },
        "yaxis": {
         "anchor": "x",
         "domain": [
          0,
          1
         ]
        }
       }
      },
      "text/html": [
       "<div>                            <div id=\"27543c6f-45e6-4638-b87f-3c8520096945\" class=\"plotly-graph-div\" style=\"height:525px; width:100%;\"></div>            <script type=\"text/javascript\">                require([\"plotly\"], function(Plotly) {                    window.PLOTLYENV=window.PLOTLYENV || {};                                    if (document.getElementById(\"27543c6f-45e6-4638-b87f-3c8520096945\")) {                    Plotly.newPlot(                        \"27543c6f-45e6-4638-b87f-3c8520096945\",                        [{\"alignmentgroup\":\"True\",\"hovertemplate\":\"ApplicantIncome=%{x}<extra></extra>\",\"legendgroup\":\"\",\"marker\":{\"color\":\"#636efa\"},\"name\":\"\",\"notched\":false,\"offsetgroup\":\"\",\"orientation\":\"h\",\"showlegend\":false,\"x\":[5849,4583,3000,2583,6000,5417,2333,3036,4006,12841,3200,2500,3073,1853,1299,4950,3596,3510,4887,2600,7660,5955,2600,3365,3717,9560,2799,4226,1442,3750,4166,3167,4692,3500,12500,2275,1828,3667,4166,3748,3600,1800,2400,3941,4695,3410,5649,5821,2645,4000,1928,3086,4230,4616,11500,2708,2132,3366,8080,3357,2500,3029,2609,4945,4166,5726,3200,10750,7100,4300,3208,1875,3500,4755,5266,3750,3750,1000,3167,3333,3846,2395,1378,6000,3988,2366,3333,2500,8566,5695,2958,6250,3273,4133,3620,6782,2484,1977,4188,1759,4288,4843,13650,4652,3816,3052,11417,7333,3800,2071,5316,2929,3572,7451,5050,14583,3167,2214,5568,10408,5667,4166,2137,2957,4300,3692,23803,3865,10513,6080,20166,2014,2718,3459,4895,4000,4583,3316,14999,4200,5042,5417,6950,2698,11757,2330,14866,1538,10000,4860,6277,2577,9166,2281,3254,39999,6000,9538,2980,4583,1863,7933,3089,4167,9323,3707,4583,2439,2237,8000,1820,51763,3522,5708,4344,3497,2045,5516,3750,2333,6400,1916,4600,33846,3625,39147,2178,2383,674,9328,4885,12000,6033,3858,4191,3125,8333,1907,3416,11000,2600,4923,3992,3500,3917,4408,3244,3975,2479,3418,10000,3430,7787,5703,3173,3850,150,3727,5000,4283,2221,4009,2971,7578,6250,3250,4735,6250,4758,6400,2491,3716,3189,8333,3155,5500,5746,3463,3812,3315,5819,2510,2965,6250,3406,6050,9703,6608,2882,1809,1668,3427,2583,2661,16250,3083,6045,5250,14683,4931,6083,2060,3481,7200,5166,4095,4708,4333,3418,2876,3237,11146,2833,2620,3900,2750,3993,3103,14583,4100,4053,3927,2301,1811,20667,3158,2600,3704,4124,9508,3075,4400,3153,5417,2383,4416,6875,4666,5000,2014,1800,2875,5000,1625,4000,2000,3762,2400,20233,7667,2917,2927,2507,5746,2473,3399,3717,2058,3541,10000,2400,4342,3601,3166,15000,8666,4917,5818,4333,2500,4384,2935,2833,63337,9833,5503,5250,2500,1830,4160,2647,2378,4554,3173,2583,2499,3523,3083,6333,2625,9083,8750,2666,5500,2423,3813,8333,3875,3000,5167,4723,5000,4750,3013,6822,6216,2500,5124,6325,19730,15759,5185,9323,3062,2764,4817,8750,4310,3069,5391,3333,5941,6000,7167,4566,3667,2346,3010,2333,5488,9167,9504,2583,1993,3100,3276,3180,3033,3902,1500,2889,2755,2500,1963,7441,4547,2167,2213,8300,81000,3867,6256,6096,2253,2149,2995,2600,1600,1025,3246,5829,2720,1820,7250,14880,2666,4606,5935,2920,2717,8624,6500,12876,2425,3750,10047,1926,2213,10416,7142,3660,7901,4707,37719,7333,3466,4652,3539,3340,2769,2309,1958,3948,2483,7085,3859,4301,3708,4354,8334,2083,7740,3015,5191,4166,6000,2947,16692,210,4333,3450,2653,4691,2500,5532,16525,6700,2873,16667,2947,4350,3095,2083,10833,8333,1958,3547,18333,4583,2435,2699,5333,3691,17263,3597,3326,2600,4625,2895,6283,645,3159,4865,4050,3814,3510,20833,3583,2479,13262,3598,6065,3283,2130,5815,3466,2031,3074,4683,3400,2192,2500,5677,7948,4680,17500,3775,5285,2679,6783,1025,4281,3588,11250,18165,2550,6133,3617,2917,6417,4608,2138,3652,2239,3017,2768,3358,2526,5000,2785,6633,2492,3333,2454,3593,5468,2667,10139,3887,4180,3675,19484,5923,5800,8799,4467,3333,3400,2378,3166,3417,5116,16666,6125,6406,3159,3087,3229,1782,3182,6540,1836,3166,1880,2787,4283,2297,2165,4750,2726,3000,6000,9357,3859,16120,3833,6383,2987,9963,5780,416,2894,5703,3676,12000,2400,3400,3987,3232,2900,4106,8072,7583,4583],\"x0\":\" \",\"xaxis\":\"x\",\"y0\":\" \",\"yaxis\":\"y\",\"type\":\"box\"}],                        {\"template\":{\"data\":{\"histogram2dcontour\":[{\"type\":\"histogram2dcontour\",\"colorbar\":{\"outlinewidth\":0,\"ticks\":\"\"},\"colorscale\":[[0.0,\"#0d0887\"],[0.1111111111111111,\"#46039f\"],[0.2222222222222222,\"#7201a8\"],[0.3333333333333333,\"#9c179e\"],[0.4444444444444444,\"#bd3786\"],[0.5555555555555556,\"#d8576b\"],[0.6666666666666666,\"#ed7953\"],[0.7777777777777778,\"#fb9f3a\"],[0.8888888888888888,\"#fdca26\"],[1.0,\"#f0f921\"]]}],\"choropleth\":[{\"type\":\"choropleth\",\"colorbar\":{\"outlinewidth\":0,\"ticks\":\"\"}}],\"histogram2d\":[{\"type\":\"histogram2d\",\"colorbar\":{\"outlinewidth\":0,\"ticks\":\"\"},\"colorscale\":[[0.0,\"#0d0887\"],[0.1111111111111111,\"#46039f\"],[0.2222222222222222,\"#7201a8\"],[0.3333333333333333,\"#9c179e\"],[0.4444444444444444,\"#bd3786\"],[0.5555555555555556,\"#d8576b\"],[0.6666666666666666,\"#ed7953\"],[0.7777777777777778,\"#fb9f3a\"],[0.8888888888888888,\"#fdca26\"],[1.0,\"#f0f921\"]]}],\"heatmap\":[{\"type\":\"heatmap\",\"colorbar\":{\"outlinewidth\":0,\"ticks\":\"\"},\"colorscale\":[[0.0,\"#0d0887\"],[0.1111111111111111,\"#46039f\"],[0.2222222222222222,\"#7201a8\"],[0.3333333333333333,\"#9c179e\"],[0.4444444444444444,\"#bd3786\"],[0.5555555555555556,\"#d8576b\"],[0.6666666666666666,\"#ed7953\"],[0.7777777777777778,\"#fb9f3a\"],[0.8888888888888888,\"#fdca26\"],[1.0,\"#f0f921\"]]}],\"heatmapgl\":[{\"type\":\"heatmapgl\",\"colorbar\":{\"outlinewidth\":0,\"ticks\":\"\"},\"colorscale\":[[0.0,\"#0d0887\"],[0.1111111111111111,\"#46039f\"],[0.2222222222222222,\"#7201a8\"],[0.3333333333333333,\"#9c179e\"],[0.4444444444444444,\"#bd3786\"],[0.5555555555555556,\"#d8576b\"],[0.6666666666666666,\"#ed7953\"],[0.7777777777777778,\"#fb9f3a\"],[0.8888888888888888,\"#fdca26\"],[1.0,\"#f0f921\"]]}],\"contourcarpet\":[{\"type\":\"contourcarpet\",\"colorbar\":{\"outlinewidth\":0,\"ticks\":\"\"}}],\"contour\":[{\"type\":\"contour\",\"colorbar\":{\"outlinewidth\":0,\"ticks\":\"\"},\"colorscale\":[[0.0,\"#0d0887\"],[0.1111111111111111,\"#46039f\"],[0.2222222222222222,\"#7201a8\"],[0.3333333333333333,\"#9c179e\"],[0.4444444444444444,\"#bd3786\"],[0.5555555555555556,\"#d8576b\"],[0.6666666666666666,\"#ed7953\"],[0.7777777777777778,\"#fb9f3a\"],[0.8888888888888888,\"#fdca26\"],[1.0,\"#f0f921\"]]}],\"surface\":[{\"type\":\"surface\",\"colorbar\":{\"outlinewidth\":0,\"ticks\":\"\"},\"colorscale\":[[0.0,\"#0d0887\"],[0.1111111111111111,\"#46039f\"],[0.2222222222222222,\"#7201a8\"],[0.3333333333333333,\"#9c179e\"],[0.4444444444444444,\"#bd3786\"],[0.5555555555555556,\"#d8576b\"],[0.6666666666666666,\"#ed7953\"],[0.7777777777777778,\"#fb9f3a\"],[0.8888888888888888,\"#fdca26\"],[1.0,\"#f0f921\"]]}],\"mesh3d\":[{\"type\":\"mesh3d\",\"colorbar\":{\"outlinewidth\":0,\"ticks\":\"\"}}],\"scatter\":[{\"fillpattern\":{\"fillmode\":\"overlay\",\"size\":10,\"solidity\":0.2},\"type\":\"scatter\"}],\"parcoords\":[{\"type\":\"parcoords\",\"line\":{\"colorbar\":{\"outlinewidth\":0,\"ticks\":\"\"}}}],\"scatterpolargl\":[{\"type\":\"scatterpolargl\",\"marker\":{\"colorbar\":{\"outlinewidth\":0,\"ticks\":\"\"}}}],\"bar\":[{\"error_x\":{\"color\":\"#2a3f5f\"},\"error_y\":{\"color\":\"#2a3f5f\"},\"marker\":{\"line\":{\"color\":\"#E5ECF6\",\"width\":0.5},\"pattern\":{\"fillmode\":\"overlay\",\"size\":10,\"solidity\":0.2}},\"type\":\"bar\"}],\"scattergeo\":[{\"type\":\"scattergeo\",\"marker\":{\"colorbar\":{\"outlinewidth\":0,\"ticks\":\"\"}}}],\"scatterpolar\":[{\"type\":\"scatterpolar\",\"marker\":{\"colorbar\":{\"outlinewidth\":0,\"ticks\":\"\"}}}],\"histogram\":[{\"marker\":{\"pattern\":{\"fillmode\":\"overlay\",\"size\":10,\"solidity\":0.2}},\"type\":\"histogram\"}],\"scattergl\":[{\"type\":\"scattergl\",\"marker\":{\"colorbar\":{\"outlinewidth\":0,\"ticks\":\"\"}}}],\"scatter3d\":[{\"type\":\"scatter3d\",\"line\":{\"colorbar\":{\"outlinewidth\":0,\"ticks\":\"\"}},\"marker\":{\"colorbar\":{\"outlinewidth\":0,\"ticks\":\"\"}}}],\"scattermapbox\":[{\"type\":\"scattermapbox\",\"marker\":{\"colorbar\":{\"outlinewidth\":0,\"ticks\":\"\"}}}],\"scatterternary\":[{\"type\":\"scatterternary\",\"marker\":{\"colorbar\":{\"outlinewidth\":0,\"ticks\":\"\"}}}],\"scattercarpet\":[{\"type\":\"scattercarpet\",\"marker\":{\"colorbar\":{\"outlinewidth\":0,\"ticks\":\"\"}}}],\"carpet\":[{\"aaxis\":{\"endlinecolor\":\"#2a3f5f\",\"gridcolor\":\"white\",\"linecolor\":\"white\",\"minorgridcolor\":\"white\",\"startlinecolor\":\"#2a3f5f\"},\"baxis\":{\"endlinecolor\":\"#2a3f5f\",\"gridcolor\":\"white\",\"linecolor\":\"white\",\"minorgridcolor\":\"white\",\"startlinecolor\":\"#2a3f5f\"},\"type\":\"carpet\"}],\"table\":[{\"cells\":{\"fill\":{\"color\":\"#EBF0F8\"},\"line\":{\"color\":\"white\"}},\"header\":{\"fill\":{\"color\":\"#C8D4E3\"},\"line\":{\"color\":\"white\"}},\"type\":\"table\"}],\"barpolar\":[{\"marker\":{\"line\":{\"color\":\"#E5ECF6\",\"width\":0.5},\"pattern\":{\"fillmode\":\"overlay\",\"size\":10,\"solidity\":0.2}},\"type\":\"barpolar\"}],\"pie\":[{\"automargin\":true,\"type\":\"pie\"}]},\"layout\":{\"autotypenumbers\":\"strict\",\"colorway\":[\"#636efa\",\"#EF553B\",\"#00cc96\",\"#ab63fa\",\"#FFA15A\",\"#19d3f3\",\"#FF6692\",\"#B6E880\",\"#FF97FF\",\"#FECB52\"],\"font\":{\"color\":\"#2a3f5f\"},\"hovermode\":\"closest\",\"hoverlabel\":{\"align\":\"left\"},\"paper_bgcolor\":\"white\",\"plot_bgcolor\":\"#E5ECF6\",\"polar\":{\"bgcolor\":\"#E5ECF6\",\"angularaxis\":{\"gridcolor\":\"white\",\"linecolor\":\"white\",\"ticks\":\"\"},\"radialaxis\":{\"gridcolor\":\"white\",\"linecolor\":\"white\",\"ticks\":\"\"}},\"ternary\":{\"bgcolor\":\"#E5ECF6\",\"aaxis\":{\"gridcolor\":\"white\",\"linecolor\":\"white\",\"ticks\":\"\"},\"baxis\":{\"gridcolor\":\"white\",\"linecolor\":\"white\",\"ticks\":\"\"},\"caxis\":{\"gridcolor\":\"white\",\"linecolor\":\"white\",\"ticks\":\"\"}},\"coloraxis\":{\"colorbar\":{\"outlinewidth\":0,\"ticks\":\"\"}},\"colorscale\":{\"sequential\":[[0.0,\"#0d0887\"],[0.1111111111111111,\"#46039f\"],[0.2222222222222222,\"#7201a8\"],[0.3333333333333333,\"#9c179e\"],[0.4444444444444444,\"#bd3786\"],[0.5555555555555556,\"#d8576b\"],[0.6666666666666666,\"#ed7953\"],[0.7777777777777778,\"#fb9f3a\"],[0.8888888888888888,\"#fdca26\"],[1.0,\"#f0f921\"]],\"sequentialminus\":[[0.0,\"#0d0887\"],[0.1111111111111111,\"#46039f\"],[0.2222222222222222,\"#7201a8\"],[0.3333333333333333,\"#9c179e\"],[0.4444444444444444,\"#bd3786\"],[0.5555555555555556,\"#d8576b\"],[0.6666666666666666,\"#ed7953\"],[0.7777777777777778,\"#fb9f3a\"],[0.8888888888888888,\"#fdca26\"],[1.0,\"#f0f921\"]],\"diverging\":[[0,\"#8e0152\"],[0.1,\"#c51b7d\"],[0.2,\"#de77ae\"],[0.3,\"#f1b6da\"],[0.4,\"#fde0ef\"],[0.5,\"#f7f7f7\"],[0.6,\"#e6f5d0\"],[0.7,\"#b8e186\"],[0.8,\"#7fbc41\"],[0.9,\"#4d9221\"],[1,\"#276419\"]]},\"xaxis\":{\"gridcolor\":\"white\",\"linecolor\":\"white\",\"ticks\":\"\",\"title\":{\"standoff\":15},\"zerolinecolor\":\"white\",\"automargin\":true,\"zerolinewidth\":2},\"yaxis\":{\"gridcolor\":\"white\",\"linecolor\":\"white\",\"ticks\":\"\",\"title\":{\"standoff\":15},\"zerolinecolor\":\"white\",\"automargin\":true,\"zerolinewidth\":2},\"scene\":{\"xaxis\":{\"backgroundcolor\":\"#E5ECF6\",\"gridcolor\":\"white\",\"linecolor\":\"white\",\"showbackground\":true,\"ticks\":\"\",\"zerolinecolor\":\"white\",\"gridwidth\":2},\"yaxis\":{\"backgroundcolor\":\"#E5ECF6\",\"gridcolor\":\"white\",\"linecolor\":\"white\",\"showbackground\":true,\"ticks\":\"\",\"zerolinecolor\":\"white\",\"gridwidth\":2},\"zaxis\":{\"backgroundcolor\":\"#E5ECF6\",\"gridcolor\":\"white\",\"linecolor\":\"white\",\"showbackground\":true,\"ticks\":\"\",\"zerolinecolor\":\"white\",\"gridwidth\":2}},\"shapedefaults\":{\"line\":{\"color\":\"#2a3f5f\"}},\"annotationdefaults\":{\"arrowcolor\":\"#2a3f5f\",\"arrowhead\":0,\"arrowwidth\":1},\"geo\":{\"bgcolor\":\"white\",\"landcolor\":\"#E5ECF6\",\"subunitcolor\":\"white\",\"showland\":true,\"showlakes\":true,\"lakecolor\":\"white\"},\"title\":{\"x\":0.05},\"mapbox\":{\"style\":\"light\"}}},\"xaxis\":{\"anchor\":\"y\",\"domain\":[0.0,1.0],\"title\":{\"text\":\"ApplicantIncome\"}},\"yaxis\":{\"anchor\":\"x\",\"domain\":[0.0,1.0]},\"legend\":{\"tracegroupgap\":0},\"margin\":{\"t\":60},\"boxmode\":\"group\"},                        {\"responsive\": true}                    ).then(function(){\n",
       "                            \n",
       "var gd = document.getElementById('27543c6f-45e6-4638-b87f-3c8520096945');\n",
       "var x = new MutationObserver(function (mutations, observer) {{\n",
       "        var display = window.getComputedStyle(gd).display;\n",
       "        if (!display || display === 'none') {{\n",
       "            console.log([gd, 'removed!']);\n",
       "            Plotly.purge(gd);\n",
       "            observer.disconnect();\n",
       "        }}\n",
       "}});\n",
       "\n",
       "// Listen for the removal of the full notebook cells\n",
       "var notebookContainer = gd.closest('#notebook-container');\n",
       "if (notebookContainer) {{\n",
       "    x.observe(notebookContainer, {childList: true});\n",
       "}}\n",
       "\n",
       "// Listen for the clearing of the current output cell\n",
       "var outputEl = gd.closest('.output');\n",
       "if (outputEl) {{\n",
       "    x.observe(outputEl, {childList: true});\n",
       "}}\n",
       "\n",
       "                        })                };                });            </script>        </div>"
      ]
     },
     "metadata": {},
     "output_type": "display_data"
    }
   ],
   "source": [
    "px.box(data,x='ApplicantIncome')"
   ]
  },
  {
   "cell_type": "code",
   "execution_count": 727,
   "id": "c63f33c6",
   "metadata": {},
   "outputs": [
    {
     "data": {
      "text/plain": [
       "array(['Male', 'Female', nan], dtype=object)"
      ]
     },
     "execution_count": 727,
     "metadata": {},
     "output_type": "execute_result"
    }
   ],
   "source": [
    "# identify the unique values\n",
    "data['Gender'].unique()"
   ]
  },
  {
   "cell_type": "code",
   "execution_count": 728,
   "id": "c85bc61b",
   "metadata": {},
   "outputs": [
    {
     "data": {
      "text/plain": [
       "{'Gender': ['Male', 'Female', nan],\n",
       " 'Married': ['No', 'Yes', nan],\n",
       " 'Dependents': ['0', '1', '2', '3+', nan],\n",
       " 'Education': ['Graduate', 'Not Graduate'],\n",
       " 'Self_Employed': ['No', 'Yes', nan],\n",
       " 'Property_Area': ['Urban', 'Rural', 'Semiurban'],\n",
       " 'Loan_Status': ['Y', 'N']}"
      ]
     },
     "execution_count": 728,
     "metadata": {},
     "output_type": "execute_result"
    }
   ],
   "source": [
    "data.drop (['Loan_ID'],inplace=True,axis=1)\n",
    "{column:list(data[column].unique()) for column in data.select_dtypes('object').columns}"
   ]
  },
  {
   "cell_type": "markdown",
   "id": "df05245e",
   "metadata": {},
   "source": [
    "## Bivariate Analysis using visualization"
   ]
  },
  {
   "cell_type": "markdown",
   "id": "27b73793",
   "metadata": {},
   "source": [
    "## Stacked Histogram"
   ]
  },
  {
   "cell_type": "code",
   "execution_count": 729,
   "id": "c313f50f",
   "metadata": {},
   "outputs": [
    {
     "data": {
      "text/html": [
       "<div>\n",
       "<style scoped>\n",
       "    .dataframe tbody tr th:only-of-type {\n",
       "        vertical-align: middle;\n",
       "    }\n",
       "\n",
       "    .dataframe tbody tr th {\n",
       "        vertical-align: top;\n",
       "    }\n",
       "\n",
       "    .dataframe thead th {\n",
       "        text-align: right;\n",
       "    }\n",
       "</style>\n",
       "<table border=\"1\" class=\"dataframe\">\n",
       "  <thead>\n",
       "    <tr style=\"text-align: right;\">\n",
       "      <th>Loan_Status</th>\n",
       "      <th>N</th>\n",
       "      <th>Y</th>\n",
       "    </tr>\n",
       "    <tr>\n",
       "      <th>Gender</th>\n",
       "      <th></th>\n",
       "      <th></th>\n",
       "    </tr>\n",
       "  </thead>\n",
       "  <tbody>\n",
       "    <tr>\n",
       "      <th>Female</th>\n",
       "      <td>37</td>\n",
       "      <td>75</td>\n",
       "    </tr>\n",
       "    <tr>\n",
       "      <th>Male</th>\n",
       "      <td>150</td>\n",
       "      <td>339</td>\n",
       "    </tr>\n",
       "  </tbody>\n",
       "</table>\n",
       "</div>"
      ],
      "text/plain": [
       "Loan_Status    N    Y\n",
       "Gender               \n",
       "Female        37   75\n",
       "Male         150  339"
      ]
     },
     "execution_count": 729,
     "metadata": {},
     "output_type": "execute_result"
    }
   ],
   "source": [
    "Gdr=pd.crosstab(data['Gender'],data['Loan_Status'])\n",
    "Gdr"
   ]
  },
  {
   "cell_type": "code",
   "execution_count": 730,
   "id": "a0981e20",
   "metadata": {},
   "outputs": [
    {
     "data": {
      "text/plain": [
       "<Axes: xlabel='Gender'>"
      ]
     },
     "execution_count": 730,
     "metadata": {},
     "output_type": "execute_result"
    },
    {
     "data": {
      "image/png": "[encoded data removed]",
      "text/plain": [
       "<Figure size 640x480 with 1 Axes>"
      ]
     },
     "metadata": {},
     "output_type": "display_data"
    }
   ],
   "source": [
    "Gdr.div(Gdr.sum(1).astype(float),axis=0).plot(kind=\"bar\",stacked=True)"
   ]
  },
  {
   "cell_type": "code",
   "execution_count": 731,
   "id": "091e273b",
   "metadata": {},
   "outputs": [
    {
     "data": {
      "text/html": [
       "<div>\n",
       "<style scoped>\n",
       "    .dataframe tbody tr th:only-of-type {\n",
       "        vertical-align: middle;\n",
       "    }\n",
       "\n",
       "    .dataframe tbody tr th {\n",
       "        vertical-align: top;\n",
       "    }\n",
       "\n",
       "    .dataframe thead th {\n",
       "        text-align: right;\n",
       "    }\n",
       "</style>\n",
       "<table border=\"1\" class=\"dataframe\">\n",
       "  <thead>\n",
       "    <tr style=\"text-align: right;\">\n",
       "      <th>Loan_Status</th>\n",
       "      <th>N</th>\n",
       "      <th>Y</th>\n",
       "    </tr>\n",
       "    <tr>\n",
       "      <th>Education</th>\n",
       "      <th></th>\n",
       "      <th></th>\n",
       "    </tr>\n",
       "  </thead>\n",
       "  <tbody>\n",
       "    <tr>\n",
       "      <th>Graduate</th>\n",
       "      <td>140</td>\n",
       "      <td>340</td>\n",
       "    </tr>\n",
       "    <tr>\n",
       "      <th>Not Graduate</th>\n",
       "      <td>52</td>\n",
       "      <td>82</td>\n",
       "    </tr>\n",
       "  </tbody>\n",
       "</table>\n",
       "</div>"
      ],
      "text/plain": [
       "Loan_Status     N    Y\n",
       "Education             \n",
       "Graduate      140  340\n",
       "Not Graduate   52   82"
      ]
     },
     "execution_count": 731,
     "metadata": {},
     "output_type": "execute_result"
    }
   ],
   "source": [
    "Edu=pd.crosstab(data['Education'],data['Loan_Status'])\n",
    "Edu"
   ]
  },
  {
   "cell_type": "code",
   "execution_count": 732,
   "id": "a855fcd5",
   "metadata": {},
   "outputs": [
    {
     "data": {
      "text/plain": [
       "480"
      ]
     },
     "execution_count": 732,
     "metadata": {},
     "output_type": "execute_result"
    }
   ],
   "source": [
    "140+340"
   ]
  },
  {
   "cell_type": "code",
   "execution_count": 733,
   "id": "29fe47a7",
   "metadata": {},
   "outputs": [
    {
     "data": {
      "text/plain": [
       "0.2916666666666667"
      ]
     },
     "execution_count": 733,
     "metadata": {},
     "output_type": "execute_result"
    }
   ],
   "source": [
    "140/480"
   ]
  },
  {
   "cell_type": "code",
   "execution_count": 734,
   "id": "c29eb905",
   "metadata": {},
   "outputs": [
    {
     "data": {
      "text/plain": [
       "0.7083333333333334"
      ]
     },
     "execution_count": 734,
     "metadata": {},
     "output_type": "execute_result"
    }
   ],
   "source": [
    "340/480"
   ]
  },
  {
   "cell_type": "code",
   "execution_count": 735,
   "id": "e6587eea",
   "metadata": {},
   "outputs": [
    {
     "data": {
      "text/html": [
       "<div>\n",
       "<style scoped>\n",
       "    .dataframe tbody tr th:only-of-type {\n",
       "        vertical-align: middle;\n",
       "    }\n",
       "\n",
       "    .dataframe tbody tr th {\n",
       "        vertical-align: top;\n",
       "    }\n",
       "\n",
       "    .dataframe thead th {\n",
       "        text-align: right;\n",
       "    }\n",
       "</style>\n",
       "<table border=\"1\" class=\"dataframe\">\n",
       "  <thead>\n",
       "    <tr style=\"text-align: right;\">\n",
       "      <th>Loan_Status</th>\n",
       "      <th>N</th>\n",
       "      <th>Y</th>\n",
       "    </tr>\n",
       "    <tr>\n",
       "      <th>Education</th>\n",
       "      <th></th>\n",
       "      <th></th>\n",
       "    </tr>\n",
       "  </thead>\n",
       "  <tbody>\n",
       "    <tr>\n",
       "      <th>Graduate</th>\n",
       "      <td>0.291667</td>\n",
       "      <td>0.708333</td>\n",
       "    </tr>\n",
       "    <tr>\n",
       "      <th>Not Graduate</th>\n",
       "      <td>0.388060</td>\n",
       "      <td>0.611940</td>\n",
       "    </tr>\n",
       "  </tbody>\n",
       "</table>\n",
       "</div>"
      ],
      "text/plain": [
       "Loan_Status          N         Y\n",
       "Education                       \n",
       "Graduate      0.291667  0.708333\n",
       "Not Graduate  0.388060  0.611940"
      ]
     },
     "execution_count": 735,
     "metadata": {},
     "output_type": "execute_result"
    }
   ],
   "source": [
    "Edu.div(Edu.sum(1).astype(float),axis=0)"
   ]
  },
  {
   "cell_type": "code",
   "execution_count": 736,
   "id": "a2c3cb0b",
   "metadata": {},
   "outputs": [
    {
     "data": {
      "text/plain": [
       "Text(0, 0.5, 'Rel.Frequency')"
      ]
     },
     "execution_count": 736,
     "metadata": {},
     "output_type": "execute_result"
    },
    {
     "data": {
      "image/png": "[encoded data removed]",
      "text/plain": [
       "<Figure size 640x480 with 1 Axes>"
      ]
     },
     "metadata": {},
     "output_type": "display_data"
    }
   ],
   "source": [
    "\n",
    "Edu.div(Edu.sum(1).astype(float),axis=0).plot(kind=\"bar\",stacked=True)\n",
    "plt.xlabel(\"Education\")\n",
    "plt.ylabel(\"Rel.Frequency\")"
   ]
  },
  {
   "cell_type": "code",
   "execution_count": 737,
   "id": "99080ca4",
   "metadata": {},
   "outputs": [
    {
     "data": {
      "text/plain": [
       "Gender\n",
       "Female    112\n",
       "Male      489\n",
       "Name: Loan_Status, dtype: int64"
      ]
     },
     "execution_count": 737,
     "metadata": {},
     "output_type": "execute_result"
    }
   ],
   "source": [
    "data.groupby('Gender')['Loan_Status'].count()"
   ]
  },
  {
   "cell_type": "code",
   "execution_count": 738,
   "id": "52a8759b",
   "metadata": {},
   "outputs": [
    {
     "data": {
      "text/plain": [
       "<Axes: xlabel='Gender'>"
      ]
     },
     "execution_count": 738,
     "metadata": {},
     "output_type": "execute_result"
    },
    {
     "data": {
      "image/png": "[encoded data removed]",
      "text/plain": [
       "<Figure size 640x480 with 1 Axes>"
      ]
     },
     "metadata": {},
     "output_type": "display_data"
    }
   ],
   "source": [
    "data.groupby('Gender')['Loan_Status'].count().plot(kind='bar')"
   ]
  },
  {
   "cell_type": "markdown",
   "id": "499530f9",
   "metadata": {},
   "source": [
    "## Data Cleaning"
   ]
  },
  {
   "cell_type": "markdown",
   "id": "51a5d67d",
   "metadata": {},
   "source": [
    "## Missing Value \n"
   ]
  },
  {
   "cell_type": "code",
   "execution_count": 739,
   "id": "10ac84f8",
   "metadata": {},
   "outputs": [
    {
     "data": {
      "text/plain": [
       "Gender               13\n",
       "Married               3\n",
       "Dependents           15\n",
       "Education             0\n",
       "Self_Employed        32\n",
       "ApplicantIncome       0\n",
       "CoapplicantIncome     0\n",
       "LoanAmount           22\n",
       "Loan_Amount_Term     14\n",
       "Credit_History       50\n",
       "Property_Area         0\n",
       "Loan_Status           0\n",
       "dtype: int64"
      ]
     },
     "execution_count": 739,
     "metadata": {},
     "output_type": "execute_result"
    }
   ],
   "source": [
    "# Identify the missing values under each column\n",
    "data.isnull().sum()"
   ]
  },
  {
   "cell_type": "code",
   "execution_count": 740,
   "id": "ba02b0ee",
   "metadata": {},
   "outputs": [
    {
     "data": {
      "text/plain": [
       "149"
      ]
     },
     "execution_count": 740,
     "metadata": {},
     "output_type": "execute_result"
    }
   ],
   "source": [
    "# Total missing values\n",
    "data.isnull().sum().sum()"
   ]
  },
  {
   "cell_type": "code",
   "execution_count": 741,
   "id": "878fa36b",
   "metadata": {},
   "outputs": [
    {
     "data": {
      "text/plain": [
       "24.267100977198698"
      ]
     },
     "execution_count": 741,
     "metadata": {},
     "output_type": "execute_result"
    }
   ],
   "source": [
    "# % missing values\n",
    "(data.isnull().sum().sum()/len(data))*100"
   ]
  },
  {
   "cell_type": "code",
   "execution_count": 742,
   "id": "ae78f7e8",
   "metadata": {},
   "outputs": [
    {
     "data": {
      "text/html": [
       "<div>\n",
       "<style scoped>\n",
       "    .dataframe tbody tr th:only-of-type {\n",
       "        vertical-align: middle;\n",
       "    }\n",
       "\n",
       "    .dataframe tbody tr th {\n",
       "        vertical-align: top;\n",
       "    }\n",
       "\n",
       "    .dataframe thead th {\n",
       "        text-align: right;\n",
       "    }\n",
       "</style>\n",
       "<table border=\"1\" class=\"dataframe\">\n",
       "  <thead>\n",
       "    <tr style=\"text-align: right;\">\n",
       "      <th></th>\n",
       "      <th>Total</th>\n",
       "      <th>Percent</th>\n",
       "    </tr>\n",
       "  </thead>\n",
       "  <tbody>\n",
       "    <tr>\n",
       "      <th>Credit_History</th>\n",
       "      <td>50</td>\n",
       "      <td>8.143322</td>\n",
       "    </tr>\n",
       "    <tr>\n",
       "      <th>Self_Employed</th>\n",
       "      <td>32</td>\n",
       "      <td>5.211726</td>\n",
       "    </tr>\n",
       "    <tr>\n",
       "      <th>LoanAmount</th>\n",
       "      <td>22</td>\n",
       "      <td>3.583062</td>\n",
       "    </tr>\n",
       "    <tr>\n",
       "      <th>Dependents</th>\n",
       "      <td>15</td>\n",
       "      <td>2.442997</td>\n",
       "    </tr>\n",
       "    <tr>\n",
       "      <th>Loan_Amount_Term</th>\n",
       "      <td>14</td>\n",
       "      <td>2.280130</td>\n",
       "    </tr>\n",
       "    <tr>\n",
       "      <th>Gender</th>\n",
       "      <td>13</td>\n",
       "      <td>2.117264</td>\n",
       "    </tr>\n",
       "    <tr>\n",
       "      <th>Married</th>\n",
       "      <td>3</td>\n",
       "      <td>0.488599</td>\n",
       "    </tr>\n",
       "    <tr>\n",
       "      <th>Education</th>\n",
       "      <td>0</td>\n",
       "      <td>0.000000</td>\n",
       "    </tr>\n",
       "    <tr>\n",
       "      <th>ApplicantIncome</th>\n",
       "      <td>0</td>\n",
       "      <td>0.000000</td>\n",
       "    </tr>\n",
       "    <tr>\n",
       "      <th>CoapplicantIncome</th>\n",
       "      <td>0</td>\n",
       "      <td>0.000000</td>\n",
       "    </tr>\n",
       "    <tr>\n",
       "      <th>Property_Area</th>\n",
       "      <td>0</td>\n",
       "      <td>0.000000</td>\n",
       "    </tr>\n",
       "    <tr>\n",
       "      <th>Loan_Status</th>\n",
       "      <td>0</td>\n",
       "      <td>0.000000</td>\n",
       "    </tr>\n",
       "  </tbody>\n",
       "</table>\n",
       "</div>"
      ],
      "text/plain": [
       "                   Total   Percent\n",
       "Credit_History        50  8.143322\n",
       "Self_Employed         32  5.211726\n",
       "LoanAmount            22  3.583062\n",
       "Dependents            15  2.442997\n",
       "Loan_Amount_Term      14  2.280130\n",
       "Gender                13  2.117264\n",
       "Married                3  0.488599\n",
       "Education              0  0.000000\n",
       "ApplicantIncome        0  0.000000\n",
       "CoapplicantIncome      0  0.000000\n",
       "Property_Area          0  0.000000\n",
       "Loan_Status            0  0.000000"
      ]
     },
     "execution_count": 742,
     "metadata": {},
     "output_type": "execute_result"
    }
   ],
   "source": [
    "def missing_data(data):\n",
    "    total = data.isnull().sum().sort_values(ascending = False)\n",
    "    percent = (data.isnull().sum()/data.isnull().count()*100).sort_values(ascending = False)\n",
    "    return pd.concat([total, percent], axis=1, keys=['Total', 'Percent'])\n",
    "missing_data(data)"
   ]
  },
  {
   "cell_type": "markdown",
   "id": "128981d2",
   "metadata": {},
   "source": [
    "## impute the missing data"
   ]
  },
  {
   "cell_type": "code",
   "execution_count": 743,
   "id": "346559e7",
   "metadata": {},
   "outputs": [],
   "source": [
    "# percentage of missing data whandling based on the domain knowledge\n",
    "\n",
    "# <5% - remove the rows which are having missing values (Deletion)\n",
    "\n",
    "# 5% to 10% - impute using mean, median (numeric data) or mode(non-numeric data)\n",
    "# 5% to 10% - forward fill/backward fill (is used for time-series data)\n",
    "\n",
    "# 10% to 20% - regression, KNN imputation, interpolation\n",
    "\n",
    "# >20% - drop that column / attribute based on the relevance \n",
    "# >20% - factorization, random techniques"
   ]
  },
  {
   "cell_type": "code",
   "execution_count": 744,
   "id": "6ee968c0",
   "metadata": {},
   "outputs": [
    {
     "data": {
      "text/plain": [
       "<Axes: >"
      ]
     },
     "execution_count": 744,
     "metadata": {},
     "output_type": "execute_result"
    },
    {
     "data": {
      "image/png": "[encoded data removed]",
      "text/plain": [
       "<Figure size 800x800 with 1 Axes>"
      ]
     },
     "metadata": {},
     "output_type": "display_data"
    }
   ],
   "source": [
    "# Impute with mean provided outliers are not there\n",
    "data.boxplot(figsize=(8,8))"
   ]
  },
  {
   "cell_type": "code",
   "execution_count": 745,
   "id": "a5cdd957",
   "metadata": {},
   "outputs": [],
   "source": [
    "# use median to impute the missing values for numeric attributes\n",
    "data['LoanAmount'].fillna(data['LoanAmount'].median(),inplace=True)\n",
    "data['Credit_History'].fillna(data['Credit_History'].median(),inplace=True)\n",
    "data['Loan_Amount_Term'].fillna(data['Loan_Amount_Term'].median(),inplace=True)"
   ]
  },
  {
   "cell_type": "code",
   "execution_count": 746,
   "id": "8dffeb4c",
   "metadata": {},
   "outputs": [
    {
     "data": {
      "text/plain": [
       "Gender               13\n",
       "Married               3\n",
       "Dependents           15\n",
       "Education             0\n",
       "Self_Employed        32\n",
       "ApplicantIncome       0\n",
       "CoapplicantIncome     0\n",
       "LoanAmount            0\n",
       "Loan_Amount_Term      0\n",
       "Credit_History        0\n",
       "Property_Area         0\n",
       "Loan_Status           0\n",
       "dtype: int64"
      ]
     },
     "execution_count": 746,
     "metadata": {},
     "output_type": "execute_result"
    }
   ],
   "source": [
    "data.isnull().sum()"
   ]
  },
  {
   "cell_type": "code",
   "execution_count": 747,
   "id": "cb592417",
   "metadata": {},
   "outputs": [
    {
     "name": "stdout",
     "output_type": "stream",
     "text": [
      "<class 'pandas.core.frame.DataFrame'>\n",
      "RangeIndex: 614 entries, 0 to 613\n",
      "Data columns (total 12 columns):\n",
      " #   Column             Non-Null Count  Dtype  \n",
      "---  ------             --------------  -----  \n",
      " 0   Gender             601 non-null    object \n",
      " 1   Married            611 non-null    object \n",
      " 2   Dependents         599 non-null    object \n",
      " 3   Education          614 non-null    object \n",
      " 4   Self_Employed      582 non-null    object \n",
      " 5   ApplicantIncome    614 non-null    int64  \n",
      " 6   CoapplicantIncome  614 non-null    float64\n",
      " 7   LoanAmount         614 non-null    float64\n",
      " 8   Loan_Amount_Term   614 non-null    float64\n",
      " 9   Credit_History     614 non-null    float64\n",
      " 10  Property_Area      614 non-null    object \n",
      " 11  Loan_Status        614 non-null    object \n",
      "dtypes: float64(4), int64(1), object(7)\n",
      "memory usage: 57.7+ KB\n"
     ]
    }
   ],
   "source": [
    "data.info()"
   ]
  },
  {
   "cell_type": "code",
   "execution_count": 748,
   "id": "1a32860a",
   "metadata": {},
   "outputs": [],
   "source": [
    "# use mode to impute the missing values for object type attributes\n",
    "data['Gender'].fillna(data['Gender'].mode()[0],inplace=True)\n",
    "data['Married'].fillna(data['Married'].mode()[0],inplace=True)\n",
    "data['Dependents'].fillna(data['Dependents'].mode()[0],inplace=True)\n",
    "data['Self_Employed'].fillna(data['Self_Employed'].mode()[0],inplace=True)"
   ]
  },
  {
   "cell_type": "code",
   "execution_count": 749,
   "id": "e60efb9f",
   "metadata": {},
   "outputs": [
    {
     "data": {
      "text/plain": [
       "0     360\n",
       "1     102\n",
       "2     101\n",
       "3+     51\n",
       "Name: Dependents, dtype: int64"
      ]
     },
     "execution_count": 749,
     "metadata": {},
     "output_type": "execute_result"
    }
   ],
   "source": [
    "data['Dependents'].value_counts()"
   ]
  },
  {
   "cell_type": "code",
   "execution_count": 750,
   "id": "9ecdab25",
   "metadata": {},
   "outputs": [
    {
     "data": {
      "text/plain": [
       "Gender               0\n",
       "Married              0\n",
       "Dependents           0\n",
       "Education            0\n",
       "Self_Employed        0\n",
       "ApplicantIncome      0\n",
       "CoapplicantIncome    0\n",
       "LoanAmount           0\n",
       "Loan_Amount_Term     0\n",
       "Credit_History       0\n",
       "Property_Area        0\n",
       "Loan_Status          0\n",
       "dtype: int64"
      ]
     },
     "execution_count": 750,
     "metadata": {},
     "output_type": "execute_result"
    }
   ],
   "source": [
    "data.isnull().sum()"
   ]
  },
  {
   "cell_type": "code",
   "execution_count": 751,
   "id": "664094b1",
   "metadata": {},
   "outputs": [
    {
     "data": {
      "text/plain": [
       "0    10\n",
       "1    30\n",
       "Name: 0, dtype: int64"
      ]
     },
     "execution_count": 751,
     "metadata": {},
     "output_type": "execute_result"
    }
   ],
   "source": [
    "d=pd.DataFrame([10,20,30,30,10])\n",
    "d.mode()[0]"
   ]
  },
  {
   "cell_type": "code",
   "execution_count": 752,
   "id": "cb105e1c",
   "metadata": {},
   "outputs": [
    {
     "data": {
      "text/html": [
       "<div>\n",
       "<style scoped>\n",
       "    .dataframe tbody tr th:only-of-type {\n",
       "        vertical-align: middle;\n",
       "    }\n",
       "\n",
       "    .dataframe tbody tr th {\n",
       "        vertical-align: top;\n",
       "    }\n",
       "\n",
       "    .dataframe thead th {\n",
       "        text-align: right;\n",
       "    }\n",
       "</style>\n",
       "<table border=\"1\" class=\"dataframe\">\n",
       "  <thead>\n",
       "    <tr style=\"text-align: right;\">\n",
       "      <th></th>\n",
       "      <th>0</th>\n",
       "    </tr>\n",
       "  </thead>\n",
       "  <tbody>\n",
       "    <tr>\n",
       "      <th>0</th>\n",
       "      <td>10.0</td>\n",
       "    </tr>\n",
       "    <tr>\n",
       "      <th>1</th>\n",
       "      <td>20.0</td>\n",
       "    </tr>\n",
       "    <tr>\n",
       "      <th>2</th>\n",
       "      <td>30.0</td>\n",
       "    </tr>\n",
       "    <tr>\n",
       "      <th>3</th>\n",
       "      <td>30.0</td>\n",
       "    </tr>\n",
       "    <tr>\n",
       "      <th>4</th>\n",
       "      <td>10.0</td>\n",
       "    </tr>\n",
       "    <tr>\n",
       "      <th>5</th>\n",
       "      <td>NaN</td>\n",
       "    </tr>\n",
       "    <tr>\n",
       "      <th>6</th>\n",
       "      <td>NaN</td>\n",
       "    </tr>\n",
       "  </tbody>\n",
       "</table>\n",
       "</div>"
      ],
      "text/plain": [
       "      0\n",
       "0  10.0\n",
       "1  20.0\n",
       "2  30.0\n",
       "3  30.0\n",
       "4  10.0\n",
       "5   NaN\n",
       "6   NaN"
      ]
     },
     "execution_count": 752,
     "metadata": {},
     "output_type": "execute_result"
    }
   ],
   "source": [
    "d=pd.DataFrame([10,20,30,30,10,np.nan,np.nan])\n",
    "d"
   ]
  },
  {
   "cell_type": "code",
   "execution_count": 753,
   "id": "58f04c9b",
   "metadata": {},
   "outputs": [
    {
     "data": {
      "text/html": [
       "<div>\n",
       "<style scoped>\n",
       "    .dataframe tbody tr th:only-of-type {\n",
       "        vertical-align: middle;\n",
       "    }\n",
       "\n",
       "    .dataframe tbody tr th {\n",
       "        vertical-align: top;\n",
       "    }\n",
       "\n",
       "    .dataframe thead th {\n",
       "        text-align: right;\n",
       "    }\n",
       "</style>\n",
       "<table border=\"1\" class=\"dataframe\">\n",
       "  <thead>\n",
       "    <tr style=\"text-align: right;\">\n",
       "      <th></th>\n",
       "      <th>0</th>\n",
       "    </tr>\n",
       "  </thead>\n",
       "  <tbody>\n",
       "    <tr>\n",
       "      <th>0</th>\n",
       "      <td>10.0</td>\n",
       "    </tr>\n",
       "    <tr>\n",
       "      <th>1</th>\n",
       "      <td>20.0</td>\n",
       "    </tr>\n",
       "    <tr>\n",
       "      <th>2</th>\n",
       "      <td>30.0</td>\n",
       "    </tr>\n",
       "    <tr>\n",
       "      <th>3</th>\n",
       "      <td>30.0</td>\n",
       "    </tr>\n",
       "    <tr>\n",
       "      <th>4</th>\n",
       "      <td>10.0</td>\n",
       "    </tr>\n",
       "    <tr>\n",
       "      <th>5</th>\n",
       "      <td>10.0</td>\n",
       "    </tr>\n",
       "    <tr>\n",
       "      <th>6</th>\n",
       "      <td>10.0</td>\n",
       "    </tr>\n",
       "  </tbody>\n",
       "</table>\n",
       "</div>"
      ],
      "text/plain": [
       "      0\n",
       "0  10.0\n",
       "1  20.0\n",
       "2  30.0\n",
       "3  30.0\n",
       "4  10.0\n",
       "5  10.0\n",
       "6  10.0"
      ]
     },
     "execution_count": 753,
     "metadata": {},
     "output_type": "execute_result"
    }
   ],
   "source": [
    "d.fillna(d.mode()[0],inplace=True)\n",
    "d"
   ]
  },
  {
   "cell_type": "code",
   "execution_count": 754,
   "id": "d2e244a2",
   "metadata": {},
   "outputs": [
    {
     "name": "stdout",
     "output_type": "stream",
     "text": [
      "[15. 13. 18.  7. 13. 16. 11. 21.  5. 15. 10.  9. 13.]\n"
     ]
    }
   ],
   "source": [
    "from sklearn.impute import SimpleImputer\n",
    "\n",
    "# Create the array\n",
    "scores = np.array([15, np.nan, 18, 7, 13, 16, 11, 21, 5, 15, 10, 9, np.nan])\n",
    "\n",
    "\n",
    "# Create a SimpleImputer object with the mean strategy\n",
    "imputer = SimpleImputer(strategy='median')\n",
    "\n",
    "# # Fit and transform the imputer on the scores array\n",
    "imputed_scores = imputer.fit_transform(scores.reshape(-1,1))\n",
    "\n",
    "\n",
    "# # Print the imputed scores in one dimension\n",
    "print(imputed_scores.flatten())"
   ]
  },
  {
   "cell_type": "markdown",
   "id": "0951d01e",
   "metadata": {},
   "source": [
    "## Outlier detection ways\n",
    "- box plot or histogram\n",
    "- Z-score\n",
    "- IQR (Inter Quartile Range)"
   ]
  },
  {
   "cell_type": "code",
   "execution_count": 755,
   "id": "d6ba37c2",
   "metadata": {},
   "outputs": [],
   "source": [
    "scores=np.array([15, 101, 18, 7, 13, 16, 11, 21, 5, 15, 10, 9,-201])"
   ]
  },
  {
   "cell_type": "code",
   "execution_count": 756,
   "id": "9585ad81",
   "metadata": {},
   "outputs": [
    {
     "data": {
      "text/plain": [
       "array([  15,  101,   18,    7,   13,   16,   11,   21,    5,   15,   10,\n",
       "          9, -201])"
      ]
     },
     "execution_count": 756,
     "metadata": {},
     "output_type": "execute_result"
    }
   ],
   "source": [
    "scores"
   ]
  },
  {
   "cell_type": "code",
   "execution_count": 757,
   "id": "4427b26a",
   "metadata": {},
   "outputs": [
    {
     "data": {
      "text/plain": [
       "<Axes: >"
      ]
     },
     "execution_count": 757,
     "metadata": {},
     "output_type": "execute_result"
    },
    {
     "data": {
      "image/png": "[encoded data removed]",
      "text/plain": [
       "<Figure size 640x480 with 1 Axes>"
      ]
     },
     "metadata": {},
     "output_type": "display_data"
    }
   ],
   "source": [
    "# Box plot\n",
    "sns.boxplot(scores)"
   ]
  },
  {
   "cell_type": "code",
   "execution_count": 758,
   "id": "0f7e0388",
   "metadata": {},
   "outputs": [
    {
     "data": {
      "text/plain": [
       "<Axes: ylabel='Count'>"
      ]
     },
     "execution_count": 758,
     "metadata": {},
     "output_type": "execute_result"
    },
    {
     "data": {
      "image/png": "[encoded data removed]",
      "text/plain": [
       "<Figure size 640x480 with 1 Axes>"
      ]
     },
     "metadata": {},
     "output_type": "display_data"
    }
   ],
   "source": [
    "# histogram\n",
    "sns.histplot(scores)"
   ]
  },
  {
   "cell_type": "code",
   "execution_count": 759,
   "id": "ac693adc",
   "metadata": {},
   "outputs": [
    {
     "name": "stdout",
     "output_type": "stream",
     "text": [
      "[-3.21149257  0.03026284  0.06173619  0.09320955  0.10894622  0.1246829\n",
      "  0.15615625  0.18762961  0.18762961  0.20336628  0.23483964  0.28204967\n",
      "  1.54098381]\n",
      "outliers [-201  101]\n"
     ]
    }
   ],
   "source": [
    "# Z-score\n",
    "# Z=(x-mean)/std_dev\n",
    "\n",
    "scores=np.array([15, 101, 18, 7, 13, 16, 11, 21, 5, 15, 10, 9,-201])\n",
    "scores=np.sort(scores)\n",
    "mean=np.mean(scores)\n",
    "std_dev=np.std(scores)\n",
    "z_scores=(scores-mean)/std_dev\n",
    "print(z_scores)\n",
    "\n",
    "outliers=scores[np.abs(z_scores)>=1.5]\n",
    "print(\"outliers\",outliers)\n"
   ]
  },
  {
   "cell_type": "markdown",
   "id": "d939de2b",
   "metadata": {},
   "source": [
    "- if z-score  of a value is less than -3 or greater than +3 then the value associated with the z-score is considered as an outlier"
   ]
  },
  {
   "cell_type": "code",
   "execution_count": 760,
   "id": "a285615e",
   "metadata": {},
   "outputs": [
    {
     "data": {
      "text/plain": [
       "<Axes: >"
      ]
     },
     "execution_count": 760,
     "metadata": {},
     "output_type": "execute_result"
    },
    {
     "data": {
      "image/png": "[encoded data removed]",
      "text/plain": [
       "<Figure size 640x480 with 1 Axes>"
      ]
     },
     "metadata": {},
     "output_type": "display_data"
    }
   ],
   "source": [
    "sns.boxplot(scores)"
   ]
  },
  {
   "cell_type": "code",
   "execution_count": 761,
   "id": "c3fd1304",
   "metadata": {},
   "outputs": [
    {
     "name": "stdout",
     "output_type": "stream",
     "text": [
      "9.0 16.0 -1.5 26.5\n",
      "[-201  101]\n"
     ]
    }
   ],
   "source": [
    "# IQR\n",
    "# IQR=Q3-Q1\n",
    "Q1=np.quantile(scores,0.25)\n",
    "Q3=np.quantile(scores,0.75)\n",
    "IQR=Q3-Q1\n",
    "\n",
    "UB=Q3+1.5*IQR\n",
    "LB=Q1-1.5*IQR\n",
    "\n",
    "print(Q1,Q3,LB,UB)\n",
    "\n",
    "outliers=scores[(scores<=LB) | (scores>=UB)]\n",
    "print(outliers)"
   ]
  },
  {
   "cell_type": "code",
   "execution_count": 762,
   "id": "aec38903",
   "metadata": {},
   "outputs": [],
   "source": [
    "# Handling Outliers\n",
    "# Remove the outliers considering the data imbalance\n",
    "# Extending the IQR \n",
    "# Mean/Median used for imputation\n",
    "# use percentiles (10th , 90th) for imputing"
   ]
  },
  {
   "cell_type": "code",
   "execution_count": 763,
   "id": "d118ea69",
   "metadata": {},
   "outputs": [
    {
     "data": {
      "text/plain": [
       "<Axes: >"
      ]
     },
     "execution_count": 763,
     "metadata": {},
     "output_type": "execute_result"
    },
    {
     "data": {
      "image/png": "[encoded data removed]",
      "text/plain": [
       "<Figure size 640x480 with 1 Axes>"
      ]
     },
     "metadata": {},
     "output_type": "display_data"
    }
   ],
   "source": [
    "sns.boxplot(data=data['LoanAmount'])"
   ]
  },
  {
   "cell_type": "code",
   "execution_count": 764,
   "id": "12fd6d4c",
   "metadata": {},
   "outputs": [
    {
     "name": "stdout",
     "output_type": "stream",
     "text": [
      "19\n"
     ]
    }
   ],
   "source": [
    "# Remove the outliers\n",
    "# IQR=Q3-Q1\n",
    "Q1=np.quantile(data['LoanAmount'],0.25)\n",
    "Q3=np.quantile(data['LoanAmount'],0.75)\n",
    "IQR=Q3-Q1\n",
    "\n",
    "UB=Q3+3*IQR\n",
    "LB=Q1-3*IQR\n",
    "\n",
    "#print(Q1,Q3,LB,UB)\n",
    "\n",
    "outliers=data[(data['LoanAmount']<=LB) | (data['LoanAmount']>=UB)]\n",
    "print(len(outliers))"
   ]
  },
  {
   "cell_type": "code",
   "execution_count": 765,
   "id": "1c006a65",
   "metadata": {},
   "outputs": [
    {
     "name": "stdout",
     "output_type": "stream",
     "text": [
      "595\n"
     ]
    }
   ],
   "source": [
    "not_outliers=data[(data['LoanAmount']>LB) & (data['LoanAmount']<UB)]\n",
    "print(len(not_outliers))"
   ]
  },
  {
   "cell_type": "code",
   "execution_count": 766,
   "id": "99819393",
   "metadata": {},
   "outputs": [
    {
     "data": {
      "text/plain": [
       "<Axes: >"
      ]
     },
     "execution_count": 766,
     "metadata": {},
     "output_type": "execute_result"
    },
    {
     "data": {
      "image/png": "[encoded data removed]",
      "text/plain": [
       "<Figure size 640x480 with 1 Axes>"
      ]
     },
     "metadata": {},
     "output_type": "display_data"
    }
   ],
   "source": [
    "sns.boxplot(data=not_outliers['LoanAmount'])"
   ]
  },
  {
   "cell_type": "markdown",
   "id": "107e3c22",
   "metadata": {},
   "source": [
    "## How to handle outliers"
   ]
  },
  {
   "cell_type": "code",
   "execution_count": 767,
   "id": "198470fa",
   "metadata": {},
   "outputs": [],
   "source": [
    "# Remove the outliers: if they are due to data entry error or they are not part of the data distribution\n",
    "# Tranformations: log-tranform in case of skewed data use \n",
    "# Binning / discretization: grouping the data into bins"
   ]
  },
  {
   "cell_type": "code",
   "execution_count": 768,
   "id": "b4ebbd7a",
   "metadata": {},
   "outputs": [
    {
     "data": {
      "application/vnd.plotly.v1+json": {
       "config": {
        "plotlyServerURL": "https://plot.ly"
       },
       "data": [
        {
         "alignmentgroup": "True",
         "hovertemplate": "LoanAmount=%{x}<extra></extra>",
         "legendgroup": "",
         "marker": {
          "color": "#636efa"
         },
         "name": "",
         "notched": false,
         "offsetgroup": "",
         "orientation": "h",
         "showlegend": false,
         "type": "box",
         "x": [
          128,
          128,
          66,
          120,
          141,
          267,
          95,
          158,
          168,
          349,
          70,
          109,
          200,
          114,
          17,
          125,
          100,
          76,
          133,
          115,
          104,
          315,
          116,
          112,
          151,
          191,
          122,
          110,
          35,
          120,
          201,
          74,
          106,
          114,
          320,
          128,
          100,
          144,
          184,
          110,
          80,
          47,
          75,
          134,
          96,
          88,
          44,
          144,
          120,
          144,
          100,
          120,
          112,
          134,
          286,
          97,
          96,
          135,
          180,
          144,
          120,
          99,
          165,
          128,
          116,
          258,
          126,
          312,
          125,
          136,
          172,
          97,
          81,
          95,
          187,
          113,
          176,
          110,
          180,
          130,
          111,
          128,
          167,
          265,
          50,
          136,
          99,
          104,
          210,
          175,
          131,
          188,
          81,
          122,
          25,
          128,
          137,
          50,
          115,
          131,
          133,
          151,
          128,
          128,
          160,
          100,
          225,
          120,
          216,
          94,
          136,
          139,
          152,
          128,
          118,
          185,
          154,
          85,
          175,
          259,
          180,
          44,
          137,
          81,
          194,
          93,
          370,
          128,
          160,
          182,
          650,
          74,
          70,
          25,
          102,
          290,
          84,
          88,
          242,
          129,
          185,
          168,
          175,
          122,
          187,
          100,
          70,
          30,
          225,
          125,
          118,
          152,
          244,
          113,
          50,
          600,
          160,
          187,
          120,
          255,
          98,
          275,
          121,
          158,
          75,
          182,
          112,
          129,
          63,
          200,
          95,
          700,
          81,
          187,
          87,
          116,
          101,
          495,
          116,
          102,
          180,
          67,
          73,
          260,
          108,
          120,
          66,
          58,
          168,
          188,
          48,
          164,
          160,
          76,
          120,
          170,
          187,
          120,
          113,
          83,
          90,
          166,
          128,
          135,
          124,
          120,
          80,
          55,
          59,
          127,
          214,
          128,
          240,
          130,
          137,
          100,
          135,
          131,
          72,
          127,
          60,
          116,
          144,
          175,
          128,
          170,
          138,
          210,
          158,
          200,
          104,
          42,
          120,
          280,
          140,
          170,
          255,
          122,
          112,
          96,
          120,
          140,
          155,
          108,
          123,
          120,
          112,
          137,
          123,
          90,
          201,
          138,
          104,
          279,
          192,
          255,
          115,
          94,
          304,
          128,
          330,
          134,
          155,
          120,
          128,
          151,
          150,
          160,
          135,
          90,
          30,
          136,
          126,
          150,
          90,
          115,
          207,
          80,
          436,
          124,
          158,
          112,
          78,
          54,
          128,
          89,
          99,
          120,
          115,
          187,
          139,
          127,
          134,
          143,
          172,
          110,
          200,
          135,
          151,
          113,
          93,
          105,
          132,
          96,
          140,
          128,
          135,
          104,
          480,
          185,
          84,
          111,
          56,
          144,
          159,
          111,
          120,
          88,
          112,
          155,
          115,
          124,
          128,
          132,
          300,
          376,
          130,
          184,
          110,
          67,
          117,
          98,
          71,
          490,
          182,
          70,
          160,
          176,
          128,
          71,
          173,
          46,
          158,
          74,
          125,
          160,
          152,
          126,
          259,
          187,
          228,
          308,
          95,
          105,
          130,
          116,
          165,
          67,
          100,
          200,
          81,
          236,
          130,
          95,
          141,
          133,
          96,
          124,
          175,
          570,
          55,
          155,
          380,
          111,
          110,
          120,
          130,
          130,
          71,
          130,
          128,
          296,
          156,
          128,
          100,
          113,
          132,
          128,
          136,
          125,
          185,
          275,
          120,
          113,
          113,
          135,
          71,
          95,
          109,
          103,
          45,
          65,
          103,
          53,
          194,
          115,
          115,
          66,
          152,
          360,
          62,
          160,
          218,
          110,
          178,
          60,
          160,
          239,
          112,
          138,
          138,
          80,
          100,
          110,
          96,
          121,
          81,
          133,
          87,
          60,
          150,
          105,
          405,
          143,
          100,
          128,
          50,
          128,
          187,
          138,
          187,
          180,
          148,
          152,
          175,
          130,
          110,
          55,
          150,
          190,
          125,
          60,
          149,
          90,
          84,
          96,
          118,
          173,
          136,
          160,
          160,
          128,
          153,
          132,
          98,
          140,
          70,
          110,
          98,
          110,
          162,
          113,
          100,
          93,
          162,
          150,
          230,
          132,
          86,
          128,
          154,
          113,
          128,
          234,
          246,
          131,
          80,
          500,
          160,
          75,
          96,
          186,
          110,
          225,
          119,
          105,
          107,
          111,
          95,
          209,
          113,
          100,
          208,
          138,
          124,
          243,
          480,
          96,
          188,
          40,
          100,
          250,
          148,
          70,
          311,
          150,
          113,
          123,
          185,
          95,
          45,
          55,
          100,
          480,
          128,
          400,
          110,
          161,
          94,
          130,
          216,
          100,
          110,
          196,
          125,
          126,
          324,
          107,
          66,
          157,
          140,
          99,
          95,
          128,
          102,
          155,
          80,
          145,
          103,
          110,
          128,
          128,
          158,
          181,
          132,
          26,
          84,
          260,
          162,
          182,
          108,
          600,
          211,
          132,
          258,
          120,
          70,
          123,
          9,
          104,
          186,
          165,
          275,
          187,
          150,
          108,
          136,
          110,
          107,
          161,
          205,
          90,
          36,
          61,
          146,
          172,
          104,
          70,
          94,
          106,
          56,
          205,
          292,
          142,
          260,
          110,
          187,
          88,
          180,
          192,
          350,
          155,
          128,
          172,
          496,
          128,
          173,
          157,
          108,
          71,
          40,
          253,
          187,
          133
         ],
         "x0": " ",
         "xaxis": "x",
         "y0": " ",
         "yaxis": "y"
        }
       ],
       "layout": {
        "boxmode": "group",
        "legend": {
         "tracegroupgap": 0
        },
        "margin": {
         "t": 60
        },
        "template": {
         "data": {
          "bar": [
           {
            "error_x": {
             "color": "#2a3f5f"
            },
            "error_y": {
             "color": "#2a3f5f"
            },
            "marker": {
             "line": {
              "color": "#E5ECF6",
              "width": 0.5
             },
             "pattern": {
              "fillmode": "overlay",
              "size": 10,
              "solidity": 0.2
             }
            },
            "type": "bar"
           }
          ],
          "barpolar": [
           {
            "marker": {
             "line": {
              "color": "#E5ECF6",
              "width": 0.5
             },
             "pattern": {
              "fillmode": "overlay",
              "size": 10,
              "solidity": 0.2
             }
            },
            "type": "barpolar"
           }
          ],
          "carpet": [
           {
            "aaxis": {
             "endlinecolor": "#2a3f5f",
             "gridcolor": "white",
             "linecolor": "white",
             "minorgridcolor": "white",
             "startlinecolor": "#2a3f5f"
            },
            "baxis": {
             "endlinecolor": "#2a3f5f",
             "gridcolor": "white",
             "linecolor": "white",
             "minorgridcolor": "white",
             "startlinecolor": "#2a3f5f"
            },
            "type": "carpet"
           }
          ],
          "choropleth": [
           {
            "colorbar": {
             "outlinewidth": 0,
             "ticks": ""
            },
            "type": "choropleth"
           }
          ],
          "contour": [
           {
            "colorbar": {
             "outlinewidth": 0,
             "ticks": ""
            },
            "colorscale": [
             [
              0,
              "#0d0887"
             ],
             [
              0.1111111111111111,
              "#46039f"
             ],
             [
              0.2222222222222222,
              "#7201a8"
             ],
             [
              0.3333333333333333,
              "#9c179e"
             ],
             [
              0.4444444444444444,
              "#bd3786"
             ],
             [
              0.5555555555555556,
              "#d8576b"
             ],
             [
              0.6666666666666666,
              "#ed7953"
             ],
             [
              0.7777777777777778,
              "#fb9f3a"
             ],
             [
              0.8888888888888888,
              "#fdca26"
             ],
             [
              1,
              "#f0f921"
             ]
            ],
            "type": "contour"
           }
          ],
          "contourcarpet": [
           {
            "colorbar": {
             "outlinewidth": 0,
             "ticks": ""
            },
            "type": "contourcarpet"
           }
          ],
          "heatmap": [
           {
            "colorbar": {
             "outlinewidth": 0,
             "ticks": ""
            },
            "colorscale": [
             [
              0,
              "#0d0887"
             ],
             [
              0.1111111111111111,
              "#46039f"
             ],
             [
              0.2222222222222222,
              "#7201a8"
             ],
             [
              0.3333333333333333,
              "#9c179e"
             ],
             [
              0.4444444444444444,
              "#bd3786"
             ],
             [
              0.5555555555555556,
              "#d8576b"
             ],
             [
              0.6666666666666666,
              "#ed7953"
             ],
             [
              0.7777777777777778,
              "#fb9f3a"
             ],
             [
              0.8888888888888888,
              "#fdca26"
             ],
             [
              1,
              "#f0f921"
             ]
            ],
            "type": "heatmap"
           }
          ],
          "heatmapgl": [
           {
            "colorbar": {
             "outlinewidth": 0,
             "ticks": ""
            },
            "colorscale": [
             [
              0,
              "#0d0887"
             ],
             [
              0.1111111111111111,
              "#46039f"
             ],
             [
              0.2222222222222222,
              "#7201a8"
             ],
             [
              0.3333333333333333,
              "#9c179e"
             ],
             [
              0.4444444444444444,
              "#bd3786"
             ],
             [
              0.5555555555555556,
              "#d8576b"
             ],
             [
              0.6666666666666666,
              "#ed7953"
             ],
             [
              0.7777777777777778,
              "#fb9f3a"
             ],
             [
              0.8888888888888888,
              "#fdca26"
             ],
             [
              1,
              "#f0f921"
             ]
            ],
            "type": "heatmapgl"
           }
          ],
          "histogram": [
           {
            "marker": {
             "pattern": {
              "fillmode": "overlay",
              "size": 10,
              "solidity": 0.2
             }
            },
            "type": "histogram"
           }
          ],
          "histogram2d": [
           {
            "colorbar": {
             "outlinewidth": 0,
             "ticks": ""
            },
            "colorscale": [
             [
              0,
              "#0d0887"
             ],
             [
              0.1111111111111111,
              "#46039f"
             ],
             [
              0.2222222222222222,
              "#7201a8"
             ],
             [
              0.3333333333333333,
              "#9c179e"
             ],
             [
              0.4444444444444444,
              "#bd3786"
             ],
             [
              0.5555555555555556,
              "#d8576b"
             ],
             [
              0.6666666666666666,
              "#ed7953"
             ],
             [
              0.7777777777777778,
              "#fb9f3a"
             ],
             [
              0.8888888888888888,
              "#fdca26"
             ],
             [
              1,
              "#f0f921"
             ]
            ],
            "type": "histogram2d"
           }
          ],
          "histogram2dcontour": [
           {
            "colorbar": {
             "outlinewidth": 0,
             "ticks": ""
            },
            "colorscale": [
             [
              0,
              "#0d0887"
             ],
             [
              0.1111111111111111,
              "#46039f"
             ],
             [
              0.2222222222222222,
              "#7201a8"
             ],
             [
              0.3333333333333333,
              "#9c179e"
             ],
             [
              0.4444444444444444,
              "#bd3786"
             ],
             [
              0.5555555555555556,
              "#d8576b"
             ],
             [
              0.6666666666666666,
              "#ed7953"
             ],
             [
              0.7777777777777778,
              "#fb9f3a"
             ],
             [
              0.8888888888888888,
              "#fdca26"
             ],
             [
              1,
              "#f0f921"
             ]
            ],
            "type": "histogram2dcontour"
           }
          ],
          "mesh3d": [
           {
            "colorbar": {
             "outlinewidth": 0,
             "ticks": ""
            },
            "type": "mesh3d"
           }
          ],
          "parcoords": [
           {
            "line": {
             "colorbar": {
              "outlinewidth": 0,
              "ticks": ""
             }
            },
            "type": "parcoords"
           }
          ],
          "pie": [
           {
            "automargin": true,
            "type": "pie"
           }
          ],
          "scatter": [
           {
            "fillpattern": {
             "fillmode": "overlay",
             "size": 10,
             "solidity": 0.2
            },
            "type": "scatter"
           }
          ],
          "scatter3d": [
           {
            "line": {
             "colorbar": {
              "outlinewidth": 0,
              "ticks": ""
             }
            },
            "marker": {
             "colorbar": {
              "outlinewidth": 0,
              "ticks": ""
             }
            },
            "type": "scatter3d"
           }
          ],
          "scattercarpet": [
           {
            "marker": {
             "colorbar": {
              "outlinewidth": 0,
              "ticks": ""
             }
            },
            "type": "scattercarpet"
           }
          ],
          "scattergeo": [
           {
            "marker": {
             "colorbar": {
              "outlinewidth": 0,
              "ticks": ""
             }
            },
            "type": "scattergeo"
           }
          ],
          "scattergl": [
           {
            "marker": {
             "colorbar": {
              "outlinewidth": 0,
              "ticks": ""
             }
            },
            "type": "scattergl"
           }
          ],
          "scattermapbox": [
           {
            "marker": {
             "colorbar": {
              "outlinewidth": 0,
              "ticks": ""
             }
            },
            "type": "scattermapbox"
           }
          ],
          "scatterpolar": [
           {
            "marker": {
             "colorbar": {
              "outlinewidth": 0,
              "ticks": ""
             }
            },
            "type": "scatterpolar"
           }
          ],
          "scatterpolargl": [
           {
            "marker": {
             "colorbar": {
              "outlinewidth": 0,
              "ticks": ""
             }
            },
            "type": "scatterpolargl"
           }
          ],
          "scatterternary": [
           {
            "marker": {
             "colorbar": {
              "outlinewidth": 0,
              "ticks": ""
             }
            },
            "type": "scatterternary"
           }
          ],
          "surface": [
           {
            "colorbar": {
             "outlinewidth": 0,
             "ticks": ""
            },
            "colorscale": [
             [
              0,
              "#0d0887"
             ],
             [
              0.1111111111111111,
              "#46039f"
             ],
             [
              0.2222222222222222,
              "#7201a8"
             ],
             [
              0.3333333333333333,
              "#9c179e"
             ],
             [
              0.4444444444444444,
              "#bd3786"
             ],
             [
              0.5555555555555556,
              "#d8576b"
             ],
             [
              0.6666666666666666,
              "#ed7953"
             ],
             [
              0.7777777777777778,
              "#fb9f3a"
             ],
             [
              0.8888888888888888,
              "#fdca26"
             ],
             [
              1,
              "#f0f921"
             ]
            ],
            "type": "surface"
           }
          ],
          "table": [
           {
            "cells": {
             "fill": {
              "color": "#EBF0F8"
             },
             "line": {
              "color": "white"
             }
            },
            "header": {
             "fill": {
              "color": "#C8D4E3"
             },
             "line": {
              "color": "white"
             }
            },
            "type": "table"
           }
          ]
         },
         "layout": {
          "annotationdefaults": {
           "arrowcolor": "#2a3f5f",
           "arrowhead": 0,
           "arrowwidth": 1
          },
          "autotypenumbers": "strict",
          "coloraxis": {
           "colorbar": {
            "outlinewidth": 0,
            "ticks": ""
           }
          },
          "colorscale": {
           "diverging": [
            [
             0,
             "#8e0152"
            ],
            [
             0.1,
             "#c51b7d"
            ],
            [
             0.2,
             "#de77ae"
            ],
            [
             0.3,
             "#f1b6da"
            ],
            [
             0.4,
             "#fde0ef"
            ],
            [
             0.5,
             "#f7f7f7"
            ],
            [
             0.6,
             "#e6f5d0"
            ],
            [
             0.7,
             "#b8e186"
            ],
            [
             0.8,
             "#7fbc41"
            ],
            [
             0.9,
             "#4d9221"
            ],
            [
             1,
             "#276419"
            ]
           ],
           "sequential": [
            [
             0,
             "#0d0887"
            ],
            [
             0.1111111111111111,
             "#46039f"
            ],
            [
             0.2222222222222222,
             "#7201a8"
            ],
            [
             0.3333333333333333,
             "#9c179e"
            ],
            [
             0.4444444444444444,
             "#bd3786"
            ],
            [
             0.5555555555555556,
             "#d8576b"
            ],
            [
             0.6666666666666666,
             "#ed7953"
            ],
            [
             0.7777777777777778,
             "#fb9f3a"
            ],
            [
             0.8888888888888888,
             "#fdca26"
            ],
            [
             1,
             "#f0f921"
            ]
           ],
           "sequentialminus": [
            [
             0,
             "#0d0887"
            ],
            [
             0.1111111111111111,
             "#46039f"
            ],
            [
             0.2222222222222222,
             "#7201a8"
            ],
            [
             0.3333333333333333,
             "#9c179e"
            ],
            [
             0.4444444444444444,
             "#bd3786"
            ],
            [
             0.5555555555555556,
             "#d8576b"
            ],
            [
             0.6666666666666666,
             "#ed7953"
            ],
            [
             0.7777777777777778,
             "#fb9f3a"
            ],
            [
             0.8888888888888888,
             "#fdca26"
            ],
            [
             1,
             "#f0f921"
            ]
           ]
          },
          "colorway": [
           "#636efa",
           "#EF553B",
           "#00cc96",
           "#ab63fa",
           "#FFA15A",
           "#19d3f3",
           "#FF6692",
           "#B6E880",
           "#FF97FF",
           "#FECB52"
          ],
          "font": {
           "color": "#2a3f5f"
          },
          "geo": {
           "bgcolor": "white",
           "lakecolor": "white",
           "landcolor": "#E5ECF6",
           "showlakes": true,
           "showland": true,
           "subunitcolor": "white"
          },
          "hoverlabel": {
           "align": "left"
          },
          "hovermode": "closest",
          "mapbox": {
           "style": "light"
          },
          "paper_bgcolor": "white",
          "plot_bgcolor": "#E5ECF6",
          "polar": {
           "angularaxis": {
            "gridcolor": "white",
            "linecolor": "white",
            "ticks": ""
           },
           "bgcolor": "#E5ECF6",
           "radialaxis": {
            "gridcolor": "white",
            "linecolor": "white",
            "ticks": ""
           }
          },
          "scene": {
           "xaxis": {
            "backgroundcolor": "#E5ECF6",
            "gridcolor": "white",
            "gridwidth": 2,
            "linecolor": "white",
            "showbackground": true,
            "ticks": "",
            "zerolinecolor": "white"
           },
           "yaxis": {
            "backgroundcolor": "#E5ECF6",
            "gridcolor": "white",
            "gridwidth": 2,
            "linecolor": "white",
            "showbackground": true,
            "ticks": "",
            "zerolinecolor": "white"
           },
           "zaxis": {
            "backgroundcolor": "#E5ECF6",
            "gridcolor": "white",
            "gridwidth": 2,
            "linecolor": "white",
            "showbackground": true,
            "ticks": "",
            "zerolinecolor": "white"
           }
          },
          "shapedefaults": {
           "line": {
            "color": "#2a3f5f"
           }
          },
          "ternary": {
           "aaxis": {
            "gridcolor": "white",
            "linecolor": "white",
            "ticks": ""
           },
           "baxis": {
            "gridcolor": "white",
            "linecolor": "white",
            "ticks": ""
           },
           "bgcolor": "#E5ECF6",
           "caxis": {
            "gridcolor": "white",
            "linecolor": "white",
            "ticks": ""
           }
          },
          "title": {
           "x": 0.05
          },
          "xaxis": {
           "automargin": true,
           "gridcolor": "white",
           "linecolor": "white",
           "ticks": "",
           "title": {
            "standoff": 15
           },
           "zerolinecolor": "white",
           "zerolinewidth": 2
          },
          "yaxis": {
           "automargin": true,
           "gridcolor": "white",
           "linecolor": "white",
           "ticks": "",
           "title": {
            "standoff": 15
           },
           "zerolinecolor": "white",
           "zerolinewidth": 2
          }
         }
        },
        "xaxis": {
         "anchor": "y",
         "domain": [
          0,
          1
         ],
         "title": {
          "text": "LoanAmount"
         }
        },
        "yaxis": {
         "anchor": "x",
         "domain": [
          0,
          1
         ]
        }
       }
      },
      "text/html": [
       "<div>                            <div id=\"4fd3497c-f737-432c-a385-e7c4fe2b56d5\" class=\"plotly-graph-div\" style=\"height:525px; width:100%;\"></div>            <script type=\"text/javascript\">                require([\"plotly\"], function(Plotly) {                    window.PLOTLYENV=window.PLOTLYENV || {};                                    if (document.getElementById(\"4fd3497c-f737-432c-a385-e7c4fe2b56d5\")) {                    Plotly.newPlot(                        \"4fd3497c-f737-432c-a385-e7c4fe2b56d5\",                        [{\"alignmentgroup\":\"True\",\"hovertemplate\":\"LoanAmount=%{x}<extra></extra>\",\"legendgroup\":\"\",\"marker\":{\"color\":\"#636efa\"},\"name\":\"\",\"notched\":false,\"offsetgroup\":\"\",\"orientation\":\"h\",\"showlegend\":false,\"x\":[128.0,128.0,66.0,120.0,141.0,267.0,95.0,158.0,168.0,349.0,70.0,109.0,200.0,114.0,17.0,125.0,100.0,76.0,133.0,115.0,104.0,315.0,116.0,112.0,151.0,191.0,122.0,110.0,35.0,120.0,201.0,74.0,106.0,114.0,320.0,128.0,100.0,144.0,184.0,110.0,80.0,47.0,75.0,134.0,96.0,88.0,44.0,144.0,120.0,144.0,100.0,120.0,112.0,134.0,286.0,97.0,96.0,135.0,180.0,144.0,120.0,99.0,165.0,128.0,116.0,258.0,126.0,312.0,125.0,136.0,172.0,97.0,81.0,95.0,187.0,113.0,176.0,110.0,180.0,130.0,111.0,128.0,167.0,265.0,50.0,136.0,99.0,104.0,210.0,175.0,131.0,188.0,81.0,122.0,25.0,128.0,137.0,50.0,115.0,131.0,133.0,151.0,128.0,128.0,160.0,100.0,225.0,120.0,216.0,94.0,136.0,139.0,152.0,128.0,118.0,185.0,154.0,85.0,175.0,259.0,180.0,44.0,137.0,81.0,194.0,93.0,370.0,128.0,160.0,182.0,650.0,74.0,70.0,25.0,102.0,290.0,84.0,88.0,242.0,129.0,185.0,168.0,175.0,122.0,187.0,100.0,70.0,30.0,225.0,125.0,118.0,152.0,244.0,113.0,50.0,600.0,160.0,187.0,120.0,255.0,98.0,275.0,121.0,158.0,75.0,182.0,112.0,129.0,63.0,200.0,95.0,700.0,81.0,187.0,87.0,116.0,101.0,495.0,116.0,102.0,180.0,67.0,73.0,260.0,108.0,120.0,66.0,58.0,168.0,188.0,48.0,164.0,160.0,76.0,120.0,170.0,187.0,120.0,113.0,83.0,90.0,166.0,128.0,135.0,124.0,120.0,80.0,55.0,59.0,127.0,214.0,128.0,240.0,130.0,137.0,100.0,135.0,131.0,72.0,127.0,60.0,116.0,144.0,175.0,128.0,170.0,138.0,210.0,158.0,200.0,104.0,42.0,120.0,280.0,140.0,170.0,255.0,122.0,112.0,96.0,120.0,140.0,155.0,108.0,123.0,120.0,112.0,137.0,123.0,90.0,201.0,138.0,104.0,279.0,192.0,255.0,115.0,94.0,304.0,128.0,330.0,134.0,155.0,120.0,128.0,151.0,150.0,160.0,135.0,90.0,30.0,136.0,126.0,150.0,90.0,115.0,207.0,80.0,436.0,124.0,158.0,112.0,78.0,54.0,128.0,89.0,99.0,120.0,115.0,187.0,139.0,127.0,134.0,143.0,172.0,110.0,200.0,135.0,151.0,113.0,93.0,105.0,132.0,96.0,140.0,128.0,135.0,104.0,480.0,185.0,84.0,111.0,56.0,144.0,159.0,111.0,120.0,88.0,112.0,155.0,115.0,124.0,128.0,132.0,300.0,376.0,130.0,184.0,110.0,67.0,117.0,98.0,71.0,490.0,182.0,70.0,160.0,176.0,128.0,71.0,173.0,46.0,158.0,74.0,125.0,160.0,152.0,126.0,259.0,187.0,228.0,308.0,95.0,105.0,130.0,116.0,165.0,67.0,100.0,200.0,81.0,236.0,130.0,95.0,141.0,133.0,96.0,124.0,175.0,570.0,55.0,155.0,380.0,111.0,110.0,120.0,130.0,130.0,71.0,130.0,128.0,296.0,156.0,128.0,100.0,113.0,132.0,128.0,136.0,125.0,185.0,275.0,120.0,113.0,113.0,135.0,71.0,95.0,109.0,103.0,45.0,65.0,103.0,53.0,194.0,115.0,115.0,66.0,152.0,360.0,62.0,160.0,218.0,110.0,178.0,60.0,160.0,239.0,112.0,138.0,138.0,80.0,100.0,110.0,96.0,121.0,81.0,133.0,87.0,60.0,150.0,105.0,405.0,143.0,100.0,128.0,50.0,128.0,187.0,138.0,187.0,180.0,148.0,152.0,175.0,130.0,110.0,55.0,150.0,190.0,125.0,60.0,149.0,90.0,84.0,96.0,118.0,173.0,136.0,160.0,160.0,128.0,153.0,132.0,98.0,140.0,70.0,110.0,98.0,110.0,162.0,113.0,100.0,93.0,162.0,150.0,230.0,132.0,86.0,128.0,154.0,113.0,128.0,234.0,246.0,131.0,80.0,500.0,160.0,75.0,96.0,186.0,110.0,225.0,119.0,105.0,107.0,111.0,95.0,209.0,113.0,100.0,208.0,138.0,124.0,243.0,480.0,96.0,188.0,40.0,100.0,250.0,148.0,70.0,311.0,150.0,113.0,123.0,185.0,95.0,45.0,55.0,100.0,480.0,128.0,400.0,110.0,161.0,94.0,130.0,216.0,100.0,110.0,196.0,125.0,126.0,324.0,107.0,66.0,157.0,140.0,99.0,95.0,128.0,102.0,155.0,80.0,145.0,103.0,110.0,128.0,128.0,158.0,181.0,132.0,26.0,84.0,260.0,162.0,182.0,108.0,600.0,211.0,132.0,258.0,120.0,70.0,123.0,9.0,104.0,186.0,165.0,275.0,187.0,150.0,108.0,136.0,110.0,107.0,161.0,205.0,90.0,36.0,61.0,146.0,172.0,104.0,70.0,94.0,106.0,56.0,205.0,292.0,142.0,260.0,110.0,187.0,88.0,180.0,192.0,350.0,155.0,128.0,172.0,496.0,128.0,173.0,157.0,108.0,71.0,40.0,253.0,187.0,133.0],\"x0\":\" \",\"xaxis\":\"x\",\"y0\":\" \",\"yaxis\":\"y\",\"type\":\"box\"}],                        {\"template\":{\"data\":{\"histogram2dcontour\":[{\"type\":\"histogram2dcontour\",\"colorbar\":{\"outlinewidth\":0,\"ticks\":\"\"},\"colorscale\":[[0.0,\"#0d0887\"],[0.1111111111111111,\"#46039f\"],[0.2222222222222222,\"#7201a8\"],[0.3333333333333333,\"#9c179e\"],[0.4444444444444444,\"#bd3786\"],[0.5555555555555556,\"#d8576b\"],[0.6666666666666666,\"#ed7953\"],[0.7777777777777778,\"#fb9f3a\"],[0.8888888888888888,\"#fdca26\"],[1.0,\"#f0f921\"]]}],\"choropleth\":[{\"type\":\"choropleth\",\"colorbar\":{\"outlinewidth\":0,\"ticks\":\"\"}}],\"histogram2d\":[{\"type\":\"histogram2d\",\"colorbar\":{\"outlinewidth\":0,\"ticks\":\"\"},\"colorscale\":[[0.0,\"#0d0887\"],[0.1111111111111111,\"#46039f\"],[0.2222222222222222,\"#7201a8\"],[0.3333333333333333,\"#9c179e\"],[0.4444444444444444,\"#bd3786\"],[0.5555555555555556,\"#d8576b\"],[0.6666666666666666,\"#ed7953\"],[0.7777777777777778,\"#fb9f3a\"],[0.8888888888888888,\"#fdca26\"],[1.0,\"#f0f921\"]]}],\"heatmap\":[{\"type\":\"heatmap\",\"colorbar\":{\"outlinewidth\":0,\"ticks\":\"\"},\"colorscale\":[[0.0,\"#0d0887\"],[0.1111111111111111,\"#46039f\"],[0.2222222222222222,\"#7201a8\"],[0.3333333333333333,\"#9c179e\"],[0.4444444444444444,\"#bd3786\"],[0.5555555555555556,\"#d8576b\"],[0.6666666666666666,\"#ed7953\"],[0.7777777777777778,\"#fb9f3a\"],[0.8888888888888888,\"#fdca26\"],[1.0,\"#f0f921\"]]}],\"heatmapgl\":[{\"type\":\"heatmapgl\",\"colorbar\":{\"outlinewidth\":0,\"ticks\":\"\"},\"colorscale\":[[0.0,\"#0d0887\"],[0.1111111111111111,\"#46039f\"],[0.2222222222222222,\"#7201a8\"],[0.3333333333333333,\"#9c179e\"],[0.4444444444444444,\"#bd3786\"],[0.5555555555555556,\"#d8576b\"],[0.6666666666666666,\"#ed7953\"],[0.7777777777777778,\"#fb9f3a\"],[0.8888888888888888,\"#fdca26\"],[1.0,\"#f0f921\"]]}],\"contourcarpet\":[{\"type\":\"contourcarpet\",\"colorbar\":{\"outlinewidth\":0,\"ticks\":\"\"}}],\"contour\":[{\"type\":\"contour\",\"colorbar\":{\"outlinewidth\":0,\"ticks\":\"\"},\"colorscale\":[[0.0,\"#0d0887\"],[0.1111111111111111,\"#46039f\"],[0.2222222222222222,\"#7201a8\"],[0.3333333333333333,\"#9c179e\"],[0.4444444444444444,\"#bd3786\"],[0.5555555555555556,\"#d8576b\"],[0.6666666666666666,\"#ed7953\"],[0.7777777777777778,\"#fb9f3a\"],[0.8888888888888888,\"#fdca26\"],[1.0,\"#f0f921\"]]}],\"surface\":[{\"type\":\"surface\",\"colorbar\":{\"outlinewidth\":0,\"ticks\":\"\"},\"colorscale\":[[0.0,\"#0d0887\"],[0.1111111111111111,\"#46039f\"],[0.2222222222222222,\"#7201a8\"],[0.3333333333333333,\"#9c179e\"],[0.4444444444444444,\"#bd3786\"],[0.5555555555555556,\"#d8576b\"],[0.6666666666666666,\"#ed7953\"],[0.7777777777777778,\"#fb9f3a\"],[0.8888888888888888,\"#fdca26\"],[1.0,\"#f0f921\"]]}],\"mesh3d\":[{\"type\":\"mesh3d\",\"colorbar\":{\"outlinewidth\":0,\"ticks\":\"\"}}],\"scatter\":[{\"fillpattern\":{\"fillmode\":\"overlay\",\"size\":10,\"solidity\":0.2},\"type\":\"scatter\"}],\"parcoords\":[{\"type\":\"parcoords\",\"line\":{\"colorbar\":{\"outlinewidth\":0,\"ticks\":\"\"}}}],\"scatterpolargl\":[{\"type\":\"scatterpolargl\",\"marker\":{\"colorbar\":{\"outlinewidth\":0,\"ticks\":\"\"}}}],\"bar\":[{\"error_x\":{\"color\":\"#2a3f5f\"},\"error_y\":{\"color\":\"#2a3f5f\"},\"marker\":{\"line\":{\"color\":\"#E5ECF6\",\"width\":0.5},\"pattern\":{\"fillmode\":\"overlay\",\"size\":10,\"solidity\":0.2}},\"type\":\"bar\"}],\"scattergeo\":[{\"type\":\"scattergeo\",\"marker\":{\"colorbar\":{\"outlinewidth\":0,\"ticks\":\"\"}}}],\"scatterpolar\":[{\"type\":\"scatterpolar\",\"marker\":{\"colorbar\":{\"outlinewidth\":0,\"ticks\":\"\"}}}],\"histogram\":[{\"marker\":{\"pattern\":{\"fillmode\":\"overlay\",\"size\":10,\"solidity\":0.2}},\"type\":\"histogram\"}],\"scattergl\":[{\"type\":\"scattergl\",\"marker\":{\"colorbar\":{\"outlinewidth\":0,\"ticks\":\"\"}}}],\"scatter3d\":[{\"type\":\"scatter3d\",\"line\":{\"colorbar\":{\"outlinewidth\":0,\"ticks\":\"\"}},\"marker\":{\"colorbar\":{\"outlinewidth\":0,\"ticks\":\"\"}}}],\"scattermapbox\":[{\"type\":\"scattermapbox\",\"marker\":{\"colorbar\":{\"outlinewidth\":0,\"ticks\":\"\"}}}],\"scatterternary\":[{\"type\":\"scatterternary\",\"marker\":{\"colorbar\":{\"outlinewidth\":0,\"ticks\":\"\"}}}],\"scattercarpet\":[{\"type\":\"scattercarpet\",\"marker\":{\"colorbar\":{\"outlinewidth\":0,\"ticks\":\"\"}}}],\"carpet\":[{\"aaxis\":{\"endlinecolor\":\"#2a3f5f\",\"gridcolor\":\"white\",\"linecolor\":\"white\",\"minorgridcolor\":\"white\",\"startlinecolor\":\"#2a3f5f\"},\"baxis\":{\"endlinecolor\":\"#2a3f5f\",\"gridcolor\":\"white\",\"linecolor\":\"white\",\"minorgridcolor\":\"white\",\"startlinecolor\":\"#2a3f5f\"},\"type\":\"carpet\"}],\"table\":[{\"cells\":{\"fill\":{\"color\":\"#EBF0F8\"},\"line\":{\"color\":\"white\"}},\"header\":{\"fill\":{\"color\":\"#C8D4E3\"},\"line\":{\"color\":\"white\"}},\"type\":\"table\"}],\"barpolar\":[{\"marker\":{\"line\":{\"color\":\"#E5ECF6\",\"width\":0.5},\"pattern\":{\"fillmode\":\"overlay\",\"size\":10,\"solidity\":0.2}},\"type\":\"barpolar\"}],\"pie\":[{\"automargin\":true,\"type\":\"pie\"}]},\"layout\":{\"autotypenumbers\":\"strict\",\"colorway\":[\"#636efa\",\"#EF553B\",\"#00cc96\",\"#ab63fa\",\"#FFA15A\",\"#19d3f3\",\"#FF6692\",\"#B6E880\",\"#FF97FF\",\"#FECB52\"],\"font\":{\"color\":\"#2a3f5f\"},\"hovermode\":\"closest\",\"hoverlabel\":{\"align\":\"left\"},\"paper_bgcolor\":\"white\",\"plot_bgcolor\":\"#E5ECF6\",\"polar\":{\"bgcolor\":\"#E5ECF6\",\"angularaxis\":{\"gridcolor\":\"white\",\"linecolor\":\"white\",\"ticks\":\"\"},\"radialaxis\":{\"gridcolor\":\"white\",\"linecolor\":\"white\",\"ticks\":\"\"}},\"ternary\":{\"bgcolor\":\"#E5ECF6\",\"aaxis\":{\"gridcolor\":\"white\",\"linecolor\":\"white\",\"ticks\":\"\"},\"baxis\":{\"gridcolor\":\"white\",\"linecolor\":\"white\",\"ticks\":\"\"},\"caxis\":{\"gridcolor\":\"white\",\"linecolor\":\"white\",\"ticks\":\"\"}},\"coloraxis\":{\"colorbar\":{\"outlinewidth\":0,\"ticks\":\"\"}},\"colorscale\":{\"sequential\":[[0.0,\"#0d0887\"],[0.1111111111111111,\"#46039f\"],[0.2222222222222222,\"#7201a8\"],[0.3333333333333333,\"#9c179e\"],[0.4444444444444444,\"#bd3786\"],[0.5555555555555556,\"#d8576b\"],[0.6666666666666666,\"#ed7953\"],[0.7777777777777778,\"#fb9f3a\"],[0.8888888888888888,\"#fdca26\"],[1.0,\"#f0f921\"]],\"sequentialminus\":[[0.0,\"#0d0887\"],[0.1111111111111111,\"#46039f\"],[0.2222222222222222,\"#7201a8\"],[0.3333333333333333,\"#9c179e\"],[0.4444444444444444,\"#bd3786\"],[0.5555555555555556,\"#d8576b\"],[0.6666666666666666,\"#ed7953\"],[0.7777777777777778,\"#fb9f3a\"],[0.8888888888888888,\"#fdca26\"],[1.0,\"#f0f921\"]],\"diverging\":[[0,\"#8e0152\"],[0.1,\"#c51b7d\"],[0.2,\"#de77ae\"],[0.3,\"#f1b6da\"],[0.4,\"#fde0ef\"],[0.5,\"#f7f7f7\"],[0.6,\"#e6f5d0\"],[0.7,\"#b8e186\"],[0.8,\"#7fbc41\"],[0.9,\"#4d9221\"],[1,\"#276419\"]]},\"xaxis\":{\"gridcolor\":\"white\",\"linecolor\":\"white\",\"ticks\":\"\",\"title\":{\"standoff\":15},\"zerolinecolor\":\"white\",\"automargin\":true,\"zerolinewidth\":2},\"yaxis\":{\"gridcolor\":\"white\",\"linecolor\":\"white\",\"ticks\":\"\",\"title\":{\"standoff\":15},\"zerolinecolor\":\"white\",\"automargin\":true,\"zerolinewidth\":2},\"scene\":{\"xaxis\":{\"backgroundcolor\":\"#E5ECF6\",\"gridcolor\":\"white\",\"linecolor\":\"white\",\"showbackground\":true,\"ticks\":\"\",\"zerolinecolor\":\"white\",\"gridwidth\":2},\"yaxis\":{\"backgroundcolor\":\"#E5ECF6\",\"gridcolor\":\"white\",\"linecolor\":\"white\",\"showbackground\":true,\"ticks\":\"\",\"zerolinecolor\":\"white\",\"gridwidth\":2},\"zaxis\":{\"backgroundcolor\":\"#E5ECF6\",\"gridcolor\":\"white\",\"linecolor\":\"white\",\"showbackground\":true,\"ticks\":\"\",\"zerolinecolor\":\"white\",\"gridwidth\":2}},\"shapedefaults\":{\"line\":{\"color\":\"#2a3f5f\"}},\"annotationdefaults\":{\"arrowcolor\":\"#2a3f5f\",\"arrowhead\":0,\"arrowwidth\":1},\"geo\":{\"bgcolor\":\"white\",\"landcolor\":\"#E5ECF6\",\"subunitcolor\":\"white\",\"showland\":true,\"showlakes\":true,\"lakecolor\":\"white\"},\"title\":{\"x\":0.05},\"mapbox\":{\"style\":\"light\"}}},\"xaxis\":{\"anchor\":\"y\",\"domain\":[0.0,1.0],\"title\":{\"text\":\"LoanAmount\"}},\"yaxis\":{\"anchor\":\"x\",\"domain\":[0.0,1.0]},\"legend\":{\"tracegroupgap\":0},\"margin\":{\"t\":60},\"boxmode\":\"group\"},                        {\"responsive\": true}                    ).then(function(){\n",
       "                            \n",
       "var gd = document.getElementById('4fd3497c-f737-432c-a385-e7c4fe2b56d5');\n",
       "var x = new MutationObserver(function (mutations, observer) {{\n",
       "        var display = window.getComputedStyle(gd).display;\n",
       "        if (!display || display === 'none') {{\n",
       "            console.log([gd, 'removed!']);\n",
       "            Plotly.purge(gd);\n",
       "            observer.disconnect();\n",
       "        }}\n",
       "}});\n",
       "\n",
       "// Listen for the removal of the full notebook cells\n",
       "var notebookContainer = gd.closest('#notebook-container');\n",
       "if (notebookContainer) {{\n",
       "    x.observe(notebookContainer, {childList: true});\n",
       "}}\n",
       "\n",
       "// Listen for the clearing of the current output cell\n",
       "var outputEl = gd.closest('.output');\n",
       "if (outputEl) {{\n",
       "    x.observe(outputEl, {childList: true});\n",
       "}}\n",
       "\n",
       "                        })                };                });            </script>        </div>"
      ]
     },
     "metadata": {},
     "output_type": "display_data"
    }
   ],
   "source": [
    "# Box plot \n",
    "px.box(data,x='LoanAmount')"
   ]
  },
  {
   "cell_type": "code",
   "execution_count": 769,
   "id": "ff7116ab",
   "metadata": {},
   "outputs": [
    {
     "data": {
      "application/vnd.plotly.v1+json": {
       "config": {
        "plotlyServerURL": "https://plot.ly"
       },
       "data": [
        {
         "alignmentgroup": "True",
         "bingroup": "x",
         "hovertemplate": "LoanAmount=%{x}<br>count=%{y}<extra></extra>",
         "legendgroup": "",
         "marker": {
          "color": "#636efa",
          "pattern": {
           "shape": ""
          }
         },
         "name": "",
         "offsetgroup": "",
         "orientation": "v",
         "showlegend": false,
         "type": "histogram",
         "x": [
          128,
          128,
          66,
          120,
          141,
          267,
          95,
          158,
          168,
          349,
          70,
          109,
          200,
          114,
          17,
          125,
          100,
          76,
          133,
          115,
          104,
          315,
          116,
          112,
          151,
          191,
          122,
          110,
          35,
          120,
          201,
          74,
          106,
          114,
          320,
          128,
          100,
          144,
          184,
          110,
          80,
          47,
          75,
          134,
          96,
          88,
          44,
          144,
          120,
          144,
          100,
          120,
          112,
          134,
          286,
          97,
          96,
          135,
          180,
          144,
          120,
          99,
          165,
          128,
          116,
          258,
          126,
          312,
          125,
          136,
          172,
          97,
          81,
          95,
          187,
          113,
          176,
          110,
          180,
          130,
          111,
          128,
          167,
          265,
          50,
          136,
          99,
          104,
          210,
          175,
          131,
          188,
          81,
          122,
          25,
          128,
          137,
          50,
          115,
          131,
          133,
          151,
          128,
          128,
          160,
          100,
          225,
          120,
          216,
          94,
          136,
          139,
          152,
          128,
          118,
          185,
          154,
          85,
          175,
          259,
          180,
          44,
          137,
          81,
          194,
          93,
          370,
          128,
          160,
          182,
          650,
          74,
          70,
          25,
          102,
          290,
          84,
          88,
          242,
          129,
          185,
          168,
          175,
          122,
          187,
          100,
          70,
          30,
          225,
          125,
          118,
          152,
          244,
          113,
          50,
          600,
          160,
          187,
          120,
          255,
          98,
          275,
          121,
          158,
          75,
          182,
          112,
          129,
          63,
          200,
          95,
          700,
          81,
          187,
          87,
          116,
          101,
          495,
          116,
          102,
          180,
          67,
          73,
          260,
          108,
          120,
          66,
          58,
          168,
          188,
          48,
          164,
          160,
          76,
          120,
          170,
          187,
          120,
          113,
          83,
          90,
          166,
          128,
          135,
          124,
          120,
          80,
          55,
          59,
          127,
          214,
          128,
          240,
          130,
          137,
          100,
          135,
          131,
          72,
          127,
          60,
          116,
          144,
          175,
          128,
          170,
          138,
          210,
          158,
          200,
          104,
          42,
          120,
          280,
          140,
          170,
          255,
          122,
          112,
          96,
          120,
          140,
          155,
          108,
          123,
          120,
          112,
          137,
          123,
          90,
          201,
          138,
          104,
          279,
          192,
          255,
          115,
          94,
          304,
          128,
          330,
          134,
          155,
          120,
          128,
          151,
          150,
          160,
          135,
          90,
          30,
          136,
          126,
          150,
          90,
          115,
          207,
          80,
          436,
          124,
          158,
          112,
          78,
          54,
          128,
          89,
          99,
          120,
          115,
          187,
          139,
          127,
          134,
          143,
          172,
          110,
          200,
          135,
          151,
          113,
          93,
          105,
          132,
          96,
          140,
          128,
          135,
          104,
          480,
          185,
          84,
          111,
          56,
          144,
          159,
          111,
          120,
          88,
          112,
          155,
          115,
          124,
          128,
          132,
          300,
          376,
          130,
          184,
          110,
          67,
          117,
          98,
          71,
          490,
          182,
          70,
          160,
          176,
          128,
          71,
          173,
          46,
          158,
          74,
          125,
          160,
          152,
          126,
          259,
          187,
          228,
          308,
          95,
          105,
          130,
          116,
          165,
          67,
          100,
          200,
          81,
          236,
          130,
          95,
          141,
          133,
          96,
          124,
          175,
          570,
          55,
          155,
          380,
          111,
          110,
          120,
          130,
          130,
          71,
          130,
          128,
          296,
          156,
          128,
          100,
          113,
          132,
          128,
          136,
          125,
          185,
          275,
          120,
          113,
          113,
          135,
          71,
          95,
          109,
          103,
          45,
          65,
          103,
          53,
          194,
          115,
          115,
          66,
          152,
          360,
          62,
          160,
          218,
          110,
          178,
          60,
          160,
          239,
          112,
          138,
          138,
          80,
          100,
          110,
          96,
          121,
          81,
          133,
          87,
          60,
          150,
          105,
          405,
          143,
          100,
          128,
          50,
          128,
          187,
          138,
          187,
          180,
          148,
          152,
          175,
          130,
          110,
          55,
          150,
          190,
          125,
          60,
          149,
          90,
          84,
          96,
          118,
          173,
          136,
          160,
          160,
          128,
          153,
          132,
          98,
          140,
          70,
          110,
          98,
          110,
          162,
          113,
          100,
          93,
          162,
          150,
          230,
          132,
          86,
          128,
          154,
          113,
          128,
          234,
          246,
          131,
          80,
          500,
          160,
          75,
          96,
          186,
          110,
          225,
          119,
          105,
          107,
          111,
          95,
          209,
          113,
          100,
          208,
          138,
          124,
          243,
          480,
          96,
          188,
          40,
          100,
          250,
          148,
          70,
          311,
          150,
          113,
          123,
          185,
          95,
          45,
          55,
          100,
          480,
          128,
          400,
          110,
          161,
          94,
          130,
          216,
          100,
          110,
          196,
          125,
          126,
          324,
          107,
          66,
          157,
          140,
          99,
          95,
          128,
          102,
          155,
          80,
          145,
          103,
          110,
          128,
          128,
          158,
          181,
          132,
          26,
          84,
          260,
          162,
          182,
          108,
          600,
          211,
          132,
          258,
          120,
          70,
          123,
          9,
          104,
          186,
          165,
          275,
          187,
          150,
          108,
          136,
          110,
          107,
          161,
          205,
          90,
          36,
          61,
          146,
          172,
          104,
          70,
          94,
          106,
          56,
          205,
          292,
          142,
          260,
          110,
          187,
          88,
          180,
          192,
          350,
          155,
          128,
          172,
          496,
          128,
          173,
          157,
          108,
          71,
          40,
          253,
          187,
          133
         ],
         "xaxis": "x",
         "yaxis": "y"
        }
       ],
       "layout": {
        "barmode": "relative",
        "legend": {
         "tracegroupgap": 0
        },
        "margin": {
         "t": 60
        },
        "template": {
         "data": {
          "bar": [
           {
            "error_x": {
             "color": "#2a3f5f"
            },
            "error_y": {
             "color": "#2a3f5f"
            },
            "marker": {
             "line": {
              "color": "#E5ECF6",
              "width": 0.5
             },
             "pattern": {
              "fillmode": "overlay",
              "size": 10,
              "solidity": 0.2
             }
            },
            "type": "bar"
           }
          ],
          "barpolar": [
           {
            "marker": {
             "line": {
              "color": "#E5ECF6",
              "width": 0.5
             },
             "pattern": {
              "fillmode": "overlay",
              "size": 10,
              "solidity": 0.2
             }
            },
            "type": "barpolar"
           }
          ],
          "carpet": [
           {
            "aaxis": {
             "endlinecolor": "#2a3f5f",
             "gridcolor": "white",
             "linecolor": "white",
             "minorgridcolor": "white",
             "startlinecolor": "#2a3f5f"
            },
            "baxis": {
             "endlinecolor": "#2a3f5f",
             "gridcolor": "white",
             "linecolor": "white",
             "minorgridcolor": "white",
             "startlinecolor": "#2a3f5f"
            },
            "type": "carpet"
           }
          ],
          "choropleth": [
           {
            "colorbar": {
             "outlinewidth": 0,
             "ticks": ""
            },
            "type": "choropleth"
           }
          ],
          "contour": [
           {
            "colorbar": {
             "outlinewidth": 0,
             "ticks": ""
            },
            "colorscale": [
             [
              0,
              "#0d0887"
             ],
             [
              0.1111111111111111,
              "#46039f"
             ],
             [
              0.2222222222222222,
              "#7201a8"
             ],
             [
              0.3333333333333333,
              "#9c179e"
             ],
             [
              0.4444444444444444,
              "#bd3786"
             ],
             [
              0.5555555555555556,
              "#d8576b"
             ],
             [
              0.6666666666666666,
              "#ed7953"
             ],
             [
              0.7777777777777778,
              "#fb9f3a"
             ],
             [
              0.8888888888888888,
              "#fdca26"
             ],
             [
              1,
              "#f0f921"
             ]
            ],
            "type": "contour"
           }
          ],
          "contourcarpet": [
           {
            "colorbar": {
             "outlinewidth": 0,
             "ticks": ""
            },
            "type": "contourcarpet"
           }
          ],
          "heatmap": [
           {
            "colorbar": {
             "outlinewidth": 0,
             "ticks": ""
            },
            "colorscale": [
             [
              0,
              "#0d0887"
             ],
             [
              0.1111111111111111,
              "#46039f"
             ],
             [
              0.2222222222222222,
              "#7201a8"
             ],
             [
              0.3333333333333333,
              "#9c179e"
             ],
             [
              0.4444444444444444,
              "#bd3786"
             ],
             [
              0.5555555555555556,
              "#d8576b"
             ],
             [
              0.6666666666666666,
              "#ed7953"
             ],
             [
              0.7777777777777778,
              "#fb9f3a"
             ],
             [
              0.8888888888888888,
              "#fdca26"
             ],
             [
              1,
              "#f0f921"
             ]
            ],
            "type": "heatmap"
           }
          ],
          "heatmapgl": [
           {
            "colorbar": {
             "outlinewidth": 0,
             "ticks": ""
            },
            "colorscale": [
             [
              0,
              "#0d0887"
             ],
             [
              0.1111111111111111,
              "#46039f"
             ],
             [
              0.2222222222222222,
              "#7201a8"
             ],
             [
              0.3333333333333333,
              "#9c179e"
             ],
             [
              0.4444444444444444,
              "#bd3786"
             ],
             [
              0.5555555555555556,
              "#d8576b"
             ],
             [
              0.6666666666666666,
              "#ed7953"
             ],
             [
              0.7777777777777778,
              "#fb9f3a"
             ],
             [
              0.8888888888888888,
              "#fdca26"
             ],
             [
              1,
              "#f0f921"
             ]
            ],
            "type": "heatmapgl"
           }
          ],
          "histogram": [
           {
            "marker": {
             "pattern": {
              "fillmode": "overlay",
              "size": 10,
              "solidity": 0.2
             }
            },
            "type": "histogram"
           }
          ],
          "histogram2d": [
           {
            "colorbar": {
             "outlinewidth": 0,
             "ticks": ""
            },
            "colorscale": [
             [
              0,
              "#0d0887"
             ],
             [
              0.1111111111111111,
              "#46039f"
             ],
             [
              0.2222222222222222,
              "#7201a8"
             ],
             [
              0.3333333333333333,
              "#9c179e"
             ],
             [
              0.4444444444444444,
              "#bd3786"
             ],
             [
              0.5555555555555556,
              "#d8576b"
             ],
             [
              0.6666666666666666,
              "#ed7953"
             ],
             [
              0.7777777777777778,
              "#fb9f3a"
             ],
             [
              0.8888888888888888,
              "#fdca26"
             ],
             [
              1,
              "#f0f921"
             ]
            ],
            "type": "histogram2d"
           }
          ],
          "histogram2dcontour": [
           {
            "colorbar": {
             "outlinewidth": 0,
             "ticks": ""
            },
            "colorscale": [
             [
              0,
              "#0d0887"
             ],
             [
              0.1111111111111111,
              "#46039f"
             ],
             [
              0.2222222222222222,
              "#7201a8"
             ],
             [
              0.3333333333333333,
              "#9c179e"
             ],
             [
              0.4444444444444444,
              "#bd3786"
             ],
             [
              0.5555555555555556,
              "#d8576b"
             ],
             [
              0.6666666666666666,
              "#ed7953"
             ],
             [
              0.7777777777777778,
              "#fb9f3a"
             ],
             [
              0.8888888888888888,
              "#fdca26"
             ],
             [
              1,
              "#f0f921"
             ]
            ],
            "type": "histogram2dcontour"
           }
          ],
          "mesh3d": [
           {
            "colorbar": {
             "outlinewidth": 0,
             "ticks": ""
            },
            "type": "mesh3d"
           }
          ],
          "parcoords": [
           {
            "line": {
             "colorbar": {
              "outlinewidth": 0,
              "ticks": ""
             }
            },
            "type": "parcoords"
           }
          ],
          "pie": [
           {
            "automargin": true,
            "type": "pie"
           }
          ],
          "scatter": [
           {
            "fillpattern": {
             "fillmode": "overlay",
             "size": 10,
             "solidity": 0.2
            },
            "type": "scatter"
           }
          ],
          "scatter3d": [
           {
            "line": {
             "colorbar": {
              "outlinewidth": 0,
              "ticks": ""
             }
            },
            "marker": {
             "colorbar": {
              "outlinewidth": 0,
              "ticks": ""
             }
            },
            "type": "scatter3d"
           }
          ],
          "scattercarpet": [
           {
            "marker": {
             "colorbar": {
              "outlinewidth": 0,
              "ticks": ""
             }
            },
            "type": "scattercarpet"
           }
          ],
          "scattergeo": [
           {
            "marker": {
             "colorbar": {
              "outlinewidth": 0,
              "ticks": ""
             }
            },
            "type": "scattergeo"
           }
          ],
          "scattergl": [
           {
            "marker": {
             "colorbar": {
              "outlinewidth": 0,
              "ticks": ""
             }
            },
            "type": "scattergl"
           }
          ],
          "scattermapbox": [
           {
            "marker": {
             "colorbar": {
              "outlinewidth": 0,
              "ticks": ""
             }
            },
            "type": "scattermapbox"
           }
          ],
          "scatterpolar": [
           {
            "marker": {
             "colorbar": {
              "outlinewidth": 0,
              "ticks": ""
             }
            },
            "type": "scatterpolar"
           }
          ],
          "scatterpolargl": [
           {
            "marker": {
             "colorbar": {
              "outlinewidth": 0,
              "ticks": ""
             }
            },
            "type": "scatterpolargl"
           }
          ],
          "scatterternary": [
           {
            "marker": {
             "colorbar": {
              "outlinewidth": 0,
              "ticks": ""
             }
            },
            "type": "scatterternary"
           }
          ],
          "surface": [
           {
            "colorbar": {
             "outlinewidth": 0,
             "ticks": ""
            },
            "colorscale": [
             [
              0,
              "#0d0887"
             ],
             [
              0.1111111111111111,
              "#46039f"
             ],
             [
              0.2222222222222222,
              "#7201a8"
             ],
             [
              0.3333333333333333,
              "#9c179e"
             ],
             [
              0.4444444444444444,
              "#bd3786"
             ],
             [
              0.5555555555555556,
              "#d8576b"
             ],
             [
              0.6666666666666666,
              "#ed7953"
             ],
             [
              0.7777777777777778,
              "#fb9f3a"
             ],
             [
              0.8888888888888888,
              "#fdca26"
             ],
             [
              1,
              "#f0f921"
             ]
            ],
            "type": "surface"
           }
          ],
          "table": [
           {
            "cells": {
             "fill": {
              "color": "#EBF0F8"
             },
             "line": {
              "color": "white"
             }
            },
            "header": {
             "fill": {
              "color": "#C8D4E3"
             },
             "line": {
              "color": "white"
             }
            },
            "type": "table"
           }
          ]
         },
         "layout": {
          "annotationdefaults": {
           "arrowcolor": "#2a3f5f",
           "arrowhead": 0,
           "arrowwidth": 1
          },
          "autotypenumbers": "strict",
          "coloraxis": {
           "colorbar": {
            "outlinewidth": 0,
            "ticks": ""
           }
          },
          "colorscale": {
           "diverging": [
            [
             0,
             "#8e0152"
            ],
            [
             0.1,
             "#c51b7d"
            ],
            [
             0.2,
             "#de77ae"
            ],
            [
             0.3,
             "#f1b6da"
            ],
            [
             0.4,
             "#fde0ef"
            ],
            [
             0.5,
             "#f7f7f7"
            ],
            [
             0.6,
             "#e6f5d0"
            ],
            [
             0.7,
             "#b8e186"
            ],
            [
             0.8,
             "#7fbc41"
            ],
            [
             0.9,
             "#4d9221"
            ],
            [
             1,
             "#276419"
            ]
           ],
           "sequential": [
            [
             0,
             "#0d0887"
            ],
            [
             0.1111111111111111,
             "#46039f"
            ],
            [
             0.2222222222222222,
             "#7201a8"
            ],
            [
             0.3333333333333333,
             "#9c179e"
            ],
            [
             0.4444444444444444,
             "#bd3786"
            ],
            [
             0.5555555555555556,
             "#d8576b"
            ],
            [
             0.6666666666666666,
             "#ed7953"
            ],
            [
             0.7777777777777778,
             "#fb9f3a"
            ],
            [
             0.8888888888888888,
             "#fdca26"
            ],
            [
             1,
             "#f0f921"
            ]
           ],
           "sequentialminus": [
            [
             0,
             "#0d0887"
            ],
            [
             0.1111111111111111,
             "#46039f"
            ],
            [
             0.2222222222222222,
             "#7201a8"
            ],
            [
             0.3333333333333333,
             "#9c179e"
            ],
            [
             0.4444444444444444,
             "#bd3786"
            ],
            [
             0.5555555555555556,
             "#d8576b"
            ],
            [
             0.6666666666666666,
             "#ed7953"
            ],
            [
             0.7777777777777778,
             "#fb9f3a"
            ],
            [
             0.8888888888888888,
             "#fdca26"
            ],
            [
             1,
             "#f0f921"
            ]
           ]
          },
          "colorway": [
           "#636efa",
           "#EF553B",
           "#00cc96",
           "#ab63fa",
           "#FFA15A",
           "#19d3f3",
           "#FF6692",
           "#B6E880",
           "#FF97FF",
           "#FECB52"
          ],
          "font": {
           "color": "#2a3f5f"
          },
          "geo": {
           "bgcolor": "white",
           "lakecolor": "white",
           "landcolor": "#E5ECF6",
           "showlakes": true,
           "showland": true,
           "subunitcolor": "white"
          },
          "hoverlabel": {
           "align": "left"
          },
          "hovermode": "closest",
          "mapbox": {
           "style": "light"
          },
          "paper_bgcolor": "white",
          "plot_bgcolor": "#E5ECF6",
          "polar": {
           "angularaxis": {
            "gridcolor": "white",
            "linecolor": "white",
            "ticks": ""
           },
           "bgcolor": "#E5ECF6",
           "radialaxis": {
            "gridcolor": "white",
            "linecolor": "white",
            "ticks": ""
           }
          },
          "scene": {
           "xaxis": {
            "backgroundcolor": "#E5ECF6",
            "gridcolor": "white",
            "gridwidth": 2,
            "linecolor": "white",
            "showbackground": true,
            "ticks": "",
            "zerolinecolor": "white"
           },
           "yaxis": {
            "backgroundcolor": "#E5ECF6",
            "gridcolor": "white",
            "gridwidth": 2,
            "linecolor": "white",
            "showbackground": true,
            "ticks": "",
            "zerolinecolor": "white"
           },
           "zaxis": {
            "backgroundcolor": "#E5ECF6",
            "gridcolor": "white",
            "gridwidth": 2,
            "linecolor": "white",
            "showbackground": true,
            "ticks": "",
            "zerolinecolor": "white"
           }
          },
          "shapedefaults": {
           "line": {
            "color": "#2a3f5f"
           }
          },
          "ternary": {
           "aaxis": {
            "gridcolor": "white",
            "linecolor": "white",
            "ticks": ""
           },
           "baxis": {
            "gridcolor": "white",
            "linecolor": "white",
            "ticks": ""
           },
           "bgcolor": "#E5ECF6",
           "caxis": {
            "gridcolor": "white",
            "linecolor": "white",
            "ticks": ""
           }
          },
          "title": {
           "x": 0.05
          },
          "xaxis": {
           "automargin": true,
           "gridcolor": "white",
           "linecolor": "white",
           "ticks": "",
           "title": {
            "standoff": 15
           },
           "zerolinecolor": "white",
           "zerolinewidth": 2
          },
          "yaxis": {
           "automargin": true,
           "gridcolor": "white",
           "linecolor": "white",
           "ticks": "",
           "title": {
            "standoff": 15
           },
           "zerolinecolor": "white",
           "zerolinewidth": 2
          }
         }
        },
        "xaxis": {
         "anchor": "y",
         "domain": [
          0,
          1
         ],
         "title": {
          "text": "LoanAmount"
         }
        },
        "yaxis": {
         "anchor": "x",
         "domain": [
          0,
          1
         ],
         "title": {
          "text": "count"
         }
        }
       }
      },
      "text/html": [
       "<div>                            <div id=\"8ca2f27b-1c08-4eb3-b29d-63f36c4764e0\" class=\"plotly-graph-div\" style=\"height:525px; width:100%;\"></div>            <script type=\"text/javascript\">                require([\"plotly\"], function(Plotly) {                    window.PLOTLYENV=window.PLOTLYENV || {};                                    if (document.getElementById(\"8ca2f27b-1c08-4eb3-b29d-63f36c4764e0\")) {                    Plotly.newPlot(                        \"8ca2f27b-1c08-4eb3-b29d-63f36c4764e0\",                        [{\"alignmentgroup\":\"True\",\"bingroup\":\"x\",\"hovertemplate\":\"LoanAmount=%{x}<br>count=%{y}<extra></extra>\",\"legendgroup\":\"\",\"marker\":{\"color\":\"#636efa\",\"pattern\":{\"shape\":\"\"}},\"name\":\"\",\"offsetgroup\":\"\",\"orientation\":\"v\",\"showlegend\":false,\"x\":[128.0,128.0,66.0,120.0,141.0,267.0,95.0,158.0,168.0,349.0,70.0,109.0,200.0,114.0,17.0,125.0,100.0,76.0,133.0,115.0,104.0,315.0,116.0,112.0,151.0,191.0,122.0,110.0,35.0,120.0,201.0,74.0,106.0,114.0,320.0,128.0,100.0,144.0,184.0,110.0,80.0,47.0,75.0,134.0,96.0,88.0,44.0,144.0,120.0,144.0,100.0,120.0,112.0,134.0,286.0,97.0,96.0,135.0,180.0,144.0,120.0,99.0,165.0,128.0,116.0,258.0,126.0,312.0,125.0,136.0,172.0,97.0,81.0,95.0,187.0,113.0,176.0,110.0,180.0,130.0,111.0,128.0,167.0,265.0,50.0,136.0,99.0,104.0,210.0,175.0,131.0,188.0,81.0,122.0,25.0,128.0,137.0,50.0,115.0,131.0,133.0,151.0,128.0,128.0,160.0,100.0,225.0,120.0,216.0,94.0,136.0,139.0,152.0,128.0,118.0,185.0,154.0,85.0,175.0,259.0,180.0,44.0,137.0,81.0,194.0,93.0,370.0,128.0,160.0,182.0,650.0,74.0,70.0,25.0,102.0,290.0,84.0,88.0,242.0,129.0,185.0,168.0,175.0,122.0,187.0,100.0,70.0,30.0,225.0,125.0,118.0,152.0,244.0,113.0,50.0,600.0,160.0,187.0,120.0,255.0,98.0,275.0,121.0,158.0,75.0,182.0,112.0,129.0,63.0,200.0,95.0,700.0,81.0,187.0,87.0,116.0,101.0,495.0,116.0,102.0,180.0,67.0,73.0,260.0,108.0,120.0,66.0,58.0,168.0,188.0,48.0,164.0,160.0,76.0,120.0,170.0,187.0,120.0,113.0,83.0,90.0,166.0,128.0,135.0,124.0,120.0,80.0,55.0,59.0,127.0,214.0,128.0,240.0,130.0,137.0,100.0,135.0,131.0,72.0,127.0,60.0,116.0,144.0,175.0,128.0,170.0,138.0,210.0,158.0,200.0,104.0,42.0,120.0,280.0,140.0,170.0,255.0,122.0,112.0,96.0,120.0,140.0,155.0,108.0,123.0,120.0,112.0,137.0,123.0,90.0,201.0,138.0,104.0,279.0,192.0,255.0,115.0,94.0,304.0,128.0,330.0,134.0,155.0,120.0,128.0,151.0,150.0,160.0,135.0,90.0,30.0,136.0,126.0,150.0,90.0,115.0,207.0,80.0,436.0,124.0,158.0,112.0,78.0,54.0,128.0,89.0,99.0,120.0,115.0,187.0,139.0,127.0,134.0,143.0,172.0,110.0,200.0,135.0,151.0,113.0,93.0,105.0,132.0,96.0,140.0,128.0,135.0,104.0,480.0,185.0,84.0,111.0,56.0,144.0,159.0,111.0,120.0,88.0,112.0,155.0,115.0,124.0,128.0,132.0,300.0,376.0,130.0,184.0,110.0,67.0,117.0,98.0,71.0,490.0,182.0,70.0,160.0,176.0,128.0,71.0,173.0,46.0,158.0,74.0,125.0,160.0,152.0,126.0,259.0,187.0,228.0,308.0,95.0,105.0,130.0,116.0,165.0,67.0,100.0,200.0,81.0,236.0,130.0,95.0,141.0,133.0,96.0,124.0,175.0,570.0,55.0,155.0,380.0,111.0,110.0,120.0,130.0,130.0,71.0,130.0,128.0,296.0,156.0,128.0,100.0,113.0,132.0,128.0,136.0,125.0,185.0,275.0,120.0,113.0,113.0,135.0,71.0,95.0,109.0,103.0,45.0,65.0,103.0,53.0,194.0,115.0,115.0,66.0,152.0,360.0,62.0,160.0,218.0,110.0,178.0,60.0,160.0,239.0,112.0,138.0,138.0,80.0,100.0,110.0,96.0,121.0,81.0,133.0,87.0,60.0,150.0,105.0,405.0,143.0,100.0,128.0,50.0,128.0,187.0,138.0,187.0,180.0,148.0,152.0,175.0,130.0,110.0,55.0,150.0,190.0,125.0,60.0,149.0,90.0,84.0,96.0,118.0,173.0,136.0,160.0,160.0,128.0,153.0,132.0,98.0,140.0,70.0,110.0,98.0,110.0,162.0,113.0,100.0,93.0,162.0,150.0,230.0,132.0,86.0,128.0,154.0,113.0,128.0,234.0,246.0,131.0,80.0,500.0,160.0,75.0,96.0,186.0,110.0,225.0,119.0,105.0,107.0,111.0,95.0,209.0,113.0,100.0,208.0,138.0,124.0,243.0,480.0,96.0,188.0,40.0,100.0,250.0,148.0,70.0,311.0,150.0,113.0,123.0,185.0,95.0,45.0,55.0,100.0,480.0,128.0,400.0,110.0,161.0,94.0,130.0,216.0,100.0,110.0,196.0,125.0,126.0,324.0,107.0,66.0,157.0,140.0,99.0,95.0,128.0,102.0,155.0,80.0,145.0,103.0,110.0,128.0,128.0,158.0,181.0,132.0,26.0,84.0,260.0,162.0,182.0,108.0,600.0,211.0,132.0,258.0,120.0,70.0,123.0,9.0,104.0,186.0,165.0,275.0,187.0,150.0,108.0,136.0,110.0,107.0,161.0,205.0,90.0,36.0,61.0,146.0,172.0,104.0,70.0,94.0,106.0,56.0,205.0,292.0,142.0,260.0,110.0,187.0,88.0,180.0,192.0,350.0,155.0,128.0,172.0,496.0,128.0,173.0,157.0,108.0,71.0,40.0,253.0,187.0,133.0],\"xaxis\":\"x\",\"yaxis\":\"y\",\"type\":\"histogram\"}],                        {\"template\":{\"data\":{\"histogram2dcontour\":[{\"type\":\"histogram2dcontour\",\"colorbar\":{\"outlinewidth\":0,\"ticks\":\"\"},\"colorscale\":[[0.0,\"#0d0887\"],[0.1111111111111111,\"#46039f\"],[0.2222222222222222,\"#7201a8\"],[0.3333333333333333,\"#9c179e\"],[0.4444444444444444,\"#bd3786\"],[0.5555555555555556,\"#d8576b\"],[0.6666666666666666,\"#ed7953\"],[0.7777777777777778,\"#fb9f3a\"],[0.8888888888888888,\"#fdca26\"],[1.0,\"#f0f921\"]]}],\"choropleth\":[{\"type\":\"choropleth\",\"colorbar\":{\"outlinewidth\":0,\"ticks\":\"\"}}],\"histogram2d\":[{\"type\":\"histogram2d\",\"colorbar\":{\"outlinewidth\":0,\"ticks\":\"\"},\"colorscale\":[[0.0,\"#0d0887\"],[0.1111111111111111,\"#46039f\"],[0.2222222222222222,\"#7201a8\"],[0.3333333333333333,\"#9c179e\"],[0.4444444444444444,\"#bd3786\"],[0.5555555555555556,\"#d8576b\"],[0.6666666666666666,\"#ed7953\"],[0.7777777777777778,\"#fb9f3a\"],[0.8888888888888888,\"#fdca26\"],[1.0,\"#f0f921\"]]}],\"heatmap\":[{\"type\":\"heatmap\",\"colorbar\":{\"outlinewidth\":0,\"ticks\":\"\"},\"colorscale\":[[0.0,\"#0d0887\"],[0.1111111111111111,\"#46039f\"],[0.2222222222222222,\"#7201a8\"],[0.3333333333333333,\"#9c179e\"],[0.4444444444444444,\"#bd3786\"],[0.5555555555555556,\"#d8576b\"],[0.6666666666666666,\"#ed7953\"],[0.7777777777777778,\"#fb9f3a\"],[0.8888888888888888,\"#fdca26\"],[1.0,\"#f0f921\"]]}],\"heatmapgl\":[{\"type\":\"heatmapgl\",\"colorbar\":{\"outlinewidth\":0,\"ticks\":\"\"},\"colorscale\":[[0.0,\"#0d0887\"],[0.1111111111111111,\"#46039f\"],[0.2222222222222222,\"#7201a8\"],[0.3333333333333333,\"#9c179e\"],[0.4444444444444444,\"#bd3786\"],[0.5555555555555556,\"#d8576b\"],[0.6666666666666666,\"#ed7953\"],[0.7777777777777778,\"#fb9f3a\"],[0.8888888888888888,\"#fdca26\"],[1.0,\"#f0f921\"]]}],\"contourcarpet\":[{\"type\":\"contourcarpet\",\"colorbar\":{\"outlinewidth\":0,\"ticks\":\"\"}}],\"contour\":[{\"type\":\"contour\",\"colorbar\":{\"outlinewidth\":0,\"ticks\":\"\"},\"colorscale\":[[0.0,\"#0d0887\"],[0.1111111111111111,\"#46039f\"],[0.2222222222222222,\"#7201a8\"],[0.3333333333333333,\"#9c179e\"],[0.4444444444444444,\"#bd3786\"],[0.5555555555555556,\"#d8576b\"],[0.6666666666666666,\"#ed7953\"],[0.7777777777777778,\"#fb9f3a\"],[0.8888888888888888,\"#fdca26\"],[1.0,\"#f0f921\"]]}],\"surface\":[{\"type\":\"surface\",\"colorbar\":{\"outlinewidth\":0,\"ticks\":\"\"},\"colorscale\":[[0.0,\"#0d0887\"],[0.1111111111111111,\"#46039f\"],[0.2222222222222222,\"#7201a8\"],[0.3333333333333333,\"#9c179e\"],[0.4444444444444444,\"#bd3786\"],[0.5555555555555556,\"#d8576b\"],[0.6666666666666666,\"#ed7953\"],[0.7777777777777778,\"#fb9f3a\"],[0.8888888888888888,\"#fdca26\"],[1.0,\"#f0f921\"]]}],\"mesh3d\":[{\"type\":\"mesh3d\",\"colorbar\":{\"outlinewidth\":0,\"ticks\":\"\"}}],\"scatter\":[{\"fillpattern\":{\"fillmode\":\"overlay\",\"size\":10,\"solidity\":0.2},\"type\":\"scatter\"}],\"parcoords\":[{\"type\":\"parcoords\",\"line\":{\"colorbar\":{\"outlinewidth\":0,\"ticks\":\"\"}}}],\"scatterpolargl\":[{\"type\":\"scatterpolargl\",\"marker\":{\"colorbar\":{\"outlinewidth\":0,\"ticks\":\"\"}}}],\"bar\":[{\"error_x\":{\"color\":\"#2a3f5f\"},\"error_y\":{\"color\":\"#2a3f5f\"},\"marker\":{\"line\":{\"color\":\"#E5ECF6\",\"width\":0.5},\"pattern\":{\"fillmode\":\"overlay\",\"size\":10,\"solidity\":0.2}},\"type\":\"bar\"}],\"scattergeo\":[{\"type\":\"scattergeo\",\"marker\":{\"colorbar\":{\"outlinewidth\":0,\"ticks\":\"\"}}}],\"scatterpolar\":[{\"type\":\"scatterpolar\",\"marker\":{\"colorbar\":{\"outlinewidth\":0,\"ticks\":\"\"}}}],\"histogram\":[{\"marker\":{\"pattern\":{\"fillmode\":\"overlay\",\"size\":10,\"solidity\":0.2}},\"type\":\"histogram\"}],\"scattergl\":[{\"type\":\"scattergl\",\"marker\":{\"colorbar\":{\"outlinewidth\":0,\"ticks\":\"\"}}}],\"scatter3d\":[{\"type\":\"scatter3d\",\"line\":{\"colorbar\":{\"outlinewidth\":0,\"ticks\":\"\"}},\"marker\":{\"colorbar\":{\"outlinewidth\":0,\"ticks\":\"\"}}}],\"scattermapbox\":[{\"type\":\"scattermapbox\",\"marker\":{\"colorbar\":{\"outlinewidth\":0,\"ticks\":\"\"}}}],\"scatterternary\":[{\"type\":\"scatterternary\",\"marker\":{\"colorbar\":{\"outlinewidth\":0,\"ticks\":\"\"}}}],\"scattercarpet\":[{\"type\":\"scattercarpet\",\"marker\":{\"colorbar\":{\"outlinewidth\":0,\"ticks\":\"\"}}}],\"carpet\":[{\"aaxis\":{\"endlinecolor\":\"#2a3f5f\",\"gridcolor\":\"white\",\"linecolor\":\"white\",\"minorgridcolor\":\"white\",\"startlinecolor\":\"#2a3f5f\"},\"baxis\":{\"endlinecolor\":\"#2a3f5f\",\"gridcolor\":\"white\",\"linecolor\":\"white\",\"minorgridcolor\":\"white\",\"startlinecolor\":\"#2a3f5f\"},\"type\":\"carpet\"}],\"table\":[{\"cells\":{\"fill\":{\"color\":\"#EBF0F8\"},\"line\":{\"color\":\"white\"}},\"header\":{\"fill\":{\"color\":\"#C8D4E3\"},\"line\":{\"color\":\"white\"}},\"type\":\"table\"}],\"barpolar\":[{\"marker\":{\"line\":{\"color\":\"#E5ECF6\",\"width\":0.5},\"pattern\":{\"fillmode\":\"overlay\",\"size\":10,\"solidity\":0.2}},\"type\":\"barpolar\"}],\"pie\":[{\"automargin\":true,\"type\":\"pie\"}]},\"layout\":{\"autotypenumbers\":\"strict\",\"colorway\":[\"#636efa\",\"#EF553B\",\"#00cc96\",\"#ab63fa\",\"#FFA15A\",\"#19d3f3\",\"#FF6692\",\"#B6E880\",\"#FF97FF\",\"#FECB52\"],\"font\":{\"color\":\"#2a3f5f\"},\"hovermode\":\"closest\",\"hoverlabel\":{\"align\":\"left\"},\"paper_bgcolor\":\"white\",\"plot_bgcolor\":\"#E5ECF6\",\"polar\":{\"bgcolor\":\"#E5ECF6\",\"angularaxis\":{\"gridcolor\":\"white\",\"linecolor\":\"white\",\"ticks\":\"\"},\"radialaxis\":{\"gridcolor\":\"white\",\"linecolor\":\"white\",\"ticks\":\"\"}},\"ternary\":{\"bgcolor\":\"#E5ECF6\",\"aaxis\":{\"gridcolor\":\"white\",\"linecolor\":\"white\",\"ticks\":\"\"},\"baxis\":{\"gridcolor\":\"white\",\"linecolor\":\"white\",\"ticks\":\"\"},\"caxis\":{\"gridcolor\":\"white\",\"linecolor\":\"white\",\"ticks\":\"\"}},\"coloraxis\":{\"colorbar\":{\"outlinewidth\":0,\"ticks\":\"\"}},\"colorscale\":{\"sequential\":[[0.0,\"#0d0887\"],[0.1111111111111111,\"#46039f\"],[0.2222222222222222,\"#7201a8\"],[0.3333333333333333,\"#9c179e\"],[0.4444444444444444,\"#bd3786\"],[0.5555555555555556,\"#d8576b\"],[0.6666666666666666,\"#ed7953\"],[0.7777777777777778,\"#fb9f3a\"],[0.8888888888888888,\"#fdca26\"],[1.0,\"#f0f921\"]],\"sequentialminus\":[[0.0,\"#0d0887\"],[0.1111111111111111,\"#46039f\"],[0.2222222222222222,\"#7201a8\"],[0.3333333333333333,\"#9c179e\"],[0.4444444444444444,\"#bd3786\"],[0.5555555555555556,\"#d8576b\"],[0.6666666666666666,\"#ed7953\"],[0.7777777777777778,\"#fb9f3a\"],[0.8888888888888888,\"#fdca26\"],[1.0,\"#f0f921\"]],\"diverging\":[[0,\"#8e0152\"],[0.1,\"#c51b7d\"],[0.2,\"#de77ae\"],[0.3,\"#f1b6da\"],[0.4,\"#fde0ef\"],[0.5,\"#f7f7f7\"],[0.6,\"#e6f5d0\"],[0.7,\"#b8e186\"],[0.8,\"#7fbc41\"],[0.9,\"#4d9221\"],[1,\"#276419\"]]},\"xaxis\":{\"gridcolor\":\"white\",\"linecolor\":\"white\",\"ticks\":\"\",\"title\":{\"standoff\":15},\"zerolinecolor\":\"white\",\"automargin\":true,\"zerolinewidth\":2},\"yaxis\":{\"gridcolor\":\"white\",\"linecolor\":\"white\",\"ticks\":\"\",\"title\":{\"standoff\":15},\"zerolinecolor\":\"white\",\"automargin\":true,\"zerolinewidth\":2},\"scene\":{\"xaxis\":{\"backgroundcolor\":\"#E5ECF6\",\"gridcolor\":\"white\",\"linecolor\":\"white\",\"showbackground\":true,\"ticks\":\"\",\"zerolinecolor\":\"white\",\"gridwidth\":2},\"yaxis\":{\"backgroundcolor\":\"#E5ECF6\",\"gridcolor\":\"white\",\"linecolor\":\"white\",\"showbackground\":true,\"ticks\":\"\",\"zerolinecolor\":\"white\",\"gridwidth\":2},\"zaxis\":{\"backgroundcolor\":\"#E5ECF6\",\"gridcolor\":\"white\",\"linecolor\":\"white\",\"showbackground\":true,\"ticks\":\"\",\"zerolinecolor\":\"white\",\"gridwidth\":2}},\"shapedefaults\":{\"line\":{\"color\":\"#2a3f5f\"}},\"annotationdefaults\":{\"arrowcolor\":\"#2a3f5f\",\"arrowhead\":0,\"arrowwidth\":1},\"geo\":{\"bgcolor\":\"white\",\"landcolor\":\"#E5ECF6\",\"subunitcolor\":\"white\",\"showland\":true,\"showlakes\":true,\"lakecolor\":\"white\"},\"title\":{\"x\":0.05},\"mapbox\":{\"style\":\"light\"}}},\"xaxis\":{\"anchor\":\"y\",\"domain\":[0.0,1.0],\"title\":{\"text\":\"LoanAmount\"}},\"yaxis\":{\"anchor\":\"x\",\"domain\":[0.0,1.0],\"title\":{\"text\":\"count\"}},\"legend\":{\"tracegroupgap\":0},\"margin\":{\"t\":60},\"barmode\":\"relative\"},                        {\"responsive\": true}                    ).then(function(){\n",
       "                            \n",
       "var gd = document.getElementById('8ca2f27b-1c08-4eb3-b29d-63f36c4764e0');\n",
       "var x = new MutationObserver(function (mutations, observer) {{\n",
       "        var display = window.getComputedStyle(gd).display;\n",
       "        if (!display || display === 'none') {{\n",
       "            console.log([gd, 'removed!']);\n",
       "            Plotly.purge(gd);\n",
       "            observer.disconnect();\n",
       "        }}\n",
       "}});\n",
       "\n",
       "// Listen for the removal of the full notebook cells\n",
       "var notebookContainer = gd.closest('#notebook-container');\n",
       "if (notebookContainer) {{\n",
       "    x.observe(notebookContainer, {childList: true});\n",
       "}}\n",
       "\n",
       "// Listen for the clearing of the current output cell\n",
       "var outputEl = gd.closest('.output');\n",
       "if (outputEl) {{\n",
       "    x.observe(outputEl, {childList: true});\n",
       "}}\n",
       "\n",
       "                        })                };                });            </script>        </div>"
      ]
     },
     "metadata": {},
     "output_type": "display_data"
    }
   ],
   "source": [
    "fig=px.histogram(data,x='LoanAmount')\n",
    "fig.show()"
   ]
  },
  {
   "cell_type": "code",
   "execution_count": 770,
   "id": "658c0b6f",
   "metadata": {},
   "outputs": [
    {
     "data": {
      "text/plain": [
       "<Axes: xlabel='LoanAmount', ylabel='Density'>"
      ]
     },
     "execution_count": 770,
     "metadata": {},
     "output_type": "execute_result"
    },
    {
     "data": {
      "image/png": "[encoded data removed]",
      "text/plain": [
       "<Figure size 640x480 with 1 Axes>"
      ]
     },
     "metadata": {},
     "output_type": "display_data"
    }
   ],
   "source": [
    "sns.distplot(data['LoanAmount'])"
   ]
  },
  {
   "cell_type": "code",
   "execution_count": 771,
   "id": "55433cb5",
   "metadata": {},
   "outputs": [
    {
     "data": {
      "text/plain": [
       "0    128.0\n",
       "1    128.0\n",
       "2     66.0\n",
       "Name: LoanAmount, dtype: float64"
      ]
     },
     "execution_count": 771,
     "metadata": {},
     "output_type": "execute_result"
    }
   ],
   "source": [
    "# Handle outliers with log tranform\n",
    "data1=data\n",
    "data1['LoanAmount'].head(3)"
   ]
  },
  {
   "cell_type": "code",
   "execution_count": 772,
   "id": "6688616f",
   "metadata": {},
   "outputs": [
    {
     "data": {
      "text/plain": [
       "0    4.852030\n",
       "1    4.852030\n",
       "2    4.189655\n",
       "Name: LoanAmount, dtype: float64"
      ]
     },
     "execution_count": 772,
     "metadata": {},
     "output_type": "execute_result"
    }
   ],
   "source": [
    "data1['LoanAmount']=np.log(data1['LoanAmount'])\n",
    "data1['LoanAmount'].head(3)"
   ]
  },
  {
   "cell_type": "code",
   "execution_count": null,
   "id": "5b74d66e",
   "metadata": {},
   "outputs": [],
   "source": []
  },
  {
   "cell_type": "code",
   "execution_count": 773,
   "id": "35dfb826",
   "metadata": {},
   "outputs": [
    {
     "data": {
      "text/plain": [
       "<Axes: xlabel='LoanAmount', ylabel='Density'>"
      ]
     },
     "execution_count": 773,
     "metadata": {},
     "output_type": "execute_result"
    },
    {
     "data": {
      "image/png": "[encoded data removed]",
      "text/plain": [
       "<Figure size 640x480 with 1 Axes>"
      ]
     },
     "metadata": {},
     "output_type": "display_data"
    }
   ],
   "source": [
    "sns.distplot(data1['LoanAmount'])"
   ]
  },
  {
   "cell_type": "code",
   "execution_count": 774,
   "id": "f0562d8c",
   "metadata": {},
   "outputs": [
    {
     "name": "stdout",
     "output_type": "stream",
     "text": [
      "2\n"
     ]
    }
   ],
   "source": [
    "# Remove the outliers\n",
    "# IQR=Q3-Q1\n",
    "Q1=np.quantile(data1['LoanAmount'],0.25)\n",
    "Q3=np.quantile(data1['LoanAmount'],0.75)\n",
    "IQR=Q3-Q1\n",
    "\n",
    "UB=Q3+3*IQR\n",
    "LB=Q1-3*IQR\n",
    "\n",
    "#print(Q1,Q3,LB,UB)\n",
    "\n",
    "outliers=data1[(data1['LoanAmount']<=LB) | (data1['LoanAmount']>=UB)]\n",
    "print(len(outliers))"
   ]
  },
  {
   "cell_type": "markdown",
   "id": "71ccd6c3",
   "metadata": {},
   "source": [
    "## Discrepancies / Inconsistencies in data"
   ]
  },
  {
   "cell_type": "code",
   "execution_count": 775,
   "id": "a09f64ca",
   "metadata": {},
   "outputs": [
    {
     "data": {
      "text/plain": [
       "0     360\n",
       "1     102\n",
       "2     101\n",
       "3+     51\n",
       "Name: Dependents, dtype: int64"
      ]
     },
     "execution_count": 775,
     "metadata": {},
     "output_type": "execute_result"
    }
   ],
   "source": [
    "# Repalce 3+ with 4\n",
    "data['Dependents'].value_counts()"
   ]
  },
  {
   "cell_type": "code",
   "execution_count": null,
   "id": "8197044c",
   "metadata": {},
   "outputs": [],
   "source": []
  },
  {
   "cell_type": "code",
   "execution_count": 776,
   "id": "4c1c59a5",
   "metadata": {},
   "outputs": [],
   "source": [
    "data=data.replace(to_replace='3+',value=4)"
   ]
  },
  {
   "cell_type": "code",
   "execution_count": 777,
   "id": "df263bd7",
   "metadata": {},
   "outputs": [
    {
     "data": {
      "text/html": [
       "<div>\n",
       "<style scoped>\n",
       "    .dataframe tbody tr th:only-of-type {\n",
       "        vertical-align: middle;\n",
       "    }\n",
       "\n",
       "    .dataframe tbody tr th {\n",
       "        vertical-align: top;\n",
       "    }\n",
       "\n",
       "    .dataframe thead th {\n",
       "        text-align: right;\n",
       "    }\n",
       "</style>\n",
       "<table border=\"1\" class=\"dataframe\">\n",
       "  <thead>\n",
       "    <tr style=\"text-align: right;\">\n",
       "      <th></th>\n",
       "      <th>Gender</th>\n",
       "      <th>Married</th>\n",
       "      <th>Dependents</th>\n",
       "      <th>Education</th>\n",
       "      <th>Self_Employed</th>\n",
       "      <th>ApplicantIncome</th>\n",
       "      <th>CoapplicantIncome</th>\n",
       "      <th>LoanAmount</th>\n",
       "      <th>Loan_Amount_Term</th>\n",
       "      <th>Credit_History</th>\n",
       "      <th>Property_Area</th>\n",
       "      <th>Loan_Status</th>\n",
       "    </tr>\n",
       "  </thead>\n",
       "  <tbody>\n",
       "    <tr>\n",
       "      <th>0</th>\n",
       "      <td>Male</td>\n",
       "      <td>No</td>\n",
       "      <td>0</td>\n",
       "      <td>Graduate</td>\n",
       "      <td>No</td>\n",
       "      <td>5849</td>\n",
       "      <td>0.0</td>\n",
       "      <td>4.852030</td>\n",
       "      <td>360.0</td>\n",
       "      <td>1.0</td>\n",
       "      <td>Urban</td>\n",
       "      <td>Y</td>\n",
       "    </tr>\n",
       "    <tr>\n",
       "      <th>1</th>\n",
       "      <td>Male</td>\n",
       "      <td>Yes</td>\n",
       "      <td>1</td>\n",
       "      <td>Graduate</td>\n",
       "      <td>No</td>\n",
       "      <td>4583</td>\n",
       "      <td>1508.0</td>\n",
       "      <td>4.852030</td>\n",
       "      <td>360.0</td>\n",
       "      <td>1.0</td>\n",
       "      <td>Rural</td>\n",
       "      <td>N</td>\n",
       "    </tr>\n",
       "    <tr>\n",
       "      <th>2</th>\n",
       "      <td>Male</td>\n",
       "      <td>Yes</td>\n",
       "      <td>0</td>\n",
       "      <td>Graduate</td>\n",
       "      <td>Yes</td>\n",
       "      <td>3000</td>\n",
       "      <td>0.0</td>\n",
       "      <td>4.189655</td>\n",
       "      <td>360.0</td>\n",
       "      <td>1.0</td>\n",
       "      <td>Urban</td>\n",
       "      <td>Y</td>\n",
       "    </tr>\n",
       "  </tbody>\n",
       "</table>\n",
       "</div>"
      ],
      "text/plain": [
       "  Gender Married Dependents Education Self_Employed  ApplicantIncome  \\\n",
       "0   Male      No          0  Graduate            No             5849   \n",
       "1   Male     Yes          1  Graduate            No             4583   \n",
       "2   Male     Yes          0  Graduate           Yes             3000   \n",
       "\n",
       "   CoapplicantIncome  LoanAmount  Loan_Amount_Term  Credit_History  \\\n",
       "0                0.0    4.852030             360.0             1.0   \n",
       "1             1508.0    4.852030             360.0             1.0   \n",
       "2                0.0    4.189655             360.0             1.0   \n",
       "\n",
       "  Property_Area Loan_Status  \n",
       "0         Urban           Y  \n",
       "1         Rural           N  \n",
       "2         Urban           Y  "
      ]
     },
     "execution_count": 777,
     "metadata": {},
     "output_type": "execute_result"
    }
   ],
   "source": [
    "data.head(3)"
   ]
  },
  {
   "cell_type": "code",
   "execution_count": 778,
   "id": "68235f17",
   "metadata": {},
   "outputs": [
    {
     "data": {
      "text/plain": [
       "0    360\n",
       "1    102\n",
       "2    101\n",
       "4     51\n",
       "Name: Dependents, dtype: int64"
      ]
     },
     "execution_count": 778,
     "metadata": {},
     "output_type": "execute_result"
    }
   ],
   "source": [
    "data['Dependents'].value_counts()"
   ]
  },
  {
   "cell_type": "markdown",
   "id": "53fff370",
   "metadata": {},
   "source": [
    "# Feature Engineering"
   ]
  },
  {
   "cell_type": "markdown",
   "id": "7a5016e6",
   "metadata": {},
   "source": [
    "- Create a new feature / attribute\n",
    "- Transform the existing feature \n",
    "- Feature can be numeric, categorical"
   ]
  },
  {
   "cell_type": "markdown",
   "id": "a24b9f61",
   "metadata": {},
   "source": [
    "## Variable Transformation\n",
    "- Categorical Variable Transformations -Encoding Techniques\n",
    "- Numeric Variable Transformation - Standardization and Normalization "
   ]
  },
  {
   "cell_type": "markdown",
   "id": "8e94c5ae",
   "metadata": {},
   "source": [
    "## Categorical Variable Transformations -Encoding Techniques\n",
    "- one-hot encoding\n",
    "- count encoding\n",
    "- label encoding\n",
    "- ordinal encoding"
   ]
  },
  {
   "cell_type": "markdown",
   "id": "412be384",
   "metadata": {},
   "source": [
    "## one-hot encoding \n",
    "- Each category is represented as a binary vector with 0s and a single 1.\n",
    "- One-hot encoding is preferred in situations where there is no ordinal relationship between categories, and each category is treated as independent."
   ]
  },
  {
   "cell_type": "code",
   "execution_count": 779,
   "id": "0dffc8aa",
   "metadata": {},
   "outputs": [],
   "source": [
    "#pip install -U scikit-learn"
   ]
  },
  {
   "cell_type": "code",
   "execution_count": 780,
   "id": "9365bf48",
   "metadata": {},
   "outputs": [
    {
     "name": "stdout",
     "output_type": "stream",
     "text": [
      "   colors_Green  colors_blue  colors_red\n",
      "0           0.0          0.0         1.0\n",
      "1           1.0          0.0         0.0\n",
      "2           0.0          1.0         0.0\n",
      "3           1.0          0.0         0.0\n",
      "4           0.0          0.0         1.0\n"
     ]
    }
   ],
   "source": [
    "import pandas as pd\n",
    "from sklearn.preprocessing import OneHotEncoder\n",
    "df=pd.DataFrame({'colors':['red','Green','blue','Green','red']})\n",
    "encd=OneHotEncoder()\n",
    "encoded_data=encd.fit_transform(df[['colors']])\n",
    "encoded_data=pd.DataFrame(encoded_data.toarray(),columns=encd.get_feature_names_out())\n",
    "print(encoded_data)"
   ]
  },
  {
   "cell_type": "code",
   "execution_count": 781,
   "id": "4ed17aa9",
   "metadata": {},
   "outputs": [],
   "source": [
    "# blue Green red\n",
    "# 0     0     1\n",
    "# 0     1     0\n",
    "# 1     0     0\n",
    "# 0     1     0\n",
    "# 0     0     1"
   ]
  },
  {
   "cell_type": "code",
   "execution_count": 782,
   "id": "0b4370d6",
   "metadata": {},
   "outputs": [],
   "source": [
    "#pip install category_encoders\n"
   ]
  },
  {
   "cell_type": "markdown",
   "id": "8dd6fdbc",
   "metadata": {},
   "source": [
    "## Count Encoding\n",
    "- is used to convert categorical variables into numerical format by assigning the frequency count of each category"
   ]
  },
  {
   "cell_type": "code",
   "execution_count": 783,
   "id": "b7bcb954",
   "metadata": {},
   "outputs": [
    {
     "name": "stdout",
     "output_type": "stream",
     "text": [
      "   colors\n",
      "0       2\n",
      "1       2\n",
      "2       1\n",
      "3       2\n",
      "4       2\n"
     ]
    }
   ],
   "source": [
    "# Count Encoding\n",
    "import pandas as pd\n",
    "import category_encoders as ce\n",
    "df=pd.DataFrame({'colors':['red','Green','blue','Green','red']})\n",
    "encd = ce.CountEncoder()\n",
    "encoded_data=encd.fit_transform(df['colors'])\n",
    "encoded_data=pd.DataFrame(encoded_data,columns=encd.get_feature_names_out())\n",
    "print(encoded_data)"
   ]
  },
  {
   "cell_type": "code",
   "execution_count": 784,
   "id": "3c7a5f18",
   "metadata": {},
   "outputs": [],
   "source": [
    "# color    count\n",
    "# red      2\n",
    "# Green    2\n",
    "# blue     1\n",
    "# Green    2\n",
    "# red      2\n"
   ]
  },
  {
   "cell_type": "markdown",
   "id": "a27be0e2",
   "metadata": {},
   "source": [
    "## Label Encoding\n",
    "- Label encoding assigns a unique integer label to each category "
   ]
  },
  {
   "cell_type": "code",
   "execution_count": 785,
   "id": "b145e9d5",
   "metadata": {},
   "outputs": [
    {
     "data": {
      "text/html": [
       "<div>\n",
       "<style scoped>\n",
       "    .dataframe tbody tr th:only-of-type {\n",
       "        vertical-align: middle;\n",
       "    }\n",
       "\n",
       "    .dataframe tbody tr th {\n",
       "        vertical-align: top;\n",
       "    }\n",
       "\n",
       "    .dataframe thead th {\n",
       "        text-align: right;\n",
       "    }\n",
       "</style>\n",
       "<table border=\"1\" class=\"dataframe\">\n",
       "  <thead>\n",
       "    <tr style=\"text-align: right;\">\n",
       "      <th></th>\n",
       "      <th>Size</th>\n",
       "    </tr>\n",
       "  </thead>\n",
       "  <tbody>\n",
       "    <tr>\n",
       "      <th>0</th>\n",
       "      <td>Small</td>\n",
       "    </tr>\n",
       "    <tr>\n",
       "      <th>1</th>\n",
       "      <td>Medium</td>\n",
       "    </tr>\n",
       "    <tr>\n",
       "      <th>2</th>\n",
       "      <td>Large</td>\n",
       "    </tr>\n",
       "    <tr>\n",
       "      <th>3</th>\n",
       "      <td>ExtraLarge</td>\n",
       "    </tr>\n",
       "  </tbody>\n",
       "</table>\n",
       "</div>"
      ],
      "text/plain": [
       "         Size\n",
       "0       Small\n",
       "1      Medium\n",
       "2       Large\n",
       "3  ExtraLarge"
      ]
     },
     "execution_count": 785,
     "metadata": {},
     "output_type": "execute_result"
    }
   ],
   "source": [
    "from sklearn.preprocessing import LabelEncoder\n",
    "df=pd.DataFrame({'Size': [\"Small\",\"Medium\",\"Large\",\"ExtraLarge\"]})\n",
    "df"
   ]
  },
  {
   "cell_type": "code",
   "execution_count": 786,
   "id": "67df0132",
   "metadata": {},
   "outputs": [],
   "source": [
    "# initialize the encoder\n",
    "encd=LabelEncoder()"
   ]
  },
  {
   "cell_type": "code",
   "execution_count": 787,
   "id": "e61af335",
   "metadata": {},
   "outputs": [],
   "source": [
    "# Fit and transform the data\n",
    "encd_data=encd.fit_transform(df['Size'])"
   ]
  },
  {
   "cell_type": "code",
   "execution_count": 788,
   "id": "d8ab25bb",
   "metadata": {},
   "outputs": [
    {
     "name": "stdout",
     "output_type": "stream",
     "text": [
      "         Size  Encd_data\n",
      "0       Small          3\n",
      "1      Medium          2\n",
      "2       Large          1\n",
      "3  ExtraLarge          0\n"
     ]
    }
   ],
   "source": [
    "df['Encd_data']=encd_data\n",
    "print(df)"
   ]
  },
  {
   "cell_type": "markdown",
   "id": "0b339205",
   "metadata": {},
   "source": [
    "## Ordinal Encoding\n",
    "- convert categorical into numerical while preserving the ordinal information"
   ]
  },
  {
   "cell_type": "code",
   "execution_count": 789,
   "id": "7dde4712",
   "metadata": {},
   "outputs": [
    {
     "data": {
      "text/html": [
       "<div>\n",
       "<style scoped>\n",
       "    .dataframe tbody tr th:only-of-type {\n",
       "        vertical-align: middle;\n",
       "    }\n",
       "\n",
       "    .dataframe tbody tr th {\n",
       "        vertical-align: top;\n",
       "    }\n",
       "\n",
       "    .dataframe thead th {\n",
       "        text-align: right;\n",
       "    }\n",
       "</style>\n",
       "<table border=\"1\" class=\"dataframe\">\n",
       "  <thead>\n",
       "    <tr style=\"text-align: right;\">\n",
       "      <th></th>\n",
       "      <th>FeedBack</th>\n",
       "    </tr>\n",
       "  </thead>\n",
       "  <tbody>\n",
       "    <tr>\n",
       "      <th>0</th>\n",
       "      <td>Average</td>\n",
       "    </tr>\n",
       "    <tr>\n",
       "      <th>1</th>\n",
       "      <td>Good</td>\n",
       "    </tr>\n",
       "    <tr>\n",
       "      <th>2</th>\n",
       "      <td>Average</td>\n",
       "    </tr>\n",
       "    <tr>\n",
       "      <th>3</th>\n",
       "      <td>Poor</td>\n",
       "    </tr>\n",
       "    <tr>\n",
       "      <th>4</th>\n",
       "      <td>Excellent</td>\n",
       "    </tr>\n",
       "    <tr>\n",
       "      <th>5</th>\n",
       "      <td>Good</td>\n",
       "    </tr>\n",
       "    <tr>\n",
       "      <th>6</th>\n",
       "      <td>Verypoor</td>\n",
       "    </tr>\n",
       "    <tr>\n",
       "      <th>7</th>\n",
       "      <td>Good</td>\n",
       "    </tr>\n",
       "    <tr>\n",
       "      <th>8</th>\n",
       "      <td>Average</td>\n",
       "    </tr>\n",
       "    <tr>\n",
       "      <th>9</th>\n",
       "      <td>Poor</td>\n",
       "    </tr>\n",
       "    <tr>\n",
       "      <th>10</th>\n",
       "      <td>Excellent</td>\n",
       "    </tr>\n",
       "    <tr>\n",
       "      <th>11</th>\n",
       "      <td>Verypoor</td>\n",
       "    </tr>\n",
       "  </tbody>\n",
       "</table>\n",
       "</div>"
      ],
      "text/plain": [
       "     FeedBack\n",
       "0     Average\n",
       "1        Good\n",
       "2     Average\n",
       "3        Poor\n",
       "4   Excellent\n",
       "5        Good\n",
       "6    Verypoor\n",
       "7        Good\n",
       "8     Average\n",
       "9        Poor\n",
       "10  Excellent\n",
       "11   Verypoor"
      ]
     },
     "execution_count": 789,
     "metadata": {},
     "output_type": "execute_result"
    }
   ],
   "source": [
    "df1=pd.DataFrame({'FeedBack': [\"Average\",\"Good\",\"Average\",\"Poor\",\"Excellent\",\"Good\",\"Verypoor\",\"Good\",\"Average\",\"Poor\",\"Excellent\",\"Verypoor\"]})\n",
    "df1\n",
    "\n",
    "# The scale is : VeryPoor:0, Poor:1,Average:2,Good:3,Excellent:4"
   ]
  },
  {
   "cell_type": "code",
   "execution_count": 790,
   "id": "3ae1e13d",
   "metadata": {},
   "outputs": [],
   "source": [
    "# Define the order\n",
    "order=[\"Verypoor\",\"Poor\",\"Average\",\"Good\",\"Excellent\"]"
   ]
  },
  {
   "cell_type": "code",
   "execution_count": 791,
   "id": "71ad3330",
   "metadata": {},
   "outputs": [
    {
     "name": "stdout",
     "output_type": "stream",
     "text": [
      "     FeedBack  FeedBack_codes\n",
      "0     Average               2\n",
      "1        Good               3\n",
      "2     Average               2\n",
      "3        Poor               1\n",
      "4   Excellent               4\n",
      "5        Good               3\n",
      "6    Verypoor               0\n",
      "7        Good               3\n",
      "8     Average               2\n",
      "9        Poor               1\n",
      "10  Excellent               4\n",
      "11   Verypoor               0\n"
     ]
    }
   ],
   "source": [
    "# convert the categorical with specified order\n",
    "df1['FeedBack_codes']=pd.Categorical(df1[\"FeedBack\"], categories=order, ordered=True).codes\n",
    "print(df1)"
   ]
  },
  {
   "cell_type": "code",
   "execution_count": null,
   "id": "1f475688",
   "metadata": {},
   "outputs": [],
   "source": []
  },
  {
   "cell_type": "markdown",
   "id": "ae5fca4e",
   "metadata": {},
   "source": [
    "## Apply Encoding techniques on loan dataset \n",
    "- to convert categorical to numerical"
   ]
  },
  {
   "cell_type": "code",
   "execution_count": 792,
   "id": "4a90a70a",
   "metadata": {},
   "outputs": [
    {
     "data": {
      "text/html": [
       "<div>\n",
       "<style scoped>\n",
       "    .dataframe tbody tr th:only-of-type {\n",
       "        vertical-align: middle;\n",
       "    }\n",
       "\n",
       "    .dataframe tbody tr th {\n",
       "        vertical-align: top;\n",
       "    }\n",
       "\n",
       "    .dataframe thead th {\n",
       "        text-align: right;\n",
       "    }\n",
       "</style>\n",
       "<table border=\"1\" class=\"dataframe\">\n",
       "  <thead>\n",
       "    <tr style=\"text-align: right;\">\n",
       "      <th></th>\n",
       "      <th>Gender</th>\n",
       "      <th>Married</th>\n",
       "      <th>Dependents</th>\n",
       "      <th>Education</th>\n",
       "      <th>Self_Employed</th>\n",
       "      <th>ApplicantIncome</th>\n",
       "      <th>CoapplicantIncome</th>\n",
       "      <th>LoanAmount</th>\n",
       "      <th>Loan_Amount_Term</th>\n",
       "      <th>Credit_History</th>\n",
       "      <th>Property_Area</th>\n",
       "      <th>Loan_Status</th>\n",
       "    </tr>\n",
       "  </thead>\n",
       "  <tbody>\n",
       "    <tr>\n",
       "      <th>0</th>\n",
       "      <td>Male</td>\n",
       "      <td>No</td>\n",
       "      <td>0</td>\n",
       "      <td>Graduate</td>\n",
       "      <td>No</td>\n",
       "      <td>5849</td>\n",
       "      <td>0.0</td>\n",
       "      <td>4.852030</td>\n",
       "      <td>360.0</td>\n",
       "      <td>1.0</td>\n",
       "      <td>Urban</td>\n",
       "      <td>Y</td>\n",
       "    </tr>\n",
       "    <tr>\n",
       "      <th>1</th>\n",
       "      <td>Male</td>\n",
       "      <td>Yes</td>\n",
       "      <td>1</td>\n",
       "      <td>Graduate</td>\n",
       "      <td>No</td>\n",
       "      <td>4583</td>\n",
       "      <td>1508.0</td>\n",
       "      <td>4.852030</td>\n",
       "      <td>360.0</td>\n",
       "      <td>1.0</td>\n",
       "      <td>Rural</td>\n",
       "      <td>N</td>\n",
       "    </tr>\n",
       "    <tr>\n",
       "      <th>2</th>\n",
       "      <td>Male</td>\n",
       "      <td>Yes</td>\n",
       "      <td>0</td>\n",
       "      <td>Graduate</td>\n",
       "      <td>Yes</td>\n",
       "      <td>3000</td>\n",
       "      <td>0.0</td>\n",
       "      <td>4.189655</td>\n",
       "      <td>360.0</td>\n",
       "      <td>1.0</td>\n",
       "      <td>Urban</td>\n",
       "      <td>Y</td>\n",
       "    </tr>\n",
       "    <tr>\n",
       "      <th>3</th>\n",
       "      <td>Male</td>\n",
       "      <td>Yes</td>\n",
       "      <td>0</td>\n",
       "      <td>Not Graduate</td>\n",
       "      <td>No</td>\n",
       "      <td>2583</td>\n",
       "      <td>2358.0</td>\n",
       "      <td>4.787492</td>\n",
       "      <td>360.0</td>\n",
       "      <td>1.0</td>\n",
       "      <td>Urban</td>\n",
       "      <td>Y</td>\n",
       "    </tr>\n",
       "    <tr>\n",
       "      <th>4</th>\n",
       "      <td>Male</td>\n",
       "      <td>No</td>\n",
       "      <td>0</td>\n",
       "      <td>Graduate</td>\n",
       "      <td>No</td>\n",
       "      <td>6000</td>\n",
       "      <td>0.0</td>\n",
       "      <td>4.948760</td>\n",
       "      <td>360.0</td>\n",
       "      <td>1.0</td>\n",
       "      <td>Urban</td>\n",
       "      <td>Y</td>\n",
       "    </tr>\n",
       "  </tbody>\n",
       "</table>\n",
       "</div>"
      ],
      "text/plain": [
       "  Gender Married Dependents     Education Self_Employed  ApplicantIncome  \\\n",
       "0   Male      No          0      Graduate            No             5849   \n",
       "1   Male     Yes          1      Graduate            No             4583   \n",
       "2   Male     Yes          0      Graduate           Yes             3000   \n",
       "3   Male     Yes          0  Not Graduate            No             2583   \n",
       "4   Male      No          0      Graduate            No             6000   \n",
       "\n",
       "   CoapplicantIncome  LoanAmount  Loan_Amount_Term  Credit_History  \\\n",
       "0                0.0    4.852030             360.0             1.0   \n",
       "1             1508.0    4.852030             360.0             1.0   \n",
       "2                0.0    4.189655             360.0             1.0   \n",
       "3             2358.0    4.787492             360.0             1.0   \n",
       "4                0.0    4.948760             360.0             1.0   \n",
       "\n",
       "  Property_Area Loan_Status  \n",
       "0         Urban           Y  \n",
       "1         Rural           N  \n",
       "2         Urban           Y  \n",
       "3         Urban           Y  \n",
       "4         Urban           Y  "
      ]
     },
     "execution_count": 792,
     "metadata": {},
     "output_type": "execute_result"
    }
   ],
   "source": [
    "data.head(5)"
   ]
  },
  {
   "cell_type": "code",
   "execution_count": 793,
   "id": "4dd9c344",
   "metadata": {},
   "outputs": [
    {
     "data": {
      "text/plain": [
       "Gender                object\n",
       "Married               object\n",
       "Dependents            object\n",
       "Education             object\n",
       "Self_Employed         object\n",
       "ApplicantIncome        int64\n",
       "CoapplicantIncome    float64\n",
       "LoanAmount           float64\n",
       "Loan_Amount_Term     float64\n",
       "Credit_History       float64\n",
       "Property_Area         object\n",
       "Loan_Status           object\n",
       "dtype: object"
      ]
     },
     "execution_count": 793,
     "metadata": {},
     "output_type": "execute_result"
    }
   ],
   "source": [
    "data.dtypes"
   ]
  },
  {
   "cell_type": "code",
   "execution_count": 794,
   "id": "8c0b97c8",
   "metadata": {},
   "outputs": [
    {
     "data": {
      "text/plain": [
       "0    0\n",
       "1    0\n",
       "2    0\n",
       "3    0\n",
       "4    0\n",
       "Name: Gender, dtype: int64"
      ]
     },
     "execution_count": 794,
     "metadata": {},
     "output_type": "execute_result"
    }
   ],
   "source": [
    "# Binary Encoding Technique using map() function\n",
    "data1=data\n",
    "Gender_map={'Male':0,'Female':1}                \n",
    "data1['Gender'] = data1['Gender'].map(Gender_map)    \n",
    "data1['Gender'].head(5)"
   ]
  },
  {
   "cell_type": "code",
   "execution_count": 795,
   "id": "e586002a",
   "metadata": {},
   "outputs": [
    {
     "data": {
      "text/plain": [
       "Semiurban    233\n",
       "Urban        202\n",
       "Rural        179\n",
       "Name: Property_Area, dtype: int64"
      ]
     },
     "execution_count": 795,
     "metadata": {},
     "output_type": "execute_result"
    }
   ],
   "source": [
    "data1[\"Property_Area\"].value_counts()"
   ]
  },
  {
   "cell_type": "code",
   "execution_count": 796,
   "id": "1bd8ae16",
   "metadata": {},
   "outputs": [],
   "source": [
    "Married_map={\"Yes\":1,\"No\":0}\n",
    "Education_map={\"Graduate\":1,\"Not Graduate\":0}\n",
    "# Dependents_map={'0':0,'1':1,'2':2,'4':4}\n",
    "Self_Employed_map={\"Yes\":1,\"No\":0}         \n",
    "Property_Area_map={\"Rural\":0,\"Urban\":1,\"Semiurban\":2}         \n",
    "Loan_Status_map={'Y':1,'N':0}   "
   ]
  },
  {
   "cell_type": "code",
   "execution_count": 797,
   "id": "3d0b2d8c",
   "metadata": {},
   "outputs": [],
   "source": [
    "data1['Married'] = data1['Married'].map(Married_map) \n",
    "data1['Education'] = data1['Education'].map(Education_map) \n",
    "# data1['Dependents'] = data1['Dependents'].map(Dependents_map) \n",
    "data1['Self_Employed'] = data1['Self_Employed'].map(Self_Employed_map) \n",
    "data1['Property_Area'] = data1['Property_Area'].map(Property_Area_map) \n",
    "data1['Loan_Status'] = data1['Loan_Status'].map(Loan_Status_map) "
   ]
  },
  {
   "cell_type": "code",
   "execution_count": 798,
   "id": "69d3e7f5",
   "metadata": {},
   "outputs": [
    {
     "data": {
      "text/plain": [
       "0    360\n",
       "1    102\n",
       "2    101\n",
       "4     51\n",
       "Name: Dependents, dtype: int64"
      ]
     },
     "execution_count": 798,
     "metadata": {},
     "output_type": "execute_result"
    }
   ],
   "source": [
    "data1['Dependents'].value_counts()"
   ]
  },
  {
   "cell_type": "code",
   "execution_count": 799,
   "id": "ed07ba82",
   "metadata": {},
   "outputs": [
    {
     "data": {
      "text/html": [
       "<div>\n",
       "<style scoped>\n",
       "    .dataframe tbody tr th:only-of-type {\n",
       "        vertical-align: middle;\n",
       "    }\n",
       "\n",
       "    .dataframe tbody tr th {\n",
       "        vertical-align: top;\n",
       "    }\n",
       "\n",
       "    .dataframe thead th {\n",
       "        text-align: right;\n",
       "    }\n",
       "</style>\n",
       "<table border=\"1\" class=\"dataframe\">\n",
       "  <thead>\n",
       "    <tr style=\"text-align: right;\">\n",
       "      <th></th>\n",
       "      <th>Gender</th>\n",
       "      <th>Married</th>\n",
       "      <th>Dependents</th>\n",
       "      <th>Education</th>\n",
       "      <th>Self_Employed</th>\n",
       "      <th>ApplicantIncome</th>\n",
       "      <th>CoapplicantIncome</th>\n",
       "      <th>LoanAmount</th>\n",
       "      <th>Loan_Amount_Term</th>\n",
       "      <th>Credit_History</th>\n",
       "      <th>Property_Area</th>\n",
       "      <th>Loan_Status</th>\n",
       "    </tr>\n",
       "  </thead>\n",
       "  <tbody>\n",
       "    <tr>\n",
       "      <th>0</th>\n",
       "      <td>0</td>\n",
       "      <td>0</td>\n",
       "      <td>0</td>\n",
       "      <td>1</td>\n",
       "      <td>0</td>\n",
       "      <td>5849</td>\n",
       "      <td>0.0</td>\n",
       "      <td>4.852030</td>\n",
       "      <td>360.0</td>\n",
       "      <td>1.0</td>\n",
       "      <td>1</td>\n",
       "      <td>1</td>\n",
       "    </tr>\n",
       "    <tr>\n",
       "      <th>1</th>\n",
       "      <td>0</td>\n",
       "      <td>1</td>\n",
       "      <td>1</td>\n",
       "      <td>1</td>\n",
       "      <td>0</td>\n",
       "      <td>4583</td>\n",
       "      <td>1508.0</td>\n",
       "      <td>4.852030</td>\n",
       "      <td>360.0</td>\n",
       "      <td>1.0</td>\n",
       "      <td>0</td>\n",
       "      <td>0</td>\n",
       "    </tr>\n",
       "    <tr>\n",
       "      <th>2</th>\n",
       "      <td>0</td>\n",
       "      <td>1</td>\n",
       "      <td>0</td>\n",
       "      <td>1</td>\n",
       "      <td>1</td>\n",
       "      <td>3000</td>\n",
       "      <td>0.0</td>\n",
       "      <td>4.189655</td>\n",
       "      <td>360.0</td>\n",
       "      <td>1.0</td>\n",
       "      <td>1</td>\n",
       "      <td>1</td>\n",
       "    </tr>\n",
       "    <tr>\n",
       "      <th>3</th>\n",
       "      <td>0</td>\n",
       "      <td>1</td>\n",
       "      <td>0</td>\n",
       "      <td>0</td>\n",
       "      <td>0</td>\n",
       "      <td>2583</td>\n",
       "      <td>2358.0</td>\n",
       "      <td>4.787492</td>\n",
       "      <td>360.0</td>\n",
       "      <td>1.0</td>\n",
       "      <td>1</td>\n",
       "      <td>1</td>\n",
       "    </tr>\n",
       "    <tr>\n",
       "      <th>4</th>\n",
       "      <td>0</td>\n",
       "      <td>0</td>\n",
       "      <td>0</td>\n",
       "      <td>1</td>\n",
       "      <td>0</td>\n",
       "      <td>6000</td>\n",
       "      <td>0.0</td>\n",
       "      <td>4.948760</td>\n",
       "      <td>360.0</td>\n",
       "      <td>1.0</td>\n",
       "      <td>1</td>\n",
       "      <td>1</td>\n",
       "    </tr>\n",
       "  </tbody>\n",
       "</table>\n",
       "</div>"
      ],
      "text/plain": [
       "   Gender  Married Dependents  Education  Self_Employed  ApplicantIncome  \\\n",
       "0       0        0          0          1              0             5849   \n",
       "1       0        1          1          1              0             4583   \n",
       "2       0        1          0          1              1             3000   \n",
       "3       0        1          0          0              0             2583   \n",
       "4       0        0          0          1              0             6000   \n",
       "\n",
       "   CoapplicantIncome  LoanAmount  Loan_Amount_Term  Credit_History  \\\n",
       "0                0.0    4.852030             360.0             1.0   \n",
       "1             1508.0    4.852030             360.0             1.0   \n",
       "2                0.0    4.189655             360.0             1.0   \n",
       "3             2358.0    4.787492             360.0             1.0   \n",
       "4                0.0    4.948760             360.0             1.0   \n",
       "\n",
       "   Property_Area  Loan_Status  \n",
       "0              1            1  \n",
       "1              0            0  \n",
       "2              1            1  \n",
       "3              1            1  \n",
       "4              1            1  "
      ]
     },
     "execution_count": 799,
     "metadata": {},
     "output_type": "execute_result"
    }
   ],
   "source": [
    "data1.head(5)"
   ]
  },
  {
   "cell_type": "code",
   "execution_count": 800,
   "id": "bed8cd46",
   "metadata": {},
   "outputs": [
    {
     "data": {
      "text/html": [
       "<div>\n",
       "<style scoped>\n",
       "    .dataframe tbody tr th:only-of-type {\n",
       "        vertical-align: middle;\n",
       "    }\n",
       "\n",
       "    .dataframe tbody tr th {\n",
       "        vertical-align: top;\n",
       "    }\n",
       "\n",
       "    .dataframe thead th {\n",
       "        text-align: right;\n",
       "    }\n",
       "</style>\n",
       "<table border=\"1\" class=\"dataframe\">\n",
       "  <thead>\n",
       "    <tr style=\"text-align: right;\">\n",
       "      <th></th>\n",
       "      <th>Gender</th>\n",
       "      <th>Dependents</th>\n",
       "      <th>Education</th>\n",
       "      <th>Self_Employed</th>\n",
       "      <th>ApplicantIncome</th>\n",
       "      <th>CoapplicantIncome</th>\n",
       "      <th>LoanAmount</th>\n",
       "      <th>Loan_Amount_Term</th>\n",
       "      <th>Credit_History</th>\n",
       "      <th>Property_Area</th>\n",
       "      <th>Loan_Status</th>\n",
       "    </tr>\n",
       "  </thead>\n",
       "  <tbody>\n",
       "    <tr>\n",
       "      <th>0</th>\n",
       "      <td>0</td>\n",
       "      <td>0</td>\n",
       "      <td>1</td>\n",
       "      <td>0</td>\n",
       "      <td>5849</td>\n",
       "      <td>0.0</td>\n",
       "      <td>4.852030</td>\n",
       "      <td>360.0</td>\n",
       "      <td>1.0</td>\n",
       "      <td>1</td>\n",
       "      <td>1</td>\n",
       "    </tr>\n",
       "    <tr>\n",
       "      <th>1</th>\n",
       "      <td>0</td>\n",
       "      <td>1</td>\n",
       "      <td>1</td>\n",
       "      <td>0</td>\n",
       "      <td>4583</td>\n",
       "      <td>1508.0</td>\n",
       "      <td>4.852030</td>\n",
       "      <td>360.0</td>\n",
       "      <td>1.0</td>\n",
       "      <td>0</td>\n",
       "      <td>0</td>\n",
       "    </tr>\n",
       "    <tr>\n",
       "      <th>2</th>\n",
       "      <td>0</td>\n",
       "      <td>0</td>\n",
       "      <td>1</td>\n",
       "      <td>1</td>\n",
       "      <td>3000</td>\n",
       "      <td>0.0</td>\n",
       "      <td>4.189655</td>\n",
       "      <td>360.0</td>\n",
       "      <td>1.0</td>\n",
       "      <td>1</td>\n",
       "      <td>1</td>\n",
       "    </tr>\n",
       "    <tr>\n",
       "      <th>3</th>\n",
       "      <td>0</td>\n",
       "      <td>0</td>\n",
       "      <td>0</td>\n",
       "      <td>0</td>\n",
       "      <td>2583</td>\n",
       "      <td>2358.0</td>\n",
       "      <td>4.787492</td>\n",
       "      <td>360.0</td>\n",
       "      <td>1.0</td>\n",
       "      <td>1</td>\n",
       "      <td>1</td>\n",
       "    </tr>\n",
       "  </tbody>\n",
       "</table>\n",
       "</div>"
      ],
      "text/plain": [
       "   Gender Dependents  Education  Self_Employed  ApplicantIncome  \\\n",
       "0       0          0          1              0             5849   \n",
       "1       0          1          1              0             4583   \n",
       "2       0          0          1              1             3000   \n",
       "3       0          0          0              0             2583   \n",
       "\n",
       "   CoapplicantIncome  LoanAmount  Loan_Amount_Term  Credit_History  \\\n",
       "0                0.0    4.852030             360.0             1.0   \n",
       "1             1508.0    4.852030             360.0             1.0   \n",
       "2                0.0    4.189655             360.0             1.0   \n",
       "3             2358.0    4.787492             360.0             1.0   \n",
       "\n",
       "   Property_Area  Loan_Status  \n",
       "0              1            1  \n",
       "1              0            0  \n",
       "2              1            1  \n",
       "3              1            1  "
      ]
     },
     "execution_count": 800,
     "metadata": {},
     "output_type": "execute_result"
    }
   ],
   "source": [
    "# Drop the column\n",
    "data1.drop(['Married'],inplace=True, axis=1)\n",
    "data1.head(4)"
   ]
  },
  {
   "cell_type": "markdown",
   "id": "e629679c",
   "metadata": {},
   "source": [
    "## Bivaraite Analysis "
   ]
  },
  {
   "cell_type": "markdown",
   "id": "a1b0ef1a",
   "metadata": {},
   "source": [
    "- Examine the realtionship between two variables in the dataset \n",
    "- The variables are independent and dependent (target Vaiable)"
   ]
  },
  {
   "cell_type": "markdown",
   "id": "5c6f3096",
   "metadata": {},
   "source": [
    "## Correlation"
   ]
  },
  {
   "cell_type": "code",
   "execution_count": 801,
   "id": "09729c2f",
   "metadata": {},
   "outputs": [
    {
     "data": {
      "text/html": [
       "<div>\n",
       "<style scoped>\n",
       "    .dataframe tbody tr th:only-of-type {\n",
       "        vertical-align: middle;\n",
       "    }\n",
       "\n",
       "    .dataframe tbody tr th {\n",
       "        vertical-align: top;\n",
       "    }\n",
       "\n",
       "    .dataframe thead th {\n",
       "        text-align: right;\n",
       "    }\n",
       "</style>\n",
       "<table border=\"1\" class=\"dataframe\">\n",
       "  <thead>\n",
       "    <tr style=\"text-align: right;\">\n",
       "      <th></th>\n",
       "      <th>Gender</th>\n",
       "      <th>Education</th>\n",
       "      <th>Self_Employed</th>\n",
       "      <th>ApplicantIncome</th>\n",
       "      <th>CoapplicantIncome</th>\n",
       "      <th>LoanAmount</th>\n",
       "      <th>Loan_Amount_Term</th>\n",
       "      <th>Credit_History</th>\n",
       "      <th>Property_Area</th>\n",
       "      <th>Loan_Status</th>\n",
       "    </tr>\n",
       "  </thead>\n",
       "  <tbody>\n",
       "    <tr>\n",
       "      <th>Gender</th>\n",
       "      <td>1.000000</td>\n",
       "      <td>0.045364</td>\n",
       "      <td>0.000525</td>\n",
       "      <td>-0.058809</td>\n",
       "      <td>-0.082912</td>\n",
       "      <td>-0.143388</td>\n",
       "      <td>0.074030</td>\n",
       "      <td>-0.009170</td>\n",
       "      <td>0.109521</td>\n",
       "      <td>-0.017987</td>\n",
       "    </tr>\n",
       "    <tr>\n",
       "      <th>Education</th>\n",
       "      <td>0.045364</td>\n",
       "      <td>1.000000</td>\n",
       "      <td>0.010383</td>\n",
       "      <td>0.140760</td>\n",
       "      <td>0.062290</td>\n",
       "      <td>0.145885</td>\n",
       "      <td>0.073928</td>\n",
       "      <td>0.073658</td>\n",
       "      <td>0.066740</td>\n",
       "      <td>0.085884</td>\n",
       "    </tr>\n",
       "    <tr>\n",
       "      <th>Self_Employed</th>\n",
       "      <td>0.000525</td>\n",
       "      <td>0.010383</td>\n",
       "      <td>1.000000</td>\n",
       "      <td>0.127180</td>\n",
       "      <td>-0.016100</td>\n",
       "      <td>0.109677</td>\n",
       "      <td>-0.033739</td>\n",
       "      <td>-0.001550</td>\n",
       "      <td>-0.007124</td>\n",
       "      <td>-0.003700</td>\n",
       "    </tr>\n",
       "    <tr>\n",
       "      <th>ApplicantIncome</th>\n",
       "      <td>-0.058809</td>\n",
       "      <td>0.140760</td>\n",
       "      <td>0.127180</td>\n",
       "      <td>1.000000</td>\n",
       "      <td>-0.116605</td>\n",
       "      <td>0.435392</td>\n",
       "      <td>-0.046531</td>\n",
       "      <td>-0.018615</td>\n",
       "      <td>-0.017321</td>\n",
       "      <td>-0.004710</td>\n",
       "    </tr>\n",
       "    <tr>\n",
       "      <th>CoapplicantIncome</th>\n",
       "      <td>-0.082912</td>\n",
       "      <td>0.062290</td>\n",
       "      <td>-0.016100</td>\n",
       "      <td>-0.116605</td>\n",
       "      <td>1.000000</td>\n",
       "      <td>0.206330</td>\n",
       "      <td>-0.059383</td>\n",
       "      <td>0.011134</td>\n",
       "      <td>-0.019087</td>\n",
       "      <td>-0.059187</td>\n",
       "    </tr>\n",
       "    <tr>\n",
       "      <th>LoanAmount</th>\n",
       "      <td>-0.143388</td>\n",
       "      <td>0.145885</td>\n",
       "      <td>0.109677</td>\n",
       "      <td>0.435392</td>\n",
       "      <td>0.206330</td>\n",
       "      <td>1.000000</td>\n",
       "      <td>0.085353</td>\n",
       "      <td>-0.018547</td>\n",
       "      <td>-0.039581</td>\n",
       "      <td>-0.037997</td>\n",
       "    </tr>\n",
       "    <tr>\n",
       "      <th>Loan_Amount_Term</th>\n",
       "      <td>0.074030</td>\n",
       "      <td>0.073928</td>\n",
       "      <td>-0.033739</td>\n",
       "      <td>-0.046531</td>\n",
       "      <td>-0.059383</td>\n",
       "      <td>0.085353</td>\n",
       "      <td>1.000000</td>\n",
       "      <td>-0.004705</td>\n",
       "      <td>0.016086</td>\n",
       "      <td>-0.022549</td>\n",
       "    </tr>\n",
       "    <tr>\n",
       "      <th>Credit_History</th>\n",
       "      <td>-0.009170</td>\n",
       "      <td>0.073658</td>\n",
       "      <td>-0.001550</td>\n",
       "      <td>-0.018615</td>\n",
       "      <td>0.011134</td>\n",
       "      <td>-0.018547</td>\n",
       "      <td>-0.004705</td>\n",
       "      <td>1.000000</td>\n",
       "      <td>0.033102</td>\n",
       "      <td>0.540556</td>\n",
       "    </tr>\n",
       "    <tr>\n",
       "      <th>Property_Area</th>\n",
       "      <td>0.109521</td>\n",
       "      <td>0.066740</td>\n",
       "      <td>-0.007124</td>\n",
       "      <td>-0.017321</td>\n",
       "      <td>-0.019087</td>\n",
       "      <td>-0.039581</td>\n",
       "      <td>0.016086</td>\n",
       "      <td>0.033102</td>\n",
       "      <td>1.000000</td>\n",
       "      <td>0.137545</td>\n",
       "    </tr>\n",
       "    <tr>\n",
       "      <th>Loan_Status</th>\n",
       "      <td>-0.017987</td>\n",
       "      <td>0.085884</td>\n",
       "      <td>-0.003700</td>\n",
       "      <td>-0.004710</td>\n",
       "      <td>-0.059187</td>\n",
       "      <td>-0.037997</td>\n",
       "      <td>-0.022549</td>\n",
       "      <td>0.540556</td>\n",
       "      <td>0.137545</td>\n",
       "      <td>1.000000</td>\n",
       "    </tr>\n",
       "  </tbody>\n",
       "</table>\n",
       "</div>"
      ],
      "text/plain": [
       "                     Gender  Education  Self_Employed  ApplicantIncome  \\\n",
       "Gender             1.000000   0.045364       0.000525        -0.058809   \n",
       "Education          0.045364   1.000000       0.010383         0.140760   \n",
       "Self_Employed      0.000525   0.010383       1.000000         0.127180   \n",
       "ApplicantIncome   -0.058809   0.140760       0.127180         1.000000   \n",
       "CoapplicantIncome -0.082912   0.062290      -0.016100        -0.116605   \n",
       "LoanAmount        -0.143388   0.145885       0.109677         0.435392   \n",
       "Loan_Amount_Term   0.074030   0.073928      -0.033739        -0.046531   \n",
       "Credit_History    -0.009170   0.073658      -0.001550        -0.018615   \n",
       "Property_Area      0.109521   0.066740      -0.007124        -0.017321   \n",
       "Loan_Status       -0.017987   0.085884      -0.003700        -0.004710   \n",
       "\n",
       "                   CoapplicantIncome  LoanAmount  Loan_Amount_Term  \\\n",
       "Gender                     -0.082912   -0.143388          0.074030   \n",
       "Education                   0.062290    0.145885          0.073928   \n",
       "Self_Employed              -0.016100    0.109677         -0.033739   \n",
       "ApplicantIncome            -0.116605    0.435392         -0.046531   \n",
       "CoapplicantIncome           1.000000    0.206330         -0.059383   \n",
       "LoanAmount                  0.206330    1.000000          0.085353   \n",
       "Loan_Amount_Term           -0.059383    0.085353          1.000000   \n",
       "Credit_History              0.011134   -0.018547         -0.004705   \n",
       "Property_Area              -0.019087   -0.039581          0.016086   \n",
       "Loan_Status                -0.059187   -0.037997         -0.022549   \n",
       "\n",
       "                   Credit_History  Property_Area  Loan_Status  \n",
       "Gender                  -0.009170       0.109521    -0.017987  \n",
       "Education                0.073658       0.066740     0.085884  \n",
       "Self_Employed           -0.001550      -0.007124    -0.003700  \n",
       "ApplicantIncome         -0.018615      -0.017321    -0.004710  \n",
       "CoapplicantIncome        0.011134      -0.019087    -0.059187  \n",
       "LoanAmount              -0.018547      -0.039581    -0.037997  \n",
       "Loan_Amount_Term        -0.004705       0.016086    -0.022549  \n",
       "Credit_History           1.000000       0.033102     0.540556  \n",
       "Property_Area            0.033102       1.000000     0.137545  \n",
       "Loan_Status              0.540556       0.137545     1.000000  "
      ]
     },
     "execution_count": 801,
     "metadata": {},
     "output_type": "execute_result"
    }
   ],
   "source": [
    "corrs = data1.corr()\n",
    "corrs"
   ]
  },
  {
   "cell_type": "code",
   "execution_count": 802,
   "id": "d6a263a3",
   "metadata": {},
   "outputs": [
    {
     "data": {
      "text/plain": [
       "<Axes: >"
      ]
     },
     "execution_count": 802,
     "metadata": {},
     "output_type": "execute_result"
    },
    {
     "data": {
      "image/png": "[encoded data removed]",
      "text/plain": [
       "<Figure size 1000x1200 with 2 Axes>"
      ]
     },
     "metadata": {},
     "output_type": "display_data"
    }
   ],
   "source": [
    "# Heatmap is used to provide the association among the variables in the dataset\n",
    "matrix = data1.corr()\n",
    "plt.subplots(figsize=(10,12))\n",
    "sns.heatmap(matrix,vmax=.8,square=True,cmap='RdYlGn', annot = True)\n"
   ]
  },
  {
   "cell_type": "markdown",
   "id": "59ea690b",
   "metadata": {},
   "source": [
    "# Model Planning"
   ]
  },
  {
   "cell_type": "markdown",
   "id": "a341aa3a",
   "metadata": {},
   "source": [
    "### Loan dataset is having a target column hence suprevised learning algorithm can be used.\n",
    "### Regression\n",
    "### Classfication"
   ]
  },
  {
   "cell_type": "markdown",
   "id": "1a5ff0c8",
   "metadata": {},
   "source": [
    "### Regression: target variable is numeric (Linear)\n",
    "### Classification: target variable  is categorical (non linear)    \n"
   ]
  },
  {
   "cell_type": "markdown",
   "id": "5baffa4c",
   "metadata": {},
   "source": [
    "### Regression\n",
    "- Linear : y=mx+c y=beta0+beta1*x\n",
    "    Multiple y=beta0+beta1*x1+beta2*x2\n",
    "- Polynomial y=beta0+beta1*x+beta2*x^2\n",
    "- Lasso\n",
    "- Ridge   "
   ]
  },
  {
   "cell_type": "markdown",
   "id": "9f60c2d8",
   "metadata": {},
   "source": [
    "# Construct the Linear Regression Model \n",
    "- import the libraries\n",
    "- Load the dataset\n",
    "- Pre-Process the data\n",
    "- Split the dataset into train and test\n",
    "- Create the Linear Regression Model\n",
    "- Evaluate the Model"
   ]
  },
  {
   "cell_type": "code",
   "execution_count": 803,
   "id": "dd5aeee7",
   "metadata": {},
   "outputs": [],
   "source": [
    "import pandas as pd\n",
    "import numpy as np\n",
    "\n",
    "from sklearn.linear_model import LinearRegression\n",
    "from sklearn.model_selection import train_test_split\n",
    "\n",
    "import matplotlib.pyplot as plt\n",
    "import seaborn as sns\n",
    "\n",
    "import warnings\n",
    "warnings.filterwarnings(\"ignore\")"
   ]
  },
  {
   "cell_type": "code",
   "execution_count": 804,
   "id": "1fd8c3b5",
   "metadata": {},
   "outputs": [
    {
     "data": {
      "text/html": [
       "<div>\n",
       "<style scoped>\n",
       "    .dataframe tbody tr th:only-of-type {\n",
       "        vertical-align: middle;\n",
       "    }\n",
       "\n",
       "    .dataframe tbody tr th {\n",
       "        vertical-align: top;\n",
       "    }\n",
       "\n",
       "    .dataframe thead th {\n",
       "        text-align: right;\n",
       "    }\n",
       "</style>\n",
       "<table border=\"1\" class=\"dataframe\">\n",
       "  <thead>\n",
       "    <tr style=\"text-align: right;\">\n",
       "      <th></th>\n",
       "      <th>Loan_ID</th>\n",
       "      <th>Gender</th>\n",
       "      <th>Married</th>\n",
       "      <th>Dependents</th>\n",
       "      <th>Education</th>\n",
       "      <th>Self_Employed</th>\n",
       "      <th>ApplicantIncome</th>\n",
       "      <th>CoapplicantIncome</th>\n",
       "      <th>LoanAmount</th>\n",
       "      <th>Loan_Amount_Term</th>\n",
       "      <th>Credit_History</th>\n",
       "      <th>Property_Area</th>\n",
       "      <th>Loan_Status</th>\n",
       "    </tr>\n",
       "  </thead>\n",
       "  <tbody>\n",
       "    <tr>\n",
       "      <th>0</th>\n",
       "      <td>LP001002</td>\n",
       "      <td>Male</td>\n",
       "      <td>No</td>\n",
       "      <td>0</td>\n",
       "      <td>Graduate</td>\n",
       "      <td>No</td>\n",
       "      <td>5849</td>\n",
       "      <td>0.0</td>\n",
       "      <td>NaN</td>\n",
       "      <td>360.0</td>\n",
       "      <td>1.0</td>\n",
       "      <td>Urban</td>\n",
       "      <td>Y</td>\n",
       "    </tr>\n",
       "    <tr>\n",
       "      <th>1</th>\n",
       "      <td>LP001003</td>\n",
       "      <td>Male</td>\n",
       "      <td>Yes</td>\n",
       "      <td>1</td>\n",
       "      <td>Graduate</td>\n",
       "      <td>No</td>\n",
       "      <td>4583</td>\n",
       "      <td>1508.0</td>\n",
       "      <td>128.0</td>\n",
       "      <td>360.0</td>\n",
       "      <td>1.0</td>\n",
       "      <td>Rural</td>\n",
       "      <td>N</td>\n",
       "    </tr>\n",
       "    <tr>\n",
       "      <th>2</th>\n",
       "      <td>LP001005</td>\n",
       "      <td>Male</td>\n",
       "      <td>Yes</td>\n",
       "      <td>0</td>\n",
       "      <td>Graduate</td>\n",
       "      <td>Yes</td>\n",
       "      <td>3000</td>\n",
       "      <td>0.0</td>\n",
       "      <td>66.0</td>\n",
       "      <td>360.0</td>\n",
       "      <td>1.0</td>\n",
       "      <td>Urban</td>\n",
       "      <td>Y</td>\n",
       "    </tr>\n",
       "  </tbody>\n",
       "</table>\n",
       "</div>"
      ],
      "text/plain": [
       "    Loan_ID Gender Married Dependents Education Self_Employed  \\\n",
       "0  LP001002   Male      No          0  Graduate            No   \n",
       "1  LP001003   Male     Yes          1  Graduate            No   \n",
       "2  LP001005   Male     Yes          0  Graduate           Yes   \n",
       "\n",
       "   ApplicantIncome  CoapplicantIncome  LoanAmount  Loan_Amount_Term  \\\n",
       "0             5849                0.0         NaN             360.0   \n",
       "1             4583             1508.0       128.0             360.0   \n",
       "2             3000                0.0        66.0             360.0   \n",
       "\n",
       "   Credit_History Property_Area Loan_Status  \n",
       "0             1.0         Urban           Y  \n",
       "1             1.0         Rural           N  \n",
       "2             1.0         Urban           Y  "
      ]
     },
     "execution_count": 804,
     "metadata": {},
     "output_type": "execute_result"
    }
   ],
   "source": [
    "# load the dataset\n",
    "data=pd.read_csv(\"data/loan.csv\")\n",
    "data.head(3)"
   ]
  },
  {
   "cell_type": "code",
   "execution_count": 805,
   "id": "2f193184",
   "metadata": {},
   "outputs": [
    {
     "data": {
      "text/html": [
       "<div>\n",
       "<style scoped>\n",
       "    .dataframe tbody tr th:only-of-type {\n",
       "        vertical-align: middle;\n",
       "    }\n",
       "\n",
       "    .dataframe tbody tr th {\n",
       "        vertical-align: top;\n",
       "    }\n",
       "\n",
       "    .dataframe thead th {\n",
       "        text-align: right;\n",
       "    }\n",
       "</style>\n",
       "<table border=\"1\" class=\"dataframe\">\n",
       "  <thead>\n",
       "    <tr style=\"text-align: right;\">\n",
       "      <th></th>\n",
       "      <th>Gender</th>\n",
       "      <th>Dependents</th>\n",
       "      <th>Education</th>\n",
       "      <th>Self_Employed</th>\n",
       "      <th>ApplicantIncome</th>\n",
       "      <th>CoapplicantIncome</th>\n",
       "      <th>LoanAmount</th>\n",
       "      <th>Loan_Amount_Term</th>\n",
       "      <th>Credit_History</th>\n",
       "      <th>Property_Area</th>\n",
       "      <th>Loan_Status</th>\n",
       "    </tr>\n",
       "  </thead>\n",
       "  <tbody>\n",
       "    <tr>\n",
       "      <th>0</th>\n",
       "      <td>0</td>\n",
       "      <td>0</td>\n",
       "      <td>1</td>\n",
       "      <td>0</td>\n",
       "      <td>5849</td>\n",
       "      <td>0.0</td>\n",
       "      <td>4.852030</td>\n",
       "      <td>360.0</td>\n",
       "      <td>1.0</td>\n",
       "      <td>1</td>\n",
       "      <td>1</td>\n",
       "    </tr>\n",
       "    <tr>\n",
       "      <th>1</th>\n",
       "      <td>0</td>\n",
       "      <td>1</td>\n",
       "      <td>1</td>\n",
       "      <td>0</td>\n",
       "      <td>4583</td>\n",
       "      <td>1508.0</td>\n",
       "      <td>4.852030</td>\n",
       "      <td>360.0</td>\n",
       "      <td>1.0</td>\n",
       "      <td>0</td>\n",
       "      <td>0</td>\n",
       "    </tr>\n",
       "    <tr>\n",
       "      <th>2</th>\n",
       "      <td>0</td>\n",
       "      <td>0</td>\n",
       "      <td>1</td>\n",
       "      <td>1</td>\n",
       "      <td>3000</td>\n",
       "      <td>0.0</td>\n",
       "      <td>4.189655</td>\n",
       "      <td>360.0</td>\n",
       "      <td>1.0</td>\n",
       "      <td>1</td>\n",
       "      <td>1</td>\n",
       "    </tr>\n",
       "  </tbody>\n",
       "</table>\n",
       "</div>"
      ],
      "text/plain": [
       "   Gender Dependents  Education  Self_Employed  ApplicantIncome  \\\n",
       "0       0          0          1              0             5849   \n",
       "1       0          1          1              0             4583   \n",
       "2       0          0          1              1             3000   \n",
       "\n",
       "   CoapplicantIncome  LoanAmount  Loan_Amount_Term  Credit_History  \\\n",
       "0                0.0    4.852030             360.0             1.0   \n",
       "1             1508.0    4.852030             360.0             1.0   \n",
       "2                0.0    4.189655             360.0             1.0   \n",
       "\n",
       "   Property_Area  Loan_Status  \n",
       "0              1            1  \n",
       "1              0            0  \n",
       "2              1            1  "
      ]
     },
     "execution_count": 805,
     "metadata": {},
     "output_type": "execute_result"
    }
   ],
   "source": [
    "# Preprocessed data \n",
    "# refer the previous work in the same jupyter notebook to obtain the preprocessed data\n",
    "data1.head(3)"
   ]
  },
  {
   "cell_type": "code",
   "execution_count": 806,
   "id": "396e6342",
   "metadata": {},
   "outputs": [],
   "source": [
    "# Create train and test datasets\n",
    "from sklearn.model_selection import train_test_split"
   ]
  },
  {
   "cell_type": "code",
   "execution_count": 807,
   "id": "a1bab286",
   "metadata": {},
   "outputs": [],
   "source": [
    "# split the data and label\n",
    "X = data1.drop(columns=['Loan_Status'],axis=1)   # independent variable / predictor variable / input varaible\n",
    "Y = data1['Loan_Status']        # dependent variable / response variable / output variable /target variable"
   ]
  },
  {
   "cell_type": "code",
   "execution_count": 808,
   "id": "67f4d562",
   "metadata": {},
   "outputs": [
    {
     "data": {
      "text/html": [
       "<div>\n",
       "<style scoped>\n",
       "    .dataframe tbody tr th:only-of-type {\n",
       "        vertical-align: middle;\n",
       "    }\n",
       "\n",
       "    .dataframe tbody tr th {\n",
       "        vertical-align: top;\n",
       "    }\n",
       "\n",
       "    .dataframe thead th {\n",
       "        text-align: right;\n",
       "    }\n",
       "</style>\n",
       "<table border=\"1\" class=\"dataframe\">\n",
       "  <thead>\n",
       "    <tr style=\"text-align: right;\">\n",
       "      <th></th>\n",
       "      <th>Gender</th>\n",
       "      <th>Dependents</th>\n",
       "      <th>Education</th>\n",
       "      <th>Self_Employed</th>\n",
       "      <th>ApplicantIncome</th>\n",
       "      <th>CoapplicantIncome</th>\n",
       "      <th>LoanAmount</th>\n",
       "      <th>Loan_Amount_Term</th>\n",
       "      <th>Credit_History</th>\n",
       "      <th>Property_Area</th>\n",
       "    </tr>\n",
       "  </thead>\n",
       "  <tbody>\n",
       "    <tr>\n",
       "      <th>0</th>\n",
       "      <td>0</td>\n",
       "      <td>0</td>\n",
       "      <td>1</td>\n",
       "      <td>0</td>\n",
       "      <td>5849</td>\n",
       "      <td>0.0</td>\n",
       "      <td>4.852030</td>\n",
       "      <td>360.0</td>\n",
       "      <td>1.0</td>\n",
       "      <td>1</td>\n",
       "    </tr>\n",
       "    <tr>\n",
       "      <th>1</th>\n",
       "      <td>0</td>\n",
       "      <td>1</td>\n",
       "      <td>1</td>\n",
       "      <td>0</td>\n",
       "      <td>4583</td>\n",
       "      <td>1508.0</td>\n",
       "      <td>4.852030</td>\n",
       "      <td>360.0</td>\n",
       "      <td>1.0</td>\n",
       "      <td>0</td>\n",
       "    </tr>\n",
       "    <tr>\n",
       "      <th>2</th>\n",
       "      <td>0</td>\n",
       "      <td>0</td>\n",
       "      <td>1</td>\n",
       "      <td>1</td>\n",
       "      <td>3000</td>\n",
       "      <td>0.0</td>\n",
       "      <td>4.189655</td>\n",
       "      <td>360.0</td>\n",
       "      <td>1.0</td>\n",
       "      <td>1</td>\n",
       "    </tr>\n",
       "  </tbody>\n",
       "</table>\n",
       "</div>"
      ],
      "text/plain": [
       "   Gender Dependents  Education  Self_Employed  ApplicantIncome  \\\n",
       "0       0          0          1              0             5849   \n",
       "1       0          1          1              0             4583   \n",
       "2       0          0          1              1             3000   \n",
       "\n",
       "   CoapplicantIncome  LoanAmount  Loan_Amount_Term  Credit_History  \\\n",
       "0                0.0    4.852030             360.0             1.0   \n",
       "1             1508.0    4.852030             360.0             1.0   \n",
       "2                0.0    4.189655             360.0             1.0   \n",
       "\n",
       "   Property_Area  \n",
       "0              1  \n",
       "1              0  \n",
       "2              1  "
      ]
     },
     "execution_count": 808,
     "metadata": {},
     "output_type": "execute_result"
    }
   ],
   "source": [
    "X.head(3)"
   ]
  },
  {
   "cell_type": "code",
   "execution_count": 809,
   "id": "c688a22c",
   "metadata": {},
   "outputs": [
    {
     "data": {
      "text/plain": [
       "0    1\n",
       "1    0\n",
       "2    1\n",
       "Name: Loan_Status, dtype: int64"
      ]
     },
     "execution_count": 809,
     "metadata": {},
     "output_type": "execute_result"
    }
   ],
   "source": [
    "Y.head(3)"
   ]
  },
  {
   "cell_type": "code",
   "execution_count": 810,
   "id": "d0cd1c71",
   "metadata": {},
   "outputs": [],
   "source": [
    "# Simple Linear regression Equation (with one dependent variable)\n",
    "# y=b0+b1*x+e\n",
    "# y=c+mx\n",
    "\n",
    "# Multiple Linear regression Equation (with more than one dependent variable)\n",
    "# y  = b0 + (b1*x1) + (b2*x2) + (b3 *x3)+.......+(b10*x10)"
   ]
  },
  {
   "cell_type": "code",
   "execution_count": 811,
   "id": "df817af2",
   "metadata": {},
   "outputs": [
    {
     "name": "stdout",
     "output_type": "stream",
     "text": [
      "1    0.687296\n",
      "0    0.312704\n",
      "Name: Loan_Status, dtype: float64\n",
      "1    0.687646\n",
      "0    0.312354\n",
      "Name: Loan_Status, dtype: float64\n"
     ]
    }
   ],
   "source": [
    "X_train,X_test,Y_train,Y_test=train_test_split(X,Y,test_size=0.3,random_state=42,stratify=Y)\n",
    "# X_train: training data set 70% of the original data\n",
    "# Y_train: target variable corresponding to the training data set\n",
    "# X_test: testing data set 30% of the original data\n",
    "# Y_test: target variable corresponding to the test data set \n",
    "# stratify is used with respect to the target variable (loan_status(0,1)) to maintain the proportion of \n",
    "# each value of the target in train as well as test dataset same as the orignal dataset\n",
    "print(data1['Loan_Status'].value_counts(normalize=True))\n",
    "print(Y_train.value_counts(normalize=True))"
   ]
  },
  {
   "cell_type": "code",
   "execution_count": 812,
   "id": "885f798f",
   "metadata": {},
   "outputs": [],
   "source": [
    "# # without stratify\n",
    "# X_train,X_test,Y_train,Y_test=train_test_split(X,Y,test_size=0.3,random_state=42)\n",
    "# # stratify is used with respect to the target variable (loan_status(0,1))\n",
    "# print(data1['Loan_Status'].value_counts(normalize=True))\n",
    "# print(Y_train.value_counts(normalize=True))\n",
    "# print(Y_test.value_counts(normalize=True))"
   ]
  },
  {
   "cell_type": "code",
   "execution_count": 813,
   "id": "5f7dfd7a",
   "metadata": {},
   "outputs": [
    {
     "name": "stdout",
     "output_type": "stream",
     "text": [
      "(614, 10) (185, 10) (429, 10)\n"
     ]
    }
   ],
   "source": [
    "print(X.shape,X_test.shape,X_train.shape)"
   ]
  },
  {
   "cell_type": "code",
   "execution_count": 814,
   "id": "e433b65a",
   "metadata": {},
   "outputs": [],
   "source": [
    "# Build Linear model and fit the regression Line using 'OLS'\n",
    "# import scipy.stats as st \n",
    "# import statsmodels.api as sm\n",
    "# Add a constant to get the intercept\n",
    "# X_train1=sm.add_constant(X_train)\n",
    "# X_train1.head(10)"
   ]
  },
  {
   "cell_type": "code",
   "execution_count": 815,
   "id": "2be9d707",
   "metadata": {},
   "outputs": [
    {
     "data": {
      "text/plain": [
       "Gender               0\n",
       "Dependents           0\n",
       "Education            0\n",
       "Self_Employed        0\n",
       "ApplicantIncome      0\n",
       "CoapplicantIncome    0\n",
       "LoanAmount           0\n",
       "Loan_Amount_Term     0\n",
       "Credit_History       0\n",
       "Property_Area        0\n",
       "Loan_Status          0\n",
       "dtype: int64"
      ]
     },
     "execution_count": 815,
     "metadata": {},
     "output_type": "execute_result"
    }
   ],
   "source": [
    "data1.isnull().sum()"
   ]
  },
  {
   "cell_type": "code",
   "execution_count": 816,
   "id": "2c375359",
   "metadata": {},
   "outputs": [
    {
     "data": {
      "text/html": [
       "<div>\n",
       "<style scoped>\n",
       "    .dataframe tbody tr th:only-of-type {\n",
       "        vertical-align: middle;\n",
       "    }\n",
       "\n",
       "    .dataframe tbody tr th {\n",
       "        vertical-align: top;\n",
       "    }\n",
       "\n",
       "    .dataframe thead th {\n",
       "        text-align: right;\n",
       "    }\n",
       "</style>\n",
       "<table border=\"1\" class=\"dataframe\">\n",
       "  <thead>\n",
       "    <tr style=\"text-align: right;\">\n",
       "      <th></th>\n",
       "      <th>Gender</th>\n",
       "      <th>Dependents</th>\n",
       "      <th>Education</th>\n",
       "      <th>Self_Employed</th>\n",
       "      <th>ApplicantIncome</th>\n",
       "      <th>CoapplicantIncome</th>\n",
       "      <th>LoanAmount</th>\n",
       "      <th>Loan_Amount_Term</th>\n",
       "      <th>Credit_History</th>\n",
       "      <th>Property_Area</th>\n",
       "      <th>Loan_Status</th>\n",
       "    </tr>\n",
       "  </thead>\n",
       "  <tbody>\n",
       "    <tr>\n",
       "      <th>0</th>\n",
       "      <td>0</td>\n",
       "      <td>0</td>\n",
       "      <td>1</td>\n",
       "      <td>0</td>\n",
       "      <td>5849</td>\n",
       "      <td>0.0</td>\n",
       "      <td>4.852030</td>\n",
       "      <td>360.0</td>\n",
       "      <td>1.0</td>\n",
       "      <td>1</td>\n",
       "      <td>1</td>\n",
       "    </tr>\n",
       "    <tr>\n",
       "      <th>1</th>\n",
       "      <td>0</td>\n",
       "      <td>1</td>\n",
       "      <td>1</td>\n",
       "      <td>0</td>\n",
       "      <td>4583</td>\n",
       "      <td>1508.0</td>\n",
       "      <td>4.852030</td>\n",
       "      <td>360.0</td>\n",
       "      <td>1.0</td>\n",
       "      <td>0</td>\n",
       "      <td>0</td>\n",
       "    </tr>\n",
       "    <tr>\n",
       "      <th>2</th>\n",
       "      <td>0</td>\n",
       "      <td>0</td>\n",
       "      <td>1</td>\n",
       "      <td>1</td>\n",
       "      <td>3000</td>\n",
       "      <td>0.0</td>\n",
       "      <td>4.189655</td>\n",
       "      <td>360.0</td>\n",
       "      <td>1.0</td>\n",
       "      <td>1</td>\n",
       "      <td>1</td>\n",
       "    </tr>\n",
       "  </tbody>\n",
       "</table>\n",
       "</div>"
      ],
      "text/plain": [
       "   Gender Dependents  Education  Self_Employed  ApplicantIncome  \\\n",
       "0       0          0          1              0             5849   \n",
       "1       0          1          1              0             4583   \n",
       "2       0          0          1              1             3000   \n",
       "\n",
       "   CoapplicantIncome  LoanAmount  Loan_Amount_Term  Credit_History  \\\n",
       "0                0.0    4.852030             360.0             1.0   \n",
       "1             1508.0    4.852030             360.0             1.0   \n",
       "2                0.0    4.189655             360.0             1.0   \n",
       "\n",
       "   Property_Area  Loan_Status  \n",
       "0              1            1  \n",
       "1              0            0  \n",
       "2              1            1  "
      ]
     },
     "execution_count": 816,
     "metadata": {},
     "output_type": "execute_result"
    }
   ],
   "source": [
    "data1.head(3)"
   ]
  },
  {
   "cell_type": "code",
   "execution_count": 817,
   "id": "9241adc7",
   "metadata": {},
   "outputs": [
    {
     "data": {
      "text/html": [
       "<style>#sk-container-id-5 {color: black;background-color: white;}#sk-container-id-5 pre{padding: 0;}#sk-container-id-5 div.sk-toggleable {background-color: white;}#sk-container-id-5 label.sk-toggleable__label {cursor: pointer;display: block;width: 100%;margin-bottom: 0;padding: 0.3em;box-sizing: border-box;text-align: center;}#sk-container-id-5 label.sk-toggleable__label-arrow:before {content: \"▸\";float: left;margin-right: 0.25em;color: #696969;}#sk-container-id-5 label.sk-toggleable__label-arrow:hover:before {color: black;}#sk-container-id-5 div.sk-estimator:hover label.sk-toggleable__label-arrow:before {color: black;}#sk-container-id-5 div.sk-toggleable__content {max-height: 0;max-width: 0;overflow: hidden;text-align: left;background-color: #f0f8ff;}#sk-container-id-5 div.sk-toggleable__content pre {margin: 0.2em;color: black;border-radius: 0.25em;background-color: #f0f8ff;}#sk-container-id-5 input.sk-toggleable__control:checked~div.sk-toggleable__content {max-height: 200px;max-width: 100%;overflow: auto;}#sk-container-id-5 input.sk-toggleable__control:checked~label.sk-toggleable__label-arrow:before {content: \"▾\";}#sk-container-id-5 div.sk-estimator input.sk-toggleable__control:checked~label.sk-toggleable__label {background-color: #d4ebff;}#sk-container-id-5 div.sk-label input.sk-toggleable__control:checked~label.sk-toggleable__label {background-color: #d4ebff;}#sk-container-id-5 input.sk-hidden--visually {border: 0;clip: rect(1px 1px 1px 1px);clip: rect(1px, 1px, 1px, 1px);height: 1px;margin: -1px;overflow: hidden;padding: 0;position: absolute;width: 1px;}#sk-container-id-5 div.sk-estimator {font-family: monospace;background-color: #f0f8ff;border: 1px dotted black;border-radius: 0.25em;box-sizing: border-box;margin-bottom: 0.5em;}#sk-container-id-5 div.sk-estimator:hover {background-color: #d4ebff;}#sk-container-id-5 div.sk-parallel-item::after {content: \"\";width: 100%;border-bottom: 1px solid gray;flex-grow: 1;}#sk-container-id-5 div.sk-label:hover label.sk-toggleable__label {background-color: #d4ebff;}#sk-container-id-5 div.sk-serial::before {content: \"\";position: absolute;border-left: 1px solid gray;box-sizing: border-box;top: 0;bottom: 0;left: 50%;z-index: 0;}#sk-container-id-5 div.sk-serial {display: flex;flex-direction: column;align-items: center;background-color: white;padding-right: 0.2em;padding-left: 0.2em;position: relative;}#sk-container-id-5 div.sk-item {position: relative;z-index: 1;}#sk-container-id-5 div.sk-parallel {display: flex;align-items: stretch;justify-content: center;background-color: white;position: relative;}#sk-container-id-5 div.sk-item::before, #sk-container-id-5 div.sk-parallel-item::before {content: \"\";position: absolute;border-left: 1px solid gray;box-sizing: border-box;top: 0;bottom: 0;left: 50%;z-index: -1;}#sk-container-id-5 div.sk-parallel-item {display: flex;flex-direction: column;z-index: 1;position: relative;background-color: white;}#sk-container-id-5 div.sk-parallel-item:first-child::after {align-self: flex-end;width: 50%;}#sk-container-id-5 div.sk-parallel-item:last-child::after {align-self: flex-start;width: 50%;}#sk-container-id-5 div.sk-parallel-item:only-child::after {width: 0;}#sk-container-id-5 div.sk-dashed-wrapped {border: 1px dashed gray;margin: 0 0.4em 0.5em 0.4em;box-sizing: border-box;padding-bottom: 0.4em;background-color: white;}#sk-container-id-5 div.sk-label label {font-family: monospace;font-weight: bold;display: inline-block;line-height: 1.2em;}#sk-container-id-5 div.sk-label-container {text-align: center;}#sk-container-id-5 div.sk-container {/* jupyter's `normalize.less` sets `[hidden] { display: none; }` but bootstrap.min.css set `[hidden] { display: none !important; }` so we also need the `!important` here to be able to override the default hidden behavior on the sphinx rendered scikit-learn.org. See: https://github.com/scikit-learn/scikit-learn/issues/21755 */display: inline-block !important;position: relative;}#sk-container-id-5 div.sk-text-repr-fallback {display: none;}</style><div id=\"sk-container-id-5\" class=\"sk-top-container\"><div class=\"sk-text-repr-fallback\"><pre>LinearRegression()</pre><b>In a Jupyter environment, please rerun this cell to show the HTML representation or trust the notebook. <br />On GitHub, the HTML representation is unable to render, please try loading this page with nbviewer.org.</b></div><div class=\"sk-container\" hidden><div class=\"sk-item\"><div class=\"sk-estimator sk-toggleable\"><input class=\"sk-toggleable__control sk-hidden--visually\" id=\"sk-estimator-id-5\" type=\"checkbox\" checked><label for=\"sk-estimator-id-5\" class=\"sk-toggleable__label sk-toggleable__label-arrow\">LinearRegression</label><div class=\"sk-toggleable__content\"><pre>LinearRegression()</pre></div></div></div></div></div>"
      ],
      "text/plain": [
       "LinearRegression()"
      ]
     },
     "execution_count": 817,
     "metadata": {},
     "output_type": "execute_result"
    }
   ],
   "source": [
    "model=LinearRegression() # creates an instance \n",
    "model.fit(X_train,Y_train) # fit the model to the data"
   ]
  },
  {
   "cell_type": "code",
   "execution_count": null,
   "id": "f0ee071c",
   "metadata": {},
   "outputs": [],
   "source": []
  },
  {
   "cell_type": "code",
   "execution_count": 818,
   "id": "1861b317",
   "metadata": {},
   "outputs": [
    {
     "name": "stdout",
     "output_type": "stream",
     "text": [
      "-0.07253728421735228\n"
     ]
    }
   ],
   "source": [
    "# model output\n",
    "# obtain the intercept of the regression line equation\n",
    "print(model.intercept_)"
   ]
  },
  {
   "cell_type": "code",
   "execution_count": 819,
   "id": "0314961a",
   "metadata": {},
   "outputs": [
    {
     "name": "stdout",
     "output_type": "stream",
     "text": [
      "[-2.38253552e-02  3.02072302e-02  8.31220036e-02 -3.78932294e-02\n",
      " -9.90161945e-07 -8.74649605e-06  1.49732988e-02 -6.16877918e-05\n",
      "  6.65104071e-01  6.26577999e-02]\n"
     ]
    }
   ],
   "source": [
    "# obtain the sploe of the regression line equation\n",
    "print(model.coef_)"
   ]
  },
  {
   "cell_type": "code",
   "execution_count": 820,
   "id": "0a6ae0ae",
   "metadata": {},
   "outputs": [],
   "source": [
    "# y  = b0 + (b1*x1) + (b2*x2) + (b3 *x3)+.......+(b10*x10)\n",
    "# Loan_Status = -0.033537750976353586 + (-0.00172)*Gender + (0.0318)*Dependents + ...........+(0.709)*Credit_History + (0.0741)* Property_Area"
   ]
  },
  {
   "cell_type": "code",
   "execution_count": 821,
   "id": "411ee1f9",
   "metadata": {},
   "outputs": [],
   "source": [
    "# -1.71879947e-03 = -0.00172\n",
    "# 3.17903986e-02 = 0.0318\n",
    "# .\n",
    "# .\n",
    "# .\n",
    "# .\n",
    "# .\n",
    "# .\n",
    "# 7.09384958e-01 = 0.709\n",
    "# 7.41414849e-02 = 0.0741"
   ]
  },
  {
   "cell_type": "code",
   "execution_count": 822,
   "id": "181b6461",
   "metadata": {},
   "outputs": [
    {
     "name": "stdout",
     "output_type": "stream",
     "text": [
      "185\n",
      "[0.83, 0.75, 0.85, 0.79, 0.7, 0.84, 0.96, 0.93, 0.71, 0.84, 0.73, 0.79, 0.09, 0.74, 0.82, 0.84, 0.83, 0.82, 0.79, 0.74, 0.74, 0.74, 0.14, 0.76, 0.65, 0.71, 0.7, 0.07, 0.78, 0.24, 0.12, 0.77, 0.84, 0.74, 0.49, 0.7, 0.23, 0.76, 0.05, 0.02, 0.7, 0.81, 0.83, 0.78, 0.71, 0.91, 0.83, 0.72, 0.78, 0.85, 0.64, 0.62, 0.8, 0.14, 0.18, 0.82, 0.16, 0.83, 0.82, 0.73, 0.84, 0.7, 0.72, 0.08, 0.74, 0.72, 0.84, 0.77, 0.69, 0.86, 0.75, 0.64, 0.08, 0.01, 0.81, 0.75, 0.72, 0.17, 0.91, 0.2, 0.72, 0.83, 0.58, 0.09, 0.82, 0.85, 0.71, 0.81, 0.62, 0.69, 0.89, 0.8, 0.82, 0.77, 0.78, 0.76, 0.97, 0.7, -0.05, 0.86, 0.83, 0.64, 0.9, 0.79, 0.11, 0.89, 0.73, 0.06, 0.2, 0.29, 0.25, 0.01, 0.12, 0.9, 0.01, 0.75, 0.81, 0.8, 0.88, 0.16, 0.83, 0.82, 0.72, 0.88, 0.75, 0.83, 0.73, 0.76, 0.79, 0.73, 0.69, 0.72, 0.76, 0.71, 0.71, 0.76, 0.1, 0.75, 0.74, 0.75, 0.83, 0.16, 0.78, 0.7, 0.8, 0.69, 0.05, 0.76, 0.62, 0.65, 0.76, 0.83, 0.77, 0.65, 0.76, 0.81, 0.76, 0.14, 0.9, 0.83, 0.79, 0.79, 0.83, 0.85, 0.84, 0.15, 0.61, 0.87, 0.9, 0.87, 0.62, 0.62, 0.7, 0.68, 0.78, 0.22, 0.83, 0.6, 0.09, 0.83, 0.8, 0.66, 0.82, 0.86, 0.78]\n"
     ]
    }
   ],
   "source": [
    "# Use the model for prediction\n",
    "# using the test data set for prediction\n",
    "Loan_Status_Predict=model.predict(X_test)\n",
    "Loan_Status_Predict=[round(i,2) for i in Loan_Status_Predict]\n",
    "print(len(Loan_Status_Predict))\n",
    "print(Loan_Status_Predict)"
   ]
  },
  {
   "cell_type": "code",
   "execution_count": 823,
   "id": "50c2c768",
   "metadata": {},
   "outputs": [
    {
     "data": {
      "text/html": [
       "<div>\n",
       "<style scoped>\n",
       "    .dataframe tbody tr th:only-of-type {\n",
       "        vertical-align: middle;\n",
       "    }\n",
       "\n",
       "    .dataframe tbody tr th {\n",
       "        vertical-align: top;\n",
       "    }\n",
       "\n",
       "    .dataframe thead th {\n",
       "        text-align: right;\n",
       "    }\n",
       "</style>\n",
       "<table border=\"1\" class=\"dataframe\">\n",
       "  <thead>\n",
       "    <tr style=\"text-align: right;\">\n",
       "      <th></th>\n",
       "      <th>Actual</th>\n",
       "      <th>Predicted</th>\n",
       "    </tr>\n",
       "  </thead>\n",
       "  <tbody>\n",
       "    <tr>\n",
       "      <th>433</th>\n",
       "      <td>1</td>\n",
       "      <td>0.83</td>\n",
       "    </tr>\n",
       "    <tr>\n",
       "      <th>415</th>\n",
       "      <td>1</td>\n",
       "      <td>0.75</td>\n",
       "    </tr>\n",
       "    <tr>\n",
       "      <th>144</th>\n",
       "      <td>1</td>\n",
       "      <td>0.85</td>\n",
       "    </tr>\n",
       "    <tr>\n",
       "      <th>522</th>\n",
       "      <td>1</td>\n",
       "      <td>0.79</td>\n",
       "    </tr>\n",
       "    <tr>\n",
       "      <th>493</th>\n",
       "      <td>1</td>\n",
       "      <td>0.70</td>\n",
       "    </tr>\n",
       "    <tr>\n",
       "      <th>...</th>\n",
       "      <td>...</td>\n",
       "      <td>...</td>\n",
       "    </tr>\n",
       "    <tr>\n",
       "      <th>86</th>\n",
       "      <td>1</td>\n",
       "      <td>0.80</td>\n",
       "    </tr>\n",
       "    <tr>\n",
       "      <th>500</th>\n",
       "      <td>1</td>\n",
       "      <td>0.66</td>\n",
       "    </tr>\n",
       "    <tr>\n",
       "      <th>381</th>\n",
       "      <td>1</td>\n",
       "      <td>0.82</td>\n",
       "    </tr>\n",
       "    <tr>\n",
       "      <th>219</th>\n",
       "      <td>1</td>\n",
       "      <td>0.86</td>\n",
       "    </tr>\n",
       "    <tr>\n",
       "      <th>147</th>\n",
       "      <td>1</td>\n",
       "      <td>0.78</td>\n",
       "    </tr>\n",
       "  </tbody>\n",
       "</table>\n",
       "<p>185 rows × 2 columns</p>\n",
       "</div>"
      ],
      "text/plain": [
       "     Actual  Predicted\n",
       "433       1       0.83\n",
       "415       1       0.75\n",
       "144       1       0.85\n",
       "522       1       0.79\n",
       "493       1       0.70\n",
       "..      ...        ...\n",
       "86        1       0.80\n",
       "500       1       0.66\n",
       "381       1       0.82\n",
       "219       1       0.86\n",
       "147       1       0.78\n",
       "\n",
       "[185 rows x 2 columns]"
      ]
     },
     "execution_count": 823,
     "metadata": {},
     "output_type": "execute_result"
    }
   ],
   "source": [
    "Act_Pred=pd.DataFrame({'Actual':Y_test,'Predicted':Loan_Status_Predict})\n",
    "Act_Pred"
   ]
  },
  {
   "cell_type": "markdown",
   "id": "8f628fcf",
   "metadata": {},
   "source": [
    "## Model Evaluation Metrics"
   ]
  },
  {
   "cell_type": "markdown",
   "id": "b9c5cd79",
   "metadata": {},
   "source": [
    "### Error : difference between the Actual and predicted values\n",
    "    \n",
    "#### MSE :Mean Squared Error\n",
    "* Measure the average(mean) squared difference between the predicted and the actual values\n",
    "\n",
    "#### MAE: Mean Absolute Error\n",
    "* Measure the average(mean) absolute difference between the predicted and the actual values\n",
    "\n",
    "#### RMSE: Root Mean Squred Error\n",
    "* Square root of MSE\n",
    "\n",
    "#### MAPE: Mean absolute percentage Error\n",
    "\n",
    "#### R-squared (R^2): \n",
    "* R-square or the coefficient of determination is a metric used to evaluate the regression model.\n",
    "* it measures the independent variable impact on the depenedent variable\n",
    "* ranges between 0 to 1\n",
    "* R^2=0 the model does not explain any of the variance in the dependent variable. Poor fit.\n",
    "* R^2=1 Excellent model. All the variance in the dependent variable is explained.\n",
    "\n",
    "#### R^2=1-[(sum of the squared differences between the actual dependent values and predicted values)/(Sum of squared differences between the actual dependent values and the mean of the dependent values)"
   ]
  },
  {
   "attachments": {
    "R%20square.png": {
     "image/png": "[encoded data removed]"
    }
   },
   "cell_type": "markdown",
   "id": "867dc6ea",
   "metadata": {},
   "source": [
    "![R%20square.png](attachment:R%20square.png)"
   ]
  },
  {
   "cell_type": "code",
   "execution_count": 825,
   "id": "77a59634",
   "metadata": {},
   "outputs": [],
   "source": [
    "from sklearn import metrics"
   ]
  },
  {
   "cell_type": "code",
   "execution_count": 826,
   "id": "7556cd7d",
   "metadata": {},
   "outputs": [
    {
     "name": "stdout",
     "output_type": "stream",
     "text": [
      " The R Squared Score  0.3980165355580265\n"
     ]
    }
   ],
   "source": [
    "print(\" The R Squared Score \", model.score(X_test,Y_test))\n",
    "# calculating the R2 score using the model on the X_test and comparing the  predictions with the Y_test"
   ]
  },
  {
   "cell_type": "code",
   "execution_count": 827,
   "id": "234d9cec",
   "metadata": {},
   "outputs": [
    {
     "name": "stdout",
     "output_type": "stream",
     "text": [
      " The R Squared Score  0.308391904695857\n"
     ]
    }
   ],
   "source": [
    "print(\" The R Squared Score \", model.score(X,Y))"
   ]
  },
  {
   "cell_type": "code",
   "execution_count": 828,
   "id": "5904b89d",
   "metadata": {},
   "outputs": [
    {
     "name": "stdout",
     "output_type": "stream",
     "text": [
      "0.2873513513513513\n"
     ]
    }
   ],
   "source": [
    "# MAE\n",
    "MAE=metrics.mean_absolute_error(Y_test,Loan_Status_Predict)\n",
    "print(MAE)"
   ]
  },
  {
   "cell_type": "code",
   "execution_count": 829,
   "id": "85379e23",
   "metadata": {},
   "outputs": [
    {
     "name": "stdout",
     "output_type": "stream",
     "text": [
      "0.12959027027027026\n"
     ]
    }
   ],
   "source": [
    "# MSE\n",
    "MSE=metrics.mean_squared_error(Y_test,Loan_Status_Predict)\n",
    "print(MSE)"
   ]
  },
  {
   "cell_type": "code",
   "execution_count": 830,
   "id": "1ac33f3f",
   "metadata": {},
   "outputs": [
    {
     "name": "stdout",
     "output_type": "stream",
     "text": [
      "0.35998648623284496\n"
     ]
    }
   ],
   "source": [
    "# RMSE\n",
    "RMSE=np.sqrt(metrics.mean_squared_error(Y_test,Loan_Status_Predict))\n",
    "print(RMSE)"
   ]
  },
  {
   "cell_type": "code",
   "execution_count": 831,
   "id": "32a74b84",
   "metadata": {},
   "outputs": [],
   "source": [
    "# Act_Pred['Actual']\n",
    "# Act_Pred['Predicted']\n",
    "# print(abs((Act_Pred['Actual']-Act_Pred['Predicted'])))\n",
    "# print(abs((Act_Pred['Actual']-Act_Pred['Predicted'])/(Act_Pred['Actual'])))\n",
    "# MAPE=abs((Act_Pred['Actual']-Act_Pred['Predicted'])/(Act_Pred['Actual']))*100\n",
    "# MAPE.mean()\n",
    "# MAPE\n",
    "# MAPE=np.mean(abs((Act_Pred['Actual']-Act_Pred['Predicted'])/(Act_Pred['Actual']))*100)\n",
    "# print(MAPE)"
   ]
  },
  {
   "cell_type": "code",
   "execution_count": 832,
   "id": "3f3b91e9",
   "metadata": {},
   "outputs": [],
   "source": [
    "# Adjusted R square\n",
    "# R2 value\n",
    "# number of attributes / variables\n",
    "# number of independent variables used in the model"
   ]
  },
  {
   "cell_type": "code",
   "execution_count": 833,
   "id": "d762e27e",
   "metadata": {},
   "outputs": [],
   "source": [
    "import statsmodels.formula.api as smf"
   ]
  },
  {
   "cell_type": "code",
   "execution_count": null,
   "id": "63a37651",
   "metadata": {},
   "outputs": [],
   "source": []
  },
  {
   "cell_type": "code",
   "execution_count": null,
   "id": "c3de1c25",
   "metadata": {},
   "outputs": [],
   "source": []
  }
 ],
 "metadata": {
  "kernelspec": {
   "display_name": "Python 3 (ipykernel)",
   "language": "python",
   "name": "python3"
  },
  "language_info": {
   "codemirror_mode": {
    "name": "ipython",
    "version": 3
   },
   "file_extension": ".py",
   "mimetype": "text/x-python",
   "name": "python",
   "nbconvert_exporter": "python",
   "pygments_lexer": "ipython3",
   "version": "3.10.9"
  }
 },
 "nbformat": 4,
 "nbformat_minor": 5
}
